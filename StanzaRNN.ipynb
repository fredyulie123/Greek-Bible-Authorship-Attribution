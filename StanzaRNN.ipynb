{
 "cells": [
  {
   "cell_type": "code",
   "execution_count": 65,
   "metadata": {
    "colab": {
     "base_uri": "https://localhost:8080/"
    },
    "id": "P7sLFPYnXWfO",
    "outputId": "a2a2cf63-d9db-443b-bd05-7c6f83d4771c"
   },
   "outputs": [
    {
     "name": "stdout",
     "output_type": "stream",
     "text": [
      "Requirement already satisfied: stanza in /usr/local/lib/python3.6/dist-packages (1.1.1)\n",
      "Requirement already satisfied: protobuf in /usr/local/lib/python3.6/dist-packages (from stanza) (3.12.4)\n",
      "Requirement already satisfied: requests in /usr/local/lib/python3.6/dist-packages (from stanza) (2.23.0)\n",
      "Requirement already satisfied: tqdm in /usr/local/lib/python3.6/dist-packages (from stanza) (4.41.1)\n",
      "Requirement already satisfied: numpy in /usr/local/lib/python3.6/dist-packages (from stanza) (1.18.5)\n",
      "Requirement already satisfied: torch>=1.3.0 in /usr/local/lib/python3.6/dist-packages (from stanza) (1.7.0+cu101)\n",
      "Requirement already satisfied: setuptools in /usr/local/lib/python3.6/dist-packages (from protobuf->stanza) (50.3.2)\n",
      "Requirement already satisfied: six>=1.9 in /usr/local/lib/python3.6/dist-packages (from protobuf->stanza) (1.15.0)\n",
      "Requirement already satisfied: chardet<4,>=3.0.2 in /usr/local/lib/python3.6/dist-packages (from requests->stanza) (3.0.4)\n",
      "Requirement already satisfied: urllib3!=1.25.0,!=1.25.1,<1.26,>=1.21.1 in /usr/local/lib/python3.6/dist-packages (from requests->stanza) (1.24.3)\n",
      "Requirement already satisfied: idna<3,>=2.5 in /usr/local/lib/python3.6/dist-packages (from requests->stanza) (2.10)\n",
      "Requirement already satisfied: certifi>=2017.4.17 in /usr/local/lib/python3.6/dist-packages (from requests->stanza) (2020.11.8)\n",
      "Requirement already satisfied: dataclasses in /usr/local/lib/python3.6/dist-packages (from torch>=1.3.0->stanza) (0.8)\n",
      "Requirement already satisfied: future in /usr/local/lib/python3.6/dist-packages (from torch>=1.3.0->stanza) (0.16.0)\n",
      "Requirement already satisfied: typing-extensions in /usr/local/lib/python3.6/dist-packages (from torch>=1.3.0->stanza) (3.7.4.3)\n"
     ]
    }
   ],
   "source": [
    "pip install stanza"
   ]
  },
  {
   "cell_type": "code",
   "execution_count": 66,
   "metadata": {
    "id": "hFUC2tJoXkSn"
   },
   "outputs": [],
   "source": [
    "import stanza"
   ]
  },
  {
   "cell_type": "code",
   "execution_count": 4,
   "metadata": {
    "colab": {
     "base_uri": "https://localhost:8080/"
    },
    "id": "nE2283f2XqWT",
    "outputId": "3d27796d-8a76-43db-ee13-b94ca0cfc784"
   },
   "outputs": [
    {
     "name": "stderr",
     "output_type": "stream",
     "text": [
      "Downloading https://raw.githubusercontent.com/stanfordnlp/stanza-resources/master/resources_1.1.0.json: 122kB [00:00, 18.4MB/s]                    \n",
      "2020-12-01 00:42:46 INFO: Downloading default packages for language: grc (Ancient_Greek)...\n",
      "Downloading http://nlp.stanford.edu/software/stanza/1.1.0/grc/default.zip: 100%|██████████| 131M/131M [00:08<00:00, 15.8MB/s]\n",
      "2020-12-01 00:42:59 INFO: Finished downloading models and saved to /root/stanza_resources.\n"
     ]
    }
   ],
   "source": [
    "stanza.download('grc')"
   ]
  },
  {
   "cell_type": "code",
   "execution_count": 5,
   "metadata": {
    "id": "q3MttMgHX2CP"
   },
   "outputs": [],
   "source": [
    "import pandas as pd \n",
    "import gensim\n",
    "from gensim import corpora,models\n",
    "import warnings\n",
    "warnings.filterwarnings(\"ignore\")\n",
    "import numpy as np \n",
    "import nltk\n",
    "from nltk.corpus import stopwords\n",
    "from collections import defaultdict\n",
    "from sklearn.feature_extraction.text import CountVectorizer #tokenizes and counts words\n",
    "from sklearn.feature_extraction.text import TfidfVectorizer #alternatively, use TfidfTransformer()\n",
    "from sklearn import metrics\n",
    "import requests\n",
    "from sklearn.feature_selection import RFE, chi2\n",
    "from scipy.spatial import distance\n",
    "from pandas.core.frame import DataFrame\n",
    "from nltk import FreqDist\n",
    "from sklearn.metrics.pairwise import cosine_similarity\n",
    "from gensim.matutils import kullback_leibler, jaccard, hellinger, sparse2full\n",
    "import string\n",
    "from scipy.stats import entropy\n",
    "from numpy.linalg import norm\n",
    "from scipy.spatial import distance\n",
    "import spacy\n",
    "from collections import Counter"
   ]
  },
  {
   "cell_type": "code",
   "execution_count": 6,
   "metadata": {
    "id": "4yiyNcK3fSHC"
   },
   "outputs": [],
   "source": [
    "from spacy.lang.el import Greek"
   ]
  },
  {
   "cell_type": "code",
   "execution_count": 7,
   "metadata": {
    "colab": {
     "base_uri": "https://localhost:8080/"
    },
    "id": "2bSu9EgabGOi",
    "outputId": "7ac87368-d542-4c93-ec86-50e74aa09918"
   },
   "outputs": [
    {
     "name": "stdout",
     "output_type": "stream",
     "text": [
      "Mounted at /content/drive\n"
     ]
    },
    {
     "data": {
      "text/plain": [
       "['Getting started.pdf',\n",
       " 'image (1).jpg',\n",
       " 'image.jpg',\n",
       " 'C347414E-901F-4ADD-A460-3B99C03799B4.png',\n",
       " 'Introduction to Scientific Programming and Simulation Using R.pdf',\n",
       " 'RDataScience(1).pdf',\n",
       " 'database group project.gdoc',\n",
       " 'Database Data.gsheet',\n",
       " 'Text Analytics Phase 1.gslides',\n",
       " '2018GMAT课件',\n",
       " 'Untitled presentation (1).gslides',\n",
       " '9526f2636c319b9ed60bdc9c605f7725.mp4',\n",
       " 'Camera Roll.zip',\n",
       " 'WIN_20200323_11_22_38_Pro.mp4',\n",
       " 'Untitled spreadsheet.gsheet',\n",
       " 'Big Data Analytics Proposal.gslides',\n",
       " 'Discover the correlation between Public transportation facilities investment and the frequency of Traffic accident in United States.gdoc',\n",
       " 'Untitled presentation.gslides',\n",
       " 'gmat.exe',\n",
       " 'Web Analytics.zip',\n",
       " 'Data Mining.zip',\n",
       " 'datamodeler-19.2.0.182.1216-x64.zip',\n",
       " 'Bootcamp 课件.zip',\n",
       " 'Torrey (1911).pdf',\n",
       " 'Torrey (1911).gdoc',\n",
       " 'Bootcamp 课件 (1).zip',\n",
       " 'Bible_Data.csv',\n",
       " 'OtherApostlesWork_Data.csv',\n",
       " 'Colab Notebooks',\n",
       " 'drive',\n",
       " 'Peter word_count.jpg',\n",
       " 'John word_count.jpg',\n",
       " 'Jude word_count.jpg',\n",
       " 'Matthew char_count.jpg',\n",
       " 'Mark char_count.jpg',\n",
       " 'Luke char_count.jpg',\n",
       " 'Paul letter char_count.jpg',\n",
       " 'Mark word_count.jpg',\n",
       " 'James char_count.jpg',\n",
       " 'Peter char_count.jpg',\n",
       " 'John char_count.jpg',\n",
       " 'Jude char_count.jpg',\n",
       " 'Luke word_count.jpg',\n",
       " 'Paul letters word_count.jpg',\n",
       " 'Matthew letter ave_length.jpg',\n",
       " 'Mark letter ave_length.jpg',\n",
       " 'Luke ave_length.jpg',\n",
       " 'James word_count.jpg',\n",
       " 'Paul letter ave_length.jpg',\n",
       " 'James ave_length.jpg',\n",
       " 'Peter ave_length.jpg',\n",
       " 'John ave_length.jpg',\n",
       " 'Jude ave_length.jpg',\n",
       " 'John letter word_count.jpg',\n",
       " 'Hebrews word_count.jpg',\n",
       " 'Romans word_count.jpg',\n",
       " 'John letter char_count.jpg',\n",
       " 'Hebrews char_count.jpg',\n",
       " 'Romans char_count.jpg',\n",
       " 'John letters ave_length.jpg',\n",
       " 'Hebrews ave_length.jpg',\n",
       " 'Romans ave_length.jpg',\n",
       " 'Matthew word_count.jpg',\n",
       " 'glove.6B.100d.txt',\n",
       " 'confusion1.jpg',\n",
       " 'Python',\n",
       " 'OtherApostlesWork_Data.xlsx',\n",
       " 'chn_b.csv',\n",
       " 'sparva.csv',\n",
       " 'greektr1550.csv',\n",
       " 'greektr1894.csv',\n",
       " 'greekwhnu.csv',\n",
       " 'authorship',\n",
       " 'NA28_11_09_11PM.csv',\n",
       " 'SBL_11_09_11PM.csv',\n",
       " 'Tyndale_11_09_11PM.csv',\n",
       " 'Stanza_index.xlsx',\n",
       " '5期总统计.xlsx',\n",
       " 'NA28 LOSS.xlsx',\n",
       " 'NA28 ACCURACY.xlsx',\n",
       " 'NA28 VALIDATION LOSS.xlsx',\n",
       " 'NA28 VALIDATION ACCURACY.xlsx',\n",
       " 'author NA28 LOSS.xlsx',\n",
       " 'author NA28 ACCURACY.xlsx',\n",
       " 'author NA28 VALIDATION LOSS.xlsx',\n",
       " 'author NA28 VALIDATION ACCURACY.xlsx']"
      ]
     },
     "execution_count": 7,
     "metadata": {
      "tags": []
     },
     "output_type": "execute_result"
    }
   ],
   "source": [
    "import os\n",
    "from google.colab import drive\n",
    "drive.mount('/content/drive')\n",
    "\n",
    "path = \"/content/drive/My Drive\"\n",
    "\n",
    "os.chdir(path)\n",
    "os.listdir(path)\n"
   ]
  },
  {
   "cell_type": "code",
   "execution_count": 8,
   "metadata": {
    "colab": {
     "base_uri": "https://localhost:8080/"
    },
    "id": "l-cuE92ZY70Y",
    "outputId": "db54ea3f-a6fb-40a0-cf6c-9862c6a89ad9"
   },
   "outputs": [
    {
     "name": "stdout",
     "output_type": "stream",
     "text": [
      "Requirement already satisfied: sklearn in /usr/local/lib/python3.6/dist-packages (0.0)\n",
      "Requirement already satisfied: scikit-learn in /usr/local/lib/python3.6/dist-packages (from sklearn) (0.22.2.post1)\n",
      "Requirement already satisfied: scipy>=0.17.0 in /usr/local/lib/python3.6/dist-packages (from scikit-learn->sklearn) (1.4.1)\n",
      "Requirement already satisfied: joblib>=0.11 in /usr/local/lib/python3.6/dist-packages (from scikit-learn->sklearn) (0.17.0)\n",
      "Requirement already satisfied: numpy>=1.11.0 in /usr/local/lib/python3.6/dist-packages (from scikit-learn->sklearn) (1.18.5)\n"
     ]
    }
   ],
   "source": [
    "!pip install sklearn"
   ]
  },
  {
   "cell_type": "code",
   "execution_count": 9,
   "metadata": {
    "id": "iDIPvOxGZDDi"
   },
   "outputs": [],
   "source": [
    "import numpy as np\n",
    "from sklearn.model_selection import train_test_split\n",
    "\n",
    "from keras.preprocessing import sequence\n",
    "from keras.models import Sequential\n",
    "from keras.layers import Dense, Embedding\n",
    "from keras.layers import LSTM\n",
    "\n",
    "\n",
    "from sklearn.datasets import fetch_20newsgroups\n",
    "\n",
    "from keras.preprocessing.text import Tokenizer\n",
    "from keras.preprocessing.sequence import pad_sequences\n",
    "from random import random\n",
    "from numpy import array\n",
    "from numpy import cumsum\n",
    "from keras.layers import TimeDistributed\n",
    "from keras.layers import Bidirectional\n",
    "from tensorflow import keras\n",
    "from tensorflow.keras import layers"
   ]
  },
  {
   "cell_type": "code",
   "execution_count": 10,
   "metadata": {
    "id": "_4mtasPndt9Z"
   },
   "outputs": [],
   "source": [
    "max_features = 100\n",
    "seq_length = 20\n",
    "batch_size = 32"
   ]
  },
  {
   "cell_type": "code",
   "execution_count": 11,
   "metadata": {
    "colab": {
     "base_uri": "https://localhost:8080/"
    },
    "id": "RvSz09ZVdGmU",
    "outputId": "260dcbf4-7904-47f2-e27e-d90fb3bfdd34"
   },
   "outputs": [
    {
     "name": "stderr",
     "output_type": "stream",
     "text": [
      "Downloading https://raw.githubusercontent.com/stanfordnlp/stanza-resources/master/resources_1.1.0.json: 122kB [00:00, 26.0MB/s]                    \n",
      "2020-12-01 00:43:53 INFO: Downloading default packages for language: el (Greek)...\n",
      "Downloading http://nlp.stanford.edu/software/stanza/1.1.0/el/default.zip: 100%|██████████| 224M/224M [00:09<00:00, 22.9MB/s]\n",
      "2020-12-01 00:44:07 INFO: Finished downloading models and saved to /root/stanza_resources.\n",
      "2020-12-01 00:44:07 INFO: Loading these models for language: el (Greek):\n",
      "=======================\n",
      "| Processor | Package |\n",
      "-----------------------\n",
      "| tokenize  | gdt     |\n",
      "| mwt       | gdt     |\n",
      "| pos       | gdt     |\n",
      "| lemma     | gdt     |\n",
      "=======================\n",
      "\n",
      "2020-12-01 00:44:07 INFO: Use device: cpu\n",
      "2020-12-01 00:44:07 INFO: Loading: tokenize\n",
      "2020-12-01 00:44:07 INFO: Loading: mwt\n",
      "2020-12-01 00:44:07 INFO: Loading: pos\n",
      "2020-12-01 00:44:08 INFO: Loading: lemma\n",
      "2020-12-01 00:44:08 INFO: Done loading processors!\n"
     ]
    }
   ],
   "source": [
    "stanza.download('el')\n",
    "nlp = stanza.Pipeline(lang='el', processors='tokenize,pos,mwt,lemma', tokenize_pretokenized=True)"
   ]
  },
  {
   "cell_type": "code",
   "execution_count": 12,
   "metadata": {
    "id": "ythSPfqwbZId"
   },
   "outputs": [],
   "source": [
    "df = pd.read_csv('NA28_11_09_11PM.csv', encoding = 'utf-16', sep = '\\t')\n",
    "df2 = pd.read_csv('SBL_11_09_11PM.csv', encoding = 'utf-16', sep = '\\t')\n",
    "df3 = pd.read_csv('Tyndale_11_09_11PM.csv', encoding = 'utf-16', sep = '\\t')"
   ]
  },
  {
   "cell_type": "code",
   "execution_count": 13,
   "metadata": {
    "colab": {
     "base_uri": "https://localhost:8080/"
    },
    "id": "NLHkJ2S3EJ3A",
    "outputId": "8c4b836e-ea79-4e24-c6b0-b378e7f7d848"
   },
   "outputs": [
    {
     "name": "stdout",
     "output_type": "stream",
     "text": [
      "Model: \"functional_1\"\n",
      "_________________________________________________________________\n",
      "Layer (type)                 Output Shape              Param #   \n",
      "=================================================================\n",
      "input_1 (InputLayer)         [(None, None)]            0         \n",
      "_________________________________________________________________\n",
      "embedding (Embedding)        (None, None, 128)         12800     \n",
      "_________________________________________________________________\n",
      "bidirectional (Bidirectional (None, None, 128)         98816     \n",
      "_________________________________________________________________\n",
      "bidirectional_1 (Bidirection (None, 128)               98816     \n",
      "_________________________________________________________________\n",
      "dense (Dense)                (None, 1)                 129       \n",
      "=================================================================\n",
      "Total params: 210,561\n",
      "Trainable params: 210,561\n",
      "Non-trainable params: 0\n",
      "_________________________________________________________________\n"
     ]
    }
   ],
   "source": [
    "inputs = keras.Input(shape=(None,), dtype=\"int32\")\n",
    "# Embed each integer in a 128-dimensional vector\n",
    "x = layers.Embedding(max_features, 128)(inputs)\n",
    "# Add 2 bidirectional LSTMs\n",
    "x = layers.Bidirectional(layers.LSTM(64, return_sequences=True))(x)\n",
    "x = layers.Bidirectional(layers.LSTM(64))(x)\n",
    "# Add a classifier\n",
    "outputs = layers.Dense(1, activation=\"relu\")(x)\n",
    "model = keras.Model(inputs, outputs)\n",
    "model.summary()"
   ]
  },
  {
   "cell_type": "code",
   "execution_count": 14,
   "metadata": {
    "id": "AuVgsEO5cC5e"
   },
   "outputs": [],
   "source": [
    "def cosine_text(text):\n",
    "    pos_tag = []\n",
    "    for t in text['Verse']:\n",
    "        pos_tag.append(nlp(t).get('pos'))\n",
    "    for y in Heb['Verse']:\n",
    "        pos_tag.append(nlp(y).get('pos'))\n",
    "    tokenizer = Tokenizer(num_words=max_features)\n",
    "    tokenizer.fit_on_texts(pos_tag)\n",
    "    sequences_train = tokenizer.texts_to_sequences(pos_tag)\n",
    "    word_index = tokenizer.word_index\n",
    "    x_train = pad_sequences(sequences_train, maxlen=seq_length)\n",
    "    return x_train"
   ]
  },
  {
   "cell_type": "code",
   "execution_count": 15,
   "metadata": {
    "id": "pvYvedptQFsX"
   },
   "outputs": [],
   "source": [
    "def text_author(text):\n",
    "    author_tag = []\n",
    "    for t in text['Author']:\n",
    "        author_tag.append(1)\n",
    "    for f in Heb['Author']:\n",
    "        author_tag.append(0)\n",
    "    my_array = np.array(author_tag)\n",
    "    return my_array"
   ]
  },
  {
   "cell_type": "code",
   "execution_count": 16,
   "metadata": {
    "id": "h8w57XTVqgCL"
   },
   "outputs": [],
   "source": [
    "def model_output(rnntext,rnntext2):\n",
    "\n",
    "  X_train, X_test, y_train, y_test = train_test_split(rnntext, rnntext2, test_size = 0.2)\n",
    "  model.compile(\"rmsprop\", \"binary_crossentropy\", metrics=[\"accuracy\"])\n",
    "  history = model.fit(X_train, y_train, batch_size=32, epochs=20, validation_data=(X_test, y_test))\n",
    "  return history"
   ]
  },
  {
   "cell_type": "markdown",
   "metadata": {
    "id": "y24BpU0yeH-Y"
   },
   "source": [
    "## NA28_version"
   ]
  },
  {
   "cell_type": "code",
   "execution_count": null,
   "metadata": {
    "id": "1rSILkzUdYw3"
   },
   "outputs": [],
   "source": [
    "Matthew = df[df.BookName == 'Mt']\n",
    "Matthew['Author'] = 'Matthew'\n",
    "Mark = df[df.BookName == 'Mk']\n",
    "Mark['Author'] = 'Mark'\n",
    "Luke = df[df.BookName == 'Lk']\n",
    "Luke['Author'] = 'Luke'\n",
    "John = df[df.BookName == 'Joh']\n",
    "John['Author'] = 'John'\n",
    "Acts = df[df.BookName == 'Apg']\n",
    "Acts['Author'] = 'Luke'\n",
    "Luke_Book = pd.concat([Luke,Acts],axis = 0)\n",
    "James = df[df.BookName == 'Jak']\n",
    "James['Author'] = 'James'\n",
    "f_Peter = df[df.BookName == '1.Petr']\n",
    "s_Peter = df[df.BookName == '2.Petr']\n",
    "f_Peter['Author'] = 'Peter'\n",
    "s_Peter['Author'] = 'Peter'\n",
    "Peter_letter = pd.concat([f_Peter, s_Peter], axis = 0)\n",
    "\n",
    "f_John = df[df.BookName == '1.Joh']\n",
    "s_John = df[df.BookName == '2.Joh']\n",
    "t_John = df[df.BookName == '3.Joh']\n",
    "f_John['Author'] = 'John'\n",
    "s_John['Author'] = 'John'\n",
    "t_John['Author'] = 'John'\n",
    "John_letter = pd.concat([f_John, s_John, t_John], axis = 0)\n",
    "\n",
    "Jude = df[df.BookName == 'Jud']\n",
    "Jude['Author'] = 'Jude'\n",
    "Rev = df[df.BookName == 'Offb']\n",
    "Rev['Author'] = 'John'\n",
    "John_Book = pd.concat([John,John_letter,Rev],axis = 0)"
   ]
  },
  {
   "cell_type": "code",
   "execution_count": null,
   "metadata": {
    "id": "s7kigzB3eUQa"
   },
   "outputs": [],
   "source": [
    "Romans = df[df.BookName == 'Röm']\n",
    "Romans['Author'] = 'Paul'\n",
    "f_cor = df[df.BookName == '1.Kor']\n",
    "f_cor['Author'] = 'Paul'\n",
    "s_cor = df[df.BookName == '2.Kor']\n",
    "s_cor['Author'] = 'Paul'\n",
    "Gal = df[df.BookName == 'Gal']\n",
    "Gal['Author'] = 'Paul'\n",
    "Eph = df[df.BookName == 'Eph']\n",
    "Eph['Author'] = 'Paul'\n",
    "Phi = df[df.BookName == 'Phil']\n",
    "Phi['Author'] = 'Paul'\n",
    "Col = df[df.BookName == 'Kol']\n",
    "Col['Author'] = 'Paul'\n",
    "f_the = df[df.BookName == '1.Thess']\n",
    "f_the['Author'] = 'Paul'\n",
    "s_the = df[df.BookName == '2.Thess']\n",
    "s_the['Author'] = 'Paul'\n",
    "f_tim = df[df.BookName == '1.Tim']\n",
    "f_tim['Author'] = 'Paul'\n",
    "s_tim = df[df.BookName == '2.Tim']\n",
    "s_tim['Author'] = 'Paul'\n",
    "Titus = df[df.BookName == 'Tit']\n",
    "Titus['Author'] = 'Paul'\n",
    "Philemon = df[df.BookName == 'Phlm']\n",
    "Philemon['Author'] = 'Paul'\n",
    "Paul_letters = pd.concat([Romans,f_cor,s_cor,Gal,Eph,Phi,Col,f_the,s_the,f_tim,s_tim,Titus,Philemon],axis = 0)\n",
    "Heb = df[df.BookName == 'heb']\n",
    "Heb['Author'] = 'Paul?'"
   ]
  },
  {
   "cell_type": "code",
   "execution_count": null,
   "metadata": {
    "id": "YcWH-437eaXh"
   },
   "outputs": [],
   "source": [
    "g1 = cosine_text(Matthew)\n",
    "g2 = cosine_text(Mark)\n",
    "g3 = cosine_text(Luke)\n",
    "g4 = cosine_text(John)\n",
    "acts = cosine_text(Acts)\n",
    "rms = cosine_text(Romans)\n",
    "fcor = cosine_text(f_cor)\n",
    "scor = cosine_text(s_cor)\n",
    "gal = cosine_text(Gal)\n",
    "eph = cosine_text(Eph)\n",
    "phi = cosine_text(Phi)\n",
    "col = cosine_text(Col)\n",
    "fthe = cosine_text(f_the)\n",
    "sthe = cosine_text(s_the)\n",
    "ftim = cosine_text(f_tim)\n",
    "stim = cosine_text(s_tim)\n",
    "titus = cosine_text(Titus)\n",
    "philemon = cosine_text(Philemon)\n",
    "jams = cosine_text(James)\n",
    "fpet = cosine_text(f_Peter)\n",
    "spet = cosine_text(s_Peter)\n",
    "fjohn = cosine_text(f_John)\n",
    "sjohn = cosine_text(s_John)\n",
    "tjohn = cosine_text(t_John.dropna())\n",
    "jud = cosine_text(Jude)\n",
    "rev = cosine_text(Rev)"
   ]
  },
  {
   "cell_type": "code",
   "execution_count": null,
   "metadata": {
    "id": "fyKaW1cMU-i6"
   },
   "outputs": [],
   "source": [
    "g11 = text_author(Matthew)\n",
    "g21 = text_author(Mark)\n",
    "g31 = text_author(Luke)\n",
    "g41 = text_author(John)\n",
    "acts1 = text_author(Acts)\n",
    "rms1 = text_author(Romans)\n",
    "fcor1 = text_author(f_cor)\n",
    "scor1 = text_author(s_cor)\n",
    "gal1 = text_author(Gal)\n",
    "eph1 = text_author(Eph)\n",
    "phi1 = text_author(Phi)\n",
    "col1 = text_author(Col)\n",
    "fthe1 = text_author(f_the)\n",
    "sthe1 = text_author(s_the)\n",
    "ftim1 = text_author(f_tim)\n",
    "stim1 = text_author(s_tim)\n",
    "titus1 = text_author(Titus)\n",
    "philemon1 = text_author(Philemon)\n",
    "jams1 = text_author(James)\n",
    "fpet1 = text_author(f_Peter)\n",
    "spet1 = text_author(s_Peter)\n",
    "fjohn1 = text_author(f_John)\n",
    "sjohn1 = text_author(s_John)\n",
    "tjohn1 = text_author(t_John.dropna())\n",
    "jud1 = text_author(Jude)\n",
    "rev1 = text_author(Rev)"
   ]
  },
  {
   "cell_type": "code",
   "execution_count": null,
   "metadata": {
    "colab": {
     "base_uri": "https://localhost:8080/"
    },
    "id": "1GoJ91X3MWzV",
    "outputId": "aac64bfe-1398-4117-f86b-071cb7b6ef9b"
   },
   "outputs": [
    {
     "name": "stdout",
     "output_type": "stream",
     "text": [
      "Epoch 1/20\n",
      "34/34 [==============================] - 3s 96ms/step - loss: 0.9679 - accuracy: 0.5933 - val_loss: 1.0583 - val_accuracy: 0.2360\n",
      "Epoch 2/20\n",
      "34/34 [==============================] - 2s 51ms/step - loss: 0.6717 - accuracy: 0.6186 - val_loss: 0.5184 - val_accuracy: 0.7640\n",
      "Epoch 3/20\n",
      "34/34 [==============================] - 2s 50ms/step - loss: 0.6026 - accuracy: 0.7029 - val_loss: 0.6671 - val_accuracy: 0.7640\n",
      "Epoch 4/20\n",
      "34/34 [==============================] - 2s 52ms/step - loss: 0.5972 - accuracy: 0.7179 - val_loss: 0.6523 - val_accuracy: 0.6180\n",
      "Epoch 5/20\n",
      "34/34 [==============================] - 2s 51ms/step - loss: 0.5237 - accuracy: 0.7873 - val_loss: 0.7318 - val_accuracy: 0.7678\n",
      "Epoch 6/20\n",
      "34/34 [==============================] - 2s 51ms/step - loss: 0.6107 - accuracy: 0.7638 - val_loss: 0.5355 - val_accuracy: 0.7640\n",
      "Epoch 7/20\n",
      "34/34 [==============================] - 2s 50ms/step - loss: 0.5742 - accuracy: 0.7498 - val_loss: 0.6942 - val_accuracy: 0.7640\n",
      "Epoch 8/20\n",
      "34/34 [==============================] - 2s 52ms/step - loss: 0.5372 - accuracy: 0.7938 - val_loss: 1.3671 - val_accuracy: 0.7640\n",
      "Epoch 9/20\n",
      "34/34 [==============================] - 2s 52ms/step - loss: 0.5978 - accuracy: 0.7976 - val_loss: 1.9961 - val_accuracy: 0.7640\n",
      "Epoch 10/20\n",
      "34/34 [==============================] - 2s 51ms/step - loss: 0.5890 - accuracy: 0.7938 - val_loss: 0.5664 - val_accuracy: 0.7715\n",
      "Epoch 11/20\n",
      "34/34 [==============================] - 2s 51ms/step - loss: 0.5160 - accuracy: 0.7919 - val_loss: 1.5224 - val_accuracy: 0.7640\n",
      "Epoch 12/20\n",
      "34/34 [==============================] - 2s 53ms/step - loss: 0.5107 - accuracy: 0.7919 - val_loss: 0.4957 - val_accuracy: 0.7678\n",
      "Epoch 13/20\n",
      "34/34 [==============================] - 2s 53ms/step - loss: 0.5189 - accuracy: 0.7929 - val_loss: 0.5190 - val_accuracy: 0.7753\n",
      "Epoch 14/20\n",
      "34/34 [==============================] - 2s 52ms/step - loss: 0.6175 - accuracy: 0.7826 - val_loss: 0.5072 - val_accuracy: 0.7640\n",
      "Epoch 15/20\n",
      "34/34 [==============================] - 2s 51ms/step - loss: 0.5455 - accuracy: 0.7948 - val_loss: 0.5049 - val_accuracy: 0.7640\n",
      "Epoch 16/20\n",
      "34/34 [==============================] - 2s 50ms/step - loss: 0.5401 - accuracy: 0.7863 - val_loss: 0.5308 - val_accuracy: 0.7640\n",
      "Epoch 17/20\n",
      "34/34 [==============================] - 2s 51ms/step - loss: 0.5314 - accuracy: 0.7938 - val_loss: 0.5028 - val_accuracy: 0.7640\n",
      "Epoch 18/20\n",
      "34/34 [==============================] - 2s 50ms/step - loss: 0.5358 - accuracy: 0.7873 - val_loss: 0.5429 - val_accuracy: 0.7978\n",
      "Epoch 19/20\n",
      "34/34 [==============================] - 2s 50ms/step - loss: 0.5232 - accuracy: 0.7976 - val_loss: 0.5017 - val_accuracy: 0.7640\n",
      "Epoch 20/20\n",
      "34/34 [==============================] - 2s 53ms/step - loss: 0.4838 - accuracy: 0.7985 - val_loss: 0.5876 - val_accuracy: 0.7640\n"
     ]
    }
   ],
   "source": [
    "mat = model_output(g1,g11)"
   ]
  },
  {
   "cell_type": "code",
   "execution_count": null,
   "metadata": {
    "colab": {
     "base_uri": "https://localhost:8080/"
    },
    "id": "nfnDZ1y9azUQ",
    "outputId": "7a7e2412-53c2-4a96-cfc3-bba364939a0b"
   },
   "outputs": [
    {
     "name": "stdout",
     "output_type": "stream",
     "text": [
      "Epoch 1/20\n",
      "24/24 [==============================] - 3s 124ms/step - loss: 0.6350 - accuracy: 0.6873 - val_loss: 0.5610 - val_accuracy: 0.7211\n",
      "Epoch 2/20\n",
      "24/24 [==============================] - 1s 51ms/step - loss: 0.5677 - accuracy: 0.7111 - val_loss: 0.5573 - val_accuracy: 0.7105\n",
      "Epoch 3/20\n",
      "24/24 [==============================] - 1s 50ms/step - loss: 0.5971 - accuracy: 0.7164 - val_loss: 0.5494 - val_accuracy: 0.7211\n",
      "Epoch 4/20\n",
      "24/24 [==============================] - 1s 52ms/step - loss: 0.5669 - accuracy: 0.7177 - val_loss: 0.5566 - val_accuracy: 0.7158\n",
      "Epoch 5/20\n",
      "24/24 [==============================] - 1s 51ms/step - loss: 0.6186 - accuracy: 0.7177 - val_loss: 0.5626 - val_accuracy: 0.7211\n",
      "Epoch 6/20\n",
      "24/24 [==============================] - 1s 54ms/step - loss: 0.6592 - accuracy: 0.7111 - val_loss: 0.5559 - val_accuracy: 0.7263\n",
      "Epoch 7/20\n",
      "24/24 [==============================] - 1s 54ms/step - loss: 0.5919 - accuracy: 0.7348 - val_loss: 1.3361 - val_accuracy: 0.7053\n",
      "Epoch 8/20\n",
      "24/24 [==============================] - 1s 56ms/step - loss: 0.6217 - accuracy: 0.7375 - val_loss: 0.5524 - val_accuracy: 0.7263\n",
      "Epoch 9/20\n",
      "24/24 [==============================] - 1s 53ms/step - loss: 0.5817 - accuracy: 0.7348 - val_loss: 0.5516 - val_accuracy: 0.7421\n",
      "Epoch 10/20\n",
      "24/24 [==============================] - 1s 55ms/step - loss: 0.5854 - accuracy: 0.7203 - val_loss: 0.5452 - val_accuracy: 0.7263\n",
      "Epoch 11/20\n",
      "24/24 [==============================] - 1s 56ms/step - loss: 0.5471 - accuracy: 0.7296 - val_loss: 0.5911 - val_accuracy: 0.7158\n",
      "Epoch 12/20\n",
      "24/24 [==============================] - 1s 54ms/step - loss: 0.5853 - accuracy: 0.7256 - val_loss: 0.5654 - val_accuracy: 0.7263\n",
      "Epoch 13/20\n",
      "24/24 [==============================] - 1s 55ms/step - loss: 0.5641 - accuracy: 0.7190 - val_loss: 0.5801 - val_accuracy: 0.7105\n",
      "Epoch 14/20\n",
      "24/24 [==============================] - 1s 52ms/step - loss: 0.5597 - accuracy: 0.7216 - val_loss: 0.6200 - val_accuracy: 0.7316\n",
      "Epoch 15/20\n",
      "24/24 [==============================] - 1s 53ms/step - loss: 0.5794 - accuracy: 0.7401 - val_loss: 0.5778 - val_accuracy: 0.7263\n",
      "Epoch 16/20\n",
      "24/24 [==============================] - 1s 54ms/step - loss: 0.5998 - accuracy: 0.7348 - val_loss: 0.6283 - val_accuracy: 0.7105\n",
      "Epoch 17/20\n",
      "24/24 [==============================] - 1s 50ms/step - loss: 0.5553 - accuracy: 0.7269 - val_loss: 0.5645 - val_accuracy: 0.7368\n",
      "Epoch 18/20\n",
      "24/24 [==============================] - 1s 50ms/step - loss: 0.5573 - accuracy: 0.7401 - val_loss: 0.6305 - val_accuracy: 0.7316\n",
      "Epoch 19/20\n",
      "24/24 [==============================] - 1s 49ms/step - loss: 0.5715 - accuracy: 0.7454 - val_loss: 0.6208 - val_accuracy: 0.7316\n",
      "Epoch 20/20\n",
      "24/24 [==============================] - 1s 51ms/step - loss: 0.5471 - accuracy: 0.7427 - val_loss: 0.6148 - val_accuracy: 0.7211\n"
     ]
    }
   ],
   "source": [
    "mak = model_output(g2,g21)"
   ]
  },
  {
   "cell_type": "code",
   "execution_count": null,
   "metadata": {
    "colab": {
     "base_uri": "https://localhost:8080/"
    },
    "id": "uPcnICibVSNX",
    "outputId": "d9a8e325-3c8b-4301-8231-21b3dd6f5b80"
   },
   "outputs": [
    {
     "name": "stdout",
     "output_type": "stream",
     "text": [
      "Epoch 1/20\n",
      "36/36 [==============================] - 3s 93ms/step - loss: 0.4842 - accuracy: 0.7923 - val_loss: 0.4276 - val_accuracy: 0.8182\n",
      "Epoch 2/20\n",
      "36/36 [==============================] - 2s 50ms/step - loss: 0.4849 - accuracy: 0.7932 - val_loss: 0.4347 - val_accuracy: 0.8182\n",
      "Epoch 3/20\n",
      "36/36 [==============================] - 2s 52ms/step - loss: 0.5054 - accuracy: 0.8011 - val_loss: 0.4384 - val_accuracy: 0.8077\n",
      "Epoch 4/20\n",
      "36/36 [==============================] - 2s 50ms/step - loss: 0.5335 - accuracy: 0.7958 - val_loss: 0.4679 - val_accuracy: 0.8217\n",
      "Epoch 5/20\n",
      "36/36 [==============================] - 2s 51ms/step - loss: 0.5113 - accuracy: 0.7975 - val_loss: 0.4242 - val_accuracy: 0.8182\n",
      "Epoch 6/20\n",
      "36/36 [==============================] - 2s 51ms/step - loss: 0.4912 - accuracy: 0.7967 - val_loss: 0.4174 - val_accuracy: 0.8217\n",
      "Epoch 7/20\n",
      "36/36 [==============================] - 2s 51ms/step - loss: 0.4706 - accuracy: 0.8019 - val_loss: 0.5511 - val_accuracy: 0.8182\n",
      "Epoch 8/20\n",
      "36/36 [==============================] - 2s 50ms/step - loss: 0.4749 - accuracy: 0.8019 - val_loss: 0.5252 - val_accuracy: 0.8182\n",
      "Epoch 9/20\n",
      "36/36 [==============================] - 2s 51ms/step - loss: 0.4600 - accuracy: 0.7993 - val_loss: 0.5296 - val_accuracy: 0.8217\n",
      "Epoch 10/20\n",
      "36/36 [==============================] - 2s 50ms/step - loss: 0.4949 - accuracy: 0.8028 - val_loss: 0.5223 - val_accuracy: 0.8147\n",
      "Epoch 11/20\n",
      "36/36 [==============================] - 2s 50ms/step - loss: 0.4709 - accuracy: 0.8089 - val_loss: 0.6477 - val_accuracy: 0.8252\n",
      "Epoch 12/20\n",
      "36/36 [==============================] - 2s 51ms/step - loss: 0.4698 - accuracy: 0.8124 - val_loss: 0.4756 - val_accuracy: 0.8182\n",
      "Epoch 13/20\n",
      "36/36 [==============================] - 2s 49ms/step - loss: 0.4807 - accuracy: 0.8089 - val_loss: 0.4803 - val_accuracy: 0.8287\n",
      "Epoch 14/20\n",
      "36/36 [==============================] - 2s 50ms/step - loss: 0.4562 - accuracy: 0.8133 - val_loss: 0.4853 - val_accuracy: 0.8217\n",
      "Epoch 15/20\n",
      "36/36 [==============================] - 2s 51ms/step - loss: 0.4976 - accuracy: 0.8081 - val_loss: 0.5315 - val_accuracy: 0.8217\n",
      "Epoch 16/20\n",
      "36/36 [==============================] - 2s 50ms/step - loss: 0.4940 - accuracy: 0.8089 - val_loss: 0.6387 - val_accuracy: 0.8322\n",
      "Epoch 17/20\n",
      "36/36 [==============================] - 2s 50ms/step - loss: 0.4830 - accuracy: 0.8133 - val_loss: 0.4754 - val_accuracy: 0.8322\n",
      "Epoch 18/20\n",
      "36/36 [==============================] - 2s 50ms/step - loss: 0.4637 - accuracy: 0.8151 - val_loss: 0.5778 - val_accuracy: 0.8112\n",
      "Epoch 19/20\n",
      "36/36 [==============================] - 2s 50ms/step - loss: 0.4880 - accuracy: 0.8151 - val_loss: 0.5091 - val_accuracy: 0.8112\n",
      "Epoch 20/20\n",
      "36/36 [==============================] - 2s 49ms/step - loss: 0.4511 - accuracy: 0.8203 - val_loss: 0.6508 - val_accuracy: 0.8007\n"
     ]
    }
   ],
   "source": [
    "luk = model_output(g3,g31)"
   ]
  },
  {
   "cell_type": "code",
   "execution_count": null,
   "metadata": {
    "colab": {
     "base_uri": "https://localhost:8080/"
    },
    "id": "AG3GW8JIcNP-",
    "outputId": "dfc0642a-881f-4684-cd3e-30174d121b38"
   },
   "outputs": [
    {
     "name": "stdout",
     "output_type": "stream",
     "text": [
      "Epoch 1/20\n",
      "29/29 [==============================] - 3s 93ms/step - loss: 0.6156 - accuracy: 0.7705 - val_loss: 0.5505 - val_accuracy: 0.7672\n",
      "Epoch 2/20\n",
      "29/29 [==============================] - 1s 43ms/step - loss: 0.5059 - accuracy: 0.7759 - val_loss: 0.7720 - val_accuracy: 0.7672\n",
      "Epoch 3/20\n",
      "29/29 [==============================] - 1s 43ms/step - loss: 0.5622 - accuracy: 0.7812 - val_loss: 0.4867 - val_accuracy: 0.7759\n",
      "Epoch 4/20\n",
      "29/29 [==============================] - 1s 43ms/step - loss: 0.4866 - accuracy: 0.7931 - val_loss: 0.5410 - val_accuracy: 0.7672\n",
      "Epoch 5/20\n",
      "29/29 [==============================] - 1s 45ms/step - loss: 0.5086 - accuracy: 0.7996 - val_loss: 0.7162 - val_accuracy: 0.7586\n",
      "Epoch 6/20\n",
      "29/29 [==============================] - 1s 43ms/step - loss: 0.5452 - accuracy: 0.8103 - val_loss: 0.7945 - val_accuracy: 0.7716\n",
      "Epoch 7/20\n",
      "29/29 [==============================] - 1s 43ms/step - loss: 0.5076 - accuracy: 0.8082 - val_loss: 0.4856 - val_accuracy: 0.7759\n",
      "Epoch 8/20\n",
      "29/29 [==============================] - 1s 45ms/step - loss: 0.4792 - accuracy: 0.8222 - val_loss: 0.6490 - val_accuracy: 0.7586\n",
      "Epoch 9/20\n",
      "29/29 [==============================] - 1s 43ms/step - loss: 0.5276 - accuracy: 0.8093 - val_loss: 0.6011 - val_accuracy: 0.7672\n",
      "Epoch 10/20\n",
      "29/29 [==============================] - 1s 44ms/step - loss: 0.4629 - accuracy: 0.8093 - val_loss: 0.5602 - val_accuracy: 0.7629\n",
      "Epoch 11/20\n",
      "29/29 [==============================] - 1s 44ms/step - loss: 0.4655 - accuracy: 0.8157 - val_loss: 0.5615 - val_accuracy: 0.7759\n",
      "Epoch 12/20\n",
      "29/29 [==============================] - 1s 44ms/step - loss: 0.4246 - accuracy: 0.8179 - val_loss: 0.5221 - val_accuracy: 0.7672\n",
      "Epoch 13/20\n",
      "29/29 [==============================] - 1s 45ms/step - loss: 0.4484 - accuracy: 0.8211 - val_loss: 0.4820 - val_accuracy: 0.7716\n",
      "Epoch 14/20\n",
      "29/29 [==============================] - 1s 47ms/step - loss: 0.4312 - accuracy: 0.8125 - val_loss: 0.6507 - val_accuracy: 0.7716\n",
      "Epoch 15/20\n",
      "29/29 [==============================] - 1s 46ms/step - loss: 0.4643 - accuracy: 0.8276 - val_loss: 0.8955 - val_accuracy: 0.7672\n",
      "Epoch 16/20\n",
      "29/29 [==============================] - 1s 46ms/step - loss: 0.5268 - accuracy: 0.8222 - val_loss: 1.6417 - val_accuracy: 0.7759\n",
      "Epoch 17/20\n",
      "29/29 [==============================] - 1s 45ms/step - loss: 0.4732 - accuracy: 0.8362 - val_loss: 0.8886 - val_accuracy: 0.7629\n",
      "Epoch 18/20\n",
      "29/29 [==============================] - 1s 45ms/step - loss: 0.4432 - accuracy: 0.8405 - val_loss: 0.6534 - val_accuracy: 0.7241\n",
      "Epoch 19/20\n",
      "29/29 [==============================] - 1s 44ms/step - loss: 0.4122 - accuracy: 0.8362 - val_loss: 0.8951 - val_accuracy: 0.7672\n",
      "Epoch 20/20\n",
      "29/29 [==============================] - 1s 45ms/step - loss: 0.4147 - accuracy: 0.8416 - val_loss: 0.7547 - val_accuracy: 0.7629\n"
     ]
    }
   ],
   "source": [
    "joh = model_output(g4,g41)"
   ]
  },
  {
   "cell_type": "code",
   "execution_count": null,
   "metadata": {
    "colab": {
     "base_uri": "https://localhost:8080/"
    },
    "id": "2ZNFnLmjcQX6",
    "outputId": "d280fd52-fba4-4960-fdb2-1419cbe5f03f"
   },
   "outputs": [
    {
     "name": "stdout",
     "output_type": "stream",
     "text": [
      "Epoch 1/20\n",
      "32/32 [==============================] - 3s 106ms/step - loss: 0.6888 - accuracy: 0.7475 - val_loss: 0.5844 - val_accuracy: 0.7826\n",
      "Epoch 2/20\n",
      "32/32 [==============================] - 2s 49ms/step - loss: 0.6088 - accuracy: 0.7733 - val_loss: 0.6582 - val_accuracy: 0.8024\n",
      "Epoch 3/20\n",
      "32/32 [==============================] - 2s 55ms/step - loss: 0.5758 - accuracy: 0.7851 - val_loss: 0.5439 - val_accuracy: 0.7787\n",
      "Epoch 4/20\n",
      "32/32 [==============================] - 2s 52ms/step - loss: 0.5673 - accuracy: 0.7802 - val_loss: 0.5978 - val_accuracy: 0.7470\n",
      "Epoch 5/20\n",
      "32/32 [==============================] - 2s 53ms/step - loss: 0.5784 - accuracy: 0.7822 - val_loss: 0.6037 - val_accuracy: 0.7826\n",
      "Epoch 6/20\n",
      "32/32 [==============================] - 2s 53ms/step - loss: 0.5264 - accuracy: 0.7802 - val_loss: 0.9573 - val_accuracy: 0.7945\n",
      "Epoch 7/20\n",
      "32/32 [==============================] - 2s 58ms/step - loss: 0.5119 - accuracy: 0.7941 - val_loss: 0.7534 - val_accuracy: 0.7905\n",
      "Epoch 8/20\n",
      "32/32 [==============================] - 3s 101ms/step - loss: 0.5378 - accuracy: 0.8020 - val_loss: 1.0685 - val_accuracy: 0.7905\n",
      "Epoch 9/20\n",
      "32/32 [==============================] - 3s 97ms/step - loss: 0.5615 - accuracy: 0.7931 - val_loss: 0.9463 - val_accuracy: 0.7708\n",
      "Epoch 10/20\n",
      "32/32 [==============================] - 2s 58ms/step - loss: 0.4891 - accuracy: 0.7950 - val_loss: 0.8466 - val_accuracy: 0.7668\n",
      "Epoch 11/20\n",
      "32/32 [==============================] - 2s 49ms/step - loss: 0.5032 - accuracy: 0.7941 - val_loss: 0.9756 - val_accuracy: 0.7470\n",
      "Epoch 12/20\n",
      "32/32 [==============================] - 2s 51ms/step - loss: 0.5245 - accuracy: 0.8109 - val_loss: 1.0127 - val_accuracy: 0.7747\n",
      "Epoch 13/20\n",
      "32/32 [==============================] - 2s 51ms/step - loss: 0.5036 - accuracy: 0.8020 - val_loss: 0.8864 - val_accuracy: 0.7787\n",
      "Epoch 14/20\n",
      "32/32 [==============================] - 2s 51ms/step - loss: 0.5236 - accuracy: 0.8139 - val_loss: 0.9000 - val_accuracy: 0.7905\n",
      "Epoch 15/20\n",
      "32/32 [==============================] - 2s 51ms/step - loss: 0.4749 - accuracy: 0.8089 - val_loss: 0.9334 - val_accuracy: 0.7787\n",
      "Epoch 16/20\n",
      "32/32 [==============================] - 2s 51ms/step - loss: 0.4413 - accuracy: 0.8218 - val_loss: 1.3508 - val_accuracy: 0.7866\n",
      "Epoch 17/20\n",
      "32/32 [==============================] - 2s 51ms/step - loss: 0.4480 - accuracy: 0.8238 - val_loss: 1.3790 - val_accuracy: 0.7628\n",
      "Epoch 18/20\n",
      "32/32 [==============================] - 2s 51ms/step - loss: 0.3990 - accuracy: 0.8257 - val_loss: 1.3034 - val_accuracy: 0.7747\n",
      "Epoch 19/20\n",
      "32/32 [==============================] - 2s 50ms/step - loss: 0.4084 - accuracy: 0.8208 - val_loss: 1.2405 - val_accuracy: 0.7470\n",
      "Epoch 20/20\n",
      "32/32 [==============================] - 2s 51ms/step - loss: 0.3845 - accuracy: 0.8347 - val_loss: 1.5475 - val_accuracy: 0.7431\n"
     ]
    }
   ],
   "source": [
    "act = model_output(acts,acts1)"
   ]
  },
  {
   "cell_type": "code",
   "execution_count": null,
   "metadata": {
    "colab": {
     "base_uri": "https://localhost:8080/"
    },
    "id": "-4xTfxGZcS1_",
    "outputId": "2dd4820a-e03c-4f25-af26-66f1e74b376b"
   },
   "outputs": [
    {
     "name": "stdout",
     "output_type": "stream",
     "text": [
      "Epoch 1/20\n",
      "18/18 [==============================] - 2s 126ms/step - loss: 0.9406 - accuracy: 0.6745 - val_loss: 0.9332 - val_accuracy: 0.7357\n",
      "Epoch 2/20\n",
      "18/18 [==============================] - 1s 48ms/step - loss: 0.6294 - accuracy: 0.6871 - val_loss: 0.9670 - val_accuracy: 0.6786\n",
      "Epoch 3/20\n",
      "18/18 [==============================] - 1s 48ms/step - loss: 0.6117 - accuracy: 0.7158 - val_loss: 1.0703 - val_accuracy: 0.6643\n",
      "Epoch 4/20\n",
      "18/18 [==============================] - 1s 49ms/step - loss: 0.7385 - accuracy: 0.7086 - val_loss: 0.8681 - val_accuracy: 0.6929\n",
      "Epoch 5/20\n",
      "18/18 [==============================] - 1s 48ms/step - loss: 0.5988 - accuracy: 0.7212 - val_loss: 0.8454 - val_accuracy: 0.6786\n",
      "Epoch 6/20\n",
      "18/18 [==============================] - 1s 49ms/step - loss: 0.5097 - accuracy: 0.7536 - val_loss: 1.0264 - val_accuracy: 0.7143\n",
      "Epoch 7/20\n",
      "18/18 [==============================] - 1s 50ms/step - loss: 0.4949 - accuracy: 0.7644 - val_loss: 1.1490 - val_accuracy: 0.6714\n",
      "Epoch 8/20\n",
      "18/18 [==============================] - 1s 49ms/step - loss: 0.4829 - accuracy: 0.7608 - val_loss: 1.0473 - val_accuracy: 0.7000\n",
      "Epoch 9/20\n",
      "18/18 [==============================] - 1s 48ms/step - loss: 0.4633 - accuracy: 0.7734 - val_loss: 1.2327 - val_accuracy: 0.7000\n",
      "Epoch 10/20\n",
      "18/18 [==============================] - 1s 49ms/step - loss: 0.4602 - accuracy: 0.7860 - val_loss: 1.1595 - val_accuracy: 0.6500\n",
      "Epoch 11/20\n",
      "18/18 [==============================] - 1s 50ms/step - loss: 0.4391 - accuracy: 0.8022 - val_loss: 1.2325 - val_accuracy: 0.7071\n",
      "Epoch 12/20\n",
      "18/18 [==============================] - 1s 49ms/step - loss: 0.4070 - accuracy: 0.8219 - val_loss: 1.2490 - val_accuracy: 0.6857\n",
      "Epoch 13/20\n",
      "18/18 [==============================] - 1s 49ms/step - loss: 0.3947 - accuracy: 0.8094 - val_loss: 1.2310 - val_accuracy: 0.7357\n",
      "Epoch 14/20\n",
      "18/18 [==============================] - 1s 51ms/step - loss: 0.3844 - accuracy: 0.8183 - val_loss: 1.4279 - val_accuracy: 0.6857\n",
      "Epoch 15/20\n",
      "18/18 [==============================] - 1s 51ms/step - loss: 0.3558 - accuracy: 0.8255 - val_loss: 1.4588 - val_accuracy: 0.6786\n",
      "Epoch 16/20\n",
      "18/18 [==============================] - 1s 48ms/step - loss: 0.3406 - accuracy: 0.8417 - val_loss: 2.0813 - val_accuracy: 0.6857\n",
      "Epoch 17/20\n",
      "18/18 [==============================] - 1s 50ms/step - loss: 0.3495 - accuracy: 0.8597 - val_loss: 1.8826 - val_accuracy: 0.6571\n",
      "Epoch 18/20\n",
      "18/18 [==============================] - 1s 49ms/step - loss: 0.3057 - accuracy: 0.8615 - val_loss: 2.1418 - val_accuracy: 0.6714\n",
      "Epoch 19/20\n",
      "18/18 [==============================] - 1s 49ms/step - loss: 0.3000 - accuracy: 0.8669 - val_loss: 2.3993 - val_accuracy: 0.6286\n",
      "Epoch 20/20\n",
      "18/18 [==============================] - 1s 49ms/step - loss: 0.2792 - accuracy: 0.8903 - val_loss: 2.4435 - val_accuracy: 0.6429\n"
     ]
    }
   ],
   "source": [
    "rom = model_output(rms,rms1)"
   ]
  },
  {
   "cell_type": "code",
   "execution_count": null,
   "metadata": {
    "colab": {
     "base_uri": "https://localhost:8080/"
    },
    "id": "ItotYhr-cUuq",
    "outputId": "163b0d3b-3228-407b-898e-c1e73e25ff26"
   },
   "outputs": [
    {
     "name": "stdout",
     "output_type": "stream",
     "text": [
      "Epoch 1/20\n",
      "18/18 [==============================] - 2s 129ms/step - loss: 1.4264 - accuracy: 0.7570 - val_loss: 1.2182 - val_accuracy: 0.6806\n",
      "Epoch 2/20\n",
      "18/18 [==============================] - 1s 50ms/step - loss: 0.9529 - accuracy: 0.7937 - val_loss: 1.1743 - val_accuracy: 0.6667\n",
      "Epoch 3/20\n",
      "18/18 [==============================] - 1s 49ms/step - loss: 1.0672 - accuracy: 0.7605 - val_loss: 1.6307 - val_accuracy: 0.6111\n",
      "Epoch 4/20\n",
      "18/18 [==============================] - 1s 49ms/step - loss: 0.9782 - accuracy: 0.7622 - val_loss: 1.5690 - val_accuracy: 0.6042\n",
      "Epoch 5/20\n",
      "18/18 [==============================] - 1s 51ms/step - loss: 0.9296 - accuracy: 0.7535 - val_loss: 1.4117 - val_accuracy: 0.6319\n",
      "Epoch 6/20\n",
      "18/18 [==============================] - 1s 51ms/step - loss: 0.7957 - accuracy: 0.7832 - val_loss: 1.2592 - val_accuracy: 0.6597\n",
      "Epoch 7/20\n",
      "18/18 [==============================] - 1s 50ms/step - loss: 0.7653 - accuracy: 0.8077 - val_loss: 1.1603 - val_accuracy: 0.6736\n",
      "Epoch 8/20\n",
      "18/18 [==============================] - 1s 49ms/step - loss: 0.6974 - accuracy: 0.8182 - val_loss: 1.0413 - val_accuracy: 0.6667\n",
      "Epoch 9/20\n",
      "18/18 [==============================] - 1s 49ms/step - loss: 0.6883 - accuracy: 0.8182 - val_loss: 1.3017 - val_accuracy: 0.6944\n",
      "Epoch 10/20\n",
      "18/18 [==============================] - 1s 51ms/step - loss: 0.6222 - accuracy: 0.8392 - val_loss: 0.9376 - val_accuracy: 0.6667\n",
      "Epoch 11/20\n",
      "18/18 [==============================] - 1s 50ms/step - loss: 0.5646 - accuracy: 0.8689 - val_loss: 1.6619 - val_accuracy: 0.6875\n",
      "Epoch 12/20\n",
      "18/18 [==============================] - 1s 80ms/step - loss: 0.5489 - accuracy: 0.8776 - val_loss: 1.5485 - val_accuracy: 0.7083\n",
      "Epoch 13/20\n",
      "18/18 [==============================] - 1s 49ms/step - loss: 0.5251 - accuracy: 0.8794 - val_loss: 1.7335 - val_accuracy: 0.6597\n",
      "Epoch 14/20\n",
      "18/18 [==============================] - 1s 51ms/step - loss: 0.5780 - accuracy: 0.8934 - val_loss: 2.1002 - val_accuracy: 0.6667\n",
      "Epoch 15/20\n",
      "18/18 [==============================] - 1s 49ms/step - loss: 0.5239 - accuracy: 0.8794 - val_loss: 1.9672 - val_accuracy: 0.6806\n",
      "Epoch 16/20\n",
      "18/18 [==============================] - 1s 50ms/step - loss: 0.4465 - accuracy: 0.8969 - val_loss: 1.6142 - val_accuracy: 0.6458\n",
      "Epoch 17/20\n",
      "18/18 [==============================] - 1s 49ms/step - loss: 0.6362 - accuracy: 0.8864 - val_loss: 2.1877 - val_accuracy: 0.6944\n",
      "Epoch 18/20\n",
      "18/18 [==============================] - 1s 50ms/step - loss: 0.4211 - accuracy: 0.9231 - val_loss: 2.1522 - val_accuracy: 0.6736\n",
      "Epoch 19/20\n",
      "18/18 [==============================] - 1s 51ms/step - loss: 0.3967 - accuracy: 0.9126 - val_loss: 2.0007 - val_accuracy: 0.6667\n",
      "Epoch 20/20\n",
      "18/18 [==============================] - 1s 55ms/step - loss: 0.3682 - accuracy: 0.9318 - val_loss: 2.5079 - val_accuracy: 0.6597\n"
     ]
    }
   ],
   "source": [
    "fcr = model_output(fcor,fcor1)"
   ]
  },
  {
   "cell_type": "code",
   "execution_count": null,
   "metadata": {
    "colab": {
     "base_uri": "https://localhost:8080/"
    },
    "id": "ht_-F6cgcXNC",
    "outputId": "6e1cfce2-92d6-46f7-81fe-54099b18f6cf"
   },
   "outputs": [
    {
     "name": "stdout",
     "output_type": "stream",
     "text": [
      "Epoch 1/20\n",
      "14/14 [==============================] - 2s 153ms/step - loss: 1.4008 - accuracy: 0.7953 - val_loss: 1.4963 - val_accuracy: 0.7685\n",
      "Epoch 2/20\n",
      "14/14 [==============================] - 1s 50ms/step - loss: 1.1193 - accuracy: 0.8395 - val_loss: 1.3737 - val_accuracy: 0.7870\n",
      "Epoch 3/20\n",
      "14/14 [==============================] - 1s 53ms/step - loss: 0.9431 - accuracy: 0.8558 - val_loss: 1.4919 - val_accuracy: 0.8241\n",
      "Epoch 4/20\n",
      "14/14 [==============================] - 1s 48ms/step - loss: 0.8528 - accuracy: 0.8651 - val_loss: 1.1773 - val_accuracy: 0.8056\n",
      "Epoch 5/20\n",
      "14/14 [==============================] - 1s 48ms/step - loss: 0.7806 - accuracy: 0.8860 - val_loss: 1.4174 - val_accuracy: 0.8148\n",
      "Epoch 6/20\n",
      "14/14 [==============================] - 1s 51ms/step - loss: 0.7114 - accuracy: 0.9023 - val_loss: 1.6525 - val_accuracy: 0.7963\n",
      "Epoch 7/20\n",
      "14/14 [==============================] - 1s 47ms/step - loss: 0.7334 - accuracy: 0.9093 - val_loss: 1.6090 - val_accuracy: 0.7778\n",
      "Epoch 8/20\n",
      "14/14 [==============================] - 1s 49ms/step - loss: 0.6767 - accuracy: 0.9163 - val_loss: 1.8485 - val_accuracy: 0.7685\n",
      "Epoch 9/20\n",
      "14/14 [==============================] - 1s 48ms/step - loss: 0.6980 - accuracy: 0.9163 - val_loss: 2.1007 - val_accuracy: 0.7500\n",
      "Epoch 10/20\n",
      "14/14 [==============================] - 1s 47ms/step - loss: 0.7063 - accuracy: 0.9163 - val_loss: 1.8306 - val_accuracy: 0.7778\n",
      "Epoch 11/20\n",
      "14/14 [==============================] - 1s 48ms/step - loss: 0.6088 - accuracy: 0.9349 - val_loss: 2.6224 - val_accuracy: 0.7407\n",
      "Epoch 12/20\n",
      "14/14 [==============================] - 1s 49ms/step - loss: 0.5958 - accuracy: 0.9535 - val_loss: 2.1157 - val_accuracy: 0.7315\n",
      "Epoch 13/20\n",
      "14/14 [==============================] - 1s 48ms/step - loss: 0.5465 - accuracy: 0.9535 - val_loss: 2.2637 - val_accuracy: 0.7130\n",
      "Epoch 14/20\n",
      "14/14 [==============================] - 1s 50ms/step - loss: 0.5688 - accuracy: 0.9419 - val_loss: 1.9888 - val_accuracy: 0.7315\n",
      "Epoch 15/20\n",
      "14/14 [==============================] - 1s 47ms/step - loss: 0.5371 - accuracy: 0.9581 - val_loss: 1.7482 - val_accuracy: 0.7407\n",
      "Epoch 16/20\n",
      "14/14 [==============================] - 1s 48ms/step - loss: 0.5269 - accuracy: 0.9558 - val_loss: 2.2772 - val_accuracy: 0.7222\n",
      "Epoch 17/20\n",
      "14/14 [==============================] - 1s 49ms/step - loss: 0.5320 - accuracy: 0.9581 - val_loss: 2.5291 - val_accuracy: 0.7315\n",
      "Epoch 18/20\n",
      "14/14 [==============================] - 1s 48ms/step - loss: 0.5215 - accuracy: 0.9605 - val_loss: 2.5848 - val_accuracy: 0.6852\n",
      "Epoch 19/20\n",
      "14/14 [==============================] - 1s 48ms/step - loss: 0.4992 - accuracy: 0.9558 - val_loss: 2.6480 - val_accuracy: 0.7407\n",
      "Epoch 20/20\n",
      "14/14 [==============================] - 1s 49ms/step - loss: 0.5157 - accuracy: 0.9651 - val_loss: 2.7292 - val_accuracy: 0.7685\n"
     ]
    }
   ],
   "source": [
    "scr = model_output(scor,scor1)"
   ]
  },
  {
   "cell_type": "code",
   "execution_count": null,
   "metadata": {
    "colab": {
     "base_uri": "https://localhost:8080/"
    },
    "id": "hSUYUQHPcaVv",
    "outputId": "8260af1b-5f74-4bef-815f-b391e29246df"
   },
   "outputs": [
    {
     "name": "stdout",
     "output_type": "stream",
     "text": [
      "Epoch 1/20\n",
      "11/11 [==============================] - 2s 190ms/step - loss: 2.8834 - accuracy: 0.7217 - val_loss: 3.3539 - val_accuracy: 0.6322\n",
      "Epoch 2/20\n",
      "11/11 [==============================] - 1s 48ms/step - loss: 2.8597 - accuracy: 0.7159 - val_loss: 3.0099 - val_accuracy: 0.6897\n",
      "Epoch 3/20\n",
      "11/11 [==============================] - 1s 48ms/step - loss: 2.5169 - accuracy: 0.7594 - val_loss: 3.1014 - val_accuracy: 0.6667\n",
      "Epoch 4/20\n",
      "11/11 [==============================] - 1s 50ms/step - loss: 2.2063 - accuracy: 0.7884 - val_loss: 3.3167 - val_accuracy: 0.7011\n",
      "Epoch 5/20\n",
      "11/11 [==============================] - 1s 47ms/step - loss: 1.9871 - accuracy: 0.8058 - val_loss: 3.0143 - val_accuracy: 0.7126\n",
      "Epoch 6/20\n",
      "11/11 [==============================] - 1s 48ms/step - loss: 1.7906 - accuracy: 0.8290 - val_loss: 2.8667 - val_accuracy: 0.7011\n",
      "Epoch 7/20\n",
      "11/11 [==============================] - 1s 49ms/step - loss: 1.3490 - accuracy: 0.8754 - val_loss: 2.6837 - val_accuracy: 0.7471\n",
      "Epoch 8/20\n",
      "11/11 [==============================] - 1s 48ms/step - loss: 1.1552 - accuracy: 0.8899 - val_loss: 2.8842 - val_accuracy: 0.7126\n",
      "Epoch 9/20\n",
      "11/11 [==============================] - 1s 49ms/step - loss: 1.0451 - accuracy: 0.8928 - val_loss: 3.1495 - val_accuracy: 0.7701\n",
      "Epoch 10/20\n",
      "11/11 [==============================] - 1s 49ms/step - loss: 0.9388 - accuracy: 0.9072 - val_loss: 3.0312 - val_accuracy: 0.7241\n",
      "Epoch 11/20\n",
      "11/11 [==============================] - 1s 50ms/step - loss: 0.8728 - accuracy: 0.9188 - val_loss: 2.8225 - val_accuracy: 0.7701\n",
      "Epoch 12/20\n",
      "11/11 [==============================] - 1s 48ms/step - loss: 0.8403 - accuracy: 0.9362 - val_loss: 2.8247 - val_accuracy: 0.7586\n",
      "Epoch 13/20\n",
      "11/11 [==============================] - 1s 48ms/step - loss: 0.8243 - accuracy: 0.9420 - val_loss: 2.6523 - val_accuracy: 0.7586\n",
      "Epoch 14/20\n",
      "11/11 [==============================] - 1s 49ms/step - loss: 0.8181 - accuracy: 0.9449 - val_loss: 2.8202 - val_accuracy: 0.7241\n",
      "Epoch 15/20\n",
      "11/11 [==============================] - 1s 48ms/step - loss: 0.8148 - accuracy: 0.9449 - val_loss: 3.0180 - val_accuracy: 0.7241\n",
      "Epoch 16/20\n",
      "11/11 [==============================] - 1s 49ms/step - loss: 0.8678 - accuracy: 0.9391 - val_loss: 2.6850 - val_accuracy: 0.7586\n",
      "Epoch 17/20\n",
      "11/11 [==============================] - 1s 48ms/step - loss: 0.8319 - accuracy: 0.9362 - val_loss: 2.7976 - val_accuracy: 0.7241\n",
      "Epoch 18/20\n",
      "11/11 [==============================] - 1s 48ms/step - loss: 0.7855 - accuracy: 0.9362 - val_loss: 2.6462 - val_accuracy: 0.7586\n",
      "Epoch 19/20\n",
      "11/11 [==============================] - 1s 48ms/step - loss: 0.7628 - accuracy: 0.9478 - val_loss: 2.7891 - val_accuracy: 0.7816\n",
      "Epoch 20/20\n",
      "11/11 [==============================] - 1s 49ms/step - loss: 0.7248 - accuracy: 0.9449 - val_loss: 2.6346 - val_accuracy: 0.7701\n"
     ]
    }
   ],
   "source": [
    "glt = model_output(gal,gal1)"
   ]
  },
  {
   "cell_type": "code",
   "execution_count": null,
   "metadata": {
    "colab": {
     "base_uri": "https://localhost:8080/"
    },
    "id": "av0EWPD9ccbd",
    "outputId": "bc7cd48a-f32b-446b-de8c-2a80a25a152e"
   },
   "outputs": [
    {
     "name": "stdout",
     "output_type": "stream",
     "text": [
      "Epoch 1/20\n",
      "11/11 [==============================] - 2s 182ms/step - loss: 2.3673 - accuracy: 0.7349 - val_loss: 2.2559 - val_accuracy: 0.7701\n",
      "Epoch 2/20\n",
      "11/11 [==============================] - 1s 50ms/step - loss: 1.8060 - accuracy: 0.7925 - val_loss: 2.0176 - val_accuracy: 0.7356\n",
      "Epoch 3/20\n",
      "11/11 [==============================] - 1s 53ms/step - loss: 1.6928 - accuracy: 0.8329 - val_loss: 1.8418 - val_accuracy: 0.7241\n",
      "Epoch 4/20\n",
      "11/11 [==============================] - 1s 48ms/step - loss: 1.4696 - accuracy: 0.8444 - val_loss: 2.0096 - val_accuracy: 0.7701\n",
      "Epoch 5/20\n",
      "11/11 [==============================] - 1s 53ms/step - loss: 1.3489 - accuracy: 0.8674 - val_loss: 1.6232 - val_accuracy: 0.7931\n",
      "Epoch 6/20\n",
      "11/11 [==============================] - 1s 48ms/step - loss: 1.2597 - accuracy: 0.8559 - val_loss: 1.6681 - val_accuracy: 0.7816\n",
      "Epoch 7/20\n",
      "11/11 [==============================] - 1s 49ms/step - loss: 1.0656 - accuracy: 0.8963 - val_loss: 1.8524 - val_accuracy: 0.7931\n",
      "Epoch 8/20\n",
      "11/11 [==============================] - 1s 48ms/step - loss: 1.0141 - accuracy: 0.8991 - val_loss: 2.5020 - val_accuracy: 0.7816\n",
      "Epoch 9/20\n",
      "11/11 [==============================] - 1s 49ms/step - loss: 1.0394 - accuracy: 0.9107 - val_loss: 1.9729 - val_accuracy: 0.7471\n",
      "Epoch 10/20\n",
      "11/11 [==============================] - 1s 49ms/step - loss: 1.0421 - accuracy: 0.9107 - val_loss: 2.1119 - val_accuracy: 0.7931\n",
      "Epoch 11/20\n",
      "11/11 [==============================] - 1s 55ms/step - loss: 0.9268 - accuracy: 0.9280 - val_loss: 1.6762 - val_accuracy: 0.7816\n",
      "Epoch 12/20\n",
      "11/11 [==============================] - 1s 47ms/step - loss: 0.8931 - accuracy: 0.9222 - val_loss: 1.8572 - val_accuracy: 0.7816\n",
      "Epoch 13/20\n",
      "11/11 [==============================] - 1s 52ms/step - loss: 0.9322 - accuracy: 0.9164 - val_loss: 2.2363 - val_accuracy: 0.8276\n",
      "Epoch 14/20\n",
      "11/11 [==============================] - 1s 48ms/step - loss: 0.9155 - accuracy: 0.9308 - val_loss: 2.0136 - val_accuracy: 0.7701\n",
      "Epoch 15/20\n",
      "11/11 [==============================] - 1s 53ms/step - loss: 0.9200 - accuracy: 0.9308 - val_loss: 2.2796 - val_accuracy: 0.7701\n",
      "Epoch 16/20\n",
      "11/11 [==============================] - 1s 48ms/step - loss: 0.8992 - accuracy: 0.9424 - val_loss: 1.8182 - val_accuracy: 0.7701\n",
      "Epoch 17/20\n",
      "11/11 [==============================] - 1s 48ms/step - loss: 0.8462 - accuracy: 0.9251 - val_loss: 2.5447 - val_accuracy: 0.6782\n",
      "Epoch 18/20\n",
      "11/11 [==============================] - 1s 53ms/step - loss: 0.9399 - accuracy: 0.9193 - val_loss: 2.0073 - val_accuracy: 0.7471\n",
      "Epoch 19/20\n",
      "11/11 [==============================] - 1s 47ms/step - loss: 0.8539 - accuracy: 0.9452 - val_loss: 2.4591 - val_accuracy: 0.7356\n",
      "Epoch 20/20\n",
      "11/11 [==============================] - 1s 52ms/step - loss: 0.7795 - accuracy: 0.9424 - val_loss: 2.5079 - val_accuracy: 0.7126\n"
     ]
    }
   ],
   "source": [
    "ept = model_output(eph,eph1)"
   ]
  },
  {
   "cell_type": "code",
   "execution_count": null,
   "metadata": {
    "colab": {
     "base_uri": "https://localhost:8080/"
    },
    "id": "NK-ubQmjceJG",
    "outputId": "21abbb92-9f64-467f-b60a-9f7067b5872c"
   },
   "outputs": [
    {
     "name": "stdout",
     "output_type": "stream",
     "text": [
      "Epoch 1/20\n",
      "10/10 [==============================] - 2s 193ms/step - loss: 1.6706 - accuracy: 0.8285 - val_loss: 2.0598 - val_accuracy: 0.8205\n",
      "Epoch 2/20\n",
      "10/10 [==============================] - 1s 51ms/step - loss: 1.1054 - accuracy: 0.8770 - val_loss: 1.9248 - val_accuracy: 0.7821\n",
      "Epoch 3/20\n",
      "10/10 [==============================] - 0s 47ms/step - loss: 1.2664 - accuracy: 0.8382 - val_loss: 1.5142 - val_accuracy: 0.8333\n",
      "Epoch 4/20\n",
      "10/10 [==============================] - 0s 47ms/step - loss: 1.0220 - accuracy: 0.8770 - val_loss: 1.4962 - val_accuracy: 0.8462\n",
      "Epoch 5/20\n",
      "10/10 [==============================] - 0s 49ms/step - loss: 0.9192 - accuracy: 0.9126 - val_loss: 1.4987 - val_accuracy: 0.8462\n",
      "Epoch 6/20\n",
      "10/10 [==============================] - 0s 48ms/step - loss: 0.8951 - accuracy: 0.9353 - val_loss: 1.4934 - val_accuracy: 0.8462\n",
      "Epoch 7/20\n",
      "10/10 [==============================] - 0s 49ms/step - loss: 0.8783 - accuracy: 0.9385 - val_loss: 1.4913 - val_accuracy: 0.8462\n",
      "Epoch 8/20\n",
      "10/10 [==============================] - 0s 50ms/step - loss: 0.8196 - accuracy: 0.9385 - val_loss: 1.4860 - val_accuracy: 0.8590\n",
      "Epoch 9/20\n",
      "10/10 [==============================] - 0s 46ms/step - loss: 0.8348 - accuracy: 0.9385 - val_loss: 1.5248 - val_accuracy: 0.8333\n",
      "Epoch 10/20\n",
      "10/10 [==============================] - 0s 45ms/step - loss: 0.7397 - accuracy: 0.9353 - val_loss: 1.6657 - val_accuracy: 0.8462\n",
      "Epoch 11/20\n",
      "10/10 [==============================] - 1s 51ms/step - loss: 0.7098 - accuracy: 0.9482 - val_loss: 1.4841 - val_accuracy: 0.8333\n",
      "Epoch 12/20\n",
      "10/10 [==============================] - 0s 48ms/step - loss: 0.7036 - accuracy: 0.9547 - val_loss: 1.4729 - val_accuracy: 0.8590\n",
      "Epoch 13/20\n",
      "10/10 [==============================] - 1s 50ms/step - loss: 0.7002 - accuracy: 0.9547 - val_loss: 1.4775 - val_accuracy: 0.8333\n",
      "Epoch 14/20\n",
      "10/10 [==============================] - 0s 48ms/step - loss: 0.6970 - accuracy: 0.9547 - val_loss: 1.4699 - val_accuracy: 0.8718\n",
      "Epoch 15/20\n",
      "10/10 [==============================] - 0s 50ms/step - loss: 0.7003 - accuracy: 0.9547 - val_loss: 1.4752 - val_accuracy: 0.8718\n",
      "Epoch 16/20\n",
      "10/10 [==============================] - 0s 47ms/step - loss: 0.7530 - accuracy: 0.9515 - val_loss: 1.3064 - val_accuracy: 0.8590\n",
      "Epoch 17/20\n",
      "10/10 [==============================] - 0s 47ms/step - loss: 0.7093 - accuracy: 0.9515 - val_loss: 1.3739 - val_accuracy: 0.8462\n",
      "Epoch 18/20\n",
      "10/10 [==============================] - 0s 47ms/step - loss: 0.7711 - accuracy: 0.9417 - val_loss: 1.3498 - val_accuracy: 0.8462\n",
      "Epoch 19/20\n",
      "10/10 [==============================] - 0s 47ms/step - loss: 0.7084 - accuracy: 0.9515 - val_loss: 1.6622 - val_accuracy: 0.8590\n",
      "Epoch 20/20\n",
      "10/10 [==============================] - 0s 48ms/step - loss: 0.7082 - accuracy: 0.9482 - val_loss: 1.8657 - val_accuracy: 0.8462\n"
     ]
    }
   ],
   "source": [
    "plp = model_output(phi,phi1)"
   ]
  },
  {
   "cell_type": "code",
   "execution_count": null,
   "metadata": {
    "colab": {
     "base_uri": "https://localhost:8080/"
    },
    "id": "Nt3zbx1McgA8",
    "outputId": "bf87eb4d-d31a-4c94-ed88-1fab3cdd55e8"
   },
   "outputs": [
    {
     "name": "stdout",
     "output_type": "stream",
     "text": [
      "Epoch 1/20\n",
      "10/10 [==============================] - 2s 196ms/step - loss: 1.1693 - accuracy: 0.8444 - val_loss: 0.9015 - val_accuracy: 0.9079\n",
      "Epoch 2/20\n",
      "10/10 [==============================] - 0s 45ms/step - loss: 0.9438 - accuracy: 0.9073 - val_loss: 0.9772 - val_accuracy: 0.8684\n",
      "Epoch 3/20\n",
      "10/10 [==============================] - 0s 46ms/step - loss: 0.7666 - accuracy: 0.9272 - val_loss: 0.9203 - val_accuracy: 0.8816\n",
      "Epoch 4/20\n",
      "10/10 [==============================] - 0s 45ms/step - loss: 0.6531 - accuracy: 0.9470 - val_loss: 0.9080 - val_accuracy: 0.8947\n",
      "Epoch 5/20\n",
      "10/10 [==============================] - 0s 48ms/step - loss: 0.6885 - accuracy: 0.9470 - val_loss: 0.9530 - val_accuracy: 0.8816\n",
      "Epoch 6/20\n",
      "10/10 [==============================] - 0s 45ms/step - loss: 0.6375 - accuracy: 0.9404 - val_loss: 1.0881 - val_accuracy: 0.8947\n",
      "Epoch 7/20\n",
      "10/10 [==============================] - 0s 48ms/step - loss: 0.6249 - accuracy: 0.9570 - val_loss: 1.1375 - val_accuracy: 0.8947\n",
      "Epoch 8/20\n",
      "10/10 [==============================] - 0s 49ms/step - loss: 0.5804 - accuracy: 0.9536 - val_loss: 1.1201 - val_accuracy: 0.8684\n",
      "Epoch 9/20\n",
      "10/10 [==============================] - 0s 46ms/step - loss: 0.5659 - accuracy: 0.9636 - val_loss: 1.5398 - val_accuracy: 0.8289\n",
      "Epoch 10/20\n",
      "10/10 [==============================] - 0s 46ms/step - loss: 0.6249 - accuracy: 0.9570 - val_loss: 1.1296 - val_accuracy: 0.8553\n",
      "Epoch 11/20\n",
      "10/10 [==============================] - 0s 48ms/step - loss: 0.6190 - accuracy: 0.9603 - val_loss: 1.0825 - val_accuracy: 0.9211\n",
      "Epoch 12/20\n",
      "10/10 [==============================] - 0s 46ms/step - loss: 0.6725 - accuracy: 0.9536 - val_loss: 1.1032 - val_accuracy: 0.8816\n",
      "Epoch 13/20\n",
      "10/10 [==============================] - 0s 47ms/step - loss: 0.6307 - accuracy: 0.9536 - val_loss: 0.9630 - val_accuracy: 0.8553\n",
      "Epoch 14/20\n",
      "10/10 [==============================] - 0s 47ms/step - loss: 0.5624 - accuracy: 0.9636 - val_loss: 1.1739 - val_accuracy: 0.8553\n",
      "Epoch 15/20\n",
      "10/10 [==============================] - 0s 48ms/step - loss: 0.5609 - accuracy: 0.9636 - val_loss: 1.1076 - val_accuracy: 0.8816\n",
      "Epoch 16/20\n",
      "10/10 [==============================] - 0s 46ms/step - loss: 0.5618 - accuracy: 0.9636 - val_loss: 0.9404 - val_accuracy: 0.8553\n",
      "Epoch 17/20\n",
      "10/10 [==============================] - 0s 48ms/step - loss: 0.5657 - accuracy: 0.9603 - val_loss: 1.2962 - val_accuracy: 0.8816\n",
      "Epoch 18/20\n",
      "10/10 [==============================] - 0s 47ms/step - loss: 0.5777 - accuracy: 0.9536 - val_loss: 0.9484 - val_accuracy: 0.8947\n",
      "Epoch 19/20\n",
      "10/10 [==============================] - 0s 47ms/step - loss: 0.5678 - accuracy: 0.9636 - val_loss: 1.1149 - val_accuracy: 0.8816\n",
      "Epoch 20/20\n",
      "10/10 [==============================] - 0s 48ms/step - loss: 0.5183 - accuracy: 0.9636 - val_loss: 1.1318 - val_accuracy: 0.8421\n"
     ]
    }
   ],
   "source": [
    "cls = model_output(col,col1)"
   ]
  },
  {
   "cell_type": "code",
   "execution_count": null,
   "metadata": {
    "colab": {
     "base_uri": "https://localhost:8080/"
    },
    "id": "mjNZCgyfciMP",
    "outputId": "cd1383ca-2e69-4d9b-89f9-429ef5902175"
   },
   "outputs": [
    {
     "name": "stdout",
     "output_type": "stream",
     "text": [
      "Epoch 1/20\n",
      "10/10 [==============================] - 2s 192ms/step - loss: 2.3947 - accuracy: 0.7912 - val_loss: 2.3281 - val_accuracy: 0.7867\n",
      "Epoch 2/20\n",
      "10/10 [==============================] - 0s 48ms/step - loss: 1.8358 - accuracy: 0.8350 - val_loss: 2.7219 - val_accuracy: 0.7867\n",
      "Epoch 3/20\n",
      "10/10 [==============================] - 0s 48ms/step - loss: 1.6730 - accuracy: 0.8620 - val_loss: 2.5414 - val_accuracy: 0.8000\n",
      "Epoch 4/20\n",
      "10/10 [==============================] - 0s 46ms/step - loss: 1.5956 - accuracy: 0.8822 - val_loss: 2.5172 - val_accuracy: 0.8000\n",
      "Epoch 5/20\n",
      "10/10 [==============================] - 0s 47ms/step - loss: 1.5155 - accuracy: 0.8788 - val_loss: 2.5331 - val_accuracy: 0.8133\n",
      "Epoch 6/20\n",
      "10/10 [==============================] - 0s 46ms/step - loss: 1.5438 - accuracy: 0.8889 - val_loss: 2.3516 - val_accuracy: 0.8000\n",
      "Epoch 7/20\n",
      "10/10 [==============================] - 0s 46ms/step - loss: 1.5176 - accuracy: 0.8990 - val_loss: 2.3472 - val_accuracy: 0.8267\n",
      "Epoch 8/20\n",
      "10/10 [==============================] - 0s 46ms/step - loss: 1.4317 - accuracy: 0.9024 - val_loss: 2.3186 - val_accuracy: 0.8267\n",
      "Epoch 9/20\n",
      "10/10 [==============================] - 0s 48ms/step - loss: 1.5534 - accuracy: 0.8822 - val_loss: 2.3315 - val_accuracy: 0.8000\n",
      "Epoch 10/20\n",
      "10/10 [==============================] - 0s 45ms/step - loss: 1.5009 - accuracy: 0.8754 - val_loss: 2.3417 - val_accuracy: 0.8267\n",
      "Epoch 11/20\n",
      "10/10 [==============================] - 0s 49ms/step - loss: 1.3649 - accuracy: 0.9091 - val_loss: 2.3327 - val_accuracy: 0.8000\n",
      "Epoch 12/20\n",
      "10/10 [==============================] - 0s 46ms/step - loss: 1.3558 - accuracy: 0.9091 - val_loss: 2.1556 - val_accuracy: 0.8133\n",
      "Epoch 13/20\n",
      "10/10 [==============================] - 0s 46ms/step - loss: 1.3559 - accuracy: 0.9125 - val_loss: 2.1467 - val_accuracy: 0.8267\n",
      "Epoch 14/20\n",
      "10/10 [==============================] - 0s 47ms/step - loss: 1.3524 - accuracy: 0.9125 - val_loss: 2.1503 - val_accuracy: 0.8133\n",
      "Epoch 15/20\n",
      "10/10 [==============================] - 0s 46ms/step - loss: 1.3526 - accuracy: 0.9125 - val_loss: 2.3684 - val_accuracy: 0.8133\n",
      "Epoch 16/20\n",
      "10/10 [==============================] - 0s 45ms/step - loss: 1.3559 - accuracy: 0.9125 - val_loss: 2.5656 - val_accuracy: 0.7867\n",
      "Epoch 17/20\n",
      "10/10 [==============================] - 0s 47ms/step - loss: 1.3110 - accuracy: 0.9091 - val_loss: 2.1587 - val_accuracy: 0.8000\n",
      "Epoch 18/20\n",
      "10/10 [==============================] - 0s 47ms/step - loss: 1.4205 - accuracy: 0.9057 - val_loss: 2.3555 - val_accuracy: 0.8000\n",
      "Epoch 19/20\n",
      "10/10 [==============================] - 0s 48ms/step - loss: 1.2608 - accuracy: 0.9057 - val_loss: 2.3303 - val_accuracy: 0.8267\n",
      "Epoch 20/20\n",
      "10/10 [==============================] - 0s 46ms/step - loss: 1.2036 - accuracy: 0.9192 - val_loss: 2.4843 - val_accuracy: 0.8400\n"
     ]
    }
   ],
   "source": [
    "ftl = model_output(fthe,fthe1)"
   ]
  },
  {
   "cell_type": "code",
   "execution_count": null,
   "metadata": {
    "colab": {
     "base_uri": "https://localhost:8080/"
    },
    "id": "HjxwTjx9ckgZ",
    "outputId": "423ce57d-1ad4-433d-85af-1e61fe65019d"
   },
   "outputs": [
    {
     "name": "stdout",
     "output_type": "stream",
     "text": [
      "Epoch 1/20\n",
      "9/9 [==============================] - 2s 205ms/step - loss: 1.6395 - accuracy: 0.8674 - val_loss: 1.4102 - val_accuracy: 0.9091\n",
      "Epoch 2/20\n",
      "9/9 [==============================] - 0s 45ms/step - loss: 1.6515 - accuracy: 0.8864 - val_loss: 1.2319 - val_accuracy: 0.8939\n",
      "Epoch 3/20\n",
      "9/9 [==============================] - 0s 47ms/step - loss: 1.6539 - accuracy: 0.8864 - val_loss: 1.2288 - val_accuracy: 0.8939\n",
      "Epoch 4/20\n",
      "9/9 [==============================] - 0s 46ms/step - loss: 1.3444 - accuracy: 0.8788 - val_loss: 1.2783 - val_accuracy: 0.8636\n",
      "Epoch 5/20\n",
      "9/9 [==============================] - 0s 46ms/step - loss: 1.2933 - accuracy: 0.9129 - val_loss: 1.2270 - val_accuracy: 0.8939\n",
      "Epoch 6/20\n",
      "9/9 [==============================] - 0s 48ms/step - loss: 1.1837 - accuracy: 0.9167 - val_loss: 1.2416 - val_accuracy: 0.8939\n",
      "Epoch 7/20\n",
      "9/9 [==============================] - 0s 49ms/step - loss: 1.1830 - accuracy: 0.9167 - val_loss: 1.0096 - val_accuracy: 0.8939\n",
      "Epoch 8/20\n",
      "9/9 [==============================] - 0s 49ms/step - loss: 1.1723 - accuracy: 0.9205 - val_loss: 1.0099 - val_accuracy: 0.8939\n",
      "Epoch 9/20\n",
      "9/9 [==============================] - 0s 48ms/step - loss: 1.1686 - accuracy: 0.9242 - val_loss: 1.0099 - val_accuracy: 0.8939\n",
      "Epoch 10/20\n",
      "9/9 [==============================] - 0s 49ms/step - loss: 1.1686 - accuracy: 0.9242 - val_loss: 1.0099 - val_accuracy: 0.8939\n",
      "Epoch 11/20\n",
      "9/9 [==============================] - 0s 48ms/step - loss: 1.1686 - accuracy: 0.9242 - val_loss: 1.0099 - val_accuracy: 0.8939\n",
      "Epoch 12/20\n",
      "9/9 [==============================] - 0s 47ms/step - loss: 1.1686 - accuracy: 0.9242 - val_loss: 1.0099 - val_accuracy: 0.8939\n",
      "Epoch 13/20\n",
      "9/9 [==============================] - 0s 47ms/step - loss: 1.1686 - accuracy: 0.9242 - val_loss: 1.0099 - val_accuracy: 0.8939\n",
      "Epoch 14/20\n",
      "9/9 [==============================] - 0s 47ms/step - loss: 1.1686 - accuracy: 0.9242 - val_loss: 1.0099 - val_accuracy: 0.8939\n",
      "Epoch 15/20\n",
      "9/9 [==============================] - 0s 46ms/step - loss: 1.1686 - accuracy: 0.9242 - val_loss: 1.0099 - val_accuracy: 0.8939\n",
      "Epoch 16/20\n",
      "9/9 [==============================] - 0s 49ms/step - loss: 1.1686 - accuracy: 0.9242 - val_loss: 1.0099 - val_accuracy: 0.8939\n",
      "Epoch 17/20\n",
      "9/9 [==============================] - 0s 45ms/step - loss: 1.1686 - accuracy: 0.9242 - val_loss: 1.0099 - val_accuracy: 0.8939\n",
      "Epoch 18/20\n",
      "9/9 [==============================] - 0s 46ms/step - loss: 1.1686 - accuracy: 0.9242 - val_loss: 1.0099 - val_accuracy: 0.8939\n",
      "Epoch 19/20\n",
      "9/9 [==============================] - 0s 46ms/step - loss: 1.1686 - accuracy: 0.9242 - val_loss: 1.0099 - val_accuracy: 0.8939\n",
      "Epoch 20/20\n",
      "9/9 [==============================] - 0s 47ms/step - loss: 1.1686 - accuracy: 0.9242 - val_loss: 1.0099 - val_accuracy: 0.8939\n"
     ]
    }
   ],
   "source": [
    "stl = model_output(sthe,sthe1)"
   ]
  },
  {
   "cell_type": "code",
   "execution_count": null,
   "metadata": {
    "colab": {
     "base_uri": "https://localhost:8080/"
    },
    "id": "z1If1x_fcmTL",
    "outputId": "e65f1b1b-1cd2-4cc4-b4c5-ec291c2484a2"
   },
   "outputs": [
    {
     "name": "stdout",
     "output_type": "stream",
     "text": [
      "Epoch 1/20\n",
      "10/10 [==============================] - 2s 196ms/step - loss: 2.8537 - accuracy: 0.7848 - val_loss: 2.7646 - val_accuracy: 0.6875\n",
      "Epoch 2/20\n",
      "10/10 [==============================] - 0s 47ms/step - loss: 2.7639 - accuracy: 0.7690 - val_loss: 2.5257 - val_accuracy: 0.7250\n",
      "Epoch 3/20\n",
      "10/10 [==============================] - 0s 48ms/step - loss: 2.2067 - accuracy: 0.8006 - val_loss: 2.2857 - val_accuracy: 0.7875\n",
      "Epoch 4/20\n",
      "10/10 [==============================] - 0s 48ms/step - loss: 2.0709 - accuracy: 0.8386 - val_loss: 2.4300 - val_accuracy: 0.7875\n",
      "Epoch 5/20\n",
      "10/10 [==============================] - 0s 46ms/step - loss: 1.9951 - accuracy: 0.8513 - val_loss: 2.2726 - val_accuracy: 0.8000\n",
      "Epoch 6/20\n",
      "10/10 [==============================] - 0s 49ms/step - loss: 1.9295 - accuracy: 0.8671 - val_loss: 2.4947 - val_accuracy: 0.7250\n",
      "Epoch 7/20\n",
      "10/10 [==============================] - 0s 47ms/step - loss: 1.8859 - accuracy: 0.8513 - val_loss: 2.3208 - val_accuracy: 0.7625\n",
      "Epoch 8/20\n",
      "10/10 [==============================] - 0s 47ms/step - loss: 1.8029 - accuracy: 0.8703 - val_loss: 2.2875 - val_accuracy: 0.7875\n",
      "Epoch 9/20\n",
      "10/10 [==============================] - 0s 45ms/step - loss: 1.6406 - accuracy: 0.8829 - val_loss: 1.7664 - val_accuracy: 0.7875\n",
      "Epoch 10/20\n",
      "10/10 [==============================] - 0s 48ms/step - loss: 1.6241 - accuracy: 0.8924 - val_loss: 1.7810 - val_accuracy: 0.7625\n",
      "Epoch 11/20\n",
      "10/10 [==============================] - 0s 47ms/step - loss: 1.6167 - accuracy: 0.8924 - val_loss: 1.8218 - val_accuracy: 0.7500\n",
      "Epoch 12/20\n",
      "10/10 [==============================] - 0s 47ms/step - loss: 1.6156 - accuracy: 0.8956 - val_loss: 1.7958 - val_accuracy: 0.7625\n",
      "Epoch 13/20\n",
      "10/10 [==============================] - 0s 47ms/step - loss: 1.6208 - accuracy: 0.8956 - val_loss: 2.3395 - val_accuracy: 0.7375\n",
      "Epoch 14/20\n",
      "10/10 [==============================] - 0s 48ms/step - loss: 1.6166 - accuracy: 0.8956 - val_loss: 2.4825 - val_accuracy: 0.7500\n",
      "Epoch 15/20\n",
      "10/10 [==============================] - 1s 50ms/step - loss: 1.5861 - accuracy: 0.8892 - val_loss: 2.1286 - val_accuracy: 0.7250\n",
      "Epoch 16/20\n",
      "10/10 [==============================] - 0s 48ms/step - loss: 1.5870 - accuracy: 0.8703 - val_loss: 2.3270 - val_accuracy: 0.7625\n",
      "Epoch 17/20\n",
      "10/10 [==============================] - 0s 47ms/step - loss: 1.3527 - accuracy: 0.8956 - val_loss: 2.0202 - val_accuracy: 0.7250\n",
      "Epoch 18/20\n",
      "10/10 [==============================] - 1s 51ms/step - loss: 1.3137 - accuracy: 0.9019 - val_loss: 2.2087 - val_accuracy: 0.7500\n",
      "Epoch 19/20\n",
      "10/10 [==============================] - 0s 47ms/step - loss: 1.2751 - accuracy: 0.9177 - val_loss: 2.1681 - val_accuracy: 0.7500\n",
      "Epoch 20/20\n",
      "10/10 [==============================] - 0s 47ms/step - loss: 1.2646 - accuracy: 0.9019 - val_loss: 2.1499 - val_accuracy: 0.7375\n"
     ]
    }
   ],
   "source": [
    "ftm = model_output(ftim,ftim1)"
   ]
  },
  {
   "cell_type": "code",
   "execution_count": null,
   "metadata": {
    "colab": {
     "base_uri": "https://localhost:8080/"
    },
    "id": "9Kd4t1dgcsn_",
    "outputId": "21994818-ce62-4c6d-a538-3698f53f53e1"
   },
   "outputs": [
    {
     "name": "stdout",
     "output_type": "stream",
     "text": [
      "Epoch 1/20\n",
      "10/10 [==============================] - 2s 201ms/step - loss: 1.9141 - accuracy: 0.8219 - val_loss: 1.9985 - val_accuracy: 0.7973\n",
      "Epoch 2/20\n",
      "10/10 [==============================] - 0s 47ms/step - loss: 1.7318 - accuracy: 0.8767 - val_loss: 1.4356 - val_accuracy: 0.8378\n",
      "Epoch 3/20\n",
      "10/10 [==============================] - 0s 48ms/step - loss: 1.3939 - accuracy: 0.8562 - val_loss: 1.8473 - val_accuracy: 0.8243\n",
      "Epoch 4/20\n",
      "10/10 [==============================] - 1s 73ms/step - loss: 1.3999 - accuracy: 0.8870 - val_loss: 2.0021 - val_accuracy: 0.8243\n",
      "Epoch 5/20\n",
      "10/10 [==============================] - 1s 76ms/step - loss: 1.2172 - accuracy: 0.8973 - val_loss: 1.8233 - val_accuracy: 0.8108\n",
      "Epoch 6/20\n",
      "10/10 [==============================] - 1s 81ms/step - loss: 1.1794 - accuracy: 0.9144 - val_loss: 1.8391 - val_accuracy: 0.8243\n",
      "Epoch 7/20\n",
      "10/10 [==============================] - 1s 52ms/step - loss: 1.1723 - accuracy: 0.9144 - val_loss: 1.6929 - val_accuracy: 0.8243\n",
      "Epoch 8/20\n",
      "10/10 [==============================] - 1s 53ms/step - loss: 1.1696 - accuracy: 0.9178 - val_loss: 1.6486 - val_accuracy: 0.8108\n",
      "Epoch 9/20\n",
      "10/10 [==============================] - 0s 50ms/step - loss: 1.1696 - accuracy: 0.9212 - val_loss: 1.8054 - val_accuracy: 0.7973\n",
      "Epoch 10/20\n",
      "10/10 [==============================] - 1s 52ms/step - loss: 1.2733 - accuracy: 0.9178 - val_loss: 2.2022 - val_accuracy: 0.7703\n",
      "Epoch 11/20\n",
      "10/10 [==============================] - 1s 52ms/step - loss: 1.1878 - accuracy: 0.9212 - val_loss: 1.8890 - val_accuracy: 0.7838\n",
      "Epoch 12/20\n",
      "10/10 [==============================] - 0s 49ms/step - loss: 1.1181 - accuracy: 0.9247 - val_loss: 2.1909 - val_accuracy: 0.8243\n",
      "Epoch 13/20\n",
      "10/10 [==============================] - 0s 47ms/step - loss: 1.1143 - accuracy: 0.9281 - val_loss: 2.1841 - val_accuracy: 0.7838\n",
      "Epoch 14/20\n",
      "10/10 [==============================] - 0s 49ms/step - loss: 1.1085 - accuracy: 0.9281 - val_loss: 2.1561 - val_accuracy: 0.8108\n",
      "Epoch 15/20\n",
      "10/10 [==============================] - 0s 46ms/step - loss: 1.1098 - accuracy: 0.9281 - val_loss: 2.3729 - val_accuracy: 0.8243\n",
      "Epoch 16/20\n",
      "10/10 [==============================] - 0s 45ms/step - loss: 1.1681 - accuracy: 0.9212 - val_loss: 2.2393 - val_accuracy: 0.8108\n",
      "Epoch 17/20\n",
      "10/10 [==============================] - 0s 47ms/step - loss: 1.0029 - accuracy: 0.9075 - val_loss: 2.4674 - val_accuracy: 0.7703\n",
      "Epoch 18/20\n",
      "10/10 [==============================] - 0s 46ms/step - loss: 1.0221 - accuracy: 0.9212 - val_loss: 2.3995 - val_accuracy: 0.7703\n",
      "Epoch 19/20\n",
      "10/10 [==============================] - 0s 48ms/step - loss: 0.9721 - accuracy: 0.9349 - val_loss: 2.5975 - val_accuracy: 0.8108\n",
      "Epoch 20/20\n",
      "10/10 [==============================] - 0s 47ms/step - loss: 0.9931 - accuracy: 0.9247 - val_loss: 2.4250 - val_accuracy: 0.7973\n"
     ]
    }
   ],
   "source": [
    "stm = model_output(stim,stim1)"
   ]
  },
  {
   "cell_type": "code",
   "execution_count": null,
   "metadata": {
    "colab": {
     "base_uri": "https://localhost:8080/"
    },
    "id": "lSmknLWrcupi",
    "outputId": "13632b80-1042-4ada-cde8-fd325b1dea72"
   },
   "outputs": [
    {
     "name": "stdout",
     "output_type": "stream",
     "text": [
      "Epoch 1/20\n",
      "9/9 [==============================] - 2s 201ms/step - loss: 1.6746 - accuracy: 0.8631 - val_loss: 2.7171 - val_accuracy: 0.7424\n",
      "Epoch 2/20\n",
      "9/9 [==============================] - 0s 44ms/step - loss: 1.8644 - accuracy: 0.8175 - val_loss: 2.3872 - val_accuracy: 0.8182\n",
      "Epoch 3/20\n",
      "9/9 [==============================] - 0s 46ms/step - loss: 1.4950 - accuracy: 0.8859 - val_loss: 1.9626 - val_accuracy: 0.8182\n",
      "Epoch 4/20\n",
      "9/9 [==============================] - 0s 47ms/step - loss: 1.1975 - accuracy: 0.9087 - val_loss: 1.9175 - val_accuracy: 0.8485\n",
      "Epoch 5/20\n",
      "9/9 [==============================] - 0s 46ms/step - loss: 1.1258 - accuracy: 0.9240 - val_loss: 1.9159 - val_accuracy: 0.8485\n",
      "Epoch 6/20\n",
      "9/9 [==============================] - 0s 47ms/step - loss: 1.1139 - accuracy: 0.9278 - val_loss: 1.9158 - val_accuracy: 0.8485\n",
      "Epoch 7/20\n",
      "9/9 [==============================] - 0s 46ms/step - loss: 1.1122 - accuracy: 0.9278 - val_loss: 1.7069 - val_accuracy: 0.8485\n",
      "Epoch 8/20\n",
      "9/9 [==============================] - 0s 45ms/step - loss: 1.1118 - accuracy: 0.9278 - val_loss: 1.9074 - val_accuracy: 0.8636\n",
      "Epoch 9/20\n",
      "9/9 [==============================] - 0s 46ms/step - loss: 1.0648 - accuracy: 0.9278 - val_loss: 1.4914 - val_accuracy: 0.8636\n",
      "Epoch 10/20\n",
      "9/9 [==============================] - 0s 44ms/step - loss: 0.9635 - accuracy: 0.9316 - val_loss: 1.4504 - val_accuracy: 0.8788\n",
      "Epoch 11/20\n",
      "9/9 [==============================] - 0s 45ms/step - loss: 0.6948 - accuracy: 0.9278 - val_loss: 1.3243 - val_accuracy: 0.8485\n",
      "Epoch 12/20\n",
      "9/9 [==============================] - 0s 44ms/step - loss: 0.6629 - accuracy: 0.9506 - val_loss: 1.3045 - val_accuracy: 0.8485\n",
      "Epoch 13/20\n",
      "9/9 [==============================] - 0s 45ms/step - loss: 0.6439 - accuracy: 0.9582 - val_loss: 1.2968 - val_accuracy: 0.8485\n",
      "Epoch 14/20\n",
      "9/9 [==============================] - 0s 46ms/step - loss: 0.6438 - accuracy: 0.9582 - val_loss: 1.2968 - val_accuracy: 0.8485\n",
      "Epoch 15/20\n",
      "9/9 [==============================] - 0s 52ms/step - loss: 0.6438 - accuracy: 0.9582 - val_loss: 1.2968 - val_accuracy: 0.8485\n",
      "Epoch 16/20\n",
      "9/9 [==============================] - 0s 47ms/step - loss: 0.6438 - accuracy: 0.9582 - val_loss: 1.2968 - val_accuracy: 0.8485\n",
      "Epoch 17/20\n",
      "9/9 [==============================] - 0s 50ms/step - loss: 0.6438 - accuracy: 0.9582 - val_loss: 1.2968 - val_accuracy: 0.8485\n",
      "Epoch 18/20\n",
      "9/9 [==============================] - 0s 46ms/step - loss: 0.6438 - accuracy: 0.9582 - val_loss: 1.2968 - val_accuracy: 0.8485\n",
      "Epoch 19/20\n",
      "9/9 [==============================] - 0s 50ms/step - loss: 0.6438 - accuracy: 0.9582 - val_loss: 1.2968 - val_accuracy: 0.8485\n",
      "Epoch 20/20\n",
      "9/9 [==============================] - 0s 51ms/step - loss: 0.6438 - accuracy: 0.9582 - val_loss: 1.2968 - val_accuracy: 0.8485\n"
     ]
    }
   ],
   "source": [
    "tus = model_output(titus,titus1)"
   ]
  },
  {
   "cell_type": "code",
   "execution_count": null,
   "metadata": {
    "colab": {
     "base_uri": "https://localhost:8080/"
    },
    "id": "gyvEGjUAcw7b",
    "outputId": "f1db6bdd-b9bd-4402-8973-299adb35ddb5"
   },
   "outputs": [
    {
     "name": "stdout",
     "output_type": "stream",
     "text": [
      "Epoch 1/20\n",
      "8/8 [==============================] - 2s 235ms/step - loss: 1.0486 - accuracy: 0.9268 - val_loss: 0.7601 - val_accuracy: 0.9355\n",
      "Epoch 2/20\n",
      "8/8 [==============================] - 0s 46ms/step - loss: 1.1443 - accuracy: 0.9228 - val_loss: 0.5565 - val_accuracy: 0.9194\n",
      "Epoch 3/20\n",
      "8/8 [==============================] - 0s 46ms/step - loss: 1.1396 - accuracy: 0.9187 - val_loss: 0.4753 - val_accuracy: 0.9194\n",
      "Epoch 4/20\n",
      "8/8 [==============================] - 0s 48ms/step - loss: 1.0743 - accuracy: 0.9268 - val_loss: 0.5393 - val_accuracy: 0.9355\n",
      "Epoch 5/20\n",
      "8/8 [==============================] - 0s 45ms/step - loss: 1.0647 - accuracy: 0.9309 - val_loss: 0.5289 - val_accuracy: 0.9516\n",
      "Epoch 6/20\n",
      "8/8 [==============================] - 0s 46ms/step - loss: 1.0624 - accuracy: 0.9309 - val_loss: 0.5289 - val_accuracy: 0.9516\n",
      "Epoch 7/20\n",
      "8/8 [==============================] - 0s 48ms/step - loss: 1.0624 - accuracy: 0.9309 - val_loss: 0.5289 - val_accuracy: 0.9516\n",
      "Epoch 8/20\n",
      "8/8 [==============================] - 0s 45ms/step - loss: 1.0624 - accuracy: 0.9309 - val_loss: 0.5289 - val_accuracy: 0.9516\n",
      "Epoch 9/20\n",
      "8/8 [==============================] - 0s 47ms/step - loss: 1.0624 - accuracy: 0.9309 - val_loss: 0.5289 - val_accuracy: 0.9516\n",
      "Epoch 10/20\n",
      "8/8 [==============================] - 0s 46ms/step - loss: 1.0624 - accuracy: 0.9309 - val_loss: 0.5289 - val_accuracy: 0.9516\n",
      "Epoch 11/20\n",
      "8/8 [==============================] - 0s 50ms/step - loss: 1.0624 - accuracy: 0.9309 - val_loss: 0.5289 - val_accuracy: 0.9516\n",
      "Epoch 12/20\n",
      "8/8 [==============================] - 0s 48ms/step - loss: 1.0624 - accuracy: 0.9309 - val_loss: 0.5289 - val_accuracy: 0.9516\n",
      "Epoch 13/20\n",
      "8/8 [==============================] - 0s 45ms/step - loss: 1.0624 - accuracy: 0.9309 - val_loss: 0.5289 - val_accuracy: 0.9516\n",
      "Epoch 14/20\n",
      "8/8 [==============================] - 0s 49ms/step - loss: 1.0624 - accuracy: 0.9309 - val_loss: 0.5289 - val_accuracy: 0.9516\n",
      "Epoch 15/20\n",
      "8/8 [==============================] - 0s 45ms/step - loss: 1.0624 - accuracy: 0.9309 - val_loss: 0.5289 - val_accuracy: 0.9516\n",
      "Epoch 16/20\n",
      "8/8 [==============================] - 0s 46ms/step - loss: 1.0624 - accuracy: 0.9309 - val_loss: 0.5289 - val_accuracy: 0.9516\n",
      "Epoch 17/20\n",
      "8/8 [==============================] - 0s 46ms/step - loss: 1.0624 - accuracy: 0.9309 - val_loss: 0.5289 - val_accuracy: 0.9516\n",
      "Epoch 18/20\n",
      "8/8 [==============================] - 0s 47ms/step - loss: 1.0624 - accuracy: 0.9309 - val_loss: 0.5289 - val_accuracy: 0.9516\n",
      "Epoch 19/20\n",
      "8/8 [==============================] - 0s 48ms/step - loss: 1.0624 - accuracy: 0.9309 - val_loss: 0.5289 - val_accuracy: 0.9516\n",
      "Epoch 20/20\n",
      "8/8 [==============================] - 0s 49ms/step - loss: 1.0624 - accuracy: 0.9309 - val_loss: 0.5289 - val_accuracy: 0.9516\n"
     ]
    }
   ],
   "source": [
    "plm = model_output(philemon,philemon1)"
   ]
  },
  {
   "cell_type": "code",
   "execution_count": null,
   "metadata": {
    "colab": {
     "base_uri": "https://localhost:8080/"
    },
    "id": "dVhDUtEtcyys",
    "outputId": "a26d3300-8405-4bbc-85ab-b796c84176dc"
   },
   "outputs": [
    {
     "name": "stdout",
     "output_type": "stream",
     "text": [
      "Epoch 1/20\n",
      "10/10 [==============================] - 2s 192ms/step - loss: 2.8494 - accuracy: 0.7500 - val_loss: 1.0912 - val_accuracy: 0.8608\n",
      "Epoch 2/20\n",
      "10/10 [==============================] - 0s 48ms/step - loss: 2.0196 - accuracy: 0.8045 - val_loss: 2.0159 - val_accuracy: 0.8228\n",
      "Epoch 3/20\n",
      "10/10 [==============================] - 1s 53ms/step - loss: 1.9961 - accuracy: 0.8429 - val_loss: 1.6784 - val_accuracy: 0.8354\n",
      "Epoch 4/20\n",
      "10/10 [==============================] - 0s 47ms/step - loss: 1.9397 - accuracy: 0.8686 - val_loss: 1.7139 - val_accuracy: 0.8354\n",
      "Epoch 5/20\n",
      "10/10 [==============================] - 0s 48ms/step - loss: 1.8927 - accuracy: 0.8654 - val_loss: 1.0830 - val_accuracy: 0.8987\n",
      "Epoch 6/20\n",
      "10/10 [==============================] - 0s 46ms/step - loss: 1.5210 - accuracy: 0.8750 - val_loss: 1.2837 - val_accuracy: 0.8861\n",
      "Epoch 7/20\n",
      "10/10 [==============================] - 0s 50ms/step - loss: 1.2224 - accuracy: 0.8846 - val_loss: 1.2544 - val_accuracy: 0.8734\n",
      "Epoch 8/20\n",
      "10/10 [==============================] - 0s 46ms/step - loss: 1.1724 - accuracy: 0.9135 - val_loss: 1.2529 - val_accuracy: 0.8734\n",
      "Epoch 9/20\n",
      "10/10 [==============================] - 0s 47ms/step - loss: 1.1126 - accuracy: 0.9231 - val_loss: 1.2578 - val_accuracy: 0.8734\n",
      "Epoch 10/20\n",
      "10/10 [==============================] - 0s 50ms/step - loss: 1.0941 - accuracy: 0.9295 - val_loss: 1.2686 - val_accuracy: 0.8481\n",
      "Epoch 11/20\n",
      "10/10 [==============================] - 0s 47ms/step - loss: 1.0895 - accuracy: 0.9295 - val_loss: 1.2540 - val_accuracy: 0.8608\n",
      "Epoch 12/20\n",
      "10/10 [==============================] - 0s 47ms/step - loss: 1.0856 - accuracy: 0.9295 - val_loss: 1.2540 - val_accuracy: 0.8608\n",
      "Epoch 13/20\n",
      "10/10 [==============================] - 0s 47ms/step - loss: 1.0884 - accuracy: 0.9295 - val_loss: 1.4469 - val_accuracy: 0.8481\n",
      "Epoch 14/20\n",
      "10/10 [==============================] - 0s 47ms/step - loss: 1.1038 - accuracy: 0.9199 - val_loss: 1.1287 - val_accuracy: 0.8608\n",
      "Epoch 15/20\n",
      "10/10 [==============================] - 0s 50ms/step - loss: 0.9750 - accuracy: 0.9263 - val_loss: 1.1293 - val_accuracy: 0.8481\n",
      "Epoch 16/20\n",
      "10/10 [==============================] - 0s 46ms/step - loss: 0.9461 - accuracy: 0.9327 - val_loss: 1.3368 - val_accuracy: 0.8354\n",
      "Epoch 17/20\n",
      "10/10 [==============================] - 0s 49ms/step - loss: 0.9460 - accuracy: 0.9391 - val_loss: 1.5071 - val_accuracy: 0.8354\n",
      "Epoch 18/20\n",
      "10/10 [==============================] - 0s 47ms/step - loss: 0.9377 - accuracy: 0.9391 - val_loss: 1.4630 - val_accuracy: 0.8481\n",
      "Epoch 19/20\n",
      "10/10 [==============================] - 1s 51ms/step - loss: 0.9379 - accuracy: 0.9391 - val_loss: 1.4763 - val_accuracy: 0.8481\n",
      "Epoch 20/20\n",
      "10/10 [==============================] - 0s 48ms/step - loss: 0.8975 - accuracy: 0.9391 - val_loss: 1.3150 - val_accuracy: 0.8481\n"
     ]
    }
   ],
   "source": [
    "jam = model_output(jams,jams1)"
   ]
  },
  {
   "cell_type": "code",
   "execution_count": null,
   "metadata": {
    "colab": {
     "base_uri": "https://localhost:8080/"
    },
    "id": "4V4kxfT3c0uu",
    "outputId": "7dadc97f-4b56-43b2-903c-57aa63492523"
   },
   "outputs": [
    {
     "name": "stdout",
     "output_type": "stream",
     "text": [
      "Epoch 1/20\n",
      "10/10 [==============================] - 2s 189ms/step - loss: 1.4511 - accuracy: 0.8562 - val_loss: 1.8546 - val_accuracy: 0.8701\n",
      "Epoch 2/20\n",
      "10/10 [==============================] - 1s 55ms/step - loss: 1.1935 - accuracy: 0.9085 - val_loss: 1.7016 - val_accuracy: 0.8442\n",
      "Epoch 3/20\n",
      "10/10 [==============================] - 0s 47ms/step - loss: 0.9445 - accuracy: 0.8987 - val_loss: 1.7333 - val_accuracy: 0.8312\n",
      "Epoch 4/20\n",
      "10/10 [==============================] - 0s 49ms/step - loss: 0.9138 - accuracy: 0.9118 - val_loss: 1.7108 - val_accuracy: 0.7532\n",
      "Epoch 5/20\n",
      "10/10 [==============================] - 0s 46ms/step - loss: 0.6635 - accuracy: 0.9314 - val_loss: 1.6510 - val_accuracy: 0.7792\n",
      "Epoch 6/20\n",
      "10/10 [==============================] - 0s 48ms/step - loss: 0.4635 - accuracy: 0.9412 - val_loss: 1.5324 - val_accuracy: 0.8571\n",
      "Epoch 7/20\n",
      "10/10 [==============================] - 0s 47ms/step - loss: 0.4386 - accuracy: 0.9641 - val_loss: 1.5325 - val_accuracy: 0.8442\n",
      "Epoch 8/20\n",
      "10/10 [==============================] - 0s 47ms/step - loss: 0.4206 - accuracy: 0.9673 - val_loss: 1.5303 - val_accuracy: 0.8571\n",
      "Epoch 9/20\n",
      "10/10 [==============================] - 0s 48ms/step - loss: 0.4125 - accuracy: 0.9739 - val_loss: 1.5515 - val_accuracy: 0.8701\n",
      "Epoch 10/20\n",
      "10/10 [==============================] - 1s 52ms/step - loss: 0.4089 - accuracy: 0.9739 - val_loss: 1.5463 - val_accuracy: 0.8701\n",
      "Epoch 11/20\n",
      "10/10 [==============================] - 1s 52ms/step - loss: 0.4075 - accuracy: 0.9706 - val_loss: 1.5315 - val_accuracy: 0.8571\n",
      "Epoch 12/20\n",
      "10/10 [==============================] - 1s 50ms/step - loss: 0.4082 - accuracy: 0.9706 - val_loss: 1.6840 - val_accuracy: 0.8571\n",
      "Epoch 13/20\n",
      "10/10 [==============================] - 1s 53ms/step - loss: 0.4151 - accuracy: 0.9673 - val_loss: 1.7427 - val_accuracy: 0.8442\n",
      "Epoch 14/20\n",
      "10/10 [==============================] - 0s 47ms/step - loss: 0.4113 - accuracy: 0.9739 - val_loss: 1.5612 - val_accuracy: 0.8052\n",
      "Epoch 15/20\n",
      "10/10 [==============================] - 0s 47ms/step - loss: 0.4748 - accuracy: 0.9608 - val_loss: 1.5617 - val_accuracy: 0.8312\n",
      "Epoch 16/20\n",
      "10/10 [==============================] - 0s 47ms/step - loss: 0.3794 - accuracy: 0.9641 - val_loss: 1.3622 - val_accuracy: 0.8312\n",
      "Epoch 17/20\n",
      "10/10 [==============================] - 0s 47ms/step - loss: 0.3567 - accuracy: 0.9771 - val_loss: 1.5225 - val_accuracy: 0.8442\n",
      "Epoch 18/20\n",
      "10/10 [==============================] - 0s 46ms/step - loss: 0.3571 - accuracy: 0.9739 - val_loss: 1.5307 - val_accuracy: 0.8312\n",
      "Epoch 19/20\n",
      "10/10 [==============================] - 0s 50ms/step - loss: 0.3588 - accuracy: 0.9739 - val_loss: 1.5342 - val_accuracy: 0.8442\n",
      "Epoch 20/20\n",
      "10/10 [==============================] - 0s 45ms/step - loss: 0.3771 - accuracy: 0.9673 - val_loss: 1.7576 - val_accuracy: 0.8312\n"
     ]
    }
   ],
   "source": [
    "fpt = model_output(fpet,fpet1)"
   ]
  },
  {
   "cell_type": "code",
   "execution_count": null,
   "metadata": {
    "colab": {
     "base_uri": "https://localhost:8080/"
    },
    "id": "QNxXqYZTc2nD",
    "outputId": "7aa47d2d-c260-49ca-bb87-4cdbbca2444c"
   },
   "outputs": [
    {
     "name": "stdout",
     "output_type": "stream",
     "text": [
      "Epoch 1/20\n",
      "9/9 [==============================] - 4s 399ms/step - loss: 1.7220 - accuracy: 0.8504 - val_loss: 0.9326 - val_accuracy: 0.9275\n",
      "Epoch 2/20\n",
      "9/9 [==============================] - 0s 48ms/step - loss: 1.6193 - accuracy: 0.8759 - val_loss: 0.7091 - val_accuracy: 0.9420\n",
      "Epoch 3/20\n",
      "9/9 [==============================] - 0s 47ms/step - loss: 1.5794 - accuracy: 0.8978 - val_loss: 0.6979 - val_accuracy: 0.9565\n",
      "Epoch 4/20\n",
      "9/9 [==============================] - 0s 47ms/step - loss: 1.5750 - accuracy: 0.8978 - val_loss: 0.6980 - val_accuracy: 0.9565\n",
      "Epoch 5/20\n",
      "9/9 [==============================] - 0s 48ms/step - loss: 1.5743 - accuracy: 0.8978 - val_loss: 0.6980 - val_accuracy: 0.9565\n",
      "Epoch 6/20\n",
      "9/9 [==============================] - 0s 50ms/step - loss: 1.5743 - accuracy: 0.8978 - val_loss: 0.6980 - val_accuracy: 0.9565\n",
      "Epoch 7/20\n",
      "9/9 [==============================] - 0s 47ms/step - loss: 1.5743 - accuracy: 0.8978 - val_loss: 0.6980 - val_accuracy: 0.9565\n",
      "Epoch 8/20\n",
      "9/9 [==============================] - 0s 46ms/step - loss: 1.5743 - accuracy: 0.8978 - val_loss: 0.6980 - val_accuracy: 0.9565\n",
      "Epoch 9/20\n",
      "9/9 [==============================] - 0s 49ms/step - loss: 1.5743 - accuracy: 0.8978 - val_loss: 0.6980 - val_accuracy: 0.9565\n",
      "Epoch 10/20\n",
      "9/9 [==============================] - 0s 48ms/step - loss: 1.5743 - accuracy: 0.8978 - val_loss: 0.6980 - val_accuracy: 0.9565\n",
      "Epoch 11/20\n",
      "9/9 [==============================] - 0s 45ms/step - loss: 1.5743 - accuracy: 0.8978 - val_loss: 0.6980 - val_accuracy: 0.9565\n",
      "Epoch 12/20\n",
      "9/9 [==============================] - 0s 48ms/step - loss: 1.5743 - accuracy: 0.8978 - val_loss: 0.6980 - val_accuracy: 0.9565\n",
      "Epoch 13/20\n",
      "9/9 [==============================] - 0s 49ms/step - loss: 1.5743 - accuracy: 0.8978 - val_loss: 0.6980 - val_accuracy: 0.9565\n",
      "Epoch 14/20\n",
      "9/9 [==============================] - 0s 46ms/step - loss: 1.5743 - accuracy: 0.8978 - val_loss: 0.6980 - val_accuracy: 0.9565\n",
      "Epoch 15/20\n",
      "9/9 [==============================] - 0s 49ms/step - loss: 1.5743 - accuracy: 0.8978 - val_loss: 0.6980 - val_accuracy: 0.9565\n",
      "Epoch 16/20\n",
      "9/9 [==============================] - 0s 47ms/step - loss: 1.5743 - accuracy: 0.8978 - val_loss: 0.6980 - val_accuracy: 0.9565\n",
      "Epoch 17/20\n",
      "9/9 [==============================] - 0s 48ms/step - loss: 1.5743 - accuracy: 0.8978 - val_loss: 0.6980 - val_accuracy: 0.9565\n",
      "Epoch 18/20\n",
      "9/9 [==============================] - 0s 48ms/step - loss: 1.5743 - accuracy: 0.8978 - val_loss: 0.6980 - val_accuracy: 0.9565\n",
      "Epoch 19/20\n",
      "9/9 [==============================] - 0s 47ms/step - loss: 1.5743 - accuracy: 0.8978 - val_loss: 0.6980 - val_accuracy: 0.9565\n",
      "Epoch 20/20\n",
      "9/9 [==============================] - 0s 48ms/step - loss: 1.5743 - accuracy: 0.8978 - val_loss: 0.6980 - val_accuracy: 0.9565\n"
     ]
    }
   ],
   "source": [
    "spt = model_output(spet,spet1)"
   ]
  },
  {
   "cell_type": "code",
   "execution_count": null,
   "metadata": {
    "colab": {
     "base_uri": "https://localhost:8080/"
    },
    "id": "BwQFMT7Jc4vu",
    "outputId": "ff2ba339-c872-44e1-9fca-1563289049a6"
   },
   "outputs": [
    {
     "name": "stdout",
     "output_type": "stream",
     "text": [
      "Epoch 1/20\n",
      "10/10 [==============================] - 2s 196ms/step - loss: 1.6470 - accuracy: 0.8355 - val_loss: 1.1105 - val_accuracy: 0.8846\n",
      "Epoch 2/20\n",
      "10/10 [==============================] - 0s 50ms/step - loss: 1.2013 - accuracy: 0.9000 - val_loss: 1.0829 - val_accuracy: 0.8974\n",
      "Epoch 3/20\n",
      "10/10 [==============================] - 1s 50ms/step - loss: 1.0508 - accuracy: 0.9290 - val_loss: 0.9923 - val_accuracy: 0.8718\n",
      "Epoch 4/20\n",
      "10/10 [==============================] - 0s 48ms/step - loss: 1.0447 - accuracy: 0.9323 - val_loss: 0.9790 - val_accuracy: 0.8718\n",
      "Epoch 5/20\n",
      "10/10 [==============================] - 0s 49ms/step - loss: 1.0445 - accuracy: 0.9323 - val_loss: 1.1672 - val_accuracy: 0.8718\n",
      "Epoch 6/20\n",
      "10/10 [==============================] - 0s 47ms/step - loss: 1.0471 - accuracy: 0.9323 - val_loss: 1.1051 - val_accuracy: 0.8718\n",
      "Epoch 7/20\n",
      "10/10 [==============================] - 0s 48ms/step - loss: 0.9969 - accuracy: 0.9355 - val_loss: 1.4374 - val_accuracy: 0.8974\n",
      "Epoch 8/20\n",
      "10/10 [==============================] - 0s 48ms/step - loss: 1.0481 - accuracy: 0.9323 - val_loss: 1.0821 - val_accuracy: 0.8718\n",
      "Epoch 9/20\n",
      "10/10 [==============================] - 1s 52ms/step - loss: 1.0438 - accuracy: 0.9323 - val_loss: 1.0821 - val_accuracy: 0.8718\n",
      "Epoch 10/20\n",
      "10/10 [==============================] - 0s 49ms/step - loss: 1.0438 - accuracy: 0.9323 - val_loss: 1.0821 - val_accuracy: 0.8718\n",
      "Epoch 11/20\n",
      "10/10 [==============================] - 0s 49ms/step - loss: 1.0438 - accuracy: 0.9323 - val_loss: 1.0821 - val_accuracy: 0.8718\n",
      "Epoch 12/20\n",
      "10/10 [==============================] - 0s 49ms/step - loss: 1.0438 - accuracy: 0.9323 - val_loss: 1.0821 - val_accuracy: 0.8718\n",
      "Epoch 13/20\n",
      "10/10 [==============================] - 1s 50ms/step - loss: 1.0438 - accuracy: 0.9323 - val_loss: 1.0821 - val_accuracy: 0.8718\n",
      "Epoch 14/20\n",
      "10/10 [==============================] - 0s 49ms/step - loss: 1.0438 - accuracy: 0.9323 - val_loss: 1.0821 - val_accuracy: 0.8718\n",
      "Epoch 15/20\n",
      "10/10 [==============================] - 1s 50ms/step - loss: 1.0438 - accuracy: 0.9323 - val_loss: 1.0821 - val_accuracy: 0.8718\n",
      "Epoch 16/20\n",
      "10/10 [==============================] - 0s 48ms/step - loss: 1.0438 - accuracy: 0.9323 - val_loss: 1.0821 - val_accuracy: 0.8718\n",
      "Epoch 17/20\n",
      "10/10 [==============================] - 0s 48ms/step - loss: 1.0438 - accuracy: 0.9323 - val_loss: 1.0821 - val_accuracy: 0.8718\n",
      "Epoch 18/20\n",
      "10/10 [==============================] - 0s 49ms/step - loss: 1.0438 - accuracy: 0.9323 - val_loss: 1.0821 - val_accuracy: 0.8718\n",
      "Epoch 19/20\n",
      "10/10 [==============================] - 0s 47ms/step - loss: 1.0438 - accuracy: 0.9323 - val_loss: 1.0821 - val_accuracy: 0.8718\n",
      "Epoch 20/20\n",
      "10/10 [==============================] - 1s 51ms/step - loss: 1.0438 - accuracy: 0.9323 - val_loss: 1.0821 - val_accuracy: 0.8718\n"
     ]
    }
   ],
   "source": [
    "fjn = model_output(fjohn,fjohn1)"
   ]
  },
  {
   "cell_type": "code",
   "execution_count": null,
   "metadata": {
    "colab": {
     "base_uri": "https://localhost:8080/"
    },
    "id": "Mnj00N-kc77u",
    "outputId": "dca20a81-280d-4c8a-8bd5-77e6293eab68"
   },
   "outputs": [
    {
     "name": "stdout",
     "output_type": "stream",
     "text": [
      "Epoch 1/20\n",
      "8/8 [==============================] - 2s 228ms/step - loss: 0.2316 - accuracy: 0.9788 - val_loss: 1.4763 - val_accuracy: 0.8333\n",
      "Epoch 2/20\n",
      "8/8 [==============================] - 0s 47ms/step - loss: 0.7433 - accuracy: 0.9407 - val_loss: 1.2824 - val_accuracy: 0.9167\n",
      "Epoch 3/20\n",
      "8/8 [==============================] - 0s 46ms/step - loss: 0.2975 - accuracy: 0.9661 - val_loss: 0.8402 - val_accuracy: 0.9167\n",
      "Epoch 4/20\n",
      "8/8 [==============================] - 0s 52ms/step - loss: 0.2649 - accuracy: 0.9788 - val_loss: 1.0443 - val_accuracy: 0.9167\n",
      "Epoch 5/20\n",
      "8/8 [==============================] - 0s 48ms/step - loss: 0.2626 - accuracy: 0.9831 - val_loss: 1.0466 - val_accuracy: 0.9167\n",
      "Epoch 6/20\n",
      "8/8 [==============================] - 0s 44ms/step - loss: 0.2612 - accuracy: 0.9831 - val_loss: 0.8551 - val_accuracy: 0.9167\n",
      "Epoch 7/20\n",
      "8/8 [==============================] - 0s 48ms/step - loss: 0.2612 - accuracy: 0.9831 - val_loss: 1.0600 - val_accuracy: 0.9167\n",
      "Epoch 8/20\n",
      "8/8 [==============================] - 0s 48ms/step - loss: 0.2607 - accuracy: 0.9831 - val_loss: 1.0600 - val_accuracy: 0.9167\n",
      "Epoch 9/20\n",
      "8/8 [==============================] - 0s 45ms/step - loss: 0.2607 - accuracy: 0.9831 - val_loss: 1.0600 - val_accuracy: 0.9167\n",
      "Epoch 10/20\n",
      "8/8 [==============================] - 0s 53ms/step - loss: 0.2607 - accuracy: 0.9831 - val_loss: 1.0600 - val_accuracy: 0.9167\n",
      "Epoch 11/20\n",
      "8/8 [==============================] - 0s 49ms/step - loss: 0.2607 - accuracy: 0.9831 - val_loss: 1.0600 - val_accuracy: 0.9167\n",
      "Epoch 12/20\n",
      "8/8 [==============================] - 0s 47ms/step - loss: 0.2607 - accuracy: 0.9831 - val_loss: 1.0600 - val_accuracy: 0.9167\n",
      "Epoch 13/20\n",
      "8/8 [==============================] - 0s 46ms/step - loss: 0.2607 - accuracy: 0.9831 - val_loss: 1.0600 - val_accuracy: 0.9167\n",
      "Epoch 14/20\n",
      "8/8 [==============================] - 0s 46ms/step - loss: 0.2607 - accuracy: 0.9831 - val_loss: 1.0600 - val_accuracy: 0.9167\n",
      "Epoch 15/20\n",
      "8/8 [==============================] - 0s 47ms/step - loss: 0.2607 - accuracy: 0.9831 - val_loss: 1.0600 - val_accuracy: 0.9167\n",
      "Epoch 16/20\n",
      "8/8 [==============================] - 0s 46ms/step - loss: 0.2607 - accuracy: 0.9831 - val_loss: 1.0600 - val_accuracy: 0.9167\n",
      "Epoch 17/20\n",
      "8/8 [==============================] - 0s 47ms/step - loss: 0.2607 - accuracy: 0.9831 - val_loss: 1.0600 - val_accuracy: 0.9167\n",
      "Epoch 18/20\n",
      "8/8 [==============================] - 0s 47ms/step - loss: 0.2607 - accuracy: 0.9831 - val_loss: 1.0600 - val_accuracy: 0.9167\n",
      "Epoch 19/20\n",
      "8/8 [==============================] - 0s 50ms/step - loss: 0.2607 - accuracy: 0.9831 - val_loss: 1.0600 - val_accuracy: 0.9167\n",
      "Epoch 20/20\n",
      "8/8 [==============================] - 0s 47ms/step - loss: 0.2607 - accuracy: 0.9831 - val_loss: 1.0600 - val_accuracy: 0.9167\n"
     ]
    }
   ],
   "source": [
    "sjn = model_output(sjohn,sjohn1)"
   ]
  },
  {
   "cell_type": "code",
   "execution_count": null,
   "metadata": {
    "colab": {
     "base_uri": "https://localhost:8080/"
    },
    "id": "DqdVKJ0Ac_rt",
    "outputId": "7c5f4d9e-827e-4cf1-d512-1c96851a7491"
   },
   "outputs": [
    {
     "name": "stdout",
     "output_type": "stream",
     "text": [
      "Epoch 1/20\n",
      "8/8 [==============================] - 2s 227ms/step - loss: 0.6270 - accuracy: 0.9412 - val_loss: 0.5142 - val_accuracy: 0.9667\n",
      "Epoch 2/20\n",
      "8/8 [==============================] - 0s 45ms/step - loss: 0.5851 - accuracy: 0.9622 - val_loss: 0.5142 - val_accuracy: 0.9667\n",
      "Epoch 3/20\n",
      "8/8 [==============================] - 0s 47ms/step - loss: 0.5841 - accuracy: 0.9622 - val_loss: 0.5142 - val_accuracy: 0.9667\n",
      "Epoch 4/20\n",
      "8/8 [==============================] - 0s 48ms/step - loss: 0.5826 - accuracy: 0.9622 - val_loss: 0.5142 - val_accuracy: 0.9667\n",
      "Epoch 5/20\n",
      "8/8 [==============================] - 0s 47ms/step - loss: 0.5826 - accuracy: 0.9622 - val_loss: 0.5142 - val_accuracy: 0.9667\n",
      "Epoch 6/20\n",
      "8/8 [==============================] - 0s 48ms/step - loss: 0.5826 - accuracy: 0.9622 - val_loss: 0.5142 - val_accuracy: 0.9667\n",
      "Epoch 7/20\n",
      "8/8 [==============================] - 0s 43ms/step - loss: 0.5826 - accuracy: 0.9622 - val_loss: 0.5142 - val_accuracy: 0.9667\n",
      "Epoch 8/20\n",
      "8/8 [==============================] - 0s 49ms/step - loss: 0.5826 - accuracy: 0.9622 - val_loss: 0.5142 - val_accuracy: 0.9667\n",
      "Epoch 9/20\n",
      "8/8 [==============================] - 0s 45ms/step - loss: 0.5826 - accuracy: 0.9622 - val_loss: 0.5142 - val_accuracy: 0.9667\n",
      "Epoch 10/20\n",
      "8/8 [==============================] - 0s 44ms/step - loss: 0.5826 - accuracy: 0.9622 - val_loss: 0.5142 - val_accuracy: 0.9667\n",
      "Epoch 11/20\n",
      "8/8 [==============================] - 0s 47ms/step - loss: 0.5826 - accuracy: 0.9622 - val_loss: 0.5142 - val_accuracy: 0.9667\n",
      "Epoch 12/20\n",
      "8/8 [==============================] - 0s 47ms/step - loss: 0.5826 - accuracy: 0.9622 - val_loss: 0.5142 - val_accuracy: 0.9667\n",
      "Epoch 13/20\n",
      "8/8 [==============================] - 0s 47ms/step - loss: 0.5826 - accuracy: 0.9622 - val_loss: 0.5142 - val_accuracy: 0.9667\n",
      "Epoch 14/20\n",
      "8/8 [==============================] - 0s 45ms/step - loss: 0.5826 - accuracy: 0.9622 - val_loss: 0.5142 - val_accuracy: 0.9667\n",
      "Epoch 15/20\n",
      "8/8 [==============================] - 0s 47ms/step - loss: 0.5826 - accuracy: 0.9622 - val_loss: 0.5142 - val_accuracy: 0.9667\n",
      "Epoch 16/20\n",
      "8/8 [==============================] - 0s 49ms/step - loss: 0.5826 - accuracy: 0.9622 - val_loss: 0.5142 - val_accuracy: 0.9667\n",
      "Epoch 17/20\n",
      "8/8 [==============================] - 0s 47ms/step - loss: 0.5826 - accuracy: 0.9622 - val_loss: 0.5142 - val_accuracy: 0.9667\n",
      "Epoch 18/20\n",
      "8/8 [==============================] - 0s 47ms/step - loss: 0.5826 - accuracy: 0.9622 - val_loss: 0.5142 - val_accuracy: 0.9667\n",
      "Epoch 19/20\n",
      "8/8 [==============================] - 0s 45ms/step - loss: 0.5826 - accuracy: 0.9622 - val_loss: 0.5142 - val_accuracy: 0.9667\n",
      "Epoch 20/20\n",
      "8/8 [==============================] - 0s 45ms/step - loss: 0.5826 - accuracy: 0.9622 - val_loss: 0.5142 - val_accuracy: 0.9667\n"
     ]
    }
   ],
   "source": [
    "tjn = model_output(tjohn,tjohn1)"
   ]
  },
  {
   "cell_type": "code",
   "execution_count": null,
   "metadata": {
    "colab": {
     "base_uri": "https://localhost:8080/"
    },
    "id": "004frkujdDdR",
    "outputId": "db1ebf9d-5d9e-4bde-8763-8ed5f4cdc99c"
   },
   "outputs": [
    {
     "name": "stdout",
     "output_type": "stream",
     "text": [
      "Epoch 1/20\n",
      "8/8 [==============================] - 2s 229ms/step - loss: 1.1395 - accuracy: 0.9228 - val_loss: 0.2851 - val_accuracy: 0.9677\n",
      "Epoch 2/20\n",
      "8/8 [==============================] - 0s 49ms/step - loss: 1.1292 - accuracy: 0.9268 - val_loss: 0.3020 - val_accuracy: 0.9516\n",
      "Epoch 3/20\n",
      "8/8 [==============================] - 0s 46ms/step - loss: 1.0796 - accuracy: 0.9268 - val_loss: 0.5138 - val_accuracy: 0.9516\n",
      "Epoch 4/20\n",
      "8/8 [==============================] - 0s 50ms/step - loss: 1.0731 - accuracy: 0.9268 - val_loss: 0.5102 - val_accuracy: 0.9677\n",
      "Epoch 5/20\n",
      "8/8 [==============================] - 0s 53ms/step - loss: 1.0664 - accuracy: 0.9309 - val_loss: 0.5105 - val_accuracy: 0.9677\n",
      "Epoch 6/20\n",
      "8/8 [==============================] - 0s 50ms/step - loss: 1.0660 - accuracy: 0.9309 - val_loss: 0.5105 - val_accuracy: 0.9677\n",
      "Epoch 7/20\n",
      "8/8 [==============================] - 0s 45ms/step - loss: 1.0660 - accuracy: 0.9309 - val_loss: 0.5105 - val_accuracy: 0.9677\n",
      "Epoch 8/20\n",
      "8/8 [==============================] - 0s 47ms/step - loss: 1.0660 - accuracy: 0.9309 - val_loss: 0.5105 - val_accuracy: 0.9677\n",
      "Epoch 9/20\n",
      "8/8 [==============================] - 0s 49ms/step - loss: 1.0660 - accuracy: 0.9309 - val_loss: 0.5105 - val_accuracy: 0.9677\n",
      "Epoch 10/20\n",
      "8/8 [==============================] - 0s 47ms/step - loss: 1.0660 - accuracy: 0.9309 - val_loss: 0.5105 - val_accuracy: 0.9677\n",
      "Epoch 11/20\n",
      "8/8 [==============================] - 0s 49ms/step - loss: 1.0660 - accuracy: 0.9309 - val_loss: 0.5105 - val_accuracy: 0.9677\n",
      "Epoch 12/20\n",
      "8/8 [==============================] - 0s 47ms/step - loss: 1.0660 - accuracy: 0.9309 - val_loss: 0.5105 - val_accuracy: 0.9677\n",
      "Epoch 13/20\n",
      "8/8 [==============================] - 0s 48ms/step - loss: 1.0660 - accuracy: 0.9309 - val_loss: 0.5105 - val_accuracy: 0.9677\n",
      "Epoch 14/20\n",
      "8/8 [==============================] - 0s 46ms/step - loss: 1.0660 - accuracy: 0.9309 - val_loss: 0.5105 - val_accuracy: 0.9677\n",
      "Epoch 15/20\n",
      "8/8 [==============================] - 0s 49ms/step - loss: 1.0660 - accuracy: 0.9309 - val_loss: 0.5105 - val_accuracy: 0.9677\n",
      "Epoch 16/20\n",
      "8/8 [==============================] - 0s 46ms/step - loss: 1.0660 - accuracy: 0.9309 - val_loss: 0.5105 - val_accuracy: 0.9677\n",
      "Epoch 17/20\n",
      "8/8 [==============================] - 0s 48ms/step - loss: 1.0660 - accuracy: 0.9309 - val_loss: 0.5105 - val_accuracy: 0.9677\n",
      "Epoch 18/20\n",
      "8/8 [==============================] - 0s 47ms/step - loss: 1.0660 - accuracy: 0.9309 - val_loss: 0.5105 - val_accuracy: 0.9677\n",
      "Epoch 19/20\n",
      "8/8 [==============================] - 0s 47ms/step - loss: 1.0660 - accuracy: 0.9309 - val_loss: 0.5105 - val_accuracy: 0.9677\n",
      "Epoch 20/20\n",
      "8/8 [==============================] - 0s 49ms/step - loss: 1.0660 - accuracy: 0.9309 - val_loss: 0.5105 - val_accuracy: 0.9677\n"
     ]
    }
   ],
   "source": [
    "jde = model_output(jud,jud1)"
   ]
  },
  {
   "cell_type": "code",
   "execution_count": null,
   "metadata": {
    "colab": {
     "base_uri": "https://localhost:8080/"
    },
    "id": "sFqSMRh4dGSM",
    "outputId": "d8f3828d-7bfb-4613-e3e1-d6ad77586456"
   },
   "outputs": [
    {
     "name": "stdout",
     "output_type": "stream",
     "text": [
      "Epoch 1/20\n",
      "18/18 [==============================] - 2s 133ms/step - loss: 2.9458 - accuracy: 0.7436 - val_loss: 2.6207 - val_accuracy: 0.7810\n",
      "Epoch 2/20\n",
      "18/18 [==============================] - 1s 50ms/step - loss: 1.9189 - accuracy: 0.8223 - val_loss: 2.2951 - val_accuracy: 0.7664\n",
      "Epoch 3/20\n",
      "18/18 [==============================] - 1s 49ms/step - loss: 1.7776 - accuracy: 0.8333 - val_loss: 2.1666 - val_accuracy: 0.7518\n",
      "Epoch 4/20\n",
      "18/18 [==============================] - 1s 51ms/step - loss: 1.7401 - accuracy: 0.8516 - val_loss: 2.5166 - val_accuracy: 0.7445\n",
      "Epoch 5/20\n",
      "18/18 [==============================] - 1s 50ms/step - loss: 1.6031 - accuracy: 0.8590 - val_loss: 2.6772 - val_accuracy: 0.7737\n",
      "Epoch 6/20\n",
      "18/18 [==============================] - 1s 49ms/step - loss: 1.5292 - accuracy: 0.8663 - val_loss: 2.3134 - val_accuracy: 0.7810\n",
      "Epoch 7/20\n",
      "18/18 [==============================] - 1s 51ms/step - loss: 1.5862 - accuracy: 0.8773 - val_loss: 2.3408 - val_accuracy: 0.7810\n",
      "Epoch 8/20\n",
      "18/18 [==============================] - 1s 50ms/step - loss: 1.4721 - accuracy: 0.8810 - val_loss: 1.9010 - val_accuracy: 0.7883\n",
      "Epoch 9/20\n",
      "18/18 [==============================] - 1s 48ms/step - loss: 1.3861 - accuracy: 0.8993 - val_loss: 1.9195 - val_accuracy: 0.7518\n",
      "Epoch 10/20\n",
      "18/18 [==============================] - 1s 50ms/step - loss: 1.3235 - accuracy: 0.9011 - val_loss: 2.1773 - val_accuracy: 0.7664\n",
      "Epoch 11/20\n",
      "18/18 [==============================] - 1s 51ms/step - loss: 1.3446 - accuracy: 0.9011 - val_loss: 1.8719 - val_accuracy: 0.7883\n",
      "Epoch 12/20\n",
      "18/18 [==============================] - 1s 51ms/step - loss: 1.1484 - accuracy: 0.9103 - val_loss: 1.8875 - val_accuracy: 0.8029\n",
      "Epoch 13/20\n",
      "18/18 [==============================] - 1s 49ms/step - loss: 1.1048 - accuracy: 0.9121 - val_loss: 1.5472 - val_accuracy: 0.7810\n",
      "Epoch 14/20\n",
      "18/18 [==============================] - 1s 52ms/step - loss: 1.0758 - accuracy: 0.9304 - val_loss: 1.5940 - val_accuracy: 0.7883\n",
      "Epoch 15/20\n",
      "18/18 [==============================] - 1s 52ms/step - loss: 1.0762 - accuracy: 0.9286 - val_loss: 1.6871 - val_accuracy: 0.7737\n",
      "Epoch 16/20\n",
      "18/18 [==============================] - 1s 51ms/step - loss: 1.0683 - accuracy: 0.9231 - val_loss: 1.8227 - val_accuracy: 0.7591\n",
      "Epoch 17/20\n",
      "18/18 [==============================] - 1s 50ms/step - loss: 1.0024 - accuracy: 0.9194 - val_loss: 2.1369 - val_accuracy: 0.7591\n",
      "Epoch 18/20\n",
      "18/18 [==============================] - 1s 50ms/step - loss: 0.9167 - accuracy: 0.9341 - val_loss: 2.3395 - val_accuracy: 0.7372\n",
      "Epoch 19/20\n",
      "18/18 [==============================] - 1s 49ms/step - loss: 0.8779 - accuracy: 0.9414 - val_loss: 2.4970 - val_accuracy: 0.7518\n",
      "Epoch 20/20\n",
      "18/18 [==============================] - 1s 51ms/step - loss: 0.9111 - accuracy: 0.9396 - val_loss: 2.3895 - val_accuracy: 0.7372\n"
     ]
    }
   ],
   "source": [
    "rvl = model_output(rev,rev1)"
   ]
  },
  {
   "cell_type": "code",
   "execution_count": null,
   "metadata": {
    "id": "RPpBfH01Xxhd"
   },
   "outputs": [],
   "source": [
    "from pandas.core.frame import DataFrame\n",
    "df_loss = {'Matthew':mat.history['loss'],'Mark':mak.history['loss'],'Luke':luk.history['loss'],'John':joh.history['loss'],\n",
    "           'Acts':act.history['loss'],'Romans':rom.history['loss'],'1Cor':fcr.history['loss'],'2Cor':scr.history['loss'],'Gal':glt.history['loss'],\n",
    "           'Eph':ept.history['loss'],'Phl':plp.history['loss'],'Col':cls.history['loss'],'1The':ftl.history['loss'],'2The':stl.history['loss'],\n",
    "           '1Tim':ftm.history['loss'],'2Tim':stm.history['loss'],'Titus':tus.history['loss'],'Phi':plm.history['loss'],'James':jam.history['loss'],\n",
    "           '1Peter':fpt.history['loss'],'2Peter':spt.history['loss'],'1John':fjn.history['loss'],'2John':sjn.history['loss'],'3John':tjn.history['loss'],\n",
    "           'Jude':jde.history['loss'],'Rev':rvl.history['loss']}\n",
    "na28_loss = DataFrame(df_loss)\n",
    "\n",
    "df_val_loss = {'Matthew':mat.history['val_loss'],'Mark':mak.history['val_loss'],'Luke':luk.history['val_loss'],'John':joh.history['val_loss'],\n",
    "           'Acts':act.history['val_loss'],'Romans':rom.history['val_loss'],'1Cor':fcr.history['val_loss'],'2Cor':scr.history['val_loss'],'Gal':glt.history['val_loss'],\n",
    "           'Eph':ept.history['val_loss'],'Phl':plp.history['val_loss'],'Col':cls.history['val_loss'],'1The':ftl.history['val_loss'],'2The':stl.history['val_loss'],\n",
    "           '1Tim':ftm.history['val_loss'],'2Tim':stm.history['val_loss'],'Titus':tus.history['val_loss'],'Phi':plm.history['val_loss'],'James':jam.history['val_loss'],\n",
    "           '1Peter':fpt.history['val_loss'],'2Peter':spt.history['val_loss'],'1John':fjn.history['val_loss'],'2John':sjn.history['val_loss'],'3John':tjn.history['val_loss'],\n",
    "           'Jude':jde.history['val_loss'],'Rev':rvl.history['val_loss']}\n",
    "na28_val_loss = DataFrame(df_val_loss)\n",
    "\n",
    "df_accuracy = {'Matthew':mat.history['accuracy'],'Mark':mak.history['accuracy'],'Luke':luk.history['accuracy'],'John':joh.history['accuracy'],\n",
    "           'Acts':act.history['accuracy'],'Romans':rom.history['accuracy'],'1Cor':fcr.history['accuracy'],'2Cor':scr.history['accuracy'],'Gal':glt.history['accuracy'],\n",
    "           'Eph':ept.history['accuracy'],'Phl':plp.history['accuracy'],'Col':cls.history['accuracy'],'1The':ftl.history['accuracy'],'2The':stl.history['accuracy'],\n",
    "           '1Tim':ftm.history['accuracy'],'2Tim':stm.history['accuracy'],'Titus':tus.history['accuracy'],'Phi':plm.history['accuracy'],'James':jam.history['accuracy'],\n",
    "           '1Peter':fpt.history['accuracy'],'2Peter':spt.history['accuracy'],'1John':fjn.history['accuracy'],'2John':sjn.history['accuracy'],'3John':tjn.history['accuracy'],\n",
    "           'Jude':jde.history['accuracy'],'Rev':rvl.history['accuracy']}\n",
    "na28_accuracy = DataFrame(df_accuracy)\n",
    "\n",
    "df_val_accuracy = {'Matthew':mat.history['val_accuracy'],'Mark':mak.history['val_accuracy'],'Luke':luk.history['val_accuracy'],'John':joh.history['val_accuracy'],\n",
    "           'Acts':act.history['val_accuracy'],'Romans':rom.history['val_accuracy'],'1Cor':fcr.history['val_accuracy'],'2Cor':scr.history['val_accuracy'],'Gal':glt.history['val_accuracy'],\n",
    "           'Eph':ept.history['val_accuracy'],'Phl':plp.history['val_accuracy'],'Col':cls.history['val_accuracy'],'1The':ftl.history['val_accuracy'],'2The':stl.history['val_accuracy'],\n",
    "           '1Tim':ftm.history['val_accuracy'],'2Tim':stm.history['val_accuracy'],'Titus':tus.history['val_accuracy'],'Phi':plm.history['val_accuracy'],'James':jam.history['val_accuracy'],\n",
    "           '1Peter':fpt.history['val_accuracy'],'2Peter':spt.history['val_accuracy'],'1John':fjn.history['val_accuracy'],'2John':sjn.history['val_accuracy'],'3John':tjn.history['val_accuracy'],\n",
    "           'Jude':jde.history['val_accuracy'],'Rev':rvl.history['val_accuracy']}\n",
    "na28_val_accuracy = DataFrame(df_val_accuracy)"
   ]
  },
  {
   "cell_type": "code",
   "execution_count": null,
   "metadata": {
    "id": "EIaRV7L-dQMt"
   },
   "outputs": [],
   "source": [
    "na28_loss.to_excel('NA28 LOSS.xlsx',encoding = 'utf-8', index = False)\n",
    "na28_accuracy.to_excel('NA28 ACCURACY.xlsx',encoding = 'utf-8', index = False)  \n",
    "na28_val_loss.to_excel('NA28 VALIDATION LOSS.xlsx',encoding = 'utf-8', index = False)  \n",
    "na28_val_accuracy.to_excel('NA28 VALIDATION ACCURACY.xlsx',encoding = 'utf-8', index = False)    "
   ]
  },
  {
   "cell_type": "code",
   "execution_count": null,
   "metadata": {
    "colab": {
     "base_uri": "https://localhost:8080/",
     "height": 445
    },
    "id": "yr066SBmp_h6",
    "outputId": "79a6e270-9880-498a-ca47-9e168c1b88aa"
   },
   "outputs": [
    {
     "data": {
      "image/png": "[encoded data removed]",
      "text/plain": [
       "<Figure size 432x288 with 1 Axes>"
      ]
     },
     "metadata": {
      "needs_background": "light",
      "tags": []
     },
     "output_type": "display_data"
    }
   ],
   "source": [
    "import matplotlib.pyplot as plt\n",
    "\n",
    "matvac = mat.history['val_accuracy']\n",
    "makvac = mak.history['val_accuracy']\n",
    "lukvac = luk.history['val_accuracy']\n",
    "johvac = joh.history['val_accuracy']\n",
    "actvac = act.history['val_accuracy']\n",
    "romvac = rom.history['val_accuracy']\n",
    "fcrvac = fcr.history['val_accuracy']\n",
    "scrvac = scr.history['val_accuracy']\n",
    "gltvac = glt.history['val_accuracy']\n",
    "eptvac = ept.history['val_accuracy']\n",
    "plpvac = plp.history['val_accuracy']\n",
    "clsvac = cls.history['val_accuracy']\n",
    "ftlvac = ftl.history['val_accuracy']\n",
    "stlvac = stl.history['val_accuracy']\n",
    "ftmvac = ftm.history['val_accuracy']\n",
    "stmvac = stm.history['val_accuracy']\n",
    "tusvac = tus.history['val_accuracy']\n",
    "plmvac = plm.history['val_accuracy']\n",
    "jamvac = jam.history['val_accuracy']\n",
    "fptvac = fpt.history['val_accuracy']\n",
    "sptvac = spt.history['val_accuracy']\n",
    "fjnvac = fjn.history['val_accuracy']\n",
    "sjnvac = sjn.history['val_accuracy']\n",
    "tjnvac = tjn.history['val_accuracy']\n",
    "jdevac = jde.history['val_accuracy']\n",
    "rvlvac = rvl.history['val_accuracy']\n",
    "\n",
    "epochs = range(1, len(matvac) + 1)\n",
    "\n",
    "plt.plot(epochs, matvac, 'b', label='matthew')\n",
    "plt.plot(epochs, makvac, 'r', label='mark')\n",
    "plt.plot(epochs, lukvac, 'y', label='luke')\n",
    "plt.plot(epochs, johvac, 'brown', label='john')\n",
    "plt.plot(epochs, actvac, 'coral', label='acts')\n",
    "plt.plot(epochs, romvac, 'darkgray', label='romans')\n",
    "plt.plot(epochs, fcrvac, 'deeppink', label='1Cor')\n",
    "plt.plot(epochs, scrvac, 'gold', label='2Cor')\n",
    "plt.plot(epochs, gltvac, 'green', label='Gal')\n",
    "plt.plot(epochs, eptvac, 'lightblue', label='Eph')\n",
    "plt.plot(epochs, plpvac, 'lightcoral', label='Phl')\n",
    "plt.plot(epochs, clsvac, 'lightgreen', label='Col')\n",
    "plt.plot(epochs, ftlvac, 'lightskyblue', label='1The')\n",
    "plt.plot(epochs, stlvac, 'navy', label='2The')\n",
    "plt.plot(epochs, ftmvac, 'skyblue', label='1Tim')\n",
    "plt.plot(epochs, stmvac, 'yellowgreen', label='2Tim')\n",
    "plt.plot(epochs, tusvac, 'peru', label='Titus')\n",
    "plt.plot(epochs, plmvac, 'orange', label='Phi')\n",
    "plt.plot(epochs, jamvac, 'purple', label='James')\n",
    "plt.plot(epochs, fptvac, 'orchid', label='1Peter')\n",
    "plt.plot(epochs, sptvac, 'ivory', label='2Peter')\n",
    "plt.plot(epochs, fjnvac, 'firebrick', label='1John')\n",
    "plt.plot(epochs, sjnvac, 'lightcyan', label='2John')\n",
    "plt.plot(epochs, tjnvac, 'violet', label='3John')\n",
    "plt.plot(epochs, jdevac, 'darkmagenta', label='Jude')\n",
    "plt.plot(epochs, rvlvac, 'magenta', label='Rev')\n",
    "plt.title('NA28 writing style validation accuracy')\n",
    "plt.xlabel('Epochs')\n",
    "plt.ylabel('Loss')\n",
    "plt.legend()\n",
    "\n",
    "plt.show()"
   ]
  },
  {
   "cell_type": "code",
   "execution_count": null,
   "metadata": {
    "id": "7DF9PDCshdUF"
   },
   "outputs": [],
   "source": [
    "mat_s1 = cosine_text(Matthew)\n",
    "mark_s1 = cosine_text(Mark)\n",
    "luke_s1 = cosine_text(Luke_Book)\n",
    "jam_s1 = cosine_text(James)\n",
    "pet_s1 = cosine_text(Peter_letter)\n",
    "john_s1 = cosine_text(John_Book.dropna())\n",
    "jude_s1 = cosine_text(Jude)\n",
    "pl_s1 = cosine_text(Paul_letters)"
   ]
  },
  {
   "cell_type": "code",
   "execution_count": null,
   "metadata": {
    "id": "QI1kXgwaiXI3"
   },
   "outputs": [],
   "source": [
    "mat_s11 = text_author(Matthew)\n",
    "mark_s11 = text_author(Mark)\n",
    "luke_s11 = text_author(Luke_Book)\n",
    "jam_s11 = text_author(James)\n",
    "pet_s11 = text_author(Peter_letter)\n",
    "john_s11 = text_author(John_Book.dropna())\n",
    "jude_s11 = text_author(Jude)\n",
    "pl_s11 = text_author(Paul_letters)"
   ]
  },
  {
   "cell_type": "code",
   "execution_count": null,
   "metadata": {
    "colab": {
     "base_uri": "https://localhost:8080/"
    },
    "id": "fWi17DFjMp59",
    "outputId": "e25b91d4-5549-4251-f8c6-1c366a60d8ed"
   },
   "outputs": [
    {
     "name": "stdout",
     "output_type": "stream",
     "text": [
      "Epoch 1/20\n",
      "34/34 [==============================] - 3s 103ms/step - loss: 2.0153 - accuracy: 0.7826 - val_loss: 1.9934 - val_accuracy: 0.7903\n",
      "Epoch 2/20\n",
      "34/34 [==============================] - 3s 99ms/step - loss: 1.5060 - accuracy: 0.8397 - val_loss: 2.0687 - val_accuracy: 0.7903\n",
      "Epoch 3/20\n",
      "34/34 [==============================] - 2s 51ms/step - loss: 1.2936 - accuracy: 0.8632 - val_loss: 2.4218 - val_accuracy: 0.7828\n",
      "Epoch 4/20\n",
      "34/34 [==============================] - 2s 52ms/step - loss: 1.0389 - accuracy: 0.8857 - val_loss: 2.1235 - val_accuracy: 0.7715\n",
      "Epoch 5/20\n",
      "34/34 [==============================] - 2s 52ms/step - loss: 0.9302 - accuracy: 0.8960 - val_loss: 2.1131 - val_accuracy: 0.7865\n",
      "Epoch 6/20\n",
      "34/34 [==============================] - 2s 53ms/step - loss: 0.7885 - accuracy: 0.9194 - val_loss: 1.9548 - val_accuracy: 0.7640\n",
      "Epoch 7/20\n",
      "34/34 [==============================] - 2s 55ms/step - loss: 0.8034 - accuracy: 0.9203 - val_loss: 1.9684 - val_accuracy: 0.7678\n",
      "Epoch 8/20\n",
      "34/34 [==============================] - 2s 53ms/step - loss: 0.6400 - accuracy: 0.9306 - val_loss: 2.1147 - val_accuracy: 0.7715\n",
      "Epoch 9/20\n",
      "34/34 [==============================] - 2s 53ms/step - loss: 0.6392 - accuracy: 0.9419 - val_loss: 2.0934 - val_accuracy: 0.7715\n",
      "Epoch 10/20\n",
      "34/34 [==============================] - 2s 52ms/step - loss: 0.7074 - accuracy: 0.9391 - val_loss: 2.2802 - val_accuracy: 0.7603\n",
      "Epoch 11/20\n",
      "34/34 [==============================] - 2s 54ms/step - loss: 0.5249 - accuracy: 0.9494 - val_loss: 2.0610 - val_accuracy: 0.7978\n",
      "Epoch 12/20\n",
      "34/34 [==============================] - 2s 54ms/step - loss: 0.5073 - accuracy: 0.9550 - val_loss: 2.3290 - val_accuracy: 0.7640\n",
      "Epoch 13/20\n",
      "34/34 [==============================] - 2s 55ms/step - loss: 0.4596 - accuracy: 0.9634 - val_loss: 2.2684 - val_accuracy: 0.7566\n",
      "Epoch 14/20\n",
      "34/34 [==============================] - 2s 53ms/step - loss: 0.4730 - accuracy: 0.9606 - val_loss: 2.1052 - val_accuracy: 0.7865\n",
      "Epoch 15/20\n",
      "34/34 [==============================] - 2s 54ms/step - loss: 0.4687 - accuracy: 0.9625 - val_loss: 2.3561 - val_accuracy: 0.7715\n",
      "Epoch 16/20\n",
      "34/34 [==============================] - 2s 54ms/step - loss: 0.4057 - accuracy: 0.9653 - val_loss: 2.1069 - val_accuracy: 0.7978\n",
      "Epoch 17/20\n",
      "34/34 [==============================] - 2s 54ms/step - loss: 0.4025 - accuracy: 0.9653 - val_loss: 2.0697 - val_accuracy: 0.7790\n",
      "Epoch 18/20\n",
      "34/34 [==============================] - 2s 53ms/step - loss: 0.3724 - accuracy: 0.9738 - val_loss: 2.0360 - val_accuracy: 0.7865\n",
      "Epoch 19/20\n",
      "34/34 [==============================] - 2s 54ms/step - loss: 0.3479 - accuracy: 0.9709 - val_loss: 2.1762 - val_accuracy: 0.7715\n",
      "Epoch 20/20\n",
      "34/34 [==============================] - 2s 53ms/step - loss: 0.3463 - accuracy: 0.9756 - val_loss: 2.1628 - val_accuracy: 0.7790\n"
     ]
    }
   ],
   "source": [
    "matthewbook = model_output(mat_s1,mat_s11)"
   ]
  },
  {
   "cell_type": "code",
   "execution_count": null,
   "metadata": {
    "colab": {
     "base_uri": "https://localhost:8080/"
    },
    "id": "NzUO8Y5flRHo",
    "outputId": "367ab12f-13fb-4e9c-839f-db39e39cefe2"
   },
   "outputs": [
    {
     "name": "stdout",
     "output_type": "stream",
     "text": [
      "Epoch 1/20\n",
      "24/24 [==============================] - 3s 112ms/step - loss: 1.3098 - accuracy: 0.8404 - val_loss: 1.4584 - val_accuracy: 0.8316\n",
      "Epoch 2/20\n",
      "24/24 [==============================] - 1s 51ms/step - loss: 0.8811 - accuracy: 0.9103 - val_loss: 1.6255 - val_accuracy: 0.8368\n",
      "Epoch 3/20\n",
      "24/24 [==============================] - 1s 50ms/step - loss: 0.7452 - accuracy: 0.9354 - val_loss: 1.5992 - val_accuracy: 0.8211\n",
      "Epoch 4/20\n",
      "24/24 [==============================] - 1s 52ms/step - loss: 0.7265 - accuracy: 0.9367 - val_loss: 1.7558 - val_accuracy: 0.8316\n",
      "Epoch 5/20\n",
      "24/24 [==============================] - 1s 53ms/step - loss: 0.7178 - accuracy: 0.9367 - val_loss: 1.6730 - val_accuracy: 0.8368\n",
      "Epoch 6/20\n",
      "24/24 [==============================] - 1s 53ms/step - loss: 0.5918 - accuracy: 0.9512 - val_loss: 1.4662 - val_accuracy: 0.8316\n",
      "Epoch 7/20\n",
      "24/24 [==============================] - 1s 55ms/step - loss: 0.5791 - accuracy: 0.9591 - val_loss: 1.4505 - val_accuracy: 0.8263\n",
      "Epoch 8/20\n",
      "24/24 [==============================] - 1s 56ms/step - loss: 0.5441 - accuracy: 0.9604 - val_loss: 1.8099 - val_accuracy: 0.8211\n",
      "Epoch 9/20\n",
      "24/24 [==============================] - 1s 54ms/step - loss: 0.5407 - accuracy: 0.9631 - val_loss: 1.5658 - val_accuracy: 0.8421\n",
      "Epoch 10/20\n",
      "24/24 [==============================] - 1s 56ms/step - loss: 0.5136 - accuracy: 0.9657 - val_loss: 1.5803 - val_accuracy: 0.8316\n",
      "Epoch 11/20\n",
      "24/24 [==============================] - 1s 57ms/step - loss: 0.5206 - accuracy: 0.9604 - val_loss: 1.3486 - val_accuracy: 0.8316\n",
      "Epoch 12/20\n",
      "24/24 [==============================] - 1s 57ms/step - loss: 0.5161 - accuracy: 0.9644 - val_loss: 1.8411 - val_accuracy: 0.8158\n",
      "Epoch 13/20\n",
      "24/24 [==============================] - 1s 57ms/step - loss: 0.4733 - accuracy: 0.9683 - val_loss: 1.9896 - val_accuracy: 0.8000\n",
      "Epoch 14/20\n",
      "24/24 [==============================] - 1s 56ms/step - loss: 0.4618 - accuracy: 0.9617 - val_loss: 2.2941 - val_accuracy: 0.8053\n",
      "Epoch 15/20\n",
      "24/24 [==============================] - 1s 55ms/step - loss: 0.4196 - accuracy: 0.9657 - val_loss: 2.3165 - val_accuracy: 0.8053\n",
      "Epoch 16/20\n",
      "24/24 [==============================] - 1s 54ms/step - loss: 0.4066 - accuracy: 0.9736 - val_loss: 2.2063 - val_accuracy: 0.8105\n",
      "Epoch 17/20\n",
      "24/24 [==============================] - 1s 52ms/step - loss: 0.4070 - accuracy: 0.9736 - val_loss: 2.1993 - val_accuracy: 0.8053\n",
      "Epoch 18/20\n",
      "24/24 [==============================] - 1s 56ms/step - loss: 0.3981 - accuracy: 0.9683 - val_loss: 2.0238 - val_accuracy: 0.8000\n",
      "Epoch 19/20\n",
      "24/24 [==============================] - 1s 54ms/step - loss: 0.3864 - accuracy: 0.9749 - val_loss: 2.1369 - val_accuracy: 0.8053\n",
      "Epoch 20/20\n",
      "24/24 [==============================] - 1s 52ms/step - loss: 0.3892 - accuracy: 0.9749 - val_loss: 2.1215 - val_accuracy: 0.8105\n"
     ]
    }
   ],
   "source": [
    "markbook = model_output(mark_s1,mark_s11)"
   ]
  },
  {
   "cell_type": "code",
   "execution_count": null,
   "metadata": {
    "colab": {
     "base_uri": "https://localhost:8080/"
    },
    "id": "MtFtR5JxcmFf",
    "outputId": "d1f8255a-7319-41f4-87ef-f9d15921b8af"
   },
   "outputs": [
    {
     "name": "stdout",
     "output_type": "stream",
     "text": [
      "Epoch 1/20\n",
      "61/61 [==============================] - 5s 76ms/step - loss: 0.8006 - accuracy: 0.9122 - val_loss: 0.7168 - val_accuracy: 0.9212\n",
      "Epoch 2/20\n",
      "61/61 [==============================] - 3s 52ms/step - loss: 0.6240 - accuracy: 0.9345 - val_loss: 0.7085 - val_accuracy: 0.9149\n",
      "Epoch 3/20\n",
      "61/61 [==============================] - 3s 53ms/step - loss: 0.4527 - accuracy: 0.9496 - val_loss: 0.6674 - val_accuracy: 0.9108\n",
      "Epoch 4/20\n",
      "61/61 [==============================] - 3s 52ms/step - loss: 0.4368 - accuracy: 0.9564 - val_loss: 0.7590 - val_accuracy: 0.9046\n",
      "Epoch 5/20\n",
      "61/61 [==============================] - 3s 53ms/step - loss: 0.3756 - accuracy: 0.9652 - val_loss: 1.0294 - val_accuracy: 0.8963\n",
      "Epoch 6/20\n",
      "61/61 [==============================] - 3s 54ms/step - loss: 0.3686 - accuracy: 0.9584 - val_loss: 0.6883 - val_accuracy: 0.8963\n",
      "Epoch 7/20\n",
      "61/61 [==============================] - 3s 53ms/step - loss: 0.3244 - accuracy: 0.9662 - val_loss: 0.7539 - val_accuracy: 0.8859\n",
      "Epoch 8/20\n",
      "61/61 [==============================] - 3s 54ms/step - loss: 0.3207 - accuracy: 0.9751 - val_loss: 1.0032 - val_accuracy: 0.8963\n",
      "Epoch 9/20\n",
      "61/61 [==============================] - 3s 53ms/step - loss: 0.3040 - accuracy: 0.9730 - val_loss: 1.0130 - val_accuracy: 0.9046\n",
      "Epoch 10/20\n",
      "61/61 [==============================] - 3s 53ms/step - loss: 0.2903 - accuracy: 0.9761 - val_loss: 0.9524 - val_accuracy: 0.8963\n",
      "Epoch 11/20\n",
      "61/61 [==============================] - 3s 53ms/step - loss: 0.3098 - accuracy: 0.9756 - val_loss: 1.0415 - val_accuracy: 0.8880\n",
      "Epoch 12/20\n",
      "61/61 [==============================] - 3s 52ms/step - loss: 0.2589 - accuracy: 0.9782 - val_loss: 0.9373 - val_accuracy: 0.8942\n",
      "Epoch 13/20\n",
      "61/61 [==============================] - 3s 54ms/step - loss: 0.2611 - accuracy: 0.9808 - val_loss: 0.9897 - val_accuracy: 0.8838\n",
      "Epoch 14/20\n",
      "61/61 [==============================] - 3s 53ms/step - loss: 0.2485 - accuracy: 0.9813 - val_loss: 1.0320 - val_accuracy: 0.8880\n",
      "Epoch 15/20\n",
      "61/61 [==============================] - 3s 54ms/step - loss: 0.2636 - accuracy: 0.9787 - val_loss: 1.0321 - val_accuracy: 0.8921\n",
      "Epoch 16/20\n",
      "61/61 [==============================] - 3s 54ms/step - loss: 0.2615 - accuracy: 0.9761 - val_loss: 1.1651 - val_accuracy: 0.8797\n",
      "Epoch 17/20\n",
      "61/61 [==============================] - 3s 53ms/step - loss: 0.2319 - accuracy: 0.9818 - val_loss: 1.1392 - val_accuracy: 0.8797\n",
      "Epoch 18/20\n",
      "61/61 [==============================] - 4s 61ms/step - loss: 0.2234 - accuracy: 0.9823 - val_loss: 1.0080 - val_accuracy: 0.8838\n",
      "Epoch 19/20\n",
      "61/61 [==============================] - 4s 67ms/step - loss: 0.2316 - accuracy: 0.9829 - val_loss: 0.9559 - val_accuracy: 0.8880\n",
      "Epoch 20/20\n",
      "61/61 [==============================] - 3s 54ms/step - loss: 0.2258 - accuracy: 0.9844 - val_loss: 0.8684 - val_accuracy: 0.8963\n"
     ]
    }
   ],
   "source": [
    "lukebook = model_output(luke_s1,luke_s11)"
   ]
  },
  {
   "cell_type": "code",
   "execution_count": null,
   "metadata": {
    "colab": {
     "base_uri": "https://localhost:8080/"
    },
    "id": "hg9UTcUVicow",
    "outputId": "a92e5602-432e-40dd-a815-1144040e79b7"
   },
   "outputs": [
    {
     "name": "stdout",
     "output_type": "stream",
     "text": [
      "Epoch 1/20\n",
      "10/10 [==============================] - 2s 194ms/step - loss: 2.8893 - accuracy: 0.7500 - val_loss: 2.6152 - val_accuracy: 0.7595\n",
      "Epoch 2/20\n",
      "10/10 [==============================] - 0s 50ms/step - loss: 1.8834 - accuracy: 0.8333 - val_loss: 2.4073 - val_accuracy: 0.7848\n",
      "Epoch 3/20\n",
      "10/10 [==============================] - 0s 48ms/step - loss: 1.7044 - accuracy: 0.8718 - val_loss: 2.2123 - val_accuracy: 0.7975\n",
      "Epoch 4/20\n",
      "10/10 [==============================] - 0s 50ms/step - loss: 1.6348 - accuracy: 0.8910 - val_loss: 2.1941 - val_accuracy: 0.8228\n",
      "Epoch 5/20\n",
      "10/10 [==============================] - 1s 50ms/step - loss: 1.6206 - accuracy: 0.8942 - val_loss: 2.1992 - val_accuracy: 0.8354\n",
      "Epoch 6/20\n",
      "10/10 [==============================] - 1s 51ms/step - loss: 1.6186 - accuracy: 0.8942 - val_loss: 2.3538 - val_accuracy: 0.8228\n",
      "Epoch 7/20\n",
      "10/10 [==============================] - 1s 52ms/step - loss: 1.6178 - accuracy: 0.8942 - val_loss: 2.3532 - val_accuracy: 0.8228\n",
      "Epoch 8/20\n",
      "10/10 [==============================] - 1s 51ms/step - loss: 1.6174 - accuracy: 0.8942 - val_loss: 2.3532 - val_accuracy: 0.8228\n",
      "Epoch 9/20\n",
      "10/10 [==============================] - 1s 55ms/step - loss: 1.6174 - accuracy: 0.8942 - val_loss: 2.3532 - val_accuracy: 0.8228\n",
      "Epoch 10/20\n",
      "10/10 [==============================] - 1s 56ms/step - loss: 1.6174 - accuracy: 0.8942 - val_loss: 2.3532 - val_accuracy: 0.8228\n",
      "Epoch 11/20\n",
      "10/10 [==============================] - 1s 51ms/step - loss: 1.6174 - accuracy: 0.8942 - val_loss: 2.3532 - val_accuracy: 0.8228\n",
      "Epoch 12/20\n",
      "10/10 [==============================] - 1s 51ms/step - loss: 1.6174 - accuracy: 0.8942 - val_loss: 2.3532 - val_accuracy: 0.8228\n",
      "Epoch 13/20\n",
      "10/10 [==============================] - 1s 55ms/step - loss: 1.6174 - accuracy: 0.8942 - val_loss: 2.3532 - val_accuracy: 0.8228\n",
      "Epoch 14/20\n",
      "10/10 [==============================] - 1s 52ms/step - loss: 1.6174 - accuracy: 0.8942 - val_loss: 2.3532 - val_accuracy: 0.8228\n",
      "Epoch 15/20\n",
      "10/10 [==============================] - 1s 51ms/step - loss: 1.6174 - accuracy: 0.8942 - val_loss: 2.3532 - val_accuracy: 0.8228\n",
      "Epoch 16/20\n",
      "10/10 [==============================] - 1s 52ms/step - loss: 1.6174 - accuracy: 0.8942 - val_loss: 2.3532 - val_accuracy: 0.8228\n",
      "Epoch 17/20\n",
      "10/10 [==============================] - 1s 50ms/step - loss: 1.6174 - accuracy: 0.8942 - val_loss: 2.3532 - val_accuracy: 0.8228\n",
      "Epoch 18/20\n",
      "10/10 [==============================] - 1s 53ms/step - loss: 1.6174 - accuracy: 0.8942 - val_loss: 2.3532 - val_accuracy: 0.8228\n",
      "Epoch 19/20\n",
      "10/10 [==============================] - 1s 51ms/step - loss: 1.6174 - accuracy: 0.8942 - val_loss: 2.3532 - val_accuracy: 0.8228\n",
      "Epoch 20/20\n",
      "10/10 [==============================] - 1s 53ms/step - loss: 1.6174 - accuracy: 0.8942 - val_loss: 2.3532 - val_accuracy: 0.8228\n"
     ]
    }
   ],
   "source": [
    "jams = model_output(jam_s1,jam_s11)"
   ]
  },
  {
   "cell_type": "code",
   "execution_count": null,
   "metadata": {
    "colab": {
     "base_uri": "https://localhost:8080/"
    },
    "id": "4weyaQgBjjx0",
    "outputId": "89d4e69f-4996-4327-d6cb-c658d2db06c7"
   },
   "outputs": [
    {
     "name": "stdout",
     "output_type": "stream",
     "text": [
      "Epoch 1/20\n",
      "12/12 [==============================] - 2s 169ms/step - loss: 2.4004 - accuracy: 0.7627 - val_loss: 2.3624 - val_accuracy: 0.7528\n",
      "Epoch 2/20\n",
      "12/12 [==============================] - 1s 49ms/step - loss: 2.0283 - accuracy: 0.8503 - val_loss: 2.2333 - val_accuracy: 0.7640\n",
      "Epoch 3/20\n",
      "12/12 [==============================] - 1s 51ms/step - loss: 1.8706 - accuracy: 0.8559 - val_loss: 2.7570 - val_accuracy: 0.7416\n",
      "Epoch 4/20\n",
      "12/12 [==============================] - 1s 49ms/step - loss: 1.5347 - accuracy: 0.8757 - val_loss: 2.6206 - val_accuracy: 0.7416\n",
      "Epoch 5/20\n",
      "12/12 [==============================] - 1s 47ms/step - loss: 1.4631 - accuracy: 0.8983 - val_loss: 2.5617 - val_accuracy: 0.7528\n",
      "Epoch 6/20\n",
      "12/12 [==============================] - 1s 50ms/step - loss: 1.3250 - accuracy: 0.9040 - val_loss: 2.1173 - val_accuracy: 0.7753\n",
      "Epoch 7/20\n",
      "12/12 [==============================] - 1s 48ms/step - loss: 1.3030 - accuracy: 0.9124 - val_loss: 2.2223 - val_accuracy: 0.7865\n",
      "Epoch 8/20\n",
      "12/12 [==============================] - 1s 50ms/step - loss: 1.3013 - accuracy: 0.9153 - val_loss: 2.2285 - val_accuracy: 0.7640\n",
      "Epoch 9/20\n",
      "12/12 [==============================] - 1s 51ms/step - loss: 1.2632 - accuracy: 0.9153 - val_loss: 2.5340 - val_accuracy: 0.7753\n",
      "Epoch 10/20\n",
      "12/12 [==============================] - 1s 49ms/step - loss: 1.2171 - accuracy: 0.9181 - val_loss: 2.7091 - val_accuracy: 0.7753\n",
      "Epoch 11/20\n",
      "12/12 [==============================] - 1s 51ms/step - loss: 1.2171 - accuracy: 0.9209 - val_loss: 2.7381 - val_accuracy: 0.7303\n",
      "Epoch 12/20\n",
      "12/12 [==============================] - 1s 51ms/step - loss: 1.2138 - accuracy: 0.9209 - val_loss: 2.2357 - val_accuracy: 0.7528\n",
      "Epoch 13/20\n",
      "12/12 [==============================] - 1s 51ms/step - loss: 1.2224 - accuracy: 0.9209 - val_loss: 2.8262 - val_accuracy: 0.7079\n",
      "Epoch 14/20\n",
      "12/12 [==============================] - 1s 49ms/step - loss: 1.2603 - accuracy: 0.9181 - val_loss: 3.1279 - val_accuracy: 0.7191\n",
      "Epoch 15/20\n",
      "12/12 [==============================] - 1s 49ms/step - loss: 1.1526 - accuracy: 0.9153 - val_loss: 3.0696 - val_accuracy: 0.7303\n",
      "Epoch 16/20\n",
      "12/12 [==============================] - 1s 49ms/step - loss: 1.2394 - accuracy: 0.9096 - val_loss: 3.2938 - val_accuracy: 0.6854\n",
      "Epoch 17/20\n",
      "12/12 [==============================] - 1s 50ms/step - loss: 1.0829 - accuracy: 0.9124 - val_loss: 3.2343 - val_accuracy: 0.7191\n",
      "Epoch 18/20\n",
      "12/12 [==============================] - 1s 51ms/step - loss: 0.9695 - accuracy: 0.9266 - val_loss: 3.5584 - val_accuracy: 0.7303\n",
      "Epoch 19/20\n",
      "12/12 [==============================] - 1s 53ms/step - loss: 0.9170 - accuracy: 0.9379 - val_loss: 3.5362 - val_accuracy: 0.6966\n",
      "Epoch 20/20\n",
      "12/12 [==============================] - 1s 49ms/step - loss: 0.8762 - accuracy: 0.9407 - val_loss: 3.3566 - val_accuracy: 0.6966\n"
     ]
    }
   ],
   "source": [
    "peter = model_output(pet_s1,pet_s11)"
   ]
  },
  {
   "cell_type": "code",
   "execution_count": null,
   "metadata": {
    "colab": {
     "base_uri": "https://localhost:8080/"
    },
    "id": "QDZqcgm1kHXs",
    "outputId": "e0d95b74-66c0-47c8-a442-a55e3911ed03"
   },
   "outputs": [
    {
     "name": "stdout",
     "output_type": "stream",
     "text": [
      "Epoch 1/20\n",
      "43/43 [==============================] - 4s 88ms/step - loss: 1.3319 - accuracy: 0.8575 - val_loss: 1.0361 - val_accuracy: 0.8643\n",
      "Epoch 2/20\n",
      "43/43 [==============================] - 2s 52ms/step - loss: 0.9003 - accuracy: 0.9010 - val_loss: 1.1117 - val_accuracy: 0.8732\n",
      "Epoch 3/20\n",
      "43/43 [==============================] - 2s 52ms/step - loss: 0.6893 - accuracy: 0.9225 - val_loss: 1.0767 - val_accuracy: 0.8879\n",
      "Epoch 4/20\n",
      "43/43 [==============================] - 2s 52ms/step - loss: 0.5559 - accuracy: 0.9380 - val_loss: 0.9744 - val_accuracy: 0.8791\n",
      "Epoch 5/20\n",
      "43/43 [==============================] - 2s 55ms/step - loss: 0.4592 - accuracy: 0.9557 - val_loss: 1.0619 - val_accuracy: 0.8820\n",
      "Epoch 6/20\n",
      "43/43 [==============================] - 2s 54ms/step - loss: 0.4455 - accuracy: 0.9645 - val_loss: 0.8732 - val_accuracy: 0.8761\n",
      "Epoch 7/20\n",
      "43/43 [==============================] - 2s 53ms/step - loss: 0.4466 - accuracy: 0.9623 - val_loss: 1.0778 - val_accuracy: 0.8732\n",
      "Epoch 8/20\n",
      "43/43 [==============================] - 2s 54ms/step - loss: 0.4020 - accuracy: 0.9742 - val_loss: 1.0311 - val_accuracy: 0.8879\n",
      "Epoch 9/20\n",
      "43/43 [==============================] - 2s 53ms/step - loss: 0.4272 - accuracy: 0.9705 - val_loss: 1.0760 - val_accuracy: 0.8791\n",
      "Epoch 10/20\n",
      "43/43 [==============================] - 2s 53ms/step - loss: 0.4012 - accuracy: 0.9668 - val_loss: 1.0243 - val_accuracy: 0.8850\n",
      "Epoch 11/20\n",
      "43/43 [==============================] - 2s 54ms/step - loss: 0.3761 - accuracy: 0.9697 - val_loss: 1.2109 - val_accuracy: 0.8614\n",
      "Epoch 12/20\n",
      "43/43 [==============================] - 2s 52ms/step - loss: 0.3595 - accuracy: 0.9719 - val_loss: 1.2187 - val_accuracy: 0.8673\n",
      "Epoch 13/20\n",
      "43/43 [==============================] - 2s 53ms/step - loss: 0.3444 - accuracy: 0.9727 - val_loss: 1.1347 - val_accuracy: 0.8820\n",
      "Epoch 14/20\n",
      "43/43 [==============================] - 2s 55ms/step - loss: 0.3277 - accuracy: 0.9742 - val_loss: 1.1929 - val_accuracy: 0.8850\n",
      "Epoch 15/20\n",
      "43/43 [==============================] - 2s 53ms/step - loss: 0.2998 - accuracy: 0.9786 - val_loss: 1.1813 - val_accuracy: 0.8732\n",
      "Epoch 16/20\n",
      "43/43 [==============================] - 2s 53ms/step - loss: 0.3202 - accuracy: 0.9778 - val_loss: 1.0852 - val_accuracy: 0.8879\n",
      "Epoch 17/20\n",
      "43/43 [==============================] - 2s 54ms/step - loss: 0.2915 - accuracy: 0.9764 - val_loss: 1.1581 - val_accuracy: 0.8525\n",
      "Epoch 18/20\n",
      "43/43 [==============================] - 2s 53ms/step - loss: 0.3253 - accuracy: 0.9756 - val_loss: 1.1857 - val_accuracy: 0.8791\n",
      "Epoch 19/20\n",
      "43/43 [==============================] - 2s 53ms/step - loss: 0.2858 - accuracy: 0.9808 - val_loss: 1.0652 - val_accuracy: 0.8791\n",
      "Epoch 20/20\n",
      "43/43 [==============================] - 2s 54ms/step - loss: 0.3105 - accuracy: 0.9771 - val_loss: 1.3431 - val_accuracy: 0.8732\n"
     ]
    }
   ],
   "source": [
    "johnbook = model_output(john_s1,john_s11)"
   ]
  },
  {
   "cell_type": "code",
   "execution_count": null,
   "metadata": {
    "colab": {
     "base_uri": "https://localhost:8080/"
    },
    "id": "Ur4SN-uykQkf",
    "outputId": "fa76b337-b07e-4f21-d3f2-07a44bb57faa"
   },
   "outputs": [
    {
     "name": "stdout",
     "output_type": "stream",
     "text": [
      "Epoch 1/20\n",
      "8/8 [==============================] - 2s 232ms/step - loss: 2.6099 - accuracy: 0.7480 - val_loss: 2.1228 - val_accuracy: 0.7742\n",
      "Epoch 2/20\n",
      "8/8 [==============================] - 0s 49ms/step - loss: 1.3289 - accuracy: 0.8780 - val_loss: 1.8098 - val_accuracy: 0.8387\n",
      "Epoch 3/20\n",
      "8/8 [==============================] - 0s 49ms/step - loss: 1.2007 - accuracy: 0.9146 - val_loss: 1.8282 - val_accuracy: 0.8065\n",
      "Epoch 4/20\n",
      "8/8 [==============================] - 0s 49ms/step - loss: 0.9668 - accuracy: 0.9228 - val_loss: 2.0415 - val_accuracy: 0.8065\n",
      "Epoch 5/20\n",
      "8/8 [==============================] - 0s 46ms/step - loss: 0.8315 - accuracy: 0.9390 - val_loss: 2.0407 - val_accuracy: 0.8226\n",
      "Epoch 6/20\n",
      "8/8 [==============================] - 0s 48ms/step - loss: 0.8088 - accuracy: 0.9472 - val_loss: 2.0402 - val_accuracy: 0.8226\n",
      "Epoch 7/20\n",
      "8/8 [==============================] - 0s 48ms/step - loss: 0.8087 - accuracy: 0.9472 - val_loss: 2.0369 - val_accuracy: 0.8226\n",
      "Epoch 8/20\n",
      "8/8 [==============================] - 0s 52ms/step - loss: 0.8087 - accuracy: 0.9472 - val_loss: 2.0369 - val_accuracy: 0.8226\n",
      "Epoch 9/20\n",
      "8/8 [==============================] - 0s 49ms/step - loss: 0.8087 - accuracy: 0.9472 - val_loss: 2.0369 - val_accuracy: 0.8226\n",
      "Epoch 10/20\n",
      "8/8 [==============================] - 0s 46ms/step - loss: 0.8087 - accuracy: 0.9472 - val_loss: 2.0369 - val_accuracy: 0.8226\n",
      "Epoch 11/20\n",
      "8/8 [==============================] - 0s 49ms/step - loss: 0.8087 - accuracy: 0.9472 - val_loss: 2.0369 - val_accuracy: 0.8226\n",
      "Epoch 12/20\n",
      "8/8 [==============================] - 0s 48ms/step - loss: 0.8087 - accuracy: 0.9472 - val_loss: 2.0369 - val_accuracy: 0.8226\n",
      "Epoch 13/20\n",
      "8/8 [==============================] - 0s 50ms/step - loss: 0.8087 - accuracy: 0.9472 - val_loss: 2.0369 - val_accuracy: 0.8226\n",
      "Epoch 14/20\n",
      "8/8 [==============================] - 0s 51ms/step - loss: 0.8087 - accuracy: 0.9472 - val_loss: 2.0369 - val_accuracy: 0.8226\n",
      "Epoch 15/20\n",
      "8/8 [==============================] - 0s 49ms/step - loss: 0.8087 - accuracy: 0.9472 - val_loss: 2.0369 - val_accuracy: 0.8226\n",
      "Epoch 16/20\n",
      "8/8 [==============================] - 0s 51ms/step - loss: 0.8087 - accuracy: 0.9472 - val_loss: 2.0369 - val_accuracy: 0.8226\n",
      "Epoch 17/20\n",
      "8/8 [==============================] - 0s 51ms/step - loss: 0.8087 - accuracy: 0.9472 - val_loss: 2.0369 - val_accuracy: 0.8226\n",
      "Epoch 18/20\n",
      "8/8 [==============================] - 0s 48ms/step - loss: 0.8087 - accuracy: 0.9472 - val_loss: 2.0369 - val_accuracy: 0.8226\n",
      "Epoch 19/20\n",
      "8/8 [==============================] - 0s 49ms/step - loss: 0.8087 - accuracy: 0.9472 - val_loss: 2.0369 - val_accuracy: 0.8226\n",
      "Epoch 20/20\n",
      "8/8 [==============================] - 0s 50ms/step - loss: 0.8087 - accuracy: 0.9472 - val_loss: 2.0369 - val_accuracy: 0.8226\n"
     ]
    }
   ],
   "source": [
    "jude = model_output(jude_s1,jude_s11)"
   ]
  },
  {
   "cell_type": "code",
   "execution_count": null,
   "metadata": {
    "colab": {
     "base_uri": "https://localhost:8080/"
    },
    "id": "7kyI55ZwksVO",
    "outputId": "f34a9297-06d6-4b67-821f-bfd60f7f98e6"
   },
   "outputs": [
    {
     "name": "stdout",
     "output_type": "stream",
     "text": [
      "Epoch 1/20\n",
      "58/58 [==============================] - 5s 79ms/step - loss: 1.4603 - accuracy: 0.8512 - val_loss: 0.9827 - val_accuracy: 0.8996\n",
      "Epoch 2/20\n",
      "58/58 [==============================] - 3s 54ms/step - loss: 0.7891 - accuracy: 0.9152 - val_loss: 0.8420 - val_accuracy: 0.9061\n",
      "Epoch 3/20\n",
      "58/58 [==============================] - 3s 54ms/step - loss: 0.6481 - accuracy: 0.9327 - val_loss: 0.6371 - val_accuracy: 0.8996\n",
      "Epoch 4/20\n",
      "58/58 [==============================] - 3s 54ms/step - loss: 0.5073 - accuracy: 0.9519 - val_loss: 0.9624 - val_accuracy: 0.9017\n",
      "Epoch 5/20\n",
      "58/58 [==============================] - 3s 53ms/step - loss: 0.4545 - accuracy: 0.9573 - val_loss: 0.9912 - val_accuracy: 0.8843\n",
      "Epoch 6/20\n",
      "58/58 [==============================] - 3s 55ms/step - loss: 0.4377 - accuracy: 0.9557 - val_loss: 0.9886 - val_accuracy: 0.8952\n",
      "Epoch 7/20\n",
      "58/58 [==============================] - 3s 56ms/step - loss: 0.3710 - accuracy: 0.9683 - val_loss: 1.0376 - val_accuracy: 0.8865\n",
      "Epoch 8/20\n",
      "58/58 [==============================] - 3s 55ms/step - loss: 0.3685 - accuracy: 0.9661 - val_loss: 0.8933 - val_accuracy: 0.8843\n",
      "Epoch 9/20\n",
      "58/58 [==============================] - 3s 54ms/step - loss: 0.3181 - accuracy: 0.9732 - val_loss: 0.9750 - val_accuracy: 0.8908\n",
      "Epoch 10/20\n",
      "58/58 [==============================] - 3s 56ms/step - loss: 0.3123 - accuracy: 0.9748 - val_loss: 1.0596 - val_accuracy: 0.8799\n",
      "Epoch 11/20\n",
      "58/58 [==============================] - 3s 55ms/step - loss: 0.3014 - accuracy: 0.9732 - val_loss: 1.3094 - val_accuracy: 0.8712\n",
      "Epoch 12/20\n",
      "58/58 [==============================] - 3s 55ms/step - loss: 0.3233 - accuracy: 0.9726 - val_loss: 1.0714 - val_accuracy: 0.8886\n",
      "Epoch 13/20\n",
      "58/58 [==============================] - 3s 54ms/step - loss: 0.3099 - accuracy: 0.9776 - val_loss: 1.1103 - val_accuracy: 0.8843\n",
      "Epoch 14/20\n",
      "58/58 [==============================] - 3s 58ms/step - loss: 0.3103 - accuracy: 0.9759 - val_loss: 1.1416 - val_accuracy: 0.8799\n",
      "Epoch 15/20\n",
      "58/58 [==============================] - 3s 60ms/step - loss: 0.2776 - accuracy: 0.9776 - val_loss: 1.0358 - val_accuracy: 0.8952\n",
      "Epoch 16/20\n",
      "58/58 [==============================] - 3s 57ms/step - loss: 0.2871 - accuracy: 0.9787 - val_loss: 1.1452 - val_accuracy: 0.8974\n",
      "Epoch 17/20\n",
      "58/58 [==============================] - 3s 56ms/step - loss: 0.2778 - accuracy: 0.9776 - val_loss: 1.0728 - val_accuracy: 0.8974\n",
      "Epoch 18/20\n",
      "58/58 [==============================] - 3s 55ms/step - loss: 0.2841 - accuracy: 0.9792 - val_loss: 1.0915 - val_accuracy: 0.8886\n",
      "Epoch 19/20\n",
      "58/58 [==============================] - 3s 55ms/step - loss: 0.2712 - accuracy: 0.9765 - val_loss: 1.0253 - val_accuracy: 0.8908\n",
      "Epoch 20/20\n",
      "58/58 [==============================] - 3s 55ms/step - loss: 0.2744 - accuracy: 0.9798 - val_loss: 1.1599 - val_accuracy: 0.8886\n"
     ]
    }
   ],
   "source": [
    "paul = model_output(pl_s1,pl_s11)"
   ]
  },
  {
   "cell_type": "code",
   "execution_count": null,
   "metadata": {
    "id": "vtS5ElkooAii"
   },
   "outputs": [],
   "source": [
    "au_loss = {'Matthew_book':matthewbook.history['loss'],'Mark_book':markbook.history['loss'],'Luke_book':lukebook.history['loss'],'John_book':johnbook.history['loss'],\n",
    "           'Paul_book':paul.history['loss'],'James_book':jams.history['loss'],'Jude_book':jude.history['loss'],'Peter_book':peter.history['loss']}\n",
    "na28_loss = DataFrame(au_loss)\n",
    "\n",
    "au_val_loss = {'Matthew_book':matthewbook.history['val_loss'],'Mark_book':markbook.history['val_loss'],'Luke_book':lukebook.history['val_loss'],'John_book':johnbook.history['val_loss'],\n",
    "           'Paul_book':paul.history['val_loss'],'James_book':jams.history['val_loss'],'Jude_book':jude.history['val_loss'],'Peter_book':peter.history['val_loss']}\n",
    "na28_val_loss = DataFrame(au_val_loss)\n",
    "\n",
    "au_accuracy = {'Matthew_book':matthewbook.history['accuracy'],'Mark_book':markbook.history['accuracy'],'Luke_book':lukebook.history['accuracy'],'John_book':johnbook.history['accuracy'],\n",
    "           'Paul_book':paul.history['accuracy'],'James_book':jams.history['accuracy'],'Jude_book':jude.history['accuracy'],'Peter_book':peter.history['accuracy']}\n",
    "na28_accuracy = DataFrame(au_accuracy)\n",
    "\n",
    "au_val_accuracy = {'Matthew_book':matthewbook.history['val_accuracy'],'Mark_book':markbook.history['val_accuracy'],'Luke_book':lukebook.history['val_accuracy'],'John_book':johnbook.history['val_accuracy'],\n",
    "           'Paul_book':paul.history['val_accuracy'],'James_book':jams.history['val_accuracy'],'Jude_book':jude.history['val_accuracy'],'Peter_book':peter.history['val_accuracy']}\n",
    "na28_val_accuracy = DataFrame(au_val_accuracy)"
   ]
  },
  {
   "cell_type": "code",
   "execution_count": null,
   "metadata": {
    "id": "RPz2KfCxtWf5"
   },
   "outputs": [],
   "source": [
    "na28_loss.to_excel('author NA28 LOSS.xlsx',encoding = 'utf-8', index = False)\n",
    "na28_accuracy.to_excel('author NA28 ACCURACY.xlsx',encoding = 'utf-8', index = False)  \n",
    "na28_val_loss.to_excel('author NA28 VALIDATION LOSS.xlsx',encoding = 'utf-8', index = False)  \n",
    "na28_val_accuracy.to_excel('author NA28 VALIDATION ACCURACY.xlsx',encoding = 'utf-8', index = False)   "
   ]
  },
  {
   "cell_type": "code",
   "execution_count": null,
   "metadata": {
    "colab": {
     "base_uri": "https://localhost:8080/",
     "height": 295
    },
    "id": "YMhMwlDktn-n",
    "outputId": "e8725caa-978c-4a15-b8c1-01728b4eef64"
   },
   "outputs": [
    {
     "data": {
      "image/png": "[encoded data removed]",
      "text/plain": [
       "<Figure size 432x288 with 1 Axes>"
      ]
     },
     "metadata": {
      "needs_background": "light",
      "tags": []
     },
     "output_type": "display_data"
    }
   ],
   "source": [
    "matthewvac = matthewbook.history['val_accuracy']\n",
    "markvac = markbook.history['val_accuracy']\n",
    "lukevac = lukebook.history['val_accuracy']\n",
    "johnvac = johnbook.history['val_accuracy']\n",
    "paulvac = paul.history['val_accuracy']\n",
    "petervac = peter.history['val_accuracy']\n",
    "judevac = jude.history['val_accuracy']\n",
    "jamesvac = jams.history['val_accuracy']\n",
    "\n",
    "epochs = range(1, len(matvac) + 1)\n",
    "\n",
    "plt.plot(epochs, matthewvac, 'b', label='matthew')\n",
    "plt.plot(epochs, markvac, 'r', label='mark')\n",
    "plt.plot(epochs, lukevac, 'y', label='luke')\n",
    "plt.plot(epochs, johnvac, 'g', label='john')\n",
    "plt.plot(epochs, paulvac, 'coral', label='paul')\n",
    "plt.plot(epochs, petervac, 'm', label='peter')\n",
    "plt.plot(epochs, judevac, 'c', label='jude')\n",
    "plt.plot(epochs, jamesvac, 'k', label='james')\n",
    "\n",
    "plt.title('NA28 writing style validation accuracy author')\n",
    "plt.xlabel('Epochs')\n",
    "plt.ylabel('Loss')\n",
    "plt.legend()\n",
    "\n",
    "plt.show()"
   ]
  },
  {
   "cell_type": "markdown",
   "metadata": {
    "id": "pGzZSPwAoBFD"
   },
   "source": [
    "## SBL_version"
   ]
  },
  {
   "cell_type": "code",
   "execution_count": 17,
   "metadata": {
    "id": "jFIjWWq3oBFD"
   },
   "outputs": [],
   "source": [
    "Matthew = df2[df2.BookName == 'Mt']\n",
    "Matthew['Author'] = 'Matthew'\n",
    "Mark = df2[df2.BookName == 'Mk']\n",
    "Mark['Author'] = 'Mark'\n",
    "Luke = df2[df2.BookName == 'Lk']\n",
    "Luke['Author'] = 'Luke'\n",
    "John = df2[df2.BookName == 'Jn']\n",
    "John['Author'] = 'John'\n",
    "Acts = df2[df2.BookName == 'Ac']\n",
    "Acts['Author'] = 'Luke'\n",
    "Luke_Book = pd.concat([Luke,Acts],axis = 0)\n",
    "James = df2[df2.BookName == 'Jas']\n",
    "James['Author'] = 'James'\n",
    "f_Peter = df2[df2.BookName == '1Pe']\n",
    "s_Peter = df2[df2.BookName == '2Pe']\n",
    "f_Peter['Author'] = 'Peter'\n",
    "s_Peter['Author'] = 'Peter'\n",
    "Peter_letter = pd.concat([f_Peter, s_Peter], axis = 0)\n",
    "\n",
    "f_John = df2[df2.BookName == '1Jn']\n",
    "s_John = df2[df2.BookName == '2Jn']\n",
    "t_John = df2[df2.BookName == '3Jn']\n",
    "f_John['Author'] = 'John'\n",
    "s_John['Author'] = 'John'\n",
    "t_John['Author'] = 'John'\n",
    "John_letter = pd.concat([f_John, s_John, t_John], axis = 0)\n",
    "\n",
    "Jude = df2[df2.BookName == 'Jud']\n",
    "Jude['Author'] = 'Jude'\n",
    "Rev = df2[df2.BookName == 'Re']\n",
    "Rev['Author'] = 'John'\n",
    "John_Book = pd.concat([John,John_letter,Rev],axis = 0)"
   ]
  },
  {
   "cell_type": "code",
   "execution_count": 18,
   "metadata": {
    "id": "8Ut4X9yEoBFD"
   },
   "outputs": [],
   "source": [
    "Romans = df2[df2.BookName == 'Ro']\n",
    "Romans['Author'] = 'Paul'\n",
    "f_cor = df2[df2.BookName == '1Co']\n",
    "f_cor['Author'] = 'Paul'\n",
    "s_cor = df2[df2.BookName == '2Co']\n",
    "s_cor['Author'] = 'Paul'\n",
    "Gal = df2[df2.BookName == 'Ga']\n",
    "Gal['Author'] = 'Paul'\n",
    "Eph = df2[df2.BookName == 'Eph']\n",
    "Eph['Author'] = 'Paul'\n",
    "Phi = df2[df2.BookName == 'Php']\n",
    "Phi['Author'] = 'Paul'\n",
    "Col = df2[df2.BookName == 'Col']\n",
    "Col['Author'] = 'Paul'\n",
    "f_the = df2[df2.BookName == '1Th']\n",
    "f_the['Author'] = 'Paul'\n",
    "s_the = df2[df2.BookName == '2Th']\n",
    "s_the['Author'] = 'Paul'\n",
    "f_tim = df2[df2.BookName == '1Ti']\n",
    "f_tim['Author'] = 'Paul'\n",
    "s_tim = df2[df2.BookName == '2Ti']\n",
    "s_tim['Author'] = 'Paul'\n",
    "Titus = df2[df2.BookName == 'Tit']\n",
    "Titus['Author'] = 'Paul'\n",
    "Philemon = df2[df2.BookName == 'Phm']\n",
    "Philemon['Author'] = 'Paul'\n",
    "Paul_letters = pd.concat([Romans,f_cor,s_cor,Gal,Eph,Phi,Col,f_the,s_the,f_tim,s_tim,Titus,Philemon],axis = 0)\n",
    "Heb = df2[df2.BookName == 'Heb']\n",
    "Heb['Author'] = 'Paul?'"
   ]
  },
  {
   "cell_type": "code",
   "execution_count": 19,
   "metadata": {
    "id": "0J3lkr6eoBFD"
   },
   "outputs": [],
   "source": [
    "g1 = cosine_text(Matthew)\n",
    "g2 = cosine_text(Mark)\n",
    "g3 = cosine_text(Luke)\n",
    "g4 = cosine_text(John)\n",
    "acts = cosine_text(Acts)\n",
    "rms = cosine_text(Romans)\n",
    "fcor = cosine_text(f_cor)\n",
    "scor = cosine_text(s_cor)\n",
    "gal = cosine_text(Gal)\n",
    "eph = cosine_text(Eph)\n",
    "phi = cosine_text(Phi)\n",
    "col = cosine_text(Col)\n",
    "fthe = cosine_text(f_the)\n",
    "sthe = cosine_text(s_the)\n",
    "ftim = cosine_text(f_tim)\n",
    "stim = cosine_text(s_tim)\n",
    "titus = cosine_text(Titus)\n",
    "philemon = cosine_text(Philemon)\n",
    "jams = cosine_text(James)\n",
    "fpet = cosine_text(f_Peter)\n",
    "spet = cosine_text(s_Peter)\n",
    "fjohn = cosine_text(f_John)\n",
    "sjohn = cosine_text(s_John)\n",
    "tjohn = cosine_text(t_John.dropna())\n",
    "jud = cosine_text(Jude)\n",
    "rev = cosine_text(Rev)"
   ]
  },
  {
   "cell_type": "code",
   "execution_count": 20,
   "metadata": {
    "id": "t8UAb3aKoBFD"
   },
   "outputs": [],
   "source": [
    "g11 = text_author(Matthew)\n",
    "g21 = text_author(Mark)\n",
    "g31 = text_author(Luke)\n",
    "g41 = text_author(John)\n",
    "acts1 = text_author(Acts)\n",
    "rms1 = text_author(Romans)\n",
    "fcor1 = text_author(f_cor)\n",
    "scor1 = text_author(s_cor)\n",
    "gal1 = text_author(Gal)\n",
    "eph1 = text_author(Eph)\n",
    "phi1 = text_author(Phi)\n",
    "col1 = text_author(Col)\n",
    "fthe1 = text_author(f_the)\n",
    "sthe1 = text_author(s_the)\n",
    "ftim1 = text_author(f_tim)\n",
    "stim1 = text_author(s_tim)\n",
    "titus1 = text_author(Titus)\n",
    "philemon1 = text_author(Philemon)\n",
    "jams1 = text_author(James)\n",
    "fpet1 = text_author(f_Peter)\n",
    "spet1 = text_author(s_Peter)\n",
    "fjohn1 = text_author(f_John)\n",
    "sjohn1 = text_author(s_John)\n",
    "tjohn1 = text_author(t_John.dropna())\n",
    "jud1 = text_author(Jude)\n",
    "rev1 = text_author(Rev)"
   ]
  },
  {
   "cell_type": "code",
   "execution_count": 22,
   "metadata": {
    "colab": {
     "base_uri": "https://localhost:8080/"
    },
    "id": "h2PMDuCDoBFE",
    "outputId": "407fc3cd-f1ec-44cd-8182-de75e125821f"
   },
   "outputs": [
    {
     "name": "stdout",
     "output_type": "stream",
     "text": [
      "Epoch 1/20\n",
      "35/35 [==============================] - 3s 90ms/step - loss: 0.6308 - accuracy: 0.7792 - val_loss: 0.5105 - val_accuracy: 0.7818\n",
      "Epoch 2/20\n",
      "35/35 [==============================] - 2s 49ms/step - loss: 0.5288 - accuracy: 0.7783 - val_loss: 0.5083 - val_accuracy: 0.7782\n",
      "Epoch 3/20\n",
      "35/35 [==============================] - 2s 51ms/step - loss: 0.5017 - accuracy: 0.7774 - val_loss: 0.5368 - val_accuracy: 0.7782\n",
      "Epoch 4/20\n",
      "35/35 [==============================] - 2s 50ms/step - loss: 0.5094 - accuracy: 0.7755 - val_loss: 0.5844 - val_accuracy: 0.7127\n",
      "Epoch 5/20\n",
      "35/35 [==============================] - 2s 49ms/step - loss: 0.5203 - accuracy: 0.7737 - val_loss: 0.5651 - val_accuracy: 0.7818\n",
      "Epoch 6/20\n",
      "35/35 [==============================] - 2s 50ms/step - loss: 0.5172 - accuracy: 0.7746 - val_loss: 0.5037 - val_accuracy: 0.7745\n",
      "Epoch 7/20\n",
      "35/35 [==============================] - 2s 50ms/step - loss: 0.5050 - accuracy: 0.7774 - val_loss: 0.4985 - val_accuracy: 0.7782\n",
      "Epoch 8/20\n",
      "35/35 [==============================] - 2s 51ms/step - loss: 0.4998 - accuracy: 0.7801 - val_loss: 0.8846 - val_accuracy: 0.7782\n",
      "Epoch 9/20\n",
      "35/35 [==============================] - 2s 51ms/step - loss: 0.5116 - accuracy: 0.7838 - val_loss: 0.5383 - val_accuracy: 0.7745\n",
      "Epoch 10/20\n",
      "35/35 [==============================] - 2s 50ms/step - loss: 0.4998 - accuracy: 0.7801 - val_loss: 0.5488 - val_accuracy: 0.7745\n",
      "Epoch 11/20\n",
      "35/35 [==============================] - 2s 50ms/step - loss: 0.5221 - accuracy: 0.7856 - val_loss: 0.5454 - val_accuracy: 0.7527\n",
      "Epoch 12/20\n",
      "35/35 [==============================] - 2s 51ms/step - loss: 0.5376 - accuracy: 0.7847 - val_loss: 0.6250 - val_accuracy: 0.7745\n",
      "Epoch 13/20\n",
      "35/35 [==============================] - 2s 51ms/step - loss: 0.5844 - accuracy: 0.7755 - val_loss: 0.5476 - val_accuracy: 0.7782\n",
      "Epoch 14/20\n",
      "35/35 [==============================] - 2s 50ms/step - loss: 0.5274 - accuracy: 0.7719 - val_loss: 0.5201 - val_accuracy: 0.7745\n",
      "Epoch 15/20\n",
      "35/35 [==============================] - 2s 49ms/step - loss: 0.5033 - accuracy: 0.7746 - val_loss: 0.6425 - val_accuracy: 0.7818\n",
      "Epoch 16/20\n",
      "35/35 [==============================] - 2s 49ms/step - loss: 0.4973 - accuracy: 0.7774 - val_loss: 0.6246 - val_accuracy: 0.7782\n",
      "Epoch 17/20\n",
      "35/35 [==============================] - 2s 49ms/step - loss: 0.4924 - accuracy: 0.7819 - val_loss: 0.5421 - val_accuracy: 0.7709\n",
      "Epoch 18/20\n",
      "35/35 [==============================] - 2s 50ms/step - loss: 0.5148 - accuracy: 0.7828 - val_loss: 0.6788 - val_accuracy: 0.7745\n",
      "Epoch 19/20\n",
      "35/35 [==============================] - 2s 50ms/step - loss: 0.5629 - accuracy: 0.7774 - val_loss: 0.6184 - val_accuracy: 0.7818\n",
      "Epoch 20/20\n",
      "35/35 [==============================] - 2s 50ms/step - loss: 0.5017 - accuracy: 0.7838 - val_loss: 0.5914 - val_accuracy: 0.7709\n"
     ]
    }
   ],
   "source": [
    "mat = model_output(g1,g11)"
   ]
  },
  {
   "cell_type": "code",
   "execution_count": 23,
   "metadata": {
    "colab": {
     "base_uri": "https://localhost:8080/"
    },
    "id": "0um1M4ypoBFG",
    "outputId": "0686fed4-a424-4635-9ce0-33983b192d07"
   },
   "outputs": [
    {
     "name": "stdout",
     "output_type": "stream",
     "text": [
      "Epoch 1/20\n",
      "25/25 [==============================] - 3s 106ms/step - loss: 0.6809 - accuracy: 0.6859 - val_loss: 0.5506 - val_accuracy: 0.7296\n",
      "Epoch 2/20\n",
      "25/25 [==============================] - 1s 47ms/step - loss: 0.6095 - accuracy: 0.6821 - val_loss: 0.8291 - val_accuracy: 0.7092\n",
      "Epoch 3/20\n",
      "25/25 [==============================] - 1s 48ms/step - loss: 0.6017 - accuracy: 0.6936 - val_loss: 0.5845 - val_accuracy: 0.7041\n",
      "Epoch 4/20\n",
      "25/25 [==============================] - 1s 47ms/step - loss: 0.5803 - accuracy: 0.7179 - val_loss: 0.5951 - val_accuracy: 0.7143\n",
      "Epoch 5/20\n",
      "25/25 [==============================] - 1s 48ms/step - loss: 0.6108 - accuracy: 0.7013 - val_loss: 0.5304 - val_accuracy: 0.7041\n",
      "Epoch 6/20\n",
      "25/25 [==============================] - 1s 48ms/step - loss: 0.5750 - accuracy: 0.7077 - val_loss: 0.5388 - val_accuracy: 0.7092\n",
      "Epoch 7/20\n",
      "25/25 [==============================] - 1s 48ms/step - loss: 0.5679 - accuracy: 0.7154 - val_loss: 0.5571 - val_accuracy: 0.7143\n",
      "Epoch 8/20\n",
      "25/25 [==============================] - 1s 47ms/step - loss: 0.5771 - accuracy: 0.7269 - val_loss: 0.5417 - val_accuracy: 0.6939\n",
      "Epoch 9/20\n",
      "25/25 [==============================] - 1s 48ms/step - loss: 0.5561 - accuracy: 0.7192 - val_loss: 0.5359 - val_accuracy: 0.7092\n",
      "Epoch 10/20\n",
      "25/25 [==============================] - 1s 49ms/step - loss: 0.5852 - accuracy: 0.7256 - val_loss: 0.5224 - val_accuracy: 0.7194\n",
      "Epoch 11/20\n",
      "25/25 [==============================] - 1s 48ms/step - loss: 0.5532 - accuracy: 0.7154 - val_loss: 0.5275 - val_accuracy: 0.7041\n",
      "Epoch 12/20\n",
      "25/25 [==============================] - 1s 48ms/step - loss: 0.5368 - accuracy: 0.7282 - val_loss: 0.5343 - val_accuracy: 0.6990\n",
      "Epoch 13/20\n",
      "25/25 [==============================] - 1s 48ms/step - loss: 0.5362 - accuracy: 0.7154 - val_loss: 0.6256 - val_accuracy: 0.6429\n",
      "Epoch 14/20\n",
      "25/25 [==============================] - 1s 48ms/step - loss: 0.5265 - accuracy: 0.7333 - val_loss: 0.6063 - val_accuracy: 0.7194\n",
      "Epoch 15/20\n",
      "25/25 [==============================] - 1s 48ms/step - loss: 0.5854 - accuracy: 0.7256 - val_loss: 0.6461 - val_accuracy: 0.6684\n",
      "Epoch 16/20\n",
      "25/25 [==============================] - 1s 49ms/step - loss: 0.5275 - accuracy: 0.7385 - val_loss: 0.5346 - val_accuracy: 0.7194\n",
      "Epoch 17/20\n",
      "25/25 [==============================] - 1s 48ms/step - loss: 0.5262 - accuracy: 0.7333 - val_loss: 0.5412 - val_accuracy: 0.7092\n",
      "Epoch 18/20\n",
      "25/25 [==============================] - 1s 49ms/step - loss: 0.5067 - accuracy: 0.7526 - val_loss: 0.6121 - val_accuracy: 0.6939\n",
      "Epoch 19/20\n",
      "25/25 [==============================] - 1s 48ms/step - loss: 0.5108 - accuracy: 0.7436 - val_loss: 0.5434 - val_accuracy: 0.6786\n",
      "Epoch 20/20\n",
      "25/25 [==============================] - 1s 50ms/step - loss: 0.4857 - accuracy: 0.7513 - val_loss: 0.6261 - val_accuracy: 0.7551\n"
     ]
    }
   ],
   "source": [
    "mak = model_output(g2,g21)"
   ]
  },
  {
   "cell_type": "code",
   "execution_count": 24,
   "metadata": {
    "colab": {
     "base_uri": "https://localhost:8080/"
    },
    "id": "_jaOgmUjoBFG",
    "outputId": "b787e0cf-b502-4600-8e0c-4f8886320537"
   },
   "outputs": [
    {
     "name": "stdout",
     "output_type": "stream",
     "text": [
      "Epoch 1/20\n",
      "37/37 [==============================] - 3s 86ms/step - loss: 0.6054 - accuracy: 0.7812 - val_loss: 0.5969 - val_accuracy: 0.8110\n",
      "Epoch 2/20\n",
      "37/37 [==============================] - 2s 48ms/step - loss: 0.6254 - accuracy: 0.7993 - val_loss: 0.5397 - val_accuracy: 0.8007\n",
      "Epoch 3/20\n",
      "37/37 [==============================] - 2s 48ms/step - loss: 0.5056 - accuracy: 0.7941 - val_loss: 0.6433 - val_accuracy: 0.8041\n",
      "Epoch 4/20\n",
      "37/37 [==============================] - 2s 49ms/step - loss: 0.5083 - accuracy: 0.8028 - val_loss: 0.4481 - val_accuracy: 0.8179\n",
      "Epoch 5/20\n",
      "37/37 [==============================] - 2s 49ms/step - loss: 0.4885 - accuracy: 0.7984 - val_loss: 0.5270 - val_accuracy: 0.8076\n",
      "Epoch 6/20\n",
      "37/37 [==============================] - 2s 48ms/step - loss: 0.4625 - accuracy: 0.8019 - val_loss: 0.5747 - val_accuracy: 0.7835\n",
      "Epoch 7/20\n",
      "37/37 [==============================] - 2s 49ms/step - loss: 0.4809 - accuracy: 0.8140 - val_loss: 0.5385 - val_accuracy: 0.7904\n",
      "Epoch 8/20\n",
      "37/37 [==============================] - 2s 48ms/step - loss: 0.4830 - accuracy: 0.8071 - val_loss: 0.5571 - val_accuracy: 0.8076\n",
      "Epoch 9/20\n",
      "37/37 [==============================] - 2s 48ms/step - loss: 0.4335 - accuracy: 0.8114 - val_loss: 0.5194 - val_accuracy: 0.8076\n",
      "Epoch 10/20\n",
      "37/37 [==============================] - 2s 49ms/step - loss: 0.4350 - accuracy: 0.8191 - val_loss: 0.7110 - val_accuracy: 0.7973\n",
      "Epoch 11/20\n",
      "37/37 [==============================] - 2s 49ms/step - loss: 0.4517 - accuracy: 0.8260 - val_loss: 0.6699 - val_accuracy: 0.7732\n",
      "Epoch 12/20\n",
      "37/37 [==============================] - 2s 48ms/step - loss: 0.4507 - accuracy: 0.8200 - val_loss: 0.8897 - val_accuracy: 0.8110\n",
      "Epoch 13/20\n",
      "37/37 [==============================] - 2s 48ms/step - loss: 0.4376 - accuracy: 0.8252 - val_loss: 0.4997 - val_accuracy: 0.8144\n",
      "Epoch 14/20\n",
      "37/37 [==============================] - 2s 48ms/step - loss: 0.3625 - accuracy: 0.8320 - val_loss: 0.8629 - val_accuracy: 0.7938\n",
      "Epoch 15/20\n",
      "37/37 [==============================] - 2s 48ms/step - loss: 0.3681 - accuracy: 0.8286 - val_loss: 1.1254 - val_accuracy: 0.7973\n",
      "Epoch 16/20\n",
      "37/37 [==============================] - 2s 50ms/step - loss: 0.3990 - accuracy: 0.8320 - val_loss: 0.5194 - val_accuracy: 0.7938\n",
      "Epoch 17/20\n",
      "37/37 [==============================] - 2s 49ms/step - loss: 0.4013 - accuracy: 0.8372 - val_loss: 0.8436 - val_accuracy: 0.8041\n",
      "Epoch 18/20\n",
      "37/37 [==============================] - 2s 48ms/step - loss: 0.3690 - accuracy: 0.8450 - val_loss: 0.9957 - val_accuracy: 0.7801\n",
      "Epoch 19/20\n",
      "37/37 [==============================] - 2s 48ms/step - loss: 0.3964 - accuracy: 0.8450 - val_loss: 0.8725 - val_accuracy: 0.7904\n",
      "Epoch 20/20\n",
      "37/37 [==============================] - 2s 48ms/step - loss: 0.3622 - accuracy: 0.8622 - val_loss: 1.2885 - val_accuracy: 0.7423\n"
     ]
    }
   ],
   "source": [
    "luk = model_output(g3,g31)"
   ]
  },
  {
   "cell_type": "code",
   "execution_count": 25,
   "metadata": {
    "colab": {
     "base_uri": "https://localhost:8080/"
    },
    "id": "fWQBC7eZoBFH",
    "outputId": "38d5d63b-324e-46fe-9921-64d94de7ac18"
   },
   "outputs": [
    {
     "name": "stdout",
     "output_type": "stream",
     "text": [
      "Epoch 1/20\n",
      "30/30 [==============================] - 3s 95ms/step - loss: 1.0402 - accuracy: 0.7134 - val_loss: 0.8296 - val_accuracy: 0.7137\n",
      "Epoch 2/20\n",
      "30/30 [==============================] - 1s 48ms/step - loss: 0.5989 - accuracy: 0.7551 - val_loss: 0.8183 - val_accuracy: 0.7222\n",
      "Epoch 3/20\n",
      "30/30 [==============================] - 1s 47ms/step - loss: 0.5519 - accuracy: 0.7604 - val_loss: 0.6853 - val_accuracy: 0.7308\n",
      "Epoch 4/20\n",
      "30/30 [==============================] - 1s 49ms/step - loss: 0.5103 - accuracy: 0.7636 - val_loss: 0.8015 - val_accuracy: 0.7137\n",
      "Epoch 5/20\n",
      "30/30 [==============================] - 1s 48ms/step - loss: 0.5505 - accuracy: 0.7818 - val_loss: 0.7010 - val_accuracy: 0.7308\n",
      "Epoch 6/20\n",
      "30/30 [==============================] - 1s 49ms/step - loss: 0.5632 - accuracy: 0.7947 - val_loss: 0.8592 - val_accuracy: 0.7265\n",
      "Epoch 7/20\n",
      "30/30 [==============================] - 1s 48ms/step - loss: 0.5203 - accuracy: 0.7957 - val_loss: 0.8003 - val_accuracy: 0.7607\n",
      "Epoch 8/20\n",
      "30/30 [==============================] - 1s 48ms/step - loss: 0.4807 - accuracy: 0.8160 - val_loss: 0.7982 - val_accuracy: 0.7521\n",
      "Epoch 9/20\n",
      "30/30 [==============================] - 1s 48ms/step - loss: 0.4947 - accuracy: 0.8032 - val_loss: 0.7616 - val_accuracy: 0.7350\n",
      "Epoch 10/20\n",
      "30/30 [==============================] - 1s 48ms/step - loss: 0.4508 - accuracy: 0.8225 - val_loss: 0.9978 - val_accuracy: 0.7436\n",
      "Epoch 11/20\n",
      "30/30 [==============================] - 1s 48ms/step - loss: 0.4412 - accuracy: 0.8299 - val_loss: 1.0545 - val_accuracy: 0.7393\n",
      "Epoch 12/20\n",
      "30/30 [==============================] - 1s 49ms/step - loss: 0.4531 - accuracy: 0.8396 - val_loss: 1.1149 - val_accuracy: 0.7393\n",
      "Epoch 13/20\n",
      "30/30 [==============================] - 1s 47ms/step - loss: 0.3884 - accuracy: 0.8439 - val_loss: 1.0839 - val_accuracy: 0.7393\n",
      "Epoch 14/20\n",
      "30/30 [==============================] - 1s 49ms/step - loss: 0.3675 - accuracy: 0.8620 - val_loss: 1.6902 - val_accuracy: 0.7521\n",
      "Epoch 15/20\n",
      "30/30 [==============================] - 2s 51ms/step - loss: 0.3879 - accuracy: 0.8588 - val_loss: 1.2232 - val_accuracy: 0.7521\n",
      "Epoch 16/20\n",
      "30/30 [==============================] - 2s 50ms/step - loss: 0.3657 - accuracy: 0.8717 - val_loss: 1.3246 - val_accuracy: 0.7607\n",
      "Epoch 17/20\n",
      "30/30 [==============================] - 1s 50ms/step - loss: 0.3312 - accuracy: 0.8749 - val_loss: 1.3206 - val_accuracy: 0.7222\n",
      "Epoch 18/20\n",
      "30/30 [==============================] - 1s 50ms/step - loss: 0.3423 - accuracy: 0.8909 - val_loss: 2.3121 - val_accuracy: 0.7436\n",
      "Epoch 19/20\n",
      "30/30 [==============================] - 1s 49ms/step - loss: 0.3650 - accuracy: 0.8909 - val_loss: 1.5066 - val_accuracy: 0.7308\n",
      "Epoch 20/20\n",
      "30/30 [==============================] - 1s 48ms/step - loss: 0.3507 - accuracy: 0.8973 - val_loss: 1.7118 - val_accuracy: 0.7179\n"
     ]
    }
   ],
   "source": [
    "joh = model_output(g4,g41)"
   ]
  },
  {
   "cell_type": "code",
   "execution_count": 26,
   "metadata": {
    "colab": {
     "base_uri": "https://localhost:8080/"
    },
    "id": "z7IaqIEfoBFH",
    "outputId": "466439f6-a1cf-404a-8a34-4f3efdbf1adc"
   },
   "outputs": [
    {
     "name": "stdout",
     "output_type": "stream",
     "text": [
      "Epoch 1/20\n",
      "33/33 [==============================] - 3s 93ms/step - loss: 1.7460 - accuracy: 0.7404 - val_loss: 1.1936 - val_accuracy: 0.7088\n",
      "Epoch 2/20\n",
      "33/33 [==============================] - 2s 49ms/step - loss: 0.9464 - accuracy: 0.7423 - val_loss: 1.0455 - val_accuracy: 0.6820\n",
      "Epoch 3/20\n",
      "33/33 [==============================] - 2s 49ms/step - loss: 0.8855 - accuracy: 0.7586 - val_loss: 0.9315 - val_accuracy: 0.6935\n",
      "Epoch 4/20\n",
      "33/33 [==============================] - 2s 49ms/step - loss: 0.7437 - accuracy: 0.7519 - val_loss: 0.8383 - val_accuracy: 0.6743\n",
      "Epoch 5/20\n",
      "33/33 [==============================] - 2s 49ms/step - loss: 0.6169 - accuracy: 0.7826 - val_loss: 1.0830 - val_accuracy: 0.7318\n",
      "Epoch 6/20\n",
      "33/33 [==============================] - 2s 50ms/step - loss: 0.6760 - accuracy: 0.7864 - val_loss: 1.1496 - val_accuracy: 0.6973\n",
      "Epoch 7/20\n",
      "33/33 [==============================] - 2s 49ms/step - loss: 0.5288 - accuracy: 0.8017 - val_loss: 1.0641 - val_accuracy: 0.7625\n",
      "Epoch 8/20\n",
      "33/33 [==============================] - 2s 48ms/step - loss: 0.5081 - accuracy: 0.8151 - val_loss: 1.4104 - val_accuracy: 0.7586\n",
      "Epoch 9/20\n",
      "33/33 [==============================] - 2s 49ms/step - loss: 0.4772 - accuracy: 0.8247 - val_loss: 1.5460 - val_accuracy: 0.7318\n",
      "Epoch 10/20\n",
      "33/33 [==============================] - 2s 49ms/step - loss: 0.4320 - accuracy: 0.8420 - val_loss: 1.4988 - val_accuracy: 0.7433\n",
      "Epoch 11/20\n",
      "33/33 [==============================] - 2s 48ms/step - loss: 0.3882 - accuracy: 0.8630 - val_loss: 1.5520 - val_accuracy: 0.7433\n",
      "Epoch 12/20\n",
      "33/33 [==============================] - 2s 49ms/step - loss: 0.4208 - accuracy: 0.8669 - val_loss: 1.7539 - val_accuracy: 0.7471\n",
      "Epoch 13/20\n",
      "33/33 [==============================] - 2s 49ms/step - loss: 0.3950 - accuracy: 0.8669 - val_loss: 1.9274 - val_accuracy: 0.7203\n",
      "Epoch 14/20\n",
      "33/33 [==============================] - 2s 50ms/step - loss: 0.4418 - accuracy: 0.8736 - val_loss: 1.6464 - val_accuracy: 0.7586\n",
      "Epoch 15/20\n",
      "33/33 [==============================] - 2s 48ms/step - loss: 0.3424 - accuracy: 0.8937 - val_loss: 1.8991 - val_accuracy: 0.7471\n",
      "Epoch 16/20\n",
      "33/33 [==============================] - 2s 49ms/step - loss: 0.3050 - accuracy: 0.9033 - val_loss: 1.9017 - val_accuracy: 0.7433\n",
      "Epoch 17/20\n",
      "33/33 [==============================] - 2s 49ms/step - loss: 0.3031 - accuracy: 0.9061 - val_loss: 2.0974 - val_accuracy: 0.7433\n",
      "Epoch 18/20\n",
      "33/33 [==============================] - 2s 49ms/step - loss: 0.2663 - accuracy: 0.9167 - val_loss: 2.0935 - val_accuracy: 0.7356\n",
      "Epoch 19/20\n",
      "33/33 [==============================] - 2s 48ms/step - loss: 0.2723 - accuracy: 0.9262 - val_loss: 2.0659 - val_accuracy: 0.7280\n",
      "Epoch 20/20\n",
      "33/33 [==============================] - 2s 48ms/step - loss: 0.2327 - accuracy: 0.9339 - val_loss: 1.9661 - val_accuracy: 0.7318\n"
     ]
    }
   ],
   "source": [
    "act = model_output(acts,acts1)"
   ]
  },
  {
   "cell_type": "code",
   "execution_count": 27,
   "metadata": {
    "colab": {
     "base_uri": "https://localhost:8080/"
    },
    "id": "bzb4GZ90oBFH",
    "outputId": "1b06ba83-1919-407b-a6e7-36f69d46f509"
   },
   "outputs": [
    {
     "name": "stdout",
     "output_type": "stream",
     "text": [
      "Epoch 1/20\n",
      "19/19 [==============================] - 2s 123ms/step - loss: 2.6982 - accuracy: 0.5768 - val_loss: 2.3226 - val_accuracy: 0.6327\n",
      "Epoch 2/20\n",
      "19/19 [==============================] - 1s 47ms/step - loss: 1.9360 - accuracy: 0.6109 - val_loss: 2.0092 - val_accuracy: 0.6054\n",
      "Epoch 3/20\n",
      "19/19 [==============================] - 1s 48ms/step - loss: 1.4089 - accuracy: 0.6160 - val_loss: 1.9252 - val_accuracy: 0.5986\n",
      "Epoch 4/20\n",
      "19/19 [==============================] - 1s 47ms/step - loss: 1.1612 - accuracy: 0.6638 - val_loss: 1.7331 - val_accuracy: 0.6122\n",
      "Epoch 5/20\n",
      "19/19 [==============================] - 1s 47ms/step - loss: 1.1355 - accuracy: 0.6877 - val_loss: 1.7099 - val_accuracy: 0.6259\n",
      "Epoch 6/20\n",
      "19/19 [==============================] - 1s 48ms/step - loss: 0.9014 - accuracy: 0.7338 - val_loss: 2.1047 - val_accuracy: 0.5782\n",
      "Epoch 7/20\n",
      "19/19 [==============================] - 1s 47ms/step - loss: 0.8522 - accuracy: 0.7389 - val_loss: 1.8578 - val_accuracy: 0.6122\n",
      "Epoch 8/20\n",
      "19/19 [==============================] - 1s 47ms/step - loss: 0.8094 - accuracy: 0.7662 - val_loss: 1.9242 - val_accuracy: 0.5918\n",
      "Epoch 9/20\n",
      "19/19 [==============================] - 1s 47ms/step - loss: 0.6546 - accuracy: 0.7986 - val_loss: 1.7265 - val_accuracy: 0.5714\n",
      "Epoch 10/20\n",
      "19/19 [==============================] - 1s 47ms/step - loss: 0.7066 - accuracy: 0.8123 - val_loss: 1.8413 - val_accuracy: 0.6190\n",
      "Epoch 11/20\n",
      "19/19 [==============================] - 1s 48ms/step - loss: 0.5393 - accuracy: 0.8225 - val_loss: 1.9873 - val_accuracy: 0.5918\n",
      "Epoch 12/20\n",
      "19/19 [==============================] - 1s 49ms/step - loss: 0.5138 - accuracy: 0.8481 - val_loss: 2.0263 - val_accuracy: 0.5850\n",
      "Epoch 13/20\n",
      "19/19 [==============================] - 1s 47ms/step - loss: 0.4865 - accuracy: 0.8669 - val_loss: 2.5171 - val_accuracy: 0.6054\n",
      "Epoch 14/20\n",
      "19/19 [==============================] - 1s 47ms/step - loss: 0.5608 - accuracy: 0.8771 - val_loss: 2.3522 - val_accuracy: 0.5918\n",
      "Epoch 15/20\n",
      "19/19 [==============================] - 1s 47ms/step - loss: 0.4688 - accuracy: 0.8840 - val_loss: 2.8908 - val_accuracy: 0.5782\n",
      "Epoch 16/20\n",
      "19/19 [==============================] - 1s 47ms/step - loss: 0.4572 - accuracy: 0.8788 - val_loss: 2.4563 - val_accuracy: 0.5646\n",
      "Epoch 17/20\n",
      "19/19 [==============================] - 1s 48ms/step - loss: 0.4635 - accuracy: 0.8874 - val_loss: 2.8275 - val_accuracy: 0.5646\n",
      "Epoch 18/20\n",
      "19/19 [==============================] - 1s 48ms/step - loss: 0.3747 - accuracy: 0.9130 - val_loss: 2.8766 - val_accuracy: 0.6122\n",
      "Epoch 19/20\n",
      "19/19 [==============================] - 1s 47ms/step - loss: 0.4430 - accuracy: 0.9027 - val_loss: 2.8186 - val_accuracy: 0.5646\n",
      "Epoch 20/20\n",
      "19/19 [==============================] - 1s 47ms/step - loss: 0.3600 - accuracy: 0.9317 - val_loss: 3.1097 - val_accuracy: 0.5374\n"
     ]
    }
   ],
   "source": [
    "rom = model_output(rms,rms1)"
   ]
  },
  {
   "cell_type": "code",
   "execution_count": 28,
   "metadata": {
    "colab": {
     "base_uri": "https://localhost:8080/"
    },
    "id": "y2IC_d46oBFH",
    "outputId": "7c9f6d09-8d6e-4fb7-cf6b-6f2edd0d27ba"
   },
   "outputs": [
    {
     "name": "stdout",
     "output_type": "stream",
     "text": [
      "Epoch 1/20\n",
      "19/19 [==============================] - 2s 124ms/step - loss: 2.0638 - accuracy: 0.6419 - val_loss: 1.1826 - val_accuracy: 0.6554\n",
      "Epoch 2/20\n",
      "19/19 [==============================] - 1s 46ms/step - loss: 1.4789 - accuracy: 0.7280 - val_loss: 1.0645 - val_accuracy: 0.6689\n",
      "Epoch 3/20\n",
      "19/19 [==============================] - 1s 47ms/step - loss: 1.2726 - accuracy: 0.7703 - val_loss: 1.0583 - val_accuracy: 0.6486\n",
      "Epoch 4/20\n",
      "19/19 [==============================] - 1s 48ms/step - loss: 1.2093 - accuracy: 0.7551 - val_loss: 1.1626 - val_accuracy: 0.6757\n",
      "Epoch 5/20\n",
      "19/19 [==============================] - 1s 48ms/step - loss: 0.9761 - accuracy: 0.7973 - val_loss: 1.4063 - val_accuracy: 0.6554\n",
      "Epoch 6/20\n",
      "19/19 [==============================] - 1s 48ms/step - loss: 0.8780 - accuracy: 0.8142 - val_loss: 1.5020 - val_accuracy: 0.6824\n",
      "Epoch 7/20\n",
      "19/19 [==============================] - 1s 49ms/step - loss: 0.7464 - accuracy: 0.8530 - val_loss: 1.5669 - val_accuracy: 0.6757\n",
      "Epoch 8/20\n",
      "19/19 [==============================] - 1s 48ms/step - loss: 0.6952 - accuracy: 0.8784 - val_loss: 1.7527 - val_accuracy: 0.6757\n",
      "Epoch 9/20\n",
      "19/19 [==============================] - 1s 47ms/step - loss: 0.7151 - accuracy: 0.8902 - val_loss: 1.8719 - val_accuracy: 0.6689\n",
      "Epoch 10/20\n",
      "19/19 [==============================] - 1s 48ms/step - loss: 0.6174 - accuracy: 0.9071 - val_loss: 2.8325 - val_accuracy: 0.6622\n",
      "Epoch 11/20\n",
      "19/19 [==============================] - 1s 47ms/step - loss: 0.6110 - accuracy: 0.9257 - val_loss: 2.6603 - val_accuracy: 0.6351\n",
      "Epoch 12/20\n",
      "19/19 [==============================] - 1s 47ms/step - loss: 0.5722 - accuracy: 0.9307 - val_loss: 2.6427 - val_accuracy: 0.6486\n",
      "Epoch 13/20\n",
      "19/19 [==============================] - 1s 48ms/step - loss: 0.6204 - accuracy: 0.9324 - val_loss: 3.1701 - val_accuracy: 0.6351\n",
      "Epoch 14/20\n",
      "19/19 [==============================] - 1s 48ms/step - loss: 0.5878 - accuracy: 0.9291 - val_loss: 2.7703 - val_accuracy: 0.6351\n",
      "Epoch 15/20\n",
      "19/19 [==============================] - 1s 48ms/step - loss: 0.4940 - accuracy: 0.9595 - val_loss: 3.7710 - val_accuracy: 0.6284\n",
      "Epoch 16/20\n",
      "19/19 [==============================] - 1s 47ms/step - loss: 0.4891 - accuracy: 0.9561 - val_loss: 2.9691 - val_accuracy: 0.6149\n",
      "Epoch 17/20\n",
      "19/19 [==============================] - 1s 46ms/step - loss: 0.5120 - accuracy: 0.9578 - val_loss: 3.5452 - val_accuracy: 0.6351\n",
      "Epoch 18/20\n",
      "19/19 [==============================] - 1s 47ms/step - loss: 0.4832 - accuracy: 0.9561 - val_loss: 3.5246 - val_accuracy: 0.6081\n",
      "Epoch 19/20\n",
      "19/19 [==============================] - 1s 47ms/step - loss: 0.4617 - accuracy: 0.9662 - val_loss: 3.6681 - val_accuracy: 0.5946\n",
      "Epoch 20/20\n",
      "19/19 [==============================] - 1s 47ms/step - loss: 0.4834 - accuracy: 0.9561 - val_loss: 3.7024 - val_accuracy: 0.6284\n"
     ]
    }
   ],
   "source": [
    "fcr = model_output(fcor,fcor1)"
   ]
  },
  {
   "cell_type": "code",
   "execution_count": 29,
   "metadata": {
    "colab": {
     "base_uri": "https://localhost:8080/"
    },
    "id": "O6snr4_poBFI",
    "outputId": "44ab300a-3f24-452b-c620-33c2a55aa703"
   },
   "outputs": [
    {
     "name": "stdout",
     "output_type": "stream",
     "text": [
      "Epoch 1/20\n",
      "14/14 [==============================] - 2s 149ms/step - loss: 2.8975 - accuracy: 0.7114 - val_loss: 3.8924 - val_accuracy: 0.6250\n",
      "Epoch 2/20\n",
      "14/14 [==============================] - 1s 47ms/step - loss: 2.6381 - accuracy: 0.7360 - val_loss: 2.7642 - val_accuracy: 0.6875\n",
      "Epoch 3/20\n",
      "14/14 [==============================] - 1s 47ms/step - loss: 1.9012 - accuracy: 0.7852 - val_loss: 2.7553 - val_accuracy: 0.7054\n",
      "Epoch 4/20\n",
      "14/14 [==============================] - 1s 48ms/step - loss: 1.7862 - accuracy: 0.8210 - val_loss: 2.8434 - val_accuracy: 0.6518\n",
      "Epoch 5/20\n",
      "14/14 [==============================] - 1s 48ms/step - loss: 1.6179 - accuracy: 0.8121 - val_loss: 2.8121 - val_accuracy: 0.6786\n",
      "Epoch 6/20\n",
      "14/14 [==============================] - 1s 47ms/step - loss: 1.5187 - accuracy: 0.8300 - val_loss: 2.2258 - val_accuracy: 0.6607\n",
      "Epoch 7/20\n",
      "14/14 [==============================] - 1s 49ms/step - loss: 1.3366 - accuracy: 0.8702 - val_loss: 2.3371 - val_accuracy: 0.7054\n",
      "Epoch 8/20\n",
      "14/14 [==============================] - 1s 47ms/step - loss: 1.2098 - accuracy: 0.8904 - val_loss: 1.7574 - val_accuracy: 0.7143\n",
      "Epoch 9/20\n",
      "14/14 [==============================] - 1s 48ms/step - loss: 1.1246 - accuracy: 0.9038 - val_loss: 1.9134 - val_accuracy: 0.6964\n",
      "Epoch 10/20\n",
      "14/14 [==============================] - 1s 48ms/step - loss: 1.1311 - accuracy: 0.8971 - val_loss: 2.2310 - val_accuracy: 0.6964\n",
      "Epoch 11/20\n",
      "14/14 [==============================] - 1s 48ms/step - loss: 1.0473 - accuracy: 0.9217 - val_loss: 2.3107 - val_accuracy: 0.7589\n",
      "Epoch 12/20\n",
      "14/14 [==============================] - 1s 46ms/step - loss: 1.0333 - accuracy: 0.9329 - val_loss: 2.0691 - val_accuracy: 0.7500\n",
      "Epoch 13/20\n",
      "14/14 [==============================] - 1s 46ms/step - loss: 1.0243 - accuracy: 0.9329 - val_loss: 2.3907 - val_accuracy: 0.7500\n",
      "Epoch 14/20\n",
      "14/14 [==============================] - 1s 48ms/step - loss: 0.9548 - accuracy: 0.9351 - val_loss: 2.4167 - val_accuracy: 0.6786\n",
      "Epoch 15/20\n",
      "14/14 [==============================] - 1s 48ms/step - loss: 1.2226 - accuracy: 0.8837 - val_loss: 2.5854 - val_accuracy: 0.6964\n",
      "Epoch 16/20\n",
      "14/14 [==============================] - 1s 46ms/step - loss: 0.9056 - accuracy: 0.9374 - val_loss: 2.7405 - val_accuracy: 0.6875\n",
      "Epoch 17/20\n",
      "14/14 [==============================] - 1s 48ms/step - loss: 0.8674 - accuracy: 0.9418 - val_loss: 2.2206 - val_accuracy: 0.7143\n",
      "Epoch 18/20\n",
      "14/14 [==============================] - 1s 47ms/step - loss: 0.8364 - accuracy: 0.9463 - val_loss: 2.4667 - val_accuracy: 0.6875\n",
      "Epoch 19/20\n",
      "14/14 [==============================] - 1s 46ms/step - loss: 0.8396 - accuracy: 0.9418 - val_loss: 2.3596 - val_accuracy: 0.7054\n",
      "Epoch 20/20\n",
      "14/14 [==============================] - 1s 48ms/step - loss: 0.9270 - accuracy: 0.9284 - val_loss: 2.6041 - val_accuracy: 0.6964\n"
     ]
    }
   ],
   "source": [
    "scr = model_output(scor,scor1)"
   ]
  },
  {
   "cell_type": "code",
   "execution_count": 30,
   "metadata": {
    "colab": {
     "base_uri": "https://localhost:8080/"
    },
    "id": "l1ovp8SOoBFI",
    "outputId": "f6da80c7-cbdb-4d11-cac7-a24d6125cafe"
   },
   "outputs": [
    {
     "name": "stdout",
     "output_type": "stream",
     "text": [
      "Epoch 1/20\n",
      "12/12 [==============================] - 2s 162ms/step - loss: 2.3063 - accuracy: 0.7784 - val_loss: 2.5454 - val_accuracy: 0.8132\n",
      "Epoch 2/20\n",
      "12/12 [==============================] - 1s 46ms/step - loss: 1.8259 - accuracy: 0.8227 - val_loss: 2.2177 - val_accuracy: 0.7582\n",
      "Epoch 3/20\n",
      "12/12 [==============================] - 1s 50ms/step - loss: 1.5860 - accuracy: 0.8587 - val_loss: 2.5788 - val_accuracy: 0.7582\n",
      "Epoch 4/20\n",
      "12/12 [==============================] - 1s 44ms/step - loss: 1.4829 - accuracy: 0.8809 - val_loss: 2.2226 - val_accuracy: 0.7473\n",
      "Epoch 5/20\n",
      "12/12 [==============================] - 1s 46ms/step - loss: 1.2008 - accuracy: 0.8920 - val_loss: 2.7905 - val_accuracy: 0.7143\n",
      "Epoch 6/20\n",
      "12/12 [==============================] - 1s 46ms/step - loss: 1.0792 - accuracy: 0.9086 - val_loss: 2.4774 - val_accuracy: 0.7143\n",
      "Epoch 7/20\n",
      "12/12 [==============================] - 1s 46ms/step - loss: 0.9993 - accuracy: 0.9114 - val_loss: 3.0218 - val_accuracy: 0.7143\n",
      "Epoch 8/20\n",
      "12/12 [==============================] - 1s 45ms/step - loss: 1.0728 - accuracy: 0.9169 - val_loss: 2.7704 - val_accuracy: 0.7143\n",
      "Epoch 9/20\n",
      "12/12 [==============================] - 1s 44ms/step - loss: 0.8444 - accuracy: 0.9307 - val_loss: 3.4974 - val_accuracy: 0.6923\n",
      "Epoch 10/20\n",
      "12/12 [==============================] - 1s 46ms/step - loss: 0.8236 - accuracy: 0.9474 - val_loss: 2.7420 - val_accuracy: 0.7033\n",
      "Epoch 11/20\n",
      "12/12 [==============================] - 1s 46ms/step - loss: 0.8174 - accuracy: 0.9474 - val_loss: 2.6366 - val_accuracy: 0.7033\n",
      "Epoch 12/20\n",
      "12/12 [==============================] - 1s 45ms/step - loss: 0.8222 - accuracy: 0.9391 - val_loss: 2.9337 - val_accuracy: 0.6923\n",
      "Epoch 13/20\n",
      "12/12 [==============================] - 1s 45ms/step - loss: 0.8312 - accuracy: 0.9418 - val_loss: 2.7201 - val_accuracy: 0.7473\n",
      "Epoch 14/20\n",
      "12/12 [==============================] - 1s 46ms/step - loss: 0.7208 - accuracy: 0.9418 - val_loss: 2.0468 - val_accuracy: 0.7912\n",
      "Epoch 15/20\n",
      "12/12 [==============================] - 1s 46ms/step - loss: 0.9773 - accuracy: 0.8920 - val_loss: 2.2626 - val_accuracy: 0.7253\n",
      "Epoch 16/20\n",
      "12/12 [==============================] - 1s 46ms/step - loss: 0.8921 - accuracy: 0.9252 - val_loss: 2.6690 - val_accuracy: 0.6703\n",
      "Epoch 17/20\n",
      "12/12 [==============================] - 1s 46ms/step - loss: 0.8224 - accuracy: 0.9446 - val_loss: 2.6040 - val_accuracy: 0.6923\n",
      "Epoch 18/20\n",
      "12/12 [==============================] - 1s 45ms/step - loss: 0.8138 - accuracy: 0.9474 - val_loss: 2.6528 - val_accuracy: 0.6813\n",
      "Epoch 19/20\n",
      "12/12 [==============================] - 1s 46ms/step - loss: 0.6833 - accuracy: 0.9446 - val_loss: 2.8245 - val_accuracy: 0.6923\n",
      "Epoch 20/20\n",
      "12/12 [==============================] - 1s 46ms/step - loss: 0.6173 - accuracy: 0.9557 - val_loss: 2.6301 - val_accuracy: 0.6813\n"
     ]
    }
   ],
   "source": [
    "glt = model_output(gal,gal1)"
   ]
  },
  {
   "cell_type": "code",
   "execution_count": 31,
   "metadata": {
    "colab": {
     "base_uri": "https://localhost:8080/"
    },
    "id": "nmBwK9c-oBFI",
    "outputId": "7924f4f5-77e0-441f-f164-602da617dfb9"
   },
   "outputs": [
    {
     "name": "stdout",
     "output_type": "stream",
     "text": [
      "Epoch 1/20\n",
      "12/12 [==============================] - 2s 175ms/step - loss: 1.6681 - accuracy: 0.8251 - val_loss: 2.3332 - val_accuracy: 0.7391\n",
      "Epoch 2/20\n",
      "12/12 [==============================] - 1s 50ms/step - loss: 1.1760 - accuracy: 0.8525 - val_loss: 2.0153 - val_accuracy: 0.8152\n",
      "Epoch 3/20\n",
      "12/12 [==============================] - 1s 47ms/step - loss: 1.1454 - accuracy: 0.9044 - val_loss: 2.0121 - val_accuracy: 0.8152\n",
      "Epoch 4/20\n",
      "12/12 [==============================] - 1s 48ms/step - loss: 1.0928 - accuracy: 0.9071 - val_loss: 2.3758 - val_accuracy: 0.7717\n",
      "Epoch 5/20\n",
      "12/12 [==============================] - 1s 48ms/step - loss: 1.0338 - accuracy: 0.9098 - val_loss: 2.0411 - val_accuracy: 0.7935\n",
      "Epoch 6/20\n",
      "12/12 [==============================] - 1s 47ms/step - loss: 0.9632 - accuracy: 0.9290 - val_loss: 2.0312 - val_accuracy: 0.7935\n",
      "Epoch 7/20\n",
      "12/12 [==============================] - 1s 48ms/step - loss: 0.9852 - accuracy: 0.9372 - val_loss: 2.1768 - val_accuracy: 0.7935\n",
      "Epoch 8/20\n",
      "12/12 [==============================] - 1s 47ms/step - loss: 0.9590 - accuracy: 0.9290 - val_loss: 1.7249 - val_accuracy: 0.7717\n",
      "Epoch 9/20\n",
      "12/12 [==============================] - 1s 47ms/step - loss: 0.9461 - accuracy: 0.9344 - val_loss: 1.7687 - val_accuracy: 0.8043\n",
      "Epoch 10/20\n",
      "12/12 [==============================] - 1s 48ms/step - loss: 0.9343 - accuracy: 0.9399 - val_loss: 1.8241 - val_accuracy: 0.7717\n",
      "Epoch 11/20\n",
      "12/12 [==============================] - 1s 47ms/step - loss: 0.9649 - accuracy: 0.9262 - val_loss: 1.6535 - val_accuracy: 0.7935\n",
      "Epoch 12/20\n",
      "12/12 [==============================] - 1s 48ms/step - loss: 1.0489 - accuracy: 0.9098 - val_loss: 2.4696 - val_accuracy: 0.6848\n",
      "Epoch 13/20\n",
      "12/12 [==============================] - 1s 46ms/step - loss: 0.9424 - accuracy: 0.9071 - val_loss: 2.0530 - val_accuracy: 0.7500\n",
      "Epoch 14/20\n",
      "12/12 [==============================] - 1s 46ms/step - loss: 0.7976 - accuracy: 0.9399 - val_loss: 2.0470 - val_accuracy: 0.7826\n",
      "Epoch 15/20\n",
      "12/12 [==============================] - 1s 48ms/step - loss: 0.7417 - accuracy: 0.9454 - val_loss: 2.0386 - val_accuracy: 0.7826\n",
      "Epoch 16/20\n",
      "12/12 [==============================] - 1s 47ms/step - loss: 0.7263 - accuracy: 0.9536 - val_loss: 1.8958 - val_accuracy: 0.7826\n",
      "Epoch 17/20\n",
      "12/12 [==============================] - 1s 47ms/step - loss: 0.7229 - accuracy: 0.9536 - val_loss: 2.1669 - val_accuracy: 0.7935\n",
      "Epoch 18/20\n",
      "12/12 [==============================] - 1s 48ms/step - loss: 0.7167 - accuracy: 0.9536 - val_loss: 2.0240 - val_accuracy: 0.7826\n",
      "Epoch 19/20\n",
      "12/12 [==============================] - 1s 49ms/step - loss: 0.7222 - accuracy: 0.9481 - val_loss: 1.7036 - val_accuracy: 0.7935\n",
      "Epoch 20/20\n",
      "12/12 [==============================] - 1s 47ms/step - loss: 0.7765 - accuracy: 0.9317 - val_loss: 1.5996 - val_accuracy: 0.7717\n"
     ]
    }
   ],
   "source": [
    "ept = model_output(eph,eph1)"
   ]
  },
  {
   "cell_type": "code",
   "execution_count": 32,
   "metadata": {
    "colab": {
     "base_uri": "https://localhost:8080/"
    },
    "id": "_Lk3i6u0oBFJ",
    "outputId": "bae793b5-9b27-4b6b-e502-1264b0a07010"
   },
   "outputs": [
    {
     "name": "stdout",
     "output_type": "stream",
     "text": [
      "Epoch 1/20\n",
      "11/11 [==============================] - 2s 179ms/step - loss: 1.4510 - accuracy: 0.8338 - val_loss: 1.9842 - val_accuracy: 0.7927\n",
      "Epoch 2/20\n",
      "11/11 [==============================] - 1s 47ms/step - loss: 1.2713 - accuracy: 0.8554 - val_loss: 1.4442 - val_accuracy: 0.8659\n",
      "Epoch 3/20\n",
      "11/11 [==============================] - 1s 47ms/step - loss: 0.8312 - accuracy: 0.9231 - val_loss: 1.6959 - val_accuracy: 0.8415\n",
      "Epoch 4/20\n",
      "11/11 [==============================] - 1s 46ms/step - loss: 0.6962 - accuracy: 0.9446 - val_loss: 1.5988 - val_accuracy: 0.8415\n",
      "Epoch 5/20\n",
      "11/11 [==============================] - 1s 47ms/step - loss: 0.6769 - accuracy: 0.9538 - val_loss: 1.7804 - val_accuracy: 0.8293\n",
      "Epoch 6/20\n",
      "11/11 [==============================] - 1s 47ms/step - loss: 0.6735 - accuracy: 0.9569 - val_loss: 1.8748 - val_accuracy: 0.7683\n",
      "Epoch 7/20\n",
      "11/11 [==============================] - 1s 46ms/step - loss: 0.7635 - accuracy: 0.9262 - val_loss: 1.4285 - val_accuracy: 0.8537\n",
      "Epoch 8/20\n",
      "11/11 [==============================] - 1s 47ms/step - loss: 0.6292 - accuracy: 0.9508 - val_loss: 1.6489 - val_accuracy: 0.8537\n",
      "Epoch 9/20\n",
      "11/11 [==============================] - 0s 45ms/step - loss: 0.6157 - accuracy: 0.9600 - val_loss: 1.4655 - val_accuracy: 0.8659\n",
      "Epoch 10/20\n",
      "11/11 [==============================] - 1s 48ms/step - loss: 0.6141 - accuracy: 0.9600 - val_loss: 1.4921 - val_accuracy: 0.8537\n",
      "Epoch 11/20\n",
      "11/11 [==============================] - 1s 48ms/step - loss: 0.6158 - accuracy: 0.9600 - val_loss: 1.4891 - val_accuracy: 0.8293\n",
      "Epoch 12/20\n",
      "11/11 [==============================] - 1s 47ms/step - loss: 0.6242 - accuracy: 0.9569 - val_loss: 1.6401 - val_accuracy: 0.8293\n",
      "Epoch 13/20\n",
      "11/11 [==============================] - 0s 45ms/step - loss: 0.6314 - accuracy: 0.9569 - val_loss: 1.2817 - val_accuracy: 0.8537\n",
      "Epoch 14/20\n",
      "11/11 [==============================] - 0s 45ms/step - loss: 0.6505 - accuracy: 0.9446 - val_loss: 1.8001 - val_accuracy: 0.8293\n",
      "Epoch 15/20\n",
      "11/11 [==============================] - 1s 48ms/step - loss: 0.5732 - accuracy: 0.9600 - val_loss: 1.4989 - val_accuracy: 0.8293\n",
      "Epoch 16/20\n",
      "11/11 [==============================] - 1s 46ms/step - loss: 0.5257 - accuracy: 0.9631 - val_loss: 1.7139 - val_accuracy: 0.8171\n",
      "Epoch 17/20\n",
      "11/11 [==============================] - 1s 47ms/step - loss: 0.5211 - accuracy: 0.9662 - val_loss: 1.5060 - val_accuracy: 0.8049\n",
      "Epoch 18/20\n",
      "11/11 [==============================] - 1s 46ms/step - loss: 0.5195 - accuracy: 0.9662 - val_loss: 1.5149 - val_accuracy: 0.8293\n",
      "Epoch 19/20\n",
      "11/11 [==============================] - 1s 47ms/step - loss: 0.5194 - accuracy: 0.9662 - val_loss: 1.5149 - val_accuracy: 0.8293\n",
      "Epoch 20/20\n",
      "11/11 [==============================] - 1s 48ms/step - loss: 0.5194 - accuracy: 0.9662 - val_loss: 1.5149 - val_accuracy: 0.8293\n"
     ]
    }
   ],
   "source": [
    "plp = model_output(phi,phi1)"
   ]
  },
  {
   "cell_type": "code",
   "execution_count": 33,
   "metadata": {
    "colab": {
     "base_uri": "https://localhost:8080/"
    },
    "id": "APSpxZhJoBFJ",
    "outputId": "be059a3c-6ca4-4eda-c2b8-5f27bd8e31f3"
   },
   "outputs": [
    {
     "name": "stdout",
     "output_type": "stream",
     "text": [
      "Epoch 1/20\n",
      "10/10 [==============================] - 2s 192ms/step - loss: 1.6517 - accuracy: 0.8648 - val_loss: 1.8054 - val_accuracy: 0.8375\n",
      "Epoch 2/20\n",
      "10/10 [==============================] - 0s 47ms/step - loss: 1.5283 - accuracy: 0.8836 - val_loss: 1.7020 - val_accuracy: 0.8125\n",
      "Epoch 3/20\n",
      "10/10 [==============================] - 0s 47ms/step - loss: 1.1600 - accuracy: 0.9057 - val_loss: 2.0805 - val_accuracy: 0.7875\n",
      "Epoch 4/20\n",
      "10/10 [==============================] - 0s 47ms/step - loss: 1.1287 - accuracy: 0.9214 - val_loss: 2.0280 - val_accuracy: 0.8125\n",
      "Epoch 5/20\n",
      "10/10 [==============================] - 0s 47ms/step - loss: 1.1276 - accuracy: 0.9214 - val_loss: 1.7187 - val_accuracy: 0.8125\n",
      "Epoch 6/20\n",
      "10/10 [==============================] - 0s 46ms/step - loss: 1.1175 - accuracy: 0.9277 - val_loss: 1.7026 - val_accuracy: 0.8000\n",
      "Epoch 7/20\n",
      "10/10 [==============================] - 0s 46ms/step - loss: 1.1145 - accuracy: 0.9277 - val_loss: 1.7455 - val_accuracy: 0.8125\n",
      "Epoch 8/20\n",
      "10/10 [==============================] - 0s 47ms/step - loss: 1.0536 - accuracy: 0.9214 - val_loss: 1.8695 - val_accuracy: 0.8125\n",
      "Epoch 9/20\n",
      "10/10 [==============================] - 0s 46ms/step - loss: 0.9852 - accuracy: 0.9308 - val_loss: 1.4564 - val_accuracy: 0.8500\n",
      "Epoch 10/20\n",
      "10/10 [==============================] - 0s 47ms/step - loss: 1.0467 - accuracy: 0.9182 - val_loss: 1.3125 - val_accuracy: 0.8500\n",
      "Epoch 11/20\n",
      "10/10 [==============================] - 0s 46ms/step - loss: 0.9423 - accuracy: 0.9340 - val_loss: 1.3015 - val_accuracy: 0.8750\n",
      "Epoch 12/20\n",
      "10/10 [==============================] - 0s 47ms/step - loss: 0.9228 - accuracy: 0.9403 - val_loss: 1.3607 - val_accuracy: 0.8750\n",
      "Epoch 13/20\n",
      "10/10 [==============================] - 0s 49ms/step - loss: 0.9220 - accuracy: 0.9403 - val_loss: 1.3051 - val_accuracy: 0.8625\n",
      "Epoch 14/20\n",
      "10/10 [==============================] - 0s 48ms/step - loss: 0.8368 - accuracy: 0.9403 - val_loss: 2.0517 - val_accuracy: 0.8375\n",
      "Epoch 15/20\n",
      "10/10 [==============================] - 0s 47ms/step - loss: 0.8402 - accuracy: 0.9434 - val_loss: 1.6486 - val_accuracy: 0.8750\n",
      "Epoch 16/20\n",
      "10/10 [==============================] - 0s 46ms/step - loss: 0.8335 - accuracy: 0.9434 - val_loss: 1.4825 - val_accuracy: 0.8625\n",
      "Epoch 17/20\n",
      "10/10 [==============================] - 0s 46ms/step - loss: 0.8247 - accuracy: 0.9465 - val_loss: 1.4637 - val_accuracy: 0.8625\n",
      "Epoch 18/20\n",
      "10/10 [==============================] - 0s 48ms/step - loss: 0.8239 - accuracy: 0.9465 - val_loss: 1.4631 - val_accuracy: 0.8625\n",
      "Epoch 19/20\n",
      "10/10 [==============================] - 0s 46ms/step - loss: 0.8240 - accuracy: 0.9465 - val_loss: 1.4766 - val_accuracy: 0.8750\n",
      "Epoch 20/20\n",
      "10/10 [==============================] - 0s 46ms/step - loss: 0.8233 - accuracy: 0.9465 - val_loss: 1.4854 - val_accuracy: 0.8500\n"
     ]
    }
   ],
   "source": [
    "cls = model_output(col,col1)"
   ]
  },
  {
   "cell_type": "code",
   "execution_count": 34,
   "metadata": {
    "colab": {
     "base_uri": "https://localhost:8080/"
    },
    "id": "bpSArNteoBFJ",
    "outputId": "efd1eebb-49ff-4ad2-f4cc-0ab5e1a5e8da"
   },
   "outputs": [
    {
     "name": "stdout",
     "output_type": "stream",
     "text": [
      "Epoch 1/20\n",
      "10/10 [==============================] - 2s 193ms/step - loss: 0.9395 - accuracy: 0.8914 - val_loss: 1.8523 - val_accuracy: 0.8228\n",
      "Epoch 2/20\n",
      "10/10 [==============================] - 0s 46ms/step - loss: 0.6873 - accuracy: 0.9425 - val_loss: 1.6579 - val_accuracy: 0.8481\n",
      "Epoch 3/20\n",
      "10/10 [==============================] - 0s 49ms/step - loss: 0.7064 - accuracy: 0.9457 - val_loss: 1.4387 - val_accuracy: 0.8734\n",
      "Epoch 4/20\n",
      "10/10 [==============================] - 0s 47ms/step - loss: 0.6547 - accuracy: 0.9553 - val_loss: 1.4649 - val_accuracy: 0.8608\n",
      "Epoch 5/20\n",
      "10/10 [==============================] - 0s 48ms/step - loss: 0.5997 - accuracy: 0.9553 - val_loss: 1.6762 - val_accuracy: 0.8734\n",
      "Epoch 6/20\n",
      "10/10 [==============================] - 0s 46ms/step - loss: 0.5944 - accuracy: 0.9617 - val_loss: 1.8153 - val_accuracy: 0.8608\n",
      "Epoch 7/20\n",
      "10/10 [==============================] - 0s 48ms/step - loss: 0.5959 - accuracy: 0.9617 - val_loss: 1.8275 - val_accuracy: 0.8354\n",
      "Epoch 8/20\n",
      "10/10 [==============================] - 0s 46ms/step - loss: 0.7330 - accuracy: 0.9361 - val_loss: 1.8785 - val_accuracy: 0.8101\n",
      "Epoch 9/20\n",
      "10/10 [==============================] - 0s 48ms/step - loss: 0.5435 - accuracy: 0.9649 - val_loss: 1.8704 - val_accuracy: 0.8101\n",
      "Epoch 10/20\n",
      "10/10 [==============================] - 0s 46ms/step - loss: 0.5405 - accuracy: 0.9649 - val_loss: 1.8893 - val_accuracy: 0.7975\n",
      "Epoch 11/20\n",
      "10/10 [==============================] - 0s 49ms/step - loss: 0.5405 - accuracy: 0.9649 - val_loss: 1.8904 - val_accuracy: 0.7975\n",
      "Epoch 12/20\n",
      "10/10 [==============================] - 0s 46ms/step - loss: 0.5593 - accuracy: 0.9553 - val_loss: 1.7422 - val_accuracy: 0.8228\n",
      "Epoch 13/20\n",
      "10/10 [==============================] - 0s 48ms/step - loss: 0.4972 - accuracy: 0.9681 - val_loss: 2.0155 - val_accuracy: 0.8481\n",
      "Epoch 14/20\n",
      "10/10 [==============================] - 0s 47ms/step - loss: 0.4914 - accuracy: 0.9681 - val_loss: 1.8599 - val_accuracy: 0.8354\n",
      "Epoch 15/20\n",
      "10/10 [==============================] - 0s 48ms/step - loss: 0.4927 - accuracy: 0.9681 - val_loss: 1.8710 - val_accuracy: 0.8481\n",
      "Epoch 16/20\n",
      "10/10 [==============================] - 0s 47ms/step - loss: 0.4922 - accuracy: 0.9681 - val_loss: 1.9906 - val_accuracy: 0.8481\n",
      "Epoch 17/20\n",
      "10/10 [==============================] - 0s 47ms/step - loss: 0.4983 - accuracy: 0.9649 - val_loss: 1.8573 - val_accuracy: 0.8354\n",
      "Epoch 18/20\n",
      "10/10 [==============================] - 0s 48ms/step - loss: 0.5009 - accuracy: 0.9681 - val_loss: 2.0510 - val_accuracy: 0.8101\n",
      "Epoch 19/20\n",
      "10/10 [==============================] - 0s 48ms/step - loss: 0.4933 - accuracy: 0.9681 - val_loss: 2.0394 - val_accuracy: 0.8228\n",
      "Epoch 20/20\n",
      "10/10 [==============================] - 0s 48ms/step - loss: 0.4918 - accuracy: 0.9681 - val_loss: 2.2135 - val_accuracy: 0.8228\n"
     ]
    }
   ],
   "source": [
    "ftl = model_output(fthe,fthe1)"
   ]
  },
  {
   "cell_type": "code",
   "execution_count": 35,
   "metadata": {
    "colab": {
     "base_uri": "https://localhost:8080/"
    },
    "id": "qAzKc0u7oBFJ",
    "outputId": "2ae8237b-6a63-445d-9196-c505548a3cda"
   },
   "outputs": [
    {
     "name": "stdout",
     "output_type": "stream",
     "text": [
      "Epoch 1/20\n",
      "9/9 [==============================] - 2s 211ms/step - loss: 1.2964 - accuracy: 0.8821 - val_loss: 1.6109 - val_accuracy: 0.8714\n",
      "Epoch 2/20\n",
      "9/9 [==============================] - 0s 48ms/step - loss: 1.0533 - accuracy: 0.9321 - val_loss: 1.9937 - val_accuracy: 0.8714\n",
      "Epoch 3/20\n",
      "9/9 [==============================] - 0s 46ms/step - loss: 1.0460 - accuracy: 0.9321 - val_loss: 1.9934 - val_accuracy: 0.8714\n",
      "Epoch 4/20\n",
      "9/9 [==============================] - 0s 45ms/step - loss: 1.0449 - accuracy: 0.9321 - val_loss: 1.9930 - val_accuracy: 0.8714\n",
      "Epoch 5/20\n",
      "9/9 [==============================] - 0s 46ms/step - loss: 1.0444 - accuracy: 0.9321 - val_loss: 1.9952 - val_accuracy: 0.8714\n",
      "Epoch 6/20\n",
      "9/9 [==============================] - 0s 46ms/step - loss: 1.0445 - accuracy: 0.9321 - val_loss: 1.6490 - val_accuracy: 0.8714\n",
      "Epoch 7/20\n",
      "9/9 [==============================] - 0s 48ms/step - loss: 1.0442 - accuracy: 0.9321 - val_loss: 1.6490 - val_accuracy: 0.8714\n",
      "Epoch 8/20\n",
      "9/9 [==============================] - 0s 48ms/step - loss: 1.0442 - accuracy: 0.9321 - val_loss: 1.6490 - val_accuracy: 0.8714\n",
      "Epoch 9/20\n",
      "9/9 [==============================] - 0s 47ms/step - loss: 1.0442 - accuracy: 0.9321 - val_loss: 1.6490 - val_accuracy: 0.8714\n",
      "Epoch 10/20\n",
      "9/9 [==============================] - 0s 46ms/step - loss: 1.0442 - accuracy: 0.9321 - val_loss: 1.6490 - val_accuracy: 0.8714\n",
      "Epoch 11/20\n",
      "9/9 [==============================] - 0s 47ms/step - loss: 1.0442 - accuracy: 0.9321 - val_loss: 1.6490 - val_accuracy: 0.8714\n",
      "Epoch 12/20\n",
      "9/9 [==============================] - 0s 46ms/step - loss: 1.0442 - accuracy: 0.9321 - val_loss: 1.6490 - val_accuracy: 0.8714\n",
      "Epoch 13/20\n",
      "9/9 [==============================] - 0s 51ms/step - loss: 1.0442 - accuracy: 0.9321 - val_loss: 1.6490 - val_accuracy: 0.8714\n",
      "Epoch 14/20\n",
      "9/9 [==============================] - 0s 46ms/step - loss: 1.0442 - accuracy: 0.9321 - val_loss: 1.6490 - val_accuracy: 0.8714\n",
      "Epoch 15/20\n",
      "9/9 [==============================] - 0s 47ms/step - loss: 1.0442 - accuracy: 0.9321 - val_loss: 1.6490 - val_accuracy: 0.8714\n",
      "Epoch 16/20\n",
      "9/9 [==============================] - 0s 50ms/step - loss: 1.0442 - accuracy: 0.9321 - val_loss: 1.6490 - val_accuracy: 0.8714\n",
      "Epoch 17/20\n",
      "9/9 [==============================] - 0s 48ms/step - loss: 1.0442 - accuracy: 0.9321 - val_loss: 1.6490 - val_accuracy: 0.8714\n",
      "Epoch 18/20\n",
      "9/9 [==============================] - 0s 47ms/step - loss: 1.0442 - accuracy: 0.9321 - val_loss: 1.6490 - val_accuracy: 0.8714\n",
      "Epoch 19/20\n",
      "9/9 [==============================] - 0s 47ms/step - loss: 1.0442 - accuracy: 0.9321 - val_loss: 1.6490 - val_accuracy: 0.8714\n",
      "Epoch 20/20\n",
      "9/9 [==============================] - 0s 47ms/step - loss: 1.0442 - accuracy: 0.9321 - val_loss: 1.6490 - val_accuracy: 0.8714\n"
     ]
    }
   ],
   "source": [
    "stl = model_output(sthe,sthe1)"
   ]
  },
  {
   "cell_type": "code",
   "execution_count": 36,
   "metadata": {
    "colab": {
     "base_uri": "https://localhost:8080/"
    },
    "id": "PSKsmAA-oBFK",
    "outputId": "984bbdab-9f85-4102-b5c2-98ec3cc33cfe"
   },
   "outputs": [
    {
     "name": "stdout",
     "output_type": "stream",
     "text": [
      "Epoch 1/20\n",
      "11/11 [==============================] - 3s 259ms/step - loss: 2.2138 - accuracy: 0.7922 - val_loss: 1.8216 - val_accuracy: 0.7857\n",
      "Epoch 2/20\n",
      "11/11 [==============================] - 1s 48ms/step - loss: 1.8518 - accuracy: 0.8283 - val_loss: 1.9567 - val_accuracy: 0.7857\n",
      "Epoch 3/20\n",
      "11/11 [==============================] - 1s 46ms/step - loss: 1.7473 - accuracy: 0.8554 - val_loss: 1.9594 - val_accuracy: 0.7857\n",
      "Epoch 4/20\n",
      "11/11 [==============================] - 1s 48ms/step - loss: 1.7153 - accuracy: 0.8645 - val_loss: 1.8364 - val_accuracy: 0.7857\n",
      "Epoch 5/20\n",
      "11/11 [==============================] - 1s 49ms/step - loss: 1.6735 - accuracy: 0.8795 - val_loss: 1.9199 - val_accuracy: 0.8095\n",
      "Epoch 6/20\n",
      "11/11 [==============================] - 1s 47ms/step - loss: 1.5249 - accuracy: 0.8886 - val_loss: 1.2682 - val_accuracy: 0.8095\n",
      "Epoch 7/20\n",
      "11/11 [==============================] - 1s 48ms/step - loss: 1.5422 - accuracy: 0.8825 - val_loss: 1.8638 - val_accuracy: 0.8214\n",
      "Epoch 8/20\n",
      "11/11 [==============================] - 1s 48ms/step - loss: 1.2746 - accuracy: 0.8946 - val_loss: 2.1103 - val_accuracy: 0.8333\n",
      "Epoch 9/20\n",
      "11/11 [==============================] - 1s 50ms/step - loss: 1.3615 - accuracy: 0.8946 - val_loss: 1.9831 - val_accuracy: 0.8214\n",
      "Epoch 10/20\n",
      "11/11 [==============================] - 1s 46ms/step - loss: 1.1987 - accuracy: 0.9096 - val_loss: 1.9348 - val_accuracy: 0.8214\n",
      "Epoch 11/20\n",
      "11/11 [==============================] - 1s 49ms/step - loss: 1.1349 - accuracy: 0.9247 - val_loss: 1.9212 - val_accuracy: 0.8214\n",
      "Epoch 12/20\n",
      "11/11 [==============================] - 1s 46ms/step - loss: 1.0835 - accuracy: 0.9247 - val_loss: 1.9406 - val_accuracy: 0.8214\n",
      "Epoch 13/20\n",
      "11/11 [==============================] - 1s 48ms/step - loss: 1.0765 - accuracy: 0.9277 - val_loss: 1.9217 - val_accuracy: 0.8095\n",
      "Epoch 14/20\n",
      "11/11 [==============================] - 1s 46ms/step - loss: 1.0718 - accuracy: 0.9307 - val_loss: 1.9659 - val_accuracy: 0.8333\n",
      "Epoch 15/20\n",
      "11/11 [==============================] - 1s 48ms/step - loss: 1.0713 - accuracy: 0.9307 - val_loss: 1.7829 - val_accuracy: 0.7976\n",
      "Epoch 16/20\n",
      "11/11 [==============================] - 1s 48ms/step - loss: 1.0740 - accuracy: 0.9307 - val_loss: 1.8058 - val_accuracy: 0.8214\n",
      "Epoch 17/20\n",
      "11/11 [==============================] - 1s 48ms/step - loss: 1.0844 - accuracy: 0.9187 - val_loss: 1.8015 - val_accuracy: 0.8214\n",
      "Epoch 18/20\n",
      "11/11 [==============================] - 1s 52ms/step - loss: 1.0798 - accuracy: 0.9217 - val_loss: 1.9786 - val_accuracy: 0.8214\n",
      "Epoch 19/20\n",
      "11/11 [==============================] - 1s 48ms/step - loss: 1.1173 - accuracy: 0.9277 - val_loss: 2.1348 - val_accuracy: 0.7857\n",
      "Epoch 20/20\n",
      "11/11 [==============================] - 1s 51ms/step - loss: 1.2352 - accuracy: 0.9036 - val_loss: 1.9640 - val_accuracy: 0.8095\n"
     ]
    }
   ],
   "source": [
    "ftm = model_output(ftim,ftim1)"
   ]
  },
  {
   "cell_type": "code",
   "execution_count": 37,
   "metadata": {
    "colab": {
     "base_uri": "https://localhost:8080/"
    },
    "id": "66D8YvCUoBFK",
    "outputId": "c5121b6f-334d-4da2-ca81-9b16563c3920"
   },
   "outputs": [
    {
     "name": "stdout",
     "output_type": "stream",
     "text": [
      "Epoch 1/20\n",
      "10/10 [==============================] - 2s 190ms/step - loss: 2.1591 - accuracy: 0.7857 - val_loss: 1.4888 - val_accuracy: 0.8333\n",
      "Epoch 2/20\n",
      "10/10 [==============================] - 0s 47ms/step - loss: 1.6210 - accuracy: 0.8669 - val_loss: 1.4135 - val_accuracy: 0.8205\n",
      "Epoch 3/20\n",
      "10/10 [==============================] - 0s 49ms/step - loss: 1.3927 - accuracy: 0.8961 - val_loss: 1.3506 - val_accuracy: 0.8205\n",
      "Epoch 4/20\n",
      "10/10 [==============================] - 0s 46ms/step - loss: 1.3472 - accuracy: 0.8961 - val_loss: 1.4970 - val_accuracy: 0.8462\n",
      "Epoch 5/20\n",
      "10/10 [==============================] - 0s 47ms/step - loss: 1.1892 - accuracy: 0.9156 - val_loss: 1.2579 - val_accuracy: 0.8974\n",
      "Epoch 6/20\n",
      "10/10 [==============================] - 0s 46ms/step - loss: 1.1212 - accuracy: 0.9253 - val_loss: 1.1015 - val_accuracy: 0.8846\n",
      "Epoch 7/20\n",
      "10/10 [==============================] - 0s 47ms/step - loss: 1.1045 - accuracy: 0.9286 - val_loss: 1.2855 - val_accuracy: 0.8718\n",
      "Epoch 8/20\n",
      "10/10 [==============================] - 0s 49ms/step - loss: 1.0659 - accuracy: 0.9253 - val_loss: 1.6708 - val_accuracy: 0.8590\n",
      "Epoch 9/20\n",
      "10/10 [==============================] - 0s 47ms/step - loss: 0.9888 - accuracy: 0.9253 - val_loss: 1.7080 - val_accuracy: 0.8333\n",
      "Epoch 10/20\n",
      "10/10 [==============================] - 0s 49ms/step - loss: 0.9557 - accuracy: 0.9383 - val_loss: 1.5524 - val_accuracy: 0.8205\n",
      "Epoch 11/20\n",
      "10/10 [==============================] - 0s 47ms/step - loss: 0.9532 - accuracy: 0.9383 - val_loss: 1.7032 - val_accuracy: 0.8077\n",
      "Epoch 12/20\n",
      "10/10 [==============================] - 0s 48ms/step - loss: 0.9553 - accuracy: 0.9383 - val_loss: 1.6917 - val_accuracy: 0.8333\n",
      "Epoch 13/20\n",
      "10/10 [==============================] - 0s 48ms/step - loss: 0.9513 - accuracy: 0.9383 - val_loss: 1.6701 - val_accuracy: 0.8590\n",
      "Epoch 14/20\n",
      "10/10 [==============================] - 0s 46ms/step - loss: 0.9524 - accuracy: 0.9383 - val_loss: 1.5182 - val_accuracy: 0.8077\n",
      "Epoch 15/20\n",
      "10/10 [==============================] - 0s 49ms/step - loss: 0.9550 - accuracy: 0.9383 - val_loss: 1.6433 - val_accuracy: 0.8462\n",
      "Epoch 16/20\n",
      "10/10 [==============================] - 0s 47ms/step - loss: 0.9547 - accuracy: 0.9351 - val_loss: 1.3329 - val_accuracy: 0.8590\n",
      "Epoch 17/20\n",
      "10/10 [==============================] - 0s 46ms/step - loss: 0.9521 - accuracy: 0.9383 - val_loss: 1.4965 - val_accuracy: 0.8462\n",
      "Epoch 18/20\n",
      "10/10 [==============================] - 0s 48ms/step - loss: 0.9510 - accuracy: 0.9383 - val_loss: 1.4965 - val_accuracy: 0.8462\n",
      "Epoch 19/20\n",
      "10/10 [==============================] - 0s 47ms/step - loss: 0.9510 - accuracy: 0.9383 - val_loss: 1.4965 - val_accuracy: 0.8462\n",
      "Epoch 20/20\n",
      "10/10 [==============================] - 0s 48ms/step - loss: 0.9510 - accuracy: 0.9383 - val_loss: 1.4965 - val_accuracy: 0.8462\n"
     ]
    }
   ],
   "source": [
    "stm = model_output(stim,stim1)"
   ]
  },
  {
   "cell_type": "code",
   "execution_count": 38,
   "metadata": {
    "colab": {
     "base_uri": "https://localhost:8080/"
    },
    "id": "2slmgjUroBFK",
    "outputId": "c115ef40-622b-416f-e00b-6500ef0cc40b"
   },
   "outputs": [
    {
     "name": "stdout",
     "output_type": "stream",
     "text": [
      "Epoch 1/20\n",
      "9/9 [==============================] - 2s 215ms/step - loss: 1.2644 - accuracy: 0.8746 - val_loss: 0.7947 - val_accuracy: 0.8857\n",
      "Epoch 2/20\n",
      "9/9 [==============================] - 0s 48ms/step - loss: 1.0796 - accuracy: 0.9176 - val_loss: 1.1504 - val_accuracy: 0.9143\n",
      "Epoch 3/20\n",
      "9/9 [==============================] - 0s 47ms/step - loss: 1.0539 - accuracy: 0.9319 - val_loss: 0.8100 - val_accuracy: 0.9143\n",
      "Epoch 4/20\n",
      "9/9 [==============================] - 0s 49ms/step - loss: 1.1147 - accuracy: 0.9247 - val_loss: 1.1728 - val_accuracy: 0.9000\n",
      "Epoch 5/20\n",
      "9/9 [==============================] - 0s 46ms/step - loss: 1.0014 - accuracy: 0.9319 - val_loss: 1.1556 - val_accuracy: 0.9000\n",
      "Epoch 6/20\n",
      "9/9 [==============================] - 0s 46ms/step - loss: 0.9950 - accuracy: 0.9355 - val_loss: 1.0081 - val_accuracy: 0.9000\n",
      "Epoch 7/20\n",
      "9/9 [==============================] - 0s 47ms/step - loss: 1.0502 - accuracy: 0.9319 - val_loss: 1.1714 - val_accuracy: 0.9000\n",
      "Epoch 8/20\n",
      "9/9 [==============================] - 0s 49ms/step - loss: 1.0486 - accuracy: 0.9319 - val_loss: 1.1714 - val_accuracy: 0.9000\n",
      "Epoch 9/20\n",
      "9/9 [==============================] - 0s 49ms/step - loss: 1.0486 - accuracy: 0.9319 - val_loss: 1.1714 - val_accuracy: 0.9000\n",
      "Epoch 10/20\n",
      "9/9 [==============================] - 0s 48ms/step - loss: 1.0486 - accuracy: 0.9319 - val_loss: 1.1714 - val_accuracy: 0.9000\n",
      "Epoch 11/20\n",
      "9/9 [==============================] - 0s 47ms/step - loss: 1.0486 - accuracy: 0.9319 - val_loss: 1.1714 - val_accuracy: 0.9000\n",
      "Epoch 12/20\n",
      "9/9 [==============================] - 0s 49ms/step - loss: 1.0486 - accuracy: 0.9319 - val_loss: 1.1714 - val_accuracy: 0.9000\n",
      "Epoch 13/20\n",
      "9/9 [==============================] - 0s 48ms/step - loss: 1.0486 - accuracy: 0.9319 - val_loss: 1.1714 - val_accuracy: 0.9000\n",
      "Epoch 14/20\n",
      "9/9 [==============================] - 0s 48ms/step - loss: 1.0486 - accuracy: 0.9319 - val_loss: 1.1714 - val_accuracy: 0.9000\n",
      "Epoch 15/20\n",
      "9/9 [==============================] - 0s 49ms/step - loss: 1.0486 - accuracy: 0.9319 - val_loss: 1.1714 - val_accuracy: 0.9000\n",
      "Epoch 16/20\n",
      "9/9 [==============================] - 0s 46ms/step - loss: 1.0486 - accuracy: 0.9319 - val_loss: 1.1714 - val_accuracy: 0.9000\n",
      "Epoch 17/20\n",
      "9/9 [==============================] - 0s 48ms/step - loss: 1.0486 - accuracy: 0.9319 - val_loss: 1.1714 - val_accuracy: 0.9000\n",
      "Epoch 18/20\n",
      "9/9 [==============================] - 0s 50ms/step - loss: 1.0486 - accuracy: 0.9319 - val_loss: 1.1714 - val_accuracy: 0.9000\n",
      "Epoch 19/20\n",
      "9/9 [==============================] - 0s 49ms/step - loss: 1.0486 - accuracy: 0.9319 - val_loss: 1.1714 - val_accuracy: 0.9000\n",
      "Epoch 20/20\n",
      "9/9 [==============================] - 0s 47ms/step - loss: 1.0486 - accuracy: 0.9319 - val_loss: 1.1714 - val_accuracy: 0.9000\n"
     ]
    }
   ],
   "source": [
    "tus = model_output(titus,titus1)"
   ]
  },
  {
   "cell_type": "code",
   "execution_count": 39,
   "metadata": {
    "colab": {
     "base_uri": "https://localhost:8080/"
    },
    "id": "bJmVsgjboBFK",
    "outputId": "6835cbba-6d80-4c0a-a58b-9eb4a3441d14"
   },
   "outputs": [
    {
     "name": "stdout",
     "output_type": "stream",
     "text": [
      "Epoch 1/20\n",
      "9/9 [==============================] - 2s 213ms/step - loss: 0.9042 - accuracy: 0.9008 - val_loss: 0.3085 - val_accuracy: 0.9242\n",
      "Epoch 2/20\n",
      "9/9 [==============================] - 0s 45ms/step - loss: 0.9453 - accuracy: 0.9351 - val_loss: 0.7303 - val_accuracy: 0.9242\n",
      "Epoch 3/20\n",
      "9/9 [==============================] - 0s 46ms/step - loss: 0.8982 - accuracy: 0.9351 - val_loss: 0.7634 - val_accuracy: 0.9394\n",
      "Epoch 4/20\n",
      "9/9 [==============================] - 0s 45ms/step - loss: 0.8838 - accuracy: 0.9427 - val_loss: 0.7163 - val_accuracy: 0.9394\n",
      "Epoch 5/20\n",
      "9/9 [==============================] - 0s 47ms/step - loss: 0.8840 - accuracy: 0.9427 - val_loss: 0.7194 - val_accuracy: 0.9394\n",
      "Epoch 6/20\n",
      "9/9 [==============================] - 0s 45ms/step - loss: 0.8824 - accuracy: 0.9427 - val_loss: 0.7194 - val_accuracy: 0.9394\n",
      "Epoch 7/20\n",
      "9/9 [==============================] - 0s 44ms/step - loss: 0.8824 - accuracy: 0.9427 - val_loss: 0.7194 - val_accuracy: 0.9394\n",
      "Epoch 8/20\n",
      "9/9 [==============================] - 0s 47ms/step - loss: 0.8824 - accuracy: 0.9427 - val_loss: 0.7194 - val_accuracy: 0.9394\n",
      "Epoch 9/20\n",
      "9/9 [==============================] - 0s 46ms/step - loss: 0.8824 - accuracy: 0.9427 - val_loss: 0.7194 - val_accuracy: 0.9394\n",
      "Epoch 10/20\n",
      "9/9 [==============================] - 0s 49ms/step - loss: 0.8824 - accuracy: 0.9427 - val_loss: 0.7194 - val_accuracy: 0.9394\n",
      "Epoch 11/20\n",
      "9/9 [==============================] - 0s 44ms/step - loss: 0.8824 - accuracy: 0.9427 - val_loss: 0.7194 - val_accuracy: 0.9394\n",
      "Epoch 12/20\n",
      "9/9 [==============================] - 0s 48ms/step - loss: 0.8824 - accuracy: 0.9427 - val_loss: 0.7194 - val_accuracy: 0.9394\n",
      "Epoch 13/20\n",
      "9/9 [==============================] - 0s 46ms/step - loss: 0.8824 - accuracy: 0.9427 - val_loss: 0.7194 - val_accuracy: 0.9394\n",
      "Epoch 14/20\n",
      "9/9 [==============================] - 0s 47ms/step - loss: 0.8824 - accuracy: 0.9427 - val_loss: 0.7194 - val_accuracy: 0.9394\n",
      "Epoch 15/20\n",
      "9/9 [==============================] - 0s 44ms/step - loss: 0.8824 - accuracy: 0.9427 - val_loss: 0.7194 - val_accuracy: 0.9394\n",
      "Epoch 16/20\n",
      "9/9 [==============================] - 0s 48ms/step - loss: 0.8824 - accuracy: 0.9427 - val_loss: 0.7194 - val_accuracy: 0.9394\n",
      "Epoch 17/20\n",
      "9/9 [==============================] - 0s 46ms/step - loss: 0.8824 - accuracy: 0.9427 - val_loss: 0.7194 - val_accuracy: 0.9394\n",
      "Epoch 18/20\n",
      "9/9 [==============================] - 0s 47ms/step - loss: 0.8824 - accuracy: 0.9427 - val_loss: 0.7194 - val_accuracy: 0.9394\n",
      "Epoch 19/20\n",
      "9/9 [==============================] - 0s 46ms/step - loss: 0.8824 - accuracy: 0.9427 - val_loss: 0.7194 - val_accuracy: 0.9394\n",
      "Epoch 20/20\n",
      "9/9 [==============================] - 0s 45ms/step - loss: 0.8824 - accuracy: 0.9427 - val_loss: 0.7194 - val_accuracy: 0.9394\n"
     ]
    }
   ],
   "source": [
    "plm = model_output(philemon,philemon1)"
   ]
  },
  {
   "cell_type": "code",
   "execution_count": 40,
   "metadata": {
    "colab": {
     "base_uri": "https://localhost:8080/"
    },
    "id": "GbjCCzdCoBFK",
    "outputId": "3ef077bf-51f9-47b8-bde7-59158533175a"
   },
   "outputs": [
    {
     "name": "stdout",
     "output_type": "stream",
     "text": [
      "Epoch 1/20\n",
      "11/11 [==============================] - 2s 178ms/step - loss: 2.3734 - accuracy: 0.8140 - val_loss: 2.1736 - val_accuracy: 0.7952\n",
      "Epoch 2/20\n",
      "11/11 [==============================] - 1s 47ms/step - loss: 1.8936 - accuracy: 0.8262 - val_loss: 2.1315 - val_accuracy: 0.8072\n",
      "Epoch 3/20\n",
      "11/11 [==============================] - 1s 46ms/step - loss: 1.7361 - accuracy: 0.8689 - val_loss: 2.1048 - val_accuracy: 0.8434\n",
      "Epoch 4/20\n",
      "11/11 [==============================] - 1s 47ms/step - loss: 1.5976 - accuracy: 0.8841 - val_loss: 2.1446 - val_accuracy: 0.7952\n",
      "Epoch 5/20\n",
      "11/11 [==============================] - 1s 46ms/step - loss: 1.5777 - accuracy: 0.8872 - val_loss: 2.1154 - val_accuracy: 0.8193\n",
      "Epoch 6/20\n",
      "11/11 [==============================] - 1s 46ms/step - loss: 1.5100 - accuracy: 0.9024 - val_loss: 2.1093 - val_accuracy: 0.8193\n",
      "Epoch 7/20\n",
      "11/11 [==============================] - 1s 46ms/step - loss: 1.5039 - accuracy: 0.9024 - val_loss: 2.1146 - val_accuracy: 0.8193\n",
      "Epoch 8/20\n",
      "11/11 [==============================] - 1s 46ms/step - loss: 1.5033 - accuracy: 0.9024 - val_loss: 2.1146 - val_accuracy: 0.8193\n",
      "Epoch 9/20\n",
      "11/11 [==============================] - 1s 46ms/step - loss: 1.5033 - accuracy: 0.9024 - val_loss: 2.1146 - val_accuracy: 0.8193\n",
      "Epoch 10/20\n",
      "11/11 [==============================] - 1s 46ms/step - loss: 1.5033 - accuracy: 0.9024 - val_loss: 2.1146 - val_accuracy: 0.8193\n",
      "Epoch 11/20\n",
      "11/11 [==============================] - 1s 50ms/step - loss: 1.5033 - accuracy: 0.9024 - val_loss: 2.1146 - val_accuracy: 0.8193\n",
      "Epoch 12/20\n",
      "11/11 [==============================] - 1s 48ms/step - loss: 1.5033 - accuracy: 0.9024 - val_loss: 2.1146 - val_accuracy: 0.8193\n",
      "Epoch 13/20\n",
      "11/11 [==============================] - 1s 47ms/step - loss: 1.5033 - accuracy: 0.9024 - val_loss: 2.1146 - val_accuracy: 0.8193\n",
      "Epoch 14/20\n",
      "11/11 [==============================] - 1s 46ms/step - loss: 1.5033 - accuracy: 0.9024 - val_loss: 2.1146 - val_accuracy: 0.8193\n",
      "Epoch 15/20\n",
      "11/11 [==============================] - 1s 47ms/step - loss: 1.5033 - accuracy: 0.9024 - val_loss: 2.1146 - val_accuracy: 0.8193\n",
      "Epoch 16/20\n",
      "11/11 [==============================] - 1s 48ms/step - loss: 1.5033 - accuracy: 0.9024 - val_loss: 2.1146 - val_accuracy: 0.8193\n",
      "Epoch 17/20\n",
      "11/11 [==============================] - 1s 46ms/step - loss: 1.5033 - accuracy: 0.9024 - val_loss: 2.1146 - val_accuracy: 0.8193\n",
      "Epoch 18/20\n",
      "11/11 [==============================] - 1s 77ms/step - loss: 1.5033 - accuracy: 0.9024 - val_loss: 2.1146 - val_accuracy: 0.8193\n",
      "Epoch 19/20\n",
      "11/11 [==============================] - 1s 87ms/step - loss: 1.5033 - accuracy: 0.9024 - val_loss: 2.1146 - val_accuracy: 0.8193\n",
      "Epoch 20/20\n",
      "11/11 [==============================] - 1s 87ms/step - loss: 1.5033 - accuracy: 0.9024 - val_loss: 2.1146 - val_accuracy: 0.8193\n"
     ]
    }
   ],
   "source": [
    "jam = model_output(jams,jams1)"
   ]
  },
  {
   "cell_type": "code",
   "execution_count": 41,
   "metadata": {
    "colab": {
     "base_uri": "https://localhost:8080/"
    },
    "id": "7gxq45g6oBFK",
    "outputId": "3e53d66f-3dbb-4ffc-b548-1391e88644cf"
   },
   "outputs": [
    {
     "name": "stdout",
     "output_type": "stream",
     "text": [
      "Epoch 1/20\n",
      "11/11 [==============================] - 2s 181ms/step - loss: 2.2000 - accuracy: 0.8037 - val_loss: 2.1838 - val_accuracy: 0.8171\n",
      "Epoch 2/20\n",
      "11/11 [==============================] - 1s 47ms/step - loss: 1.9452 - accuracy: 0.8589 - val_loss: 2.3137 - val_accuracy: 0.8293\n",
      "Epoch 3/20\n",
      "11/11 [==============================] - 1s 47ms/step - loss: 1.7103 - accuracy: 0.8773 - val_loss: 1.8640 - val_accuracy: 0.8415\n",
      "Epoch 4/20\n",
      "11/11 [==============================] - 1s 46ms/step - loss: 1.3707 - accuracy: 0.8773 - val_loss: 1.6523 - val_accuracy: 0.8415\n",
      "Epoch 5/20\n",
      "11/11 [==============================] - 1s 46ms/step - loss: 1.2609 - accuracy: 0.9141 - val_loss: 1.8196 - val_accuracy: 0.8293\n",
      "Epoch 6/20\n",
      "11/11 [==============================] - 1s 47ms/step - loss: 1.1223 - accuracy: 0.9172 - val_loss: 1.8428 - val_accuracy: 0.8171\n",
      "Epoch 7/20\n",
      "11/11 [==============================] - 1s 47ms/step - loss: 1.1006 - accuracy: 0.9264 - val_loss: 1.8185 - val_accuracy: 0.8293\n",
      "Epoch 8/20\n",
      "11/11 [==============================] - 1s 47ms/step - loss: 1.0897 - accuracy: 0.9294 - val_loss: 1.8095 - val_accuracy: 0.8293\n",
      "Epoch 9/20\n",
      "11/11 [==============================] - 1s 46ms/step - loss: 1.0880 - accuracy: 0.9294 - val_loss: 1.9716 - val_accuracy: 0.8293\n",
      "Epoch 10/20\n",
      "11/11 [==============================] - 1s 46ms/step - loss: 1.0878 - accuracy: 0.9294 - val_loss: 1.8143 - val_accuracy: 0.8537\n",
      "Epoch 11/20\n",
      "11/11 [==============================] - 1s 46ms/step - loss: 1.1010 - accuracy: 0.9264 - val_loss: 1.9868 - val_accuracy: 0.8537\n",
      "Epoch 12/20\n",
      "11/11 [==============================] - 1s 46ms/step - loss: 1.0939 - accuracy: 0.9294 - val_loss: 1.9904 - val_accuracy: 0.8415\n",
      "Epoch 13/20\n",
      "11/11 [==============================] - 1s 47ms/step - loss: 1.0935 - accuracy: 0.9141 - val_loss: 2.2236 - val_accuracy: 0.8049\n",
      "Epoch 14/20\n",
      "11/11 [==============================] - 1s 48ms/step - loss: 1.1105 - accuracy: 0.9172 - val_loss: 2.1654 - val_accuracy: 0.8049\n",
      "Epoch 15/20\n",
      "11/11 [==============================] - 1s 47ms/step - loss: 1.0921 - accuracy: 0.9294 - val_loss: 2.1705 - val_accuracy: 0.8049\n",
      "Epoch 16/20\n",
      "11/11 [==============================] - 1s 47ms/step - loss: 1.0870 - accuracy: 0.9294 - val_loss: 2.1691 - val_accuracy: 0.7927\n",
      "Epoch 17/20\n",
      "11/11 [==============================] - 1s 46ms/step - loss: 1.1136 - accuracy: 0.9233 - val_loss: 2.1425 - val_accuracy: 0.8293\n",
      "Epoch 18/20\n",
      "11/11 [==============================] - 1s 48ms/step - loss: 1.0502 - accuracy: 0.9294 - val_loss: 2.1592 - val_accuracy: 0.8171\n",
      "Epoch 19/20\n",
      "11/11 [==============================] - 1s 48ms/step - loss: 1.0014 - accuracy: 0.9325 - val_loss: 2.1647 - val_accuracy: 0.8049\n",
      "Epoch 20/20\n",
      "11/11 [==============================] - 1s 47ms/step - loss: 0.9933 - accuracy: 0.9356 - val_loss: 2.1686 - val_accuracy: 0.8049\n"
     ]
    }
   ],
   "source": [
    "fpt = model_output(fpet,fpet1)"
   ]
  },
  {
   "cell_type": "code",
   "execution_count": 42,
   "metadata": {
    "colab": {
     "base_uri": "https://localhost:8080/"
    },
    "id": "OV68X6kkoBFL",
    "outputId": "86ccab66-0b92-436c-dc5a-7799eafad26d"
   },
   "outputs": [
    {
     "name": "stdout",
     "output_type": "stream",
     "text": [
      "Epoch 1/20\n",
      "10/10 [==============================] - 2s 195ms/step - loss: 1.3653 - accuracy: 0.8935 - val_loss: 1.1532 - val_accuracy: 0.8904\n",
      "Epoch 2/20\n",
      "10/10 [==============================] - 0s 47ms/step - loss: 0.9618 - accuracy: 0.9175 - val_loss: 1.4855 - val_accuracy: 0.9041\n",
      "Epoch 3/20\n",
      "10/10 [==============================] - 0s 49ms/step - loss: 0.8551 - accuracy: 0.9416 - val_loss: 1.3107 - val_accuracy: 0.9041\n",
      "Epoch 4/20\n",
      "10/10 [==============================] - 0s 48ms/step - loss: 0.8474 - accuracy: 0.9450 - val_loss: 1.3071 - val_accuracy: 0.9041\n",
      "Epoch 5/20\n",
      "10/10 [==============================] - 0s 48ms/step - loss: 0.8469 - accuracy: 0.9450 - val_loss: 1.3071 - val_accuracy: 0.9041\n",
      "Epoch 6/20\n",
      "10/10 [==============================] - 0s 48ms/step - loss: 0.8469 - accuracy: 0.9450 - val_loss: 1.3071 - val_accuracy: 0.9041\n",
      "Epoch 7/20\n",
      "10/10 [==============================] - 0s 48ms/step - loss: 0.8469 - accuracy: 0.9450 - val_loss: 1.3071 - val_accuracy: 0.9041\n",
      "Epoch 8/20\n",
      "10/10 [==============================] - 0s 45ms/step - loss: 0.8469 - accuracy: 0.9450 - val_loss: 1.3071 - val_accuracy: 0.9041\n",
      "Epoch 9/20\n",
      "10/10 [==============================] - 0s 50ms/step - loss: 0.8469 - accuracy: 0.9450 - val_loss: 1.3071 - val_accuracy: 0.9041\n",
      "Epoch 10/20\n",
      "10/10 [==============================] - 0s 44ms/step - loss: 0.8469 - accuracy: 0.9450 - val_loss: 1.3071 - val_accuracy: 0.9041\n",
      "Epoch 11/20\n",
      "10/10 [==============================] - 0s 48ms/step - loss: 0.8469 - accuracy: 0.9450 - val_loss: 1.3071 - val_accuracy: 0.9041\n",
      "Epoch 12/20\n",
      "10/10 [==============================] - 0s 45ms/step - loss: 0.8469 - accuracy: 0.9450 - val_loss: 1.3071 - val_accuracy: 0.9041\n",
      "Epoch 13/20\n",
      "10/10 [==============================] - 0s 47ms/step - loss: 0.8469 - accuracy: 0.9450 - val_loss: 1.3071 - val_accuracy: 0.9041\n",
      "Epoch 14/20\n",
      "10/10 [==============================] - 0s 45ms/step - loss: 0.8469 - accuracy: 0.9450 - val_loss: 1.3071 - val_accuracy: 0.9041\n",
      "Epoch 15/20\n",
      "10/10 [==============================] - 0s 49ms/step - loss: 0.8469 - accuracy: 0.9450 - val_loss: 1.3071 - val_accuracy: 0.9041\n",
      "Epoch 16/20\n",
      "10/10 [==============================] - 0s 45ms/step - loss: 0.8469 - accuracy: 0.9450 - val_loss: 1.3071 - val_accuracy: 0.9041\n",
      "Epoch 17/20\n",
      "10/10 [==============================] - 0s 47ms/step - loss: 0.8469 - accuracy: 0.9450 - val_loss: 1.3071 - val_accuracy: 0.9041\n",
      "Epoch 18/20\n",
      "10/10 [==============================] - 1s 50ms/step - loss: 0.8469 - accuracy: 0.9450 - val_loss: 1.3071 - val_accuracy: 0.9041\n",
      "Epoch 19/20\n",
      "10/10 [==============================] - 0s 49ms/step - loss: 0.8469 - accuracy: 0.9450 - val_loss: 1.3071 - val_accuracy: 0.9041\n",
      "Epoch 20/20\n",
      "10/10 [==============================] - 0s 46ms/step - loss: 0.8469 - accuracy: 0.9450 - val_loss: 1.3071 - val_accuracy: 0.9041\n"
     ]
    }
   ],
   "source": [
    "spt = model_output(spet,spet1)"
   ]
  },
  {
   "cell_type": "code",
   "execution_count": 43,
   "metadata": {
    "colab": {
     "base_uri": "https://localhost:8080/"
    },
    "id": "AUvNfXFZoBFL",
    "outputId": "eba004a0-12dc-47b6-c1ee-5fa2c507b6ce"
   },
   "outputs": [
    {
     "name": "stdout",
     "output_type": "stream",
     "text": [
      "Epoch 1/20\n",
      "11/11 [==============================] - 2s 180ms/step - loss: 1.0092 - accuracy: 0.8896 - val_loss: 0.9768 - val_accuracy: 0.9268\n",
      "Epoch 2/20\n",
      "11/11 [==============================] - 1s 46ms/step - loss: 0.7441 - accuracy: 0.9387 - val_loss: 0.9992 - val_accuracy: 0.9146\n",
      "Epoch 3/20\n",
      "11/11 [==============================] - 1s 48ms/step - loss: 0.6844 - accuracy: 0.9509 - val_loss: 1.3285 - val_accuracy: 0.8293\n",
      "Epoch 4/20\n",
      "11/11 [==============================] - 1s 49ms/step - loss: 0.6873 - accuracy: 0.9448 - val_loss: 1.2072 - val_accuracy: 0.8780\n",
      "Epoch 5/20\n",
      "11/11 [==============================] - 1s 46ms/step - loss: 0.7266 - accuracy: 0.9417 - val_loss: 1.1893 - val_accuracy: 0.9146\n",
      "Epoch 6/20\n",
      "11/11 [==============================] - 1s 46ms/step - loss: 0.6171 - accuracy: 0.9601 - val_loss: 1.2226 - val_accuracy: 0.9024\n",
      "Epoch 7/20\n",
      "11/11 [==============================] - 1s 47ms/step - loss: 0.6148 - accuracy: 0.9601 - val_loss: 1.1777 - val_accuracy: 0.9024\n",
      "Epoch 8/20\n",
      "11/11 [==============================] - 1s 46ms/step - loss: 0.6344 - accuracy: 0.9509 - val_loss: 1.2181 - val_accuracy: 0.8780\n",
      "Epoch 9/20\n",
      "11/11 [==============================] - 0s 45ms/step - loss: 0.6303 - accuracy: 0.9571 - val_loss: 1.0359 - val_accuracy: 0.9024\n",
      "Epoch 10/20\n",
      "11/11 [==============================] - 1s 46ms/step - loss: 0.6154 - accuracy: 0.9601 - val_loss: 1.0231 - val_accuracy: 0.8902\n",
      "Epoch 11/20\n",
      "11/11 [==============================] - 1s 45ms/step - loss: 0.6146 - accuracy: 0.9601 - val_loss: 1.1778 - val_accuracy: 0.8902\n",
      "Epoch 12/20\n",
      "11/11 [==============================] - 1s 47ms/step - loss: 0.6140 - accuracy: 0.9601 - val_loss: 1.1778 - val_accuracy: 0.8902\n",
      "Epoch 13/20\n",
      "11/11 [==============================] - 1s 46ms/step - loss: 0.6140 - accuracy: 0.9601 - val_loss: 1.1778 - val_accuracy: 0.8902\n",
      "Epoch 14/20\n",
      "11/11 [==============================] - 1s 47ms/step - loss: 0.6140 - accuracy: 0.9601 - val_loss: 1.1778 - val_accuracy: 0.8902\n",
      "Epoch 15/20\n",
      "11/11 [==============================] - 1s 47ms/step - loss: 0.6140 - accuracy: 0.9601 - val_loss: 1.1778 - val_accuracy: 0.8902\n",
      "Epoch 16/20\n",
      "11/11 [==============================] - 1s 47ms/step - loss: 0.6140 - accuracy: 0.9601 - val_loss: 1.1778 - val_accuracy: 0.8902\n",
      "Epoch 17/20\n",
      "11/11 [==============================] - 1s 46ms/step - loss: 0.6140 - accuracy: 0.9601 - val_loss: 1.1778 - val_accuracy: 0.8902\n",
      "Epoch 18/20\n",
      "11/11 [==============================] - 1s 49ms/step - loss: 0.6140 - accuracy: 0.9601 - val_loss: 1.1778 - val_accuracy: 0.8902\n",
      "Epoch 19/20\n",
      "11/11 [==============================] - 1s 47ms/step - loss: 0.6140 - accuracy: 0.9601 - val_loss: 1.1778 - val_accuracy: 0.8902\n",
      "Epoch 20/20\n",
      "11/11 [==============================] - 1s 48ms/step - loss: 0.6140 - accuracy: 0.9601 - val_loss: 1.1778 - val_accuracy: 0.8902\n"
     ]
    }
   ],
   "source": [
    "fjn = model_output(fjohn,fjohn1)"
   ]
  },
  {
   "cell_type": "code",
   "execution_count": 44,
   "metadata": {
    "colab": {
     "base_uri": "https://localhost:8080/"
    },
    "id": "plm8yo5KoBFL",
    "outputId": "6264b711-1cad-4e74-ba14-e21c66d56a57"
   },
   "outputs": [
    {
     "name": "stdout",
     "output_type": "stream",
     "text": [
      "Epoch 1/20\n",
      "8/8 [==============================] - 2s 228ms/step - loss: 0.5908 - accuracy: 0.9405 - val_loss: 0.4820 - val_accuracy: 0.9688\n",
      "Epoch 2/20\n",
      "8/8 [==============================] - 0s 45ms/step - loss: 0.5499 - accuracy: 0.9643 - val_loss: 0.4820 - val_accuracy: 0.9688\n",
      "Epoch 3/20\n",
      "8/8 [==============================] - 0s 48ms/step - loss: 0.5495 - accuracy: 0.9643 - val_loss: 0.4820 - val_accuracy: 0.9688\n",
      "Epoch 4/20\n",
      "8/8 [==============================] - 0s 46ms/step - loss: 0.5495 - accuracy: 0.9643 - val_loss: 0.4820 - val_accuracy: 0.9688\n",
      "Epoch 5/20\n",
      "8/8 [==============================] - 0s 50ms/step - loss: 0.5495 - accuracy: 0.9643 - val_loss: 0.4820 - val_accuracy: 0.9688\n",
      "Epoch 6/20\n",
      "8/8 [==============================] - 0s 44ms/step - loss: 0.5495 - accuracy: 0.9643 - val_loss: 0.4820 - val_accuracy: 0.9688\n",
      "Epoch 7/20\n",
      "8/8 [==============================] - 0s 47ms/step - loss: 0.5495 - accuracy: 0.9643 - val_loss: 0.4820 - val_accuracy: 0.9688\n",
      "Epoch 8/20\n",
      "8/8 [==============================] - 0s 44ms/step - loss: 0.5495 - accuracy: 0.9643 - val_loss: 0.4820 - val_accuracy: 0.9688\n",
      "Epoch 9/20\n",
      "8/8 [==============================] - 0s 44ms/step - loss: 0.5495 - accuracy: 0.9643 - val_loss: 0.4820 - val_accuracy: 0.9688\n",
      "Epoch 10/20\n",
      "8/8 [==============================] - 0s 46ms/step - loss: 0.5495 - accuracy: 0.9643 - val_loss: 0.4820 - val_accuracy: 0.9688\n",
      "Epoch 11/20\n",
      "8/8 [==============================] - 0s 45ms/step - loss: 0.5495 - accuracy: 0.9643 - val_loss: 0.4820 - val_accuracy: 0.9688\n",
      "Epoch 12/20\n",
      "8/8 [==============================] - 0s 48ms/step - loss: 0.5495 - accuracy: 0.9643 - val_loss: 0.4820 - val_accuracy: 0.9688\n",
      "Epoch 13/20\n",
      "8/8 [==============================] - 0s 45ms/step - loss: 0.5495 - accuracy: 0.9643 - val_loss: 0.4820 - val_accuracy: 0.9688\n",
      "Epoch 14/20\n",
      "8/8 [==============================] - 0s 44ms/step - loss: 0.5495 - accuracy: 0.9643 - val_loss: 0.4820 - val_accuracy: 0.9688\n",
      "Epoch 15/20\n",
      "8/8 [==============================] - 0s 48ms/step - loss: 0.5495 - accuracy: 0.9643 - val_loss: 0.4820 - val_accuracy: 0.9688\n",
      "Epoch 16/20\n",
      "8/8 [==============================] - 0s 45ms/step - loss: 0.5495 - accuracy: 0.9643 - val_loss: 0.4820 - val_accuracy: 0.9688\n",
      "Epoch 17/20\n",
      "8/8 [==============================] - 0s 47ms/step - loss: 0.5495 - accuracy: 0.9643 - val_loss: 0.4820 - val_accuracy: 0.9688\n",
      "Epoch 18/20\n",
      "8/8 [==============================] - 0s 46ms/step - loss: 0.5495 - accuracy: 0.9643 - val_loss: 0.4820 - val_accuracy: 0.9688\n",
      "Epoch 19/20\n",
      "8/8 [==============================] - 0s 45ms/step - loss: 0.5495 - accuracy: 0.9643 - val_loss: 0.4820 - val_accuracy: 0.9688\n",
      "Epoch 20/20\n",
      "8/8 [==============================] - 0s 46ms/step - loss: 0.5495 - accuracy: 0.9643 - val_loss: 0.4820 - val_accuracy: 0.9688\n"
     ]
    }
   ],
   "source": [
    "sjn = model_output(sjohn,sjohn1)"
   ]
  },
  {
   "cell_type": "code",
   "execution_count": 45,
   "metadata": {
    "colab": {
     "base_uri": "https://localhost:8080/"
    },
    "id": "tfNflqq4oBFL",
    "outputId": "a3a78165-0cba-48d4-ed03-f3bdd1a074ff"
   },
   "outputs": [
    {
     "name": "stdout",
     "output_type": "stream",
     "text": [
      "Epoch 1/20\n",
      "8/8 [==============================] - 2s 228ms/step - loss: 0.7040 - accuracy: 0.9409 - val_loss: 0.2383 - val_accuracy: 0.9844\n",
      "Epoch 2/20\n",
      "8/8 [==============================] - 0s 48ms/step - loss: 0.6772 - accuracy: 0.9528 - val_loss: 0.2397 - val_accuracy: 0.9844\n",
      "Epoch 3/20\n",
      "8/8 [==============================] - 0s 46ms/step - loss: 0.6318 - accuracy: 0.9567 - val_loss: 0.0515 - val_accuracy: 0.9844\n",
      "Epoch 4/20\n",
      "8/8 [==============================] - 0s 47ms/step - loss: 0.6298 - accuracy: 0.9488 - val_loss: 0.0409 - val_accuracy: 0.9844\n",
      "Epoch 5/20\n",
      "8/8 [==============================] - 0s 45ms/step - loss: 0.6143 - accuracy: 0.9606 - val_loss: 0.0379 - val_accuracy: 0.9844\n",
      "Epoch 6/20\n",
      "8/8 [==============================] - 0s 45ms/step - loss: 0.6095 - accuracy: 0.9606 - val_loss: 0.0335 - val_accuracy: 0.9844\n",
      "Epoch 7/20\n",
      "8/8 [==============================] - 0s 47ms/step - loss: 0.6073 - accuracy: 0.9606 - val_loss: 0.0302 - val_accuracy: 0.9844\n",
      "Epoch 8/20\n",
      "8/8 [==============================] - 0s 45ms/step - loss: 0.6066 - accuracy: 0.9606 - val_loss: 0.0302 - val_accuracy: 0.9844\n",
      "Epoch 9/20\n",
      "8/8 [==============================] - 0s 47ms/step - loss: 0.6066 - accuracy: 0.9606 - val_loss: 0.0302 - val_accuracy: 0.9844\n",
      "Epoch 10/20\n",
      "8/8 [==============================] - 0s 47ms/step - loss: 0.6066 - accuracy: 0.9606 - val_loss: 0.0302 - val_accuracy: 0.9844\n",
      "Epoch 11/20\n",
      "8/8 [==============================] - 0s 49ms/step - loss: 0.6066 - accuracy: 0.9606 - val_loss: 0.0302 - val_accuracy: 0.9844\n",
      "Epoch 12/20\n",
      "8/8 [==============================] - 0s 45ms/step - loss: 0.6066 - accuracy: 0.9606 - val_loss: 0.0302 - val_accuracy: 0.9844\n",
      "Epoch 13/20\n",
      "8/8 [==============================] - 0s 46ms/step - loss: 0.6066 - accuracy: 0.9606 - val_loss: 0.0302 - val_accuracy: 0.9844\n",
      "Epoch 14/20\n",
      "8/8 [==============================] - 0s 47ms/step - loss: 0.6066 - accuracy: 0.9606 - val_loss: 0.0302 - val_accuracy: 0.9844\n",
      "Epoch 15/20\n",
      "8/8 [==============================] - 0s 46ms/step - loss: 0.6066 - accuracy: 0.9606 - val_loss: 0.0302 - val_accuracy: 0.9844\n",
      "Epoch 16/20\n",
      "8/8 [==============================] - 0s 47ms/step - loss: 0.6066 - accuracy: 0.9606 - val_loss: 0.0302 - val_accuracy: 0.9844\n",
      "Epoch 17/20\n",
      "8/8 [==============================] - 0s 49ms/step - loss: 0.6066 - accuracy: 0.9606 - val_loss: 0.0302 - val_accuracy: 0.9844\n",
      "Epoch 18/20\n",
      "8/8 [==============================] - 0s 46ms/step - loss: 0.6066 - accuracy: 0.9606 - val_loss: 0.0302 - val_accuracy: 0.9844\n",
      "Epoch 19/20\n",
      "8/8 [==============================] - 0s 47ms/step - loss: 0.6066 - accuracy: 0.9606 - val_loss: 0.0302 - val_accuracy: 0.9844\n",
      "Epoch 20/20\n",
      "8/8 [==============================] - 0s 47ms/step - loss: 0.6066 - accuracy: 0.9606 - val_loss: 0.0302 - val_accuracy: 0.9844\n"
     ]
    }
   ],
   "source": [
    "tjn = model_output(tjohn,tjohn1)"
   ]
  },
  {
   "cell_type": "code",
   "execution_count": 46,
   "metadata": {
    "colab": {
     "base_uri": "https://localhost:8080/"
    },
    "id": "TvZw6QvfoBFL",
    "outputId": "7d0a7e1b-b960-4a62-de31-a93774f29a19"
   },
   "outputs": [
    {
     "name": "stdout",
     "output_type": "stream",
     "text": [
      "Epoch 1/20\n",
      "9/9 [==============================] - 2s 210ms/step - loss: 1.0116 - accuracy: 0.9313 - val_loss: 0.7205 - val_accuracy: 0.9545\n",
      "Epoch 2/20\n",
      "9/9 [==============================] - 0s 47ms/step - loss: 0.9501 - accuracy: 0.9351 - val_loss: 0.7368 - val_accuracy: 0.9394\n",
      "Epoch 3/20\n",
      "9/9 [==============================] - 0s 45ms/step - loss: 0.9413 - accuracy: 0.9389 - val_loss: 0.7368 - val_accuracy: 0.9394\n",
      "Epoch 4/20\n",
      "9/9 [==============================] - 0s 46ms/step - loss: 0.9413 - accuracy: 0.9389 - val_loss: 0.7368 - val_accuracy: 0.9394\n",
      "Epoch 5/20\n",
      "9/9 [==============================] - 0s 45ms/step - loss: 0.9413 - accuracy: 0.9389 - val_loss: 0.7368 - val_accuracy: 0.9394\n",
      "Epoch 6/20\n",
      "9/9 [==============================] - 0s 44ms/step - loss: 0.9413 - accuracy: 0.9389 - val_loss: 0.7368 - val_accuracy: 0.9394\n",
      "Epoch 7/20\n",
      "9/9 [==============================] - 0s 47ms/step - loss: 0.9413 - accuracy: 0.9389 - val_loss: 0.7368 - val_accuracy: 0.9394\n",
      "Epoch 8/20\n",
      "9/9 [==============================] - 0s 46ms/step - loss: 0.9413 - accuracy: 0.9389 - val_loss: 0.7368 - val_accuracy: 0.9394\n",
      "Epoch 9/20\n",
      "9/9 [==============================] - 0s 47ms/step - loss: 0.9413 - accuracy: 0.9389 - val_loss: 0.7368 - val_accuracy: 0.9394\n",
      "Epoch 10/20\n",
      "9/9 [==============================] - 0s 46ms/step - loss: 0.9413 - accuracy: 0.9389 - val_loss: 0.7368 - val_accuracy: 0.9394\n",
      "Epoch 11/20\n",
      "9/9 [==============================] - 0s 47ms/step - loss: 0.9413 - accuracy: 0.9389 - val_loss: 0.7368 - val_accuracy: 0.9394\n",
      "Epoch 12/20\n",
      "9/9 [==============================] - 0s 47ms/step - loss: 0.9413 - accuracy: 0.9389 - val_loss: 0.7368 - val_accuracy: 0.9394\n",
      "Epoch 13/20\n",
      "9/9 [==============================] - 0s 48ms/step - loss: 0.9413 - accuracy: 0.9389 - val_loss: 0.7368 - val_accuracy: 0.9394\n",
      "Epoch 14/20\n",
      "9/9 [==============================] - 0s 46ms/step - loss: 0.9413 - accuracy: 0.9389 - val_loss: 0.7368 - val_accuracy: 0.9394\n",
      "Epoch 15/20\n",
      "9/9 [==============================] - 0s 48ms/step - loss: 0.9413 - accuracy: 0.9389 - val_loss: 0.7368 - val_accuracy: 0.9394\n",
      "Epoch 16/20\n",
      "9/9 [==============================] - 0s 46ms/step - loss: 0.9413 - accuracy: 0.9389 - val_loss: 0.7368 - val_accuracy: 0.9394\n",
      "Epoch 17/20\n",
      "9/9 [==============================] - 0s 46ms/step - loss: 0.9413 - accuracy: 0.9389 - val_loss: 0.7368 - val_accuracy: 0.9394\n",
      "Epoch 18/20\n",
      "9/9 [==============================] - 0s 45ms/step - loss: 0.9413 - accuracy: 0.9389 - val_loss: 0.7368 - val_accuracy: 0.9394\n",
      "Epoch 19/20\n",
      "9/9 [==============================] - 0s 48ms/step - loss: 0.9413 - accuracy: 0.9389 - val_loss: 0.7368 - val_accuracy: 0.9394\n",
      "Epoch 20/20\n",
      "9/9 [==============================] - 0s 45ms/step - loss: 0.9413 - accuracy: 0.9389 - val_loss: 0.7368 - val_accuracy: 0.9394\n"
     ]
    }
   ],
   "source": [
    "jde = model_output(jud,jud1)"
   ]
  },
  {
   "cell_type": "code",
   "execution_count": 47,
   "metadata": {
    "colab": {
     "base_uri": "https://localhost:8080/"
    },
    "id": "2u8B5N-AoBFL",
    "outputId": "23022a7f-864e-4935-de95-378a0574af17"
   },
   "outputs": [
    {
     "name": "stdout",
     "output_type": "stream",
     "text": [
      "Epoch 1/20\n",
      "18/18 [==============================] - 2s 131ms/step - loss: 3.4707 - accuracy: 0.6837 - val_loss: 2.6674 - val_accuracy: 0.7606\n",
      "Epoch 2/20\n",
      "18/18 [==============================] - 1s 49ms/step - loss: 2.3658 - accuracy: 0.7721 - val_loss: 2.4770 - val_accuracy: 0.7535\n",
      "Epoch 3/20\n",
      "18/18 [==============================] - 1s 48ms/step - loss: 2.0025 - accuracy: 0.8074 - val_loss: 2.6889 - val_accuracy: 0.7535\n",
      "Epoch 4/20\n",
      "18/18 [==============================] - 1s 48ms/step - loss: 1.7540 - accuracy: 0.8357 - val_loss: 2.8118 - val_accuracy: 0.7183\n",
      "Epoch 5/20\n",
      "18/18 [==============================] - 1s 49ms/step - loss: 1.4488 - accuracy: 0.8498 - val_loss: 2.4550 - val_accuracy: 0.7817\n",
      "Epoch 6/20\n",
      "18/18 [==============================] - 1s 49ms/step - loss: 1.2483 - accuracy: 0.8675 - val_loss: 2.2211 - val_accuracy: 0.7606\n",
      "Epoch 7/20\n",
      "18/18 [==============================] - 1s 49ms/step - loss: 1.1402 - accuracy: 0.9011 - val_loss: 2.2763 - val_accuracy: 0.7746\n",
      "Epoch 8/20\n",
      "18/18 [==============================] - 1s 49ms/step - loss: 1.0758 - accuracy: 0.9187 - val_loss: 2.2788 - val_accuracy: 0.7394\n",
      "Epoch 9/20\n",
      "18/18 [==============================] - 1s 51ms/step - loss: 1.0877 - accuracy: 0.8799 - val_loss: 2.2621 - val_accuracy: 0.7535\n",
      "Epoch 10/20\n",
      "18/18 [==============================] - 1s 51ms/step - loss: 0.9692 - accuracy: 0.8975 - val_loss: 2.4106 - val_accuracy: 0.7676\n",
      "Epoch 11/20\n",
      "18/18 [==============================] - 1s 52ms/step - loss: 0.8473 - accuracy: 0.9223 - val_loss: 2.3603 - val_accuracy: 0.7535\n",
      "Epoch 12/20\n",
      "18/18 [==============================] - 1s 51ms/step - loss: 0.7914 - accuracy: 0.9399 - val_loss: 2.1614 - val_accuracy: 0.7394\n",
      "Epoch 13/20\n",
      "18/18 [==============================] - 1s 53ms/step - loss: 0.7726 - accuracy: 0.9505 - val_loss: 2.3921 - val_accuracy: 0.7113\n",
      "Epoch 14/20\n",
      "18/18 [==============================] - 1s 53ms/step - loss: 0.7528 - accuracy: 0.9346 - val_loss: 2.3805 - val_accuracy: 0.7324\n",
      "Epoch 15/20\n",
      "18/18 [==============================] - 1s 50ms/step - loss: 0.7213 - accuracy: 0.9488 - val_loss: 2.6612 - val_accuracy: 0.7535\n",
      "Epoch 16/20\n",
      "18/18 [==============================] - 1s 51ms/step - loss: 0.6958 - accuracy: 0.9488 - val_loss: 2.3946 - val_accuracy: 0.7324\n",
      "Epoch 17/20\n",
      "18/18 [==============================] - 1s 49ms/step - loss: 0.6881 - accuracy: 0.9558 - val_loss: 2.8519 - val_accuracy: 0.7394\n",
      "Epoch 18/20\n",
      "18/18 [==============================] - 1s 49ms/step - loss: 0.6690 - accuracy: 0.9488 - val_loss: 3.0586 - val_accuracy: 0.7324\n",
      "Epoch 19/20\n",
      "18/18 [==============================] - 1s 51ms/step - loss: 0.6923 - accuracy: 0.9505 - val_loss: 2.5800 - val_accuracy: 0.7324\n",
      "Epoch 20/20\n",
      "18/18 [==============================] - 1s 49ms/step - loss: 0.6217 - accuracy: 0.9452 - val_loss: 2.6882 - val_accuracy: 0.7465\n"
     ]
    }
   ],
   "source": [
    "rvl = model_output(rev,rev1)"
   ]
  },
  {
   "cell_type": "code",
   "execution_count": 48,
   "metadata": {
    "id": "GGavl1S-w1Fj"
   },
   "outputs": [],
   "source": [
    "from pandas.core.frame import DataFrame\n",
    "df_loss = {'Matthew':mat.history['loss'],'Mark':mak.history['loss'],'Luke':luk.history['loss'],'John':joh.history['loss'],\n",
    "           'Acts':act.history['loss'],'Romans':rom.history['loss'],'1Cor':fcr.history['loss'],'2Cor':scr.history['loss'],'Gal':glt.history['loss'],\n",
    "           'Eph':ept.history['loss'],'Phl':plp.history['loss'],'Col':cls.history['loss'],'1The':ftl.history['loss'],'2The':stl.history['loss'],\n",
    "           '1Tim':ftm.history['loss'],'2Tim':stm.history['loss'],'Titus':tus.history['loss'],'Phi':plm.history['loss'],'James':jam.history['loss'],\n",
    "           '1Peter':fpt.history['loss'],'2Peter':spt.history['loss'],'1John':fjn.history['loss'],'2John':sjn.history['loss'],'3John':tjn.history['loss'],\n",
    "           'Jude':jde.history['loss'],'Rev':rvl.history['loss']}\n",
    "sbl_loss = DataFrame(df_loss)\n",
    "\n",
    "df_val_loss = {'Matthew':mat.history['val_loss'],'Mark':mak.history['val_loss'],'Luke':luk.history['val_loss'],'John':joh.history['val_loss'],\n",
    "           'Acts':act.history['val_loss'],'Romans':rom.history['val_loss'],'1Cor':fcr.history['val_loss'],'2Cor':scr.history['val_loss'],'Gal':glt.history['val_loss'],\n",
    "           'Eph':ept.history['val_loss'],'Phl':plp.history['val_loss'],'Col':cls.history['val_loss'],'1The':ftl.history['val_loss'],'2The':stl.history['val_loss'],\n",
    "           '1Tim':ftm.history['val_loss'],'2Tim':stm.history['val_loss'],'Titus':tus.history['val_loss'],'Phi':plm.history['val_loss'],'James':jam.history['val_loss'],\n",
    "           '1Peter':fpt.history['val_loss'],'2Peter':spt.history['val_loss'],'1John':fjn.history['val_loss'],'2John':sjn.history['val_loss'],'3John':tjn.history['val_loss'],\n",
    "           'Jude':jde.history['val_loss'],'Rev':rvl.history['val_loss']}\n",
    "sbl_val_loss = DataFrame(df_val_loss)\n",
    "\n",
    "df_accuracy = {'Matthew':mat.history['accuracy'],'Mark':mak.history['accuracy'],'Luke':luk.history['accuracy'],'John':joh.history['accuracy'],\n",
    "           'Acts':act.history['accuracy'],'Romans':rom.history['accuracy'],'1Cor':fcr.history['accuracy'],'2Cor':scr.history['accuracy'],'Gal':glt.history['accuracy'],\n",
    "           'Eph':ept.history['accuracy'],'Phl':plp.history['accuracy'],'Col':cls.history['accuracy'],'1The':ftl.history['accuracy'],'2The':stl.history['accuracy'],\n",
    "           '1Tim':ftm.history['accuracy'],'2Tim':stm.history['accuracy'],'Titus':tus.history['accuracy'],'Phi':plm.history['accuracy'],'James':jam.history['accuracy'],\n",
    "           '1Peter':fpt.history['accuracy'],'2Peter':spt.history['accuracy'],'1John':fjn.history['accuracy'],'2John':sjn.history['accuracy'],'3John':tjn.history['accuracy'],\n",
    "           'Jude':jde.history['accuracy'],'Rev':rvl.history['accuracy']}\n",
    "sbl_accuracy = DataFrame(df_accuracy)\n",
    "\n",
    "df_val_accuracy = {'Matthew':mat.history['val_accuracy'],'Mark':mak.history['val_accuracy'],'Luke':luk.history['val_accuracy'],'John':joh.history['val_accuracy'],\n",
    "           'Acts':act.history['val_accuracy'],'Romans':rom.history['val_accuracy'],'1Cor':fcr.history['val_accuracy'],'2Cor':scr.history['val_accuracy'],'Gal':glt.history['val_accuracy'],\n",
    "           'Eph':ept.history['val_accuracy'],'Phl':plp.history['val_accuracy'],'Col':cls.history['val_accuracy'],'1The':ftl.history['val_accuracy'],'2The':stl.history['val_accuracy'],\n",
    "           '1Tim':ftm.history['val_accuracy'],'2Tim':stm.history['val_accuracy'],'Titus':tus.history['val_accuracy'],'Phi':plm.history['val_accuracy'],'James':jam.history['val_accuracy'],\n",
    "           '1Peter':fpt.history['val_accuracy'],'2Peter':spt.history['val_accuracy'],'1John':fjn.history['val_accuracy'],'2John':sjn.history['val_accuracy'],'3John':tjn.history['val_accuracy'],\n",
    "           'Jude':jde.history['val_accuracy'],'Rev':rvl.history['val_accuracy']}\n",
    "sbl_val_accuracy = DataFrame(df_val_accuracy)"
   ]
  },
  {
   "cell_type": "code",
   "execution_count": 49,
   "metadata": {
    "id": "aVjI8wTVw3cu"
   },
   "outputs": [],
   "source": [
    "sbl_loss.to_excel('SBL LOSS.xlsx',encoding = 'utf-8', index = False)\n",
    "sbl_accuracy.to_excel('SBL ACCURACY.xlsx',encoding = 'utf-8', index = False)  \n",
    "sbl_val_loss.to_excel('SBL VALIDATION LOSS.xlsx',encoding = 'utf-8', index = False)  \n",
    "sbl_val_accuracy.to_excel('SBL VALIDATION ACCURACY.xlsx',encoding = 'utf-8', index = False) "
   ]
  },
  {
   "cell_type": "code",
   "execution_count": 50,
   "metadata": {
    "colab": {
     "base_uri": "https://localhost:8080/",
     "height": 445
    },
    "id": "jRiFI5SQxeHG",
    "outputId": "e6df6c77-efb6-4fc2-889f-57214cd2c0d5"
   },
   "outputs": [
    {
     "data": {
      "image/png": "[encoded data removed]",
      "text/plain": [
       "<Figure size 432x288 with 1 Axes>"
      ]
     },
     "metadata": {
      "needs_background": "light",
      "tags": []
     },
     "output_type": "display_data"
    }
   ],
   "source": [
    "import matplotlib.pyplot as plt\n",
    "\n",
    "matvac = mat.history['val_accuracy']\n",
    "makvac = mak.history['val_accuracy']\n",
    "lukvac = luk.history['val_accuracy']\n",
    "johvac = joh.history['val_accuracy']\n",
    "actvac = act.history['val_accuracy']\n",
    "romvac = rom.history['val_accuracy']\n",
    "fcrvac = fcr.history['val_accuracy']\n",
    "scrvac = scr.history['val_accuracy']\n",
    "gltvac = glt.history['val_accuracy']\n",
    "eptvac = ept.history['val_accuracy']\n",
    "plpvac = plp.history['val_accuracy']\n",
    "clsvac = cls.history['val_accuracy']\n",
    "ftlvac = ftl.history['val_accuracy']\n",
    "stlvac = stl.history['val_accuracy']\n",
    "ftmvac = ftm.history['val_accuracy']\n",
    "stmvac = stm.history['val_accuracy']\n",
    "tusvac = tus.history['val_accuracy']\n",
    "plmvac = plm.history['val_accuracy']\n",
    "jamvac = jam.history['val_accuracy']\n",
    "fptvac = fpt.history['val_accuracy']\n",
    "sptvac = spt.history['val_accuracy']\n",
    "fjnvac = fjn.history['val_accuracy']\n",
    "sjnvac = sjn.history['val_accuracy']\n",
    "tjnvac = tjn.history['val_accuracy']\n",
    "jdevac = jde.history['val_accuracy']\n",
    "rvlvac = rvl.history['val_accuracy']\n",
    "\n",
    "epochs = range(1, len(matvac) + 1)\n",
    "\n",
    "plt.plot(epochs, matvac, 'b', label='matthew')\n",
    "plt.plot(epochs, makvac, 'r', label='mark')\n",
    "plt.plot(epochs, lukvac, 'y', label='luke')\n",
    "plt.plot(epochs, johvac, 'brown', label='john')\n",
    "plt.plot(epochs, actvac, 'coral', label='acts')\n",
    "plt.plot(epochs, romvac, 'darkgray', label='romans')\n",
    "plt.plot(epochs, fcrvac, 'deeppink', label='1Cor')\n",
    "plt.plot(epochs, scrvac, 'gold', label='2Cor')\n",
    "plt.plot(epochs, gltvac, 'green', label='Gal')\n",
    "plt.plot(epochs, eptvac, 'lightblue', label='Eph')\n",
    "plt.plot(epochs, plpvac, 'lightcoral', label='Phl')\n",
    "plt.plot(epochs, clsvac, 'lightgreen', label='Col')\n",
    "plt.plot(epochs, ftlvac, 'lightskyblue', label='1The')\n",
    "plt.plot(epochs, stlvac, 'navy', label='2The')\n",
    "plt.plot(epochs, ftmvac, 'skyblue', label='1Tim')\n",
    "plt.plot(epochs, stmvac, 'yellowgreen', label='2Tim')\n",
    "plt.plot(epochs, tusvac, 'peru', label='Titus')\n",
    "plt.plot(epochs, plmvac, 'orange', label='Phi')\n",
    "plt.plot(epochs, jamvac, 'purple', label='James')\n",
    "plt.plot(epochs, fptvac, 'orchid', label='1Peter')\n",
    "plt.plot(epochs, sptvac, 'ivory', label='2Peter')\n",
    "plt.plot(epochs, fjnvac, 'firebrick', label='1John')\n",
    "plt.plot(epochs, sjnvac, 'lightcyan', label='2John')\n",
    "plt.plot(epochs, tjnvac, 'violet', label='3John')\n",
    "plt.plot(epochs, jdevac, 'darkmagenta', label='Jude')\n",
    "plt.plot(epochs, rvlvac, 'magenta', label='Rev')\n",
    "plt.title('sbl writing style validation accuracy')\n",
    "plt.xlabel('Epochs')\n",
    "plt.ylabel('Loss')\n",
    "plt.legend()\n",
    "\n",
    "plt.show()"
   ]
  },
  {
   "cell_type": "code",
   "execution_count": 51,
   "metadata": {
    "id": "9gf40kI2oBFM"
   },
   "outputs": [],
   "source": [
    "mat_s1 = cosine_text(Matthew)\n",
    "mark_s1 = cosine_text(Mark)\n",
    "luke_s1 = cosine_text(Luke_Book)\n",
    "jam_s1 = cosine_text(James)\n",
    "pet_s1 = cosine_text(Peter_letter)\n",
    "john_s1 = cosine_text(John_Book.dropna())\n",
    "jude_s1 = cosine_text(Jude)\n",
    "pl_s1 = cosine_text(Paul_letters)"
   ]
  },
  {
   "cell_type": "code",
   "execution_count": 52,
   "metadata": {
    "id": "Aftz9CqWoBFM"
   },
   "outputs": [],
   "source": [
    "mat_s11 = text_author(Matthew)\n",
    "mark_s11 = text_author(Mark)\n",
    "luke_s11 = text_author(Luke_Book)\n",
    "jam_s11 = text_author(James)\n",
    "pet_s11 = text_author(Peter_letter)\n",
    "john_s11 = text_author(John_Book.dropna())\n",
    "jude_s11 = text_author(Jude)\n",
    "pl_s11 = text_author(Paul_letters)"
   ]
  },
  {
   "cell_type": "code",
   "execution_count": 53,
   "metadata": {
    "colab": {
     "base_uri": "https://localhost:8080/"
    },
    "id": "PWT2FOuBoBFM",
    "outputId": "cfeb9980-86be-4aac-dae1-ada3d8ce3434"
   },
   "outputs": [
    {
     "name": "stdout",
     "output_type": "stream",
     "text": [
      "Epoch 1/20\n",
      "35/35 [==============================] - 3s 97ms/step - loss: 2.1855 - accuracy: 0.7664 - val_loss: 1.6919 - val_accuracy: 0.8400\n",
      "Epoch 2/20\n",
      "35/35 [==============================] - 2s 53ms/step - loss: 1.7970 - accuracy: 0.8212 - val_loss: 2.0322 - val_accuracy: 0.8073\n",
      "Epoch 3/20\n",
      "35/35 [==============================] - 2s 54ms/step - loss: 1.6219 - accuracy: 0.8339 - val_loss: 1.7373 - val_accuracy: 0.8109\n",
      "Epoch 4/20\n",
      "35/35 [==============================] - 2s 52ms/step - loss: 1.3264 - accuracy: 0.8476 - val_loss: 1.6660 - val_accuracy: 0.8218\n",
      "Epoch 5/20\n",
      "35/35 [==============================] - 2s 52ms/step - loss: 1.2122 - accuracy: 0.8668 - val_loss: 1.5911 - val_accuracy: 0.8073\n",
      "Epoch 6/20\n",
      "35/35 [==============================] - 2s 51ms/step - loss: 1.0995 - accuracy: 0.8622 - val_loss: 1.4509 - val_accuracy: 0.8255\n",
      "Epoch 7/20\n",
      "35/35 [==============================] - 2s 52ms/step - loss: 0.9589 - accuracy: 0.8841 - val_loss: 1.4701 - val_accuracy: 0.8109\n",
      "Epoch 8/20\n",
      "35/35 [==============================] - 2s 52ms/step - loss: 1.0308 - accuracy: 0.8914 - val_loss: 1.7682 - val_accuracy: 0.8036\n",
      "Epoch 9/20\n",
      "35/35 [==============================] - 2s 53ms/step - loss: 0.8878 - accuracy: 0.9069 - val_loss: 1.3711 - val_accuracy: 0.8145\n",
      "Epoch 10/20\n",
      "35/35 [==============================] - 2s 53ms/step - loss: 0.8220 - accuracy: 0.9188 - val_loss: 1.4171 - val_accuracy: 0.8218\n",
      "Epoch 11/20\n",
      "35/35 [==============================] - 2s 52ms/step - loss: 0.7502 - accuracy: 0.9234 - val_loss: 1.3430 - val_accuracy: 0.8036\n",
      "Epoch 12/20\n",
      "35/35 [==============================] - 2s 53ms/step - loss: 0.6681 - accuracy: 0.9334 - val_loss: 1.4695 - val_accuracy: 0.8109\n",
      "Epoch 13/20\n",
      "35/35 [==============================] - 2s 53ms/step - loss: 0.6480 - accuracy: 0.9462 - val_loss: 1.4544 - val_accuracy: 0.8000\n",
      "Epoch 14/20\n",
      "35/35 [==============================] - 2s 52ms/step - loss: 0.6127 - accuracy: 0.9526 - val_loss: 1.6417 - val_accuracy: 0.8036\n",
      "Epoch 15/20\n",
      "35/35 [==============================] - 2s 53ms/step - loss: 0.5756 - accuracy: 0.9553 - val_loss: 2.0161 - val_accuracy: 0.8000\n",
      "Epoch 16/20\n",
      "35/35 [==============================] - 2s 53ms/step - loss: 0.5475 - accuracy: 0.9626 - val_loss: 1.9001 - val_accuracy: 0.8145\n",
      "Epoch 17/20\n",
      "35/35 [==============================] - 2s 53ms/step - loss: 0.5466 - accuracy: 0.9544 - val_loss: 1.6597 - val_accuracy: 0.8218\n",
      "Epoch 18/20\n",
      "35/35 [==============================] - 2s 53ms/step - loss: 0.5495 - accuracy: 0.9617 - val_loss: 1.3835 - val_accuracy: 0.8218\n",
      "Epoch 19/20\n",
      "35/35 [==============================] - 2s 53ms/step - loss: 0.5335 - accuracy: 0.9580 - val_loss: 1.8080 - val_accuracy: 0.7782\n",
      "Epoch 20/20\n",
      "35/35 [==============================] - 2s 52ms/step - loss: 0.5475 - accuracy: 0.9580 - val_loss: 1.6452 - val_accuracy: 0.8000\n"
     ]
    }
   ],
   "source": [
    "matthewbook = model_output(mat_s1,mat_s11)"
   ]
  },
  {
   "cell_type": "code",
   "execution_count": 54,
   "metadata": {
    "colab": {
     "base_uri": "https://localhost:8080/"
    },
    "id": "H2eMN-M0oBFM",
    "outputId": "8c2b0fc7-6b58-4d93-ad19-e5fb5479ca58"
   },
   "outputs": [
    {
     "name": "stdout",
     "output_type": "stream",
     "text": [
      "Epoch 1/20\n",
      "25/25 [==============================] - 3s 109ms/step - loss: 1.4020 - accuracy: 0.8474 - val_loss: 0.9666 - val_accuracy: 0.8827\n",
      "Epoch 2/20\n",
      "25/25 [==============================] - 1s 51ms/step - loss: 1.2635 - accuracy: 0.8769 - val_loss: 1.3920 - val_accuracy: 0.8469\n",
      "Epoch 3/20\n",
      "25/25 [==============================] - 1s 51ms/step - loss: 0.9215 - accuracy: 0.9154 - val_loss: 1.0340 - val_accuracy: 0.8520\n",
      "Epoch 4/20\n",
      "25/25 [==============================] - 1s 52ms/step - loss: 0.8564 - accuracy: 0.9359 - val_loss: 1.2433 - val_accuracy: 0.8622\n",
      "Epoch 5/20\n",
      "25/25 [==============================] - 1s 52ms/step - loss: 0.8471 - accuracy: 0.9359 - val_loss: 1.1878 - val_accuracy: 0.8724\n",
      "Epoch 6/20\n",
      "25/25 [==============================] - 1s 50ms/step - loss: 0.9037 - accuracy: 0.9282 - val_loss: 1.1011 - val_accuracy: 0.8673\n",
      "Epoch 7/20\n",
      "25/25 [==============================] - 1s 51ms/step - loss: 0.7563 - accuracy: 0.9385 - val_loss: 1.3580 - val_accuracy: 0.8418\n",
      "Epoch 8/20\n",
      "25/25 [==============================] - 1s 53ms/step - loss: 0.8596 - accuracy: 0.9282 - val_loss: 1.3815 - val_accuracy: 0.8469\n",
      "Epoch 9/20\n",
      "25/25 [==============================] - 1s 52ms/step - loss: 0.7695 - accuracy: 0.9308 - val_loss: 1.3822 - val_accuracy: 0.8571\n",
      "Epoch 10/20\n",
      "25/25 [==============================] - 1s 51ms/step - loss: 0.6821 - accuracy: 0.9513 - val_loss: 1.3062 - val_accuracy: 0.8520\n",
      "Epoch 11/20\n",
      "25/25 [==============================] - 1s 54ms/step - loss: 0.6691 - accuracy: 0.9551 - val_loss: 1.3909 - val_accuracy: 0.8622\n",
      "Epoch 12/20\n",
      "25/25 [==============================] - 1s 53ms/step - loss: 0.6727 - accuracy: 0.9551 - val_loss: 1.6077 - val_accuracy: 0.8367\n",
      "Epoch 13/20\n",
      "25/25 [==============================] - 1s 53ms/step - loss: 0.7198 - accuracy: 0.9500 - val_loss: 1.3845 - val_accuracy: 0.8520\n",
      "Epoch 14/20\n",
      "25/25 [==============================] - 1s 51ms/step - loss: 0.7016 - accuracy: 0.9500 - val_loss: 1.4765 - val_accuracy: 0.8418\n",
      "Epoch 15/20\n",
      "25/25 [==============================] - 1s 53ms/step - loss: 0.6664 - accuracy: 0.9487 - val_loss: 1.5218 - val_accuracy: 0.8622\n",
      "Epoch 16/20\n",
      "25/25 [==============================] - 1s 52ms/step - loss: 0.6978 - accuracy: 0.9500 - val_loss: 1.3663 - val_accuracy: 0.8469\n",
      "Epoch 17/20\n",
      "25/25 [==============================] - 1s 52ms/step - loss: 0.6358 - accuracy: 0.9551 - val_loss: 1.6935 - val_accuracy: 0.7806\n",
      "Epoch 18/20\n",
      "25/25 [==============================] - 1s 53ms/step - loss: 0.6291 - accuracy: 0.9538 - val_loss: 1.2857 - val_accuracy: 0.8163\n",
      "Epoch 19/20\n",
      "25/25 [==============================] - 1s 52ms/step - loss: 0.6111 - accuracy: 0.9577 - val_loss: 1.2646 - val_accuracy: 0.8010\n",
      "Epoch 20/20\n",
      "25/25 [==============================] - 1s 54ms/step - loss: 0.6110 - accuracy: 0.9590 - val_loss: 1.6426 - val_accuracy: 0.8265\n"
     ]
    }
   ],
   "source": [
    "markbook = model_output(mark_s1,mark_s11)"
   ]
  },
  {
   "cell_type": "code",
   "execution_count": 55,
   "metadata": {
    "colab": {
     "base_uri": "https://localhost:8080/"
    },
    "id": "0NYRSQ4roBFM",
    "outputId": "e6e65d75-4a61-4a96-fdb4-642222ec00ad"
   },
   "outputs": [
    {
     "name": "stdout",
     "output_type": "stream",
     "text": [
      "Epoch 1/20\n",
      "62/62 [==============================] - 5s 76ms/step - loss: 0.8705 - accuracy: 0.9052 - val_loss: 0.9884 - val_accuracy: 0.8961\n",
      "Epoch 2/20\n",
      "62/62 [==============================] - 3s 51ms/step - loss: 0.5832 - accuracy: 0.9338 - val_loss: 1.0138 - val_accuracy: 0.8839\n",
      "Epoch 3/20\n",
      "62/62 [==============================] - 3s 51ms/step - loss: 0.4960 - accuracy: 0.9465 - val_loss: 0.9164 - val_accuracy: 0.8921\n",
      "Epoch 4/20\n",
      "62/62 [==============================] - 3s 52ms/step - loss: 0.4533 - accuracy: 0.9536 - val_loss: 0.8970 - val_accuracy: 0.8941\n",
      "Epoch 5/20\n",
      "62/62 [==============================] - 3s 51ms/step - loss: 0.4012 - accuracy: 0.9608 - val_loss: 1.2622 - val_accuracy: 0.8676\n",
      "Epoch 6/20\n",
      "62/62 [==============================] - 3s 52ms/step - loss: 0.3716 - accuracy: 0.9669 - val_loss: 1.2586 - val_accuracy: 0.8554\n",
      "Epoch 7/20\n",
      "62/62 [==============================] - 3s 52ms/step - loss: 0.3381 - accuracy: 0.9725 - val_loss: 1.1670 - val_accuracy: 0.8635\n",
      "Epoch 8/20\n",
      "62/62 [==============================] - 3s 53ms/step - loss: 0.3077 - accuracy: 0.9781 - val_loss: 1.1030 - val_accuracy: 0.8819\n",
      "Epoch 9/20\n",
      "62/62 [==============================] - 3s 56ms/step - loss: 0.3165 - accuracy: 0.9745 - val_loss: 1.1377 - val_accuracy: 0.8737\n",
      "Epoch 10/20\n",
      "62/62 [==============================] - 4s 58ms/step - loss: 0.2937 - accuracy: 0.9771 - val_loss: 1.1852 - val_accuracy: 0.8717\n",
      "Epoch 11/20\n",
      "62/62 [==============================] - 3s 52ms/step - loss: 0.2982 - accuracy: 0.9786 - val_loss: 1.3279 - val_accuracy: 0.8697\n",
      "Epoch 12/20\n",
      "62/62 [==============================] - 3s 52ms/step - loss: 0.2805 - accuracy: 0.9766 - val_loss: 1.1145 - val_accuracy: 0.8737\n",
      "Epoch 13/20\n",
      "62/62 [==============================] - 3s 52ms/step - loss: 0.2887 - accuracy: 0.9796 - val_loss: 1.2199 - val_accuracy: 0.8798\n",
      "Epoch 14/20\n",
      "62/62 [==============================] - 3s 51ms/step - loss: 0.2804 - accuracy: 0.9791 - val_loss: 1.2595 - val_accuracy: 0.8615\n",
      "Epoch 15/20\n",
      "62/62 [==============================] - 3s 52ms/step - loss: 0.2591 - accuracy: 0.9801 - val_loss: 1.4027 - val_accuracy: 0.8635\n",
      "Epoch 16/20\n",
      "62/62 [==============================] - 3s 53ms/step - loss: 0.2643 - accuracy: 0.9796 - val_loss: 1.2278 - val_accuracy: 0.8656\n",
      "Epoch 17/20\n",
      "62/62 [==============================] - 3s 53ms/step - loss: 0.2495 - accuracy: 0.9801 - val_loss: 1.3104 - val_accuracy: 0.8717\n",
      "Epoch 18/20\n",
      "62/62 [==============================] - 3s 55ms/step - loss: 0.2586 - accuracy: 0.9801 - val_loss: 1.2652 - val_accuracy: 0.8758\n",
      "Epoch 19/20\n",
      "62/62 [==============================] - 3s 53ms/step - loss: 0.2469 - accuracy: 0.9827 - val_loss: 1.4745 - val_accuracy: 0.8615\n",
      "Epoch 20/20\n",
      "62/62 [==============================] - 3s 54ms/step - loss: 0.2544 - accuracy: 0.9806 - val_loss: 1.5802 - val_accuracy: 0.8371\n"
     ]
    }
   ],
   "source": [
    "lukebook = model_output(luke_s1,luke_s11)"
   ]
  },
  {
   "cell_type": "code",
   "execution_count": 56,
   "metadata": {
    "colab": {
     "base_uri": "https://localhost:8080/"
    },
    "id": "xbByCJmdoBFM",
    "outputId": "d86a923a-d6b5-4582-cf88-decd4cd21307"
   },
   "outputs": [
    {
     "name": "stdout",
     "output_type": "stream",
     "text": [
      "Epoch 1/20\n",
      "11/11 [==============================] - 2s 188ms/step - loss: 4.5950 - accuracy: 0.6098 - val_loss: 2.8755 - val_accuracy: 0.6867\n",
      "Epoch 2/20\n",
      "11/11 [==============================] - 1s 50ms/step - loss: 2.3239 - accuracy: 0.7774 - val_loss: 2.6432 - val_accuracy: 0.8072\n",
      "Epoch 3/20\n",
      "11/11 [==============================] - 1s 52ms/step - loss: 1.8761 - accuracy: 0.8445 - val_loss: 2.6430 - val_accuracy: 0.8193\n",
      "Epoch 4/20\n",
      "11/11 [==============================] - 1s 49ms/step - loss: 1.7146 - accuracy: 0.8841 - val_loss: 2.6485 - val_accuracy: 0.8193\n",
      "Epoch 5/20\n",
      "11/11 [==============================] - 1s 50ms/step - loss: 1.5796 - accuracy: 0.8933 - val_loss: 2.8507 - val_accuracy: 0.7711\n",
      "Epoch 6/20\n",
      "11/11 [==============================] - 1s 48ms/step - loss: 1.4227 - accuracy: 0.8872 - val_loss: 2.4942 - val_accuracy: 0.8072\n",
      "Epoch 7/20\n",
      "11/11 [==============================] - 1s 51ms/step - loss: 1.2758 - accuracy: 0.8933 - val_loss: 2.5000 - val_accuracy: 0.7952\n",
      "Epoch 8/20\n",
      "11/11 [==============================] - 1s 52ms/step - loss: 1.1897 - accuracy: 0.9055 - val_loss: 2.7095 - val_accuracy: 0.7711\n",
      "Epoch 9/20\n",
      "11/11 [==============================] - 1s 48ms/step - loss: 0.9898 - accuracy: 0.9177 - val_loss: 2.5562 - val_accuracy: 0.7590\n",
      "Epoch 10/20\n",
      "11/11 [==============================] - 1s 50ms/step - loss: 0.9012 - accuracy: 0.9390 - val_loss: 2.5482 - val_accuracy: 0.7711\n",
      "Epoch 11/20\n",
      "11/11 [==============================] - 1s 52ms/step - loss: 0.8280 - accuracy: 0.9360 - val_loss: 2.7231 - val_accuracy: 0.7590\n",
      "Epoch 12/20\n",
      "11/11 [==============================] - 1s 51ms/step - loss: 0.8028 - accuracy: 0.9482 - val_loss: 2.3912 - val_accuracy: 0.7831\n",
      "Epoch 13/20\n",
      "11/11 [==============================] - 1s 53ms/step - loss: 0.7986 - accuracy: 0.9482 - val_loss: 2.2283 - val_accuracy: 0.7711\n",
      "Epoch 14/20\n",
      "11/11 [==============================] - 1s 49ms/step - loss: 0.7984 - accuracy: 0.9482 - val_loss: 2.2045 - val_accuracy: 0.7470\n",
      "Epoch 15/20\n",
      "11/11 [==============================] - 1s 51ms/step - loss: 0.7984 - accuracy: 0.9482 - val_loss: 2.2045 - val_accuracy: 0.7470\n",
      "Epoch 16/20\n",
      "11/11 [==============================] - 1s 50ms/step - loss: 0.7984 - accuracy: 0.9482 - val_loss: 2.2045 - val_accuracy: 0.7470\n",
      "Epoch 17/20\n",
      "11/11 [==============================] - 1s 50ms/step - loss: 0.7984 - accuracy: 0.9482 - val_loss: 2.2045 - val_accuracy: 0.7470\n",
      "Epoch 18/20\n",
      "11/11 [==============================] - 1s 53ms/step - loss: 0.7984 - accuracy: 0.9482 - val_loss: 2.2045 - val_accuracy: 0.7470\n",
      "Epoch 19/20\n",
      "11/11 [==============================] - 1s 52ms/step - loss: 0.7984 - accuracy: 0.9482 - val_loss: 2.2045 - val_accuracy: 0.7470\n",
      "Epoch 20/20\n",
      "11/11 [==============================] - 1s 53ms/step - loss: 0.7984 - accuracy: 0.9482 - val_loss: 2.2045 - val_accuracy: 0.7470\n"
     ]
    }
   ],
   "source": [
    "jams = model_output(jam_s1,jam_s11)"
   ]
  },
  {
   "cell_type": "code",
   "execution_count": 57,
   "metadata": {
    "colab": {
     "base_uri": "https://localhost:8080/"
    },
    "id": "lQtaYq2xoBFN",
    "outputId": "99450e4a-ccc7-46ef-ee34-782d08c8825d"
   },
   "outputs": [
    {
     "name": "stdout",
     "output_type": "stream",
     "text": [
      "Epoch 1/20\n",
      "12/12 [==============================] - 2s 174ms/step - loss: 2.0107 - accuracy: 0.8187 - val_loss: 1.4721 - val_accuracy: 0.8404\n",
      "Epoch 2/20\n",
      "12/12 [==============================] - 1s 50ms/step - loss: 1.6911 - accuracy: 0.8773 - val_loss: 1.4632 - val_accuracy: 0.8298\n",
      "Epoch 3/20\n",
      "12/12 [==============================] - 1s 49ms/step - loss: 1.5119 - accuracy: 0.8907 - val_loss: 1.3215 - val_accuracy: 0.8511\n",
      "Epoch 4/20\n",
      "12/12 [==============================] - 1s 50ms/step - loss: 1.4840 - accuracy: 0.9013 - val_loss: 1.3253 - val_accuracy: 0.8404\n",
      "Epoch 5/20\n",
      "12/12 [==============================] - 1s 50ms/step - loss: 1.4796 - accuracy: 0.9040 - val_loss: 1.4345 - val_accuracy: 0.8617\n",
      "Epoch 6/20\n",
      "12/12 [==============================] - 1s 50ms/step - loss: 1.4787 - accuracy: 0.9040 - val_loss: 1.3253 - val_accuracy: 0.8404\n",
      "Epoch 7/20\n",
      "12/12 [==============================] - 1s 50ms/step - loss: 1.4783 - accuracy: 0.9040 - val_loss: 1.2855 - val_accuracy: 0.8298\n",
      "Epoch 8/20\n",
      "12/12 [==============================] - 1s 50ms/step - loss: 1.4903 - accuracy: 0.9013 - val_loss: 2.0923 - val_accuracy: 0.7872\n",
      "Epoch 9/20\n",
      "12/12 [==============================] - 1s 49ms/step - loss: 1.6162 - accuracy: 0.8933 - val_loss: 1.6806 - val_accuracy: 0.8085\n",
      "Epoch 10/20\n",
      "12/12 [==============================] - 1s 52ms/step - loss: 1.4626 - accuracy: 0.8960 - val_loss: 1.4961 - val_accuracy: 0.8085\n",
      "Epoch 11/20\n",
      "12/12 [==============================] - 1s 54ms/step - loss: 1.4396 - accuracy: 0.9067 - val_loss: 1.6305 - val_accuracy: 0.8085\n",
      "Epoch 12/20\n",
      "12/12 [==============================] - 1s 50ms/step - loss: 1.4374 - accuracy: 0.9067 - val_loss: 1.6384 - val_accuracy: 0.8298\n",
      "Epoch 13/20\n",
      "12/12 [==============================] - 1s 54ms/step - loss: 1.4369 - accuracy: 0.9067 - val_loss: 1.6384 - val_accuracy: 0.8298\n",
      "Epoch 14/20\n",
      "12/12 [==============================] - 1s 50ms/step - loss: 1.4369 - accuracy: 0.9067 - val_loss: 1.6384 - val_accuracy: 0.8298\n",
      "Epoch 15/20\n",
      "12/12 [==============================] - 1s 50ms/step - loss: 1.4369 - accuracy: 0.9067 - val_loss: 1.6384 - val_accuracy: 0.8298\n",
      "Epoch 16/20\n",
      "12/12 [==============================] - 1s 52ms/step - loss: 1.4369 - accuracy: 0.9067 - val_loss: 1.6384 - val_accuracy: 0.8298\n",
      "Epoch 17/20\n",
      "12/12 [==============================] - 1s 50ms/step - loss: 1.4369 - accuracy: 0.9067 - val_loss: 1.6384 - val_accuracy: 0.8298\n",
      "Epoch 18/20\n",
      "12/12 [==============================] - 1s 50ms/step - loss: 1.4369 - accuracy: 0.9067 - val_loss: 1.6384 - val_accuracy: 0.8298\n",
      "Epoch 19/20\n",
      "12/12 [==============================] - 1s 50ms/step - loss: 1.4369 - accuracy: 0.9067 - val_loss: 1.6384 - val_accuracy: 0.8298\n",
      "Epoch 20/20\n",
      "12/12 [==============================] - 1s 51ms/step - loss: 1.4369 - accuracy: 0.9067 - val_loss: 1.6384 - val_accuracy: 0.8298\n"
     ]
    }
   ],
   "source": [
    "peter = model_output(pet_s1,pet_s11)"
   ]
  },
  {
   "cell_type": "code",
   "execution_count": 58,
   "metadata": {
    "colab": {
     "base_uri": "https://localhost:8080/"
    },
    "id": "6hgUhKOsoBFN",
    "outputId": "dda282d3-7433-40c9-b007-2c04c2af3012"
   },
   "outputs": [
    {
     "name": "stdout",
     "output_type": "stream",
     "text": [
      "Epoch 1/20\n",
      "43/43 [==============================] - 5s 122ms/step - loss: 2.5758 - accuracy: 0.7597 - val_loss: 1.9584 - val_accuracy: 0.8187\n",
      "Epoch 2/20\n",
      "43/43 [==============================] - 2s 52ms/step - loss: 2.0992 - accuracy: 0.8300 - val_loss: 1.9351 - val_accuracy: 0.8333\n",
      "Epoch 3/20\n",
      "43/43 [==============================] - 2s 52ms/step - loss: 1.9482 - accuracy: 0.8498 - val_loss: 2.1069 - val_accuracy: 0.8246\n",
      "Epoch 4/20\n",
      "43/43 [==============================] - 2s 54ms/step - loss: 1.8711 - accuracy: 0.8586 - val_loss: 2.1669 - val_accuracy: 0.8216\n",
      "Epoch 5/20\n",
      "43/43 [==============================] - 2s 53ms/step - loss: 1.7578 - accuracy: 0.8681 - val_loss: 2.1796 - val_accuracy: 0.8246\n",
      "Epoch 6/20\n",
      "43/43 [==============================] - 2s 52ms/step - loss: 1.6444 - accuracy: 0.8703 - val_loss: 2.3080 - val_accuracy: 0.7924\n",
      "Epoch 7/20\n",
      "43/43 [==============================] - 2s 53ms/step - loss: 1.4988 - accuracy: 0.8813 - val_loss: 2.3161 - val_accuracy: 0.7836\n",
      "Epoch 8/20\n",
      "43/43 [==============================] - 2s 53ms/step - loss: 1.5521 - accuracy: 0.8740 - val_loss: 1.9386 - val_accuracy: 0.8216\n",
      "Epoch 9/20\n",
      "43/43 [==============================] - 2s 53ms/step - loss: 1.3780 - accuracy: 0.8960 - val_loss: 1.9837 - val_accuracy: 0.8070\n",
      "Epoch 10/20\n",
      "43/43 [==============================] - 2s 53ms/step - loss: 1.3024 - accuracy: 0.9084 - val_loss: 2.0472 - val_accuracy: 0.8421\n",
      "Epoch 11/20\n",
      "43/43 [==============================] - 2s 53ms/step - loss: 1.3294 - accuracy: 0.9033 - val_loss: 2.0508 - val_accuracy: 0.8275\n",
      "Epoch 12/20\n",
      "43/43 [==============================] - 2s 52ms/step - loss: 1.2972 - accuracy: 0.8901 - val_loss: 1.8637 - val_accuracy: 0.8275\n",
      "Epoch 13/20\n",
      "43/43 [==============================] - 2s 53ms/step - loss: 1.1640 - accuracy: 0.9092 - val_loss: 1.7188 - val_accuracy: 0.8392\n",
      "Epoch 14/20\n",
      "43/43 [==============================] - 2s 53ms/step - loss: 1.1516 - accuracy: 0.9179 - val_loss: 1.9841 - val_accuracy: 0.8216\n",
      "Epoch 15/20\n",
      "43/43 [==============================] - 2s 53ms/step - loss: 1.1355 - accuracy: 0.9084 - val_loss: 2.0630 - val_accuracy: 0.8099\n",
      "Epoch 16/20\n",
      "43/43 [==============================] - 2s 53ms/step - loss: 1.1221 - accuracy: 0.9165 - val_loss: 1.8644 - val_accuracy: 0.8246\n",
      "Epoch 17/20\n",
      "43/43 [==============================] - 2s 54ms/step - loss: 1.0693 - accuracy: 0.9253 - val_loss: 1.8593 - val_accuracy: 0.8304\n",
      "Epoch 18/20\n",
      "43/43 [==============================] - 2s 53ms/step - loss: 1.0174 - accuracy: 0.9238 - val_loss: 2.1058 - val_accuracy: 0.8129\n",
      "Epoch 19/20\n",
      "43/43 [==============================] - 2s 53ms/step - loss: 1.0131 - accuracy: 0.9238 - val_loss: 1.9212 - val_accuracy: 0.8187\n",
      "Epoch 20/20\n",
      "43/43 [==============================] - 2s 53ms/step - loss: 0.9400 - accuracy: 0.9341 - val_loss: 1.7766 - val_accuracy: 0.8304\n"
     ]
    }
   ],
   "source": [
    "johnbook = model_output(john_s1,john_s11)"
   ]
  },
  {
   "cell_type": "code",
   "execution_count": 59,
   "metadata": {
    "colab": {
     "base_uri": "https://localhost:8080/"
    },
    "id": "f2rju0X2oBFN",
    "outputId": "f7abd56c-2c3e-4ed9-d489-422ab70e8409"
   },
   "outputs": [
    {
     "name": "stdout",
     "output_type": "stream",
     "text": [
      "Epoch 1/20\n",
      "9/9 [==============================] - 2s 214ms/step - loss: 4.6813 - accuracy: 0.5687 - val_loss: 1.7456 - val_accuracy: 0.8333\n",
      "Epoch 2/20\n",
      "9/9 [==============================] - 0s 51ms/step - loss: 1.5656 - accuracy: 0.8664 - val_loss: 1.6926 - val_accuracy: 0.8333\n",
      "Epoch 3/20\n",
      "9/9 [==============================] - 0s 46ms/step - loss: 1.3977 - accuracy: 0.8893 - val_loss: 1.5566 - val_accuracy: 0.8182\n",
      "Epoch 4/20\n",
      "9/9 [==============================] - 0s 48ms/step - loss: 1.2048 - accuracy: 0.9122 - val_loss: 1.6315 - val_accuracy: 0.8485\n",
      "Epoch 5/20\n",
      "9/9 [==============================] - 0s 47ms/step - loss: 1.0285 - accuracy: 0.9198 - val_loss: 1.1934 - val_accuracy: 0.8333\n",
      "Epoch 6/20\n",
      "9/9 [==============================] - 0s 50ms/step - loss: 0.9951 - accuracy: 0.9351 - val_loss: 1.5223 - val_accuracy: 0.8333\n",
      "Epoch 7/20\n",
      "9/9 [==============================] - 0s 49ms/step - loss: 0.9945 - accuracy: 0.9351 - val_loss: 1.3564 - val_accuracy: 0.8333\n",
      "Epoch 8/20\n",
      "9/9 [==============================] - 0s 49ms/step - loss: 0.9944 - accuracy: 0.9351 - val_loss: 1.3552 - val_accuracy: 0.8485\n",
      "Epoch 9/20\n",
      "9/9 [==============================] - 0s 48ms/step - loss: 0.9941 - accuracy: 0.9351 - val_loss: 1.3552 - val_accuracy: 0.8485\n",
      "Epoch 10/20\n",
      "9/9 [==============================] - 0s 51ms/step - loss: 0.9941 - accuracy: 0.9351 - val_loss: 1.3552 - val_accuracy: 0.8485\n",
      "Epoch 11/20\n",
      "9/9 [==============================] - 0s 48ms/step - loss: 0.9941 - accuracy: 0.9351 - val_loss: 1.3552 - val_accuracy: 0.8485\n",
      "Epoch 12/20\n",
      "9/9 [==============================] - 0s 50ms/step - loss: 0.9941 - accuracy: 0.9351 - val_loss: 1.3552 - val_accuracy: 0.8485\n",
      "Epoch 13/20\n",
      "9/9 [==============================] - 0s 49ms/step - loss: 0.9941 - accuracy: 0.9351 - val_loss: 1.3552 - val_accuracy: 0.8485\n",
      "Epoch 14/20\n",
      "9/9 [==============================] - 0s 49ms/step - loss: 0.9941 - accuracy: 0.9351 - val_loss: 1.3552 - val_accuracy: 0.8485\n",
      "Epoch 15/20\n",
      "9/9 [==============================] - 0s 48ms/step - loss: 0.9941 - accuracy: 0.9351 - val_loss: 1.3552 - val_accuracy: 0.8485\n",
      "Epoch 16/20\n",
      "9/9 [==============================] - 0s 50ms/step - loss: 0.9941 - accuracy: 0.9351 - val_loss: 1.3552 - val_accuracy: 0.8485\n",
      "Epoch 17/20\n",
      "9/9 [==============================] - 0s 50ms/step - loss: 0.9941 - accuracy: 0.9351 - val_loss: 1.3552 - val_accuracy: 0.8485\n",
      "Epoch 18/20\n",
      "9/9 [==============================] - 0s 52ms/step - loss: 0.9941 - accuracy: 0.9351 - val_loss: 1.3552 - val_accuracy: 0.8485\n",
      "Epoch 19/20\n",
      "9/9 [==============================] - 0s 50ms/step - loss: 0.9941 - accuracy: 0.9351 - val_loss: 1.3552 - val_accuracy: 0.8485\n",
      "Epoch 20/20\n",
      "9/9 [==============================] - 0s 52ms/step - loss: 0.9941 - accuracy: 0.9351 - val_loss: 1.3552 - val_accuracy: 0.8485\n"
     ]
    }
   ],
   "source": [
    "jude = model_output(jude_s1,jude_s11)"
   ]
  },
  {
   "cell_type": "code",
   "execution_count": 61,
   "metadata": {
    "colab": {
     "base_uri": "https://localhost:8080/"
    },
    "id": "JYlQxMsloBFN",
    "outputId": "fd2d5355-6e9b-427a-cc4a-871ffbef8fc1"
   },
   "outputs": [
    {
     "name": "stdout",
     "output_type": "stream",
     "text": [
      "Epoch 1/20\n",
      "59/59 [==============================] - 5s 77ms/step - loss: 1.0136 - accuracy: 0.9153 - val_loss: 0.8629 - val_accuracy: 0.9208\n",
      "Epoch 2/20\n",
      "59/59 [==============================] - 3s 53ms/step - loss: 0.9385 - accuracy: 0.9298 - val_loss: 0.9480 - val_accuracy: 0.9251\n",
      "Epoch 3/20\n",
      "59/59 [==============================] - 3s 53ms/step - loss: 0.9071 - accuracy: 0.9351 - val_loss: 0.8661 - val_accuracy: 0.9400\n",
      "Epoch 4/20\n",
      "59/59 [==============================] - 3s 53ms/step - loss: 0.8695 - accuracy: 0.9399 - val_loss: 0.8704 - val_accuracy: 0.9358\n",
      "Epoch 5/20\n",
      "59/59 [==============================] - 3s 53ms/step - loss: 0.8572 - accuracy: 0.9389 - val_loss: 0.8355 - val_accuracy: 0.9251\n",
      "Epoch 6/20\n",
      "59/59 [==============================] - 3s 53ms/step - loss: 0.8167 - accuracy: 0.9357 - val_loss: 0.9277 - val_accuracy: 0.9143\n",
      "Epoch 7/20\n",
      "59/59 [==============================] - 3s 53ms/step - loss: 0.7642 - accuracy: 0.9442 - val_loss: 0.9481 - val_accuracy: 0.9122\n",
      "Epoch 8/20\n",
      "59/59 [==============================] - 3s 53ms/step - loss: 0.7278 - accuracy: 0.9480 - val_loss: 1.0345 - val_accuracy: 0.9101\n",
      "Epoch 9/20\n",
      "59/59 [==============================] - 3s 53ms/step - loss: 0.7099 - accuracy: 0.9507 - val_loss: 0.9569 - val_accuracy: 0.9101\n",
      "Epoch 10/20\n",
      "59/59 [==============================] - 3s 52ms/step - loss: 0.7173 - accuracy: 0.9491 - val_loss: 0.9764 - val_accuracy: 0.9058\n",
      "Epoch 11/20\n",
      "59/59 [==============================] - 3s 54ms/step - loss: 0.7049 - accuracy: 0.9491 - val_loss: 0.9412 - val_accuracy: 0.9036\n",
      "Epoch 12/20\n",
      "59/59 [==============================] - 3s 55ms/step - loss: 0.6581 - accuracy: 0.9507 - val_loss: 1.0132 - val_accuracy: 0.8972\n",
      "Epoch 13/20\n",
      "59/59 [==============================] - 3s 53ms/step - loss: 0.6605 - accuracy: 0.9539 - val_loss: 1.0749 - val_accuracy: 0.9036\n",
      "Epoch 14/20\n",
      "59/59 [==============================] - 3s 54ms/step - loss: 0.6660 - accuracy: 0.9517 - val_loss: 1.0386 - val_accuracy: 0.9079\n",
      "Epoch 15/20\n",
      "59/59 [==============================] - 3s 54ms/step - loss: 0.6505 - accuracy: 0.9560 - val_loss: 1.0425 - val_accuracy: 0.9015\n",
      "Epoch 16/20\n",
      "59/59 [==============================] - 3s 53ms/step - loss: 0.6401 - accuracy: 0.9576 - val_loss: 1.0331 - val_accuracy: 0.9165\n",
      "Epoch 17/20\n",
      "59/59 [==============================] - 3s 53ms/step - loss: 0.6202 - accuracy: 0.9571 - val_loss: 1.0074 - val_accuracy: 0.9079\n",
      "Epoch 18/20\n",
      "59/59 [==============================] - 3s 54ms/step - loss: 0.6270 - accuracy: 0.9571 - val_loss: 0.9479 - val_accuracy: 0.9036\n",
      "Epoch 19/20\n",
      "59/59 [==============================] - 3s 54ms/step - loss: 0.6253 - accuracy: 0.9582 - val_loss: 0.9662 - val_accuracy: 0.9058\n",
      "Epoch 20/20\n",
      "59/59 [==============================] - 3s 54ms/step - loss: 0.6348 - accuracy: 0.9560 - val_loss: 1.0687 - val_accuracy: 0.9101\n"
     ]
    }
   ],
   "source": [
    "paul = model_output(pl_s1,pl_s11)"
   ]
  },
  {
   "cell_type": "code",
   "execution_count": 62,
   "metadata": {
    "id": "a7ohAuN4x1uq"
   },
   "outputs": [],
   "source": [
    "au_loss = {'Matthew_book':matthewbook.history['loss'],'Mark_book':markbook.history['loss'],'Luke_book':lukebook.history['loss'],'John_book':johnbook.history['loss'],\n",
    "           'Paul_book':paul.history['loss'],'James_book':jams.history['loss'],'Jude_book':jude.history['loss'],'Peter_book':peter.history['loss']}\n",
    "SBL_loss = DataFrame(au_loss)\n",
    "\n",
    "au_val_loss = {'Matthew_book':matthewbook.history['val_loss'],'Mark_book':markbook.history['val_loss'],'Luke_book':lukebook.history['val_loss'],'John_book':johnbook.history['val_loss'],\n",
    "           'Paul_book':paul.history['val_loss'],'James_book':jams.history['val_loss'],'Jude_book':jude.history['val_loss'],'Peter_book':peter.history['val_loss']}\n",
    "SBL_val_loss = DataFrame(au_val_loss)\n",
    "\n",
    "au_accuracy = {'Matthew_book':matthewbook.history['accuracy'],'Mark_book':markbook.history['accuracy'],'Luke_book':lukebook.history['accuracy'],'John_book':johnbook.history['accuracy'],\n",
    "           'Paul_book':paul.history['accuracy'],'James_book':jams.history['accuracy'],'Jude_book':jude.history['accuracy'],'Peter_book':peter.history['accuracy']}\n",
    "SBL_accuracy = DataFrame(au_accuracy)\n",
    "\n",
    "au_val_accuracy = {'Matthew_book':matthewbook.history['val_accuracy'],'Mark_book':markbook.history['val_accuracy'],'Luke_book':lukebook.history['val_accuracy'],'John_book':johnbook.history['val_accuracy'],\n",
    "           'Paul_book':paul.history['val_accuracy'],'James_book':jams.history['val_accuracy'],'Jude_book':jude.history['val_accuracy'],'Peter_book':peter.history['val_accuracy']}\n",
    "SBL_val_accuracy = DataFrame(au_val_accuracy)"
   ]
  },
  {
   "cell_type": "code",
   "execution_count": 63,
   "metadata": {
    "id": "arYuBI3myLlF"
   },
   "outputs": [],
   "source": [
    "sbl_loss.to_excel('author SBL LOSS.xlsx',encoding = 'utf-8', index = False)\n",
    "sbl_accuracy.to_excel('author SBL ACCURACY.xlsx',encoding = 'utf-8', index = False)  \n",
    "sbl_val_loss.to_excel('author SBL VALIDATION LOSS.xlsx',encoding = 'utf-8', index = False)  \n",
    "sbl_val_accuracy.to_excel('author SBL VALIDATION ACCURACY.xlsx',encoding = 'utf-8', index = False)  "
   ]
  },
  {
   "cell_type": "code",
   "execution_count": 64,
   "metadata": {
    "colab": {
     "base_uri": "https://localhost:8080/",
     "height": 295
    },
    "id": "QBfrDYfxypDB",
    "outputId": "d0637b5f-87e8-4097-c5fc-e2318ecdd3fe"
   },
   "outputs": [
    {
     "data": {
      "image/png": "[encoded data removed]",
      "text/plain": [
       "<Figure size 432x288 with 1 Axes>"
      ]
     },
     "metadata": {
      "needs_background": "light",
      "tags": []
     },
     "output_type": "display_data"
    }
   ],
   "source": [
    "matthewvac = matthewbook.history['val_accuracy']\n",
    "markvac = markbook.history['val_accuracy']\n",
    "lukevac = lukebook.history['val_accuracy']\n",
    "johnvac = johnbook.history['val_accuracy']\n",
    "paulvac = paul.history['val_accuracy']\n",
    "petervac = peter.history['val_accuracy']\n",
    "judevac = jude.history['val_accuracy']\n",
    "jamesvac = jams.history['val_accuracy']\n",
    "\n",
    "epochs = range(1, len(matvac) + 1)\n",
    "\n",
    "plt.plot(epochs, matthewvac, 'b', label='matthew')\n",
    "plt.plot(epochs, markvac, 'r', label='mark')\n",
    "plt.plot(epochs, lukevac, 'y', label='luke')\n",
    "plt.plot(epochs, johnvac, 'g', label='john')\n",
    "plt.plot(epochs, paulvac, 'coral', label='paul')\n",
    "plt.plot(epochs, petervac, 'm', label='peter')\n",
    "plt.plot(epochs, judevac, 'c', label='jude')\n",
    "plt.plot(epochs, jamesvac, 'k', label='james')\n",
    "\n",
    "plt.title('SBL writing style validation accuracy author')\n",
    "plt.xlabel('Epochs')\n",
    "plt.ylabel('Loss')\n",
    "plt.legend()\n",
    "\n",
    "plt.show()"
   ]
  },
  {
   "cell_type": "code",
   "execution_count": null,
   "metadata": {
    "id": "GDHBM2BW41xx"
   },
   "outputs": [],
   "source": []
  },
  {
   "cell_type": "markdown",
   "metadata": {
    "id": "3FW55ioxzWuo"
   },
   "source": [
    "## Tyndale_version"
   ]
  },
  {
   "cell_type": "code",
   "execution_count": 67,
   "metadata": {
    "id": "Yi9P7npMzWup"
   },
   "outputs": [],
   "source": [
    "Matthew = df3[df3.BookName == 'Matthew']\n",
    "Matthew['Author'] = 'Matthew'\n",
    "Mark = df3[df3.BookName == 'Mark']\n",
    "Mark['Author'] = 'Mark'\n",
    "Luke = df3[df3.BookName == 'Luke']\n",
    "Luke['Author'] = 'Luke'\n",
    "John = df3[df3.BookName == 'John']\n",
    "John['Author'] = 'John'\n",
    "Acts = df3[df3.BookName == 'Acta']\n",
    "Acts['Author'] = 'Luke'\n",
    "Luke_Book = pd.concat([Luke,Acts],axis = 0)\n",
    "James = df3[df3.BookName == 'Jamss']\n",
    "James['Author'] = 'James'\n",
    "f_Peter = df3[df3.BookName == '1Peter']\n",
    "s_Peter = df3[df3.BookName == '2Peter']\n",
    "f_Peter['Author'] = 'Peter'\n",
    "s_Peter['Author'] = 'Peter'\n",
    "Peter_letter = pd.concat([f_Peter, s_Peter], axis = 0)\n",
    "\n",
    "f_John = df3[df3.BookName == '1John']\n",
    "s_John = df3[df3.BookName == '2John']\n",
    "t_John = df3[df3.BookName == '3John']\n",
    "f_John['Author'] = 'John'\n",
    "s_John['Author'] = 'John'\n",
    "t_John['Author'] = 'John'\n",
    "John_letter = pd.concat([f_John, s_John, t_John], axis = 0)\n",
    "\n",
    "Jude = df3[df3.BookName == 'Jude']\n",
    "Jude['Author'] = 'Jude'\n",
    "Rev = df3[df3.BookName == 'Revelation']\n",
    "Rev['Author'] = 'John'\n",
    "John_Book = pd.concat([John,John_letter,Rev],axis = 0)"
   ]
  },
  {
   "cell_type": "code",
   "execution_count": 68,
   "metadata": {
    "id": "4WzC_Q_5zWup"
   },
   "outputs": [],
   "source": [
    "Romans = df3[df3.BookName == 'Romans']\n",
    "Romans['Author'] = 'Paul'\n",
    "f_cor = df3[df3.BookName == '1Corinthians']\n",
    "f_cor['Author'] = 'Paul'\n",
    "s_cor = df3[df3.BookName == '2Corinthians']\n",
    "s_cor['Author'] = 'Paul'\n",
    "Gal = df3[df3.BookName == 'Galatians']\n",
    "Gal['Author'] = 'Paul'\n",
    "Eph = df3[df3.BookName == 'Ephesians']\n",
    "Eph['Author'] = 'Paul'\n",
    "Phi = df3[df3.BookName == 'Philippians']\n",
    "Phi['Author'] = 'Paul'\n",
    "Col = df3[df3.BookName == 'Colossians']\n",
    "Col['Author'] = 'Paul'\n",
    "f_the = df3[df3.BookName == '1Thessalonians']\n",
    "f_the['Author'] = 'Paul'\n",
    "s_the = df3[df3.BookName == '2Thessalonians']\n",
    "s_the['Author'] = 'Paul'\n",
    "f_tim = df3[df3.BookName == '1Timothy']\n",
    "f_tim['Author'] = 'Paul'\n",
    "s_tim = df3[df3.BookName == '2Timothy']\n",
    "s_tim['Author'] = 'Paul'\n",
    "Titus = df3[df3.BookName == 'Titus']\n",
    "Titus['Author'] = 'Paul'\n",
    "Philemon = df3[df3.BookName == 'Philemon']\n",
    "Philemon['Author'] = 'Paul'\n",
    "Paul_letters = pd.concat([Romans,f_cor,s_cor,Gal,Eph,Phi,Col,f_the,s_the,f_tim,s_tim,Titus,Philemon],axis = 0)\n",
    "Heb = df3[df3.BookName == 'Hebrews']\n",
    "Heb['Author'] = 'Paul?'"
   ]
  },
  {
   "cell_type": "code",
   "execution_count": 69,
   "metadata": {
    "id": "8LzONZe5zWuq"
   },
   "outputs": [],
   "source": [
    "g1 = cosine_text(Matthew)\n",
    "g2 = cosine_text(Mark)\n",
    "g3 = cosine_text(Luke)\n",
    "g4 = cosine_text(John)\n",
    "acts = cosine_text(Acts)\n",
    "rms = cosine_text(Romans)\n",
    "fcor = cosine_text(f_cor)\n",
    "scor = cosine_text(s_cor)\n",
    "gal = cosine_text(Gal)\n",
    "eph = cosine_text(Eph)\n",
    "phi = cosine_text(Phi)\n",
    "col = cosine_text(Col)\n",
    "fthe = cosine_text(f_the)\n",
    "sthe = cosine_text(s_the)\n",
    "ftim = cosine_text(f_tim)\n",
    "stim = cosine_text(s_tim)\n",
    "titus = cosine_text(Titus)\n",
    "philemon = cosine_text(Philemon)\n",
    "jams = cosine_text(James)\n",
    "fpet = cosine_text(f_Peter)\n",
    "spet = cosine_text(s_Peter)\n",
    "fjohn = cosine_text(f_John)\n",
    "sjohn = cosine_text(s_John)\n",
    "tjohn = cosine_text(t_John.dropna())\n",
    "jud = cosine_text(Jude)\n",
    "rev = cosine_text(Rev)"
   ]
  },
  {
   "cell_type": "code",
   "execution_count": 70,
   "metadata": {
    "id": "UlofryOnzWuq"
   },
   "outputs": [],
   "source": [
    "g11 = text_author(Matthew)\n",
    "g21 = text_author(Mark)\n",
    "g31 = text_author(Luke)\n",
    "g41 = text_author(John)\n",
    "acts1 = text_author(Acts)\n",
    "rms1 = text_author(Romans)\n",
    "fcor1 = text_author(f_cor)\n",
    "scor1 = text_author(s_cor)\n",
    "gal1 = text_author(Gal)\n",
    "eph1 = text_author(Eph)\n",
    "phi1 = text_author(Phi)\n",
    "col1 = text_author(Col)\n",
    "fthe1 = text_author(f_the)\n",
    "sthe1 = text_author(s_the)\n",
    "ftim1 = text_author(f_tim)\n",
    "stim1 = text_author(s_tim)\n",
    "titus1 = text_author(Titus)\n",
    "philemon1 = text_author(Philemon)\n",
    "jams1 = text_author(James)\n",
    "fpet1 = text_author(f_Peter)\n",
    "spet1 = text_author(s_Peter)\n",
    "fjohn1 = text_author(f_John)\n",
    "sjohn1 = text_author(s_John)\n",
    "tjohn1 = text_author(t_John.dropna())\n",
    "jud1 = text_author(Jude)\n",
    "rev1 = text_author(Rev)"
   ]
  },
  {
   "cell_type": "code",
   "execution_count": 71,
   "metadata": {
    "colab": {
     "base_uri": "https://localhost:8080/"
    },
    "id": "J6Bzhv1BzWuq",
    "outputId": "adadf3a5-3739-4cbe-e80a-6ae323b8e3b2"
   },
   "outputs": [
    {
     "name": "stdout",
     "output_type": "stream",
     "text": [
      "Epoch 1/20\n",
      "35/35 [==============================] - 3s 100ms/step - loss: 3.4433 - accuracy: 0.7572 - val_loss: 2.6838 - val_accuracy: 0.8080\n",
      "Epoch 2/20\n",
      "35/35 [==============================] - 2s 52ms/step - loss: 3.3659 - accuracy: 0.7717 - val_loss: 2.6918 - val_accuracy: 0.8116\n",
      "Epoch 3/20\n",
      "35/35 [==============================] - 2s 52ms/step - loss: 3.3287 - accuracy: 0.7772 - val_loss: 2.7371 - val_accuracy: 0.8080\n",
      "Epoch 4/20\n",
      "35/35 [==============================] - 2s 53ms/step - loss: 3.3102 - accuracy: 0.7799 - val_loss: 2.7191 - val_accuracy: 0.7935\n",
      "Epoch 5/20\n",
      "35/35 [==============================] - 2s 53ms/step - loss: 3.2816 - accuracy: 0.7817 - val_loss: 2.6238 - val_accuracy: 0.8188\n",
      "Epoch 6/20\n",
      "35/35 [==============================] - 2s 53ms/step - loss: 3.1993 - accuracy: 0.7808 - val_loss: 2.4370 - val_accuracy: 0.8225\n",
      "Epoch 7/20\n",
      "35/35 [==============================] - 2s 53ms/step - loss: 3.1351 - accuracy: 0.7889 - val_loss: 2.4764 - val_accuracy: 0.8225\n",
      "Epoch 8/20\n",
      "35/35 [==============================] - 2s 53ms/step - loss: 3.1159 - accuracy: 0.7926 - val_loss: 2.5254 - val_accuracy: 0.8261\n",
      "Epoch 9/20\n",
      "35/35 [==============================] - 2s 54ms/step - loss: 3.1149 - accuracy: 0.7926 - val_loss: 2.4726 - val_accuracy: 0.8225\n",
      "Epoch 10/20\n",
      "35/35 [==============================] - 2s 54ms/step - loss: 3.0756 - accuracy: 0.7953 - val_loss: 2.4340 - val_accuracy: 0.8152\n",
      "Epoch 11/20\n",
      "35/35 [==============================] - 2s 53ms/step - loss: 3.0370 - accuracy: 0.7962 - val_loss: 2.6533 - val_accuracy: 0.8080\n",
      "Epoch 12/20\n",
      "35/35 [==============================] - 2s 54ms/step - loss: 2.9846 - accuracy: 0.8007 - val_loss: 2.5887 - val_accuracy: 0.8043\n",
      "Epoch 13/20\n",
      "35/35 [==============================] - 2s 53ms/step - loss: 2.8720 - accuracy: 0.8016 - val_loss: 2.3406 - val_accuracy: 0.8152\n",
      "Epoch 14/20\n",
      "35/35 [==============================] - 2s 54ms/step - loss: 2.8434 - accuracy: 0.8016 - val_loss: 2.6404 - val_accuracy: 0.8152\n",
      "Epoch 15/20\n",
      "35/35 [==============================] - 2s 54ms/step - loss: 2.7344 - accuracy: 0.8107 - val_loss: 2.4750 - val_accuracy: 0.8188\n",
      "Epoch 16/20\n",
      "35/35 [==============================] - 2s 54ms/step - loss: 2.7379 - accuracy: 0.8134 - val_loss: 2.5158 - val_accuracy: 0.8297\n",
      "Epoch 17/20\n",
      "35/35 [==============================] - 2s 54ms/step - loss: 2.6107 - accuracy: 0.8234 - val_loss: 2.4672 - val_accuracy: 0.8297\n",
      "Epoch 18/20\n",
      "35/35 [==============================] - 2s 54ms/step - loss: 2.6006 - accuracy: 0.8279 - val_loss: 2.4237 - val_accuracy: 0.8261\n",
      "Epoch 19/20\n",
      "35/35 [==============================] - 2s 54ms/step - loss: 2.4717 - accuracy: 0.8207 - val_loss: 2.6106 - val_accuracy: 0.8080\n",
      "Epoch 20/20\n",
      "35/35 [==============================] - 2s 54ms/step - loss: 2.4285 - accuracy: 0.8351 - val_loss: 2.6412 - val_accuracy: 0.8152\n"
     ]
    }
   ],
   "source": [
    "mat = model_output(g1,g11)"
   ]
  },
  {
   "cell_type": "code",
   "execution_count": 72,
   "metadata": {
    "colab": {
     "base_uri": "https://localhost:8080/"
    },
    "id": "miGxGXJ9zWus",
    "outputId": "063e2753-539a-475b-fbd2-d8fb65180653"
   },
   "outputs": [
    {
     "name": "stdout",
     "output_type": "stream",
     "text": [
      "Epoch 1/20\n",
      "25/25 [==============================] - 3s 115ms/step - loss: 4.0607 - accuracy: 0.6955 - val_loss: 4.5756 - val_accuracy: 0.6701\n",
      "Epoch 2/20\n",
      "25/25 [==============================] - 1s 52ms/step - loss: 3.9802 - accuracy: 0.7325 - val_loss: 4.2743 - val_accuracy: 0.6853\n",
      "Epoch 3/20\n",
      "25/25 [==============================] - 1s 53ms/step - loss: 3.8926 - accuracy: 0.7338 - val_loss: 4.1209 - val_accuracy: 0.6904\n",
      "Epoch 4/20\n",
      "25/25 [==============================] - 1s 52ms/step - loss: 3.7320 - accuracy: 0.7376 - val_loss: 3.9518 - val_accuracy: 0.6802\n",
      "Epoch 5/20\n",
      "25/25 [==============================] - 1s 51ms/step - loss: 3.6484 - accuracy: 0.7389 - val_loss: 3.9672 - val_accuracy: 0.7056\n",
      "Epoch 6/20\n",
      "25/25 [==============================] - 1s 53ms/step - loss: 3.3857 - accuracy: 0.7605 - val_loss: 3.9737 - val_accuracy: 0.7056\n",
      "Epoch 7/20\n",
      "25/25 [==============================] - 1s 53ms/step - loss: 3.3315 - accuracy: 0.7656 - val_loss: 4.0287 - val_accuracy: 0.7056\n",
      "Epoch 8/20\n",
      "25/25 [==============================] - 1s 53ms/step - loss: 3.2737 - accuracy: 0.7669 - val_loss: 3.9039 - val_accuracy: 0.7056\n",
      "Epoch 9/20\n",
      "25/25 [==============================] - 1s 53ms/step - loss: 3.2030 - accuracy: 0.7783 - val_loss: 3.9595 - val_accuracy: 0.7107\n",
      "Epoch 10/20\n",
      "25/25 [==============================] - 1s 52ms/step - loss: 3.1845 - accuracy: 0.7860 - val_loss: 3.8887 - val_accuracy: 0.7107\n",
      "Epoch 11/20\n",
      "25/25 [==============================] - 1s 52ms/step - loss: 3.1077 - accuracy: 0.7898 - val_loss: 3.8112 - val_accuracy: 0.7056\n",
      "Epoch 12/20\n",
      "25/25 [==============================] - 1s 53ms/step - loss: 3.1145 - accuracy: 0.7962 - val_loss: 3.9485 - val_accuracy: 0.7056\n",
      "Epoch 13/20\n",
      "25/25 [==============================] - 1s 54ms/step - loss: 3.1430 - accuracy: 0.7885 - val_loss: 3.8560 - val_accuracy: 0.7259\n",
      "Epoch 14/20\n",
      "25/25 [==============================] - 1s 52ms/step - loss: 3.0958 - accuracy: 0.7936 - val_loss: 3.7917 - val_accuracy: 0.7208\n",
      "Epoch 15/20\n",
      "25/25 [==============================] - 1s 54ms/step - loss: 3.0929 - accuracy: 0.7975 - val_loss: 4.0002 - val_accuracy: 0.7107\n",
      "Epoch 16/20\n",
      "25/25 [==============================] - 1s 54ms/step - loss: 3.1405 - accuracy: 0.7898 - val_loss: 3.7315 - val_accuracy: 0.7056\n",
      "Epoch 17/20\n",
      "25/25 [==============================] - 1s 54ms/step - loss: 3.0485 - accuracy: 0.7962 - val_loss: 4.0350 - val_accuracy: 0.6954\n",
      "Epoch 18/20\n",
      "25/25 [==============================] - 1s 58ms/step - loss: 3.0235 - accuracy: 0.7962 - val_loss: 4.0944 - val_accuracy: 0.6954\n",
      "Epoch 19/20\n",
      "25/25 [==============================] - 1s 53ms/step - loss: 2.9977 - accuracy: 0.8025 - val_loss: 3.8930 - val_accuracy: 0.7005\n",
      "Epoch 20/20\n",
      "25/25 [==============================] - 1s 54ms/step - loss: 3.0391 - accuracy: 0.7975 - val_loss: 4.2434 - val_accuracy: 0.6954\n"
     ]
    }
   ],
   "source": [
    "mak = model_output(g2,g21)"
   ]
  },
  {
   "cell_type": "code",
   "execution_count": 73,
   "metadata": {
    "colab": {
     "base_uri": "https://localhost:8080/"
    },
    "id": "MiRLgfa-zWus",
    "outputId": "a38f0c55-ef92-489f-9bb4-d573db3afd48"
   },
   "outputs": [
    {
     "name": "stdout",
     "output_type": "stream",
     "text": [
      "Epoch 1/20\n",
      "37/37 [==============================] - 4s 95ms/step - loss: 2.6263 - accuracy: 0.8022 - val_loss: 2.4938 - val_accuracy: 0.8185\n",
      "Epoch 2/20\n",
      "37/37 [==============================] - 2s 55ms/step - loss: 2.4779 - accuracy: 0.8236 - val_loss: 2.6328 - val_accuracy: 0.8185\n",
      "Epoch 3/20\n",
      "37/37 [==============================] - 2s 54ms/step - loss: 2.3485 - accuracy: 0.8373 - val_loss: 2.7634 - val_accuracy: 0.8048\n",
      "Epoch 4/20\n",
      "37/37 [==============================] - 2s 55ms/step - loss: 2.3336 - accuracy: 0.8425 - val_loss: 2.5228 - val_accuracy: 0.8082\n",
      "Epoch 5/20\n",
      "37/37 [==============================] - 2s 54ms/step - loss: 2.2454 - accuracy: 0.8502 - val_loss: 2.5370 - val_accuracy: 0.8151\n",
      "Epoch 6/20\n",
      "37/37 [==============================] - 2s 54ms/step - loss: 2.2191 - accuracy: 0.8502 - val_loss: 2.6434 - val_accuracy: 0.8082\n",
      "Epoch 7/20\n",
      "37/37 [==============================] - 2s 55ms/step - loss: 2.1261 - accuracy: 0.8527 - val_loss: 2.4793 - val_accuracy: 0.8082\n",
      "Epoch 8/20\n",
      "37/37 [==============================] - 2s 55ms/step - loss: 2.1219 - accuracy: 0.8536 - val_loss: 2.6136 - val_accuracy: 0.8048\n",
      "Epoch 9/20\n",
      "37/37 [==============================] - 2s 54ms/step - loss: 2.1088 - accuracy: 0.8596 - val_loss: 2.5391 - val_accuracy: 0.8219\n",
      "Epoch 10/20\n",
      "37/37 [==============================] - 2s 54ms/step - loss: 2.0835 - accuracy: 0.8562 - val_loss: 2.5408 - val_accuracy: 0.8219\n",
      "Epoch 11/20\n",
      "37/37 [==============================] - 2s 56ms/step - loss: 2.0483 - accuracy: 0.8613 - val_loss: 2.5899 - val_accuracy: 0.8151\n",
      "Epoch 12/20\n",
      "37/37 [==============================] - 2s 55ms/step - loss: 2.0418 - accuracy: 0.8656 - val_loss: 2.4974 - val_accuracy: 0.8116\n",
      "Epoch 13/20\n",
      "37/37 [==============================] - 2s 55ms/step - loss: 2.0374 - accuracy: 0.8630 - val_loss: 2.6041 - val_accuracy: 0.8185\n",
      "Epoch 14/20\n",
      "37/37 [==============================] - 2s 55ms/step - loss: 2.0050 - accuracy: 0.8673 - val_loss: 2.5395 - val_accuracy: 0.8151\n",
      "Epoch 15/20\n",
      "37/37 [==============================] - 2s 55ms/step - loss: 2.0066 - accuracy: 0.8639 - val_loss: 2.5310 - val_accuracy: 0.8253\n",
      "Epoch 16/20\n",
      "37/37 [==============================] - 2s 55ms/step - loss: 2.0156 - accuracy: 0.8656 - val_loss: 2.5888 - val_accuracy: 0.8185\n",
      "Epoch 17/20\n",
      "37/37 [==============================] - 2s 55ms/step - loss: 2.0543 - accuracy: 0.8596 - val_loss: 2.7023 - val_accuracy: 0.8048\n",
      "Epoch 18/20\n",
      "37/37 [==============================] - 2s 55ms/step - loss: 2.0053 - accuracy: 0.8656 - val_loss: 2.6926 - val_accuracy: 0.8082\n",
      "Epoch 19/20\n",
      "37/37 [==============================] - 2s 55ms/step - loss: 1.9861 - accuracy: 0.8699 - val_loss: 2.5997 - val_accuracy: 0.8116\n",
      "Epoch 20/20\n",
      "37/37 [==============================] - 2s 55ms/step - loss: 1.9506 - accuracy: 0.8664 - val_loss: 2.6500 - val_accuracy: 0.8014\n"
     ]
    }
   ],
   "source": [
    "luk = model_output(g3,g31)"
   ]
  },
  {
   "cell_type": "code",
   "execution_count": 74,
   "metadata": {
    "colab": {
     "base_uri": "https://localhost:8080/"
    },
    "id": "BmYkyM8XzWus",
    "outputId": "d9c5fb60-2349-4cad-c9de-1483ec5515b1"
   },
   "outputs": [
    {
     "name": "stdout",
     "output_type": "stream",
     "text": [
      "Epoch 1/20\n",
      "30/30 [==============================] - 3s 106ms/step - loss: 2.5639 - accuracy: 0.8140 - val_loss: 3.2328 - val_accuracy: 0.7679\n",
      "Epoch 2/20\n",
      "30/30 [==============================] - 2s 54ms/step - loss: 2.4500 - accuracy: 0.8351 - val_loss: 3.3980 - val_accuracy: 0.7553\n",
      "Epoch 3/20\n",
      "30/30 [==============================] - 2s 54ms/step - loss: 2.3749 - accuracy: 0.8288 - val_loss: 3.1106 - val_accuracy: 0.7595\n",
      "Epoch 4/20\n",
      "30/30 [==============================] - 2s 54ms/step - loss: 2.2423 - accuracy: 0.8467 - val_loss: 3.0449 - val_accuracy: 0.7679\n",
      "Epoch 5/20\n",
      "30/30 [==============================] - 2s 55ms/step - loss: 2.1437 - accuracy: 0.8531 - val_loss: 3.3951 - val_accuracy: 0.7595\n",
      "Epoch 6/20\n",
      "30/30 [==============================] - 2s 54ms/step - loss: 2.1024 - accuracy: 0.8541 - val_loss: 3.1679 - val_accuracy: 0.7637\n",
      "Epoch 7/20\n",
      "30/30 [==============================] - 2s 55ms/step - loss: 2.0069 - accuracy: 0.8531 - val_loss: 2.9906 - val_accuracy: 0.7553\n",
      "Epoch 8/20\n",
      "30/30 [==============================] - 2s 54ms/step - loss: 1.9326 - accuracy: 0.8531 - val_loss: 2.9516 - val_accuracy: 0.7595\n",
      "Epoch 9/20\n",
      "30/30 [==============================] - 2s 55ms/step - loss: 1.8727 - accuracy: 0.8626 - val_loss: 2.9500 - val_accuracy: 0.7595\n",
      "Epoch 10/20\n",
      "30/30 [==============================] - 2s 55ms/step - loss: 1.8417 - accuracy: 0.8721 - val_loss: 3.0156 - val_accuracy: 0.7468\n",
      "Epoch 11/20\n",
      "30/30 [==============================] - 2s 54ms/step - loss: 1.8039 - accuracy: 0.8784 - val_loss: 3.0559 - val_accuracy: 0.7595\n",
      "Epoch 12/20\n",
      "30/30 [==============================] - 2s 54ms/step - loss: 1.7790 - accuracy: 0.8753 - val_loss: 2.8539 - val_accuracy: 0.7764\n",
      "Epoch 13/20\n",
      "30/30 [==============================] - 2s 55ms/step - loss: 1.7541 - accuracy: 0.8805 - val_loss: 3.0009 - val_accuracy: 0.7595\n",
      "Epoch 14/20\n",
      "30/30 [==============================] - 2s 56ms/step - loss: 1.7137 - accuracy: 0.8784 - val_loss: 2.8978 - val_accuracy: 0.7806\n",
      "Epoch 15/20\n",
      "30/30 [==============================] - 2s 55ms/step - loss: 1.6406 - accuracy: 0.8890 - val_loss: 3.0340 - val_accuracy: 0.7806\n",
      "Epoch 16/20\n",
      "30/30 [==============================] - 2s 55ms/step - loss: 1.5845 - accuracy: 0.8953 - val_loss: 3.0971 - val_accuracy: 0.7764\n",
      "Epoch 17/20\n",
      "30/30 [==============================] - 2s 55ms/step - loss: 1.5495 - accuracy: 0.8911 - val_loss: 2.9321 - val_accuracy: 0.7637\n",
      "Epoch 18/20\n",
      "30/30 [==============================] - 2s 55ms/step - loss: 1.5669 - accuracy: 0.8964 - val_loss: 3.0108 - val_accuracy: 0.7595\n",
      "Epoch 19/20\n",
      "30/30 [==============================] - 2s 56ms/step - loss: 1.5363 - accuracy: 0.8975 - val_loss: 3.0981 - val_accuracy: 0.7595\n",
      "Epoch 20/20\n",
      "30/30 [==============================] - 2s 55ms/step - loss: 1.5349 - accuracy: 0.8996 - val_loss: 3.0243 - val_accuracy: 0.7468\n"
     ]
    }
   ],
   "source": [
    "joh = model_output(g4,g41)"
   ]
  },
  {
   "cell_type": "code",
   "execution_count": 75,
   "metadata": {
    "colab": {
     "base_uri": "https://localhost:8080/"
    },
    "id": "mN40J2h4zWus",
    "outputId": "246b293f-3230-428f-c197-a00653a58dcd"
   },
   "outputs": [
    {
     "name": "stdout",
     "output_type": "stream",
     "text": [
      "Epoch 1/20\n",
      "8/8 [==============================] - 2s 241ms/step - loss: 6.3633 - accuracy: 0.4938 - val_loss: 2.3050 - val_accuracy: 0.8197\n",
      "Epoch 2/20\n",
      "8/8 [==============================] - 0s 51ms/step - loss: 3.5602 - accuracy: 0.7243 - val_loss: 1.0924 - val_accuracy: 0.8852\n",
      "Epoch 3/20\n",
      "8/8 [==============================] - 0s 49ms/step - loss: 2.5364 - accuracy: 0.8025 - val_loss: 0.8062 - val_accuracy: 0.9344\n",
      "Epoch 4/20\n",
      "8/8 [==============================] - 0s 52ms/step - loss: 1.8231 - accuracy: 0.8477 - val_loss: 0.7730 - val_accuracy: 0.9344\n",
      "Epoch 5/20\n",
      "8/8 [==============================] - 0s 49ms/step - loss: 1.4713 - accuracy: 0.8971 - val_loss: 0.7668 - val_accuracy: 0.9508\n",
      "Epoch 6/20\n",
      "8/8 [==============================] - 0s 52ms/step - loss: 1.3898 - accuracy: 0.9053 - val_loss: 0.5339 - val_accuracy: 0.9508\n",
      "Epoch 7/20\n",
      "8/8 [==============================] - 0s 51ms/step - loss: 1.3806 - accuracy: 0.9095 - val_loss: 0.5339 - val_accuracy: 0.9508\n",
      "Epoch 8/20\n",
      "8/8 [==============================] - 0s 50ms/step - loss: 1.3806 - accuracy: 0.9095 - val_loss: 0.5339 - val_accuracy: 0.9508\n",
      "Epoch 9/20\n",
      "8/8 [==============================] - 0s 51ms/step - loss: 1.3806 - accuracy: 0.9095 - val_loss: 0.5339 - val_accuracy: 0.9508\n",
      "Epoch 10/20\n",
      "8/8 [==============================] - 0s 50ms/step - loss: 1.3806 - accuracy: 0.9095 - val_loss: 0.5339 - val_accuracy: 0.9508\n",
      "Epoch 11/20\n",
      "8/8 [==============================] - 0s 51ms/step - loss: 1.3806 - accuracy: 0.9095 - val_loss: 0.5339 - val_accuracy: 0.9508\n",
      "Epoch 12/20\n",
      "8/8 [==============================] - 0s 51ms/step - loss: 1.3806 - accuracy: 0.9095 - val_loss: 0.5339 - val_accuracy: 0.9508\n",
      "Epoch 13/20\n",
      "8/8 [==============================] - 0s 51ms/step - loss: 1.3806 - accuracy: 0.9095 - val_loss: 0.5339 - val_accuracy: 0.9508\n",
      "Epoch 14/20\n",
      "8/8 [==============================] - 0s 50ms/step - loss: 1.3806 - accuracy: 0.9095 - val_loss: 0.5339 - val_accuracy: 0.9508\n",
      "Epoch 15/20\n",
      "8/8 [==============================] - 0s 51ms/step - loss: 1.3806 - accuracy: 0.9095 - val_loss: 0.5339 - val_accuracy: 0.9508\n",
      "Epoch 16/20\n",
      "8/8 [==============================] - 0s 52ms/step - loss: 1.3806 - accuracy: 0.9095 - val_loss: 0.5339 - val_accuracy: 0.9508\n",
      "Epoch 17/20\n",
      "8/8 [==============================] - 0s 53ms/step - loss: 1.3806 - accuracy: 0.9095 - val_loss: 0.5339 - val_accuracy: 0.9508\n",
      "Epoch 18/20\n",
      "8/8 [==============================] - 0s 55ms/step - loss: 1.3806 - accuracy: 0.9095 - val_loss: 0.5339 - val_accuracy: 0.9508\n",
      "Epoch 19/20\n",
      "8/8 [==============================] - 0s 55ms/step - loss: 1.3806 - accuracy: 0.9095 - val_loss: 0.5339 - val_accuracy: 0.9508\n",
      "Epoch 20/20\n",
      "8/8 [==============================] - 0s 50ms/step - loss: 1.3806 - accuracy: 0.9095 - val_loss: 0.5339 - val_accuracy: 0.9508\n"
     ]
    }
   ],
   "source": [
    "act = model_output(acts,acts1)"
   ]
  },
  {
   "cell_type": "code",
   "execution_count": 76,
   "metadata": {
    "colab": {
     "base_uri": "https://localhost:8080/"
    },
    "id": "29efwurYzWus",
    "outputId": "d2d52462-e5e7-414c-a1b6-492dc932addd"
   },
   "outputs": [
    {
     "name": "stdout",
     "output_type": "stream",
     "text": [
      "Epoch 1/20\n",
      "19/19 [==============================] - 3s 132ms/step - loss: 6.3360 - accuracy: 0.5185 - val_loss: 4.6380 - val_accuracy: 0.5973\n",
      "Epoch 2/20\n",
      "19/19 [==============================] - 1s 56ms/step - loss: 4.8951 - accuracy: 0.5859 - val_loss: 4.9944 - val_accuracy: 0.5839\n",
      "Epoch 3/20\n",
      "19/19 [==============================] - 1s 53ms/step - loss: 4.1287 - accuracy: 0.6599 - val_loss: 4.5111 - val_accuracy: 0.6040\n",
      "Epoch 4/20\n",
      "19/19 [==============================] - 1s 53ms/step - loss: 3.9879 - accuracy: 0.6953 - val_loss: 4.4821 - val_accuracy: 0.5839\n",
      "Epoch 5/20\n",
      "19/19 [==============================] - 1s 54ms/step - loss: 3.5559 - accuracy: 0.7273 - val_loss: 5.3456 - val_accuracy: 0.5638\n",
      "Epoch 6/20\n",
      "19/19 [==============================] - 1s 54ms/step - loss: 3.3441 - accuracy: 0.7391 - val_loss: 5.3462 - val_accuracy: 0.5906\n",
      "Epoch 7/20\n",
      "19/19 [==============================] - 1s 53ms/step - loss: 3.1718 - accuracy: 0.7492 - val_loss: 5.3600 - val_accuracy: 0.5638\n",
      "Epoch 8/20\n",
      "19/19 [==============================] - 1s 54ms/step - loss: 3.0712 - accuracy: 0.7660 - val_loss: 5.5732 - val_accuracy: 0.5369\n",
      "Epoch 9/20\n",
      "19/19 [==============================] - 1s 53ms/step - loss: 2.9730 - accuracy: 0.7963 - val_loss: 5.8411 - val_accuracy: 0.5235\n",
      "Epoch 10/20\n",
      "19/19 [==============================] - 1s 54ms/step - loss: 2.9766 - accuracy: 0.8047 - val_loss: 5.9475 - val_accuracy: 0.5168\n",
      "Epoch 11/20\n",
      "19/19 [==============================] - 1s 53ms/step - loss: 2.9544 - accuracy: 0.7946 - val_loss: 5.7078 - val_accuracy: 0.5302\n",
      "Epoch 12/20\n",
      "19/19 [==============================] - 1s 54ms/step - loss: 2.8243 - accuracy: 0.7963 - val_loss: 5.6043 - val_accuracy: 0.5436\n",
      "Epoch 13/20\n",
      "19/19 [==============================] - 1s 53ms/step - loss: 2.7668 - accuracy: 0.8165 - val_loss: 5.6319 - val_accuracy: 0.5235\n",
      "Epoch 14/20\n",
      "19/19 [==============================] - 1s 54ms/step - loss: 2.7123 - accuracy: 0.8131 - val_loss: 5.3907 - val_accuracy: 0.5973\n",
      "Epoch 15/20\n",
      "19/19 [==============================] - 1s 53ms/step - loss: 2.6096 - accuracy: 0.8047 - val_loss: 5.1864 - val_accuracy: 0.5705\n",
      "Epoch 16/20\n",
      "19/19 [==============================] - 1s 53ms/step - loss: 2.4987 - accuracy: 0.8232 - val_loss: 4.8447 - val_accuracy: 0.5638\n",
      "Epoch 17/20\n",
      "19/19 [==============================] - 1s 53ms/step - loss: 2.4911 - accuracy: 0.7997 - val_loss: 4.7583 - val_accuracy: 0.5638\n",
      "Epoch 18/20\n",
      "19/19 [==============================] - 1s 53ms/step - loss: 2.2943 - accuracy: 0.8350 - val_loss: 5.2813 - val_accuracy: 0.5436\n",
      "Epoch 19/20\n",
      "19/19 [==============================] - 1s 54ms/step - loss: 2.2892 - accuracy: 0.8434 - val_loss: 5.2718 - val_accuracy: 0.5436\n",
      "Epoch 20/20\n",
      "19/19 [==============================] - 1s 54ms/step - loss: 2.1823 - accuracy: 0.8519 - val_loss: 5.0673 - val_accuracy: 0.5772\n"
     ]
    }
   ],
   "source": [
    "rom = model_output(rms,rms1)"
   ]
  },
  {
   "cell_type": "code",
   "execution_count": 77,
   "metadata": {
    "colab": {
     "base_uri": "https://localhost:8080/"
    },
    "id": "nYihnABlzWut",
    "outputId": "a75bc00f-4749-4317-9bab-1bf3cecf02b2"
   },
   "outputs": [
    {
     "name": "stdout",
     "output_type": "stream",
     "text": [
      "Epoch 1/20\n",
      "19/19 [==============================] - 3s 134ms/step - loss: 4.1225 - accuracy: 0.6460 - val_loss: 4.1461 - val_accuracy: 0.6267\n",
      "Epoch 2/20\n",
      "19/19 [==============================] - 1s 53ms/step - loss: 3.7257 - accuracy: 0.7097 - val_loss: 3.9701 - val_accuracy: 0.6267\n",
      "Epoch 3/20\n",
      "19/19 [==============================] - 1s 53ms/step - loss: 3.2203 - accuracy: 0.7349 - val_loss: 4.0087 - val_accuracy: 0.6600\n",
      "Epoch 4/20\n",
      "19/19 [==============================] - 1s 54ms/step - loss: 2.9805 - accuracy: 0.7668 - val_loss: 3.8947 - val_accuracy: 0.6467\n",
      "Epoch 5/20\n",
      "19/19 [==============================] - 1s 53ms/step - loss: 2.8990 - accuracy: 0.7970 - val_loss: 3.6303 - val_accuracy: 0.6733\n",
      "Epoch 6/20\n",
      "19/19 [==============================] - 1s 54ms/step - loss: 2.8105 - accuracy: 0.7852 - val_loss: 4.2960 - val_accuracy: 0.6333\n",
      "Epoch 7/20\n",
      "19/19 [==============================] - 1s 53ms/step - loss: 2.8016 - accuracy: 0.8003 - val_loss: 3.7441 - val_accuracy: 0.6400\n",
      "Epoch 8/20\n",
      "19/19 [==============================] - 1s 54ms/step - loss: 2.6107 - accuracy: 0.8154 - val_loss: 3.5988 - val_accuracy: 0.6533\n",
      "Epoch 9/20\n",
      "19/19 [==============================] - 1s 53ms/step - loss: 2.4542 - accuracy: 0.8289 - val_loss: 3.2755 - val_accuracy: 0.7000\n",
      "Epoch 10/20\n",
      "19/19 [==============================] - 1s 55ms/step - loss: 2.3618 - accuracy: 0.8238 - val_loss: 3.7460 - val_accuracy: 0.6933\n",
      "Epoch 11/20\n",
      "19/19 [==============================] - 1s 56ms/step - loss: 2.2801 - accuracy: 0.8440 - val_loss: 3.7683 - val_accuracy: 0.6733\n",
      "Epoch 12/20\n",
      "19/19 [==============================] - 1s 54ms/step - loss: 2.2351 - accuracy: 0.8423 - val_loss: 3.6029 - val_accuracy: 0.6400\n",
      "Epoch 13/20\n",
      "19/19 [==============================] - 1s 53ms/step - loss: 2.1668 - accuracy: 0.8540 - val_loss: 3.3780 - val_accuracy: 0.6933\n",
      "Epoch 14/20\n",
      "19/19 [==============================] - 1s 54ms/step - loss: 2.2344 - accuracy: 0.8490 - val_loss: 3.9346 - val_accuracy: 0.6733\n",
      "Epoch 15/20\n",
      "19/19 [==============================] - 1s 54ms/step - loss: 2.1855 - accuracy: 0.8557 - val_loss: 3.8904 - val_accuracy: 0.6600\n",
      "Epoch 16/20\n",
      "19/19 [==============================] - 1s 54ms/step - loss: 2.1706 - accuracy: 0.8540 - val_loss: 3.8152 - val_accuracy: 0.6733\n",
      "Epoch 17/20\n",
      "19/19 [==============================] - 1s 53ms/step - loss: 2.2124 - accuracy: 0.8339 - val_loss: 3.4131 - val_accuracy: 0.6800\n",
      "Epoch 18/20\n",
      "19/19 [==============================] - 1s 54ms/step - loss: 1.9735 - accuracy: 0.8507 - val_loss: 3.7647 - val_accuracy: 0.6600\n",
      "Epoch 19/20\n",
      "19/19 [==============================] - 1s 54ms/step - loss: 1.9313 - accuracy: 0.8708 - val_loss: 3.5075 - val_accuracy: 0.6533\n",
      "Epoch 20/20\n",
      "19/19 [==============================] - 1s 54ms/step - loss: 1.9253 - accuracy: 0.8725 - val_loss: 3.5242 - val_accuracy: 0.6667\n"
     ]
    }
   ],
   "source": [
    "fcr = model_output(fcor,fcor1)"
   ]
  },
  {
   "cell_type": "code",
   "execution_count": 78,
   "metadata": {
    "colab": {
     "base_uri": "https://localhost:8080/"
    },
    "id": "lYbxidgzzWut",
    "outputId": "d7a53409-e893-4fb2-f813-6924806b9c89"
   },
   "outputs": [
    {
     "name": "stdout",
     "output_type": "stream",
     "text": [
      "Epoch 1/20\n",
      "15/15 [==============================] - 2s 150ms/step - loss: 3.7529 - accuracy: 0.7038 - val_loss: 3.7381 - val_accuracy: 0.6637\n",
      "Epoch 2/20\n",
      "15/15 [==============================] - 1s 51ms/step - loss: 3.3513 - accuracy: 0.7439 - val_loss: 3.9708 - val_accuracy: 0.6726\n",
      "Epoch 3/20\n",
      "15/15 [==============================] - 1s 52ms/step - loss: 3.0746 - accuracy: 0.7728 - val_loss: 3.5724 - val_accuracy: 0.6903\n",
      "Epoch 4/20\n",
      "15/15 [==============================] - 1s 52ms/step - loss: 2.9289 - accuracy: 0.7840 - val_loss: 3.4496 - val_accuracy: 0.6903\n",
      "Epoch 5/20\n",
      "15/15 [==============================] - 1s 51ms/step - loss: 2.7980 - accuracy: 0.8085 - val_loss: 3.5622 - val_accuracy: 0.6991\n",
      "Epoch 6/20\n",
      "15/15 [==============================] - 1s 51ms/step - loss: 2.7588 - accuracy: 0.8129 - val_loss: 3.5683 - val_accuracy: 0.6726\n",
      "Epoch 7/20\n",
      "15/15 [==============================] - 1s 51ms/step - loss: 2.7347 - accuracy: 0.8218 - val_loss: 3.4736 - val_accuracy: 0.6903\n",
      "Epoch 8/20\n",
      "15/15 [==============================] - 1s 52ms/step - loss: 2.7291 - accuracy: 0.8218 - val_loss: 3.5903 - val_accuracy: 0.6991\n",
      "Epoch 9/20\n",
      "15/15 [==============================] - 1s 52ms/step - loss: 2.7226 - accuracy: 0.8018 - val_loss: 3.4832 - val_accuracy: 0.6903\n",
      "Epoch 10/20\n",
      "15/15 [==============================] - 1s 54ms/step - loss: 2.6164 - accuracy: 0.8241 - val_loss: 3.5510 - val_accuracy: 0.7080\n",
      "Epoch 11/20\n",
      "15/15 [==============================] - 1s 54ms/step - loss: 2.5970 - accuracy: 0.8285 - val_loss: 3.4321 - val_accuracy: 0.7080\n",
      "Epoch 12/20\n",
      "15/15 [==============================] - 1s 51ms/step - loss: 2.5669 - accuracy: 0.8307 - val_loss: 3.3180 - val_accuracy: 0.6814\n",
      "Epoch 13/20\n",
      "15/15 [==============================] - 1s 51ms/step - loss: 2.5080 - accuracy: 0.8263 - val_loss: 3.2886 - val_accuracy: 0.6991\n",
      "Epoch 14/20\n",
      "15/15 [==============================] - 1s 53ms/step - loss: 2.4937 - accuracy: 0.8352 - val_loss: 3.4042 - val_accuracy: 0.6903\n",
      "Epoch 15/20\n",
      "15/15 [==============================] - 1s 52ms/step - loss: 2.5034 - accuracy: 0.8330 - val_loss: 3.1458 - val_accuracy: 0.7345\n",
      "Epoch 16/20\n",
      "15/15 [==============================] - 1s 53ms/step - loss: 2.4901 - accuracy: 0.8374 - val_loss: 3.1876 - val_accuracy: 0.6991\n",
      "Epoch 17/20\n",
      "15/15 [==============================] - 1s 52ms/step - loss: 2.5299 - accuracy: 0.8263 - val_loss: 3.6794 - val_accuracy: 0.7080\n",
      "Epoch 18/20\n",
      "15/15 [==============================] - 1s 51ms/step - loss: 2.5413 - accuracy: 0.8151 - val_loss: 3.6879 - val_accuracy: 0.7168\n",
      "Epoch 19/20\n",
      "15/15 [==============================] - 1s 52ms/step - loss: 2.4042 - accuracy: 0.8352 - val_loss: 3.6799 - val_accuracy: 0.6903\n",
      "Epoch 20/20\n",
      "15/15 [==============================] - 1s 52ms/step - loss: 2.3902 - accuracy: 0.8441 - val_loss: 3.6888 - val_accuracy: 0.6903\n"
     ]
    }
   ],
   "source": [
    "scr = model_output(scor,scor1)"
   ]
  },
  {
   "cell_type": "code",
   "execution_count": 79,
   "metadata": {
    "colab": {
     "base_uri": "https://localhost:8080/"
    },
    "id": "9vXGBprzzWut",
    "outputId": "60fddae2-2502-4905-b4a7-5cdaa3a79f2f"
   },
   "outputs": [
    {
     "name": "stdout",
     "output_type": "stream",
     "text": [
      "Epoch 1/20\n",
      "12/12 [==============================] - 2s 177ms/step - loss: 3.9575 - accuracy: 0.6860 - val_loss: 3.7279 - val_accuracy: 0.7033\n",
      "Epoch 2/20\n",
      "12/12 [==============================] - 1s 52ms/step - loss: 3.4979 - accuracy: 0.7245 - val_loss: 3.2814 - val_accuracy: 0.7033\n",
      "Epoch 3/20\n",
      "12/12 [==============================] - 1s 53ms/step - loss: 3.3886 - accuracy: 0.7521 - val_loss: 3.3394 - val_accuracy: 0.7033\n",
      "Epoch 4/20\n",
      "12/12 [==============================] - 1s 53ms/step - loss: 3.1895 - accuracy: 0.7713 - val_loss: 3.3485 - val_accuracy: 0.7033\n",
      "Epoch 5/20\n",
      "12/12 [==============================] - 1s 51ms/step - loss: 3.1606 - accuracy: 0.7824 - val_loss: 3.3426 - val_accuracy: 0.7033\n",
      "Epoch 6/20\n",
      "12/12 [==============================] - 1s 54ms/step - loss: 3.1150 - accuracy: 0.7906 - val_loss: 3.3462 - val_accuracy: 0.7033\n",
      "Epoch 7/20\n",
      "12/12 [==============================] - 1s 53ms/step - loss: 3.0975 - accuracy: 0.7989 - val_loss: 3.3425 - val_accuracy: 0.7033\n",
      "Epoch 8/20\n",
      "12/12 [==============================] - 1s 52ms/step - loss: 3.0884 - accuracy: 0.7989 - val_loss: 3.3537 - val_accuracy: 0.7033\n",
      "Epoch 9/20\n",
      "12/12 [==============================] - 1s 53ms/step - loss: 3.0197 - accuracy: 0.7961 - val_loss: 3.4954 - val_accuracy: 0.6484\n",
      "Epoch 10/20\n",
      "12/12 [==============================] - 1s 54ms/step - loss: 2.9298 - accuracy: 0.7906 - val_loss: 3.0844 - val_accuracy: 0.7363\n",
      "Epoch 11/20\n",
      "12/12 [==============================] - 1s 53ms/step - loss: 2.8729 - accuracy: 0.7879 - val_loss: 3.1789 - val_accuracy: 0.7253\n",
      "Epoch 12/20\n",
      "12/12 [==============================] - 1s 55ms/step - loss: 2.6493 - accuracy: 0.8127 - val_loss: 3.5152 - val_accuracy: 0.6374\n",
      "Epoch 13/20\n",
      "12/12 [==============================] - 1s 55ms/step - loss: 2.5416 - accuracy: 0.8099 - val_loss: 3.6638 - val_accuracy: 0.6154\n",
      "Epoch 14/20\n",
      "12/12 [==============================] - 1s 55ms/step - loss: 2.4940 - accuracy: 0.8347 - val_loss: 3.4725 - val_accuracy: 0.6154\n",
      "Epoch 15/20\n",
      "12/12 [==============================] - 1s 62ms/step - loss: 2.4188 - accuracy: 0.8347 - val_loss: 3.7509 - val_accuracy: 0.6154\n",
      "Epoch 16/20\n",
      "12/12 [==============================] - 1s 59ms/step - loss: 2.4049 - accuracy: 0.8430 - val_loss: 3.7077 - val_accuracy: 0.6374\n",
      "Epoch 17/20\n",
      "12/12 [==============================] - 1s 57ms/step - loss: 2.4076 - accuracy: 0.8430 - val_loss: 3.4161 - val_accuracy: 0.6593\n",
      "Epoch 18/20\n",
      "12/12 [==============================] - 1s 58ms/step - loss: 2.2713 - accuracy: 0.8347 - val_loss: 3.2498 - val_accuracy: 0.6374\n",
      "Epoch 19/20\n",
      "12/12 [==============================] - 1s 58ms/step - loss: 2.2416 - accuracy: 0.8512 - val_loss: 3.1415 - val_accuracy: 0.6484\n",
      "Epoch 20/20\n",
      "12/12 [==============================] - 1s 57ms/step - loss: 2.2342 - accuracy: 0.8540 - val_loss: 3.1415 - val_accuracy: 0.6484\n"
     ]
    }
   ],
   "source": [
    "glt = model_output(gal,gal1)"
   ]
  },
  {
   "cell_type": "code",
   "execution_count": 80,
   "metadata": {
    "colab": {
     "base_uri": "https://localhost:8080/"
    },
    "id": "sQLDlcwbzWut",
    "outputId": "b4121356-94e0-4c44-d4a4-dd8d2001b472"
   },
   "outputs": [
    {
     "name": "stdout",
     "output_type": "stream",
     "text": [
      "Epoch 1/20\n",
      "12/12 [==============================] - 2s 176ms/step - loss: 2.9521 - accuracy: 0.7575 - val_loss: 3.6153 - val_accuracy: 0.6957\n",
      "Epoch 2/20\n",
      "12/12 [==============================] - 1s 53ms/step - loss: 2.7011 - accuracy: 0.8147 - val_loss: 3.6404 - val_accuracy: 0.6957\n",
      "Epoch 3/20\n",
      "12/12 [==============================] - 1s 52ms/step - loss: 2.6802 - accuracy: 0.8229 - val_loss: 3.6367 - val_accuracy: 0.7065\n",
      "Epoch 4/20\n",
      "12/12 [==============================] - 1s 52ms/step - loss: 2.6739 - accuracy: 0.8256 - val_loss: 3.6285 - val_accuracy: 0.7065\n",
      "Epoch 5/20\n",
      "12/12 [==============================] - 1s 53ms/step - loss: 2.6733 - accuracy: 0.8256 - val_loss: 3.6375 - val_accuracy: 0.7174\n",
      "Epoch 6/20\n",
      "12/12 [==============================] - 1s 53ms/step - loss: 2.6732 - accuracy: 0.8256 - val_loss: 3.6375 - val_accuracy: 0.7174\n",
      "Epoch 7/20\n",
      "12/12 [==============================] - 1s 52ms/step - loss: 2.6732 - accuracy: 0.8256 - val_loss: 3.6375 - val_accuracy: 0.7174\n",
      "Epoch 8/20\n",
      "12/12 [==============================] - 1s 54ms/step - loss: 2.6732 - accuracy: 0.8256 - val_loss: 3.6375 - val_accuracy: 0.7174\n",
      "Epoch 9/20\n",
      "12/12 [==============================] - 1s 53ms/step - loss: 2.6732 - accuracy: 0.8256 - val_loss: 3.6375 - val_accuracy: 0.7174\n",
      "Epoch 10/20\n",
      "12/12 [==============================] - 1s 52ms/step - loss: 2.6732 - accuracy: 0.8256 - val_loss: 3.6375 - val_accuracy: 0.7174\n",
      "Epoch 11/20\n",
      "12/12 [==============================] - 1s 52ms/step - loss: 2.6732 - accuracy: 0.8256 - val_loss: 3.6375 - val_accuracy: 0.7174\n",
      "Epoch 12/20\n",
      "12/12 [==============================] - 1s 53ms/step - loss: 2.6732 - accuracy: 0.8256 - val_loss: 3.6375 - val_accuracy: 0.7174\n",
      "Epoch 13/20\n",
      "12/12 [==============================] - 1s 54ms/step - loss: 2.6732 - accuracy: 0.8256 - val_loss: 3.6375 - val_accuracy: 0.7174\n",
      "Epoch 14/20\n",
      "12/12 [==============================] - 1s 52ms/step - loss: 2.6732 - accuracy: 0.8256 - val_loss: 3.6375 - val_accuracy: 0.7174\n",
      "Epoch 15/20\n",
      "12/12 [==============================] - 1s 53ms/step - loss: 2.6732 - accuracy: 0.8256 - val_loss: 3.6375 - val_accuracy: 0.7174\n",
      "Epoch 16/20\n",
      "12/12 [==============================] - 1s 53ms/step - loss: 2.6732 - accuracy: 0.8256 - val_loss: 3.6375 - val_accuracy: 0.7174\n",
      "Epoch 17/20\n",
      "12/12 [==============================] - 1s 52ms/step - loss: 2.6732 - accuracy: 0.8256 - val_loss: 3.6375 - val_accuracy: 0.7174\n",
      "Epoch 18/20\n",
      "12/12 [==============================] - 1s 53ms/step - loss: 2.6732 - accuracy: 0.8256 - val_loss: 3.6375 - val_accuracy: 0.7174\n",
      "Epoch 19/20\n",
      "12/12 [==============================] - 1s 54ms/step - loss: 2.6732 - accuracy: 0.8256 - val_loss: 3.6375 - val_accuracy: 0.7174\n",
      "Epoch 20/20\n",
      "12/12 [==============================] - 1s 53ms/step - loss: 2.6732 - accuracy: 0.8256 - val_loss: 3.6375 - val_accuracy: 0.7174\n"
     ]
    }
   ],
   "source": [
    "ept = model_output(eph,eph1)"
   ]
  },
  {
   "cell_type": "code",
   "execution_count": 81,
   "metadata": {
    "colab": {
     "base_uri": "https://localhost:8080/"
    },
    "id": "9d5Ur921zWut",
    "outputId": "5abcd52c-623a-4dc7-e2b9-841c512ccc90"
   },
   "outputs": [
    {
     "name": "stdout",
     "output_type": "stream",
     "text": [
      "Epoch 1/20\n",
      "11/11 [==============================] - 2s 191ms/step - loss: 3.0175 - accuracy: 0.7462 - val_loss: 2.3979 - val_accuracy: 0.7805\n",
      "Epoch 2/20\n",
      "11/11 [==============================] - 1s 53ms/step - loss: 2.8126 - accuracy: 0.7982 - val_loss: 2.9468 - val_accuracy: 0.7195\n",
      "Epoch 3/20\n",
      "11/11 [==============================] - 1s 53ms/step - loss: 2.7365 - accuracy: 0.8165 - val_loss: 3.1178 - val_accuracy: 0.7317\n",
      "Epoch 4/20\n",
      "11/11 [==============================] - 1s 52ms/step - loss: 2.6760 - accuracy: 0.8226 - val_loss: 2.9879 - val_accuracy: 0.7195\n",
      "Epoch 5/20\n",
      "11/11 [==============================] - 1s 53ms/step - loss: 2.6144 - accuracy: 0.8104 - val_loss: 3.2614 - val_accuracy: 0.7439\n",
      "Epoch 6/20\n",
      "11/11 [==============================] - 1s 51ms/step - loss: 2.3319 - accuracy: 0.8379 - val_loss: 3.1026 - val_accuracy: 0.7317\n",
      "Epoch 7/20\n",
      "11/11 [==============================] - 1s 53ms/step - loss: 2.3046 - accuracy: 0.8440 - val_loss: 3.2664 - val_accuracy: 0.7317\n",
      "Epoch 8/20\n",
      "11/11 [==============================] - 1s 51ms/step - loss: 2.2972 - accuracy: 0.8502 - val_loss: 3.2700 - val_accuracy: 0.7317\n",
      "Epoch 9/20\n",
      "11/11 [==============================] - 1s 54ms/step - loss: 2.2953 - accuracy: 0.8502 - val_loss: 3.2700 - val_accuracy: 0.7317\n",
      "Epoch 10/20\n",
      "11/11 [==============================] - 1s 53ms/step - loss: 2.2953 - accuracy: 0.8502 - val_loss: 3.2700 - val_accuracy: 0.7317\n",
      "Epoch 11/20\n",
      "11/11 [==============================] - 1s 52ms/step - loss: 2.2953 - accuracy: 0.8502 - val_loss: 3.2700 - val_accuracy: 0.7317\n",
      "Epoch 12/20\n",
      "11/11 [==============================] - 1s 56ms/step - loss: 2.2953 - accuracy: 0.8502 - val_loss: 3.2700 - val_accuracy: 0.7317\n",
      "Epoch 13/20\n",
      "11/11 [==============================] - 1s 53ms/step - loss: 2.2953 - accuracy: 0.8502 - val_loss: 3.2700 - val_accuracy: 0.7317\n",
      "Epoch 14/20\n",
      "11/11 [==============================] - 1s 51ms/step - loss: 2.2953 - accuracy: 0.8502 - val_loss: 3.2700 - val_accuracy: 0.7317\n",
      "Epoch 15/20\n",
      "11/11 [==============================] - 1s 53ms/step - loss: 2.2953 - accuracy: 0.8502 - val_loss: 3.2700 - val_accuracy: 0.7317\n",
      "Epoch 16/20\n",
      "11/11 [==============================] - 1s 52ms/step - loss: 2.2953 - accuracy: 0.8502 - val_loss: 3.2700 - val_accuracy: 0.7317\n",
      "Epoch 17/20\n",
      "11/11 [==============================] - 1s 55ms/step - loss: 2.2953 - accuracy: 0.8502 - val_loss: 3.2700 - val_accuracy: 0.7317\n",
      "Epoch 18/20\n",
      "11/11 [==============================] - 1s 53ms/step - loss: 2.2953 - accuracy: 0.8502 - val_loss: 3.2700 - val_accuracy: 0.7317\n",
      "Epoch 19/20\n",
      "11/11 [==============================] - 1s 52ms/step - loss: 2.2953 - accuracy: 0.8502 - val_loss: 3.2700 - val_accuracy: 0.7317\n",
      "Epoch 20/20\n",
      "11/11 [==============================] - 1s 53ms/step - loss: 2.2953 - accuracy: 0.8502 - val_loss: 3.2700 - val_accuracy: 0.7317\n"
     ]
    }
   ],
   "source": [
    "plp = model_output(phi,phi1)"
   ]
  },
  {
   "cell_type": "code",
   "execution_count": 82,
   "metadata": {
    "colab": {
     "base_uri": "https://localhost:8080/"
    },
    "id": "tpMZYrjBzWut",
    "outputId": "91fff4f3-cba6-42a7-fe43-2a25971e9033"
   },
   "outputs": [
    {
     "name": "stdout",
     "output_type": "stream",
     "text": [
      "Epoch 1/20\n",
      "10/10 [==============================] - 2s 202ms/step - loss: 2.7655 - accuracy: 0.7649 - val_loss: 3.3101 - val_accuracy: 0.7625\n",
      "Epoch 2/20\n",
      "10/10 [==============================] - 1s 54ms/step - loss: 2.4583 - accuracy: 0.8276 - val_loss: 3.1141 - val_accuracy: 0.7750\n",
      "Epoch 3/20\n",
      "10/10 [==============================] - 1s 53ms/step - loss: 2.3318 - accuracy: 0.8370 - val_loss: 3.1007 - val_accuracy: 0.7875\n",
      "Epoch 4/20\n",
      "10/10 [==============================] - 1s 55ms/step - loss: 2.2735 - accuracy: 0.8495 - val_loss: 3.1098 - val_accuracy: 0.7875\n",
      "Epoch 5/20\n",
      "10/10 [==============================] - 1s 53ms/step - loss: 2.3886 - accuracy: 0.8339 - val_loss: 2.9771 - val_accuracy: 0.7625\n",
      "Epoch 6/20\n",
      "10/10 [==============================] - 1s 53ms/step - loss: 2.3200 - accuracy: 0.8433 - val_loss: 3.1084 - val_accuracy: 0.7875\n",
      "Epoch 7/20\n",
      "10/10 [==============================] - 1s 54ms/step - loss: 2.2626 - accuracy: 0.8495 - val_loss: 3.1026 - val_accuracy: 0.7875\n",
      "Epoch 8/20\n",
      "10/10 [==============================] - 1s 54ms/step - loss: 2.2166 - accuracy: 0.8527 - val_loss: 3.1251 - val_accuracy: 0.7750\n",
      "Epoch 9/20\n",
      "10/10 [==============================] - 1s 54ms/step - loss: 2.2095 - accuracy: 0.8558 - val_loss: 3.1192 - val_accuracy: 0.7750\n",
      "Epoch 10/20\n",
      "10/10 [==============================] - 1s 54ms/step - loss: 2.2089 - accuracy: 0.8558 - val_loss: 3.1192 - val_accuracy: 0.7750\n",
      "Epoch 11/20\n",
      "10/10 [==============================] - 1s 53ms/step - loss: 2.2089 - accuracy: 0.8558 - val_loss: 3.1192 - val_accuracy: 0.7750\n",
      "Epoch 12/20\n",
      "10/10 [==============================] - 1s 55ms/step - loss: 2.2089 - accuracy: 0.8558 - val_loss: 3.1192 - val_accuracy: 0.7750\n",
      "Epoch 13/20\n",
      "10/10 [==============================] - 1s 58ms/step - loss: 2.2089 - accuracy: 0.8558 - val_loss: 3.1192 - val_accuracy: 0.7750\n",
      "Epoch 14/20\n",
      "10/10 [==============================] - 1s 54ms/step - loss: 2.2089 - accuracy: 0.8558 - val_loss: 3.1192 - val_accuracy: 0.7750\n",
      "Epoch 15/20\n",
      "10/10 [==============================] - 1s 55ms/step - loss: 2.2089 - accuracy: 0.8558 - val_loss: 3.1192 - val_accuracy: 0.7750\n",
      "Epoch 16/20\n",
      "10/10 [==============================] - 1s 54ms/step - loss: 2.2089 - accuracy: 0.8558 - val_loss: 3.1192 - val_accuracy: 0.7750\n",
      "Epoch 17/20\n",
      "10/10 [==============================] - 1s 55ms/step - loss: 2.2089 - accuracy: 0.8558 - val_loss: 3.1192 - val_accuracy: 0.7750\n",
      "Epoch 18/20\n",
      "10/10 [==============================] - 1s 54ms/step - loss: 2.2089 - accuracy: 0.8558 - val_loss: 3.1192 - val_accuracy: 0.7750\n",
      "Epoch 19/20\n",
      "10/10 [==============================] - 1s 53ms/step - loss: 2.2089 - accuracy: 0.8558 - val_loss: 3.1192 - val_accuracy: 0.7750\n",
      "Epoch 20/20\n",
      "10/10 [==============================] - 1s 55ms/step - loss: 2.2089 - accuracy: 0.8558 - val_loss: 3.1192 - val_accuracy: 0.7750\n"
     ]
    }
   ],
   "source": [
    "cls = model_output(col,col1)"
   ]
  },
  {
   "cell_type": "code",
   "execution_count": 83,
   "metadata": {
    "colab": {
     "base_uri": "https://localhost:8080/"
    },
    "id": "JZLfB-PIzWuu",
    "outputId": "5b3ab36c-2684-4122-aee3-97eb1675f0d6"
   },
   "outputs": [
    {
     "name": "stdout",
     "output_type": "stream",
     "text": [
      "Epoch 1/20\n",
      "10/10 [==============================] - 5s 467ms/step - loss: 2.7142 - accuracy: 0.7778 - val_loss: 1.6134 - val_accuracy: 0.8101\n",
      "Epoch 2/20\n",
      "10/10 [==============================] - 1s 54ms/step - loss: 2.5639 - accuracy: 0.8159 - val_loss: 1.6839 - val_accuracy: 0.8228\n",
      "Epoch 3/20\n",
      "10/10 [==============================] - 1s 54ms/step - loss: 2.2389 - accuracy: 0.8286 - val_loss: 2.0998 - val_accuracy: 0.7848\n",
      "Epoch 4/20\n",
      "10/10 [==============================] - 1s 55ms/step - loss: 2.0336 - accuracy: 0.8603 - val_loss: 2.0830 - val_accuracy: 0.7975\n",
      "Epoch 5/20\n",
      "10/10 [==============================] - 1s 53ms/step - loss: 1.8650 - accuracy: 0.8571 - val_loss: 1.9181 - val_accuracy: 0.7848\n",
      "Epoch 6/20\n",
      "10/10 [==============================] - 1s 55ms/step - loss: 1.8594 - accuracy: 0.8794 - val_loss: 1.9681 - val_accuracy: 0.7848\n",
      "Epoch 7/20\n",
      "10/10 [==============================] - 1s 55ms/step - loss: 1.8531 - accuracy: 0.8794 - val_loss: 1.9516 - val_accuracy: 0.7848\n",
      "Epoch 8/20\n",
      "10/10 [==============================] - 1s 54ms/step - loss: 1.8510 - accuracy: 0.8794 - val_loss: 1.9512 - val_accuracy: 0.7848\n",
      "Epoch 9/20\n",
      "10/10 [==============================] - 1s 55ms/step - loss: 1.8494 - accuracy: 0.8794 - val_loss: 1.9603 - val_accuracy: 0.7848\n",
      "Epoch 10/20\n",
      "10/10 [==============================] - 1s 54ms/step - loss: 1.8491 - accuracy: 0.8794 - val_loss: 1.9603 - val_accuracy: 0.7848\n",
      "Epoch 11/20\n",
      "10/10 [==============================] - 1s 56ms/step - loss: 1.8491 - accuracy: 0.8794 - val_loss: 1.9603 - val_accuracy: 0.7848\n",
      "Epoch 12/20\n",
      "10/10 [==============================] - 1s 55ms/step - loss: 1.8491 - accuracy: 0.8794 - val_loss: 1.9603 - val_accuracy: 0.7848\n",
      "Epoch 13/20\n",
      "10/10 [==============================] - 1s 54ms/step - loss: 1.8491 - accuracy: 0.8794 - val_loss: 1.9603 - val_accuracy: 0.7848\n",
      "Epoch 14/20\n",
      "10/10 [==============================] - 1s 56ms/step - loss: 1.8491 - accuracy: 0.8794 - val_loss: 1.9603 - val_accuracy: 0.7848\n",
      "Epoch 15/20\n",
      "10/10 [==============================] - 1s 55ms/step - loss: 1.8491 - accuracy: 0.8794 - val_loss: 1.9603 - val_accuracy: 0.7848\n",
      "Epoch 16/20\n",
      "10/10 [==============================] - 1s 56ms/step - loss: 1.8491 - accuracy: 0.8794 - val_loss: 1.9603 - val_accuracy: 0.7848\n",
      "Epoch 17/20\n",
      "10/10 [==============================] - 1s 56ms/step - loss: 1.8491 - accuracy: 0.8794 - val_loss: 1.9603 - val_accuracy: 0.7848\n",
      "Epoch 18/20\n",
      "10/10 [==============================] - 1s 57ms/step - loss: 1.8491 - accuracy: 0.8794 - val_loss: 1.9603 - val_accuracy: 0.7848\n",
      "Epoch 19/20\n",
      "10/10 [==============================] - 1s 56ms/step - loss: 1.8491 - accuracy: 0.8794 - val_loss: 1.9603 - val_accuracy: 0.7848\n",
      "Epoch 20/20\n",
      "10/10 [==============================] - 1s 55ms/step - loss: 1.8491 - accuracy: 0.8794 - val_loss: 1.9603 - val_accuracy: 0.7848\n"
     ]
    }
   ],
   "source": [
    "ftl = model_output(fthe,fthe1)"
   ]
  },
  {
   "cell_type": "code",
   "execution_count": 84,
   "metadata": {
    "colab": {
     "base_uri": "https://localhost:8080/"
    },
    "id": "OjuDj1CRzWuu",
    "outputId": "1103a90e-6a95-4b5b-b1b9-d9bc0f637339"
   },
   "outputs": [
    {
     "name": "stdout",
     "output_type": "stream",
     "text": [
      "Epoch 1/20\n",
      "9/9 [==============================] - 2s 220ms/step - loss: 2.1053 - accuracy: 0.8286 - val_loss: 3.3161 - val_accuracy: 0.7183\n",
      "Epoch 2/20\n",
      "9/9 [==============================] - 0s 53ms/step - loss: 1.8470 - accuracy: 0.8500 - val_loss: 2.5645 - val_accuracy: 0.7465\n",
      "Epoch 3/20\n",
      "9/9 [==============================] - 0s 52ms/step - loss: 1.5689 - accuracy: 0.8857 - val_loss: 2.7806 - val_accuracy: 0.7606\n",
      "Epoch 4/20\n",
      "9/9 [==============================] - 0s 54ms/step - loss: 1.5369 - accuracy: 0.9000 - val_loss: 3.1035 - val_accuracy: 0.7606\n",
      "Epoch 5/20\n",
      "9/9 [==============================] - 0s 52ms/step - loss: 1.5350 - accuracy: 0.9000 - val_loss: 2.9358 - val_accuracy: 0.7606\n",
      "Epoch 6/20\n",
      "9/9 [==============================] - 0s 54ms/step - loss: 1.5350 - accuracy: 0.9000 - val_loss: 2.9358 - val_accuracy: 0.7606\n",
      "Epoch 7/20\n",
      "9/9 [==============================] - 0s 54ms/step - loss: 1.5350 - accuracy: 0.9000 - val_loss: 2.9358 - val_accuracy: 0.7606\n",
      "Epoch 8/20\n",
      "9/9 [==============================] - 0s 53ms/step - loss: 1.5350 - accuracy: 0.9000 - val_loss: 2.9358 - val_accuracy: 0.7606\n",
      "Epoch 9/20\n",
      "9/9 [==============================] - 0s 52ms/step - loss: 1.5350 - accuracy: 0.9000 - val_loss: 2.9358 - val_accuracy: 0.7606\n",
      "Epoch 10/20\n",
      "9/9 [==============================] - 0s 54ms/step - loss: 1.5350 - accuracy: 0.9000 - val_loss: 2.9358 - val_accuracy: 0.7606\n",
      "Epoch 11/20\n",
      "9/9 [==============================] - 0s 53ms/step - loss: 1.5350 - accuracy: 0.9000 - val_loss: 2.9358 - val_accuracy: 0.7606\n",
      "Epoch 12/20\n",
      "9/9 [==============================] - 1s 56ms/step - loss: 1.5350 - accuracy: 0.9000 - val_loss: 2.9358 - val_accuracy: 0.7606\n",
      "Epoch 13/20\n",
      "9/9 [==============================] - 0s 54ms/step - loss: 1.5350 - accuracy: 0.9000 - val_loss: 2.9358 - val_accuracy: 0.7606\n",
      "Epoch 14/20\n",
      "9/9 [==============================] - 0s 53ms/step - loss: 1.5350 - accuracy: 0.9000 - val_loss: 2.9358 - val_accuracy: 0.7606\n",
      "Epoch 15/20\n",
      "9/9 [==============================] - 0s 54ms/step - loss: 1.5350 - accuracy: 0.9000 - val_loss: 2.9358 - val_accuracy: 0.7606\n",
      "Epoch 16/20\n",
      "9/9 [==============================] - 0s 54ms/step - loss: 1.5350 - accuracy: 0.9000 - val_loss: 2.9358 - val_accuracy: 0.7606\n",
      "Epoch 17/20\n",
      "9/9 [==============================] - 0s 55ms/step - loss: 1.5350 - accuracy: 0.9000 - val_loss: 2.9358 - val_accuracy: 0.7606\n",
      "Epoch 18/20\n",
      "9/9 [==============================] - 0s 54ms/step - loss: 1.5350 - accuracy: 0.9000 - val_loss: 2.9358 - val_accuracy: 0.7606\n",
      "Epoch 19/20\n",
      "9/9 [==============================] - 0s 54ms/step - loss: 1.5350 - accuracy: 0.9000 - val_loss: 2.9358 - val_accuracy: 0.7606\n",
      "Epoch 20/20\n",
      "9/9 [==============================] - 0s 54ms/step - loss: 1.5350 - accuracy: 0.9000 - val_loss: 2.9358 - val_accuracy: 0.7606\n"
     ]
    }
   ],
   "source": [
    "stl = model_output(sthe,sthe1)"
   ]
  },
  {
   "cell_type": "code",
   "execution_count": 85,
   "metadata": {
    "colab": {
     "base_uri": "https://localhost:8080/"
    },
    "id": "tAPCnCTNzWuu",
    "outputId": "099ffb09-341e-478b-ae38-3ead618d1331"
   },
   "outputs": [
    {
     "name": "stdout",
     "output_type": "stream",
     "text": [
      "Epoch 1/20\n",
      "11/11 [==============================] - 2s 189ms/step - loss: 4.0741 - accuracy: 0.7015 - val_loss: 4.0591 - val_accuracy: 0.7262\n",
      "Epoch 2/20\n",
      "11/11 [==============================] - 1s 54ms/step - loss: 3.8959 - accuracy: 0.7343 - val_loss: 4.2338 - val_accuracy: 0.7262\n",
      "Epoch 3/20\n",
      "11/11 [==============================] - 1s 56ms/step - loss: 3.8287 - accuracy: 0.7433 - val_loss: 4.2366 - val_accuracy: 0.7143\n",
      "Epoch 4/20\n",
      "11/11 [==============================] - 1s 55ms/step - loss: 3.6570 - accuracy: 0.7552 - val_loss: 4.2279 - val_accuracy: 0.7262\n",
      "Epoch 5/20\n",
      "11/11 [==============================] - 1s 55ms/step - loss: 3.6363 - accuracy: 0.7612 - val_loss: 4.2319 - val_accuracy: 0.7262\n",
      "Epoch 6/20\n",
      "11/11 [==============================] - 1s 54ms/step - loss: 3.6321 - accuracy: 0.7642 - val_loss: 4.2299 - val_accuracy: 0.7262\n",
      "Epoch 7/20\n",
      "11/11 [==============================] - 1s 53ms/step - loss: 3.6318 - accuracy: 0.7642 - val_loss: 4.2299 - val_accuracy: 0.7262\n",
      "Epoch 8/20\n",
      "11/11 [==============================] - 1s 53ms/step - loss: 3.6318 - accuracy: 0.7642 - val_loss: 4.2299 - val_accuracy: 0.7262\n",
      "Epoch 9/20\n",
      "11/11 [==============================] - 1s 56ms/step - loss: 3.6318 - accuracy: 0.7642 - val_loss: 4.2299 - val_accuracy: 0.7262\n",
      "Epoch 10/20\n",
      "11/11 [==============================] - 1s 54ms/step - loss: 3.6318 - accuracy: 0.7642 - val_loss: 4.2299 - val_accuracy: 0.7262\n",
      "Epoch 11/20\n",
      "11/11 [==============================] - 1s 55ms/step - loss: 3.6318 - accuracy: 0.7642 - val_loss: 4.2299 - val_accuracy: 0.7262\n",
      "Epoch 12/20\n",
      "11/11 [==============================] - 1s 55ms/step - loss: 3.6318 - accuracy: 0.7642 - val_loss: 4.2299 - val_accuracy: 0.7262\n",
      "Epoch 13/20\n",
      "11/11 [==============================] - 1s 54ms/step - loss: 3.6318 - accuracy: 0.7642 - val_loss: 4.2299 - val_accuracy: 0.7262\n",
      "Epoch 14/20\n",
      "11/11 [==============================] - 1s 55ms/step - loss: 3.6318 - accuracy: 0.7642 - val_loss: 4.2299 - val_accuracy: 0.7262\n",
      "Epoch 15/20\n",
      "11/11 [==============================] - 1s 55ms/step - loss: 3.6318 - accuracy: 0.7642 - val_loss: 4.2299 - val_accuracy: 0.7262\n",
      "Epoch 16/20\n",
      "11/11 [==============================] - 1s 54ms/step - loss: 3.6318 - accuracy: 0.7642 - val_loss: 4.2299 - val_accuracy: 0.7262\n",
      "Epoch 17/20\n",
      "11/11 [==============================] - 1s 54ms/step - loss: 3.6318 - accuracy: 0.7642 - val_loss: 4.2299 - val_accuracy: 0.7262\n",
      "Epoch 18/20\n",
      "11/11 [==============================] - 1s 55ms/step - loss: 3.6318 - accuracy: 0.7642 - val_loss: 4.2299 - val_accuracy: 0.7262\n",
      "Epoch 19/20\n",
      "11/11 [==============================] - 1s 54ms/step - loss: 3.6318 - accuracy: 0.7642 - val_loss: 4.2299 - val_accuracy: 0.7262\n",
      "Epoch 20/20\n",
      "11/11 [==============================] - 1s 55ms/step - loss: 3.6318 - accuracy: 0.7642 - val_loss: 4.2299 - val_accuracy: 0.7262\n"
     ]
    }
   ],
   "source": [
    "ftm = model_output(ftim,ftim1)"
   ]
  },
  {
   "cell_type": "code",
   "execution_count": 86,
   "metadata": {
    "colab": {
     "base_uri": "https://localhost:8080/"
    },
    "id": "PGcWNLBpzWuu",
    "outputId": "4e801e38-bd8a-42b9-860f-c0f8f038a1a5"
   },
   "outputs": [
    {
     "name": "stdout",
     "output_type": "stream",
     "text": [
      "Epoch 1/20\n",
      "10/10 [==============================] - 2s 207ms/step - loss: 2.9948 - accuracy: 0.7774 - val_loss: 3.0224 - val_accuracy: 0.7564\n",
      "Epoch 2/20\n",
      "10/10 [==============================] - 1s 56ms/step - loss: 2.6654 - accuracy: 0.8097 - val_loss: 2.8273 - val_accuracy: 0.7821\n",
      "Epoch 3/20\n",
      "10/10 [==============================] - 1s 55ms/step - loss: 2.5409 - accuracy: 0.8355 - val_loss: 2.8220 - val_accuracy: 0.7821\n",
      "Epoch 4/20\n",
      "10/10 [==============================] - 1s 56ms/step - loss: 2.5031 - accuracy: 0.8290 - val_loss: 2.8230 - val_accuracy: 0.7821\n",
      "Epoch 5/20\n",
      "10/10 [==============================] - 1s 56ms/step - loss: 2.4871 - accuracy: 0.8387 - val_loss: 2.8205 - val_accuracy: 0.7821\n",
      "Epoch 6/20\n",
      "10/10 [==============================] - 1s 53ms/step - loss: 2.4851 - accuracy: 0.8387 - val_loss: 2.8205 - val_accuracy: 0.7821\n",
      "Epoch 7/20\n",
      "10/10 [==============================] - 1s 56ms/step - loss: 2.4851 - accuracy: 0.8387 - val_loss: 2.8205 - val_accuracy: 0.7821\n",
      "Epoch 8/20\n",
      "10/10 [==============================] - 1s 56ms/step - loss: 2.4851 - accuracy: 0.8387 - val_loss: 2.8205 - val_accuracy: 0.7821\n",
      "Epoch 9/20\n",
      "10/10 [==============================] - 1s 53ms/step - loss: 2.4851 - accuracy: 0.8387 - val_loss: 2.8205 - val_accuracy: 0.7821\n",
      "Epoch 10/20\n",
      "10/10 [==============================] - 1s 55ms/step - loss: 2.4851 - accuracy: 0.8387 - val_loss: 2.8205 - val_accuracy: 0.7821\n",
      "Epoch 11/20\n",
      "10/10 [==============================] - 1s 55ms/step - loss: 2.4851 - accuracy: 0.8387 - val_loss: 2.8205 - val_accuracy: 0.7821\n",
      "Epoch 12/20\n",
      "10/10 [==============================] - 1s 56ms/step - loss: 2.4851 - accuracy: 0.8387 - val_loss: 2.8205 - val_accuracy: 0.7821\n",
      "Epoch 13/20\n",
      "10/10 [==============================] - 1s 55ms/step - loss: 2.4851 - accuracy: 0.8387 - val_loss: 2.8205 - val_accuracy: 0.7821\n",
      "Epoch 14/20\n",
      "10/10 [==============================] - 1s 55ms/step - loss: 2.4851 - accuracy: 0.8387 - val_loss: 2.8205 - val_accuracy: 0.7821\n",
      "Epoch 15/20\n",
      "10/10 [==============================] - 1s 56ms/step - loss: 2.4851 - accuracy: 0.8387 - val_loss: 2.8205 - val_accuracy: 0.7821\n",
      "Epoch 16/20\n",
      "10/10 [==============================] - 1s 53ms/step - loss: 2.4851 - accuracy: 0.8387 - val_loss: 2.8205 - val_accuracy: 0.7821\n",
      "Epoch 17/20\n",
      "10/10 [==============================] - 1s 54ms/step - loss: 2.4851 - accuracy: 0.8387 - val_loss: 2.8205 - val_accuracy: 0.7821\n",
      "Epoch 18/20\n",
      "10/10 [==============================] - 1s 58ms/step - loss: 2.4851 - accuracy: 0.8387 - val_loss: 2.8205 - val_accuracy: 0.7821\n",
      "Epoch 19/20\n",
      "10/10 [==============================] - 1s 54ms/step - loss: 2.4851 - accuracy: 0.8387 - val_loss: 2.8205 - val_accuracy: 0.7821\n",
      "Epoch 20/20\n",
      "10/10 [==============================] - 1s 58ms/step - loss: 2.4851 - accuracy: 0.8387 - val_loss: 2.8205 - val_accuracy: 0.7821\n"
     ]
    }
   ],
   "source": [
    "stm = model_output(stim,stim1)"
   ]
  },
  {
   "cell_type": "code",
   "execution_count": 87,
   "metadata": {
    "colab": {
     "base_uri": "https://localhost:8080/"
    },
    "id": "FviHh7A9zWuu",
    "outputId": "90ae69fc-4569-427e-cf8f-14345a1a03b9"
   },
   "outputs": [
    {
     "name": "stdout",
     "output_type": "stream",
     "text": [
      "Epoch 1/20\n",
      "9/9 [==============================] - 2s 221ms/step - loss: 1.8402 - accuracy: 0.8714 - val_loss: 1.7521 - val_accuracy: 0.8873\n",
      "Epoch 2/20\n",
      "9/9 [==============================] - 0s 55ms/step - loss: 1.8147 - accuracy: 0.8821 - val_loss: 1.5368 - val_accuracy: 0.8873\n",
      "Epoch 3/20\n",
      "9/9 [==============================] - 0s 55ms/step - loss: 1.8148 - accuracy: 0.8821 - val_loss: 1.5662 - val_accuracy: 0.8732\n",
      "Epoch 4/20\n",
      "9/9 [==============================] - 0s 55ms/step - loss: 1.8135 - accuracy: 0.8821 - val_loss: 1.5662 - val_accuracy: 0.8732\n",
      "Epoch 5/20\n",
      "9/9 [==============================] - 0s 54ms/step - loss: 1.8135 - accuracy: 0.8821 - val_loss: 1.5662 - val_accuracy: 0.8732\n",
      "Epoch 6/20\n",
      "9/9 [==============================] - 1s 56ms/step - loss: 1.8135 - accuracy: 0.8821 - val_loss: 1.5662 - val_accuracy: 0.8732\n",
      "Epoch 7/20\n",
      "9/9 [==============================] - 0s 55ms/step - loss: 1.8135 - accuracy: 0.8821 - val_loss: 1.5662 - val_accuracy: 0.8732\n",
      "Epoch 8/20\n",
      "9/9 [==============================] - 0s 55ms/step - loss: 1.8135 - accuracy: 0.8821 - val_loss: 1.5662 - val_accuracy: 0.8732\n",
      "Epoch 9/20\n",
      "9/9 [==============================] - 0s 56ms/step - loss: 1.8135 - accuracy: 0.8821 - val_loss: 1.5662 - val_accuracy: 0.8732\n",
      "Epoch 10/20\n",
      "9/9 [==============================] - 0s 55ms/step - loss: 1.8135 - accuracy: 0.8821 - val_loss: 1.5662 - val_accuracy: 0.8732\n",
      "Epoch 11/20\n",
      "9/9 [==============================] - 0s 54ms/step - loss: 1.8135 - accuracy: 0.8821 - val_loss: 1.5662 - val_accuracy: 0.8732\n",
      "Epoch 12/20\n",
      "9/9 [==============================] - 0s 56ms/step - loss: 1.8135 - accuracy: 0.8821 - val_loss: 1.5662 - val_accuracy: 0.8732\n",
      "Epoch 13/20\n",
      "9/9 [==============================] - 0s 54ms/step - loss: 1.8135 - accuracy: 0.8821 - val_loss: 1.5662 - val_accuracy: 0.8732\n",
      "Epoch 14/20\n",
      "9/9 [==============================] - 0s 55ms/step - loss: 1.8135 - accuracy: 0.8821 - val_loss: 1.5662 - val_accuracy: 0.8732\n",
      "Epoch 15/20\n",
      "9/9 [==============================] - 1s 58ms/step - loss: 1.8135 - accuracy: 0.8821 - val_loss: 1.5662 - val_accuracy: 0.8732\n",
      "Epoch 16/20\n",
      "9/9 [==============================] - 0s 54ms/step - loss: 1.8135 - accuracy: 0.8821 - val_loss: 1.5662 - val_accuracy: 0.8732\n",
      "Epoch 17/20\n",
      "9/9 [==============================] - 0s 55ms/step - loss: 1.8135 - accuracy: 0.8821 - val_loss: 1.5662 - val_accuracy: 0.8732\n",
      "Epoch 18/20\n",
      "9/9 [==============================] - 1s 57ms/step - loss: 1.8135 - accuracy: 0.8821 - val_loss: 1.5662 - val_accuracy: 0.8732\n",
      "Epoch 19/20\n",
      "9/9 [==============================] - 1s 56ms/step - loss: 1.8135 - accuracy: 0.8821 - val_loss: 1.5662 - val_accuracy: 0.8732\n",
      "Epoch 20/20\n",
      "9/9 [==============================] - 1s 56ms/step - loss: 1.8135 - accuracy: 0.8821 - val_loss: 1.5662 - val_accuracy: 0.8732\n"
     ]
    }
   ],
   "source": [
    "tus = model_output(titus,titus1)"
   ]
  },
  {
   "cell_type": "code",
   "execution_count": 88,
   "metadata": {
    "colab": {
     "base_uri": "https://localhost:8080/"
    },
    "id": "VBMyo33tzWuu",
    "outputId": "5b2aba4f-011a-42ec-f580-68d5691a3de8"
   },
   "outputs": [
    {
     "name": "stdout",
     "output_type": "stream",
     "text": [
      "Epoch 1/20\n",
      "9/9 [==============================] - 2s 223ms/step - loss: 1.0221 - accuracy: 0.9202 - val_loss: 1.6520 - val_accuracy: 0.8788\n",
      "Epoch 2/20\n",
      "9/9 [==============================] - 0s 55ms/step - loss: 1.0550 - accuracy: 0.9316 - val_loss: 1.6467 - val_accuracy: 0.8788\n",
      "Epoch 3/20\n",
      "9/9 [==============================] - 0s 55ms/step - loss: 1.0527 - accuracy: 0.9316 - val_loss: 1.6651 - val_accuracy: 0.8788\n",
      "Epoch 4/20\n",
      "9/9 [==============================] - 0s 54ms/step - loss: 1.0524 - accuracy: 0.9316 - val_loss: 1.6651 - val_accuracy: 0.8788\n",
      "Epoch 5/20\n",
      "9/9 [==============================] - 1s 57ms/step - loss: 1.0524 - accuracy: 0.9316 - val_loss: 1.6651 - val_accuracy: 0.8788\n",
      "Epoch 6/20\n",
      "9/9 [==============================] - 0s 55ms/step - loss: 1.0524 - accuracy: 0.9316 - val_loss: 1.6651 - val_accuracy: 0.8788\n",
      "Epoch 7/20\n",
      "9/9 [==============================] - 0s 55ms/step - loss: 1.0524 - accuracy: 0.9316 - val_loss: 1.6651 - val_accuracy: 0.8788\n",
      "Epoch 8/20\n",
      "9/9 [==============================] - 1s 56ms/step - loss: 1.0524 - accuracy: 0.9316 - val_loss: 1.6651 - val_accuracy: 0.8788\n",
      "Epoch 9/20\n",
      "9/9 [==============================] - 1s 56ms/step - loss: 1.0524 - accuracy: 0.9316 - val_loss: 1.6651 - val_accuracy: 0.8788\n",
      "Epoch 10/20\n",
      "9/9 [==============================] - 1s 59ms/step - loss: 1.0524 - accuracy: 0.9316 - val_loss: 1.6651 - val_accuracy: 0.8788\n",
      "Epoch 11/20\n",
      "9/9 [==============================] - 0s 53ms/step - loss: 1.0524 - accuracy: 0.9316 - val_loss: 1.6651 - val_accuracy: 0.8788\n",
      "Epoch 12/20\n",
      "9/9 [==============================] - 1s 56ms/step - loss: 1.0524 - accuracy: 0.9316 - val_loss: 1.6651 - val_accuracy: 0.8788\n",
      "Epoch 13/20\n",
      "9/9 [==============================] - 0s 55ms/step - loss: 1.0524 - accuracy: 0.9316 - val_loss: 1.6651 - val_accuracy: 0.8788\n",
      "Epoch 14/20\n",
      "9/9 [==============================] - 0s 55ms/step - loss: 1.0524 - accuracy: 0.9316 - val_loss: 1.6651 - val_accuracy: 0.8788\n",
      "Epoch 15/20\n",
      "9/9 [==============================] - 0s 55ms/step - loss: 1.0524 - accuracy: 0.9316 - val_loss: 1.6651 - val_accuracy: 0.8788\n",
      "Epoch 16/20\n",
      "9/9 [==============================] - 1s 57ms/step - loss: 1.0524 - accuracy: 0.9316 - val_loss: 1.6651 - val_accuracy: 0.8788\n",
      "Epoch 17/20\n",
      "9/9 [==============================] - 0s 54ms/step - loss: 1.0524 - accuracy: 0.9316 - val_loss: 1.6651 - val_accuracy: 0.8788\n",
      "Epoch 18/20\n",
      "9/9 [==============================] - 0s 54ms/step - loss: 1.0524 - accuracy: 0.9316 - val_loss: 1.6651 - val_accuracy: 0.8788\n",
      "Epoch 19/20\n",
      "9/9 [==============================] - 1s 56ms/step - loss: 1.0524 - accuracy: 0.9316 - val_loss: 1.6651 - val_accuracy: 0.8788\n",
      "Epoch 20/20\n",
      "9/9 [==============================] - 0s 55ms/step - loss: 1.0524 - accuracy: 0.9316 - val_loss: 1.6651 - val_accuracy: 0.8788\n"
     ]
    }
   ],
   "source": [
    "plm = model_output(philemon,philemon1)"
   ]
  },
  {
   "cell_type": "code",
   "execution_count": 89,
   "metadata": {
    "colab": {
     "base_uri": "https://localhost:8080/"
    },
    "id": "Gqx_MIqjzWuu",
    "outputId": "46f721fc-2613-4649-fdff-f42fafe5085b"
   },
   "outputs": [
    {
     "name": "stdout",
     "output_type": "stream",
     "text": [
      "Epoch 1/20\n",
      "8/8 [==============================] - 2s 247ms/step - loss: 0.2510 - accuracy: 0.9835 - val_loss: 0.7643 - val_accuracy: 0.9344\n",
      "Epoch 2/20\n",
      "8/8 [==============================] - 0s 55ms/step - loss: 0.2510 - accuracy: 0.9835 - val_loss: 0.7643 - val_accuracy: 0.9344\n",
      "Epoch 3/20\n",
      "8/8 [==============================] - 0s 56ms/step - loss: 0.2510 - accuracy: 0.9835 - val_loss: 0.7643 - val_accuracy: 0.9344\n",
      "Epoch 4/20\n",
      "8/8 [==============================] - 0s 56ms/step - loss: 0.2510 - accuracy: 0.9835 - val_loss: 0.7643 - val_accuracy: 0.9344\n",
      "Epoch 5/20\n",
      "8/8 [==============================] - 0s 55ms/step - loss: 0.2510 - accuracy: 0.9835 - val_loss: 0.7643 - val_accuracy: 0.9344\n",
      "Epoch 6/20\n",
      "8/8 [==============================] - 0s 55ms/step - loss: 0.2510 - accuracy: 0.9835 - val_loss: 0.7643 - val_accuracy: 0.9344\n",
      "Epoch 7/20\n",
      "8/8 [==============================] - 0s 55ms/step - loss: 0.2510 - accuracy: 0.9835 - val_loss: 0.7643 - val_accuracy: 0.9344\n",
      "Epoch 8/20\n",
      "8/8 [==============================] - 0s 56ms/step - loss: 0.2510 - accuracy: 0.9835 - val_loss: 0.7643 - val_accuracy: 0.9344\n",
      "Epoch 9/20\n",
      "8/8 [==============================] - 0s 57ms/step - loss: 0.2510 - accuracy: 0.9835 - val_loss: 0.7643 - val_accuracy: 0.9344\n",
      "Epoch 10/20\n",
      "8/8 [==============================] - 0s 56ms/step - loss: 0.2510 - accuracy: 0.9835 - val_loss: 0.7643 - val_accuracy: 0.9344\n",
      "Epoch 11/20\n",
      "8/8 [==============================] - 0s 54ms/step - loss: 0.2510 - accuracy: 0.9835 - val_loss: 0.7643 - val_accuracy: 0.9344\n",
      "Epoch 12/20\n",
      "8/8 [==============================] - 0s 56ms/step - loss: 0.2510 - accuracy: 0.9835 - val_loss: 0.7643 - val_accuracy: 0.9344\n",
      "Epoch 13/20\n",
      "8/8 [==============================] - 0s 55ms/step - loss: 0.2510 - accuracy: 0.9835 - val_loss: 0.7643 - val_accuracy: 0.9344\n",
      "Epoch 14/20\n",
      "8/8 [==============================] - 0s 56ms/step - loss: 0.2510 - accuracy: 0.9835 - val_loss: 0.7643 - val_accuracy: 0.9344\n",
      "Epoch 15/20\n",
      "8/8 [==============================] - 0s 57ms/step - loss: 0.2510 - accuracy: 0.9835 - val_loss: 0.7643 - val_accuracy: 0.9344\n",
      "Epoch 16/20\n",
      "8/8 [==============================] - 0s 56ms/step - loss: 0.2510 - accuracy: 0.9835 - val_loss: 0.7643 - val_accuracy: 0.9344\n",
      "Epoch 17/20\n",
      "8/8 [==============================] - 0s 55ms/step - loss: 0.2510 - accuracy: 0.9835 - val_loss: 0.7643 - val_accuracy: 0.9344\n",
      "Epoch 18/20\n",
      "8/8 [==============================] - 0s 56ms/step - loss: 0.2510 - accuracy: 0.9835 - val_loss: 0.7643 - val_accuracy: 0.9344\n",
      "Epoch 19/20\n",
      "8/8 [==============================] - 0s 57ms/step - loss: 0.2510 - accuracy: 0.9835 - val_loss: 0.7643 - val_accuracy: 0.9344\n",
      "Epoch 20/20\n",
      "8/8 [==============================] - 0s 57ms/step - loss: 0.2510 - accuracy: 0.9835 - val_loss: 0.7643 - val_accuracy: 0.9344\n"
     ]
    }
   ],
   "source": [
    "jam = model_output(jams,jams1)"
   ]
  },
  {
   "cell_type": "code",
   "execution_count": 90,
   "metadata": {
    "colab": {
     "base_uri": "https://localhost:8080/"
    },
    "id": "tc31e-UrzWuu",
    "outputId": "5514b28a-614d-4456-a8c2-5f1942c6e5d4"
   },
   "outputs": [
    {
     "name": "stdout",
     "output_type": "stream",
     "text": [
      "Epoch 1/20\n",
      "11/11 [==============================] - 2s 196ms/step - loss: 3.1553 - accuracy: 0.7713 - val_loss: 2.6900 - val_accuracy: 0.8049\n",
      "Epoch 2/20\n",
      "11/11 [==============================] - 1s 56ms/step - loss: 3.0110 - accuracy: 0.7927 - val_loss: 2.8448 - val_accuracy: 0.8049\n",
      "Epoch 3/20\n",
      "11/11 [==============================] - 1s 56ms/step - loss: 2.8874 - accuracy: 0.8049 - val_loss: 2.8472 - val_accuracy: 0.8049\n",
      "Epoch 4/20\n",
      "11/11 [==============================] - 1s 57ms/step - loss: 2.6228 - accuracy: 0.8140 - val_loss: 2.4881 - val_accuracy: 0.8171\n",
      "Epoch 5/20\n",
      "11/11 [==============================] - 1s 58ms/step - loss: 2.3638 - accuracy: 0.8232 - val_loss: 3.0551 - val_accuracy: 0.7683\n",
      "Epoch 6/20\n",
      "11/11 [==============================] - 1s 57ms/step - loss: 2.3553 - accuracy: 0.8262 - val_loss: 2.6816 - val_accuracy: 0.8049\n",
      "Epoch 7/20\n",
      "11/11 [==============================] - 1s 57ms/step - loss: 2.1226 - accuracy: 0.8445 - val_loss: 2.7688 - val_accuracy: 0.7683\n",
      "Epoch 8/20\n",
      "11/11 [==============================] - 1s 61ms/step - loss: 1.9950 - accuracy: 0.8567 - val_loss: 2.8540 - val_accuracy: 0.7439\n",
      "Epoch 9/20\n",
      "11/11 [==============================] - 1s 58ms/step - loss: 1.9776 - accuracy: 0.8689 - val_loss: 2.7983 - val_accuracy: 0.7561\n",
      "Epoch 10/20\n",
      "11/11 [==============================] - 1s 60ms/step - loss: 1.9743 - accuracy: 0.8720 - val_loss: 2.8254 - val_accuracy: 0.7439\n",
      "Epoch 11/20\n",
      "11/11 [==============================] - 1s 58ms/step - loss: 1.9741 - accuracy: 0.8720 - val_loss: 2.7244 - val_accuracy: 0.7805\n",
      "Epoch 12/20\n",
      "11/11 [==============================] - 1s 58ms/step - loss: 1.9746 - accuracy: 0.8720 - val_loss: 2.7058 - val_accuracy: 0.7805\n",
      "Epoch 13/20\n",
      "11/11 [==============================] - 1s 57ms/step - loss: 1.9735 - accuracy: 0.8720 - val_loss: 2.7278 - val_accuracy: 0.7561\n",
      "Epoch 14/20\n",
      "11/11 [==============================] - 1s 58ms/step - loss: 1.9783 - accuracy: 0.8720 - val_loss: 2.8744 - val_accuracy: 0.7683\n",
      "Epoch 15/20\n",
      "11/11 [==============================] - 1s 56ms/step - loss: 1.9748 - accuracy: 0.8720 - val_loss: 2.8854 - val_accuracy: 0.7683\n",
      "Epoch 16/20\n",
      "11/11 [==============================] - 1s 60ms/step - loss: 2.0237 - accuracy: 0.8689 - val_loss: 2.7056 - val_accuracy: 0.7561\n",
      "Epoch 17/20\n",
      "11/11 [==============================] - 1s 59ms/step - loss: 2.0198 - accuracy: 0.8689 - val_loss: 2.5523 - val_accuracy: 0.7805\n",
      "Epoch 18/20\n",
      "11/11 [==============================] - 1s 57ms/step - loss: 2.0197 - accuracy: 0.8689 - val_loss: 2.6884 - val_accuracy: 0.7805\n",
      "Epoch 19/20\n",
      "11/11 [==============================] - 1s 57ms/step - loss: 1.9747 - accuracy: 0.8720 - val_loss: 2.8587 - val_accuracy: 0.7927\n",
      "Epoch 20/20\n",
      "11/11 [==============================] - 1s 59ms/step - loss: 1.9725 - accuracy: 0.8720 - val_loss: 2.8587 - val_accuracy: 0.7927\n"
     ]
    }
   ],
   "source": [
    "fpt = model_output(fpet,fpet1)"
   ]
  },
  {
   "cell_type": "code",
   "execution_count": 91,
   "metadata": {
    "colab": {
     "base_uri": "https://localhost:8080/"
    },
    "id": "JgQmPc7izWuv",
    "outputId": "6a6d16cd-18d4-40b1-94a7-64983d1fd47a"
   },
   "outputs": [
    {
     "name": "stdout",
     "output_type": "stream",
     "text": [
      "Epoch 1/20\n",
      "10/10 [==============================] - 2s 208ms/step - loss: 1.8427 - accuracy: 0.8562 - val_loss: 2.8304 - val_accuracy: 0.7671\n",
      "Epoch 2/20\n",
      "10/10 [==============================] - 1s 58ms/step - loss: 1.6078 - accuracy: 0.8904 - val_loss: 2.9975 - val_accuracy: 0.7808\n",
      "Epoch 3/20\n",
      "10/10 [==============================] - 1s 56ms/step - loss: 1.5446 - accuracy: 0.8973 - val_loss: 2.8125 - val_accuracy: 0.7671\n",
      "Epoch 4/20\n",
      "10/10 [==============================] - 1s 57ms/step - loss: 1.5304 - accuracy: 0.9007 - val_loss: 3.0540 - val_accuracy: 0.7671\n",
      "Epoch 5/20\n",
      "10/10 [==============================] - 1s 58ms/step - loss: 1.5295 - accuracy: 0.9007 - val_loss: 3.0540 - val_accuracy: 0.7671\n",
      "Epoch 6/20\n",
      "10/10 [==============================] - 1s 59ms/step - loss: 1.5295 - accuracy: 0.9007 - val_loss: 3.0540 - val_accuracy: 0.7671\n",
      "Epoch 7/20\n",
      "10/10 [==============================] - 1s 59ms/step - loss: 1.5295 - accuracy: 0.9007 - val_loss: 3.0540 - val_accuracy: 0.7671\n",
      "Epoch 8/20\n",
      "10/10 [==============================] - 1s 57ms/step - loss: 1.5295 - accuracy: 0.9007 - val_loss: 3.0540 - val_accuracy: 0.7671\n",
      "Epoch 9/20\n",
      "10/10 [==============================] - 1s 58ms/step - loss: 1.5295 - accuracy: 0.9007 - val_loss: 3.0540 - val_accuracy: 0.7671\n",
      "Epoch 10/20\n",
      "10/10 [==============================] - 1s 58ms/step - loss: 1.5295 - accuracy: 0.9007 - val_loss: 3.0540 - val_accuracy: 0.7671\n",
      "Epoch 11/20\n",
      "10/10 [==============================] - 1s 58ms/step - loss: 1.5295 - accuracy: 0.9007 - val_loss: 3.0540 - val_accuracy: 0.7671\n",
      "Epoch 12/20\n",
      "10/10 [==============================] - 1s 58ms/step - loss: 1.5295 - accuracy: 0.9007 - val_loss: 3.0540 - val_accuracy: 0.7671\n",
      "Epoch 13/20\n",
      "10/10 [==============================] - 1s 58ms/step - loss: 1.5295 - accuracy: 0.9007 - val_loss: 3.0540 - val_accuracy: 0.7671\n",
      "Epoch 14/20\n",
      "10/10 [==============================] - 1s 58ms/step - loss: 1.5295 - accuracy: 0.9007 - val_loss: 3.0540 - val_accuracy: 0.7671\n",
      "Epoch 15/20\n",
      "10/10 [==============================] - 1s 60ms/step - loss: 1.5295 - accuracy: 0.9007 - val_loss: 3.0540 - val_accuracy: 0.7671\n",
      "Epoch 16/20\n",
      "10/10 [==============================] - 1s 59ms/step - loss: 1.5295 - accuracy: 0.9007 - val_loss: 3.0540 - val_accuracy: 0.7671\n",
      "Epoch 17/20\n",
      "10/10 [==============================] - 1s 58ms/step - loss: 1.5295 - accuracy: 0.9007 - val_loss: 3.0540 - val_accuracy: 0.7671\n",
      "Epoch 18/20\n",
      "10/10 [==============================] - 1s 61ms/step - loss: 1.5295 - accuracy: 0.9007 - val_loss: 3.0540 - val_accuracy: 0.7671\n",
      "Epoch 19/20\n",
      "10/10 [==============================] - 1s 58ms/step - loss: 1.5295 - accuracy: 0.9007 - val_loss: 3.0540 - val_accuracy: 0.7671\n",
      "Epoch 20/20\n",
      "10/10 [==============================] - 1s 60ms/step - loss: 1.5295 - accuracy: 0.9007 - val_loss: 3.0540 - val_accuracy: 0.7671\n"
     ]
    }
   ],
   "source": [
    "spt = model_output(spet,spet1)"
   ]
  },
  {
   "cell_type": "code",
   "execution_count": 92,
   "metadata": {
    "colab": {
     "base_uri": "https://localhost:8080/"
    },
    "id": "1wWSkHMBzWuv",
    "outputId": "8f4ac8c5-4ea7-4660-baa2-07e72a938588"
   },
   "outputs": [
    {
     "name": "stdout",
     "output_type": "stream",
     "text": [
      "Epoch 1/20\n",
      "11/11 [==============================] - 3s 244ms/step - loss: 2.2702 - accuracy: 0.8140 - val_loss: 2.1672 - val_accuracy: 0.8171\n",
      "Epoch 2/20\n",
      "11/11 [==============================] - 1s 63ms/step - loss: 1.6223 - accuracy: 0.8384 - val_loss: 2.8387 - val_accuracy: 0.8171\n",
      "Epoch 3/20\n",
      "11/11 [==============================] - 1s 62ms/step - loss: 1.3661 - accuracy: 0.8902 - val_loss: 2.8234 - val_accuracy: 0.8171\n",
      "Epoch 4/20\n",
      "11/11 [==============================] - 1s 61ms/step - loss: 1.3266 - accuracy: 0.9085 - val_loss: 2.8209 - val_accuracy: 0.8171\n",
      "Epoch 5/20\n",
      "11/11 [==============================] - 1s 60ms/step - loss: 1.2769 - accuracy: 0.9146 - val_loss: 2.6435 - val_accuracy: 0.8171\n",
      "Epoch 6/20\n",
      "11/11 [==============================] - 1s 62ms/step - loss: 1.1819 - accuracy: 0.9055 - val_loss: 2.3517 - val_accuracy: 0.8171\n",
      "Epoch 7/20\n",
      "11/11 [==============================] - 1s 61ms/step - loss: 1.0913 - accuracy: 0.9268 - val_loss: 2.5039 - val_accuracy: 0.8171\n",
      "Epoch 8/20\n",
      "11/11 [==============================] - 1s 62ms/step - loss: 1.0818 - accuracy: 0.9299 - val_loss: 2.6626 - val_accuracy: 0.8171\n",
      "Epoch 9/20\n",
      "11/11 [==============================] - 1s 64ms/step - loss: 1.0796 - accuracy: 0.9299 - val_loss: 2.5303 - val_accuracy: 0.8171\n",
      "Epoch 10/20\n",
      "11/11 [==============================] - 1s 60ms/step - loss: 1.0795 - accuracy: 0.9299 - val_loss: 2.5303 - val_accuracy: 0.8171\n",
      "Epoch 11/20\n",
      "11/11 [==============================] - 1s 64ms/step - loss: 1.0795 - accuracy: 0.9299 - val_loss: 2.5303 - val_accuracy: 0.8171\n",
      "Epoch 12/20\n",
      "11/11 [==============================] - 1s 65ms/step - loss: 1.0795 - accuracy: 0.9299 - val_loss: 2.5303 - val_accuracy: 0.8171\n",
      "Epoch 13/20\n",
      "11/11 [==============================] - 1s 63ms/step - loss: 1.0795 - accuracy: 0.9299 - val_loss: 2.5303 - val_accuracy: 0.8171\n",
      "Epoch 14/20\n",
      "11/11 [==============================] - 1s 63ms/step - loss: 1.0795 - accuracy: 0.9299 - val_loss: 2.5303 - val_accuracy: 0.8171\n",
      "Epoch 15/20\n",
      "11/11 [==============================] - 1s 63ms/step - loss: 1.0795 - accuracy: 0.9299 - val_loss: 2.5303 - val_accuracy: 0.8171\n",
      "Epoch 16/20\n",
      "11/11 [==============================] - 1s 63ms/step - loss: 1.0795 - accuracy: 0.9299 - val_loss: 2.5303 - val_accuracy: 0.8171\n",
      "Epoch 17/20\n",
      "11/11 [==============================] - 1s 64ms/step - loss: 1.0795 - accuracy: 0.9299 - val_loss: 2.5303 - val_accuracy: 0.8171\n",
      "Epoch 18/20\n",
      "11/11 [==============================] - 1s 64ms/step - loss: 1.0795 - accuracy: 0.9299 - val_loss: 2.5303 - val_accuracy: 0.8171\n",
      "Epoch 19/20\n",
      "11/11 [==============================] - 1s 63ms/step - loss: 1.0795 - accuracy: 0.9299 - val_loss: 2.5303 - val_accuracy: 0.8171\n",
      "Epoch 20/20\n",
      "11/11 [==============================] - 1s 66ms/step - loss: 1.0795 - accuracy: 0.9299 - val_loss: 2.5303 - val_accuracy: 0.8171\n"
     ]
    }
   ],
   "source": [
    "fjn = model_output(fjohn,fjohn1)"
   ]
  },
  {
   "cell_type": "code",
   "execution_count": 93,
   "metadata": {
    "colab": {
     "base_uri": "https://localhost:8080/"
    },
    "id": "qDarMC-azWuv",
    "outputId": "83af8da1-6f88-4648-a20f-5d3b6a464674"
   },
   "outputs": [
    {
     "name": "stdout",
     "output_type": "stream",
     "text": [
      "Epoch 1/20\n",
      "8/8 [==============================] - 2s 263ms/step - loss: 0.7120 - accuracy: 0.9368 - val_loss: 0.7272 - val_accuracy: 0.9531\n",
      "Epoch 2/20\n",
      "8/8 [==============================] - 1s 69ms/step - loss: 0.5501 - accuracy: 0.9605 - val_loss: 0.7272 - val_accuracy: 0.9531\n",
      "Epoch 3/20\n",
      "8/8 [==============================] - 1s 67ms/step - loss: 0.5469 - accuracy: 0.9644 - val_loss: 0.7355 - val_accuracy: 0.9375\n",
      "Epoch 4/20\n",
      "8/8 [==============================] - 1s 66ms/step - loss: 0.5445 - accuracy: 0.9644 - val_loss: 0.7355 - val_accuracy: 0.9375\n",
      "Epoch 5/20\n",
      "8/8 [==============================] - 1s 66ms/step - loss: 0.5445 - accuracy: 0.9644 - val_loss: 0.7355 - val_accuracy: 0.9375\n",
      "Epoch 6/20\n",
      "8/8 [==============================] - 1s 65ms/step - loss: 0.5445 - accuracy: 0.9644 - val_loss: 0.7355 - val_accuracy: 0.9375\n",
      "Epoch 7/20\n",
      "8/8 [==============================] - 1s 66ms/step - loss: 0.5445 - accuracy: 0.9644 - val_loss: 0.7355 - val_accuracy: 0.9375\n",
      "Epoch 8/20\n",
      "8/8 [==============================] - 1s 66ms/step - loss: 0.5445 - accuracy: 0.9644 - val_loss: 0.7355 - val_accuracy: 0.9375\n",
      "Epoch 9/20\n",
      "8/8 [==============================] - 1s 66ms/step - loss: 0.5445 - accuracy: 0.9644 - val_loss: 0.7355 - val_accuracy: 0.9375\n",
      "Epoch 10/20\n",
      "8/8 [==============================] - 1s 67ms/step - loss: 0.5445 - accuracy: 0.9644 - val_loss: 0.7355 - val_accuracy: 0.9375\n",
      "Epoch 11/20\n",
      "8/8 [==============================] - 1s 66ms/step - loss: 0.5445 - accuracy: 0.9644 - val_loss: 0.7355 - val_accuracy: 0.9375\n",
      "Epoch 12/20\n",
      "8/8 [==============================] - 1s 68ms/step - loss: 0.5445 - accuracy: 0.9644 - val_loss: 0.7355 - val_accuracy: 0.9375\n",
      "Epoch 13/20\n",
      "8/8 [==============================] - 1s 66ms/step - loss: 0.5445 - accuracy: 0.9644 - val_loss: 0.7355 - val_accuracy: 0.9375\n",
      "Epoch 14/20\n",
      "8/8 [==============================] - 1s 67ms/step - loss: 0.5445 - accuracy: 0.9644 - val_loss: 0.7355 - val_accuracy: 0.9375\n",
      "Epoch 15/20\n",
      "8/8 [==============================] - 1s 66ms/step - loss: 0.5445 - accuracy: 0.9644 - val_loss: 0.7355 - val_accuracy: 0.9375\n",
      "Epoch 16/20\n",
      "8/8 [==============================] - 1s 64ms/step - loss: 0.5445 - accuracy: 0.9644 - val_loss: 0.7355 - val_accuracy: 0.9375\n",
      "Epoch 17/20\n",
      "8/8 [==============================] - 1s 70ms/step - loss: 0.5445 - accuracy: 0.9644 - val_loss: 0.7355 - val_accuracy: 0.9375\n",
      "Epoch 18/20\n",
      "8/8 [==============================] - 1s 65ms/step - loss: 0.5445 - accuracy: 0.9644 - val_loss: 0.7355 - val_accuracy: 0.9375\n",
      "Epoch 19/20\n",
      "8/8 [==============================] - 1s 66ms/step - loss: 0.5445 - accuracy: 0.9644 - val_loss: 0.7355 - val_accuracy: 0.9375\n",
      "Epoch 20/20\n",
      "8/8 [==============================] - 1s 63ms/step - loss: 0.5445 - accuracy: 0.9644 - val_loss: 0.7355 - val_accuracy: 0.9375\n"
     ]
    }
   ],
   "source": [
    "sjn = model_output(sjohn,sjohn1)"
   ]
  },
  {
   "cell_type": "code",
   "execution_count": 94,
   "metadata": {
    "colab": {
     "base_uri": "https://localhost:8080/"
    },
    "id": "nlqwf9xqzWuv",
    "outputId": "745afac7-aeb2-4d56-d625-0ba01f3f3307"
   },
   "outputs": [
    {
     "name": "stdout",
     "output_type": "stream",
     "text": [
      "Epoch 1/20\n",
      "8/8 [==============================] - 2s 261ms/step - loss: 0.6318 - accuracy: 0.9412 - val_loss: 0.9558 - val_accuracy: 0.9375\n",
      "Epoch 2/20\n",
      "8/8 [==============================] - 1s 68ms/step - loss: 0.5488 - accuracy: 0.9608 - val_loss: 0.9558 - val_accuracy: 0.9375\n",
      "Epoch 3/20\n",
      "8/8 [==============================] - 1s 69ms/step - loss: 0.5426 - accuracy: 0.9647 - val_loss: 0.9742 - val_accuracy: 0.9219\n",
      "Epoch 4/20\n",
      "8/8 [==============================] - 1s 69ms/step - loss: 0.5417 - accuracy: 0.9647 - val_loss: 0.9742 - val_accuracy: 0.9219\n",
      "Epoch 5/20\n",
      "8/8 [==============================] - 1s 68ms/step - loss: 0.5417 - accuracy: 0.9647 - val_loss: 0.9742 - val_accuracy: 0.9219\n",
      "Epoch 6/20\n",
      "8/8 [==============================] - 1s 67ms/step - loss: 0.5417 - accuracy: 0.9647 - val_loss: 0.9742 - val_accuracy: 0.9219\n",
      "Epoch 7/20\n",
      "8/8 [==============================] - 1s 72ms/step - loss: 0.5417 - accuracy: 0.9647 - val_loss: 0.9742 - val_accuracy: 0.9219\n",
      "Epoch 8/20\n",
      "8/8 [==============================] - 1s 69ms/step - loss: 0.5417 - accuracy: 0.9647 - val_loss: 0.9742 - val_accuracy: 0.9219\n",
      "Epoch 9/20\n",
      "8/8 [==============================] - 1s 67ms/step - loss: 0.5417 - accuracy: 0.9647 - val_loss: 0.9742 - val_accuracy: 0.9219\n",
      "Epoch 10/20\n",
      "8/8 [==============================] - 1s 66ms/step - loss: 0.5417 - accuracy: 0.9647 - val_loss: 0.9742 - val_accuracy: 0.9219\n",
      "Epoch 11/20\n",
      "8/8 [==============================] - 1s 68ms/step - loss: 0.5417 - accuracy: 0.9647 - val_loss: 0.9742 - val_accuracy: 0.9219\n",
      "Epoch 12/20\n",
      "8/8 [==============================] - 1s 66ms/step - loss: 0.5417 - accuracy: 0.9647 - val_loss: 0.9742 - val_accuracy: 0.9219\n",
      "Epoch 13/20\n",
      "8/8 [==============================] - 1s 68ms/step - loss: 0.5417 - accuracy: 0.9647 - val_loss: 0.9742 - val_accuracy: 0.9219\n",
      "Epoch 14/20\n",
      "8/8 [==============================] - 1s 66ms/step - loss: 0.5417 - accuracy: 0.9647 - val_loss: 0.9742 - val_accuracy: 0.9219\n",
      "Epoch 15/20\n",
      "8/8 [==============================] - 1s 68ms/step - loss: 0.5417 - accuracy: 0.9647 - val_loss: 0.9742 - val_accuracy: 0.9219\n",
      "Epoch 16/20\n",
      "8/8 [==============================] - 1s 66ms/step - loss: 0.5417 - accuracy: 0.9647 - val_loss: 0.9742 - val_accuracy: 0.9219\n",
      "Epoch 17/20\n",
      "8/8 [==============================] - 1s 69ms/step - loss: 0.5417 - accuracy: 0.9647 - val_loss: 0.9742 - val_accuracy: 0.9219\n",
      "Epoch 18/20\n",
      "8/8 [==============================] - 1s 67ms/step - loss: 0.5417 - accuracy: 0.9647 - val_loss: 0.9742 - val_accuracy: 0.9219\n",
      "Epoch 19/20\n",
      "8/8 [==============================] - 1s 68ms/step - loss: 0.5417 - accuracy: 0.9647 - val_loss: 0.9742 - val_accuracy: 0.9219\n",
      "Epoch 20/20\n",
      "8/8 [==============================] - 1s 69ms/step - loss: 0.5417 - accuracy: 0.9647 - val_loss: 0.9742 - val_accuracy: 0.9219\n"
     ]
    }
   ],
   "source": [
    "tjn = model_output(tjohn,tjohn1)"
   ]
  },
  {
   "cell_type": "code",
   "execution_count": 95,
   "metadata": {
    "colab": {
     "base_uri": "https://localhost:8080/"
    },
    "id": "OlSi8gPbzWuv",
    "outputId": "5d64f87c-1489-4314-8573-f7ff5c0d6da6"
   },
   "outputs": [
    {
     "name": "stdout",
     "output_type": "stream",
     "text": [
      "Epoch 1/20\n",
      "9/9 [==============================] - 2s 237ms/step - loss: 1.3628 - accuracy: 0.8859 - val_loss: 2.1292 - val_accuracy: 0.8485\n",
      "Epoch 2/20\n",
      "9/9 [==============================] - 1s 67ms/step - loss: 1.1344 - accuracy: 0.9202 - val_loss: 2.1238 - val_accuracy: 0.8485\n",
      "Epoch 3/20\n",
      "9/9 [==============================] - 1s 63ms/step - loss: 1.0657 - accuracy: 0.9278 - val_loss: 2.1221 - val_accuracy: 0.8485\n",
      "Epoch 4/20\n",
      "9/9 [==============================] - 1s 63ms/step - loss: 1.0568 - accuracy: 0.9316 - val_loss: 2.1178 - val_accuracy: 0.8485\n",
      "Epoch 5/20\n",
      "9/9 [==============================] - 1s 67ms/step - loss: 1.0543 - accuracy: 0.9316 - val_loss: 2.1168 - val_accuracy: 0.8636\n",
      "Epoch 6/20\n",
      "9/9 [==============================] - 1s 64ms/step - loss: 1.0533 - accuracy: 0.9316 - val_loss: 2.1161 - val_accuracy: 0.8636\n",
      "Epoch 7/20\n",
      "9/9 [==============================] - 1s 64ms/step - loss: 1.0530 - accuracy: 0.9316 - val_loss: 2.1161 - val_accuracy: 0.8636\n",
      "Epoch 8/20\n",
      "9/9 [==============================] - 1s 65ms/step - loss: 1.0530 - accuracy: 0.9316 - val_loss: 2.1161 - val_accuracy: 0.8636\n",
      "Epoch 9/20\n",
      "9/9 [==============================] - 1s 68ms/step - loss: 1.0530 - accuracy: 0.9316 - val_loss: 2.1161 - val_accuracy: 0.8636\n",
      "Epoch 10/20\n",
      "9/9 [==============================] - 1s 64ms/step - loss: 1.0530 - accuracy: 0.9316 - val_loss: 2.1161 - val_accuracy: 0.8636\n",
      "Epoch 11/20\n",
      "9/9 [==============================] - 1s 66ms/step - loss: 1.0530 - accuracy: 0.9316 - val_loss: 2.1161 - val_accuracy: 0.8636\n",
      "Epoch 12/20\n",
      "9/9 [==============================] - 1s 66ms/step - loss: 1.0530 - accuracy: 0.9316 - val_loss: 2.1161 - val_accuracy: 0.8636\n",
      "Epoch 13/20\n",
      "9/9 [==============================] - 1s 65ms/step - loss: 1.0530 - accuracy: 0.9316 - val_loss: 2.1161 - val_accuracy: 0.8636\n",
      "Epoch 14/20\n",
      "9/9 [==============================] - 1s 66ms/step - loss: 1.0530 - accuracy: 0.9316 - val_loss: 2.1161 - val_accuracy: 0.8636\n",
      "Epoch 15/20\n",
      "9/9 [==============================] - 1s 65ms/step - loss: 1.0530 - accuracy: 0.9316 - val_loss: 2.1161 - val_accuracy: 0.8636\n",
      "Epoch 16/20\n",
      "9/9 [==============================] - 1s 64ms/step - loss: 1.0530 - accuracy: 0.9316 - val_loss: 2.1161 - val_accuracy: 0.8636\n",
      "Epoch 17/20\n",
      "9/9 [==============================] - 1s 65ms/step - loss: 1.0530 - accuracy: 0.9316 - val_loss: 2.1161 - val_accuracy: 0.8636\n",
      "Epoch 18/20\n",
      "9/9 [==============================] - 1s 64ms/step - loss: 1.0530 - accuracy: 0.9316 - val_loss: 2.1161 - val_accuracy: 0.8636\n",
      "Epoch 19/20\n",
      "9/9 [==============================] - 1s 63ms/step - loss: 1.0530 - accuracy: 0.9316 - val_loss: 2.1161 - val_accuracy: 0.8636\n",
      "Epoch 20/20\n",
      "9/9 [==============================] - 1s 65ms/step - loss: 1.0530 - accuracy: 0.9316 - val_loss: 2.1161 - val_accuracy: 0.8636\n"
     ]
    }
   ],
   "source": [
    "jde = model_output(jud,jud1)"
   ]
  },
  {
   "cell_type": "code",
   "execution_count": 96,
   "metadata": {
    "colab": {
     "base_uri": "https://localhost:8080/"
    },
    "id": "25w6mLxmzWuv",
    "outputId": "dba069e6-d8e5-4d9d-93f3-131b4dd74a26"
   },
   "outputs": [
    {
     "name": "stdout",
     "output_type": "stream",
     "text": [
      "Epoch 1/20\n",
      "18/18 [==============================] - 3s 158ms/step - loss: 4.9624 - accuracy: 0.5958 - val_loss: 4.5199 - val_accuracy: 0.6643\n",
      "Epoch 2/20\n",
      "18/18 [==============================] - 1s 70ms/step - loss: 3.6103 - accuracy: 0.7153 - val_loss: 4.2432 - val_accuracy: 0.6783\n",
      "Epoch 3/20\n",
      "18/18 [==============================] - 1s 69ms/step - loss: 3.4010 - accuracy: 0.7276 - val_loss: 4.6198 - val_accuracy: 0.6364\n",
      "Epoch 4/20\n",
      "18/18 [==============================] - 1s 70ms/step - loss: 2.9729 - accuracy: 0.7627 - val_loss: 4.2799 - val_accuracy: 0.6154\n",
      "Epoch 5/20\n",
      "18/18 [==============================] - 1s 71ms/step - loss: 2.8405 - accuracy: 0.7979 - val_loss: 3.8632 - val_accuracy: 0.6364\n",
      "Epoch 6/20\n",
      "18/18 [==============================] - 1s 71ms/step - loss: 2.7076 - accuracy: 0.8049 - val_loss: 3.9813 - val_accuracy: 0.6364\n",
      "Epoch 7/20\n",
      "18/18 [==============================] - 1s 72ms/step - loss: 2.6651 - accuracy: 0.8190 - val_loss: 3.6604 - val_accuracy: 0.6434\n",
      "Epoch 8/20\n",
      "18/18 [==============================] - 1s 69ms/step - loss: 2.6093 - accuracy: 0.8278 - val_loss: 4.4059 - val_accuracy: 0.6364\n",
      "Epoch 9/20\n",
      "18/18 [==============================] - 1s 70ms/step - loss: 2.5639 - accuracy: 0.8067 - val_loss: 3.5704 - val_accuracy: 0.6503\n",
      "Epoch 10/20\n",
      "18/18 [==============================] - 1s 71ms/step - loss: 2.4576 - accuracy: 0.8313 - val_loss: 3.5688 - val_accuracy: 0.6713\n",
      "Epoch 11/20\n",
      "18/18 [==============================] - 1s 69ms/step - loss: 2.3630 - accuracy: 0.8383 - val_loss: 3.6864 - val_accuracy: 0.6923\n",
      "Epoch 12/20\n",
      "18/18 [==============================] - 1s 69ms/step - loss: 2.2829 - accuracy: 0.8207 - val_loss: 3.7204 - val_accuracy: 0.6783\n",
      "Epoch 13/20\n",
      "18/18 [==============================] - 1s 70ms/step - loss: 2.1168 - accuracy: 0.8418 - val_loss: 3.6803 - val_accuracy: 0.6853\n",
      "Epoch 14/20\n",
      "18/18 [==============================] - 1s 69ms/step - loss: 2.0837 - accuracy: 0.8330 - val_loss: 3.8685 - val_accuracy: 0.6364\n",
      "Epoch 15/20\n",
      "18/18 [==============================] - 1s 70ms/step - loss: 1.8877 - accuracy: 0.8471 - val_loss: 3.6969 - val_accuracy: 0.6434\n",
      "Epoch 16/20\n",
      "18/18 [==============================] - 1s 69ms/step - loss: 1.8466 - accuracy: 0.8682 - val_loss: 3.9470 - val_accuracy: 0.6643\n",
      "Epoch 17/20\n",
      "18/18 [==============================] - 1s 70ms/step - loss: 1.7426 - accuracy: 0.8735 - val_loss: 3.4861 - val_accuracy: 0.6783\n",
      "Epoch 18/20\n",
      "18/18 [==============================] - 1s 80ms/step - loss: 1.6175 - accuracy: 0.8787 - val_loss: 4.0675 - val_accuracy: 0.6503\n",
      "Epoch 19/20\n",
      "18/18 [==============================] - 2s 88ms/step - loss: 1.6238 - accuracy: 0.8805 - val_loss: 3.6903 - val_accuracy: 0.6923\n",
      "Epoch 20/20\n",
      "18/18 [==============================] - 2s 86ms/step - loss: 1.5774 - accuracy: 0.8963 - val_loss: 3.7952 - val_accuracy: 0.6923\n"
     ]
    }
   ],
   "source": [
    "rvl = model_output(rev,rev1)"
   ]
  },
  {
   "cell_type": "code",
   "execution_count": 97,
   "metadata": {
    "id": "thFlXgjpzWuv"
   },
   "outputs": [],
   "source": [
    "from pandas.core.frame import DataFrame\n",
    "df_loss = {'Matthew':mat.history['loss'],'Mark':mak.history['loss'],'Luke':luk.history['loss'],'John':joh.history['loss'],\n",
    "           'Acts':act.history['loss'],'Romans':rom.history['loss'],'1Cor':fcr.history['loss'],'2Cor':scr.history['loss'],'Gal':glt.history['loss'],\n",
    "           'Eph':ept.history['loss'],'Phl':plp.history['loss'],'Col':cls.history['loss'],'1The':ftl.history['loss'],'2The':stl.history['loss'],\n",
    "           '1Tim':ftm.history['loss'],'2Tim':stm.history['loss'],'Titus':tus.history['loss'],'Phi':plm.history['loss'],'James':jam.history['loss'],\n",
    "           '1Peter':fpt.history['loss'],'2Peter':spt.history['loss'],'1John':fjn.history['loss'],'2John':sjn.history['loss'],'3John':tjn.history['loss'],\n",
    "           'Jude':jde.history['loss'],'Rev':rvl.history['loss']}\n",
    "tyn_loss = DataFrame(df_loss)\n",
    "\n",
    "df_val_loss = {'Matthew':mat.history['val_loss'],'Mark':mak.history['val_loss'],'Luke':luk.history['val_loss'],'John':joh.history['val_loss'],\n",
    "           'Acts':act.history['val_loss'],'Romans':rom.history['val_loss'],'1Cor':fcr.history['val_loss'],'2Cor':scr.history['val_loss'],'Gal':glt.history['val_loss'],\n",
    "           'Eph':ept.history['val_loss'],'Phl':plp.history['val_loss'],'Col':cls.history['val_loss'],'1The':ftl.history['val_loss'],'2The':stl.history['val_loss'],\n",
    "           '1Tim':ftm.history['val_loss'],'2Tim':stm.history['val_loss'],'Titus':tus.history['val_loss'],'Phi':plm.history['val_loss'],'James':jam.history['val_loss'],\n",
    "           '1Peter':fpt.history['val_loss'],'2Peter':spt.history['val_loss'],'1John':fjn.history['val_loss'],'2John':sjn.history['val_loss'],'3John':tjn.history['val_loss'],\n",
    "           'Jude':jde.history['val_loss'],'Rev':rvl.history['val_loss']}\n",
    "tyn_val_loss = DataFrame(df_val_loss)\n",
    "\n",
    "df_accuracy = {'Matthew':mat.history['accuracy'],'Mark':mak.history['accuracy'],'Luke':luk.history['accuracy'],'John':joh.history['accuracy'],\n",
    "           'Acts':act.history['accuracy'],'Romans':rom.history['accuracy'],'1Cor':fcr.history['accuracy'],'2Cor':scr.history['accuracy'],'Gal':glt.history['accuracy'],\n",
    "           'Eph':ept.history['accuracy'],'Phl':plp.history['accuracy'],'Col':cls.history['accuracy'],'1The':ftl.history['accuracy'],'2The':stl.history['accuracy'],\n",
    "           '1Tim':ftm.history['accuracy'],'2Tim':stm.history['accuracy'],'Titus':tus.history['accuracy'],'Phi':plm.history['accuracy'],'James':jam.history['accuracy'],\n",
    "           '1Peter':fpt.history['accuracy'],'2Peter':spt.history['accuracy'],'1John':fjn.history['accuracy'],'2John':sjn.history['accuracy'],'3John':tjn.history['accuracy'],\n",
    "           'Jude':jde.history['accuracy'],'Rev':rvl.history['accuracy']}\n",
    "tyn_accuracy = DataFrame(df_accuracy)\n",
    "\n",
    "df_val_accuracy = {'Matthew':mat.history['val_accuracy'],'Mark':mak.history['val_accuracy'],'Luke':luk.history['val_accuracy'],'John':joh.history['val_accuracy'],\n",
    "           'Acts':act.history['val_accuracy'],'Romans':rom.history['val_accuracy'],'1Cor':fcr.history['val_accuracy'],'2Cor':scr.history['val_accuracy'],'Gal':glt.history['val_accuracy'],\n",
    "           'Eph':ept.history['val_accuracy'],'Phl':plp.history['val_accuracy'],'Col':cls.history['val_accuracy'],'1The':ftl.history['val_accuracy'],'2The':stl.history['val_accuracy'],\n",
    "           '1Tim':ftm.history['val_accuracy'],'2Tim':stm.history['val_accuracy'],'Titus':tus.history['val_accuracy'],'Phi':plm.history['val_accuracy'],'James':jam.history['val_accuracy'],\n",
    "           '1Peter':fpt.history['val_accuracy'],'2Peter':spt.history['val_accuracy'],'1John':fjn.history['val_accuracy'],'2John':sjn.history['val_accuracy'],'3John':tjn.history['val_accuracy'],\n",
    "           'Jude':jde.history['val_accuracy'],'Rev':rvl.history['val_accuracy']}\n",
    "tyn_val_accuracy = DataFrame(df_val_accuracy)"
   ]
  },
  {
   "cell_type": "code",
   "execution_count": 98,
   "metadata": {
    "id": "-WKoX24JzWuv"
   },
   "outputs": [],
   "source": [
    "tyn_loss.to_excel('Tyndale LOSS.xlsx',encoding = 'utf-8', index = False)\n",
    "tyn_accuracy.to_excel('Tyndale ACCURACY.xlsx',encoding = 'utf-8', index = False)  \n",
    "tyn_val_loss.to_excel('Tyndale VALIDATION LOSS.xlsx',encoding = 'utf-8', index = False)  \n",
    "tyn_val_accuracy.to_excel('Tyndale VALIDATION ACCURACY.xlsx',encoding = 'utf-8', index = False) "
   ]
  },
  {
   "cell_type": "code",
   "execution_count": 99,
   "metadata": {
    "colab": {
     "base_uri": "https://localhost:8080/",
     "height": 445
    },
    "id": "t1X4xAbkzWuv",
    "outputId": "b7a09a80-451d-4a58-a819-201442ace1f3"
   },
   "outputs": [
    {
     "data": {
      "image/png": "[encoded data removed]",
      "text/plain": [
       "<Figure size 432x288 with 1 Axes>"
      ]
     },
     "metadata": {
      "needs_background": "light",
      "tags": []
     },
     "output_type": "display_data"
    }
   ],
   "source": [
    "import matplotlib.pyplot as plt\n",
    "\n",
    "matvac = mat.history['val_accuracy']\n",
    "makvac = mak.history['val_accuracy']\n",
    "lukvac = luk.history['val_accuracy']\n",
    "johvac = joh.history['val_accuracy']\n",
    "actvac = act.history['val_accuracy']\n",
    "romvac = rom.history['val_accuracy']\n",
    "fcrvac = fcr.history['val_accuracy']\n",
    "scrvac = scr.history['val_accuracy']\n",
    "gltvac = glt.history['val_accuracy']\n",
    "eptvac = ept.history['val_accuracy']\n",
    "plpvac = plp.history['val_accuracy']\n",
    "clsvac = cls.history['val_accuracy']\n",
    "ftlvac = ftl.history['val_accuracy']\n",
    "stlvac = stl.history['val_accuracy']\n",
    "ftmvac = ftm.history['val_accuracy']\n",
    "stmvac = stm.history['val_accuracy']\n",
    "tusvac = tus.history['val_accuracy']\n",
    "plmvac = plm.history['val_accuracy']\n",
    "jamvac = jam.history['val_accuracy']\n",
    "fptvac = fpt.history['val_accuracy']\n",
    "sptvac = spt.history['val_accuracy']\n",
    "fjnvac = fjn.history['val_accuracy']\n",
    "sjnvac = sjn.history['val_accuracy']\n",
    "tjnvac = tjn.history['val_accuracy']\n",
    "jdevac = jde.history['val_accuracy']\n",
    "rvlvac = rvl.history['val_accuracy']\n",
    "\n",
    "epochs = range(1, len(matvac) + 1)\n",
    "\n",
    "plt.plot(epochs, matvac, 'b', label='matthew')\n",
    "plt.plot(epochs, makvac, 'r', label='mark')\n",
    "plt.plot(epochs, lukvac, 'y', label='luke')\n",
    "plt.plot(epochs, johvac, 'brown', label='john')\n",
    "plt.plot(epochs, actvac, 'coral', label='acts')\n",
    "plt.plot(epochs, romvac, 'darkgray', label='romans')\n",
    "plt.plot(epochs, fcrvac, 'deeppink', label='1Cor')\n",
    "plt.plot(epochs, scrvac, 'gold', label='2Cor')\n",
    "plt.plot(epochs, gltvac, 'green', label='Gal')\n",
    "plt.plot(epochs, eptvac, 'lightblue', label='Eph')\n",
    "plt.plot(epochs, plpvac, 'lightcoral', label='Phl')\n",
    "plt.plot(epochs, clsvac, 'lightgreen', label='Col')\n",
    "plt.plot(epochs, ftlvac, 'lightskyblue', label='1The')\n",
    "plt.plot(epochs, stlvac, 'navy', label='2The')\n",
    "plt.plot(epochs, ftmvac, 'skyblue', label='1Tim')\n",
    "plt.plot(epochs, stmvac, 'yellowgreen', label='2Tim')\n",
    "plt.plot(epochs, tusvac, 'peru', label='Titus')\n",
    "plt.plot(epochs, plmvac, 'orange', label='Phi')\n",
    "plt.plot(epochs, jamvac, 'purple', label='James')\n",
    "plt.plot(epochs, fptvac, 'orchid', label='1Peter')\n",
    "plt.plot(epochs, sptvac, 'ivory', label='2Peter')\n",
    "plt.plot(epochs, fjnvac, 'firebrick', label='1John')\n",
    "plt.plot(epochs, sjnvac, 'lightcyan', label='2John')\n",
    "plt.plot(epochs, tjnvac, 'violet', label='3John')\n",
    "plt.plot(epochs, jdevac, 'darkmagenta', label='Jude')\n",
    "plt.plot(epochs, rvlvac, 'magenta', label='Rev')\n",
    "plt.title('tyndale writing style validation accuracy')\n",
    "plt.xlabel('Epochs')\n",
    "plt.ylabel('Loss')\n",
    "plt.legend()\n",
    "\n",
    "plt.show()"
   ]
  },
  {
   "cell_type": "code",
   "execution_count": 100,
   "metadata": {
    "id": "UDKmyYR4zWuv"
   },
   "outputs": [],
   "source": [
    "mat_s1 = cosine_text(Matthew)\n",
    "mark_s1 = cosine_text(Mark)\n",
    "luke_s1 = cosine_text(Luke_Book)\n",
    "jam_s1 = cosine_text(James)\n",
    "pet_s1 = cosine_text(Peter_letter)\n",
    "john_s1 = cosine_text(John_Book.dropna())\n",
    "jude_s1 = cosine_text(Jude)\n",
    "pl_s1 = cosine_text(Paul_letters)"
   ]
  },
  {
   "cell_type": "code",
   "execution_count": 101,
   "metadata": {
    "id": "05soi136zWuw"
   },
   "outputs": [],
   "source": [
    "mat_s11 = text_author(Matthew)\n",
    "mark_s11 = text_author(Mark)\n",
    "luke_s11 = text_author(Luke_Book)\n",
    "jam_s11 = text_author(James)\n",
    "pet_s11 = text_author(Peter_letter)\n",
    "john_s11 = text_author(John_Book.dropna())\n",
    "jude_s11 = text_author(Jude)\n",
    "pl_s11 = text_author(Paul_letters)"
   ]
  },
  {
   "cell_type": "code",
   "execution_count": 102,
   "metadata": {
    "colab": {
     "base_uri": "https://localhost:8080/"
    },
    "id": "VngmM77azWuw",
    "outputId": "ffe3c8ca-16fc-402b-828c-415912c7128d"
   },
   "outputs": [
    {
     "name": "stdout",
     "output_type": "stream",
     "text": [
      "Epoch 1/20\n",
      "35/35 [==============================] - 4s 116ms/step - loss: 3.6123 - accuracy: 0.6993 - val_loss: 2.6647 - val_accuracy: 0.7971\n",
      "Epoch 2/20\n",
      "35/35 [==============================] - 2s 71ms/step - loss: 3.0193 - accuracy: 0.7717 - val_loss: 2.5815 - val_accuracy: 0.7862\n",
      "Epoch 3/20\n",
      "35/35 [==============================] - 2s 71ms/step - loss: 2.7647 - accuracy: 0.7953 - val_loss: 2.8882 - val_accuracy: 0.7790\n",
      "Epoch 4/20\n",
      "35/35 [==============================] - 2s 69ms/step - loss: 2.6631 - accuracy: 0.8053 - val_loss: 2.5835 - val_accuracy: 0.7935\n",
      "Epoch 5/20\n",
      "35/35 [==============================] - 2s 70ms/step - loss: 2.4691 - accuracy: 0.8188 - val_loss: 2.6624 - val_accuracy: 0.7899\n",
      "Epoch 6/20\n",
      "35/35 [==============================] - 2s 70ms/step - loss: 2.4177 - accuracy: 0.8297 - val_loss: 2.6961 - val_accuracy: 0.7935\n",
      "Epoch 7/20\n",
      "35/35 [==============================] - 2s 69ms/step - loss: 2.3411 - accuracy: 0.8388 - val_loss: 2.7037 - val_accuracy: 0.7717\n",
      "Epoch 8/20\n",
      "35/35 [==============================] - 2s 69ms/step - loss: 2.3165 - accuracy: 0.8424 - val_loss: 2.6901 - val_accuracy: 0.7899\n",
      "Epoch 9/20\n",
      "35/35 [==============================] - 2s 69ms/step - loss: 2.3031 - accuracy: 0.8433 - val_loss: 2.6151 - val_accuracy: 0.8007\n",
      "Epoch 10/20\n",
      "35/35 [==============================] - 2s 70ms/step - loss: 2.2788 - accuracy: 0.8478 - val_loss: 2.6737 - val_accuracy: 0.7971\n",
      "Epoch 11/20\n",
      "35/35 [==============================] - 2s 70ms/step - loss: 2.1495 - accuracy: 0.8433 - val_loss: 2.6227 - val_accuracy: 0.7899\n",
      "Epoch 12/20\n",
      "35/35 [==============================] - 2s 69ms/step - loss: 2.1043 - accuracy: 0.8569 - val_loss: 2.4428 - val_accuracy: 0.7971\n",
      "Epoch 13/20\n",
      "35/35 [==============================] - 2s 70ms/step - loss: 2.0690 - accuracy: 0.8596 - val_loss: 2.5289 - val_accuracy: 0.7899\n",
      "Epoch 14/20\n",
      "35/35 [==============================] - 2s 69ms/step - loss: 2.0181 - accuracy: 0.8632 - val_loss: 2.9137 - val_accuracy: 0.7754\n",
      "Epoch 15/20\n",
      "35/35 [==============================] - 3s 74ms/step - loss: 1.9346 - accuracy: 0.8614 - val_loss: 2.6517 - val_accuracy: 0.7826\n",
      "Epoch 16/20\n",
      "35/35 [==============================] - 3s 74ms/step - loss: 1.8666 - accuracy: 0.8732 - val_loss: 2.8543 - val_accuracy: 0.7754\n",
      "Epoch 17/20\n",
      "35/35 [==============================] - 2s 70ms/step - loss: 1.8784 - accuracy: 0.8705 - val_loss: 2.5899 - val_accuracy: 0.7862\n",
      "Epoch 18/20\n",
      "35/35 [==============================] - 2s 70ms/step - loss: 1.8398 - accuracy: 0.8759 - val_loss: 2.7196 - val_accuracy: 0.7935\n",
      "Epoch 19/20\n",
      "35/35 [==============================] - 3s 74ms/step - loss: 1.8274 - accuracy: 0.8795 - val_loss: 2.6875 - val_accuracy: 0.7935\n",
      "Epoch 20/20\n",
      "35/35 [==============================] - 3s 74ms/step - loss: 1.8246 - accuracy: 0.8804 - val_loss: 2.6805 - val_accuracy: 0.7826\n"
     ]
    }
   ],
   "source": [
    "matthewbook = model_output(mat_s1,mat_s11)"
   ]
  },
  {
   "cell_type": "code",
   "execution_count": 103,
   "metadata": {
    "colab": {
     "base_uri": "https://localhost:8080/"
    },
    "id": "QlhCTEWOzWuw",
    "outputId": "79ad61d2-02c8-4995-95cf-aa1d1a27520c"
   },
   "outputs": [
    {
     "name": "stdout",
     "output_type": "stream",
     "text": [
      "Epoch 1/20\n",
      "25/25 [==============================] - 3s 135ms/step - loss: 3.3945 - accuracy: 0.7185 - val_loss: 4.2982 - val_accuracy: 0.6802\n",
      "Epoch 2/20\n",
      "25/25 [==============================] - 2s 70ms/step - loss: 3.0571 - accuracy: 0.7720 - val_loss: 4.0322 - val_accuracy: 0.6701\n",
      "Epoch 3/20\n",
      "25/25 [==============================] - 2s 72ms/step - loss: 2.6594 - accuracy: 0.7783 - val_loss: 3.8334 - val_accuracy: 0.6650\n",
      "Epoch 4/20\n",
      "25/25 [==============================] - 2s 73ms/step - loss: 2.2673 - accuracy: 0.8000 - val_loss: 3.9278 - val_accuracy: 0.6802\n",
      "Epoch 5/20\n",
      "25/25 [==============================] - 2s 68ms/step - loss: 2.1790 - accuracy: 0.8318 - val_loss: 3.7283 - val_accuracy: 0.6853\n",
      "Epoch 6/20\n",
      "25/25 [==============================] - 2s 69ms/step - loss: 2.1144 - accuracy: 0.8408 - val_loss: 3.6574 - val_accuracy: 0.6650\n",
      "Epoch 7/20\n",
      "25/25 [==============================] - 2s 68ms/step - loss: 1.9743 - accuracy: 0.8446 - val_loss: 3.6934 - val_accuracy: 0.6751\n",
      "Epoch 8/20\n",
      "25/25 [==============================] - 2s 69ms/step - loss: 1.8199 - accuracy: 0.8561 - val_loss: 3.2246 - val_accuracy: 0.6548\n",
      "Epoch 9/20\n",
      "25/25 [==============================] - 2s 69ms/step - loss: 1.7633 - accuracy: 0.8637 - val_loss: 3.7850 - val_accuracy: 0.6853\n",
      "Epoch 10/20\n",
      "25/25 [==============================] - 2s 69ms/step - loss: 1.6449 - accuracy: 0.8726 - val_loss: 3.4952 - val_accuracy: 0.6904\n",
      "Epoch 11/20\n",
      "25/25 [==============================] - 2s 69ms/step - loss: 1.5933 - accuracy: 0.8841 - val_loss: 3.4333 - val_accuracy: 0.6650\n",
      "Epoch 12/20\n",
      "25/25 [==============================] - 2s 69ms/step - loss: 1.5648 - accuracy: 0.8892 - val_loss: 3.7090 - val_accuracy: 0.6802\n",
      "Epoch 13/20\n",
      "25/25 [==============================] - 2s 68ms/step - loss: 1.5003 - accuracy: 0.8943 - val_loss: 3.8913 - val_accuracy: 0.6751\n",
      "Epoch 14/20\n",
      "25/25 [==============================] - 2s 68ms/step - loss: 1.4957 - accuracy: 0.8904 - val_loss: 3.8344 - val_accuracy: 0.6599\n",
      "Epoch 15/20\n",
      "25/25 [==============================] - 2s 68ms/step - loss: 1.4671 - accuracy: 0.9019 - val_loss: 3.6365 - val_accuracy: 0.6497\n",
      "Epoch 16/20\n",
      "25/25 [==============================] - 2s 69ms/step - loss: 1.4115 - accuracy: 0.9032 - val_loss: 3.8635 - val_accuracy: 0.6599\n",
      "Epoch 17/20\n",
      "25/25 [==============================] - 2s 70ms/step - loss: 1.3946 - accuracy: 0.9045 - val_loss: 3.7988 - val_accuracy: 0.6548\n",
      "Epoch 18/20\n",
      "25/25 [==============================] - 2s 69ms/step - loss: 1.3204 - accuracy: 0.8994 - val_loss: 3.5531 - val_accuracy: 0.6599\n",
      "Epoch 19/20\n",
      "25/25 [==============================] - 2s 69ms/step - loss: 1.2333 - accuracy: 0.9172 - val_loss: 3.7062 - val_accuracy: 0.6599\n",
      "Epoch 20/20\n",
      "25/25 [==============================] - 2s 69ms/step - loss: 1.2318 - accuracy: 0.9172 - val_loss: 3.9060 - val_accuracy: 0.6548\n"
     ]
    }
   ],
   "source": [
    "markbook = model_output(mark_s1,mark_s11)"
   ]
  },
  {
   "cell_type": "code",
   "execution_count": 104,
   "metadata": {
    "colab": {
     "base_uri": "https://localhost:8080/"
    },
    "id": "eEGoNaLazWuw",
    "outputId": "ea52a249-d1e0-4f1e-9ba9-71c60945dd8e"
   },
   "outputs": [
    {
     "name": "stdout",
     "output_type": "stream",
     "text": [
      "Epoch 1/20\n",
      "37/37 [==============================] - 4s 117ms/step - loss: 2.2330 - accuracy: 0.8031 - val_loss: 2.2585 - val_accuracy: 0.8082\n",
      "Epoch 2/20\n",
      "37/37 [==============================] - 3s 71ms/step - loss: 1.8166 - accuracy: 0.8570 - val_loss: 2.2262 - val_accuracy: 0.8151\n",
      "Epoch 3/20\n",
      "37/37 [==============================] - 3s 72ms/step - loss: 1.7243 - accuracy: 0.8673 - val_loss: 2.1228 - val_accuracy: 0.8048\n",
      "Epoch 4/20\n",
      "37/37 [==============================] - 3s 71ms/step - loss: 1.6250 - accuracy: 0.8801 - val_loss: 2.3193 - val_accuracy: 0.8082\n",
      "Epoch 5/20\n",
      "37/37 [==============================] - 3s 71ms/step - loss: 1.5399 - accuracy: 0.8801 - val_loss: 2.3390 - val_accuracy: 0.7979\n",
      "Epoch 6/20\n",
      "37/37 [==============================] - 3s 71ms/step - loss: 1.4644 - accuracy: 0.8887 - val_loss: 2.2991 - val_accuracy: 0.7705\n",
      "Epoch 7/20\n",
      "37/37 [==============================] - 3s 71ms/step - loss: 1.3765 - accuracy: 0.9050 - val_loss: 2.4732 - val_accuracy: 0.7911\n",
      "Epoch 8/20\n",
      "37/37 [==============================] - 3s 72ms/step - loss: 1.3585 - accuracy: 0.9067 - val_loss: 2.3635 - val_accuracy: 0.7979\n",
      "Epoch 9/20\n",
      "37/37 [==============================] - 3s 71ms/step - loss: 1.3032 - accuracy: 0.9075 - val_loss: 2.4698 - val_accuracy: 0.7740\n",
      "Epoch 10/20\n",
      "37/37 [==============================] - 3s 70ms/step - loss: 1.3043 - accuracy: 0.9101 - val_loss: 2.4230 - val_accuracy: 0.7877\n",
      "Epoch 11/20\n",
      "37/37 [==============================] - 3s 70ms/step - loss: 1.2782 - accuracy: 0.9118 - val_loss: 2.5866 - val_accuracy: 0.7774\n",
      "Epoch 12/20\n",
      "37/37 [==============================] - 3s 71ms/step - loss: 1.2631 - accuracy: 0.9170 - val_loss: 2.3939 - val_accuracy: 0.7877\n",
      "Epoch 13/20\n",
      "37/37 [==============================] - 3s 70ms/step - loss: 1.2589 - accuracy: 0.9178 - val_loss: 2.5537 - val_accuracy: 0.8048\n",
      "Epoch 14/20\n",
      "37/37 [==============================] - 3s 70ms/step - loss: 1.2545 - accuracy: 0.9135 - val_loss: 2.3351 - val_accuracy: 0.8151\n",
      "Epoch 15/20\n",
      "37/37 [==============================] - 3s 70ms/step - loss: 1.2543 - accuracy: 0.9118 - val_loss: 2.3783 - val_accuracy: 0.7911\n",
      "Epoch 16/20\n",
      "37/37 [==============================] - 3s 71ms/step - loss: 1.2223 - accuracy: 0.9178 - val_loss: 2.4205 - val_accuracy: 0.8048\n",
      "Epoch 17/20\n",
      "37/37 [==============================] - 3s 70ms/step - loss: 1.1398 - accuracy: 0.9135 - val_loss: 2.6732 - val_accuracy: 0.7671\n",
      "Epoch 18/20\n",
      "37/37 [==============================] - 3s 71ms/step - loss: 1.1128 - accuracy: 0.9127 - val_loss: 2.6059 - val_accuracy: 0.7842\n",
      "Epoch 19/20\n",
      "37/37 [==============================] - 3s 72ms/step - loss: 1.0773 - accuracy: 0.9289 - val_loss: 2.5444 - val_accuracy: 0.8014\n",
      "Epoch 20/20\n",
      "37/37 [==============================] - 3s 71ms/step - loss: 1.0641 - accuracy: 0.9272 - val_loss: 2.6728 - val_accuracy: 0.7740\n"
     ]
    }
   ],
   "source": [
    "lukebook = model_output(luke_s1,luke_s11)"
   ]
  },
  {
   "cell_type": "code",
   "execution_count": 106,
   "metadata": {
    "colab": {
     "base_uri": "https://localhost:8080/"
    },
    "id": "5w3Rurb5zWuw",
    "outputId": "18728868-0377-4242-e5cd-0233c894affc"
   },
   "outputs": [
    {
     "name": "stdout",
     "output_type": "stream",
     "text": [
      "Epoch 1/20\n",
      "8/8 [==============================] - 2s 268ms/step - loss: 0.2510 - accuracy: 0.9835 - val_loss: 0.0176 - val_accuracy: 0.9836\n",
      "Epoch 2/20\n",
      "8/8 [==============================] - 1s 66ms/step - loss: 0.2510 - accuracy: 0.9835 - val_loss: 0.0176 - val_accuracy: 0.9836\n",
      "Epoch 3/20\n",
      "8/8 [==============================] - 1s 66ms/step - loss: 0.2510 - accuracy: 0.9835 - val_loss: 0.0176 - val_accuracy: 0.9836\n",
      "Epoch 4/20\n",
      "8/8 [==============================] - 1s 69ms/step - loss: 0.2510 - accuracy: 0.9835 - val_loss: 0.0176 - val_accuracy: 0.9836\n",
      "Epoch 5/20\n",
      "8/8 [==============================] - 1s 64ms/step - loss: 0.2510 - accuracy: 0.9835 - val_loss: 0.0176 - val_accuracy: 0.9836\n",
      "Epoch 6/20\n",
      "8/8 [==============================] - 1s 71ms/step - loss: 0.2510 - accuracy: 0.9835 - val_loss: 0.0176 - val_accuracy: 0.9836\n",
      "Epoch 7/20\n",
      "8/8 [==============================] - 1s 71ms/step - loss: 0.2510 - accuracy: 0.9835 - val_loss: 0.0176 - val_accuracy: 0.9836\n",
      "Epoch 8/20\n",
      "8/8 [==============================] - 1s 67ms/step - loss: 0.2510 - accuracy: 0.9835 - val_loss: 0.0176 - val_accuracy: 0.9836\n",
      "Epoch 9/20\n",
      "8/8 [==============================] - 1s 70ms/step - loss: 0.2510 - accuracy: 0.9835 - val_loss: 0.0176 - val_accuracy: 0.9836\n",
      "Epoch 10/20\n",
      "8/8 [==============================] - 1s 70ms/step - loss: 0.2510 - accuracy: 0.9835 - val_loss: 0.0176 - val_accuracy: 0.9836\n",
      "Epoch 11/20\n",
      "8/8 [==============================] - 1s 70ms/step - loss: 0.2510 - accuracy: 0.9835 - val_loss: 0.0176 - val_accuracy: 0.9836\n",
      "Epoch 12/20\n",
      "8/8 [==============================] - 1s 69ms/step - loss: 0.2510 - accuracy: 0.9835 - val_loss: 0.0176 - val_accuracy: 0.9836\n",
      "Epoch 13/20\n",
      "8/8 [==============================] - 1s 67ms/step - loss: 0.2510 - accuracy: 0.9835 - val_loss: 0.0176 - val_accuracy: 0.9836\n",
      "Epoch 14/20\n",
      "8/8 [==============================] - 1s 69ms/step - loss: 0.2510 - accuracy: 0.9835 - val_loss: 0.0176 - val_accuracy: 0.9836\n",
      "Epoch 15/20\n",
      "8/8 [==============================] - 1s 68ms/step - loss: 0.2510 - accuracy: 0.9835 - val_loss: 0.0176 - val_accuracy: 0.9836\n",
      "Epoch 16/20\n",
      "8/8 [==============================] - 1s 66ms/step - loss: 0.2510 - accuracy: 0.9835 - val_loss: 0.0176 - val_accuracy: 0.9836\n",
      "Epoch 17/20\n",
      "8/8 [==============================] - 1s 68ms/step - loss: 0.2510 - accuracy: 0.9835 - val_loss: 0.0176 - val_accuracy: 0.9836\n",
      "Epoch 18/20\n",
      "8/8 [==============================] - 1s 66ms/step - loss: 0.2510 - accuracy: 0.9835 - val_loss: 0.0176 - val_accuracy: 0.9836\n",
      "Epoch 19/20\n",
      "8/8 [==============================] - 1s 69ms/step - loss: 0.2510 - accuracy: 0.9835 - val_loss: 0.0176 - val_accuracy: 0.9836\n",
      "Epoch 20/20\n",
      "8/8 [==============================] - 1s 72ms/step - loss: 0.2510 - accuracy: 0.9835 - val_loss: 0.0176 - val_accuracy: 0.9836\n"
     ]
    }
   ],
   "source": [
    "jams = model_output(jam_s1,jam_s11)"
   ]
  },
  {
   "cell_type": "code",
   "execution_count": 107,
   "metadata": {
    "colab": {
     "base_uri": "https://localhost:8080/"
    },
    "id": "IAm0YmWXzWuw",
    "outputId": "6d952754-f338-458e-f83e-b6617e3bcf0f"
   },
   "outputs": [
    {
     "name": "stdout",
     "output_type": "stream",
     "text": [
      "Epoch 1/20\n",
      "12/12 [==============================] - 2s 199ms/step - loss: 4.8160 - accuracy: 0.6596 - val_loss: 4.5766 - val_accuracy: 0.6421\n",
      "Epoch 2/20\n",
      "12/12 [==============================] - 1s 69ms/step - loss: 4.5024 - accuracy: 0.6915 - val_loss: 4.6500 - val_accuracy: 0.6632\n",
      "Epoch 3/20\n",
      "12/12 [==============================] - 1s 67ms/step - loss: 4.4004 - accuracy: 0.7074 - val_loss: 5.0672 - val_accuracy: 0.6632\n",
      "Epoch 4/20\n",
      "12/12 [==============================] - 1s 66ms/step - loss: 4.3211 - accuracy: 0.7154 - val_loss: 4.9486 - val_accuracy: 0.6421\n",
      "Epoch 5/20\n",
      "12/12 [==============================] - 1s 67ms/step - loss: 4.2453 - accuracy: 0.7154 - val_loss: 4.8040 - val_accuracy: 0.6211\n",
      "Epoch 6/20\n",
      "12/12 [==============================] - 1s 68ms/step - loss: 4.2038 - accuracy: 0.7207 - val_loss: 4.7231 - val_accuracy: 0.6316\n",
      "Epoch 7/20\n",
      "12/12 [==============================] - 1s 69ms/step - loss: 4.0781 - accuracy: 0.7287 - val_loss: 4.8252 - val_accuracy: 0.6105\n",
      "Epoch 8/20\n",
      "12/12 [==============================] - 1s 67ms/step - loss: 4.0640 - accuracy: 0.7340 - val_loss: 4.9674 - val_accuracy: 0.6105\n",
      "Epoch 9/20\n",
      "12/12 [==============================] - 1s 70ms/step - loss: 4.0590 - accuracy: 0.7367 - val_loss: 4.9705 - val_accuracy: 0.6105\n",
      "Epoch 10/20\n",
      "12/12 [==============================] - 1s 67ms/step - loss: 4.0590 - accuracy: 0.7367 - val_loss: 4.9705 - val_accuracy: 0.6105\n",
      "Epoch 11/20\n",
      "12/12 [==============================] - 1s 66ms/step - loss: 4.0590 - accuracy: 0.7367 - val_loss: 4.9705 - val_accuracy: 0.6105\n",
      "Epoch 12/20\n",
      "12/12 [==============================] - 1s 68ms/step - loss: 4.0590 - accuracy: 0.7367 - val_loss: 4.9705 - val_accuracy: 0.6105\n",
      "Epoch 13/20\n",
      "12/12 [==============================] - 1s 68ms/step - loss: 4.0590 - accuracy: 0.7367 - val_loss: 4.9705 - val_accuracy: 0.6105\n",
      "Epoch 14/20\n",
      "12/12 [==============================] - 1s 67ms/step - loss: 4.0590 - accuracy: 0.7367 - val_loss: 4.9705 - val_accuracy: 0.6105\n",
      "Epoch 15/20\n",
      "12/12 [==============================] - 1s 66ms/step - loss: 4.0590 - accuracy: 0.7367 - val_loss: 4.9705 - val_accuracy: 0.6105\n",
      "Epoch 16/20\n",
      "12/12 [==============================] - 1s 68ms/step - loss: 4.0590 - accuracy: 0.7367 - val_loss: 4.9705 - val_accuracy: 0.6105\n",
      "Epoch 17/20\n",
      "12/12 [==============================] - 1s 67ms/step - loss: 4.0590 - accuracy: 0.7367 - val_loss: 4.9705 - val_accuracy: 0.6105\n",
      "Epoch 18/20\n",
      "12/12 [==============================] - 1s 66ms/step - loss: 4.0590 - accuracy: 0.7367 - val_loss: 4.9705 - val_accuracy: 0.6105\n",
      "Epoch 19/20\n",
      "12/12 [==============================] - 1s 68ms/step - loss: 4.0590 - accuracy: 0.7367 - val_loss: 4.9705 - val_accuracy: 0.6105\n",
      "Epoch 20/20\n",
      "12/12 [==============================] - 1s 67ms/step - loss: 4.0590 - accuracy: 0.7367 - val_loss: 4.9705 - val_accuracy: 0.6105\n"
     ]
    }
   ],
   "source": [
    "peter = model_output(pet_s1,pet_s11)"
   ]
  },
  {
   "cell_type": "code",
   "execution_count": 108,
   "metadata": {
    "colab": {
     "base_uri": "https://localhost:8080/"
    },
    "id": "V2Bs_G9HzWuw",
    "outputId": "47cb6141-4861-4853-82ec-ed76af2ec7e1"
   },
   "outputs": [
    {
     "name": "stdout",
     "output_type": "stream",
     "text": [
      "Epoch 1/20\n",
      "44/44 [==============================] - 5s 108ms/step - loss: 2.8935 - accuracy: 0.7630 - val_loss: 2.3199 - val_accuracy: 0.8203\n",
      "Epoch 2/20\n",
      "44/44 [==============================] - 3s 70ms/step - loss: 1.8335 - accuracy: 0.8609 - val_loss: 2.2530 - val_accuracy: 0.8261\n",
      "Epoch 3/20\n",
      "44/44 [==============================] - 3s 71ms/step - loss: 1.6318 - accuracy: 0.8609 - val_loss: 2.4140 - val_accuracy: 0.7768\n",
      "Epoch 4/20\n",
      "44/44 [==============================] - 3s 71ms/step - loss: 1.5113 - accuracy: 0.8688 - val_loss: 2.4843 - val_accuracy: 0.7768\n",
      "Epoch 5/20\n",
      "44/44 [==============================] - 3s 71ms/step - loss: 1.5308 - accuracy: 0.8790 - val_loss: 2.2594 - val_accuracy: 0.8087\n",
      "Epoch 6/20\n",
      "44/44 [==============================] - 3s 70ms/step - loss: 1.3783 - accuracy: 0.8891 - val_loss: 2.2693 - val_accuracy: 0.8000\n",
      "Epoch 7/20\n",
      "44/44 [==============================] - 3s 70ms/step - loss: 1.2586 - accuracy: 0.8935 - val_loss: 2.5493 - val_accuracy: 0.7797\n",
      "Epoch 8/20\n",
      "44/44 [==============================] - 3s 70ms/step - loss: 1.2288 - accuracy: 0.9014 - val_loss: 2.1682 - val_accuracy: 0.8000\n",
      "Epoch 9/20\n",
      "44/44 [==============================] - 3s 69ms/step - loss: 1.1870 - accuracy: 0.9072 - val_loss: 2.1747 - val_accuracy: 0.7826\n",
      "Epoch 10/20\n",
      "44/44 [==============================] - 3s 70ms/step - loss: 1.1602 - accuracy: 0.9181 - val_loss: 2.1972 - val_accuracy: 0.8145\n",
      "Epoch 11/20\n",
      "44/44 [==============================] - 3s 70ms/step - loss: 1.1455 - accuracy: 0.9159 - val_loss: 2.0906 - val_accuracy: 0.7942\n",
      "Epoch 12/20\n",
      "44/44 [==============================] - 3s 70ms/step - loss: 1.1450 - accuracy: 0.9138 - val_loss: 2.1229 - val_accuracy: 0.8058\n",
      "Epoch 13/20\n",
      "44/44 [==============================] - 3s 71ms/step - loss: 1.1315 - accuracy: 0.9217 - val_loss: 2.0619 - val_accuracy: 0.7971\n",
      "Epoch 14/20\n",
      "44/44 [==============================] - 3s 71ms/step - loss: 1.1089 - accuracy: 0.9239 - val_loss: 2.2649 - val_accuracy: 0.7942\n",
      "Epoch 15/20\n",
      "44/44 [==============================] - 3s 70ms/step - loss: 1.0909 - accuracy: 0.9275 - val_loss: 2.3162 - val_accuracy: 0.8058\n",
      "Epoch 16/20\n",
      "44/44 [==============================] - 3s 70ms/step - loss: 1.0890 - accuracy: 0.9290 - val_loss: 2.4160 - val_accuracy: 0.7971\n",
      "Epoch 17/20\n",
      "44/44 [==============================] - 3s 70ms/step - loss: 1.0979 - accuracy: 0.9217 - val_loss: 2.2787 - val_accuracy: 0.8029\n",
      "Epoch 18/20\n",
      "44/44 [==============================] - 3s 70ms/step - loss: 0.9948 - accuracy: 0.9232 - val_loss: 2.2273 - val_accuracy: 0.7884\n",
      "Epoch 19/20\n",
      "44/44 [==============================] - 3s 69ms/step - loss: 0.9738 - accuracy: 0.9326 - val_loss: 2.4122 - val_accuracy: 0.7855\n",
      "Epoch 20/20\n",
      "44/44 [==============================] - 3s 69ms/step - loss: 0.9633 - accuracy: 0.9341 - val_loss: 2.0367 - val_accuracy: 0.8116\n"
     ]
    }
   ],
   "source": [
    "johnbook = model_output(john_s1,john_s11)"
   ]
  },
  {
   "cell_type": "code",
   "execution_count": 109,
   "metadata": {
    "colab": {
     "base_uri": "https://localhost:8080/"
    },
    "id": "8U4ZdhkMzWuw",
    "outputId": "20b870f2-f844-4c10-d8d5-ae13c03ab735"
   },
   "outputs": [
    {
     "name": "stdout",
     "output_type": "stream",
     "text": [
      "Epoch 1/20\n",
      "9/9 [==============================] - 2s 247ms/step - loss: 4.2804 - accuracy: 0.6502 - val_loss: 2.7047 - val_accuracy: 0.7727\n",
      "Epoch 2/20\n",
      "9/9 [==============================] - 1s 66ms/step - loss: 2.7492 - accuracy: 0.7643 - val_loss: 2.6186 - val_accuracy: 0.8030\n",
      "Epoch 3/20\n",
      "9/9 [==============================] - 1s 69ms/step - loss: 2.1489 - accuracy: 0.8327 - val_loss: 2.6089 - val_accuracy: 0.8182\n",
      "Epoch 4/20\n",
      "9/9 [==============================] - 1s 66ms/step - loss: 1.9536 - accuracy: 0.8593 - val_loss: 2.2090 - val_accuracy: 0.8182\n",
      "Epoch 5/20\n",
      "9/9 [==============================] - 1s 65ms/step - loss: 1.4536 - accuracy: 0.8707 - val_loss: 2.1443 - val_accuracy: 0.8333\n",
      "Epoch 6/20\n",
      "9/9 [==============================] - 1s 66ms/step - loss: 1.2035 - accuracy: 0.9049 - val_loss: 2.1229 - val_accuracy: 0.8485\n",
      "Epoch 7/20\n",
      "9/9 [==============================] - 1s 64ms/step - loss: 1.1145 - accuracy: 0.9240 - val_loss: 2.1181 - val_accuracy: 0.8636\n",
      "Epoch 8/20\n",
      "9/9 [==============================] - 1s 64ms/step - loss: 1.1083 - accuracy: 0.9278 - val_loss: 2.1181 - val_accuracy: 0.8636\n",
      "Epoch 9/20\n",
      "9/9 [==============================] - 1s 65ms/step - loss: 1.1083 - accuracy: 0.9278 - val_loss: 2.1181 - val_accuracy: 0.8636\n",
      "Epoch 10/20\n",
      "9/9 [==============================] - 1s 66ms/step - loss: 1.1083 - accuracy: 0.9278 - val_loss: 2.1181 - val_accuracy: 0.8636\n",
      "Epoch 11/20\n",
      "9/9 [==============================] - 1s 63ms/step - loss: 1.1083 - accuracy: 0.9278 - val_loss: 2.1181 - val_accuracy: 0.8636\n",
      "Epoch 12/20\n",
      "9/9 [==============================] - 1s 67ms/step - loss: 1.1083 - accuracy: 0.9278 - val_loss: 2.1181 - val_accuracy: 0.8636\n",
      "Epoch 13/20\n",
      "9/9 [==============================] - 1s 64ms/step - loss: 1.1083 - accuracy: 0.9278 - val_loss: 2.1181 - val_accuracy: 0.8636\n",
      "Epoch 14/20\n",
      "9/9 [==============================] - 1s 66ms/step - loss: 1.1083 - accuracy: 0.9278 - val_loss: 2.1181 - val_accuracy: 0.8636\n",
      "Epoch 15/20\n",
      "9/9 [==============================] - 1s 66ms/step - loss: 1.1083 - accuracy: 0.9278 - val_loss: 2.1181 - val_accuracy: 0.8636\n",
      "Epoch 16/20\n",
      "9/9 [==============================] - 1s 68ms/step - loss: 1.1083 - accuracy: 0.9278 - val_loss: 2.1181 - val_accuracy: 0.8636\n",
      "Epoch 17/20\n",
      "9/9 [==============================] - 1s 65ms/step - loss: 1.1083 - accuracy: 0.9278 - val_loss: 2.1181 - val_accuracy: 0.8636\n",
      "Epoch 18/20\n",
      "9/9 [==============================] - 1s 65ms/step - loss: 1.1083 - accuracy: 0.9278 - val_loss: 2.1181 - val_accuracy: 0.8636\n",
      "Epoch 19/20\n",
      "9/9 [==============================] - 1s 68ms/step - loss: 1.1083 - accuracy: 0.9278 - val_loss: 2.1181 - val_accuracy: 0.8636\n",
      "Epoch 20/20\n",
      "9/9 [==============================] - 1s 65ms/step - loss: 1.1083 - accuracy: 0.9278 - val_loss: 2.1181 - val_accuracy: 0.8636\n"
     ]
    }
   ],
   "source": [
    "jude = model_output(jude_s1,jude_s11)"
   ]
  },
  {
   "cell_type": "code",
   "execution_count": 110,
   "metadata": {
    "colab": {
     "base_uri": "https://localhost:8080/"
    },
    "id": "A3QLrcnTzWuw",
    "outputId": "86368667-4831-47f8-81b9-a9fda919756f"
   },
   "outputs": [
    {
     "name": "stdout",
     "output_type": "stream",
     "text": [
      "Epoch 1/20\n",
      "59/59 [==============================] - 6s 101ms/step - loss: 2.3600 - accuracy: 0.7925 - val_loss: 2.0610 - val_accuracy: 0.8305\n",
      "Epoch 2/20\n",
      "59/59 [==============================] - 4s 72ms/step - loss: 1.6500 - accuracy: 0.8689 - val_loss: 2.0748 - val_accuracy: 0.8453\n",
      "Epoch 3/20\n",
      "59/59 [==============================] - 4s 72ms/step - loss: 1.5731 - accuracy: 0.8838 - val_loss: 1.9947 - val_accuracy: 0.8559\n",
      "Epoch 4/20\n",
      "59/59 [==============================] - 4s 73ms/step - loss: 1.5222 - accuracy: 0.8901 - val_loss: 2.0358 - val_accuracy: 0.8538\n",
      "Epoch 5/20\n",
      "59/59 [==============================] - 4s 73ms/step - loss: 1.4076 - accuracy: 0.8965 - val_loss: 1.8736 - val_accuracy: 0.8347\n",
      "Epoch 6/20\n",
      "59/59 [==============================] - 4s 73ms/step - loss: 1.3664 - accuracy: 0.8981 - val_loss: 1.8467 - val_accuracy: 0.8305\n",
      "Epoch 7/20\n",
      "59/59 [==============================] - 4s 73ms/step - loss: 1.3302 - accuracy: 0.9055 - val_loss: 1.9941 - val_accuracy: 0.8517\n",
      "Epoch 8/20\n",
      "59/59 [==============================] - 4s 75ms/step - loss: 1.2666 - accuracy: 0.9103 - val_loss: 1.9048 - val_accuracy: 0.8475\n",
      "Epoch 9/20\n",
      "59/59 [==============================] - 4s 74ms/step - loss: 1.2572 - accuracy: 0.9140 - val_loss: 1.9849 - val_accuracy: 0.8517\n",
      "Epoch 10/20\n",
      "59/59 [==============================] - 4s 73ms/step - loss: 1.2132 - accuracy: 0.9156 - val_loss: 2.0599 - val_accuracy: 0.8390\n",
      "Epoch 11/20\n",
      "59/59 [==============================] - 4s 73ms/step - loss: 1.2076 - accuracy: 0.9188 - val_loss: 1.9252 - val_accuracy: 0.8411\n",
      "Epoch 12/20\n",
      "59/59 [==============================] - 4s 73ms/step - loss: 1.1990 - accuracy: 0.9161 - val_loss: 2.0266 - val_accuracy: 0.8411\n",
      "Epoch 13/20\n",
      "59/59 [==============================] - 4s 73ms/step - loss: 1.1699 - accuracy: 0.9214 - val_loss: 1.9339 - val_accuracy: 0.8453\n",
      "Epoch 14/20\n",
      "59/59 [==============================] - 4s 73ms/step - loss: 1.1696 - accuracy: 0.9225 - val_loss: 1.9982 - val_accuracy: 0.8432\n",
      "Epoch 15/20\n",
      "59/59 [==============================] - 4s 74ms/step - loss: 1.1936 - accuracy: 0.9167 - val_loss: 2.0787 - val_accuracy: 0.8496\n",
      "Epoch 16/20\n",
      "59/59 [==============================] - 4s 73ms/step - loss: 1.1577 - accuracy: 0.9220 - val_loss: 2.0686 - val_accuracy: 0.8517\n",
      "Epoch 17/20\n",
      "59/59 [==============================] - 4s 73ms/step - loss: 1.1521 - accuracy: 0.9236 - val_loss: 1.9627 - val_accuracy: 0.8432\n",
      "Epoch 18/20\n",
      "59/59 [==============================] - 4s 73ms/step - loss: 1.1530 - accuracy: 0.9236 - val_loss: 2.0393 - val_accuracy: 0.8538\n",
      "Epoch 19/20\n",
      "59/59 [==============================] - 4s 73ms/step - loss: 1.1539 - accuracy: 0.9225 - val_loss: 2.0331 - val_accuracy: 0.8347\n",
      "Epoch 20/20\n",
      "59/59 [==============================] - 4s 73ms/step - loss: 1.1273 - accuracy: 0.9225 - val_loss: 2.0540 - val_accuracy: 0.8475\n"
     ]
    }
   ],
   "source": [
    "paul = model_output(pl_s1,pl_s11)"
   ]
  },
  {
   "cell_type": "code",
   "execution_count": 111,
   "metadata": {
    "id": "wKeSVBQLzWuw"
   },
   "outputs": [],
   "source": [
    "au_loss = {'Matthew_book':matthewbook.history['loss'],'Mark_book':markbook.history['loss'],'Luke_book':lukebook.history['loss'],'John_book':johnbook.history['loss'],\n",
    "           'Paul_book':paul.history['loss'],'James_book':jams.history['loss'],'Jude_book':jude.history['loss'],'Peter_book':peter.history['loss']}\n",
    "tyndale_loss = DataFrame(au_loss)\n",
    "\n",
    "au_val_loss = {'Matthew_book':matthewbook.history['val_loss'],'Mark_book':markbook.history['val_loss'],'Luke_book':lukebook.history['val_loss'],'John_book':johnbook.history['val_loss'],\n",
    "           'Paul_book':paul.history['val_loss'],'James_book':jams.history['val_loss'],'Jude_book':jude.history['val_loss'],'Peter_book':peter.history['val_loss']}\n",
    "tyndale_val_loss = DataFrame(au_val_loss)\n",
    "\n",
    "au_accuracy = {'Matthew_book':matthewbook.history['accuracy'],'Mark_book':markbook.history['accuracy'],'Luke_book':lukebook.history['accuracy'],'John_book':johnbook.history['accuracy'],\n",
    "           'Paul_book':paul.history['accuracy'],'James_book':jams.history['accuracy'],'Jude_book':jude.history['accuracy'],'Peter_book':peter.history['accuracy']}\n",
    "tyndale_accuracy = DataFrame(au_accuracy)\n",
    "\n",
    "au_val_accuracy = {'Matthew_book':matthewbook.history['val_accuracy'],'Mark_book':markbook.history['val_accuracy'],'Luke_book':lukebook.history['val_accuracy'],'John_book':johnbook.history['val_accuracy'],\n",
    "           'Paul_book':paul.history['val_accuracy'],'James_book':jams.history['val_accuracy'],'Jude_book':jude.history['val_accuracy'],'Peter_book':peter.history['val_accuracy']}\n",
    "tyndale_val_accuracy = DataFrame(au_val_accuracy)"
   ]
  },
  {
   "cell_type": "code",
   "execution_count": 112,
   "metadata": {
    "id": "1jhcNkLBzWuw"
   },
   "outputs": [],
   "source": [
    "tyndale_loss.to_excel('author tyndale LOSS.xlsx',encoding = 'utf-8', index = False)\n",
    "tyndale_accuracy.to_excel('author tyndale ACCURACY.xlsx',encoding = 'utf-8', index = False)  \n",
    "tyndale_val_loss.to_excel('author tyndale VALIDATION LOSS.xlsx',encoding = 'utf-8', index = False)  \n",
    "tyndale_val_accuracy.to_excel('author tyndale VALIDATION ACCURACY.xlsx',encoding = 'utf-8', index = False)  "
   ]
  },
  {
   "cell_type": "code",
   "execution_count": 113,
   "metadata": {
    "colab": {
     "base_uri": "https://localhost:8080/",
     "height": 295
    },
    "id": "-sOhaXvEzWuw",
    "outputId": "ba5ca37f-775f-43ed-95bc-e4947bc728db"
   },
   "outputs": [
    {
     "data": {
      "image/png": "[encoded data removed]",
      "text/plain": [
       "<Figure size 432x288 with 1 Axes>"
      ]
     },
     "metadata": {
      "needs_background": "light",
      "tags": []
     },
     "output_type": "display_data"
    }
   ],
   "source": [
    "matthewvac = matthewbook.history['val_accuracy']\n",
    "markvac = markbook.history['val_accuracy']\n",
    "lukevac = lukebook.history['val_accuracy']\n",
    "johnvac = johnbook.history['val_accuracy']\n",
    "paulvac = paul.history['val_accuracy']\n",
    "petervac = peter.history['val_accuracy']\n",
    "judevac = jude.history['val_accuracy']\n",
    "jamesvac = jams.history['val_accuracy']\n",
    "\n",
    "epochs = range(1, len(matvac) + 1)\n",
    "\n",
    "plt.plot(epochs, matthewvac, 'b', label='matthew')\n",
    "plt.plot(epochs, markvac, 'r', label='mark')\n",
    "plt.plot(epochs, lukevac, 'y', label='luke')\n",
    "plt.plot(epochs, johnvac, 'g', label='john')\n",
    "plt.plot(epochs, paulvac, 'coral', label='paul')\n",
    "plt.plot(epochs, petervac, 'm', label='peter')\n",
    "plt.plot(epochs, judevac, 'c', label='jude')\n",
    "plt.plot(epochs, jamesvac, 'k', label='james')\n",
    "\n",
    "plt.title('tyndale writing style validation accuracy author')\n",
    "plt.xlabel('Epochs')\n",
    "plt.ylabel('Loss')\n",
    "plt.legend()\n",
    "\n",
    "plt.show()"
   ]
  }
 ],
 "metadata": {
  "colab": {
   "name": "StanzaRNN.ipynb",
   "provenance": []
  },
  "kernelspec": {
   "display_name": "Python 3",
   "language": "python",
   "name": "python3"
  },
  "language_info": {
   "codemirror_mode": {
    "name": "ipython",
    "version": 3
   },
   "file_extension": ".py",
   "mimetype": "text/x-python",
   "name": "python",
   "nbconvert_exporter": "python",
   "pygments_lexer": "ipython3",
   "version": "3.7.3"
  }
 },
 "nbformat": 4,
 "nbformat_minor": 1
}
