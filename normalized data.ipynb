{
 "cells": [
  {
   "cell_type": "code",
   "execution_count": 137,
   "metadata": {},
   "outputs": [],
   "source": [
    "import pandas as pd\n",
    "from pandas.core.frame import DataFrame"
   ]
  },
  {
   "cell_type": "code",
   "execution_count": 138,
   "metadata": {},
   "outputs": [],
   "source": [
    "headers = ['bookname','versenum','verse']"
   ]
  },
  {
   "cell_type": "code",
   "execution_count": 19,
   "metadata": {},
   "outputs": [],
   "source": [
    "df = pd.read_csv('C:/Users/Yifeng He/Desktop/graduated/2nd graduate semester/text analysist/Untitled Folder 1/NA28_Greek.csv', header = None, encoding = 'utf-16',names = ['book','vernum','verse'], sep = '\\t')"
   ]
  },
  {
   "cell_type": "code",
   "execution_count": 20,
   "metadata": {},
   "outputs": [
    {
     "data": {
      "text/html": [
       "<div>\n",
       "<style scoped>\n",
       "    .dataframe tbody tr th:only-of-type {\n",
       "        vertical-align: middle;\n",
       "    }\n",
       "\n",
       "    .dataframe tbody tr th {\n",
       "        vertical-align: top;\n",
       "    }\n",
       "\n",
       "    .dataframe thead th {\n",
       "        text-align: right;\n",
       "    }\n",
       "</style>\n",
       "<table border=\"1\" class=\"dataframe\">\n",
       "  <thead>\n",
       "    <tr style=\"text-align: right;\">\n",
       "      <th></th>\n",
       "      <th>book</th>\n",
       "      <th>vernum</th>\n",
       "      <th>verse</th>\n",
       "    </tr>\n",
       "  </thead>\n",
       "  <tbody>\n",
       "    <tr>\n",
       "      <th>0</th>\n",
       "      <td>Mt 1</td>\n",
       "      <td>1</td>\n",
       "      <td>Βίβλος γενέσεως Ἰησοῦ Χριστοῦ υἱοῦ Δαυὶδ υἱοῦ ...</td>\n",
       "    </tr>\n",
       "    <tr>\n",
       "      <th>1</th>\n",
       "      <td>Mt 1</td>\n",
       "      <td>2</td>\n",
       "      <td>Ἀβραὰμ ἐγέννησεν τὸν Ἰσαάκ, Ἰσαὰκ δὲ ἐγέννησεν...</td>\n",
       "    </tr>\n",
       "    <tr>\n",
       "      <th>2</th>\n",
       "      <td>Mt 1</td>\n",
       "      <td>3</td>\n",
       "      <td>Ἰούδας δὲ ἐγέννησεν τὸν Φάρες καὶ τὸν Ζάρα ἐκ ...</td>\n",
       "    </tr>\n",
       "    <tr>\n",
       "      <th>3</th>\n",
       "      <td>Mt 1</td>\n",
       "      <td>4</td>\n",
       "      <td>Ἀρὰμ δὲ ἐγέννησεν τὸν Ἀμιναδάβ, Ἀμιναδὰβ δὲ ἐγ...</td>\n",
       "    </tr>\n",
       "    <tr>\n",
       "      <th>4</th>\n",
       "      <td>Mt 1</td>\n",
       "      <td>5</td>\n",
       "      <td>Σαλμὼν δὲ ἐγέννησεν τὸν Βόες ἐκ τῆς Ῥαχάβ, Βόε...</td>\n",
       "    </tr>\n",
       "  </tbody>\n",
       "</table>\n",
       "</div>"
      ],
      "text/plain": [
       "   book vernum                                              verse\n",
       "0  Mt 1      1  Βίβλος γενέσεως Ἰησοῦ Χριστοῦ υἱοῦ Δαυὶδ υἱοῦ ...\n",
       "1  Mt 1      2  Ἀβραὰμ ἐγέννησεν τὸν Ἰσαάκ, Ἰσαὰκ δὲ ἐγέννησεν...\n",
       "2  Mt 1      3  Ἰούδας δὲ ἐγέννησεν τὸν Φάρες καὶ τὸν Ζάρα ἐκ ...\n",
       "3  Mt 1      4  Ἀρὰμ δὲ ἐγέννησεν τὸν Ἀμιναδάβ, Ἀμιναδὰβ δὲ ἐγ...\n",
       "4  Mt 1      5  Σαλμὼν δὲ ἐγέννησεν τὸν Βόες ἐκ τῆς Ῥαχάβ, Βόε..."
      ]
     },
     "execution_count": 20,
     "metadata": {},
     "output_type": "execute_result"
    }
   ],
   "source": [
    "df.head()"
   ]
  },
  {
   "cell_type": "code",
   "execution_count": 24,
   "metadata": {},
   "outputs": [],
   "source": [
    "bookname =[]\n",
    "chapnum = []\n",
    "vernum = []\n",
    "verse = []\n",
    "for x in df.book:\n",
    "    info = x.split()\n",
    "    bookname.append(info[0])\n",
    "    chapnum.append(info[1])\n",
    "for y in df.vernum:\n",
    "    vernum.append(y)\n",
    "for z in df.verse:\n",
    "    verse.append(z)\n",
    "    \n",
    "NA28 = {'BookName':bookname, 'ChapNum':chapnum, 'VerNum':vernum, 'Verse':verse}\n",
    "NA28 = pd.DataFrame(NA28)"
   ]
  },
  {
   "cell_type": "code",
   "execution_count": 78,
   "metadata": {},
   "outputs": [],
   "source": [
    "numlist = []\n",
    "v_num = []\n",
    "for x in range(0,len(vernum)):\n",
    "    if vernum[x] == 'nonvnum':\n",
    "        numlist.append(x)\n",
    "    else:\n",
    "        v_num.append(vernum[x])\n",
    "        \n",
    "numlist1 = [x-1 for x in numlist]\n",
    "allnum = numlist1 + numlist"
   ]
  },
  {
   "cell_type": "code",
   "execution_count": 79,
   "metadata": {},
   "outputs": [],
   "source": [
    "b_name = []\n",
    "for m in range(0,len(bookname)):\n",
    "    if m not in numlist:\n",
    "        b_name.append(bookname[m])\n",
    "ch_num = []\n",
    "for n in range(0,len(chapnum)):\n",
    "    if n not in numlist:\n",
    "        ch_num.append(chapnum[n])"
   ]
  },
  {
   "cell_type": "code",
   "execution_count": 89,
   "metadata": {},
   "outputs": [],
   "source": [
    "v_text = []\n",
    "\n",
    "for x in range(0,len(verse)):\n",
    "    if x not in numlist:\n",
    "        if x not in numlist1:\n",
    "            v_text.append(verse[x])\n",
    "        else:\n",
    "            v_text.append(verse[x]+verse[x+1])\n",
    "    "
   ]
  },
  {
   "cell_type": "code",
   "execution_count": 91,
   "metadata": {},
   "outputs": [],
   "source": [
    "re_NA28 = {'BookName':b_name, 'ChapNum':ch_num, 'VerNum':v_num, 'Verse':v_text}\n",
    "re_NA28 = pd.DataFrame(re_NA28)"
   ]
  },
  {
   "cell_type": "code",
   "execution_count": 94,
   "metadata": {},
   "outputs": [],
   "source": [
    "re_NA28.to_csv('NA28_11_09_11PM.csv', index = False, encoding = 'utf-16', sep = '\\t')"
   ]
  },
  {
   "cell_type": "code",
   "execution_count": 101,
   "metadata": {},
   "outputs": [],
   "source": [
    "df1 = pd.read_csv('SBL_Greek_11.07_1AM.csv', encoding = 'utf-16', sep = '\\t')"
   ]
  },
  {
   "cell_type": "code",
   "execution_count": 103,
   "metadata": {},
   "outputs": [],
   "source": [
    "bookname =[]\n",
    "chapnum = []\n",
    "vernum = []\n",
    "verse = []\n",
    "for x in df1.versenum:\n",
    "    info = x.split()\n",
    "    bookname.append(info[0])\n",
    "    num = info[1].split(':')\n",
    "    chapnum.append(num[0])\n",
    "    vernum.append(num[1])\n",
    "for y in df1.verse:\n",
    "    verse.append(y)\n",
    "SBL = {'BookName':bookname, 'ChapNum':chapnum, 'VerNum':vernum, 'Verse':verse}\n",
    "SBL = pd.DataFrame(SBL)    "
   ]
  },
  {
   "cell_type": "code",
   "execution_count": 105,
   "metadata": {},
   "outputs": [],
   "source": [
    "SBL.to_csv('SBL_11_09_11PM.csv', index = False, encoding = 'utf-16', sep = '\\t')"
   ]
  },
  {
   "cell_type": "code",
   "execution_count": 139,
   "metadata": {},
   "outputs": [],
   "source": [
    "df2 = pd.read_csv('Tyndale_Greek_11.07_1AM.txt', header = None, names = [chr(x) for x in range(ord('a'), ord('s') + 1)],encoding = 'utf-16', sep = '\\t')"
   ]
  },
  {
   "cell_type": "code",
   "execution_count": 140,
   "metadata": {},
   "outputs": [],
   "source": [
    "bookname =[]\n",
    "chapnum = []\n",
    "verse = []\n",
    "for x in df2.a:\n",
    "    info = x.split()\n",
    "    if len(info) == 2:\n",
    "        bookname.append(info[0])\n",
    "        chapnum.append(info[1])\n",
    "    elif len(info) ==3:\n",
    "        bn = info[0]+info[1]\n",
    "        bookname.append(bn)\n",
    "        chapnum.append(info[2])\n",
    "    else:\n",
    "        bookname.append(info[0])\n",
    "        chapnum.append(1)\n",
    "for y in df2.b:\n",
    "    verse.append(y)\n",
    "Tyndale = {'BookName':bookname, 'ChapNum':chapnum,  'Verse':verse}\n",
    "Tyndale = pd.DataFrame(Tyndale)    "
   ]
  },
  {
   "cell_type": "code",
   "execution_count": 141,
   "metadata": {},
   "outputs": [],
   "source": [
    "Tyndale.to_csv('Tyndale_11_09_11PM.csv', index = False, encoding = 'utf-16', sep = '\\t')"
   ]
  },
  {
   "cell_type": "code",
   "execution_count": null,
   "metadata": {},
   "outputs": [],
   "source": []
  }
 ],
 "metadata": {
  "kernelspec": {
   "display_name": "Python 3",
   "language": "python",
   "name": "python3"
  },
  "language_info": {
   "codemirror_mode": {
    "name": "ipython",
    "version": 3
   },
   "file_extension": ".py",
   "mimetype": "text/x-python",
   "name": "python",
   "nbconvert_exporter": "python",
   "pygments_lexer": "ipython3",
   "version": "3.7.3"
  }
 },
 "nbformat": 4,
 "nbformat_minor": 2
}
