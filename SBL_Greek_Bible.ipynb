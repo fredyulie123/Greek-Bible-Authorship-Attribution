{
 "cells": [
  {
   "cell_type": "code",
   "execution_count": 1,
   "metadata": {},
   "outputs": [],
   "source": [
    "import pandas as pd\n",
    "import os"
   ]
  },
  {
   "cell_type": "code",
   "execution_count": 2,
   "metadata": {},
   "outputs": [],
   "source": [
    "cwd = os.getcwd()\n",
    "\n",
    "read_path =  'C:/Users/Yifeng He/Downloads/sbl' \n",
    "## 待保存的合并后的csv的文件夹           \n",
    "save_path =  'C:/Users/Yifeng He/Desktop/graduated/2nd graduate semester/text analysist/Untitled Folder 1'  \n",
    "## 待保存的合并后的csv       \n",
    "save_name = 'SBL_Greek.csv'"
   ]
  },
  {
   "cell_type": "code",
   "execution_count": 3,
   "metadata": {},
   "outputs": [],
   "source": [
    "os.chdir(read_path)\n",
    "\n",
    "csv_name_list = os.listdir()\n",
    "\n",
    "df = pd.read_csv( csv_name_list[0], encoding = 'utf-8', sep = '\\t')\n",
    "df.to_csv( save_name , encoding=\"utf_16\",index=False,sep = '\\t')\n"
   ]
  },
  {
   "cell_type": "code",
   "execution_count": 4,
   "metadata": {},
   "outputs": [],
   "source": [
    "for i in range(1,27):\n",
    "    df = pd.read_csv( csv_name_list[i], encoding = 'utf-8', sep = '\\t' )\n",
    "    df.to_csv(save_name ,encoding=\"utf_16\",index=False, mode='a+',sep = '\\t')"
   ]
  },
  {
   "cell_type": "code",
   "execution_count": null,
   "metadata": {},
   "outputs": [],
   "source": []
  }
 ],
 "metadata": {
  "kernelspec": {
   "display_name": "Python 3",
   "language": "python",
   "name": "python3"
  },
  "language_info": {
   "codemirror_mode": {
    "name": "ipython",
    "version": 3
   },
   "file_extension": ".py",
   "mimetype": "text/x-python",
   "name": "python",
   "nbconvert_exporter": "python",
   "pygments_lexer": "ipython3",
   "version": "3.7.3"
  }
 },
 "nbformat": 4,
 "nbformat_minor": 2
}
