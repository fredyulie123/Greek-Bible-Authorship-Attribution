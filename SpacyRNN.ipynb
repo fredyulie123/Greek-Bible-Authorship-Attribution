{
 "cells": [
  {
   "cell_type": "code",
   "execution_count": 1,
   "metadata": {
    "id": "q3MttMgHX2CP"
   },
   "outputs": [],
   "source": [
    "import pandas as pd \n",
    "import gensim\n",
    "from gensim import corpora,models\n",
    "import warnings\n",
    "warnings.filterwarnings(\"ignore\")\n",
    "import numpy as np \n",
    "import nltk\n",
    "from nltk.corpus import stopwords\n",
    "from collections import defaultdict\n",
    "from sklearn.feature_extraction.text import CountVectorizer #tokenizes and counts words\n",
    "from sklearn.feature_extraction.text import TfidfVectorizer #alternatively, use TfidfTransformer()\n",
    "from sklearn import metrics\n",
    "import requests\n",
    "from sklearn.feature_selection import RFE, chi2\n",
    "from scipy.spatial import distance\n",
    "from pandas.core.frame import DataFrame\n",
    "from nltk import FreqDist\n",
    "from sklearn.metrics.pairwise import cosine_similarity\n",
    "from gensim.matutils import kullback_leibler, jaccard, hellinger, sparse2full\n",
    "import string\n",
    "from scipy.stats import entropy\n",
    "from numpy.linalg import norm\n",
    "from scipy.spatial import distance\n",
    "import spacy\n",
    "from collections import Counter"
   ]
  },
  {
   "cell_type": "code",
   "execution_count": 2,
   "metadata": {
    "id": "4yiyNcK3fSHC"
   },
   "outputs": [],
   "source": [
    "from spacy.lang.el import Greek"
   ]
  },
  {
   "cell_type": "code",
   "execution_count": 3,
   "metadata": {
    "colab": {
     "base_uri": "https://localhost:8080/"
    },
    "id": "2bSu9EgabGOi",
    "outputId": "d3e3db06-62c0-473a-bc99-7db7064767a0"
   },
   "outputs": [
    {
     "name": "stdout",
     "output_type": "stream",
     "text": [
      "Mounted at /content/drive\n"
     ]
    },
    {
     "data": {
      "text/plain": [
       "['Getting started.pdf',\n",
       " 'image (1).jpg',\n",
       " 'image.jpg',\n",
       " 'C347414E-901F-4ADD-A460-3B99C03799B4.png',\n",
       " 'Introduction to Scientific Programming and Simulation Using R.pdf',\n",
       " 'RDataScience(1).pdf',\n",
       " 'database group project.gdoc',\n",
       " 'Database Data.gsheet',\n",
       " 'Text Analytics Phase 1.gslides',\n",
       " '2018GMAT课件',\n",
       " 'Untitled presentation (1).gslides',\n",
       " '9526f2636c319b9ed60bdc9c605f7725.mp4',\n",
       " 'Camera Roll.zip',\n",
       " 'WIN_20200323_11_22_38_Pro.mp4',\n",
       " 'Untitled spreadsheet.gsheet',\n",
       " 'Big Data Analytics Proposal.gslides',\n",
       " 'Discover the correlation between Public transportation facilities investment and the frequency of Traffic accident in United States.gdoc',\n",
       " 'Untitled presentation.gslides',\n",
       " 'gmat.exe',\n",
       " 'Web Analytics.zip',\n",
       " 'Data Mining.zip',\n",
       " 'datamodeler-19.2.0.182.1216-x64.zip',\n",
       " 'Bootcamp 课件.zip',\n",
       " 'Torrey (1911).pdf',\n",
       " 'Torrey (1911).gdoc',\n",
       " 'Bootcamp 课件 (1).zip',\n",
       " 'Bible_Data.csv',\n",
       " 'OtherApostlesWork_Data.csv',\n",
       " 'Colab Notebooks',\n",
       " 'drive',\n",
       " 'Peter word_count.jpg',\n",
       " 'John word_count.jpg',\n",
       " 'Jude word_count.jpg',\n",
       " 'Matthew char_count.jpg',\n",
       " 'Mark char_count.jpg',\n",
       " 'Luke char_count.jpg',\n",
       " 'Paul letter char_count.jpg',\n",
       " 'Mark word_count.jpg',\n",
       " 'James char_count.jpg',\n",
       " 'Peter char_count.jpg',\n",
       " 'John char_count.jpg',\n",
       " 'Jude char_count.jpg',\n",
       " 'Luke word_count.jpg',\n",
       " 'Paul letters word_count.jpg',\n",
       " 'Matthew letter ave_length.jpg',\n",
       " 'Mark letter ave_length.jpg',\n",
       " 'Luke ave_length.jpg',\n",
       " 'James word_count.jpg',\n",
       " 'Paul letter ave_length.jpg',\n",
       " 'James ave_length.jpg',\n",
       " 'Peter ave_length.jpg',\n",
       " 'John ave_length.jpg',\n",
       " 'Jude ave_length.jpg',\n",
       " 'John letter word_count.jpg',\n",
       " 'Hebrews word_count.jpg',\n",
       " 'Romans word_count.jpg',\n",
       " 'John letter char_count.jpg',\n",
       " 'Hebrews char_count.jpg',\n",
       " 'Romans char_count.jpg',\n",
       " 'John letters ave_length.jpg',\n",
       " 'Hebrews ave_length.jpg',\n",
       " 'Romans ave_length.jpg',\n",
       " 'Matthew word_count.jpg',\n",
       " 'glove.6B.100d.txt',\n",
       " 'confusion1.jpg',\n",
       " 'Python',\n",
       " 'OtherApostlesWork_Data.xlsx',\n",
       " 'chn_b.csv',\n",
       " 'sparva.csv',\n",
       " 'greektr1550.csv',\n",
       " 'greektr1894.csv',\n",
       " 'greekwhnu.csv',\n",
       " 'authorship',\n",
       " 'NA28_11_09_11PM.csv',\n",
       " 'SBL_11_09_11PM.csv',\n",
       " 'Tyndale_11_09_11PM.csv',\n",
       " 'Stanza_index.xlsx',\n",
       " '5期总统计.xlsx',\n",
       " 'NA28 LOSS.xlsx',\n",
       " 'NA28 ACCURACY.xlsx',\n",
       " 'NA28 VALIDATION LOSS.xlsx',\n",
       " 'NA28 VALIDATION ACCURACY.xlsx',\n",
       " 'author NA28 LOSS.xlsx',\n",
       " 'author NA28 ACCURACY.xlsx',\n",
       " 'author NA28 VALIDATION LOSS.xlsx',\n",
       " 'author NA28 VALIDATION ACCURACY.xlsx',\n",
       " 'SBL LOSS.xlsx',\n",
       " 'SBL ACCURACY.xlsx',\n",
       " 'SBL VALIDATION LOSS.xlsx',\n",
       " 'SBL VALIDATION ACCURACY.xlsx',\n",
       " 'author SBL LOSS.xlsx',\n",
       " 'author SBL ACCURACY.xlsx',\n",
       " 'author SBL VALIDATION LOSS.xlsx',\n",
       " 'author SBL VALIDATION ACCURACY.xlsx',\n",
       " 'Tyndale LOSS.xlsx',\n",
       " 'Tyndale ACCURACY.xlsx',\n",
       " 'Tyndale VALIDATION LOSS.xlsx',\n",
       " 'Tyndale VALIDATION ACCURACY.xlsx',\n",
       " 'author tyndale LOSS.xlsx',\n",
       " 'author tyndale ACCURACY.xlsx',\n",
       " 'author tyndale VALIDATION LOSS.xlsx',\n",
       " 'author tyndale VALIDATION ACCURACY.xlsx',\n",
       " 'na28withindex.csv',\n",
       " 'sblwithindex.csv',\n",
       " 'tyndalewithindex.csv',\n",
       " 'spacy NA28 LOSS.xlsx',\n",
       " 'spacy NA28 ACCURACY.xlsx',\n",
       " 'spacy NA28 VALIDATION LOSS.xlsx',\n",
       " 'spacy NA28 VALIDATION ACCURACY.xlsx',\n",
       " 'spacy author NA28 LOSS.xlsx',\n",
       " 'spacy author NA28 ACCURACY.xlsx',\n",
       " 'spacy author NA28 VALIDATION LOSS.xlsx',\n",
       " 'spacy author NA28 VALIDATION ACCURACY.xlsx',\n",
       " 'spacy SBL LOSS.xlsx',\n",
       " 'spacy SBL ACCURACY.xlsx',\n",
       " 'spacy SBL VALIDATION LOSS.xlsx',\n",
       " 'spacy SBL VALIDATION ACCURACY.xlsx',\n",
       " 'spacy author SBL LOSS.xlsx',\n",
       " 'spacy author SBL ACCURACY.xlsx',\n",
       " 'spacy author SBL VALIDATION LOSS.xlsx',\n",
       " 'spacy author SBL VALIDATION ACCURACY.xlsx',\n",
       " 'spacy Tyndale LOSS.xlsx',\n",
       " 'spacy Tyndale ACCURACY.xlsx',\n",
       " 'spacy Tyndale VALIDATION LOSS.xlsx',\n",
       " 'spacy Tyndale VALIDATION ACCURACY.xlsx',\n",
       " 'spacy author tyndale LOSS.xlsx',\n",
       " 'spacy author tyndale ACCURACY.xlsx',\n",
       " 'spacy author tyndale VALIDATION LOSS.xlsx',\n",
       " 'spacy author tyndale VALIDATION ACCURACY.xlsx']"
      ]
     },
     "execution_count": 3,
     "metadata": {
      "tags": []
     },
     "output_type": "execute_result"
    }
   ],
   "source": [
    "import os\n",
    "from google.colab import drive\n",
    "drive.mount('/content/drive')\n",
    "\n",
    "path = \"/content/drive/My Drive\"\n",
    "\n",
    "os.chdir(path)\n",
    "os.listdir(path)\n"
   ]
  },
  {
   "cell_type": "code",
   "execution_count": 4,
   "metadata": {
    "colab": {
     "base_uri": "https://localhost:8080/"
    },
    "id": "l-cuE92ZY70Y",
    "outputId": "14d6fd3e-b643-49e0-8ee9-6685f8dffd16"
   },
   "outputs": [
    {
     "name": "stdout",
     "output_type": "stream",
     "text": [
      "Requirement already satisfied: sklearn in /usr/local/lib/python3.6/dist-packages (0.0)\n",
      "Requirement already satisfied: scikit-learn in /usr/local/lib/python3.6/dist-packages (from sklearn) (0.22.2.post1)\n",
      "Requirement already satisfied: numpy>=1.11.0 in /usr/local/lib/python3.6/dist-packages (from scikit-learn->sklearn) (1.18.5)\n",
      "Requirement already satisfied: scipy>=0.17.0 in /usr/local/lib/python3.6/dist-packages (from scikit-learn->sklearn) (1.4.1)\n",
      "Requirement already satisfied: joblib>=0.11 in /usr/local/lib/python3.6/dist-packages (from scikit-learn->sklearn) (0.17.0)\n"
     ]
    }
   ],
   "source": [
    "!pip install sklearn"
   ]
  },
  {
   "cell_type": "code",
   "execution_count": 5,
   "metadata": {
    "id": "iDIPvOxGZDDi"
   },
   "outputs": [],
   "source": [
    "import numpy as np\n",
    "from sklearn.model_selection import train_test_split\n",
    "\n",
    "from keras.preprocessing import sequence\n",
    "from keras.models import Sequential\n",
    "from keras.layers import Dense, Embedding\n",
    "from keras.layers import LSTM\n",
    "\n",
    "\n",
    "from sklearn.datasets import fetch_20newsgroups\n",
    "\n",
    "from keras.preprocessing.text import Tokenizer\n",
    "from keras.preprocessing.sequence import pad_sequences\n",
    "from random import random\n",
    "from numpy import array\n",
    "from numpy import cumsum\n",
    "from keras.layers import TimeDistributed\n",
    "from keras.layers import Bidirectional\n",
    "from tensorflow import keras\n",
    "from tensorflow.keras import layers"
   ]
  },
  {
   "cell_type": "code",
   "execution_count": 6,
   "metadata": {
    "id": "_4mtasPndt9Z"
   },
   "outputs": [],
   "source": [
    "max_features = 100  ## maximum pos tag types\n",
    "seq_length = 20   ## normalize sequences length\n",
    "batch_size = 32   ## number of training examples utilized in one iteration"
   ]
  },
  {
   "cell_type": "code",
   "execution_count": 7,
   "metadata": {
    "id": "ythSPfqwbZId"
   },
   "outputs": [],
   "source": [
    "df = pd.read_csv('na28withindex.csv', encoding = 'utf-16', sep = '\\t')\n",
    "df2 = pd.read_csv('sblwithindex.csv', encoding = 'utf-16', sep = '\\t')\n",
    "df3 = pd.read_csv('tyndalewithindex.csv', encoding = 'utf-16', sep = '\\t')"
   ]
  },
  {
   "cell_type": "markdown",
   "metadata": {},
   "source": [
    "## Build bidirectional LSTM model"
   ]
  },
  {
   "cell_type": "code",
   "execution_count": 8,
   "metadata": {
    "colab": {
     "base_uri": "https://localhost:8080/"
    },
    "id": "NLHkJ2S3EJ3A",
    "outputId": "4a947034-7ac7-4977-b400-c6853ac33507"
   },
   "outputs": [
    {
     "name": "stdout",
     "output_type": "stream",
     "text": [
      "Model: \"functional_1\"\n",
      "_________________________________________________________________\n",
      "Layer (type)                 Output Shape              Param #   \n",
      "=================================================================\n",
      "input_1 (InputLayer)         [(None, None)]            0         \n",
      "_________________________________________________________________\n",
      "embedding (Embedding)        (None, None, 128)         12800     \n",
      "_________________________________________________________________\n",
      "bidirectional (Bidirectional (None, None, 128)         98816     \n",
      "_________________________________________________________________\n",
      "bidirectional_1 (Bidirection (None, 128)               98816     \n",
      "_________________________________________________________________\n",
      "dense (Dense)                (None, 1)                 129       \n",
      "=================================================================\n",
      "Total params: 210,561\n",
      "Trainable params: 210,561\n",
      "Non-trainable params: 0\n",
      "_________________________________________________________________\n"
     ]
    }
   ],
   "source": [
    "inputs = keras.Input(shape=(None,), dtype=\"int32\")\n",
    "# Embed each integer in a 128-dimensional vector\n",
    "x = layers.Embedding(max_features, 128)(inputs)\n",
    "# Add 2 bidirectional LSTMs\n",
    "x = layers.Bidirectional(layers.LSTM(64, return_sequences=True))(x)\n",
    "x = layers.Bidirectional(layers.LSTM(64))(x)\n",
    "# Add a classifier\n",
    "outputs = layers.Dense(1, activation=\"relu\")(x)\n",
    "model = keras.Model(inputs, outputs)\n",
    "model.summary()"
   ]
  },
  {
   "cell_type": "code",
   "execution_count": 9,
   "metadata": {
    "id": "AuVgsEO5cC5e"
   },
   "outputs": [],
   "source": [
    "## transfer text to pos tag\n",
    "def cosine_text(text):\n",
    "    pos_tag = []\n",
    "    for t in text['Verse_index']:\n",
    "        pos_tag.append(t)\n",
    "    for y in Heb['Verse_index']:\n",
    "        pos_tag.append(y)\n",
    "    tokenizer = Tokenizer(num_words=max_features)\n",
    "    tokenizer.fit_on_texts(pos_tag)\n",
    "    sequences_train = tokenizer.texts_to_sequences(pos_tag)\n",
    "    word_index = tokenizer.word_index\n",
    "    x_train = pad_sequences(sequences_train, maxlen=seq_length)\n",
    "    return x_train"
   ]
  },
  {
   "cell_type": "code",
   "execution_count": 10,
   "metadata": {
    "id": "pvYvedptQFsX"
   },
   "outputs": [],
   "source": [
    "## create target variable\n",
    "def text_author(text):\n",
    "    author_tag = []\n",
    "    for t in text['Author_index']:\n",
    "        author_tag.append(t)\n",
    "    for f in Heb['Author_index']:\n",
    "        author_tag.append(f)\n",
    "    my_array = np.array(author_tag)\n",
    "    return my_array"
   ]
  },
  {
   "cell_type": "code",
   "execution_count": 11,
   "metadata": {
    "id": "h8w57XTVqgCL"
   },
   "outputs": [],
   "source": [
    "## result measurement\n",
    "def model_output(rnntext,rnntext2):\n",
    "\n",
    "  X_train, X_test, y_train, y_test = train_test_split(rnntext, rnntext2, test_size = 0.2)\n",
    "  model.compile(\"rmsprop\", \"binary_crossentropy\", metrics=[\"accuracy\"])\n",
    "  history = model.fit(X_train, y_train, batch_size=32, epochs=20, validation_data=(X_test, y_test))\n",
    "  return history"
   ]
  },
  {
   "cell_type": "markdown",
   "metadata": {
    "id": "y24BpU0yeH-Y"
   },
   "source": [
    "## NA28_version"
   ]
  },
  {
   "cell_type": "code",
   "execution_count": null,
   "metadata": {
    "id": "1rSILkzUdYw3"
   },
   "outputs": [],
   "source": [
    "Matthew = df[df.BookName == 'Mt']\n",
    "Matthew['Author'] = 'Matthew'\n",
    "Mark = df[df.BookName == 'Mk']\n",
    "Mark['Author'] = 'Mark'\n",
    "Luke = df[df.BookName == 'Lk']\n",
    "Luke['Author'] = 'Luke'\n",
    "John = df[df.BookName == 'Joh']\n",
    "John['Author'] = 'John'\n",
    "Acts = df[df.BookName == 'Apg']\n",
    "Acts['Author'] = 'Luke'\n",
    "Luke_Book = pd.concat([Luke,Acts],axis = 0)\n",
    "James = df[df.BookName == 'Jak']\n",
    "James['Author'] = 'James'\n",
    "f_Peter = df[df.BookName == '1.Petr']\n",
    "s_Peter = df[df.BookName == '2.Petr']\n",
    "f_Peter['Author'] = 'Peter'\n",
    "s_Peter['Author'] = 'Peter'\n",
    "Peter_letter = pd.concat([f_Peter, s_Peter], axis = 0)\n",
    "\n",
    "f_John = df[df.BookName == '1.Joh']\n",
    "s_John = df[df.BookName == '2.Joh']\n",
    "t_John = df[df.BookName == '3.Joh']\n",
    "f_John['Author'] = 'John'\n",
    "s_John['Author'] = 'John'\n",
    "t_John['Author'] = 'John'\n",
    "John_letter = pd.concat([f_John, s_John, t_John], axis = 0)\n",
    "\n",
    "Jude = df[df.BookName == 'Jud']\n",
    "Jude['Author'] = 'Jude'\n",
    "Rev = df[df.BookName == 'Offb']\n",
    "Rev['Author'] = 'John'\n",
    "John_Book = pd.concat([John,John_letter,Rev],axis = 0)"
   ]
  },
  {
   "cell_type": "code",
   "execution_count": null,
   "metadata": {
    "id": "s7kigzB3eUQa"
   },
   "outputs": [],
   "source": [
    "Romans = df[df.BookName == 'Röm']\n",
    "Romans['Author'] = 'Paul'\n",
    "f_cor = df[df.BookName == '1.Kor']\n",
    "f_cor['Author'] = 'Paul'\n",
    "s_cor = df[df.BookName == '2.Kor']\n",
    "s_cor['Author'] = 'Paul'\n",
    "Gal = df[df.BookName == 'Gal']\n",
    "Gal['Author'] = 'Paul'\n",
    "Eph = df[df.BookName == 'Eph']\n",
    "Eph['Author'] = 'Paul'\n",
    "Phi = df[df.BookName == 'Phil']\n",
    "Phi['Author'] = 'Paul'\n",
    "Col = df[df.BookName == 'Kol']\n",
    "Col['Author'] = 'Paul'\n",
    "f_the = df[df.BookName == '1.Thess']\n",
    "f_the['Author'] = 'Paul'\n",
    "s_the = df[df.BookName == '2.Thess']\n",
    "s_the['Author'] = 'Paul'\n",
    "f_tim = df[df.BookName == '1.Tim']\n",
    "f_tim['Author'] = 'Paul'\n",
    "s_tim = df[df.BookName == '2.Tim']\n",
    "s_tim['Author'] = 'Paul'\n",
    "Titus = df[df.BookName == 'Tit']\n",
    "Titus['Author'] = 'Paul'\n",
    "Philemon = df[df.BookName == 'Phlm']\n",
    "Philemon['Author'] = 'Paul'\n",
    "Paul_letters = pd.concat([Romans,f_cor,s_cor,Gal,Eph,Phi,Col,f_the,s_the,f_tim,s_tim,Titus,Philemon],axis = 0)\n",
    "Heb = df[df.BookName == 'heb']\n",
    "Heb['Author'] = 'Paul?'"
   ]
  },
  {
   "cell_type": "code",
   "execution_count": null,
   "metadata": {
    "id": "YcWH-437eaXh"
   },
   "outputs": [],
   "source": [
    "g1 = cosine_text(Matthew)\n",
    "g2 = cosine_text(Mark)\n",
    "g3 = cosine_text(Luke)\n",
    "g4 = cosine_text(John)\n",
    "acts = cosine_text(Acts)\n",
    "rms = cosine_text(Romans)\n",
    "fcor = cosine_text(f_cor)\n",
    "scor = cosine_text(s_cor)\n",
    "gal = cosine_text(Gal)\n",
    "eph = cosine_text(Eph)\n",
    "phi = cosine_text(Phi)\n",
    "col = cosine_text(Col)\n",
    "fthe = cosine_text(f_the)\n",
    "sthe = cosine_text(s_the)\n",
    "ftim = cosine_text(f_tim)\n",
    "stim = cosine_text(s_tim)\n",
    "titus = cosine_text(Titus)\n",
    "philemon = cosine_text(Philemon)\n",
    "jams = cosine_text(James)\n",
    "fpet = cosine_text(f_Peter)\n",
    "spet = cosine_text(s_Peter)\n",
    "fjohn = cosine_text(f_John)\n",
    "sjohn = cosine_text(s_John)\n",
    "tjohn = cosine_text(t_John.dropna())\n",
    "jud = cosine_text(Jude)\n",
    "rev = cosine_text(Rev)"
   ]
  },
  {
   "cell_type": "code",
   "execution_count": null,
   "metadata": {
    "id": "fyKaW1cMU-i6"
   },
   "outputs": [],
   "source": [
    "g11 = text_author(Matthew)\n",
    "g21 = text_author(Mark)\n",
    "g31 = text_author(Luke)\n",
    "g41 = text_author(John)\n",
    "acts1 = text_author(Acts)\n",
    "rms1 = text_author(Romans)\n",
    "fcor1 = text_author(f_cor)\n",
    "scor1 = text_author(s_cor)\n",
    "gal1 = text_author(Gal)\n",
    "eph1 = text_author(Eph)\n",
    "phi1 = text_author(Phi)\n",
    "col1 = text_author(Col)\n",
    "fthe1 = text_author(f_the)\n",
    "sthe1 = text_author(s_the)\n",
    "ftim1 = text_author(f_tim)\n",
    "stim1 = text_author(s_tim)\n",
    "titus1 = text_author(Titus)\n",
    "philemon1 = text_author(Philemon)\n",
    "jams1 = text_author(James)\n",
    "fpet1 = text_author(f_Peter)\n",
    "spet1 = text_author(s_Peter)\n",
    "fjohn1 = text_author(f_John)\n",
    "sjohn1 = text_author(s_John)\n",
    "tjohn1 = text_author(t_John.dropna())\n",
    "jud1 = text_author(Jude)\n",
    "rev1 = text_author(Rev)"
   ]
  },
  {
   "cell_type": "code",
   "execution_count": null,
   "metadata": {
    "colab": {
     "base_uri": "https://localhost:8080/"
    },
    "id": "1GoJ91X3MWzV",
    "outputId": "fad58b58-9545-41aa-cb1a-ff1d37828cc9"
   },
   "outputs": [
    {
     "name": "stdout",
     "output_type": "stream",
     "text": [
      "Epoch 1/20\n",
      "34/34 [==============================] - 3s 88ms/step - loss: 0.5579 - accuracy: 0.7638 - val_loss: 0.5585 - val_accuracy: 0.7341\n",
      "Epoch 2/20\n",
      "34/34 [==============================] - 2s 46ms/step - loss: 0.4597 - accuracy: 0.8013 - val_loss: 0.6360 - val_accuracy: 0.7491\n",
      "Epoch 3/20\n",
      "34/34 [==============================] - 2s 46ms/step - loss: 0.4757 - accuracy: 0.8051 - val_loss: 0.5364 - val_accuracy: 0.7303\n",
      "Epoch 4/20\n",
      "34/34 [==============================] - 2s 46ms/step - loss: 0.4766 - accuracy: 0.7966 - val_loss: 0.6359 - val_accuracy: 0.7491\n",
      "Epoch 5/20\n",
      "34/34 [==============================] - 2s 47ms/step - loss: 0.4880 - accuracy: 0.8041 - val_loss: 1.3040 - val_accuracy: 0.7491\n",
      "Epoch 6/20\n",
      "34/34 [==============================] - 2s 46ms/step - loss: 0.4504 - accuracy: 0.8051 - val_loss: 0.5943 - val_accuracy: 0.7191\n",
      "Epoch 7/20\n",
      "34/34 [==============================] - 2s 47ms/step - loss: 0.5480 - accuracy: 0.7976 - val_loss: 0.6569 - val_accuracy: 0.7116\n",
      "Epoch 8/20\n",
      "34/34 [==============================] - 2s 48ms/step - loss: 0.4497 - accuracy: 0.7919 - val_loss: 1.9188 - val_accuracy: 0.7453\n",
      "Epoch 9/20\n",
      "34/34 [==============================] - 2s 48ms/step - loss: 0.4888 - accuracy: 0.8126 - val_loss: 0.6090 - val_accuracy: 0.7228\n",
      "Epoch 10/20\n",
      "34/34 [==============================] - 2s 48ms/step - loss: 0.4467 - accuracy: 0.8004 - val_loss: 0.6826 - val_accuracy: 0.7341\n",
      "Epoch 11/20\n",
      "34/34 [==============================] - 2s 47ms/step - loss: 0.4630 - accuracy: 0.8022 - val_loss: 1.0155 - val_accuracy: 0.7228\n",
      "Epoch 12/20\n",
      "34/34 [==============================] - 2s 46ms/step - loss: 0.4449 - accuracy: 0.8069 - val_loss: 0.6912 - val_accuracy: 0.7303\n",
      "Epoch 13/20\n",
      "34/34 [==============================] - 2s 48ms/step - loss: 0.4498 - accuracy: 0.8051 - val_loss: 0.6406 - val_accuracy: 0.7228\n",
      "Epoch 14/20\n",
      "34/34 [==============================] - 2s 62ms/step - loss: 0.4602 - accuracy: 0.7816 - val_loss: 0.6797 - val_accuracy: 0.7116\n",
      "Epoch 15/20\n",
      "34/34 [==============================] - 3s 87ms/step - loss: 0.4460 - accuracy: 0.8060 - val_loss: 0.9734 - val_accuracy: 0.7491\n",
      "Epoch 16/20\n",
      "34/34 [==============================] - 3s 88ms/step - loss: 0.4220 - accuracy: 0.8079 - val_loss: 1.0065 - val_accuracy: 0.7378\n",
      "Epoch 17/20\n",
      "34/34 [==============================] - 3s 86ms/step - loss: 0.4403 - accuracy: 0.8041 - val_loss: 1.9200 - val_accuracy: 0.7341\n",
      "Epoch 18/20\n",
      "34/34 [==============================] - 2s 49ms/step - loss: 0.4178 - accuracy: 0.8041 - val_loss: 0.6472 - val_accuracy: 0.7416\n",
      "Epoch 19/20\n",
      "34/34 [==============================] - 2s 47ms/step - loss: 0.4262 - accuracy: 0.7948 - val_loss: 0.7578 - val_accuracy: 0.7079\n",
      "Epoch 20/20\n",
      "34/34 [==============================] - 2s 48ms/step - loss: 0.4162 - accuracy: 0.7826 - val_loss: 1.0972 - val_accuracy: 0.7416\n"
     ]
    }
   ],
   "source": [
    "mat = model_output(g1,g11)"
   ]
  },
  {
   "cell_type": "code",
   "execution_count": null,
   "metadata": {
    "colab": {
     "base_uri": "https://localhost:8080/"
    },
    "id": "nfnDZ1y9azUQ",
    "outputId": "af176183-602f-4ead-e441-d09c5ee2032d"
   },
   "outputs": [
    {
     "name": "stdout",
     "output_type": "stream",
     "text": [
      "Epoch 1/20\n",
      "24/24 [==============================] - 3s 107ms/step - loss: 0.5897 - accuracy: 0.7084 - val_loss: 0.5464 - val_accuracy: 0.6632\n",
      "Epoch 2/20\n",
      "24/24 [==============================] - 1s 46ms/step - loss: 0.5934 - accuracy: 0.7190 - val_loss: 0.5765 - val_accuracy: 0.6842\n",
      "Epoch 3/20\n",
      "24/24 [==============================] - 1s 47ms/step - loss: 0.5598 - accuracy: 0.7348 - val_loss: 0.5635 - val_accuracy: 0.6684\n",
      "Epoch 4/20\n",
      "24/24 [==============================] - 1s 47ms/step - loss: 0.5454 - accuracy: 0.7454 - val_loss: 0.6935 - val_accuracy: 0.6895\n",
      "Epoch 5/20\n",
      "24/24 [==============================] - 1s 46ms/step - loss: 0.5315 - accuracy: 0.7388 - val_loss: 0.6868 - val_accuracy: 0.6789\n",
      "Epoch 6/20\n",
      "24/24 [==============================] - 1s 48ms/step - loss: 0.5844 - accuracy: 0.7322 - val_loss: 0.6208 - val_accuracy: 0.6789\n",
      "Epoch 7/20\n",
      "24/24 [==============================] - 1s 48ms/step - loss: 0.5845 - accuracy: 0.7388 - val_loss: 0.6251 - val_accuracy: 0.6842\n",
      "Epoch 8/20\n",
      "24/24 [==============================] - 1s 48ms/step - loss: 0.5370 - accuracy: 0.7441 - val_loss: 0.7743 - val_accuracy: 0.6842\n",
      "Epoch 9/20\n",
      "24/24 [==============================] - 1s 48ms/step - loss: 0.5223 - accuracy: 0.7256 - val_loss: 0.6244 - val_accuracy: 0.6947\n",
      "Epoch 10/20\n",
      "24/24 [==============================] - 1s 48ms/step - loss: 0.5622 - accuracy: 0.7256 - val_loss: 0.6895 - val_accuracy: 0.6789\n",
      "Epoch 11/20\n",
      "24/24 [==============================] - 1s 47ms/step - loss: 0.5292 - accuracy: 0.7520 - val_loss: 0.7468 - val_accuracy: 0.6632\n",
      "Epoch 12/20\n",
      "24/24 [==============================] - 1s 47ms/step - loss: 0.5100 - accuracy: 0.7520 - val_loss: 1.4758 - val_accuracy: 0.6684\n",
      "Epoch 13/20\n",
      "24/24 [==============================] - 1s 47ms/step - loss: 0.5366 - accuracy: 0.7454 - val_loss: 0.7011 - val_accuracy: 0.7000\n",
      "Epoch 14/20\n",
      "24/24 [==============================] - 1s 47ms/step - loss: 0.5340 - accuracy: 0.7691 - val_loss: 1.0097 - val_accuracy: 0.6947\n",
      "Epoch 15/20\n",
      "24/24 [==============================] - 1s 47ms/step - loss: 0.5020 - accuracy: 0.7467 - val_loss: 0.9080 - val_accuracy: 0.6842\n",
      "Epoch 16/20\n",
      "24/24 [==============================] - 1s 46ms/step - loss: 0.5106 - accuracy: 0.7810 - val_loss: 0.6939 - val_accuracy: 0.6895\n",
      "Epoch 17/20\n",
      "24/24 [==============================] - 1s 46ms/step - loss: 0.4974 - accuracy: 0.7665 - val_loss: 1.0193 - val_accuracy: 0.6526\n",
      "Epoch 18/20\n",
      "24/24 [==============================] - 1s 47ms/step - loss: 0.5402 - accuracy: 0.7652 - val_loss: 1.1377 - val_accuracy: 0.7053\n",
      "Epoch 19/20\n",
      "24/24 [==============================] - 1s 47ms/step - loss: 0.5076 - accuracy: 0.7678 - val_loss: 1.2093 - val_accuracy: 0.7000\n",
      "Epoch 20/20\n",
      "24/24 [==============================] - 1s 48ms/step - loss: 0.4802 - accuracy: 0.7731 - val_loss: 0.9821 - val_accuracy: 0.6632\n"
     ]
    }
   ],
   "source": [
    "mak = model_output(g2,g21)"
   ]
  },
  {
   "cell_type": "code",
   "execution_count": null,
   "metadata": {
    "colab": {
     "base_uri": "https://localhost:8080/"
    },
    "id": "uPcnICibVSNX",
    "outputId": "4408321f-e9b2-4f8e-85f3-3e887b285722"
   },
   "outputs": [
    {
     "name": "stdout",
     "output_type": "stream",
     "text": [
      "Epoch 1/20\n",
      "36/36 [==============================] - 3s 85ms/step - loss: 0.8464 - accuracy: 0.7432 - val_loss: 0.6101 - val_accuracy: 0.7483\n",
      "Epoch 2/20\n",
      "36/36 [==============================] - 2s 46ms/step - loss: 0.5571 - accuracy: 0.7975 - val_loss: 0.5156 - val_accuracy: 0.8077\n",
      "Epoch 3/20\n",
      "36/36 [==============================] - 2s 47ms/step - loss: 0.5886 - accuracy: 0.8011 - val_loss: 0.5299 - val_accuracy: 0.8112\n",
      "Epoch 4/20\n",
      "36/36 [==============================] - 2s 47ms/step - loss: 0.5829 - accuracy: 0.7975 - val_loss: 0.5323 - val_accuracy: 0.8077\n",
      "Epoch 5/20\n",
      "36/36 [==============================] - 2s 47ms/step - loss: 0.5500 - accuracy: 0.7984 - val_loss: 0.4892 - val_accuracy: 0.8112\n",
      "Epoch 6/20\n",
      "36/36 [==============================] - 2s 47ms/step - loss: 0.5681 - accuracy: 0.8028 - val_loss: 0.5082 - val_accuracy: 0.8112\n",
      "Epoch 7/20\n",
      "36/36 [==============================] - 2s 47ms/step - loss: 0.5115 - accuracy: 0.7975 - val_loss: 0.4505 - val_accuracy: 0.8077\n",
      "Epoch 8/20\n",
      "36/36 [==============================] - 2s 46ms/step - loss: 0.4846 - accuracy: 0.8046 - val_loss: 0.5089 - val_accuracy: 0.7972\n",
      "Epoch 9/20\n",
      "36/36 [==============================] - 2s 47ms/step - loss: 0.4895 - accuracy: 0.7967 - val_loss: 0.4806 - val_accuracy: 0.8077\n",
      "Epoch 10/20\n",
      "36/36 [==============================] - 2s 48ms/step - loss: 0.4761 - accuracy: 0.8019 - val_loss: 0.4425 - val_accuracy: 0.8042\n",
      "Epoch 11/20\n",
      "36/36 [==============================] - 2s 46ms/step - loss: 0.4818 - accuracy: 0.8046 - val_loss: 0.5757 - val_accuracy: 0.7972\n",
      "Epoch 12/20\n",
      "36/36 [==============================] - 2s 47ms/step - loss: 0.4951 - accuracy: 0.8054 - val_loss: 0.4860 - val_accuracy: 0.7867\n",
      "Epoch 13/20\n",
      "36/36 [==============================] - 2s 47ms/step - loss: 0.4720 - accuracy: 0.8081 - val_loss: 0.5541 - val_accuracy: 0.8007\n",
      "Epoch 14/20\n",
      "36/36 [==============================] - 2s 47ms/step - loss: 0.4819 - accuracy: 0.8107 - val_loss: 0.5650 - val_accuracy: 0.8007\n",
      "Epoch 15/20\n",
      "36/36 [==============================] - 2s 48ms/step - loss: 0.4739 - accuracy: 0.8116 - val_loss: 0.6116 - val_accuracy: 0.7867\n",
      "Epoch 16/20\n",
      "36/36 [==============================] - 2s 48ms/step - loss: 0.4511 - accuracy: 0.8195 - val_loss: 0.8638 - val_accuracy: 0.8077\n",
      "Epoch 17/20\n",
      "36/36 [==============================] - 2s 48ms/step - loss: 0.4347 - accuracy: 0.8273 - val_loss: 0.7156 - val_accuracy: 0.7797\n",
      "Epoch 18/20\n",
      "36/36 [==============================] - 2s 47ms/step - loss: 0.4476 - accuracy: 0.8212 - val_loss: 0.5439 - val_accuracy: 0.7517\n",
      "Epoch 19/20\n",
      "36/36 [==============================] - 2s 48ms/step - loss: 0.4080 - accuracy: 0.8326 - val_loss: 0.7365 - val_accuracy: 0.7937\n",
      "Epoch 20/20\n",
      "36/36 [==============================] - 2s 48ms/step - loss: 0.4319 - accuracy: 0.8335 - val_loss: 0.6620 - val_accuracy: 0.7832\n"
     ]
    }
   ],
   "source": [
    "luk = model_output(g3,g31)"
   ]
  },
  {
   "cell_type": "code",
   "execution_count": null,
   "metadata": {
    "colab": {
     "base_uri": "https://localhost:8080/"
    },
    "id": "AG3GW8JIcNP-",
    "outputId": "aea59213-67a0-4ef1-bc26-fb682b6bfcde"
   },
   "outputs": [
    {
     "name": "stdout",
     "output_type": "stream",
     "text": [
      "Epoch 1/20\n",
      "29/29 [==============================] - 3s 90ms/step - loss: 0.9050 - accuracy: 0.7457 - val_loss: 0.5859 - val_accuracy: 0.7931\n",
      "Epoch 2/20\n",
      "29/29 [==============================] - 1s 44ms/step - loss: 0.7093 - accuracy: 0.7597 - val_loss: 0.5455 - val_accuracy: 0.7888\n",
      "Epoch 3/20\n",
      "29/29 [==============================] - 1s 42ms/step - loss: 0.7033 - accuracy: 0.7737 - val_loss: 0.6402 - val_accuracy: 0.7888\n",
      "Epoch 4/20\n",
      "29/29 [==============================] - 1s 42ms/step - loss: 0.6337 - accuracy: 0.7834 - val_loss: 0.6374 - val_accuracy: 0.7974\n",
      "Epoch 5/20\n",
      "29/29 [==============================] - 1s 42ms/step - loss: 0.5783 - accuracy: 0.7909 - val_loss: 0.7126 - val_accuracy: 0.7888\n",
      "Epoch 6/20\n",
      "29/29 [==============================] - 1s 42ms/step - loss: 0.5908 - accuracy: 0.7985 - val_loss: 0.6556 - val_accuracy: 0.7888\n",
      "Epoch 7/20\n",
      "29/29 [==============================] - 1s 41ms/step - loss: 0.5517 - accuracy: 0.7974 - val_loss: 0.8274 - val_accuracy: 0.7586\n",
      "Epoch 8/20\n",
      "29/29 [==============================] - 1s 42ms/step - loss: 0.6136 - accuracy: 0.8103 - val_loss: 0.9243 - val_accuracy: 0.7716\n",
      "Epoch 9/20\n",
      "29/29 [==============================] - 1s 42ms/step - loss: 0.5789 - accuracy: 0.8103 - val_loss: 1.1402 - val_accuracy: 0.7500\n",
      "Epoch 10/20\n",
      "29/29 [==============================] - 1s 41ms/step - loss: 0.5007 - accuracy: 0.8384 - val_loss: 0.9807 - val_accuracy: 0.7672\n",
      "Epoch 11/20\n",
      "29/29 [==============================] - 1s 42ms/step - loss: 0.5015 - accuracy: 0.8308 - val_loss: 1.0472 - val_accuracy: 0.7888\n",
      "Epoch 12/20\n",
      "29/29 [==============================] - 1s 42ms/step - loss: 0.4806 - accuracy: 0.8502 - val_loss: 1.5692 - val_accuracy: 0.7586\n",
      "Epoch 13/20\n",
      "29/29 [==============================] - 1s 43ms/step - loss: 0.4538 - accuracy: 0.8621 - val_loss: 1.4229 - val_accuracy: 0.7888\n",
      "Epoch 14/20\n",
      "29/29 [==============================] - 1s 42ms/step - loss: 0.4324 - accuracy: 0.8772 - val_loss: 1.4324 - val_accuracy: 0.7543\n",
      "Epoch 15/20\n",
      "29/29 [==============================] - 1s 42ms/step - loss: 0.4252 - accuracy: 0.8782 - val_loss: 1.4952 - val_accuracy: 0.7284\n",
      "Epoch 16/20\n",
      "29/29 [==============================] - 1s 41ms/step - loss: 0.3987 - accuracy: 0.8869 - val_loss: 1.5207 - val_accuracy: 0.7414\n",
      "Epoch 17/20\n",
      "29/29 [==============================] - 1s 43ms/step - loss: 0.3911 - accuracy: 0.8901 - val_loss: 1.5680 - val_accuracy: 0.7629\n",
      "Epoch 18/20\n",
      "29/29 [==============================] - 1s 42ms/step - loss: 0.3748 - accuracy: 0.9052 - val_loss: 2.0918 - val_accuracy: 0.7198\n",
      "Epoch 19/20\n",
      "29/29 [==============================] - 1s 43ms/step - loss: 0.3157 - accuracy: 0.9149 - val_loss: 2.0694 - val_accuracy: 0.7155\n",
      "Epoch 20/20\n",
      "29/29 [==============================] - 1s 42ms/step - loss: 0.3387 - accuracy: 0.9116 - val_loss: 2.0650 - val_accuracy: 0.7371\n"
     ]
    }
   ],
   "source": [
    "joh = model_output(g4,g41)"
   ]
  },
  {
   "cell_type": "code",
   "execution_count": null,
   "metadata": {
    "colab": {
     "base_uri": "https://localhost:8080/"
    },
    "id": "2ZNFnLmjcQX6",
    "outputId": "af40ea5b-bb7a-4661-c4ae-3abd43c98c72"
   },
   "outputs": [
    {
     "name": "stdout",
     "output_type": "stream",
     "text": [
      "Epoch 1/20\n",
      "32/32 [==============================] - 3s 103ms/step - loss: 1.1476 - accuracy: 0.7475 - val_loss: 1.3046 - val_accuracy: 0.7075\n",
      "Epoch 2/20\n",
      "32/32 [==============================] - 2s 48ms/step - loss: 0.9589 - accuracy: 0.7921 - val_loss: 1.3253 - val_accuracy: 0.6957\n",
      "Epoch 3/20\n",
      "32/32 [==============================] - 2s 47ms/step - loss: 0.7431 - accuracy: 0.7663 - val_loss: 1.2956 - val_accuracy: 0.7510\n",
      "Epoch 4/20\n",
      "32/32 [==============================] - 1s 47ms/step - loss: 0.7133 - accuracy: 0.8069 - val_loss: 0.8435 - val_accuracy: 0.7273\n",
      "Epoch 5/20\n",
      "32/32 [==============================] - 1s 46ms/step - loss: 0.5951 - accuracy: 0.8139 - val_loss: 1.2538 - val_accuracy: 0.7708\n",
      "Epoch 6/20\n",
      "32/32 [==============================] - 2s 47ms/step - loss: 0.5915 - accuracy: 0.8198 - val_loss: 1.5790 - val_accuracy: 0.7668\n",
      "Epoch 7/20\n",
      "32/32 [==============================] - 1s 46ms/step - loss: 0.6615 - accuracy: 0.8267 - val_loss: 1.2893 - val_accuracy: 0.7233\n",
      "Epoch 8/20\n",
      "32/32 [==============================] - 1s 46ms/step - loss: 0.5124 - accuracy: 0.8495 - val_loss: 1.2182 - val_accuracy: 0.7391\n",
      "Epoch 9/20\n",
      "32/32 [==============================] - 1s 47ms/step - loss: 0.5236 - accuracy: 0.8386 - val_loss: 1.2318 - val_accuracy: 0.7233\n",
      "Epoch 10/20\n",
      "32/32 [==============================] - 2s 48ms/step - loss: 0.5142 - accuracy: 0.8644 - val_loss: 1.7170 - val_accuracy: 0.7668\n",
      "Epoch 11/20\n",
      "32/32 [==============================] - 2s 47ms/step - loss: 0.4620 - accuracy: 0.8733 - val_loss: 1.4760 - val_accuracy: 0.6996\n",
      "Epoch 12/20\n",
      "32/32 [==============================] - 2s 48ms/step - loss: 0.5304 - accuracy: 0.8762 - val_loss: 1.9804 - val_accuracy: 0.7668\n",
      "Epoch 13/20\n",
      "32/32 [==============================] - 1s 46ms/step - loss: 0.4205 - accuracy: 0.8931 - val_loss: 2.1080 - val_accuracy: 0.7273\n",
      "Epoch 14/20\n",
      "32/32 [==============================] - 2s 47ms/step - loss: 0.4062 - accuracy: 0.8990 - val_loss: 2.3420 - val_accuracy: 0.7787\n",
      "Epoch 15/20\n",
      "32/32 [==============================] - 2s 47ms/step - loss: 0.4950 - accuracy: 0.8921 - val_loss: 2.1995 - val_accuracy: 0.7194\n",
      "Epoch 16/20\n",
      "32/32 [==============================] - 2s 47ms/step - loss: 0.3763 - accuracy: 0.9238 - val_loss: 2.3335 - val_accuracy: 0.7549\n",
      "Epoch 17/20\n",
      "32/32 [==============================] - 2s 47ms/step - loss: 0.3651 - accuracy: 0.9188 - val_loss: 2.6158 - val_accuracy: 0.7510\n",
      "Epoch 18/20\n",
      "32/32 [==============================] - 2s 48ms/step - loss: 0.3886 - accuracy: 0.9277 - val_loss: 2.4285 - val_accuracy: 0.7312\n",
      "Epoch 19/20\n",
      "32/32 [==============================] - 2s 47ms/step - loss: 0.3501 - accuracy: 0.9406 - val_loss: 2.6566 - val_accuracy: 0.7312\n",
      "Epoch 20/20\n",
      "32/32 [==============================] - 2s 48ms/step - loss: 0.3585 - accuracy: 0.9455 - val_loss: 2.5929 - val_accuracy: 0.7273\n"
     ]
    }
   ],
   "source": [
    "act = model_output(acts,acts1)"
   ]
  },
  {
   "cell_type": "code",
   "execution_count": null,
   "metadata": {
    "colab": {
     "base_uri": "https://localhost:8080/"
    },
    "id": "-4xTfxGZcS1_",
    "outputId": "9cff2a40-eb53-4dac-9653-338faf294c25"
   },
   "outputs": [
    {
     "name": "stdout",
     "output_type": "stream",
     "text": [
      "Epoch 1/20\n",
      "18/18 [==============================] - 2s 125ms/step - loss: 2.5742 - accuracy: 0.6906 - val_loss: 2.3879 - val_accuracy: 0.6429\n",
      "Epoch 2/20\n",
      "18/18 [==============================] - 1s 45ms/step - loss: 1.9339 - accuracy: 0.6835 - val_loss: 2.2963 - val_accuracy: 0.6643\n",
      "Epoch 3/20\n",
      "18/18 [==============================] - 1s 46ms/step - loss: 1.6026 - accuracy: 0.7338 - val_loss: 1.7238 - val_accuracy: 0.7357\n",
      "Epoch 4/20\n",
      "18/18 [==============================] - 1s 45ms/step - loss: 1.5061 - accuracy: 0.7446 - val_loss: 1.8362 - val_accuracy: 0.6786\n",
      "Epoch 5/20\n",
      "18/18 [==============================] - 1s 46ms/step - loss: 1.3112 - accuracy: 0.7626 - val_loss: 2.1221 - val_accuracy: 0.7214\n",
      "Epoch 6/20\n",
      "18/18 [==============================] - 1s 45ms/step - loss: 1.2797 - accuracy: 0.8058 - val_loss: 2.3182 - val_accuracy: 0.6571\n",
      "Epoch 7/20\n",
      "18/18 [==============================] - 1s 45ms/step - loss: 1.2247 - accuracy: 0.8237 - val_loss: 2.1503 - val_accuracy: 0.6571\n",
      "Epoch 8/20\n",
      "18/18 [==============================] - 1s 46ms/step - loss: 1.1059 - accuracy: 0.8112 - val_loss: 2.4892 - val_accuracy: 0.6500\n",
      "Epoch 9/20\n",
      "18/18 [==============================] - 1s 46ms/step - loss: 1.1005 - accuracy: 0.8363 - val_loss: 2.0252 - val_accuracy: 0.6571\n",
      "Epoch 10/20\n",
      "18/18 [==============================] - 1s 45ms/step - loss: 1.1194 - accuracy: 0.8435 - val_loss: 2.3812 - val_accuracy: 0.6143\n",
      "Epoch 11/20\n",
      "18/18 [==============================] - 1s 45ms/step - loss: 1.0269 - accuracy: 0.8633 - val_loss: 2.2411 - val_accuracy: 0.6714\n",
      "Epoch 12/20\n",
      "18/18 [==============================] - 1s 46ms/step - loss: 0.9555 - accuracy: 0.8741 - val_loss: 2.0475 - val_accuracy: 0.6429\n",
      "Epoch 13/20\n",
      "18/18 [==============================] - 1s 48ms/step - loss: 0.9282 - accuracy: 0.8903 - val_loss: 2.3351 - val_accuracy: 0.6500\n",
      "Epoch 14/20\n",
      "18/18 [==============================] - 1s 46ms/step - loss: 0.9432 - accuracy: 0.8939 - val_loss: 2.4325 - val_accuracy: 0.6571\n",
      "Epoch 15/20\n",
      "18/18 [==============================] - 1s 45ms/step - loss: 0.8652 - accuracy: 0.9083 - val_loss: 2.3585 - val_accuracy: 0.6714\n",
      "Epoch 16/20\n",
      "18/18 [==============================] - 1s 46ms/step - loss: 0.8118 - accuracy: 0.9065 - val_loss: 2.3622 - val_accuracy: 0.6929\n",
      "Epoch 17/20\n",
      "18/18 [==============================] - 1s 46ms/step - loss: 0.7518 - accuracy: 0.9263 - val_loss: 2.2241 - val_accuracy: 0.6929\n",
      "Epoch 18/20\n",
      "18/18 [==============================] - 1s 46ms/step - loss: 0.7604 - accuracy: 0.9281 - val_loss: 3.2318 - val_accuracy: 0.6643\n",
      "Epoch 19/20\n",
      "18/18 [==============================] - 1s 46ms/step - loss: 0.6754 - accuracy: 0.9353 - val_loss: 3.0563 - val_accuracy: 0.6571\n",
      "Epoch 20/20\n",
      "18/18 [==============================] - 1s 46ms/step - loss: 0.7268 - accuracy: 0.9263 - val_loss: 2.7167 - val_accuracy: 0.6643\n"
     ]
    }
   ],
   "source": [
    "rom = model_output(rms,rms1)"
   ]
  },
  {
   "cell_type": "code",
   "execution_count": null,
   "metadata": {
    "colab": {
     "base_uri": "https://localhost:8080/"
    },
    "id": "ItotYhr-cUuq",
    "outputId": "2360123d-de62-491b-db37-c413f798d03a"
   },
   "outputs": [
    {
     "name": "stdout",
     "output_type": "stream",
     "text": [
      "Epoch 1/20\n",
      "18/18 [==============================] - 2s 123ms/step - loss: 3.0521 - accuracy: 0.6364 - val_loss: 2.5766 - val_accuracy: 0.6111\n",
      "Epoch 2/20\n",
      "18/18 [==============================] - 1s 46ms/step - loss: 2.4495 - accuracy: 0.6958 - val_loss: 2.7879 - val_accuracy: 0.5625\n",
      "Epoch 3/20\n",
      "18/18 [==============================] - 1s 45ms/step - loss: 2.0137 - accuracy: 0.6993 - val_loss: 2.4001 - val_accuracy: 0.5764\n",
      "Epoch 4/20\n",
      "18/18 [==============================] - 1s 46ms/step - loss: 1.6200 - accuracy: 0.7378 - val_loss: 1.8226 - val_accuracy: 0.6319\n",
      "Epoch 5/20\n",
      "18/18 [==============================] - 1s 45ms/step - loss: 1.2790 - accuracy: 0.7552 - val_loss: 1.5470 - val_accuracy: 0.6389\n",
      "Epoch 6/20\n",
      "18/18 [==============================] - 1s 46ms/step - loss: 1.1634 - accuracy: 0.7867 - val_loss: 1.6011 - val_accuracy: 0.6458\n",
      "Epoch 7/20\n",
      "18/18 [==============================] - 1s 45ms/step - loss: 1.1007 - accuracy: 0.8094 - val_loss: 1.4993 - val_accuracy: 0.6458\n",
      "Epoch 8/20\n",
      "18/18 [==============================] - 1s 46ms/step - loss: 1.0636 - accuracy: 0.8147 - val_loss: 2.1100 - val_accuracy: 0.5764\n",
      "Epoch 9/20\n",
      "18/18 [==============================] - 1s 47ms/step - loss: 1.0934 - accuracy: 0.8444 - val_loss: 2.4345 - val_accuracy: 0.6458\n",
      "Epoch 10/20\n",
      "18/18 [==============================] - 1s 46ms/step - loss: 0.9613 - accuracy: 0.8531 - val_loss: 1.9005 - val_accuracy: 0.6181\n",
      "Epoch 11/20\n",
      "18/18 [==============================] - 1s 47ms/step - loss: 0.8651 - accuracy: 0.8654 - val_loss: 1.7175 - val_accuracy: 0.6319\n",
      "Epoch 12/20\n",
      "18/18 [==============================] - 1s 46ms/step - loss: 0.7732 - accuracy: 0.8829 - val_loss: 2.2250 - val_accuracy: 0.6736\n",
      "Epoch 13/20\n",
      "18/18 [==============================] - 1s 46ms/step - loss: 0.7361 - accuracy: 0.9021 - val_loss: 2.0392 - val_accuracy: 0.6667\n",
      "Epoch 14/20\n",
      "18/18 [==============================] - 1s 46ms/step - loss: 0.9133 - accuracy: 0.8671 - val_loss: 2.2839 - val_accuracy: 0.6667\n",
      "Epoch 15/20\n",
      "18/18 [==============================] - 1s 46ms/step - loss: 0.6923 - accuracy: 0.9003 - val_loss: 2.5223 - val_accuracy: 0.6736\n",
      "Epoch 16/20\n",
      "18/18 [==============================] - 1s 46ms/step - loss: 0.6255 - accuracy: 0.9213 - val_loss: 2.4783 - val_accuracy: 0.6458\n",
      "Epoch 17/20\n",
      "18/18 [==============================] - 1s 45ms/step - loss: 0.6281 - accuracy: 0.9371 - val_loss: 2.3909 - val_accuracy: 0.6319\n",
      "Epoch 18/20\n",
      "18/18 [==============================] - 1s 46ms/step - loss: 0.6270 - accuracy: 0.9336 - val_loss: 2.7386 - val_accuracy: 0.6111\n",
      "Epoch 19/20\n",
      "18/18 [==============================] - 1s 47ms/step - loss: 0.6144 - accuracy: 0.9248 - val_loss: 2.8303 - val_accuracy: 0.6111\n",
      "Epoch 20/20\n",
      "18/18 [==============================] - 1s 45ms/step - loss: 0.5981 - accuracy: 0.9441 - val_loss: 2.8861 - val_accuracy: 0.6042\n"
     ]
    }
   ],
   "source": [
    "fcr = model_output(fcor,fcor1)"
   ]
  },
  {
   "cell_type": "code",
   "execution_count": null,
   "metadata": {
    "colab": {
     "base_uri": "https://localhost:8080/"
    },
    "id": "ht_-F6cgcXNC",
    "outputId": "0a2d77c1-c53f-4f1d-c1e1-78372638677f"
   },
   "outputs": [
    {
     "name": "stdout",
     "output_type": "stream",
     "text": [
      "Epoch 1/20\n",
      "14/14 [==============================] - 2s 142ms/step - loss: 2.3547 - accuracy: 0.6512 - val_loss: 2.0636 - val_accuracy: 0.6667\n",
      "Epoch 2/20\n",
      "14/14 [==============================] - 1s 45ms/step - loss: 2.2180 - accuracy: 0.7209 - val_loss: 2.2960 - val_accuracy: 0.7407\n",
      "Epoch 3/20\n",
      "14/14 [==============================] - 1s 45ms/step - loss: 1.9511 - accuracy: 0.7814 - val_loss: 2.3069 - val_accuracy: 0.6944\n",
      "Epoch 4/20\n",
      "14/14 [==============================] - 1s 46ms/step - loss: 1.5185 - accuracy: 0.7907 - val_loss: 1.8205 - val_accuracy: 0.7130\n",
      "Epoch 5/20\n",
      "14/14 [==============================] - 1s 45ms/step - loss: 1.3869 - accuracy: 0.8233 - val_loss: 1.9448 - val_accuracy: 0.7037\n",
      "Epoch 6/20\n",
      "14/14 [==============================] - 1s 45ms/step - loss: 1.3587 - accuracy: 0.8302 - val_loss: 2.0940 - val_accuracy: 0.6574\n",
      "Epoch 7/20\n",
      "14/14 [==============================] - 1s 46ms/step - loss: 1.2294 - accuracy: 0.8512 - val_loss: 2.6458 - val_accuracy: 0.6667\n",
      "Epoch 8/20\n",
      "14/14 [==============================] - 1s 44ms/step - loss: 1.3221 - accuracy: 0.8581 - val_loss: 2.5814 - val_accuracy: 0.6204\n",
      "Epoch 9/20\n",
      "14/14 [==============================] - 1s 45ms/step - loss: 1.1483 - accuracy: 0.8581 - val_loss: 1.9989 - val_accuracy: 0.6204\n",
      "Epoch 10/20\n",
      "14/14 [==============================] - 1s 46ms/step - loss: 1.0756 - accuracy: 0.8907 - val_loss: 2.2358 - val_accuracy: 0.6389\n",
      "Epoch 11/20\n",
      "14/14 [==============================] - 1s 44ms/step - loss: 1.0449 - accuracy: 0.9140 - val_loss: 2.4971 - val_accuracy: 0.6667\n",
      "Epoch 12/20\n",
      "14/14 [==============================] - 1s 44ms/step - loss: 1.0647 - accuracy: 0.9093 - val_loss: 2.3534 - val_accuracy: 0.6944\n",
      "Epoch 13/20\n",
      "14/14 [==============================] - 1s 47ms/step - loss: 1.0211 - accuracy: 0.9209 - val_loss: 2.6363 - val_accuracy: 0.6667\n",
      "Epoch 14/20\n",
      "14/14 [==============================] - 1s 45ms/step - loss: 1.0685 - accuracy: 0.9093 - val_loss: 2.7051 - val_accuracy: 0.6852\n",
      "Epoch 15/20\n",
      "14/14 [==============================] - 1s 44ms/step - loss: 0.9253 - accuracy: 0.9140 - val_loss: 2.6103 - val_accuracy: 0.6852\n",
      "Epoch 16/20\n",
      "14/14 [==============================] - 1s 44ms/step - loss: 0.8834 - accuracy: 0.9326 - val_loss: 2.8689 - val_accuracy: 0.6667\n",
      "Epoch 17/20\n",
      "14/14 [==============================] - 1s 44ms/step - loss: 0.8753 - accuracy: 0.9395 - val_loss: 2.8805 - val_accuracy: 0.6481\n",
      "Epoch 18/20\n",
      "14/14 [==============================] - 1s 45ms/step - loss: 0.8868 - accuracy: 0.9372 - val_loss: 2.9619 - val_accuracy: 0.6944\n",
      "Epoch 19/20\n",
      "14/14 [==============================] - 1s 44ms/step - loss: 0.9201 - accuracy: 0.9372 - val_loss: 3.1473 - val_accuracy: 0.6667\n",
      "Epoch 20/20\n",
      "14/14 [==============================] - 1s 46ms/step - loss: 0.9242 - accuracy: 0.9302 - val_loss: 3.0386 - val_accuracy: 0.6389\n"
     ]
    }
   ],
   "source": [
    "scr = model_output(scor,scor1)"
   ]
  },
  {
   "cell_type": "code",
   "execution_count": null,
   "metadata": {
    "colab": {
     "base_uri": "https://localhost:8080/"
    },
    "id": "hSUYUQHPcaVv",
    "outputId": "0152b299-1fc8-4f02-a7a8-dbcbc5ed56cc"
   },
   "outputs": [
    {
     "name": "stdout",
     "output_type": "stream",
     "text": [
      "Epoch 1/20\n",
      "11/11 [==============================] - 2s 174ms/step - loss: 2.6658 - accuracy: 0.7565 - val_loss: 1.5212 - val_accuracy: 0.7931\n",
      "Epoch 2/20\n",
      "11/11 [==============================] - 0s 44ms/step - loss: 2.1232 - accuracy: 0.8058 - val_loss: 1.7258 - val_accuracy: 0.7356\n",
      "Epoch 3/20\n",
      "11/11 [==============================] - 0s 45ms/step - loss: 1.6521 - accuracy: 0.8319 - val_loss: 1.4313 - val_accuracy: 0.7356\n",
      "Epoch 4/20\n",
      "11/11 [==============================] - 0s 45ms/step - loss: 1.5767 - accuracy: 0.8812 - val_loss: 1.6962 - val_accuracy: 0.7241\n",
      "Epoch 5/20\n",
      "11/11 [==============================] - 1s 46ms/step - loss: 1.5516 - accuracy: 0.8928 - val_loss: 1.6914 - val_accuracy: 0.7126\n",
      "Epoch 6/20\n",
      "11/11 [==============================] - 0s 45ms/step - loss: 1.5359 - accuracy: 0.8986 - val_loss: 1.5406 - val_accuracy: 0.7241\n",
      "Epoch 7/20\n",
      "11/11 [==============================] - 1s 46ms/step - loss: 1.5285 - accuracy: 0.9014 - val_loss: 1.5328 - val_accuracy: 0.7356\n",
      "Epoch 8/20\n",
      "11/11 [==============================] - 1s 46ms/step - loss: 1.5212 - accuracy: 0.9014 - val_loss: 1.4042 - val_accuracy: 0.7356\n",
      "Epoch 9/20\n",
      "11/11 [==============================] - 0s 44ms/step - loss: 1.5174 - accuracy: 0.9014 - val_loss: 1.4134 - val_accuracy: 0.7356\n",
      "Epoch 10/20\n",
      "11/11 [==============================] - 0s 45ms/step - loss: 1.5150 - accuracy: 0.9014 - val_loss: 1.5806 - val_accuracy: 0.7586\n",
      "Epoch 11/20\n",
      "11/11 [==============================] - 0s 45ms/step - loss: 1.5304 - accuracy: 0.8899 - val_loss: 1.8674 - val_accuracy: 0.7126\n",
      "Epoch 12/20\n",
      "11/11 [==============================] - 0s 45ms/step - loss: 1.4755 - accuracy: 0.9043 - val_loss: 1.5852 - val_accuracy: 0.7011\n",
      "Epoch 13/20\n",
      "11/11 [==============================] - 0s 44ms/step - loss: 1.4401 - accuracy: 0.9043 - val_loss: 2.0419 - val_accuracy: 0.7126\n",
      "Epoch 14/20\n",
      "11/11 [==============================] - 1s 47ms/step - loss: 1.4408 - accuracy: 0.8986 - val_loss: 1.8606 - val_accuracy: 0.7586\n",
      "Epoch 15/20\n",
      "11/11 [==============================] - 0s 45ms/step - loss: 1.4737 - accuracy: 0.9014 - val_loss: 2.2070 - val_accuracy: 0.7471\n",
      "Epoch 16/20\n",
      "11/11 [==============================] - 0s 45ms/step - loss: 1.4454 - accuracy: 0.9014 - val_loss: 1.9936 - val_accuracy: 0.7586\n",
      "Epoch 17/20\n",
      "11/11 [==============================] - 0s 45ms/step - loss: 1.3952 - accuracy: 0.9072 - val_loss: 1.7272 - val_accuracy: 0.7701\n",
      "Epoch 18/20\n",
      "11/11 [==============================] - 0s 44ms/step - loss: 1.3789 - accuracy: 0.9101 - val_loss: 2.0095 - val_accuracy: 0.7931\n",
      "Epoch 19/20\n",
      "11/11 [==============================] - 0s 45ms/step - loss: 1.3428 - accuracy: 0.9072 - val_loss: 2.0036 - val_accuracy: 0.8046\n",
      "Epoch 20/20\n",
      "11/11 [==============================] - 0s 45ms/step - loss: 1.3348 - accuracy: 0.9130 - val_loss: 1.6860 - val_accuracy: 0.7586\n"
     ]
    }
   ],
   "source": [
    "glt = model_output(gal,gal1)"
   ]
  },
  {
   "cell_type": "code",
   "execution_count": null,
   "metadata": {
    "colab": {
     "base_uri": "https://localhost:8080/"
    },
    "id": "av0EWPD9ccbd",
    "outputId": "57af062d-21f8-487e-82d8-2b62136a0d52"
   },
   "outputs": [
    {
     "name": "stdout",
     "output_type": "stream",
     "text": [
      "Epoch 1/20\n",
      "11/11 [==============================] - 2s 220ms/step - loss: 2.6497 - accuracy: 0.7061 - val_loss: 1.8857 - val_accuracy: 0.7241\n",
      "Epoch 2/20\n",
      "11/11 [==============================] - 0s 44ms/step - loss: 2.0469 - accuracy: 0.7867 - val_loss: 1.8616 - val_accuracy: 0.7356\n",
      "Epoch 3/20\n",
      "11/11 [==============================] - 1s 47ms/step - loss: 1.8760 - accuracy: 0.8415 - val_loss: 1.7047 - val_accuracy: 0.7931\n",
      "Epoch 4/20\n",
      "11/11 [==============================] - 0s 44ms/step - loss: 1.7429 - accuracy: 0.8703 - val_loss: 1.5103 - val_accuracy: 0.7816\n",
      "Epoch 5/20\n",
      "11/11 [==============================] - 0s 44ms/step - loss: 1.4828 - accuracy: 0.8646 - val_loss: 1.8640 - val_accuracy: 0.7586\n",
      "Epoch 6/20\n",
      "11/11 [==============================] - 1s 46ms/step - loss: 1.3230 - accuracy: 0.8530 - val_loss: 1.8425 - val_accuracy: 0.7586\n",
      "Epoch 7/20\n",
      "11/11 [==============================] - 0s 45ms/step - loss: 1.2152 - accuracy: 0.9020 - val_loss: 2.0098 - val_accuracy: 0.7471\n",
      "Epoch 8/20\n",
      "11/11 [==============================] - 0s 45ms/step - loss: 1.1033 - accuracy: 0.9164 - val_loss: 2.0559 - val_accuracy: 0.7241\n",
      "Epoch 9/20\n",
      "11/11 [==============================] - 0s 44ms/step - loss: 1.0896 - accuracy: 0.9251 - val_loss: 2.1675 - val_accuracy: 0.7471\n",
      "Epoch 10/20\n",
      "11/11 [==============================] - 1s 46ms/step - loss: 1.0837 - accuracy: 0.9251 - val_loss: 1.8724 - val_accuracy: 0.7816\n",
      "Epoch 11/20\n",
      "11/11 [==============================] - 1s 47ms/step - loss: 1.0809 - accuracy: 0.9222 - val_loss: 2.3178 - val_accuracy: 0.7701\n",
      "Epoch 12/20\n",
      "11/11 [==============================] - 0s 45ms/step - loss: 1.0359 - accuracy: 0.9251 - val_loss: 2.5138 - val_accuracy: 0.7241\n",
      "Epoch 13/20\n",
      "11/11 [==============================] - 0s 44ms/step - loss: 1.0095 - accuracy: 0.9280 - val_loss: 2.4868 - val_accuracy: 0.7356\n",
      "Epoch 14/20\n",
      "11/11 [==============================] - 1s 46ms/step - loss: 1.0643 - accuracy: 0.8991 - val_loss: 1.9608 - val_accuracy: 0.7586\n",
      "Epoch 15/20\n",
      "11/11 [==============================] - 1s 46ms/step - loss: 0.8721 - accuracy: 0.9366 - val_loss: 2.2136 - val_accuracy: 0.7586\n",
      "Epoch 16/20\n",
      "11/11 [==============================] - 1s 47ms/step - loss: 0.8444 - accuracy: 0.9452 - val_loss: 1.9628 - val_accuracy: 0.8161\n",
      "Epoch 17/20\n",
      "11/11 [==============================] - 0s 45ms/step - loss: 0.8408 - accuracy: 0.9452 - val_loss: 2.1458 - val_accuracy: 0.7931\n",
      "Epoch 18/20\n",
      "11/11 [==============================] - 0s 44ms/step - loss: 0.8430 - accuracy: 0.9452 - val_loss: 1.9926 - val_accuracy: 0.7816\n",
      "Epoch 19/20\n",
      "11/11 [==============================] - 1s 46ms/step - loss: 0.8390 - accuracy: 0.9452 - val_loss: 1.8453 - val_accuracy: 0.7356\n",
      "Epoch 20/20\n",
      "11/11 [==============================] - 0s 45ms/step - loss: 0.8234 - accuracy: 0.9337 - val_loss: 2.1783 - val_accuracy: 0.7701\n"
     ]
    }
   ],
   "source": [
    "ept = model_output(eph,eph1)"
   ]
  },
  {
   "cell_type": "code",
   "execution_count": null,
   "metadata": {
    "colab": {
     "base_uri": "https://localhost:8080/"
    },
    "id": "NK-ubQmjceJG",
    "outputId": "b95608b8-42ed-4910-e22c-4c6666764387"
   },
   "outputs": [
    {
     "name": "stdout",
     "output_type": "stream",
     "text": [
      "Epoch 1/20\n",
      "10/10 [==============================] - 2s 183ms/step - loss: 2.7493 - accuracy: 0.6990 - val_loss: 2.1162 - val_accuracy: 0.7821\n",
      "Epoch 2/20\n",
      "10/10 [==============================] - 0s 44ms/step - loss: 2.0747 - accuracy: 0.8188 - val_loss: 2.1469 - val_accuracy: 0.7436\n",
      "Epoch 3/20\n",
      "10/10 [==============================] - 0s 47ms/step - loss: 1.8840 - accuracy: 0.8285 - val_loss: 2.3170 - val_accuracy: 0.7692\n",
      "Epoch 4/20\n",
      "10/10 [==============================] - 0s 45ms/step - loss: 1.7118 - accuracy: 0.8544 - val_loss: 2.1089 - val_accuracy: 0.7949\n",
      "Epoch 5/20\n",
      "10/10 [==============================] - 0s 44ms/step - loss: 1.6113 - accuracy: 0.8641 - val_loss: 2.1471 - val_accuracy: 0.7821\n",
      "Epoch 6/20\n",
      "10/10 [==============================] - 0s 44ms/step - loss: 1.3395 - accuracy: 0.8835 - val_loss: 2.2881 - val_accuracy: 0.8077\n",
      "Epoch 7/20\n",
      "10/10 [==============================] - 0s 44ms/step - loss: 1.2797 - accuracy: 0.9094 - val_loss: 1.9988 - val_accuracy: 0.8077\n",
      "Epoch 8/20\n",
      "10/10 [==============================] - 0s 44ms/step - loss: 1.2581 - accuracy: 0.9159 - val_loss: 2.1065 - val_accuracy: 0.8077\n",
      "Epoch 9/20\n",
      "10/10 [==============================] - 0s 45ms/step - loss: 1.2473 - accuracy: 0.9191 - val_loss: 2.2625 - val_accuracy: 0.8205\n",
      "Epoch 10/20\n",
      "10/10 [==============================] - 0s 43ms/step - loss: 1.2039 - accuracy: 0.9191 - val_loss: 2.1166 - val_accuracy: 0.8077\n",
      "Epoch 11/20\n",
      "10/10 [==============================] - 0s 45ms/step - loss: 1.0742 - accuracy: 0.9126 - val_loss: 2.2595 - val_accuracy: 0.8333\n",
      "Epoch 12/20\n",
      "10/10 [==============================] - 0s 43ms/step - loss: 0.9788 - accuracy: 0.9256 - val_loss: 2.6343 - val_accuracy: 0.7949\n",
      "Epoch 13/20\n",
      "10/10 [==============================] - 0s 45ms/step - loss: 0.9276 - accuracy: 0.9288 - val_loss: 2.3088 - val_accuracy: 0.8077\n",
      "Epoch 14/20\n",
      "10/10 [==============================] - 0s 44ms/step - loss: 0.8849 - accuracy: 0.9223 - val_loss: 2.4848 - val_accuracy: 0.8077\n",
      "Epoch 15/20\n",
      "10/10 [==============================] - 0s 46ms/step - loss: 0.8100 - accuracy: 0.9450 - val_loss: 2.4814 - val_accuracy: 0.7821\n",
      "Epoch 16/20\n",
      "10/10 [==============================] - 0s 43ms/step - loss: 0.8680 - accuracy: 0.9385 - val_loss: 2.6283 - val_accuracy: 0.7821\n",
      "Epoch 17/20\n",
      "10/10 [==============================] - 0s 46ms/step - loss: 0.7979 - accuracy: 0.9450 - val_loss: 2.4452 - val_accuracy: 0.8077\n",
      "Epoch 18/20\n",
      "10/10 [==============================] - 0s 45ms/step - loss: 0.7941 - accuracy: 0.9482 - val_loss: 2.6324 - val_accuracy: 0.8077\n",
      "Epoch 19/20\n",
      "10/10 [==============================] - 0s 48ms/step - loss: 0.7931 - accuracy: 0.9482 - val_loss: 2.6238 - val_accuracy: 0.7949\n",
      "Epoch 20/20\n",
      "10/10 [==============================] - 0s 43ms/step - loss: 0.7934 - accuracy: 0.9482 - val_loss: 2.0841 - val_accuracy: 0.7949\n"
     ]
    }
   ],
   "source": [
    "plp = model_output(phi,phi1)"
   ]
  },
  {
   "cell_type": "code",
   "execution_count": null,
   "metadata": {
    "colab": {
     "base_uri": "https://localhost:8080/"
    },
    "id": "Nt3zbx1McgA8",
    "outputId": "845f2de8-f29d-408a-c91d-66266b16a370"
   },
   "outputs": [
    {
     "name": "stdout",
     "output_type": "stream",
     "text": [
      "Epoch 1/20\n",
      "10/10 [==============================] - 2s 188ms/step - loss: 1.7772 - accuracy: 0.8179 - val_loss: 3.4310 - val_accuracy: 0.7237\n",
      "Epoch 2/20\n",
      "10/10 [==============================] - 0s 43ms/step - loss: 1.4693 - accuracy: 0.8808 - val_loss: 3.9091 - val_accuracy: 0.7105\n",
      "Epoch 3/20\n",
      "10/10 [==============================] - 0s 45ms/step - loss: 1.2111 - accuracy: 0.8940 - val_loss: 3.0529 - val_accuracy: 0.7368\n",
      "Epoch 4/20\n",
      "10/10 [==============================] - 0s 43ms/step - loss: 1.1199 - accuracy: 0.9106 - val_loss: 3.2040 - val_accuracy: 0.7105\n",
      "Epoch 5/20\n",
      "10/10 [==============================] - 0s 44ms/step - loss: 1.0795 - accuracy: 0.9272 - val_loss: 3.3601 - val_accuracy: 0.7105\n",
      "Epoch 6/20\n",
      "10/10 [==============================] - 0s 43ms/step - loss: 1.0717 - accuracy: 0.9272 - val_loss: 3.2858 - val_accuracy: 0.7105\n",
      "Epoch 7/20\n",
      "10/10 [==============================] - 0s 43ms/step - loss: 1.0699 - accuracy: 0.9305 - val_loss: 3.7545 - val_accuracy: 0.7105\n",
      "Epoch 8/20\n",
      "10/10 [==============================] - 0s 42ms/step - loss: 1.0671 - accuracy: 0.9305 - val_loss: 3.5843 - val_accuracy: 0.7105\n",
      "Epoch 9/20\n",
      "10/10 [==============================] - 0s 43ms/step - loss: 1.0711 - accuracy: 0.9272 - val_loss: 3.5351 - val_accuracy: 0.7105\n",
      "Epoch 10/20\n",
      "10/10 [==============================] - 0s 42ms/step - loss: 1.1004 - accuracy: 0.8907 - val_loss: 3.5772 - val_accuracy: 0.7105\n",
      "Epoch 11/20\n",
      "10/10 [==============================] - 0s 44ms/step - loss: 0.9853 - accuracy: 0.9272 - val_loss: 3.4438 - val_accuracy: 0.7105\n",
      "Epoch 12/20\n",
      "10/10 [==============================] - 0s 43ms/step - loss: 0.9679 - accuracy: 0.9371 - val_loss: 3.5715 - val_accuracy: 0.6974\n",
      "Epoch 13/20\n",
      "10/10 [==============================] - 0s 43ms/step - loss: 0.9652 - accuracy: 0.9371 - val_loss: 3.5715 - val_accuracy: 0.6974\n",
      "Epoch 14/20\n",
      "10/10 [==============================] - 0s 43ms/step - loss: 0.9652 - accuracy: 0.9371 - val_loss: 3.5715 - val_accuracy: 0.6974\n",
      "Epoch 15/20\n",
      "10/10 [==============================] - 0s 45ms/step - loss: 0.9652 - accuracy: 0.9371 - val_loss: 3.5715 - val_accuracy: 0.6974\n",
      "Epoch 16/20\n",
      "10/10 [==============================] - 0s 43ms/step - loss: 0.9652 - accuracy: 0.9371 - val_loss: 3.5715 - val_accuracy: 0.6974\n",
      "Epoch 17/20\n",
      "10/10 [==============================] - 0s 45ms/step - loss: 0.9652 - accuracy: 0.9371 - val_loss: 3.5715 - val_accuracy: 0.6974\n",
      "Epoch 18/20\n",
      "10/10 [==============================] - 0s 44ms/step - loss: 0.9652 - accuracy: 0.9371 - val_loss: 3.5715 - val_accuracy: 0.6974\n",
      "Epoch 19/20\n",
      "10/10 [==============================] - 0s 44ms/step - loss: 0.9652 - accuracy: 0.9371 - val_loss: 3.5715 - val_accuracy: 0.6974\n",
      "Epoch 20/20\n",
      "10/10 [==============================] - 0s 43ms/step - loss: 0.9652 - accuracy: 0.9371 - val_loss: 3.5715 - val_accuracy: 0.6974\n"
     ]
    }
   ],
   "source": [
    "cls = model_output(col,col1)"
   ]
  },
  {
   "cell_type": "code",
   "execution_count": null,
   "metadata": {
    "colab": {
     "base_uri": "https://localhost:8080/"
    },
    "id": "mjNZCgyfciMP",
    "outputId": "8c20e715-c226-4a93-f28c-78c54a19891d"
   },
   "outputs": [
    {
     "name": "stdout",
     "output_type": "stream",
     "text": [
      "Epoch 1/20\n",
      "10/10 [==============================] - 2s 187ms/step - loss: 2.1241 - accuracy: 0.8283 - val_loss: 2.3148 - val_accuracy: 0.8267\n",
      "Epoch 2/20\n",
      "10/10 [==============================] - 0s 44ms/step - loss: 2.0391 - accuracy: 0.8519 - val_loss: 2.1778 - val_accuracy: 0.7867\n",
      "Epoch 3/20\n",
      "10/10 [==============================] - 0s 42ms/step - loss: 2.0569 - accuracy: 0.8519 - val_loss: 1.4430 - val_accuracy: 0.7867\n",
      "Epoch 4/20\n",
      "10/10 [==============================] - 0s 45ms/step - loss: 1.7821 - accuracy: 0.8586 - val_loss: 1.3958 - val_accuracy: 0.8133\n",
      "Epoch 5/20\n",
      "10/10 [==============================] - 0s 43ms/step - loss: 1.6824 - accuracy: 0.8855 - val_loss: 1.2608 - val_accuracy: 0.8000\n",
      "Epoch 6/20\n",
      "10/10 [==============================] - 0s 45ms/step - loss: 1.6175 - accuracy: 0.8923 - val_loss: 2.0228 - val_accuracy: 0.7867\n",
      "Epoch 7/20\n",
      "10/10 [==============================] - 0s 44ms/step - loss: 1.5735 - accuracy: 0.8923 - val_loss: 2.1943 - val_accuracy: 0.7867\n",
      "Epoch 8/20\n",
      "10/10 [==============================] - 0s 43ms/step - loss: 1.4760 - accuracy: 0.8990 - val_loss: 1.7040 - val_accuracy: 0.8000\n",
      "Epoch 9/20\n",
      "10/10 [==============================] - 0s 44ms/step - loss: 1.4151 - accuracy: 0.9024 - val_loss: 2.1816 - val_accuracy: 0.8000\n",
      "Epoch 10/20\n",
      "10/10 [==============================] - 0s 43ms/step - loss: 1.3996 - accuracy: 0.9091 - val_loss: 2.1993 - val_accuracy: 0.8133\n",
      "Epoch 11/20\n",
      "10/10 [==============================] - 0s 44ms/step - loss: 1.3494 - accuracy: 0.9091 - val_loss: 2.1898 - val_accuracy: 0.8133\n",
      "Epoch 12/20\n",
      "10/10 [==============================] - 0s 43ms/step - loss: 1.2520 - accuracy: 0.9158 - val_loss: 1.7755 - val_accuracy: 0.7333\n",
      "Epoch 13/20\n",
      "10/10 [==============================] - 0s 43ms/step - loss: 1.5874 - accuracy: 0.8721 - val_loss: 2.2089 - val_accuracy: 0.8000\n",
      "Epoch 14/20\n",
      "10/10 [==============================] - 0s 43ms/step - loss: 1.1780 - accuracy: 0.9057 - val_loss: 1.8447 - val_accuracy: 0.8000\n",
      "Epoch 15/20\n",
      "10/10 [==============================] - 0s 43ms/step - loss: 1.1033 - accuracy: 0.9226 - val_loss: 1.6259 - val_accuracy: 0.8133\n",
      "Epoch 16/20\n",
      "10/10 [==============================] - 0s 43ms/step - loss: 1.0894 - accuracy: 0.9293 - val_loss: 1.8263 - val_accuracy: 0.8000\n",
      "Epoch 17/20\n",
      "10/10 [==============================] - 0s 45ms/step - loss: 1.0869 - accuracy: 0.9293 - val_loss: 1.8107 - val_accuracy: 0.7867\n",
      "Epoch 18/20\n",
      "10/10 [==============================] - 0s 46ms/step - loss: 1.0870 - accuracy: 0.9293 - val_loss: 1.8819 - val_accuracy: 0.7867\n",
      "Epoch 19/20\n",
      "10/10 [==============================] - 0s 45ms/step - loss: 1.0466 - accuracy: 0.9293 - val_loss: 2.0813 - val_accuracy: 0.7733\n",
      "Epoch 20/20\n",
      "10/10 [==============================] - 0s 44ms/step - loss: 1.1682 - accuracy: 0.9125 - val_loss: 2.7467 - val_accuracy: 0.7733\n"
     ]
    }
   ],
   "source": [
    "ftl = model_output(fthe,fthe1)"
   ]
  },
  {
   "cell_type": "code",
   "execution_count": null,
   "metadata": {
    "colab": {
     "base_uri": "https://localhost:8080/"
    },
    "id": "HjxwTjx9ckgZ",
    "outputId": "25942c6b-f31b-4045-ba71-07018a0c540d"
   },
   "outputs": [
    {
     "name": "stdout",
     "output_type": "stream",
     "text": [
      "Epoch 1/20\n",
      "9/9 [==============================] - 2s 195ms/step - loss: 1.5171 - accuracy: 0.8826 - val_loss: 0.9915 - val_accuracy: 0.9091\n",
      "Epoch 2/20\n",
      "9/9 [==============================] - 0s 41ms/step - loss: 1.3110 - accuracy: 0.8977 - val_loss: 0.7742 - val_accuracy: 0.9394\n",
      "Epoch 3/20\n",
      "9/9 [==============================] - 0s 44ms/step - loss: 1.2836 - accuracy: 0.9167 - val_loss: 0.7691 - val_accuracy: 0.9394\n",
      "Epoch 4/20\n",
      "9/9 [==============================] - 0s 44ms/step - loss: 1.2819 - accuracy: 0.9167 - val_loss: 0.9770 - val_accuracy: 0.9242\n",
      "Epoch 5/20\n",
      "9/9 [==============================] - 0s 43ms/step - loss: 1.2806 - accuracy: 0.9167 - val_loss: 0.7524 - val_accuracy: 0.9242\n",
      "Epoch 6/20\n",
      "9/9 [==============================] - 0s 42ms/step - loss: 1.2801 - accuracy: 0.9167 - val_loss: 0.7524 - val_accuracy: 0.9242\n",
      "Epoch 7/20\n",
      "9/9 [==============================] - 0s 42ms/step - loss: 1.2801 - accuracy: 0.9167 - val_loss: 0.7524 - val_accuracy: 0.9242\n",
      "Epoch 8/20\n",
      "9/9 [==============================] - 0s 42ms/step - loss: 1.2801 - accuracy: 0.9167 - val_loss: 0.7524 - val_accuracy: 0.9242\n",
      "Epoch 9/20\n",
      "9/9 [==============================] - 0s 42ms/step - loss: 1.2801 - accuracy: 0.9167 - val_loss: 0.7524 - val_accuracy: 0.9242\n",
      "Epoch 10/20\n",
      "9/9 [==============================] - 0s 44ms/step - loss: 1.2801 - accuracy: 0.9167 - val_loss: 0.7524 - val_accuracy: 0.9242\n",
      "Epoch 11/20\n",
      "9/9 [==============================] - 0s 42ms/step - loss: 1.2801 - accuracy: 0.9167 - val_loss: 0.7524 - val_accuracy: 0.9242\n",
      "Epoch 12/20\n",
      "9/9 [==============================] - 0s 44ms/step - loss: 1.2801 - accuracy: 0.9167 - val_loss: 0.7524 - val_accuracy: 0.9242\n",
      "Epoch 13/20\n",
      "9/9 [==============================] - 0s 42ms/step - loss: 1.2801 - accuracy: 0.9167 - val_loss: 0.7524 - val_accuracy: 0.9242\n",
      "Epoch 14/20\n",
      "9/9 [==============================] - 0s 44ms/step - loss: 1.2801 - accuracy: 0.9167 - val_loss: 0.7524 - val_accuracy: 0.9242\n",
      "Epoch 15/20\n",
      "9/9 [==============================] - 0s 42ms/step - loss: 1.2801 - accuracy: 0.9167 - val_loss: 0.7524 - val_accuracy: 0.9242\n",
      "Epoch 16/20\n",
      "9/9 [==============================] - 0s 43ms/step - loss: 1.2801 - accuracy: 0.9167 - val_loss: 0.7524 - val_accuracy: 0.9242\n",
      "Epoch 17/20\n",
      "9/9 [==============================] - 0s 44ms/step - loss: 1.2801 - accuracy: 0.9167 - val_loss: 0.7524 - val_accuracy: 0.9242\n",
      "Epoch 18/20\n",
      "9/9 [==============================] - 0s 43ms/step - loss: 1.2801 - accuracy: 0.9167 - val_loss: 0.7524 - val_accuracy: 0.9242\n",
      "Epoch 19/20\n",
      "9/9 [==============================] - 0s 43ms/step - loss: 1.2801 - accuracy: 0.9167 - val_loss: 0.7524 - val_accuracy: 0.9242\n",
      "Epoch 20/20\n",
      "9/9 [==============================] - 0s 44ms/step - loss: 1.2801 - accuracy: 0.9167 - val_loss: 0.7524 - val_accuracy: 0.9242\n"
     ]
    }
   ],
   "source": [
    "stl = model_output(sthe,sthe1)"
   ]
  },
  {
   "cell_type": "code",
   "execution_count": null,
   "metadata": {
    "colab": {
     "base_uri": "https://localhost:8080/"
    },
    "id": "z1If1x_fcmTL",
    "outputId": "63ed164e-51b0-4340-f213-2fa10514fc28"
   },
   "outputs": [
    {
     "name": "stdout",
     "output_type": "stream",
     "text": [
      "Epoch 1/20\n",
      "10/10 [==============================] - 2s 194ms/step - loss: 2.2600 - accuracy: 0.8038 - val_loss: 2.1301 - val_accuracy: 0.7625\n",
      "Epoch 2/20\n",
      "10/10 [==============================] - 0s 46ms/step - loss: 1.8771 - accuracy: 0.8070 - val_loss: 2.2722 - val_accuracy: 0.8000\n",
      "Epoch 3/20\n",
      "10/10 [==============================] - 0s 45ms/step - loss: 1.6750 - accuracy: 0.8639 - val_loss: 2.2743 - val_accuracy: 0.8000\n",
      "Epoch 4/20\n",
      "10/10 [==============================] - 0s 47ms/step - loss: 1.5830 - accuracy: 0.8861 - val_loss: 2.2436 - val_accuracy: 0.8000\n",
      "Epoch 5/20\n",
      "10/10 [==============================] - 0s 43ms/step - loss: 1.5745 - accuracy: 0.8987 - val_loss: 2.3005 - val_accuracy: 0.7750\n",
      "Epoch 6/20\n",
      "10/10 [==============================] - 0s 48ms/step - loss: 1.5666 - accuracy: 0.8956 - val_loss: 1.9491 - val_accuracy: 0.7750\n",
      "Epoch 7/20\n",
      "10/10 [==============================] - 0s 44ms/step - loss: 1.5688 - accuracy: 0.8924 - val_loss: 2.2949 - val_accuracy: 0.7375\n",
      "Epoch 8/20\n",
      "10/10 [==============================] - 0s 45ms/step - loss: 1.5660 - accuracy: 0.8956 - val_loss: 2.6501 - val_accuracy: 0.7500\n",
      "Epoch 9/20\n",
      "10/10 [==============================] - 0s 44ms/step - loss: 1.5700 - accuracy: 0.8956 - val_loss: 2.6521 - val_accuracy: 0.7625\n",
      "Epoch 10/20\n",
      "10/10 [==============================] - 0s 45ms/step - loss: 1.4946 - accuracy: 0.8924 - val_loss: 3.5658 - val_accuracy: 0.7125\n",
      "Epoch 11/20\n",
      "10/10 [==============================] - 0s 44ms/step - loss: 1.5272 - accuracy: 0.8956 - val_loss: 3.0457 - val_accuracy: 0.7625\n",
      "Epoch 12/20\n",
      "10/10 [==============================] - 0s 45ms/step - loss: 1.4663 - accuracy: 0.9019 - val_loss: 3.1965 - val_accuracy: 0.7500\n",
      "Epoch 13/20\n",
      "10/10 [==============================] - 0s 45ms/step - loss: 1.3951 - accuracy: 0.8956 - val_loss: 2.7244 - val_accuracy: 0.7000\n",
      "Epoch 14/20\n",
      "10/10 [==============================] - 0s 45ms/step - loss: 1.3222 - accuracy: 0.9114 - val_loss: 2.5764 - val_accuracy: 0.7625\n",
      "Epoch 15/20\n",
      "10/10 [==============================] - 0s 45ms/step - loss: 1.3201 - accuracy: 0.9146 - val_loss: 2.4192 - val_accuracy: 0.7125\n",
      "Epoch 16/20\n",
      "10/10 [==============================] - 0s 45ms/step - loss: 1.4193 - accuracy: 0.9051 - val_loss: 3.1515 - val_accuracy: 0.6750\n",
      "Epoch 17/20\n",
      "10/10 [==============================] - 0s 43ms/step - loss: 1.3839 - accuracy: 0.8987 - val_loss: 2.6967 - val_accuracy: 0.7500\n",
      "Epoch 18/20\n",
      "10/10 [==============================] - 0s 44ms/step - loss: 1.3658 - accuracy: 0.9114 - val_loss: 3.5422 - val_accuracy: 0.7375\n",
      "Epoch 19/20\n",
      "10/10 [==============================] - 0s 43ms/step - loss: 1.3232 - accuracy: 0.9114 - val_loss: 2.3307 - val_accuracy: 0.7500\n",
      "Epoch 20/20\n",
      "10/10 [==============================] - 0s 46ms/step - loss: 1.2753 - accuracy: 0.9177 - val_loss: 2.5720 - val_accuracy: 0.7250\n"
     ]
    }
   ],
   "source": [
    "ftm = model_output(ftim,ftim1)"
   ]
  },
  {
   "cell_type": "code",
   "execution_count": null,
   "metadata": {
    "colab": {
     "base_uri": "https://localhost:8080/"
    },
    "id": "9Kd4t1dgcsn_",
    "outputId": "17bef4fb-e532-4553-e67f-6d7b0893bce2"
   },
   "outputs": [
    {
     "name": "stdout",
     "output_type": "stream",
     "text": [
      "Epoch 1/20\n",
      "10/10 [==============================] - 2s 185ms/step - loss: 1.6981 - accuracy: 0.8116 - val_loss: 1.4158 - val_accuracy: 0.8378\n",
      "Epoch 2/20\n",
      "10/10 [==============================] - 0s 44ms/step - loss: 1.2675 - accuracy: 0.8733 - val_loss: 0.7804 - val_accuracy: 0.8919\n",
      "Epoch 3/20\n",
      "10/10 [==============================] - 0s 45ms/step - loss: 1.2019 - accuracy: 0.9110 - val_loss: 0.9589 - val_accuracy: 0.8919\n",
      "Epoch 4/20\n",
      "10/10 [==============================] - 0s 44ms/step - loss: 1.1387 - accuracy: 0.9144 - val_loss: 0.9322 - val_accuracy: 0.9054\n",
      "Epoch 5/20\n",
      "10/10 [==============================] - 0s 45ms/step - loss: 1.1126 - accuracy: 0.9281 - val_loss: 0.9147 - val_accuracy: 0.9189\n",
      "Epoch 6/20\n",
      "10/10 [==============================] - 0s 45ms/step - loss: 1.1101 - accuracy: 0.9281 - val_loss: 0.7595 - val_accuracy: 0.9324\n",
      "Epoch 7/20\n",
      "10/10 [==============================] - 0s 44ms/step - loss: 1.1299 - accuracy: 0.9212 - val_loss: 0.8127 - val_accuracy: 0.8784\n",
      "Epoch 8/20\n",
      "10/10 [==============================] - 0s 43ms/step - loss: 1.1239 - accuracy: 0.9212 - val_loss: 1.1238 - val_accuracy: 0.9054\n",
      "Epoch 9/20\n",
      "10/10 [==============================] - 0s 46ms/step - loss: 1.1396 - accuracy: 0.9110 - val_loss: 1.5701 - val_accuracy: 0.8514\n",
      "Epoch 10/20\n",
      "10/10 [==============================] - 0s 42ms/step - loss: 1.0111 - accuracy: 0.9281 - val_loss: 1.3879 - val_accuracy: 0.8378\n",
      "Epoch 11/20\n",
      "10/10 [==============================] - 0s 44ms/step - loss: 0.9534 - accuracy: 0.9384 - val_loss: 1.5581 - val_accuracy: 0.8514\n",
      "Epoch 12/20\n",
      "10/10 [==============================] - 0s 43ms/step - loss: 0.9482 - accuracy: 0.9384 - val_loss: 1.3932 - val_accuracy: 0.8514\n",
      "Epoch 13/20\n",
      "10/10 [==============================] - 0s 45ms/step - loss: 0.9478 - accuracy: 0.9384 - val_loss: 1.3932 - val_accuracy: 0.8514\n",
      "Epoch 14/20\n",
      "10/10 [==============================] - 0s 43ms/step - loss: 0.9478 - accuracy: 0.9384 - val_loss: 1.3932 - val_accuracy: 0.8514\n",
      "Epoch 15/20\n",
      "10/10 [==============================] - 0s 44ms/step - loss: 0.9478 - accuracy: 0.9384 - val_loss: 1.3932 - val_accuracy: 0.8514\n",
      "Epoch 16/20\n",
      "10/10 [==============================] - 0s 44ms/step - loss: 0.9478 - accuracy: 0.9384 - val_loss: 1.3932 - val_accuracy: 0.8514\n",
      "Epoch 17/20\n",
      "10/10 [==============================] - 0s 44ms/step - loss: 0.9478 - accuracy: 0.9384 - val_loss: 1.3932 - val_accuracy: 0.8514\n",
      "Epoch 18/20\n",
      "10/10 [==============================] - 0s 42ms/step - loss: 0.9478 - accuracy: 0.9384 - val_loss: 1.3932 - val_accuracy: 0.8514\n",
      "Epoch 19/20\n",
      "10/10 [==============================] - 0s 43ms/step - loss: 0.9478 - accuracy: 0.9384 - val_loss: 1.3932 - val_accuracy: 0.8514\n",
      "Epoch 20/20\n",
      "10/10 [==============================] - 0s 43ms/step - loss: 0.9478 - accuracy: 0.9384 - val_loss: 1.3932 - val_accuracy: 0.8514\n"
     ]
    }
   ],
   "source": [
    "stm = model_output(stim,stim1)"
   ]
  },
  {
   "cell_type": "code",
   "execution_count": null,
   "metadata": {
    "colab": {
     "base_uri": "https://localhost:8080/"
    },
    "id": "lSmknLWrcupi",
    "outputId": "31b088a3-6a1c-4d02-c906-d56de44330d4"
   },
   "outputs": [
    {
     "name": "stdout",
     "output_type": "stream",
     "text": [
      "Epoch 1/20\n",
      "9/9 [==============================] - 2s 203ms/step - loss: 1.0438 - accuracy: 0.8897 - val_loss: 1.4961 - val_accuracy: 0.8636\n",
      "Epoch 2/20\n",
      "9/9 [==============================] - 0s 46ms/step - loss: 0.8493 - accuracy: 0.9316 - val_loss: 1.2649 - val_accuracy: 0.8333\n",
      "Epoch 3/20\n",
      "9/9 [==============================] - 0s 46ms/step - loss: 0.7806 - accuracy: 0.9430 - val_loss: 1.4449 - val_accuracy: 0.8788\n",
      "Epoch 4/20\n",
      "9/9 [==============================] - 0s 43ms/step - loss: 0.7654 - accuracy: 0.9468 - val_loss: 1.6512 - val_accuracy: 0.8788\n",
      "Epoch 5/20\n",
      "9/9 [==============================] - 0s 47ms/step - loss: 0.7649 - accuracy: 0.9506 - val_loss: 1.4493 - val_accuracy: 0.8485\n",
      "Epoch 6/20\n",
      "9/9 [==============================] - 0s 43ms/step - loss: 0.7613 - accuracy: 0.9506 - val_loss: 1.4334 - val_accuracy: 0.8788\n",
      "Epoch 7/20\n",
      "9/9 [==============================] - 0s 43ms/step - loss: 0.7823 - accuracy: 0.9430 - val_loss: 1.4552 - val_accuracy: 0.8788\n",
      "Epoch 8/20\n",
      "9/9 [==============================] - 0s 44ms/step - loss: 0.7147 - accuracy: 0.9506 - val_loss: 1.4577 - val_accuracy: 0.8636\n",
      "Epoch 9/20\n",
      "9/9 [==============================] - 0s 44ms/step - loss: 0.6468 - accuracy: 0.9582 - val_loss: 1.2665 - val_accuracy: 0.8636\n",
      "Epoch 10/20\n",
      "9/9 [==============================] - 0s 44ms/step - loss: 0.6443 - accuracy: 0.9582 - val_loss: 1.2590 - val_accuracy: 0.8636\n",
      "Epoch 11/20\n",
      "9/9 [==============================] - 0s 44ms/step - loss: 0.6439 - accuracy: 0.9582 - val_loss: 1.2661 - val_accuracy: 0.8788\n",
      "Epoch 12/20\n",
      "9/9 [==============================] - 0s 44ms/step - loss: 0.6438 - accuracy: 0.9582 - val_loss: 1.2661 - val_accuracy: 0.8788\n",
      "Epoch 13/20\n",
      "9/9 [==============================] - 0s 45ms/step - loss: 0.6438 - accuracy: 0.9582 - val_loss: 1.2661 - val_accuracy: 0.8788\n",
      "Epoch 14/20\n",
      "9/9 [==============================] - 0s 44ms/step - loss: 0.6438 - accuracy: 0.9582 - val_loss: 1.2661 - val_accuracy: 0.8788\n",
      "Epoch 15/20\n",
      "9/9 [==============================] - 0s 42ms/step - loss: 0.6438 - accuracy: 0.9582 - val_loss: 1.2661 - val_accuracy: 0.8788\n",
      "Epoch 16/20\n",
      "9/9 [==============================] - 0s 45ms/step - loss: 0.6438 - accuracy: 0.9582 - val_loss: 1.2661 - val_accuracy: 0.8788\n",
      "Epoch 17/20\n",
      "9/9 [==============================] - 0s 45ms/step - loss: 0.6438 - accuracy: 0.9582 - val_loss: 1.2661 - val_accuracy: 0.8788\n",
      "Epoch 18/20\n",
      "9/9 [==============================] - 0s 45ms/step - loss: 0.6438 - accuracy: 0.9582 - val_loss: 1.2661 - val_accuracy: 0.8788\n",
      "Epoch 19/20\n",
      "9/9 [==============================] - 0s 46ms/step - loss: 0.6438 - accuracy: 0.9582 - val_loss: 1.2661 - val_accuracy: 0.8788\n",
      "Epoch 20/20\n",
      "9/9 [==============================] - 0s 45ms/step - loss: 0.6438 - accuracy: 0.9582 - val_loss: 1.2661 - val_accuracy: 0.8788\n"
     ]
    }
   ],
   "source": [
    "tus = model_output(titus,titus1)"
   ]
  },
  {
   "cell_type": "code",
   "execution_count": null,
   "metadata": {
    "colab": {
     "base_uri": "https://localhost:8080/"
    },
    "id": "gyvEGjUAcw7b",
    "outputId": "0646a8cb-97f5-4b57-9aed-eebdbf69e787"
   },
   "outputs": [
    {
     "name": "stdout",
     "output_type": "stream",
     "text": [
      "Epoch 1/20\n",
      "8/8 [==============================] - 2s 228ms/step - loss: 0.8174 - accuracy: 0.9472 - val_loss: 0.8027 - val_accuracy: 0.9194\n",
      "Epoch 2/20\n",
      "8/8 [==============================] - 0s 45ms/step - loss: 0.7808 - accuracy: 0.9431 - val_loss: 0.8341 - val_accuracy: 0.9194\n",
      "Epoch 3/20\n",
      "8/8 [==============================] - 0s 46ms/step - loss: 0.7518 - accuracy: 0.9512 - val_loss: 0.8307 - val_accuracy: 0.9194\n",
      "Epoch 4/20\n",
      "8/8 [==============================] - 0s 43ms/step - loss: 0.7510 - accuracy: 0.9512 - val_loss: 0.8307 - val_accuracy: 0.9194\n",
      "Epoch 5/20\n",
      "8/8 [==============================] - 0s 44ms/step - loss: 0.7510 - accuracy: 0.9512 - val_loss: 0.8307 - val_accuracy: 0.9194\n",
      "Epoch 6/20\n",
      "8/8 [==============================] - 0s 44ms/step - loss: 0.7510 - accuracy: 0.9512 - val_loss: 0.8307 - val_accuracy: 0.9194\n",
      "Epoch 7/20\n",
      "8/8 [==============================] - 0s 44ms/step - loss: 0.7510 - accuracy: 0.9512 - val_loss: 0.8307 - val_accuracy: 0.9194\n",
      "Epoch 8/20\n",
      "8/8 [==============================] - 0s 45ms/step - loss: 0.7510 - accuracy: 0.9512 - val_loss: 0.8307 - val_accuracy: 0.9194\n",
      "Epoch 9/20\n",
      "8/8 [==============================] - 0s 44ms/step - loss: 0.7510 - accuracy: 0.9512 - val_loss: 0.8307 - val_accuracy: 0.9194\n",
      "Epoch 10/20\n",
      "8/8 [==============================] - 0s 45ms/step - loss: 0.7510 - accuracy: 0.9512 - val_loss: 0.8307 - val_accuracy: 0.9194\n",
      "Epoch 11/20\n",
      "8/8 [==============================] - 0s 45ms/step - loss: 0.7510 - accuracy: 0.9512 - val_loss: 0.8307 - val_accuracy: 0.9194\n",
      "Epoch 12/20\n",
      "8/8 [==============================] - 0s 42ms/step - loss: 0.7510 - accuracy: 0.9512 - val_loss: 0.8307 - val_accuracy: 0.9194\n",
      "Epoch 13/20\n",
      "8/8 [==============================] - 0s 48ms/step - loss: 0.7510 - accuracy: 0.9512 - val_loss: 0.8307 - val_accuracy: 0.9194\n",
      "Epoch 14/20\n",
      "8/8 [==============================] - 0s 43ms/step - loss: 0.7510 - accuracy: 0.9512 - val_loss: 0.8307 - val_accuracy: 0.9194\n",
      "Epoch 15/20\n",
      "8/8 [==============================] - 0s 44ms/step - loss: 0.7510 - accuracy: 0.9512 - val_loss: 0.8307 - val_accuracy: 0.9194\n",
      "Epoch 16/20\n",
      "8/8 [==============================] - 0s 45ms/step - loss: 0.7510 - accuracy: 0.9512 - val_loss: 0.8307 - val_accuracy: 0.9194\n",
      "Epoch 17/20\n",
      "8/8 [==============================] - 0s 43ms/step - loss: 0.7510 - accuracy: 0.9512 - val_loss: 0.8307 - val_accuracy: 0.9194\n",
      "Epoch 18/20\n",
      "8/8 [==============================] - 0s 46ms/step - loss: 0.7510 - accuracy: 0.9512 - val_loss: 0.8307 - val_accuracy: 0.9194\n",
      "Epoch 19/20\n",
      "8/8 [==============================] - 0s 44ms/step - loss: 0.7510 - accuracy: 0.9512 - val_loss: 0.8307 - val_accuracy: 0.9194\n",
      "Epoch 20/20\n",
      "8/8 [==============================] - 0s 46ms/step - loss: 0.7510 - accuracy: 0.9512 - val_loss: 0.8307 - val_accuracy: 0.9194\n"
     ]
    }
   ],
   "source": [
    "plm = model_output(philemon,philemon1)"
   ]
  },
  {
   "cell_type": "code",
   "execution_count": null,
   "metadata": {
    "colab": {
     "base_uri": "https://localhost:8080/"
    },
    "id": "dVhDUtEtcyys",
    "outputId": "614caaaf-5942-44ec-8e75-907243ec2888"
   },
   "outputs": [
    {
     "name": "stdout",
     "output_type": "stream",
     "text": [
      "Epoch 1/20\n",
      "10/10 [==============================] - 2s 185ms/step - loss: 1.8890 - accuracy: 0.8269 - val_loss: 0.8374 - val_accuracy: 0.9241\n",
      "Epoch 2/20\n",
      "10/10 [==============================] - 0s 45ms/step - loss: 1.2964 - accuracy: 0.8686 - val_loss: 1.0407 - val_accuracy: 0.9114\n",
      "Epoch 3/20\n",
      "10/10 [==============================] - 0s 45ms/step - loss: 1.2284 - accuracy: 0.8942 - val_loss: 0.8412 - val_accuracy: 0.9114\n",
      "Epoch 4/20\n",
      "10/10 [==============================] - 0s 45ms/step - loss: 1.1753 - accuracy: 0.9135 - val_loss: 1.0123 - val_accuracy: 0.9114\n",
      "Epoch 5/20\n",
      "10/10 [==============================] - 0s 45ms/step - loss: 1.0817 - accuracy: 0.9199 - val_loss: 0.7398 - val_accuracy: 0.8861\n",
      "Epoch 6/20\n",
      "10/10 [==============================] - 0s 45ms/step - loss: 1.0248 - accuracy: 0.9231 - val_loss: 0.7343 - val_accuracy: 0.9114\n",
      "Epoch 7/20\n",
      "10/10 [==============================] - 0s 44ms/step - loss: 1.0006 - accuracy: 0.9295 - val_loss: 0.8803 - val_accuracy: 0.9114\n",
      "Epoch 8/20\n",
      "10/10 [==============================] - 0s 45ms/step - loss: 0.9182 - accuracy: 0.9295 - val_loss: 1.0798 - val_accuracy: 0.9114\n",
      "Epoch 9/20\n",
      "10/10 [==============================] - 0s 46ms/step - loss: 0.8935 - accuracy: 0.9423 - val_loss: 0.8816 - val_accuracy: 0.9114\n",
      "Epoch 10/20\n",
      "10/10 [==============================] - 0s 44ms/step - loss: 0.8893 - accuracy: 0.9423 - val_loss: 0.8882 - val_accuracy: 0.9114\n",
      "Epoch 11/20\n",
      "10/10 [==============================] - 0s 47ms/step - loss: 0.8396 - accuracy: 0.9327 - val_loss: 0.7395 - val_accuracy: 0.8987\n",
      "Epoch 12/20\n",
      "10/10 [==============================] - 0s 43ms/step - loss: 0.7518 - accuracy: 0.9455 - val_loss: 0.7547 - val_accuracy: 0.8987\n",
      "Epoch 13/20\n",
      "10/10 [==============================] - 0s 48ms/step - loss: 0.7419 - accuracy: 0.9519 - val_loss: 0.8942 - val_accuracy: 0.8987\n",
      "Epoch 14/20\n",
      "10/10 [==============================] - 0s 45ms/step - loss: 0.7409 - accuracy: 0.9519 - val_loss: 0.8797 - val_accuracy: 0.8987\n",
      "Epoch 15/20\n",
      "10/10 [==============================] - 0s 45ms/step - loss: 0.7394 - accuracy: 0.9519 - val_loss: 1.0525 - val_accuracy: 0.8987\n",
      "Epoch 16/20\n",
      "10/10 [==============================] - 0s 45ms/step - loss: 0.7397 - accuracy: 0.9519 - val_loss: 1.2180 - val_accuracy: 0.8987\n",
      "Epoch 17/20\n",
      "10/10 [==============================] - 0s 48ms/step - loss: 0.7354 - accuracy: 0.9359 - val_loss: 1.0346 - val_accuracy: 0.8987\n",
      "Epoch 18/20\n",
      "10/10 [==============================] - 0s 43ms/step - loss: 0.7562 - accuracy: 0.9487 - val_loss: 1.0595 - val_accuracy: 0.8987\n",
      "Epoch 19/20\n",
      "10/10 [==============================] - 0s 45ms/step - loss: 0.6120 - accuracy: 0.9551 - val_loss: 0.8834 - val_accuracy: 0.8987\n",
      "Epoch 20/20\n",
      "10/10 [==============================] - 0s 46ms/step - loss: 0.5953 - accuracy: 0.9615 - val_loss: 0.6880 - val_accuracy: 0.9114\n"
     ]
    }
   ],
   "source": [
    "jam = model_output(jams,jams1)"
   ]
  },
  {
   "cell_type": "code",
   "execution_count": null,
   "metadata": {
    "colab": {
     "base_uri": "https://localhost:8080/"
    },
    "id": "4V4kxfT3c0uu",
    "outputId": "4f682918-fa05-46b7-92e3-d05c7c10e4e3"
   },
   "outputs": [
    {
     "name": "stdout",
     "output_type": "stream",
     "text": [
      "Epoch 1/20\n",
      "10/10 [==============================] - 2s 185ms/step - loss: 1.7003 - accuracy: 0.8562 - val_loss: 1.2361 - val_accuracy: 0.9091\n",
      "Epoch 2/20\n",
      "10/10 [==============================] - 0s 44ms/step - loss: 1.6346 - accuracy: 0.8791 - val_loss: 1.2469 - val_accuracy: 0.8961\n",
      "Epoch 3/20\n",
      "10/10 [==============================] - 0s 44ms/step - loss: 1.4031 - accuracy: 0.9020 - val_loss: 1.4339 - val_accuracy: 0.8831\n",
      "Epoch 4/20\n",
      "10/10 [==============================] - 0s 46ms/step - loss: 1.3312 - accuracy: 0.9150 - val_loss: 1.2722 - val_accuracy: 0.8701\n",
      "Epoch 5/20\n",
      "10/10 [==============================] - 0s 45ms/step - loss: 1.2340 - accuracy: 0.9150 - val_loss: 0.7402 - val_accuracy: 0.8701\n",
      "Epoch 6/20\n",
      "10/10 [==============================] - 0s 45ms/step - loss: 1.0657 - accuracy: 0.9085 - val_loss: 1.0942 - val_accuracy: 0.8961\n",
      "Epoch 7/20\n",
      "10/10 [==============================] - 0s 45ms/step - loss: 1.0152 - accuracy: 0.9346 - val_loss: 1.0759 - val_accuracy: 0.8831\n",
      "Epoch 8/20\n",
      "10/10 [==============================] - 0s 44ms/step - loss: 1.0084 - accuracy: 0.9346 - val_loss: 1.0796 - val_accuracy: 0.8831\n",
      "Epoch 9/20\n",
      "10/10 [==============================] - 0s 46ms/step - loss: 1.0062 - accuracy: 0.9346 - val_loss: 1.0754 - val_accuracy: 0.8831\n",
      "Epoch 10/20\n",
      "10/10 [==============================] - 0s 44ms/step - loss: 1.0060 - accuracy: 0.9346 - val_loss: 1.0802 - val_accuracy: 0.8961\n",
      "Epoch 11/20\n",
      "10/10 [==============================] - 0s 45ms/step - loss: 1.0059 - accuracy: 0.9346 - val_loss: 1.0802 - val_accuracy: 0.8961\n",
      "Epoch 12/20\n",
      "10/10 [==============================] - 0s 44ms/step - loss: 1.0059 - accuracy: 0.9346 - val_loss: 1.0802 - val_accuracy: 0.8961\n",
      "Epoch 13/20\n",
      "10/10 [==============================] - 0s 45ms/step - loss: 1.0059 - accuracy: 0.9346 - val_loss: 1.0802 - val_accuracy: 0.8961\n",
      "Epoch 14/20\n",
      "10/10 [==============================] - 0s 43ms/step - loss: 1.0059 - accuracy: 0.9346 - val_loss: 1.0802 - val_accuracy: 0.8961\n",
      "Epoch 15/20\n",
      "10/10 [==============================] - 0s 44ms/step - loss: 1.0059 - accuracy: 0.9346 - val_loss: 1.0802 - val_accuracy: 0.8961\n",
      "Epoch 16/20\n",
      "10/10 [==============================] - 0s 44ms/step - loss: 1.0059 - accuracy: 0.9346 - val_loss: 1.0802 - val_accuracy: 0.8961\n",
      "Epoch 17/20\n",
      "10/10 [==============================] - 0s 49ms/step - loss: 1.0059 - accuracy: 0.9346 - val_loss: 1.0802 - val_accuracy: 0.8961\n",
      "Epoch 18/20\n",
      "10/10 [==============================] - 0s 47ms/step - loss: 1.0059 - accuracy: 0.9346 - val_loss: 1.0802 - val_accuracy: 0.8961\n",
      "Epoch 19/20\n",
      "10/10 [==============================] - 0s 46ms/step - loss: 1.0059 - accuracy: 0.9346 - val_loss: 1.0802 - val_accuracy: 0.8961\n",
      "Epoch 20/20\n",
      "10/10 [==============================] - 0s 45ms/step - loss: 1.0059 - accuracy: 0.9346 - val_loss: 1.0802 - val_accuracy: 0.8961\n"
     ]
    }
   ],
   "source": [
    "fpt = model_output(fpet,fpet1)"
   ]
  },
  {
   "cell_type": "code",
   "execution_count": null,
   "metadata": {
    "colab": {
     "base_uri": "https://localhost:8080/"
    },
    "id": "QNxXqYZTc2nD",
    "outputId": "01153381-fc5b-4d40-9d43-67986a47bf21"
   },
   "outputs": [
    {
     "name": "stdout",
     "output_type": "stream",
     "text": [
      "Epoch 1/20\n",
      "9/9 [==============================] - 2s 200ms/step - loss: 0.9092 - accuracy: 0.8905 - val_loss: 1.1921 - val_accuracy: 0.8986\n",
      "Epoch 2/20\n",
      "9/9 [==============================] - 0s 44ms/step - loss: 0.6682 - accuracy: 0.9343 - val_loss: 1.2627 - val_accuracy: 0.8551\n",
      "Epoch 3/20\n",
      "9/9 [==============================] - 0s 45ms/step - loss: 0.6264 - accuracy: 0.9599 - val_loss: 1.4495 - val_accuracy: 0.8551\n",
      "Epoch 4/20\n",
      "9/9 [==============================] - 0s 44ms/step - loss: 0.6197 - accuracy: 0.9599 - val_loss: 1.4587 - val_accuracy: 0.8551\n",
      "Epoch 5/20\n",
      "9/9 [==============================] - 0s 44ms/step - loss: 0.5763 - accuracy: 0.9562 - val_loss: 1.6469 - val_accuracy: 0.8551\n",
      "Epoch 6/20\n",
      "9/9 [==============================] - 0s 44ms/step - loss: 0.5708 - accuracy: 0.9599 - val_loss: 1.0151 - val_accuracy: 0.8696\n",
      "Epoch 7/20\n",
      "9/9 [==============================] - 0s 45ms/step - loss: 0.5671 - accuracy: 0.9599 - val_loss: 1.0285 - val_accuracy: 0.8551\n",
      "Epoch 8/20\n",
      "9/9 [==============================] - 0s 45ms/step - loss: 0.5622 - accuracy: 0.9635 - val_loss: 1.2113 - val_accuracy: 0.8551\n",
      "Epoch 9/20\n",
      "9/9 [==============================] - 0s 45ms/step - loss: 0.5611 - accuracy: 0.9635 - val_loss: 1.0450 - val_accuracy: 0.8551\n",
      "Epoch 10/20\n",
      "9/9 [==============================] - 0s 43ms/step - loss: 0.5610 - accuracy: 0.9635 - val_loss: 1.0450 - val_accuracy: 0.8551\n",
      "Epoch 11/20\n",
      "9/9 [==============================] - 0s 45ms/step - loss: 0.5610 - accuracy: 0.9635 - val_loss: 1.0450 - val_accuracy: 0.8551\n",
      "Epoch 12/20\n",
      "9/9 [==============================] - 0s 47ms/step - loss: 0.5610 - accuracy: 0.9635 - val_loss: 1.0450 - val_accuracy: 0.8551\n",
      "Epoch 13/20\n",
      "9/9 [==============================] - 0s 44ms/step - loss: 0.5610 - accuracy: 0.9635 - val_loss: 1.0450 - val_accuracy: 0.8551\n",
      "Epoch 14/20\n",
      "9/9 [==============================] - 0s 45ms/step - loss: 0.5610 - accuracy: 0.9635 - val_loss: 1.0450 - val_accuracy: 0.8551\n",
      "Epoch 15/20\n",
      "9/9 [==============================] - 0s 44ms/step - loss: 0.5610 - accuracy: 0.9635 - val_loss: 1.0450 - val_accuracy: 0.8551\n",
      "Epoch 16/20\n",
      "9/9 [==============================] - 0s 47ms/step - loss: 0.5610 - accuracy: 0.9635 - val_loss: 1.0450 - val_accuracy: 0.8551\n",
      "Epoch 17/20\n",
      "9/9 [==============================] - 0s 43ms/step - loss: 0.5610 - accuracy: 0.9635 - val_loss: 1.0450 - val_accuracy: 0.8551\n",
      "Epoch 18/20\n",
      "9/9 [==============================] - 0s 46ms/step - loss: 0.5610 - accuracy: 0.9635 - val_loss: 1.0450 - val_accuracy: 0.8551\n",
      "Epoch 19/20\n",
      "9/9 [==============================] - 0s 44ms/step - loss: 0.5610 - accuracy: 0.9635 - val_loss: 1.0450 - val_accuracy: 0.8551\n",
      "Epoch 20/20\n",
      "9/9 [==============================] - 0s 47ms/step - loss: 0.5610 - accuracy: 0.9635 - val_loss: 1.0450 - val_accuracy: 0.8551\n"
     ]
    }
   ],
   "source": [
    "spt = model_output(spet,spet1)"
   ]
  },
  {
   "cell_type": "code",
   "execution_count": null,
   "metadata": {
    "colab": {
     "base_uri": "https://localhost:8080/"
    },
    "id": "BwQFMT7Jc4vu",
    "outputId": "606441fb-3831-45af-ae68-30ec2eac225f"
   },
   "outputs": [
    {
     "name": "stdout",
     "output_type": "stream",
     "text": [
      "Epoch 1/20\n",
      "10/10 [==============================] - 2s 181ms/step - loss: 1.1484 - accuracy: 0.8613 - val_loss: 2.1428 - val_accuracy: 0.7821\n",
      "Epoch 2/20\n",
      "10/10 [==============================] - 0s 44ms/step - loss: 0.9297 - accuracy: 0.8935 - val_loss: 1.5621 - val_accuracy: 0.8205\n",
      "Epoch 3/20\n",
      "10/10 [==============================] - 0s 45ms/step - loss: 0.6708 - accuracy: 0.9452 - val_loss: 1.7284 - val_accuracy: 0.8205\n",
      "Epoch 4/20\n",
      "10/10 [==============================] - 0s 43ms/step - loss: 0.6523 - accuracy: 0.9581 - val_loss: 1.7105 - val_accuracy: 0.8462\n",
      "Epoch 5/20\n",
      "10/10 [==============================] - 0s 45ms/step - loss: 0.5746 - accuracy: 0.9581 - val_loss: 1.4252 - val_accuracy: 0.8333\n",
      "Epoch 6/20\n",
      "10/10 [==============================] - 0s 43ms/step - loss: 0.6123 - accuracy: 0.9516 - val_loss: 1.3428 - val_accuracy: 0.8462\n",
      "Epoch 7/20\n",
      "10/10 [==============================] - 0s 45ms/step - loss: 0.5564 - accuracy: 0.9581 - val_loss: 1.6591 - val_accuracy: 0.8590\n",
      "Epoch 8/20\n",
      "10/10 [==============================] - 0s 43ms/step - loss: 0.5059 - accuracy: 0.9645 - val_loss: 1.3448 - val_accuracy: 0.8718\n",
      "Epoch 9/20\n",
      "10/10 [==============================] - 0s 45ms/step - loss: 0.4962 - accuracy: 0.9677 - val_loss: 1.6467 - val_accuracy: 0.8590\n",
      "Epoch 10/20\n",
      "10/10 [==============================] - 0s 43ms/step - loss: 0.4953 - accuracy: 0.9677 - val_loss: 1.6550 - val_accuracy: 0.8462\n",
      "Epoch 11/20\n",
      "10/10 [==============================] - 0s 44ms/step - loss: 0.4946 - accuracy: 0.9677 - val_loss: 1.6429 - val_accuracy: 0.8590\n",
      "Epoch 12/20\n",
      "10/10 [==============================] - 0s 45ms/step - loss: 0.4945 - accuracy: 0.9677 - val_loss: 0.9717 - val_accuracy: 0.8718\n",
      "Epoch 13/20\n",
      "10/10 [==============================] - 0s 47ms/step - loss: 0.4594 - accuracy: 0.9645 - val_loss: 1.4698 - val_accuracy: 0.8718\n",
      "Epoch 14/20\n",
      "10/10 [==============================] - 0s 44ms/step - loss: 0.4621 - accuracy: 0.9645 - val_loss: 1.3382 - val_accuracy: 0.8590\n",
      "Epoch 15/20\n",
      "10/10 [==============================] - 0s 46ms/step - loss: 0.4077 - accuracy: 0.9710 - val_loss: 1.3477 - val_accuracy: 0.8333\n",
      "Epoch 16/20\n",
      "10/10 [==============================] - 0s 45ms/step - loss: 0.4041 - accuracy: 0.9677 - val_loss: 1.2016 - val_accuracy: 0.8333\n",
      "Epoch 17/20\n",
      "10/10 [==============================] - 0s 47ms/step - loss: 0.3981 - accuracy: 0.9742 - val_loss: 1.3322 - val_accuracy: 0.8462\n",
      "Epoch 18/20\n",
      "10/10 [==============================] - 0s 46ms/step - loss: 0.3977 - accuracy: 0.9742 - val_loss: 1.3526 - val_accuracy: 0.8462\n",
      "Epoch 19/20\n",
      "10/10 [==============================] - 0s 47ms/step - loss: 0.3954 - accuracy: 0.9742 - val_loss: 1.4841 - val_accuracy: 0.8590\n",
      "Epoch 20/20\n",
      "10/10 [==============================] - 0s 44ms/step - loss: 0.3952 - accuracy: 0.9742 - val_loss: 1.4841 - val_accuracy: 0.8590\n"
     ]
    }
   ],
   "source": [
    "fjn = model_output(fjohn,fjohn1)"
   ]
  },
  {
   "cell_type": "code",
   "execution_count": null,
   "metadata": {
    "colab": {
     "base_uri": "https://localhost:8080/"
    },
    "id": "Mnj00N-kc77u",
    "outputId": "ae5a8a67-bf7b-42b0-ff6c-9abe18e90a6f"
   },
   "outputs": [
    {
     "name": "stdout",
     "output_type": "stream",
     "text": [
      "Epoch 1/20\n",
      "8/8 [==============================] - 2s 214ms/step - loss: 0.4944 - accuracy: 0.9492 - val_loss: 0.2735 - val_accuracy: 0.9833\n",
      "Epoch 2/20\n",
      "8/8 [==============================] - 0s 42ms/step - loss: 0.4067 - accuracy: 0.9661 - val_loss: 0.5235 - val_accuracy: 0.9667\n",
      "Epoch 3/20\n",
      "8/8 [==============================] - 0s 42ms/step - loss: 0.3287 - accuracy: 0.9746 - val_loss: 0.5220 - val_accuracy: 0.9667\n",
      "Epoch 4/20\n",
      "8/8 [==============================] - 0s 43ms/step - loss: 0.2135 - accuracy: 0.9788 - val_loss: 0.5164 - val_accuracy: 0.9667\n",
      "Epoch 5/20\n",
      "8/8 [==============================] - 0s 43ms/step - loss: 0.1961 - accuracy: 0.9873 - val_loss: 0.5164 - val_accuracy: 0.9667\n",
      "Epoch 6/20\n",
      "8/8 [==============================] - 0s 42ms/step - loss: 0.1961 - accuracy: 0.9873 - val_loss: 0.5164 - val_accuracy: 0.9667\n",
      "Epoch 7/20\n",
      "8/8 [==============================] - 0s 43ms/step - loss: 0.1961 - accuracy: 0.9873 - val_loss: 0.5164 - val_accuracy: 0.9667\n",
      "Epoch 8/20\n",
      "8/8 [==============================] - 0s 42ms/step - loss: 0.1961 - accuracy: 0.9873 - val_loss: 0.5164 - val_accuracy: 0.9667\n",
      "Epoch 9/20\n",
      "8/8 [==============================] - 0s 42ms/step - loss: 0.1961 - accuracy: 0.9873 - val_loss: 0.5164 - val_accuracy: 0.9667\n",
      "Epoch 10/20\n",
      "8/8 [==============================] - 0s 43ms/step - loss: 0.1961 - accuracy: 0.9873 - val_loss: 0.5164 - val_accuracy: 0.9667\n",
      "Epoch 11/20\n",
      "8/8 [==============================] - 0s 44ms/step - loss: 0.1961 - accuracy: 0.9873 - val_loss: 0.5164 - val_accuracy: 0.9667\n",
      "Epoch 12/20\n",
      "8/8 [==============================] - 0s 42ms/step - loss: 0.1961 - accuracy: 0.9873 - val_loss: 0.5164 - val_accuracy: 0.9667\n",
      "Epoch 13/20\n",
      "8/8 [==============================] - 0s 43ms/step - loss: 0.1961 - accuracy: 0.9873 - val_loss: 0.5164 - val_accuracy: 0.9667\n",
      "Epoch 14/20\n",
      "8/8 [==============================] - 0s 43ms/step - loss: 0.1961 - accuracy: 0.9873 - val_loss: 0.5164 - val_accuracy: 0.9667\n",
      "Epoch 15/20\n",
      "8/8 [==============================] - 0s 44ms/step - loss: 0.1961 - accuracy: 0.9873 - val_loss: 0.5164 - val_accuracy: 0.9667\n",
      "Epoch 16/20\n",
      "8/8 [==============================] - 0s 42ms/step - loss: 0.1961 - accuracy: 0.9873 - val_loss: 0.5164 - val_accuracy: 0.9667\n",
      "Epoch 17/20\n",
      "8/8 [==============================] - 0s 42ms/step - loss: 0.1961 - accuracy: 0.9873 - val_loss: 0.5164 - val_accuracy: 0.9667\n",
      "Epoch 18/20\n",
      "8/8 [==============================] - 0s 44ms/step - loss: 0.1961 - accuracy: 0.9873 - val_loss: 0.5164 - val_accuracy: 0.9667\n",
      "Epoch 19/20\n",
      "8/8 [==============================] - 0s 43ms/step - loss: 0.1961 - accuracy: 0.9873 - val_loss: 0.5164 - val_accuracy: 0.9667\n",
      "Epoch 20/20\n",
      "8/8 [==============================] - 0s 48ms/step - loss: 0.1961 - accuracy: 0.9873 - val_loss: 0.5164 - val_accuracy: 0.9667\n"
     ]
    }
   ],
   "source": [
    "sjn = model_output(sjohn,sjohn1)"
   ]
  },
  {
   "cell_type": "code",
   "execution_count": null,
   "metadata": {
    "colab": {
     "base_uri": "https://localhost:8080/"
    },
    "id": "DqdVKJ0Ac_rt",
    "outputId": "72c05fb9-2d3d-4d20-abde-660ed8dd5ec5"
   },
   "outputs": [
    {
     "name": "stdout",
     "output_type": "stream",
     "text": [
      "Epoch 1/20\n",
      "8/8 [==============================] - 2s 225ms/step - loss: 0.4401 - accuracy: 0.9538 - val_loss: 1.0352 - val_accuracy: 0.9333\n",
      "Epoch 2/20\n",
      "8/8 [==============================] - 0s 42ms/step - loss: 0.3936 - accuracy: 0.9706 - val_loss: 1.0337 - val_accuracy: 0.9333\n",
      "Epoch 3/20\n",
      "8/8 [==============================] - 0s 43ms/step - loss: 0.3889 - accuracy: 0.9748 - val_loss: 1.0337 - val_accuracy: 0.9333\n",
      "Epoch 4/20\n",
      "8/8 [==============================] - 0s 42ms/step - loss: 0.3889 - accuracy: 0.9748 - val_loss: 1.0337 - val_accuracy: 0.9333\n",
      "Epoch 5/20\n",
      "8/8 [==============================] - 0s 41ms/step - loss: 0.3889 - accuracy: 0.9748 - val_loss: 1.0337 - val_accuracy: 0.9333\n",
      "Epoch 6/20\n",
      "8/8 [==============================] - 0s 44ms/step - loss: 0.3889 - accuracy: 0.9748 - val_loss: 1.0337 - val_accuracy: 0.9333\n",
      "Epoch 7/20\n",
      "8/8 [==============================] - 0s 41ms/step - loss: 0.3889 - accuracy: 0.9748 - val_loss: 1.0337 - val_accuracy: 0.9333\n",
      "Epoch 8/20\n",
      "8/8 [==============================] - 0s 43ms/step - loss: 0.3889 - accuracy: 0.9748 - val_loss: 1.0337 - val_accuracy: 0.9333\n",
      "Epoch 9/20\n",
      "8/8 [==============================] - 0s 43ms/step - loss: 0.3889 - accuracy: 0.9748 - val_loss: 1.0337 - val_accuracy: 0.9333\n",
      "Epoch 10/20\n",
      "8/8 [==============================] - 0s 42ms/step - loss: 0.3889 - accuracy: 0.9748 - val_loss: 1.0337 - val_accuracy: 0.9333\n",
      "Epoch 11/20\n",
      "8/8 [==============================] - 0s 43ms/step - loss: 0.3889 - accuracy: 0.9748 - val_loss: 1.0337 - val_accuracy: 0.9333\n",
      "Epoch 12/20\n",
      "8/8 [==============================] - 0s 44ms/step - loss: 0.3889 - accuracy: 0.9748 - val_loss: 1.0337 - val_accuracy: 0.9333\n",
      "Epoch 13/20\n",
      "8/8 [==============================] - 0s 41ms/step - loss: 0.3889 - accuracy: 0.9748 - val_loss: 1.0337 - val_accuracy: 0.9333\n",
      "Epoch 14/20\n",
      "8/8 [==============================] - 0s 43ms/step - loss: 0.3889 - accuracy: 0.9748 - val_loss: 1.0337 - val_accuracy: 0.9333\n",
      "Epoch 15/20\n",
      "8/8 [==============================] - 0s 43ms/step - loss: 0.3889 - accuracy: 0.9748 - val_loss: 1.0337 - val_accuracy: 0.9333\n",
      "Epoch 16/20\n",
      "8/8 [==============================] - 0s 43ms/step - loss: 0.3889 - accuracy: 0.9748 - val_loss: 1.0337 - val_accuracy: 0.9333\n",
      "Epoch 17/20\n",
      "8/8 [==============================] - 0s 43ms/step - loss: 0.3889 - accuracy: 0.9748 - val_loss: 1.0337 - val_accuracy: 0.9333\n",
      "Epoch 18/20\n",
      "8/8 [==============================] - 0s 41ms/step - loss: 0.3889 - accuracy: 0.9748 - val_loss: 1.0337 - val_accuracy: 0.9333\n",
      "Epoch 19/20\n",
      "8/8 [==============================] - 0s 44ms/step - loss: 0.3889 - accuracy: 0.9748 - val_loss: 1.0337 - val_accuracy: 0.9333\n",
      "Epoch 20/20\n",
      "8/8 [==============================] - 0s 43ms/step - loss: 0.3889 - accuracy: 0.9748 - val_loss: 1.0337 - val_accuracy: 0.9333\n"
     ]
    }
   ],
   "source": [
    "tjn = model_output(tjohn,tjohn1)"
   ]
  },
  {
   "cell_type": "code",
   "execution_count": null,
   "metadata": {
    "colab": {
     "base_uri": "https://localhost:8080/"
    },
    "id": "004frkujdDdR",
    "outputId": "61499c60-bb9e-43d3-a716-880c5aba525c"
   },
   "outputs": [
    {
     "name": "stdout",
     "output_type": "stream",
     "text": [
      "Epoch 1/20\n",
      "8/8 [==============================] - 2s 221ms/step - loss: 0.6288 - accuracy: 0.9268 - val_loss: 0.2854 - val_accuracy: 0.9516\n",
      "Epoch 2/20\n",
      "8/8 [==============================] - 0s 44ms/step - loss: 0.4068 - accuracy: 0.9553 - val_loss: 0.3226 - val_accuracy: 0.9677\n",
      "Epoch 3/20\n",
      "8/8 [==============================] - 0s 43ms/step - loss: 0.3324 - accuracy: 0.9675 - val_loss: 0.5305 - val_accuracy: 0.9516\n",
      "Epoch 4/20\n",
      "8/8 [==============================] - 0s 44ms/step - loss: 0.3135 - accuracy: 0.9797 - val_loss: 0.5353 - val_accuracy: 0.9516\n",
      "Epoch 5/20\n",
      "8/8 [==============================] - 0s 43ms/step - loss: 0.3135 - accuracy: 0.9797 - val_loss: 0.5353 - val_accuracy: 0.9516\n",
      "Epoch 6/20\n",
      "8/8 [==============================] - 0s 44ms/step - loss: 0.3135 - accuracy: 0.9797 - val_loss: 0.5353 - val_accuracy: 0.9516\n",
      "Epoch 7/20\n",
      "8/8 [==============================] - 0s 44ms/step - loss: 0.3135 - accuracy: 0.9797 - val_loss: 0.5353 - val_accuracy: 0.9516\n",
      "Epoch 8/20\n",
      "8/8 [==============================] - 0s 42ms/step - loss: 0.3135 - accuracy: 0.9797 - val_loss: 0.5353 - val_accuracy: 0.9516\n",
      "Epoch 9/20\n",
      "8/8 [==============================] - 0s 44ms/step - loss: 0.3135 - accuracy: 0.9797 - val_loss: 0.5353 - val_accuracy: 0.9516\n",
      "Epoch 10/20\n",
      "8/8 [==============================] - 0s 43ms/step - loss: 0.3135 - accuracy: 0.9797 - val_loss: 0.5353 - val_accuracy: 0.9516\n",
      "Epoch 11/20\n",
      "8/8 [==============================] - 0s 44ms/step - loss: 0.3135 - accuracy: 0.9797 - val_loss: 0.5353 - val_accuracy: 0.9516\n",
      "Epoch 12/20\n",
      "8/8 [==============================] - 0s 44ms/step - loss: 0.3135 - accuracy: 0.9797 - val_loss: 0.5353 - val_accuracy: 0.9516\n",
      "Epoch 13/20\n",
      "8/8 [==============================] - 0s 44ms/step - loss: 0.3135 - accuracy: 0.9797 - val_loss: 0.5353 - val_accuracy: 0.9516\n",
      "Epoch 14/20\n",
      "8/8 [==============================] - 0s 45ms/step - loss: 0.3135 - accuracy: 0.9797 - val_loss: 0.5353 - val_accuracy: 0.9516\n",
      "Epoch 15/20\n",
      "8/8 [==============================] - 0s 47ms/step - loss: 0.3135 - accuracy: 0.9797 - val_loss: 0.5353 - val_accuracy: 0.9516\n",
      "Epoch 16/20\n",
      "8/8 [==============================] - 0s 47ms/step - loss: 0.3135 - accuracy: 0.9797 - val_loss: 0.5353 - val_accuracy: 0.9516\n",
      "Epoch 17/20\n",
      "8/8 [==============================] - 0s 45ms/step - loss: 0.3135 - accuracy: 0.9797 - val_loss: 0.5353 - val_accuracy: 0.9516\n",
      "Epoch 18/20\n",
      "8/8 [==============================] - 0s 44ms/step - loss: 0.3135 - accuracy: 0.9797 - val_loss: 0.5353 - val_accuracy: 0.9516\n",
      "Epoch 19/20\n",
      "8/8 [==============================] - 0s 46ms/step - loss: 0.3135 - accuracy: 0.9797 - val_loss: 0.5353 - val_accuracy: 0.9516\n",
      "Epoch 20/20\n",
      "8/8 [==============================] - 0s 45ms/step - loss: 0.3135 - accuracy: 0.9797 - val_loss: 0.5353 - val_accuracy: 0.9516\n"
     ]
    }
   ],
   "source": [
    "jde = model_output(jud,jud1)"
   ]
  },
  {
   "cell_type": "code",
   "execution_count": null,
   "metadata": {
    "colab": {
     "base_uri": "https://localhost:8080/"
    },
    "id": "sFqSMRh4dGSM",
    "outputId": "5a5b3373-5843-4313-9521-838cc4a71dea"
   },
   "outputs": [
    {
     "name": "stdout",
     "output_type": "stream",
     "text": [
      "Epoch 1/20\n",
      "18/18 [==============================] - 2s 125ms/step - loss: 3.9126 - accuracy: 0.6300 - val_loss: 2.5196 - val_accuracy: 0.7372\n",
      "Epoch 2/20\n",
      "18/18 [==============================] - 1s 46ms/step - loss: 3.0576 - accuracy: 0.7436 - val_loss: 3.0049 - val_accuracy: 0.7080\n",
      "Epoch 3/20\n",
      "18/18 [==============================] - 1s 46ms/step - loss: 2.7978 - accuracy: 0.7546 - val_loss: 2.9536 - val_accuracy: 0.6934\n",
      "Epoch 4/20\n",
      "18/18 [==============================] - 1s 44ms/step - loss: 2.4373 - accuracy: 0.8004 - val_loss: 2.5538 - val_accuracy: 0.6934\n",
      "Epoch 5/20\n",
      "18/18 [==============================] - 1s 44ms/step - loss: 2.2234 - accuracy: 0.8022 - val_loss: 2.5833 - val_accuracy: 0.7007\n",
      "Epoch 6/20\n",
      "18/18 [==============================] - 1s 46ms/step - loss: 2.2305 - accuracy: 0.8242 - val_loss: 2.4598 - val_accuracy: 0.7518\n",
      "Epoch 7/20\n",
      "18/18 [==============================] - 1s 45ms/step - loss: 1.9417 - accuracy: 0.8297 - val_loss: 2.5790 - val_accuracy: 0.7445\n",
      "Epoch 8/20\n",
      "18/18 [==============================] - 1s 45ms/step - loss: 1.8464 - accuracy: 0.8645 - val_loss: 2.5652 - val_accuracy: 0.7299\n",
      "Epoch 9/20\n",
      "18/18 [==============================] - 1s 45ms/step - loss: 1.8259 - accuracy: 0.8773 - val_loss: 2.5831 - val_accuracy: 0.7153\n",
      "Epoch 10/20\n",
      "18/18 [==============================] - 1s 46ms/step - loss: 1.7973 - accuracy: 0.8773 - val_loss: 2.4785 - val_accuracy: 0.7372\n",
      "Epoch 11/20\n",
      "18/18 [==============================] - 1s 47ms/step - loss: 1.8306 - accuracy: 0.8278 - val_loss: 2.3542 - val_accuracy: 0.7445\n",
      "Epoch 12/20\n",
      "18/18 [==============================] - 1s 46ms/step - loss: 1.8109 - accuracy: 0.8443 - val_loss: 2.3055 - val_accuracy: 0.7372\n",
      "Epoch 13/20\n",
      "18/18 [==============================] - 1s 45ms/step - loss: 1.5665 - accuracy: 0.8663 - val_loss: 2.5190 - val_accuracy: 0.7591\n",
      "Epoch 14/20\n",
      "18/18 [==============================] - 1s 45ms/step - loss: 1.4308 - accuracy: 0.8736 - val_loss: 2.6363 - val_accuracy: 0.7445\n",
      "Epoch 15/20\n",
      "18/18 [==============================] - 1s 45ms/step - loss: 1.2971 - accuracy: 0.9029 - val_loss: 2.8222 - val_accuracy: 0.7080\n",
      "Epoch 16/20\n",
      "18/18 [==============================] - 1s 46ms/step - loss: 1.2756 - accuracy: 0.9176 - val_loss: 2.7670 - val_accuracy: 0.7299\n",
      "Epoch 17/20\n",
      "18/18 [==============================] - 1s 44ms/step - loss: 1.2487 - accuracy: 0.9176 - val_loss: 2.5116 - val_accuracy: 0.7299\n",
      "Epoch 18/20\n",
      "18/18 [==============================] - 1s 46ms/step - loss: 1.1774 - accuracy: 0.9066 - val_loss: 2.4687 - val_accuracy: 0.7445\n",
      "Epoch 19/20\n",
      "18/18 [==============================] - 1s 46ms/step - loss: 1.1176 - accuracy: 0.9212 - val_loss: 2.9651 - val_accuracy: 0.7372\n",
      "Epoch 20/20\n",
      "18/18 [==============================] - 1s 45ms/step - loss: 1.0995 - accuracy: 0.9286 - val_loss: 2.7826 - val_accuracy: 0.7445\n"
     ]
    }
   ],
   "source": [
    "rvl = model_output(rev,rev1)"
   ]
  },
  {
   "cell_type": "code",
   "execution_count": null,
   "metadata": {
    "id": "RPpBfH01Xxhd"
   },
   "outputs": [],
   "source": [
    "# save the result as excel files\n",
    "from pandas.core.frame import DataFrame\n",
    "df_loss = {'Matthew':mat.history['loss'],'Mark':mak.history['loss'],'Luke':luk.history['loss'],'John':joh.history['loss'],\n",
    "           'Acts':act.history['loss'],'Romans':rom.history['loss'],'1Cor':fcr.history['loss'],'2Cor':scr.history['loss'],'Gal':glt.history['loss'],\n",
    "           'Eph':ept.history['loss'],'Phl':plp.history['loss'],'Col':cls.history['loss'],'1The':ftl.history['loss'],'2The':stl.history['loss'],\n",
    "           '1Tim':ftm.history['loss'],'2Tim':stm.history['loss'],'Titus':tus.history['loss'],'Phi':plm.history['loss'],'James':jam.history['loss'],\n",
    "           '1Peter':fpt.history['loss'],'2Peter':spt.history['loss'],'1John':fjn.history['loss'],'2John':sjn.history['loss'],'3John':tjn.history['loss'],\n",
    "           'Jude':jde.history['loss'],'Rev':rvl.history['loss']}\n",
    "na28_loss = DataFrame(df_loss)\n",
    "\n",
    "df_val_loss = {'Matthew':mat.history['val_loss'],'Mark':mak.history['val_loss'],'Luke':luk.history['val_loss'],'John':joh.history['val_loss'],\n",
    "           'Acts':act.history['val_loss'],'Romans':rom.history['val_loss'],'1Cor':fcr.history['val_loss'],'2Cor':scr.history['val_loss'],'Gal':glt.history['val_loss'],\n",
    "           'Eph':ept.history['val_loss'],'Phl':plp.history['val_loss'],'Col':cls.history['val_loss'],'1The':ftl.history['val_loss'],'2The':stl.history['val_loss'],\n",
    "           '1Tim':ftm.history['val_loss'],'2Tim':stm.history['val_loss'],'Titus':tus.history['val_loss'],'Phi':plm.history['val_loss'],'James':jam.history['val_loss'],\n",
    "           '1Peter':fpt.history['val_loss'],'2Peter':spt.history['val_loss'],'1John':fjn.history['val_loss'],'2John':sjn.history['val_loss'],'3John':tjn.history['val_loss'],\n",
    "           'Jude':jde.history['val_loss'],'Rev':rvl.history['val_loss']}\n",
    "na28_val_loss = DataFrame(df_val_loss)\n",
    "\n",
    "df_accuracy = {'Matthew':mat.history['accuracy'],'Mark':mak.history['accuracy'],'Luke':luk.history['accuracy'],'John':joh.history['accuracy'],\n",
    "           'Acts':act.history['accuracy'],'Romans':rom.history['accuracy'],'1Cor':fcr.history['accuracy'],'2Cor':scr.history['accuracy'],'Gal':glt.history['accuracy'],\n",
    "           'Eph':ept.history['accuracy'],'Phl':plp.history['accuracy'],'Col':cls.history['accuracy'],'1The':ftl.history['accuracy'],'2The':stl.history['accuracy'],\n",
    "           '1Tim':ftm.history['accuracy'],'2Tim':stm.history['accuracy'],'Titus':tus.history['accuracy'],'Phi':plm.history['accuracy'],'James':jam.history['accuracy'],\n",
    "           '1Peter':fpt.history['accuracy'],'2Peter':spt.history['accuracy'],'1John':fjn.history['accuracy'],'2John':sjn.history['accuracy'],'3John':tjn.history['accuracy'],\n",
    "           'Jude':jde.history['accuracy'],'Rev':rvl.history['accuracy']}\n",
    "na28_accuracy = DataFrame(df_accuracy)\n",
    "\n",
    "df_val_accuracy = {'Matthew':mat.history['val_accuracy'],'Mark':mak.history['val_accuracy'],'Luke':luk.history['val_accuracy'],'John':joh.history['val_accuracy'],\n",
    "           'Acts':act.history['val_accuracy'],'Romans':rom.history['val_accuracy'],'1Cor':fcr.history['val_accuracy'],'2Cor':scr.history['val_accuracy'],'Gal':glt.history['val_accuracy'],\n",
    "           'Eph':ept.history['val_accuracy'],'Phl':plp.history['val_accuracy'],'Col':cls.history['val_accuracy'],'1The':ftl.history['val_accuracy'],'2The':stl.history['val_accuracy'],\n",
    "           '1Tim':ftm.history['val_accuracy'],'2Tim':stm.history['val_accuracy'],'Titus':tus.history['val_accuracy'],'Phi':plm.history['val_accuracy'],'James':jam.history['val_accuracy'],\n",
    "           '1Peter':fpt.history['val_accuracy'],'2Peter':spt.history['val_accuracy'],'1John':fjn.history['val_accuracy'],'2John':sjn.history['val_accuracy'],'3John':tjn.history['val_accuracy'],\n",
    "           'Jude':jde.history['val_accuracy'],'Rev':rvl.history['val_accuracy']}\n",
    "na28_val_accuracy = DataFrame(df_val_accuracy)"
   ]
  },
  {
   "cell_type": "code",
   "execution_count": null,
   "metadata": {
    "id": "EIaRV7L-dQMt"
   },
   "outputs": [],
   "source": [
    "na28_loss.to_excel('spacy NA28 LOSS.xlsx',encoding = 'utf-8', index = False)\n",
    "na28_accuracy.to_excel('spacy NA28 ACCURACY.xlsx',encoding = 'utf-8', index = False)  \n",
    "na28_val_loss.to_excel('spacy NA28 VALIDATION LOSS.xlsx',encoding = 'utf-8', index = False)  \n",
    "na28_val_accuracy.to_excel('spacy NA28 VALIDATION ACCURACY.xlsx',encoding = 'utf-8', index = False)    "
   ]
  },
  {
   "cell_type": "code",
   "execution_count": null,
   "metadata": {
    "colab": {
     "base_uri": "https://localhost:8080/",
     "height": 445
    },
    "id": "yr066SBmp_h6",
    "outputId": "04ad30a3-ebf1-4fcd-8ee7-4a2f0a633076"
   },
   "outputs": [
    {
     "data": {
      "image/png": "[encoded data removed]",
      "text/plain": [
       "<Figure size 432x288 with 1 Axes>"
      ]
     },
     "metadata": {
      "needs_background": "light",
      "tags": []
     },
     "output_type": "display_data"
    }
   ],
   "source": [
    "## make a plot to overview\n",
    "import matplotlib.pyplot as plt\n",
    "\n",
    "matvac = mat.history['val_accuracy']\n",
    "makvac = mak.history['val_accuracy']\n",
    "lukvac = luk.history['val_accuracy']\n",
    "johvac = joh.history['val_accuracy']\n",
    "actvac = act.history['val_accuracy']\n",
    "romvac = rom.history['val_accuracy']\n",
    "fcrvac = fcr.history['val_accuracy']\n",
    "scrvac = scr.history['val_accuracy']\n",
    "gltvac = glt.history['val_accuracy']\n",
    "eptvac = ept.history['val_accuracy']\n",
    "plpvac = plp.history['val_accuracy']\n",
    "clsvac = cls.history['val_accuracy']\n",
    "ftlvac = ftl.history['val_accuracy']\n",
    "stlvac = stl.history['val_accuracy']\n",
    "ftmvac = ftm.history['val_accuracy']\n",
    "stmvac = stm.history['val_accuracy']\n",
    "tusvac = tus.history['val_accuracy']\n",
    "plmvac = plm.history['val_accuracy']\n",
    "jamvac = jam.history['val_accuracy']\n",
    "fptvac = fpt.history['val_accuracy']\n",
    "sptvac = spt.history['val_accuracy']\n",
    "fjnvac = fjn.history['val_accuracy']\n",
    "sjnvac = sjn.history['val_accuracy']\n",
    "tjnvac = tjn.history['val_accuracy']\n",
    "jdevac = jde.history['val_accuracy']\n",
    "rvlvac = rvl.history['val_accuracy']\n",
    "\n",
    "epochs = range(1, len(matvac) + 1)\n",
    "\n",
    "plt.plot(epochs, matvac, 'b', label='matthew')\n",
    "plt.plot(epochs, makvac, 'r', label='mark')\n",
    "plt.plot(epochs, lukvac, 'y', label='luke')\n",
    "plt.plot(epochs, johvac, 'brown', label='john')\n",
    "plt.plot(epochs, actvac, 'coral', label='acts')\n",
    "plt.plot(epochs, romvac, 'darkgray', label='romans')\n",
    "plt.plot(epochs, fcrvac, 'deeppink', label='1Cor')\n",
    "plt.plot(epochs, scrvac, 'gold', label='2Cor')\n",
    "plt.plot(epochs, gltvac, 'green', label='Gal')\n",
    "plt.plot(epochs, eptvac, 'lightblue', label='Eph')\n",
    "plt.plot(epochs, plpvac, 'lightcoral', label='Phl')\n",
    "plt.plot(epochs, clsvac, 'lightgreen', label='Col')\n",
    "plt.plot(epochs, ftlvac, 'lightskyblue', label='1The')\n",
    "plt.plot(epochs, stlvac, 'navy', label='2The')\n",
    "plt.plot(epochs, ftmvac, 'skyblue', label='1Tim')\n",
    "plt.plot(epochs, stmvac, 'yellowgreen', label='2Tim')\n",
    "plt.plot(epochs, tusvac, 'peru', label='Titus')\n",
    "plt.plot(epochs, plmvac, 'orange', label='Phi')\n",
    "plt.plot(epochs, jamvac, 'purple', label='James')\n",
    "plt.plot(epochs, fptvac, 'orchid', label='1Peter')\n",
    "plt.plot(epochs, sptvac, 'ivory', label='2Peter')\n",
    "plt.plot(epochs, fjnvac, 'firebrick', label='1John')\n",
    "plt.plot(epochs, sjnvac, 'lightcyan', label='2John')\n",
    "plt.plot(epochs, tjnvac, 'violet', label='3John')\n",
    "plt.plot(epochs, jdevac, 'darkmagenta', label='Jude')\n",
    "plt.plot(epochs, rvlvac, 'magenta', label='Rev')\n",
    "plt.title('NA28 writing style validation accuracy')\n",
    "plt.xlabel('Epochs')\n",
    "plt.ylabel('Loss')\n",
    "plt.legend()\n",
    "\n",
    "plt.show()"
   ]
  },
  {
   "cell_type": "code",
   "execution_count": null,
   "metadata": {
    "id": "7DF9PDCshdUF"
   },
   "outputs": [],
   "source": [
    "mat_s1 = cosine_text(Matthew)\n",
    "mark_s1 = cosine_text(Mark)\n",
    "luke_s1 = cosine_text(Luke_Book)\n",
    "jam_s1 = cosine_text(James)\n",
    "pet_s1 = cosine_text(Peter_letter)\n",
    "john_s1 = cosine_text(John_Book.dropna())\n",
    "jude_s1 = cosine_text(Jude)\n",
    "pl_s1 = cosine_text(Paul_letters)"
   ]
  },
  {
   "cell_type": "code",
   "execution_count": null,
   "metadata": {
    "id": "QI1kXgwaiXI3"
   },
   "outputs": [],
   "source": [
    "mat_s11 = text_author(Matthew)\n",
    "mark_s11 = text_author(Mark)\n",
    "luke_s11 = text_author(Luke_Book)\n",
    "jam_s11 = text_author(James)\n",
    "pet_s11 = text_author(Peter_letter)\n",
    "john_s11 = text_author(John_Book.dropna())\n",
    "jude_s11 = text_author(Jude)\n",
    "pl_s11 = text_author(Paul_letters)"
   ]
  },
  {
   "cell_type": "code",
   "execution_count": null,
   "metadata": {
    "colab": {
     "base_uri": "https://localhost:8080/"
    },
    "id": "fWi17DFjMp59",
    "outputId": "5421dfe9-5835-49b2-ddb5-4572c6ab4efb"
   },
   "outputs": [
    {
     "name": "stdout",
     "output_type": "stream",
     "text": [
      "Epoch 1/20\n",
      "34/34 [==============================] - 3s 87ms/step - loss: 2.2421 - accuracy: 0.7563 - val_loss: 2.2357 - val_accuracy: 0.7566\n",
      "Epoch 2/20\n",
      "34/34 [==============================] - 2s 46ms/step - loss: 1.5029 - accuracy: 0.8397 - val_loss: 2.1047 - val_accuracy: 0.7603\n",
      "Epoch 3/20\n",
      "34/34 [==============================] - 2s 46ms/step - loss: 1.1729 - accuracy: 0.8632 - val_loss: 1.8473 - val_accuracy: 0.8052\n",
      "Epoch 4/20\n",
      "34/34 [==============================] - 2s 46ms/step - loss: 0.9970 - accuracy: 0.8950 - val_loss: 1.8292 - val_accuracy: 0.7940\n",
      "Epoch 5/20\n",
      "34/34 [==============================] - 2s 47ms/step - loss: 0.8980 - accuracy: 0.9138 - val_loss: 1.7873 - val_accuracy: 0.8015\n",
      "Epoch 6/20\n",
      "34/34 [==============================] - 2s 47ms/step - loss: 0.8512 - accuracy: 0.9175 - val_loss: 2.3823 - val_accuracy: 0.7753\n",
      "Epoch 7/20\n",
      "34/34 [==============================] - 2s 46ms/step - loss: 0.8245 - accuracy: 0.9288 - val_loss: 1.9630 - val_accuracy: 0.7828\n",
      "Epoch 8/20\n",
      "34/34 [==============================] - 2s 48ms/step - loss: 0.8238 - accuracy: 0.9213 - val_loss: 2.1431 - val_accuracy: 0.7753\n",
      "Epoch 9/20\n",
      "34/34 [==============================] - 2s 48ms/step - loss: 0.6588 - accuracy: 0.9316 - val_loss: 1.8489 - val_accuracy: 0.8015\n",
      "Epoch 10/20\n",
      "34/34 [==============================] - 2s 46ms/step - loss: 0.5307 - accuracy: 0.9475 - val_loss: 1.9524 - val_accuracy: 0.7978\n",
      "Epoch 11/20\n",
      "34/34 [==============================] - 2s 47ms/step - loss: 0.5159 - accuracy: 0.9456 - val_loss: 1.8826 - val_accuracy: 0.8090\n",
      "Epoch 12/20\n",
      "34/34 [==============================] - 2s 47ms/step - loss: 0.4632 - accuracy: 0.9494 - val_loss: 1.8481 - val_accuracy: 0.7940\n",
      "Epoch 13/20\n",
      "34/34 [==============================] - 2s 46ms/step - loss: 0.4276 - accuracy: 0.9644 - val_loss: 1.8673 - val_accuracy: 0.8015\n",
      "Epoch 14/20\n",
      "34/34 [==============================] - 2s 47ms/step - loss: 0.4147 - accuracy: 0.9691 - val_loss: 1.9566 - val_accuracy: 0.8015\n",
      "Epoch 15/20\n",
      "34/34 [==============================] - 2s 46ms/step - loss: 0.4159 - accuracy: 0.9653 - val_loss: 1.9588 - val_accuracy: 0.7978\n",
      "Epoch 16/20\n",
      "34/34 [==============================] - 2s 47ms/step - loss: 0.4036 - accuracy: 0.9700 - val_loss: 2.4863 - val_accuracy: 0.7828\n",
      "Epoch 17/20\n",
      "34/34 [==============================] - 2s 47ms/step - loss: 0.3831 - accuracy: 0.9747 - val_loss: 2.0599 - val_accuracy: 0.7828\n",
      "Epoch 18/20\n",
      "34/34 [==============================] - 2s 47ms/step - loss: 0.3698 - accuracy: 0.9719 - val_loss: 1.8332 - val_accuracy: 0.7940\n",
      "Epoch 19/20\n",
      "34/34 [==============================] - 2s 48ms/step - loss: 0.3733 - accuracy: 0.9719 - val_loss: 2.3225 - val_accuracy: 0.7828\n",
      "Epoch 20/20\n",
      "34/34 [==============================] - 2s 47ms/step - loss: 0.3670 - accuracy: 0.9728 - val_loss: 2.1644 - val_accuracy: 0.8090\n"
     ]
    }
   ],
   "source": [
    "matthewbook = model_output(mat_s1,mat_s11)"
   ]
  },
  {
   "cell_type": "code",
   "execution_count": null,
   "metadata": {
    "colab": {
     "base_uri": "https://localhost:8080/"
    },
    "id": "NzUO8Y5flRHo",
    "outputId": "202e2d8d-0c5a-4d92-d89e-10140ee7f39f"
   },
   "outputs": [
    {
     "name": "stdout",
     "output_type": "stream",
     "text": [
      "Epoch 1/20\n",
      "24/24 [==============================] - 2s 104ms/step - loss: 1.6158 - accuracy: 0.8536 - val_loss: 1.9327 - val_accuracy: 0.8158\n",
      "Epoch 2/20\n",
      "24/24 [==============================] - 1s 46ms/step - loss: 1.2450 - accuracy: 0.8997 - val_loss: 1.6532 - val_accuracy: 0.8053\n",
      "Epoch 3/20\n",
      "24/24 [==============================] - 1s 46ms/step - loss: 1.0631 - accuracy: 0.9156 - val_loss: 1.7880 - val_accuracy: 0.8053\n",
      "Epoch 4/20\n",
      "24/24 [==============================] - 1s 46ms/step - loss: 0.9502 - accuracy: 0.9354 - val_loss: 1.6676 - val_accuracy: 0.8000\n",
      "Epoch 5/20\n",
      "24/24 [==============================] - 1s 47ms/step - loss: 0.8689 - accuracy: 0.9288 - val_loss: 1.9875 - val_accuracy: 0.7789\n",
      "Epoch 6/20\n",
      "24/24 [==============================] - 1s 48ms/step - loss: 0.7843 - accuracy: 0.9288 - val_loss: 1.6070 - val_accuracy: 0.8000\n",
      "Epoch 7/20\n",
      "24/24 [==============================] - 1s 45ms/step - loss: 0.7192 - accuracy: 0.9512 - val_loss: 1.5824 - val_accuracy: 0.8105\n",
      "Epoch 8/20\n",
      "24/24 [==============================] - 1s 48ms/step - loss: 0.6955 - accuracy: 0.9446 - val_loss: 1.6268 - val_accuracy: 0.8105\n",
      "Epoch 9/20\n",
      "24/24 [==============================] - 1s 47ms/step - loss: 0.6709 - accuracy: 0.9565 - val_loss: 1.7315 - val_accuracy: 0.7947\n",
      "Epoch 10/20\n",
      "24/24 [==============================] - 1s 47ms/step - loss: 0.7017 - accuracy: 0.9446 - val_loss: 1.6429 - val_accuracy: 0.8053\n",
      "Epoch 11/20\n",
      "24/24 [==============================] - 1s 46ms/step - loss: 0.6357 - accuracy: 0.9565 - val_loss: 1.8778 - val_accuracy: 0.7895\n",
      "Epoch 12/20\n",
      "24/24 [==============================] - 1s 46ms/step - loss: 0.5935 - accuracy: 0.9604 - val_loss: 2.0235 - val_accuracy: 0.7895\n",
      "Epoch 13/20\n",
      "24/24 [==============================] - 1s 47ms/step - loss: 0.5586 - accuracy: 0.9591 - val_loss: 1.9903 - val_accuracy: 0.8053\n",
      "Epoch 14/20\n",
      "24/24 [==============================] - 1s 47ms/step - loss: 0.5744 - accuracy: 0.9591 - val_loss: 1.9116 - val_accuracy: 0.7895\n",
      "Epoch 15/20\n",
      "24/24 [==============================] - 1s 47ms/step - loss: 0.5489 - accuracy: 0.9644 - val_loss: 2.0861 - val_accuracy: 0.7789\n",
      "Epoch 16/20\n",
      "24/24 [==============================] - 1s 47ms/step - loss: 0.5321 - accuracy: 0.9631 - val_loss: 2.2532 - val_accuracy: 0.7895\n",
      "Epoch 17/20\n",
      "24/24 [==============================] - 1s 47ms/step - loss: 0.5320 - accuracy: 0.9644 - val_loss: 2.0838 - val_accuracy: 0.8000\n",
      "Epoch 18/20\n",
      "24/24 [==============================] - 1s 46ms/step - loss: 0.5148 - accuracy: 0.9644 - val_loss: 2.1945 - val_accuracy: 0.7842\n",
      "Epoch 19/20\n",
      "24/24 [==============================] - 1s 46ms/step - loss: 0.4753 - accuracy: 0.9657 - val_loss: 2.0830 - val_accuracy: 0.7947\n",
      "Epoch 20/20\n",
      "24/24 [==============================] - 1s 47ms/step - loss: 0.4708 - accuracy: 0.9683 - val_loss: 2.0972 - val_accuracy: 0.7947\n"
     ]
    }
   ],
   "source": [
    "markbook = model_output(mark_s1,mark_s11)"
   ]
  },
  {
   "cell_type": "code",
   "execution_count": null,
   "metadata": {
    "colab": {
     "base_uri": "https://localhost:8080/"
    },
    "id": "MtFtR5JxcmFf",
    "outputId": "2d7f634f-0fb1-471f-fc22-e436eb5e6da1"
   },
   "outputs": [
    {
     "name": "stdout",
     "output_type": "stream",
     "text": [
      "Epoch 1/20\n",
      "61/61 [==============================] - 4s 72ms/step - loss: 0.9157 - accuracy: 0.9013 - val_loss: 0.6913 - val_accuracy: 0.9274\n",
      "Epoch 2/20\n",
      "61/61 [==============================] - 3s 48ms/step - loss: 0.7228 - accuracy: 0.9273 - val_loss: 0.6836 - val_accuracy: 0.9253\n",
      "Epoch 3/20\n",
      "61/61 [==============================] - 3s 47ms/step - loss: 0.6490 - accuracy: 0.9377 - val_loss: 0.6118 - val_accuracy: 0.9170\n",
      "Epoch 4/20\n",
      "61/61 [==============================] - 3s 47ms/step - loss: 0.5436 - accuracy: 0.9460 - val_loss: 0.5726 - val_accuracy: 0.9149\n",
      "Epoch 5/20\n",
      "61/61 [==============================] - 3s 47ms/step - loss: 0.5493 - accuracy: 0.9538 - val_loss: 0.6943 - val_accuracy: 0.9108\n",
      "Epoch 6/20\n",
      "61/61 [==============================] - 3s 47ms/step - loss: 0.4985 - accuracy: 0.9600 - val_loss: 0.8859 - val_accuracy: 0.9025\n",
      "Epoch 7/20\n",
      "61/61 [==============================] - 3s 48ms/step - loss: 0.4333 - accuracy: 0.9616 - val_loss: 0.9923 - val_accuracy: 0.9046\n",
      "Epoch 8/20\n",
      "61/61 [==============================] - 3s 47ms/step - loss: 0.3967 - accuracy: 0.9699 - val_loss: 0.8985 - val_accuracy: 0.9129\n",
      "Epoch 9/20\n",
      "61/61 [==============================] - 3s 47ms/step - loss: 0.3972 - accuracy: 0.9642 - val_loss: 0.9166 - val_accuracy: 0.9004\n",
      "Epoch 10/20\n",
      "61/61 [==============================] - 3s 47ms/step - loss: 0.3738 - accuracy: 0.9694 - val_loss: 0.8867 - val_accuracy: 0.9025\n",
      "Epoch 11/20\n",
      "61/61 [==============================] - 3s 48ms/step - loss: 0.3891 - accuracy: 0.9694 - val_loss: 0.8272 - val_accuracy: 0.8983\n",
      "Epoch 12/20\n",
      "61/61 [==============================] - 3s 47ms/step - loss: 0.3656 - accuracy: 0.9730 - val_loss: 1.0331 - val_accuracy: 0.8983\n",
      "Epoch 13/20\n",
      "61/61 [==============================] - 3s 47ms/step - loss: 0.3451 - accuracy: 0.9699 - val_loss: 0.8766 - val_accuracy: 0.8942\n",
      "Epoch 14/20\n",
      "61/61 [==============================] - 3s 48ms/step - loss: 0.3252 - accuracy: 0.9756 - val_loss: 0.7738 - val_accuracy: 0.9108\n",
      "Epoch 15/20\n",
      "61/61 [==============================] - 3s 47ms/step - loss: 0.3404 - accuracy: 0.9756 - val_loss: 0.8819 - val_accuracy: 0.9149\n",
      "Epoch 16/20\n",
      "61/61 [==============================] - 3s 47ms/step - loss: 0.3426 - accuracy: 0.9735 - val_loss: 0.9000 - val_accuracy: 0.9046\n",
      "Epoch 17/20\n",
      "61/61 [==============================] - 3s 48ms/step - loss: 0.3296 - accuracy: 0.9745 - val_loss: 0.8832 - val_accuracy: 0.9025\n",
      "Epoch 18/20\n",
      "61/61 [==============================] - 3s 47ms/step - loss: 0.3277 - accuracy: 0.9777 - val_loss: 0.9316 - val_accuracy: 0.9087\n",
      "Epoch 19/20\n",
      "61/61 [==============================] - 3s 48ms/step - loss: 0.3310 - accuracy: 0.9756 - val_loss: 0.9257 - val_accuracy: 0.8963\n",
      "Epoch 20/20\n",
      "61/61 [==============================] - 3s 48ms/step - loss: 0.3259 - accuracy: 0.9751 - val_loss: 0.9176 - val_accuracy: 0.9025\n"
     ]
    }
   ],
   "source": [
    "lukebook = model_output(luke_s1,luke_s11)"
   ]
  },
  {
   "cell_type": "code",
   "execution_count": null,
   "metadata": {
    "colab": {
     "base_uri": "https://localhost:8080/"
    },
    "id": "hg9UTcUVicow",
    "outputId": "d4fd53d0-74f4-4a9e-f376-b3268a7feca0"
   },
   "outputs": [
    {
     "name": "stdout",
     "output_type": "stream",
     "text": [
      "Epoch 1/20\n",
      "10/10 [==============================] - 2s 186ms/step - loss: 2.0943 - accuracy: 0.8045 - val_loss: 1.8369 - val_accuracy: 0.8354\n",
      "Epoch 2/20\n",
      "10/10 [==============================] - 0s 43ms/step - loss: 1.5510 - accuracy: 0.8654 - val_loss: 1.8369 - val_accuracy: 0.8481\n",
      "Epoch 3/20\n",
      "10/10 [==============================] - 0s 45ms/step - loss: 1.1375 - accuracy: 0.9038 - val_loss: 1.8199 - val_accuracy: 0.8481\n",
      "Epoch 4/20\n",
      "10/10 [==============================] - 0s 45ms/step - loss: 1.0046 - accuracy: 0.9263 - val_loss: 2.0136 - val_accuracy: 0.8228\n",
      "Epoch 5/20\n",
      "10/10 [==============================] - 0s 45ms/step - loss: 0.9816 - accuracy: 0.9359 - val_loss: 2.0017 - val_accuracy: 0.8354\n",
      "Epoch 6/20\n",
      "10/10 [==============================] - 0s 44ms/step - loss: 0.9794 - accuracy: 0.9359 - val_loss: 2.0024 - val_accuracy: 0.8354\n",
      "Epoch 7/20\n",
      "10/10 [==============================] - 0s 46ms/step - loss: 0.9792 - accuracy: 0.9359 - val_loss: 2.0024 - val_accuracy: 0.8354\n",
      "Epoch 8/20\n",
      "10/10 [==============================] - 0s 44ms/step - loss: 0.9792 - accuracy: 0.9359 - val_loss: 2.0024 - val_accuracy: 0.8354\n",
      "Epoch 9/20\n",
      "10/10 [==============================] - 0s 47ms/step - loss: 0.9792 - accuracy: 0.9359 - val_loss: 2.0024 - val_accuracy: 0.8354\n",
      "Epoch 10/20\n",
      "10/10 [==============================] - 0s 44ms/step - loss: 0.9792 - accuracy: 0.9359 - val_loss: 2.0024 - val_accuracy: 0.8354\n",
      "Epoch 11/20\n",
      "10/10 [==============================] - 0s 47ms/step - loss: 0.9792 - accuracy: 0.9359 - val_loss: 2.0024 - val_accuracy: 0.8354\n",
      "Epoch 12/20\n",
      "10/10 [==============================] - 0s 45ms/step - loss: 0.9792 - accuracy: 0.9359 - val_loss: 2.0024 - val_accuracy: 0.8354\n",
      "Epoch 13/20\n",
      "10/10 [==============================] - 0s 45ms/step - loss: 0.9792 - accuracy: 0.9359 - val_loss: 2.0024 - val_accuracy: 0.8354\n",
      "Epoch 14/20\n",
      "10/10 [==============================] - 0s 45ms/step - loss: 0.9792 - accuracy: 0.9359 - val_loss: 2.0024 - val_accuracy: 0.8354\n",
      "Epoch 15/20\n",
      "10/10 [==============================] - 0s 46ms/step - loss: 0.9792 - accuracy: 0.9359 - val_loss: 2.0024 - val_accuracy: 0.8354\n",
      "Epoch 16/20\n",
      "10/10 [==============================] - 0s 45ms/step - loss: 0.9792 - accuracy: 0.9359 - val_loss: 2.0024 - val_accuracy: 0.8354\n",
      "Epoch 17/20\n",
      "10/10 [==============================] - 0s 46ms/step - loss: 0.9792 - accuracy: 0.9359 - val_loss: 2.0024 - val_accuracy: 0.8354\n",
      "Epoch 18/20\n",
      "10/10 [==============================] - 0s 46ms/step - loss: 0.9792 - accuracy: 0.9359 - val_loss: 2.0024 - val_accuracy: 0.8354\n",
      "Epoch 19/20\n",
      "10/10 [==============================] - 0s 47ms/step - loss: 0.9792 - accuracy: 0.9359 - val_loss: 2.0024 - val_accuracy: 0.8354\n",
      "Epoch 20/20\n",
      "10/10 [==============================] - 0s 47ms/step - loss: 0.9792 - accuracy: 0.9359 - val_loss: 2.0024 - val_accuracy: 0.8354\n"
     ]
    }
   ],
   "source": [
    "jams = model_output(jam_s1,jam_s11)"
   ]
  },
  {
   "cell_type": "code",
   "execution_count": null,
   "metadata": {
    "colab": {
     "base_uri": "https://localhost:8080/"
    },
    "id": "4weyaQgBjjx0",
    "outputId": "a2fee454-b5aa-450a-c1af-3e9dedf5803a"
   },
   "outputs": [
    {
     "name": "stdout",
     "output_type": "stream",
     "text": [
      "Epoch 1/20\n",
      "12/12 [==============================] - 2s 161ms/step - loss: 1.5238 - accuracy: 0.8588 - val_loss: 0.9809 - val_accuracy: 0.8876\n",
      "Epoch 2/20\n",
      "12/12 [==============================] - 1s 46ms/step - loss: 1.2853 - accuracy: 0.9011 - val_loss: 1.4354 - val_accuracy: 0.8764\n",
      "Epoch 3/20\n",
      "12/12 [==============================] - 1s 44ms/step - loss: 1.2230 - accuracy: 0.9181 - val_loss: 0.5973 - val_accuracy: 0.9326\n",
      "Epoch 4/20\n",
      "12/12 [==============================] - 1s 44ms/step - loss: 1.2159 - accuracy: 0.9153 - val_loss: 0.7814 - val_accuracy: 0.9326\n",
      "Epoch 5/20\n",
      "12/12 [==============================] - 1s 43ms/step - loss: 1.2086 - accuracy: 0.9209 - val_loss: 0.7814 - val_accuracy: 0.9326\n",
      "Epoch 6/20\n",
      "12/12 [==============================] - 1s 44ms/step - loss: 1.2086 - accuracy: 0.9209 - val_loss: 0.7814 - val_accuracy: 0.9326\n",
      "Epoch 7/20\n",
      "12/12 [==============================] - 1s 43ms/step - loss: 1.2086 - accuracy: 0.9209 - val_loss: 0.7814 - val_accuracy: 0.9326\n",
      "Epoch 8/20\n",
      "12/12 [==============================] - 1s 44ms/step - loss: 1.2086 - accuracy: 0.9209 - val_loss: 0.7814 - val_accuracy: 0.9326\n",
      "Epoch 9/20\n",
      "12/12 [==============================] - 1s 45ms/step - loss: 1.2086 - accuracy: 0.9209 - val_loss: 0.7814 - val_accuracy: 0.9326\n",
      "Epoch 10/20\n",
      "12/12 [==============================] - 1s 47ms/step - loss: 1.2086 - accuracy: 0.9209 - val_loss: 0.7814 - val_accuracy: 0.9326\n",
      "Epoch 11/20\n",
      "12/12 [==============================] - 1s 45ms/step - loss: 1.2086 - accuracy: 0.9209 - val_loss: 0.7814 - val_accuracy: 0.9326\n",
      "Epoch 12/20\n",
      "12/12 [==============================] - 1s 44ms/step - loss: 1.2086 - accuracy: 0.9209 - val_loss: 0.7814 - val_accuracy: 0.9326\n",
      "Epoch 13/20\n",
      "12/12 [==============================] - 1s 44ms/step - loss: 1.2086 - accuracy: 0.9209 - val_loss: 0.7814 - val_accuracy: 0.9326\n",
      "Epoch 14/20\n",
      "12/12 [==============================] - 1s 43ms/step - loss: 1.2086 - accuracy: 0.9209 - val_loss: 0.7814 - val_accuracy: 0.9326\n",
      "Epoch 15/20\n",
      "12/12 [==============================] - 1s 45ms/step - loss: 1.2086 - accuracy: 0.9209 - val_loss: 0.7814 - val_accuracy: 0.9326\n",
      "Epoch 16/20\n",
      "12/12 [==============================] - 1s 46ms/step - loss: 1.2086 - accuracy: 0.9209 - val_loss: 0.7814 - val_accuracy: 0.9326\n",
      "Epoch 17/20\n",
      "12/12 [==============================] - 1s 44ms/step - loss: 1.2086 - accuracy: 0.9209 - val_loss: 0.7814 - val_accuracy: 0.9326\n",
      "Epoch 18/20\n",
      "12/12 [==============================] - 1s 45ms/step - loss: 1.2086 - accuracy: 0.9209 - val_loss: 0.7814 - val_accuracy: 0.9326\n",
      "Epoch 19/20\n",
      "12/12 [==============================] - 1s 45ms/step - loss: 1.2086 - accuracy: 0.9209 - val_loss: 0.7814 - val_accuracy: 0.9326\n",
      "Epoch 20/20\n",
      "12/12 [==============================] - 1s 47ms/step - loss: 1.2086 - accuracy: 0.9209 - val_loss: 0.7814 - val_accuracy: 0.9326\n"
     ]
    }
   ],
   "source": [
    "peter = model_output(pet_s1,pet_s11)"
   ]
  },
  {
   "cell_type": "code",
   "execution_count": null,
   "metadata": {
    "colab": {
     "base_uri": "https://localhost:8080/"
    },
    "id": "QDZqcgm1kHXs",
    "outputId": "3a47c2c5-2a28-4b70-ec29-e0bfe1bde9db"
   },
   "outputs": [
    {
     "name": "stdout",
     "output_type": "stream",
     "text": [
      "Epoch 1/20\n",
      "43/43 [==============================] - 3s 80ms/step - loss: 1.2227 - accuracy: 0.8833 - val_loss: 1.0691 - val_accuracy: 0.8968\n",
      "Epoch 2/20\n",
      "43/43 [==============================] - 2s 48ms/step - loss: 1.0615 - accuracy: 0.9062 - val_loss: 1.0243 - val_accuracy: 0.9027\n",
      "Epoch 3/20\n",
      "43/43 [==============================] - 2s 47ms/step - loss: 0.7744 - accuracy: 0.9313 - val_loss: 0.8983 - val_accuracy: 0.8850\n",
      "Epoch 4/20\n",
      "43/43 [==============================] - 2s 47ms/step - loss: 0.5968 - accuracy: 0.9446 - val_loss: 0.9517 - val_accuracy: 0.8909\n",
      "Epoch 5/20\n",
      "43/43 [==============================] - 2s 47ms/step - loss: 0.5621 - accuracy: 0.9579 - val_loss: 0.8445 - val_accuracy: 0.8909\n",
      "Epoch 6/20\n",
      "43/43 [==============================] - 2s 48ms/step - loss: 0.5042 - accuracy: 0.9594 - val_loss: 1.0478 - val_accuracy: 0.8791\n",
      "Epoch 7/20\n",
      "43/43 [==============================] - 2s 47ms/step - loss: 0.5141 - accuracy: 0.9638 - val_loss: 1.1563 - val_accuracy: 0.8732\n",
      "Epoch 8/20\n",
      "43/43 [==============================] - 2s 47ms/step - loss: 0.4883 - accuracy: 0.9675 - val_loss: 0.7072 - val_accuracy: 0.8968\n",
      "Epoch 9/20\n",
      "43/43 [==============================] - 2s 47ms/step - loss: 0.4849 - accuracy: 0.9645 - val_loss: 0.9999 - val_accuracy: 0.8997\n",
      "Epoch 10/20\n",
      "43/43 [==============================] - 2s 47ms/step - loss: 0.4541 - accuracy: 0.9645 - val_loss: 1.0851 - val_accuracy: 0.8879\n",
      "Epoch 11/20\n",
      "43/43 [==============================] - 2s 47ms/step - loss: 0.4372 - accuracy: 0.9682 - val_loss: 0.8692 - val_accuracy: 0.8879\n",
      "Epoch 12/20\n",
      "43/43 [==============================] - 2s 48ms/step - loss: 0.4514 - accuracy: 0.9660 - val_loss: 0.8938 - val_accuracy: 0.8850\n",
      "Epoch 13/20\n",
      "43/43 [==============================] - 2s 47ms/step - loss: 0.4228 - accuracy: 0.9705 - val_loss: 1.0365 - val_accuracy: 0.8968\n",
      "Epoch 14/20\n",
      "43/43 [==============================] - 2s 47ms/step - loss: 0.4028 - accuracy: 0.9719 - val_loss: 1.0435 - val_accuracy: 0.8968\n",
      "Epoch 15/20\n",
      "43/43 [==============================] - 2s 47ms/step - loss: 0.4107 - accuracy: 0.9727 - val_loss: 0.8234 - val_accuracy: 0.8761\n",
      "Epoch 16/20\n",
      "43/43 [==============================] - 2s 47ms/step - loss: 0.3839 - accuracy: 0.9697 - val_loss: 1.2212 - val_accuracy: 0.8702\n",
      "Epoch 17/20\n",
      "43/43 [==============================] - 2s 47ms/step - loss: 0.3953 - accuracy: 0.9682 - val_loss: 1.0751 - val_accuracy: 0.8791\n",
      "Epoch 18/20\n",
      "43/43 [==============================] - 2s 47ms/step - loss: 0.3461 - accuracy: 0.9742 - val_loss: 1.4083 - val_accuracy: 0.8584\n",
      "Epoch 19/20\n",
      "43/43 [==============================] - 2s 47ms/step - loss: 0.3220 - accuracy: 0.9771 - val_loss: 1.3172 - val_accuracy: 0.8732\n",
      "Epoch 20/20\n",
      "43/43 [==============================] - 2s 47ms/step - loss: 0.3198 - accuracy: 0.9786 - val_loss: 1.0865 - val_accuracy: 0.8614\n"
     ]
    }
   ],
   "source": [
    "johnbook = model_output(john_s1,john_s11)"
   ]
  },
  {
   "cell_type": "code",
   "execution_count": null,
   "metadata": {
    "colab": {
     "base_uri": "https://localhost:8080/"
    },
    "id": "Ur4SN-uykQkf",
    "outputId": "c3fe73c8-c8c8-4671-f79c-8bcc6e0100f7"
   },
   "outputs": [
    {
     "name": "stdout",
     "output_type": "stream",
     "text": [
      "Epoch 1/20\n",
      "8/8 [==============================] - 2s 217ms/step - loss: 1.4099 - accuracy: 0.8862 - val_loss: 1.5236 - val_accuracy: 0.8710\n",
      "Epoch 2/20\n",
      "8/8 [==============================] - 0s 44ms/step - loss: 0.9760 - accuracy: 0.9146 - val_loss: 1.7435 - val_accuracy: 0.8871\n",
      "Epoch 3/20\n",
      "8/8 [==============================] - 0s 46ms/step - loss: 0.9330 - accuracy: 0.9390 - val_loss: 1.7406 - val_accuracy: 0.8871\n",
      "Epoch 4/20\n",
      "8/8 [==============================] - 0s 44ms/step - loss: 0.9320 - accuracy: 0.9390 - val_loss: 1.7406 - val_accuracy: 0.8871\n",
      "Epoch 5/20\n",
      "8/8 [==============================] - 0s 43ms/step - loss: 0.9320 - accuracy: 0.9390 - val_loss: 1.7406 - val_accuracy: 0.8871\n",
      "Epoch 6/20\n",
      "8/8 [==============================] - 0s 45ms/step - loss: 0.9320 - accuracy: 0.9390 - val_loss: 1.7406 - val_accuracy: 0.8871\n",
      "Epoch 7/20\n",
      "8/8 [==============================] - 0s 45ms/step - loss: 0.9320 - accuracy: 0.9390 - val_loss: 1.7406 - val_accuracy: 0.8871\n",
      "Epoch 8/20\n",
      "8/8 [==============================] - 0s 43ms/step - loss: 0.9320 - accuracy: 0.9390 - val_loss: 1.7406 - val_accuracy: 0.8871\n",
      "Epoch 9/20\n",
      "8/8 [==============================] - 0s 43ms/step - loss: 0.9320 - accuracy: 0.9390 - val_loss: 1.7406 - val_accuracy: 0.8871\n",
      "Epoch 10/20\n",
      "8/8 [==============================] - 0s 43ms/step - loss: 0.9320 - accuracy: 0.9390 - val_loss: 1.7406 - val_accuracy: 0.8871\n",
      "Epoch 11/20\n",
      "8/8 [==============================] - 0s 43ms/step - loss: 0.9320 - accuracy: 0.9390 - val_loss: 1.7406 - val_accuracy: 0.8871\n",
      "Epoch 12/20\n",
      "8/8 [==============================] - 0s 45ms/step - loss: 0.9320 - accuracy: 0.9390 - val_loss: 1.7406 - val_accuracy: 0.8871\n",
      "Epoch 13/20\n",
      "8/8 [==============================] - 0s 43ms/step - loss: 0.9320 - accuracy: 0.9390 - val_loss: 1.7406 - val_accuracy: 0.8871\n",
      "Epoch 14/20\n",
      "8/8 [==============================] - 0s 44ms/step - loss: 0.9320 - accuracy: 0.9390 - val_loss: 1.7406 - val_accuracy: 0.8871\n",
      "Epoch 15/20\n",
      "8/8 [==============================] - 0s 44ms/step - loss: 0.9320 - accuracy: 0.9390 - val_loss: 1.7406 - val_accuracy: 0.8871\n",
      "Epoch 16/20\n",
      "8/8 [==============================] - 0s 43ms/step - loss: 0.9320 - accuracy: 0.9390 - val_loss: 1.7406 - val_accuracy: 0.8871\n",
      "Epoch 17/20\n",
      "8/8 [==============================] - 0s 46ms/step - loss: 0.9320 - accuracy: 0.9390 - val_loss: 1.7406 - val_accuracy: 0.8871\n",
      "Epoch 18/20\n",
      "8/8 [==============================] - 0s 45ms/step - loss: 0.9320 - accuracy: 0.9390 - val_loss: 1.7406 - val_accuracy: 0.8871\n",
      "Epoch 19/20\n",
      "8/8 [==============================] - 0s 45ms/step - loss: 0.9320 - accuracy: 0.9390 - val_loss: 1.7406 - val_accuracy: 0.8871\n",
      "Epoch 20/20\n",
      "8/8 [==============================] - 0s 44ms/step - loss: 0.9320 - accuracy: 0.9390 - val_loss: 1.7406 - val_accuracy: 0.8871\n"
     ]
    }
   ],
   "source": [
    "jude = model_output(jude_s1,jude_s11)"
   ]
  },
  {
   "cell_type": "code",
   "execution_count": null,
   "metadata": {
    "colab": {
     "base_uri": "https://localhost:8080/"
    },
    "id": "7kyI55ZwksVO",
    "outputId": "2e5c6e1a-6a2f-4b37-b367-d47a280677a8"
   },
   "outputs": [
    {
     "name": "stdout",
     "output_type": "stream",
     "text": [
      "Epoch 1/20\n",
      "58/58 [==============================] - 4s 72ms/step - loss: 1.0322 - accuracy: 0.8939 - val_loss: 0.3752 - val_accuracy: 0.9476\n",
      "Epoch 2/20\n",
      "58/58 [==============================] - 3s 49ms/step - loss: 0.7446 - accuracy: 0.9289 - val_loss: 0.6150 - val_accuracy: 0.9367\n",
      "Epoch 3/20\n",
      "58/58 [==============================] - 3s 47ms/step - loss: 0.6384 - accuracy: 0.9376 - val_loss: 0.4210 - val_accuracy: 0.9520\n",
      "Epoch 4/20\n",
      "58/58 [==============================] - 3s 48ms/step - loss: 0.5397 - accuracy: 0.9524 - val_loss: 0.3668 - val_accuracy: 0.9410\n",
      "Epoch 5/20\n",
      "58/58 [==============================] - 3s 48ms/step - loss: 0.5252 - accuracy: 0.9595 - val_loss: 0.5351 - val_accuracy: 0.9301\n",
      "Epoch 6/20\n",
      "58/58 [==============================] - 3s 48ms/step - loss: 0.5086 - accuracy: 0.9579 - val_loss: 0.4858 - val_accuracy: 0.9258\n",
      "Epoch 7/20\n",
      "58/58 [==============================] - 3s 48ms/step - loss: 0.4367 - accuracy: 0.9661 - val_loss: 0.4818 - val_accuracy: 0.9258\n",
      "Epoch 8/20\n",
      "58/58 [==============================] - 3s 48ms/step - loss: 0.4211 - accuracy: 0.9688 - val_loss: 0.5921 - val_accuracy: 0.9301\n",
      "Epoch 9/20\n",
      "58/58 [==============================] - 3s 47ms/step - loss: 0.4241 - accuracy: 0.9688 - val_loss: 0.7097 - val_accuracy: 0.9236\n",
      "Epoch 10/20\n",
      "58/58 [==============================] - 3s 48ms/step - loss: 0.3850 - accuracy: 0.9666 - val_loss: 0.7274 - val_accuracy: 0.9148\n",
      "Epoch 11/20\n",
      "58/58 [==============================] - 3s 48ms/step - loss: 0.3671 - accuracy: 0.9721 - val_loss: 0.6699 - val_accuracy: 0.9214\n",
      "Epoch 12/20\n",
      "58/58 [==============================] - 3s 49ms/step - loss: 0.3631 - accuracy: 0.9748 - val_loss: 0.7209 - val_accuracy: 0.9148\n",
      "Epoch 13/20\n",
      "58/58 [==============================] - 3s 48ms/step - loss: 0.3571 - accuracy: 0.9754 - val_loss: 0.7346 - val_accuracy: 0.9214\n",
      "Epoch 14/20\n",
      "58/58 [==============================] - 3s 48ms/step - loss: 0.3577 - accuracy: 0.9683 - val_loss: 0.5490 - val_accuracy: 0.9323\n",
      "Epoch 15/20\n",
      "58/58 [==============================] - 3s 48ms/step - loss: 0.3408 - accuracy: 0.9754 - val_loss: 0.7084 - val_accuracy: 0.9148\n",
      "Epoch 16/20\n",
      "58/58 [==============================] - 3s 48ms/step - loss: 0.3421 - accuracy: 0.9737 - val_loss: 0.8629 - val_accuracy: 0.9192\n",
      "Epoch 17/20\n",
      "58/58 [==============================] - 3s 48ms/step - loss: 0.3392 - accuracy: 0.9759 - val_loss: 0.6888 - val_accuracy: 0.9170\n",
      "Epoch 18/20\n",
      "58/58 [==============================] - 3s 48ms/step - loss: 0.3508 - accuracy: 0.9748 - val_loss: 0.6687 - val_accuracy: 0.9236\n",
      "Epoch 19/20\n",
      "58/58 [==============================] - 3s 49ms/step - loss: 0.3312 - accuracy: 0.9765 - val_loss: 0.6576 - val_accuracy: 0.9214\n",
      "Epoch 20/20\n",
      "58/58 [==============================] - 3s 48ms/step - loss: 0.3306 - accuracy: 0.9770 - val_loss: 0.6939 - val_accuracy: 0.9279\n"
     ]
    }
   ],
   "source": [
    "paul = model_output(pl_s1,pl_s11)"
   ]
  },
  {
   "cell_type": "code",
   "execution_count": null,
   "metadata": {
    "id": "vtS5ElkooAii"
   },
   "outputs": [],
   "source": [
    "au_loss = {'Matthew_book':matthewbook.history['loss'],'Mark_book':markbook.history['loss'],'Luke_book':lukebook.history['loss'],'John_book':johnbook.history['loss'],\n",
    "           'Paul_book':paul.history['loss'],'James_book':jams.history['loss'],'Jude_book':jude.history['loss'],'Peter_book':peter.history['loss']}\n",
    "na28_loss = DataFrame(au_loss)\n",
    "\n",
    "au_val_loss = {'Matthew_book':matthewbook.history['val_loss'],'Mark_book':markbook.history['val_loss'],'Luke_book':lukebook.history['val_loss'],'John_book':johnbook.history['val_loss'],\n",
    "           'Paul_book':paul.history['val_loss'],'James_book':jams.history['val_loss'],'Jude_book':jude.history['val_loss'],'Peter_book':peter.history['val_loss']}\n",
    "na28_val_loss = DataFrame(au_val_loss)\n",
    "\n",
    "au_accuracy = {'Matthew_book':matthewbook.history['accuracy'],'Mark_book':markbook.history['accuracy'],'Luke_book':lukebook.history['accuracy'],'John_book':johnbook.history['accuracy'],\n",
    "           'Paul_book':paul.history['accuracy'],'James_book':jams.history['accuracy'],'Jude_book':jude.history['accuracy'],'Peter_book':peter.history['accuracy']}\n",
    "na28_accuracy = DataFrame(au_accuracy)\n",
    "\n",
    "au_val_accuracy = {'Matthew_book':matthewbook.history['val_accuracy'],'Mark_book':markbook.history['val_accuracy'],'Luke_book':lukebook.history['val_accuracy'],'John_book':johnbook.history['val_accuracy'],\n",
    "           'Paul_book':paul.history['val_accuracy'],'James_book':jams.history['val_accuracy'],'Jude_book':jude.history['val_accuracy'],'Peter_book':peter.history['val_accuracy']}\n",
    "na28_val_accuracy = DataFrame(au_val_accuracy)"
   ]
  },
  {
   "cell_type": "code",
   "execution_count": null,
   "metadata": {
    "id": "RPz2KfCxtWf5"
   },
   "outputs": [],
   "source": [
    "na28_loss.to_excel('spacy author NA28 LOSS.xlsx',encoding = 'utf-8', index = False)\n",
    "na28_accuracy.to_excel('spacy author NA28 ACCURACY.xlsx',encoding = 'utf-8', index = False)  \n",
    "na28_val_loss.to_excel('spacy author NA28 VALIDATION LOSS.xlsx',encoding = 'utf-8', index = False)  \n",
    "na28_val_accuracy.to_excel('spacy author NA28 VALIDATION ACCURACY.xlsx',encoding = 'utf-8', index = False)   "
   ]
  },
  {
   "cell_type": "code",
   "execution_count": null,
   "metadata": {
    "colab": {
     "base_uri": "https://localhost:8080/",
     "height": 295
    },
    "id": "YMhMwlDktn-n",
    "outputId": "3d87d617-9b8d-4ad1-a58a-9d2c4b4ce3ba"
   },
   "outputs": [
    {
     "data": {
      "image/png": "[encoded data removed]",
      "text/plain": [
       "<Figure size 432x288 with 1 Axes>"
      ]
     },
     "metadata": {
      "needs_background": "light",
      "tags": []
     },
     "output_type": "display_data"
    }
   ],
   "source": [
    "matthewvac = matthewbook.history['val_accuracy']\n",
    "markvac = markbook.history['val_accuracy']\n",
    "lukevac = lukebook.history['val_accuracy']\n",
    "johnvac = johnbook.history['val_accuracy']\n",
    "paulvac = paul.history['val_accuracy']\n",
    "petervac = peter.history['val_accuracy']\n",
    "judevac = jude.history['val_accuracy']\n",
    "jamesvac = jams.history['val_accuracy']\n",
    "\n",
    "epochs = range(1, len(matvac) + 1)\n",
    "\n",
    "plt.plot(epochs, matthewvac, 'b', label='matthew')\n",
    "plt.plot(epochs, markvac, 'r', label='mark')\n",
    "plt.plot(epochs, lukevac, 'y', label='luke')\n",
    "plt.plot(epochs, johnvac, 'g', label='john')\n",
    "plt.plot(epochs, paulvac, 'coral', label='paul')\n",
    "plt.plot(epochs, petervac, 'm', label='peter')\n",
    "plt.plot(epochs, judevac, 'c', label='jude')\n",
    "plt.plot(epochs, jamesvac, 'k', label='james')\n",
    "\n",
    "plt.title('NA28 writing style validation accuracy author')\n",
    "plt.xlabel('Epochs')\n",
    "plt.ylabel('Loss')\n",
    "plt.legend()\n",
    "\n",
    "plt.show()"
   ]
  },
  {
   "cell_type": "markdown",
   "metadata": {
    "id": "pGzZSPwAoBFD"
   },
   "source": [
    "## SBL_version"
   ]
  },
  {
   "cell_type": "code",
   "execution_count": 12,
   "metadata": {
    "id": "jFIjWWq3oBFD"
   },
   "outputs": [],
   "source": [
    "Matthew = df2[df2.BookName == 'Mt']\n",
    "Matthew['Author'] = 'Matthew'\n",
    "Mark = df2[df2.BookName == 'Mk']\n",
    "Mark['Author'] = 'Mark'\n",
    "Luke = df2[df2.BookName == 'Lk']\n",
    "Luke['Author'] = 'Luke'\n",
    "John = df2[df2.BookName == 'Jn']\n",
    "John['Author'] = 'John'\n",
    "Acts = df2[df2.BookName == 'Ac']\n",
    "Acts['Author'] = 'Luke'\n",
    "Luke_Book = pd.concat([Luke,Acts],axis = 0)\n",
    "James = df2[df2.BookName == 'Jas']\n",
    "James['Author'] = 'James'\n",
    "f_Peter = df2[df2.BookName == '1Pe']\n",
    "s_Peter = df2[df2.BookName == '2Pe']\n",
    "f_Peter['Author'] = 'Peter'\n",
    "s_Peter['Author'] = 'Peter'\n",
    "Peter_letter = pd.concat([f_Peter, s_Peter], axis = 0)\n",
    "\n",
    "f_John = df2[df2.BookName == '1Jn']\n",
    "s_John = df2[df2.BookName == '2Jn']\n",
    "t_John = df2[df2.BookName == '3Jn']\n",
    "f_John['Author'] = 'John'\n",
    "s_John['Author'] = 'John'\n",
    "t_John['Author'] = 'John'\n",
    "John_letter = pd.concat([f_John, s_John, t_John], axis = 0)\n",
    "\n",
    "Jude = df2[df2.BookName == 'Jud']\n",
    "Jude['Author'] = 'Jude'\n",
    "Rev = df2[df2.BookName == 'Re']\n",
    "Rev['Author'] = 'John'\n",
    "John_Book = pd.concat([John,John_letter,Rev],axis = 0)"
   ]
  },
  {
   "cell_type": "code",
   "execution_count": 13,
   "metadata": {
    "id": "8Ut4X9yEoBFD"
   },
   "outputs": [],
   "source": [
    "Romans = df2[df2.BookName == 'Ro']\n",
    "Romans['Author'] = 'Paul'\n",
    "f_cor = df2[df2.BookName == '1Co']\n",
    "f_cor['Author'] = 'Paul'\n",
    "s_cor = df2[df2.BookName == '2Co']\n",
    "s_cor['Author'] = 'Paul'\n",
    "Gal = df2[df2.BookName == 'Ga']\n",
    "Gal['Author'] = 'Paul'\n",
    "Eph = df2[df2.BookName == 'Eph']\n",
    "Eph['Author'] = 'Paul'\n",
    "Phi = df2[df2.BookName == 'Php']\n",
    "Phi['Author'] = 'Paul'\n",
    "Col = df2[df2.BookName == 'Col']\n",
    "Col['Author'] = 'Paul'\n",
    "f_the = df2[df2.BookName == '1Th']\n",
    "f_the['Author'] = 'Paul'\n",
    "s_the = df2[df2.BookName == '2Th']\n",
    "s_the['Author'] = 'Paul'\n",
    "f_tim = df2[df2.BookName == '1Ti']\n",
    "f_tim['Author'] = 'Paul'\n",
    "s_tim = df2[df2.BookName == '2Ti']\n",
    "s_tim['Author'] = 'Paul'\n",
    "Titus = df2[df2.BookName == 'Tit']\n",
    "Titus['Author'] = 'Paul'\n",
    "Philemon = df2[df2.BookName == 'Phm']\n",
    "Philemon['Author'] = 'Paul'\n",
    "Paul_letters = pd.concat([Romans,f_cor,s_cor,Gal,Eph,Phi,Col,f_the,s_the,f_tim,s_tim,Titus,Philemon],axis = 0)\n",
    "Heb = df2[df2.BookName == 'Heb']\n",
    "Heb['Author'] = 'Paul?'"
   ]
  },
  {
   "cell_type": "code",
   "execution_count": 14,
   "metadata": {
    "id": "0J3lkr6eoBFD"
   },
   "outputs": [],
   "source": [
    "g1 = cosine_text(Matthew)\n",
    "g2 = cosine_text(Mark)\n",
    "g3 = cosine_text(Luke)\n",
    "g4 = cosine_text(John)\n",
    "acts = cosine_text(Acts)\n",
    "rms = cosine_text(Romans)\n",
    "fcor = cosine_text(f_cor)\n",
    "scor = cosine_text(s_cor)\n",
    "gal = cosine_text(Gal)\n",
    "eph = cosine_text(Eph)\n",
    "phi = cosine_text(Phi)\n",
    "col = cosine_text(Col)\n",
    "fthe = cosine_text(f_the)\n",
    "sthe = cosine_text(s_the)\n",
    "ftim = cosine_text(f_tim)\n",
    "stim = cosine_text(s_tim)\n",
    "titus = cosine_text(Titus)\n",
    "philemon = cosine_text(Philemon)\n",
    "jams = cosine_text(James)\n",
    "fpet = cosine_text(f_Peter)\n",
    "spet = cosine_text(s_Peter)\n",
    "fjohn = cosine_text(f_John)\n",
    "sjohn = cosine_text(s_John)\n",
    "tjohn = cosine_text(t_John.dropna())\n",
    "jud = cosine_text(Jude)\n",
    "rev = cosine_text(Rev)"
   ]
  },
  {
   "cell_type": "code",
   "execution_count": 15,
   "metadata": {
    "id": "t8UAb3aKoBFD"
   },
   "outputs": [],
   "source": [
    "g11 = text_author(Matthew)\n",
    "g21 = text_author(Mark)\n",
    "g31 = text_author(Luke)\n",
    "g41 = text_author(John)\n",
    "acts1 = text_author(Acts)\n",
    "rms1 = text_author(Romans)\n",
    "fcor1 = text_author(f_cor)\n",
    "scor1 = text_author(s_cor)\n",
    "gal1 = text_author(Gal)\n",
    "eph1 = text_author(Eph)\n",
    "phi1 = text_author(Phi)\n",
    "col1 = text_author(Col)\n",
    "fthe1 = text_author(f_the)\n",
    "sthe1 = text_author(s_the)\n",
    "ftim1 = text_author(f_tim)\n",
    "stim1 = text_author(s_tim)\n",
    "titus1 = text_author(Titus)\n",
    "philemon1 = text_author(Philemon)\n",
    "jams1 = text_author(James)\n",
    "fpet1 = text_author(f_Peter)\n",
    "spet1 = text_author(s_Peter)\n",
    "fjohn1 = text_author(f_John)\n",
    "sjohn1 = text_author(s_John)\n",
    "tjohn1 = text_author(t_John.dropna())\n",
    "jud1 = text_author(Jude)\n",
    "rev1 = text_author(Rev)"
   ]
  },
  {
   "cell_type": "code",
   "execution_count": 16,
   "metadata": {
    "colab": {
     "base_uri": "https://localhost:8080/"
    },
    "id": "h2PMDuCDoBFE",
    "outputId": "7c2c329d-c6a5-419b-e63d-0867915b91ab"
   },
   "outputs": [
    {
     "name": "stdout",
     "output_type": "stream",
     "text": [
      "Epoch 1/20\n",
      "35/35 [==============================] - 3s 94ms/step - loss: 2.0253 - accuracy: 0.5493 - val_loss: 0.6721 - val_accuracy: 0.6800\n",
      "Epoch 2/20\n",
      "35/35 [==============================] - 2s 52ms/step - loss: 0.6635 - accuracy: 0.7400 - val_loss: 0.8301 - val_accuracy: 0.2400\n",
      "Epoch 3/20\n",
      "35/35 [==============================] - 2s 51ms/step - loss: 0.5796 - accuracy: 0.7172 - val_loss: 0.5458 - val_accuracy: 0.7745\n",
      "Epoch 4/20\n",
      "35/35 [==============================] - 2s 49ms/step - loss: 0.5863 - accuracy: 0.7308 - val_loss: 0.6008 - val_accuracy: 0.7745\n",
      "Epoch 5/20\n",
      "35/35 [==============================] - 2s 52ms/step - loss: 0.5732 - accuracy: 0.7226 - val_loss: 0.5439 - val_accuracy: 0.7782\n",
      "Epoch 6/20\n",
      "35/35 [==============================] - 2s 50ms/step - loss: 0.5683 - accuracy: 0.7637 - val_loss: 0.5290 - val_accuracy: 0.7745\n",
      "Epoch 7/20\n",
      "35/35 [==============================] - 2s 51ms/step - loss: 0.5928 - accuracy: 0.7719 - val_loss: 0.5614 - val_accuracy: 0.7745\n",
      "Epoch 8/20\n",
      "35/35 [==============================] - 2s 52ms/step - loss: 0.5939 - accuracy: 0.7500 - val_loss: 0.5274 - val_accuracy: 0.7782\n",
      "Epoch 9/20\n",
      "35/35 [==============================] - 2s 49ms/step - loss: 0.6248 - accuracy: 0.7755 - val_loss: 0.5046 - val_accuracy: 0.7782\n",
      "Epoch 10/20\n",
      "35/35 [==============================] - 2s 50ms/step - loss: 0.5363 - accuracy: 0.7628 - val_loss: 0.8682 - val_accuracy: 0.7745\n",
      "Epoch 11/20\n",
      "35/35 [==============================] - 2s 52ms/step - loss: 0.5828 - accuracy: 0.7500 - val_loss: 0.5374 - val_accuracy: 0.7745\n",
      "Epoch 12/20\n",
      "35/35 [==============================] - 2s 50ms/step - loss: 0.5202 - accuracy: 0.7810 - val_loss: 2.3203 - val_accuracy: 0.7745\n",
      "Epoch 13/20\n",
      "35/35 [==============================] - 2s 50ms/step - loss: 0.6111 - accuracy: 0.7673 - val_loss: 0.5027 - val_accuracy: 0.7745\n",
      "Epoch 14/20\n",
      "35/35 [==============================] - 2s 51ms/step - loss: 0.5188 - accuracy: 0.7792 - val_loss: 0.5180 - val_accuracy: 0.7745\n",
      "Epoch 15/20\n",
      "35/35 [==============================] - 2s 51ms/step - loss: 0.5186 - accuracy: 0.7819 - val_loss: 0.5174 - val_accuracy: 0.7782\n",
      "Epoch 16/20\n",
      "35/35 [==============================] - 2s 51ms/step - loss: 0.5276 - accuracy: 0.7783 - val_loss: 0.5205 - val_accuracy: 0.7745\n",
      "Epoch 17/20\n",
      "35/35 [==============================] - 2s 51ms/step - loss: 0.5146 - accuracy: 0.7819 - val_loss: 0.5109 - val_accuracy: 0.7818\n",
      "Epoch 18/20\n",
      "35/35 [==============================] - 2s 51ms/step - loss: 0.5581 - accuracy: 0.7774 - val_loss: 0.5381 - val_accuracy: 0.7782\n",
      "Epoch 19/20\n",
      "35/35 [==============================] - 2s 50ms/step - loss: 0.5522 - accuracy: 0.7819 - val_loss: 0.5826 - val_accuracy: 0.7200\n",
      "Epoch 20/20\n",
      "35/35 [==============================] - 2s 51ms/step - loss: 0.5071 - accuracy: 0.7792 - val_loss: 0.5686 - val_accuracy: 0.7745\n"
     ]
    }
   ],
   "source": [
    "mat = model_output(g1,g11)"
   ]
  },
  {
   "cell_type": "code",
   "execution_count": 17,
   "metadata": {
    "colab": {
     "base_uri": "https://localhost:8080/"
    },
    "id": "0um1M4ypoBFG",
    "outputId": "33b57608-9eef-44d8-f0a6-8679bb795f1a"
   },
   "outputs": [
    {
     "name": "stdout",
     "output_type": "stream",
     "text": [
      "Epoch 1/20\n",
      "25/25 [==============================] - 3s 104ms/step - loss: 0.6281 - accuracy: 0.6859 - val_loss: 0.5938 - val_accuracy: 0.7296\n",
      "Epoch 2/20\n",
      "25/25 [==============================] - 1s 49ms/step - loss: 0.5961 - accuracy: 0.6897 - val_loss: 0.5942 - val_accuracy: 0.7449\n",
      "Epoch 3/20\n",
      "25/25 [==============================] - 1s 50ms/step - loss: 0.5833 - accuracy: 0.7013 - val_loss: 0.5750 - val_accuracy: 0.7245\n",
      "Epoch 4/20\n",
      "25/25 [==============================] - 1s 51ms/step - loss: 0.5844 - accuracy: 0.6859 - val_loss: 0.5676 - val_accuracy: 0.7398\n",
      "Epoch 5/20\n",
      "25/25 [==============================] - 1s 50ms/step - loss: 0.6001 - accuracy: 0.7026 - val_loss: 0.5709 - val_accuracy: 0.7449\n",
      "Epoch 6/20\n",
      "25/25 [==============================] - 1s 50ms/step - loss: 0.5775 - accuracy: 0.7051 - val_loss: 0.7434 - val_accuracy: 0.7194\n",
      "Epoch 7/20\n",
      "25/25 [==============================] - 1s 48ms/step - loss: 0.5668 - accuracy: 0.7013 - val_loss: 0.6089 - val_accuracy: 0.6888\n",
      "Epoch 8/20\n",
      "25/25 [==============================] - 1s 50ms/step - loss: 0.5922 - accuracy: 0.6897 - val_loss: 0.6727 - val_accuracy: 0.7092\n",
      "Epoch 9/20\n",
      "25/25 [==============================] - 1s 50ms/step - loss: 0.6069 - accuracy: 0.7051 - val_loss: 0.6737 - val_accuracy: 0.5510\n",
      "Epoch 10/20\n",
      "25/25 [==============================] - 1s 51ms/step - loss: 0.5599 - accuracy: 0.7038 - val_loss: 0.6329 - val_accuracy: 0.6429\n",
      "Epoch 11/20\n",
      "25/25 [==============================] - 1s 49ms/step - loss: 0.6167 - accuracy: 0.7115 - val_loss: 0.7799 - val_accuracy: 0.7245\n",
      "Epoch 12/20\n",
      "25/25 [==============================] - 1s 49ms/step - loss: 0.5808 - accuracy: 0.6936 - val_loss: 0.8570 - val_accuracy: 0.7296\n",
      "Epoch 13/20\n",
      "25/25 [==============================] - 1s 49ms/step - loss: 0.5809 - accuracy: 0.6974 - val_loss: 0.9466 - val_accuracy: 0.7194\n",
      "Epoch 14/20\n",
      "25/25 [==============================] - 1s 51ms/step - loss: 0.5562 - accuracy: 0.7154 - val_loss: 0.7344 - val_accuracy: 0.7449\n",
      "Epoch 15/20\n",
      "25/25 [==============================] - 1s 50ms/step - loss: 0.5843 - accuracy: 0.7179 - val_loss: 0.7155 - val_accuracy: 0.6276\n",
      "Epoch 16/20\n",
      "25/25 [==============================] - 1s 51ms/step - loss: 0.5572 - accuracy: 0.7090 - val_loss: 0.8248 - val_accuracy: 0.7500\n",
      "Epoch 17/20\n",
      "25/25 [==============================] - 1s 50ms/step - loss: 0.5924 - accuracy: 0.7103 - val_loss: 0.6819 - val_accuracy: 0.7092\n",
      "Epoch 18/20\n",
      "25/25 [==============================] - 1s 49ms/step - loss: 0.5337 - accuracy: 0.7026 - val_loss: 0.6959 - val_accuracy: 0.6684\n",
      "Epoch 19/20\n",
      "25/25 [==============================] - 1s 50ms/step - loss: 0.5480 - accuracy: 0.7077 - val_loss: 0.9736 - val_accuracy: 0.7347\n",
      "Epoch 20/20\n",
      "25/25 [==============================] - 1s 49ms/step - loss: 0.5498 - accuracy: 0.7218 - val_loss: 0.7032 - val_accuracy: 0.6582\n"
     ]
    }
   ],
   "source": [
    "mak = model_output(g2,g21)"
   ]
  },
  {
   "cell_type": "code",
   "execution_count": 18,
   "metadata": {
    "colab": {
     "base_uri": "https://localhost:8080/"
    },
    "id": "_jaOgmUjoBFG",
    "outputId": "b2e8eb04-d120-410e-8423-6f3d62472291"
   },
   "outputs": [
    {
     "name": "stdout",
     "output_type": "stream",
     "text": [
      "Epoch 1/20\n",
      "37/37 [==============================] - 3s 89ms/step - loss: 0.6550 - accuracy: 0.7709 - val_loss: 0.6015 - val_accuracy: 0.7148\n",
      "Epoch 2/20\n",
      "37/37 [==============================] - 2s 51ms/step - loss: 0.5291 - accuracy: 0.7786 - val_loss: 0.5451 - val_accuracy: 0.7904\n",
      "Epoch 3/20\n",
      "37/37 [==============================] - 2s 51ms/step - loss: 0.5274 - accuracy: 0.7812 - val_loss: 0.6186 - val_accuracy: 0.7869\n",
      "Epoch 4/20\n",
      "37/37 [==============================] - 2s 52ms/step - loss: 0.5022 - accuracy: 0.7847 - val_loss: 0.5535 - val_accuracy: 0.7766\n",
      "Epoch 5/20\n",
      "37/37 [==============================] - 2s 51ms/step - loss: 0.4834 - accuracy: 0.7898 - val_loss: 0.5400 - val_accuracy: 0.7629\n",
      "Epoch 6/20\n",
      "37/37 [==============================] - 2s 51ms/step - loss: 0.5122 - accuracy: 0.7864 - val_loss: 0.7426 - val_accuracy: 0.7938\n",
      "Epoch 7/20\n",
      "37/37 [==============================] - 2s 51ms/step - loss: 0.4978 - accuracy: 0.7881 - val_loss: 0.8415 - val_accuracy: 0.7869\n",
      "Epoch 8/20\n",
      "37/37 [==============================] - 2s 51ms/step - loss: 0.4872 - accuracy: 0.7881 - val_loss: 0.7926 - val_accuracy: 0.7938\n",
      "Epoch 9/20\n",
      "37/37 [==============================] - 2s 50ms/step - loss: 0.5120 - accuracy: 0.7916 - val_loss: 0.8013 - val_accuracy: 0.7801\n",
      "Epoch 10/20\n",
      "37/37 [==============================] - 2s 51ms/step - loss: 0.4893 - accuracy: 0.7873 - val_loss: 0.7565 - val_accuracy: 0.7629\n",
      "Epoch 11/20\n",
      "37/37 [==============================] - 2s 51ms/step - loss: 0.4978 - accuracy: 0.7786 - val_loss: 0.5130 - val_accuracy: 0.7732\n",
      "Epoch 12/20\n",
      "37/37 [==============================] - 2s 50ms/step - loss: 0.4558 - accuracy: 0.7959 - val_loss: 0.7840 - val_accuracy: 0.7526\n",
      "Epoch 13/20\n",
      "37/37 [==============================] - 2s 51ms/step - loss: 0.4813 - accuracy: 0.7898 - val_loss: 0.6257 - val_accuracy: 0.7732\n",
      "Epoch 14/20\n",
      "37/37 [==============================] - 2s 52ms/step - loss: 0.4619 - accuracy: 0.8002 - val_loss: 1.1880 - val_accuracy: 0.7973\n",
      "Epoch 15/20\n",
      "37/37 [==============================] - 2s 51ms/step - loss: 0.4326 - accuracy: 0.7984 - val_loss: 0.7607 - val_accuracy: 0.7698\n",
      "Epoch 16/20\n",
      "37/37 [==============================] - 2s 51ms/step - loss: 0.4476 - accuracy: 0.7976 - val_loss: 0.7291 - val_accuracy: 0.7629\n",
      "Epoch 17/20\n",
      "37/37 [==============================] - 2s 50ms/step - loss: 0.4326 - accuracy: 0.8079 - val_loss: 0.8127 - val_accuracy: 0.7732\n",
      "Epoch 18/20\n",
      "37/37 [==============================] - 2s 50ms/step - loss: 0.4345 - accuracy: 0.8002 - val_loss: 0.7029 - val_accuracy: 0.7560\n",
      "Epoch 19/20\n",
      "37/37 [==============================] - 2s 51ms/step - loss: 0.4297 - accuracy: 0.8157 - val_loss: 0.9926 - val_accuracy: 0.7457\n",
      "Epoch 20/20\n",
      "37/37 [==============================] - 2s 52ms/step - loss: 0.4244 - accuracy: 0.8140 - val_loss: 0.8743 - val_accuracy: 0.7595\n"
     ]
    }
   ],
   "source": [
    "luk = model_output(g3,g31)"
   ]
  },
  {
   "cell_type": "code",
   "execution_count": 19,
   "metadata": {
    "colab": {
     "base_uri": "https://localhost:8080/"
    },
    "id": "fWQBC7eZoBFH",
    "outputId": "a71e7f06-3522-4ad6-cd4a-fac9bb56f62f"
   },
   "outputs": [
    {
     "name": "stdout",
     "output_type": "stream",
     "text": [
      "Epoch 1/20\n",
      "30/30 [==============================] - 3s 97ms/step - loss: 1.0019 - accuracy: 0.7380 - val_loss: 0.7722 - val_accuracy: 0.7564\n",
      "Epoch 2/20\n",
      "30/30 [==============================] - 1s 50ms/step - loss: 0.8076 - accuracy: 0.7572 - val_loss: 1.0717 - val_accuracy: 0.7564\n",
      "Epoch 3/20\n",
      "30/30 [==============================] - 2s 50ms/step - loss: 0.6530 - accuracy: 0.7722 - val_loss: 1.1657 - val_accuracy: 0.7308\n",
      "Epoch 4/20\n",
      "30/30 [==============================] - 1s 50ms/step - loss: 0.6525 - accuracy: 0.7850 - val_loss: 0.5958 - val_accuracy: 0.6709\n",
      "Epoch 5/20\n",
      "30/30 [==============================] - 2s 53ms/step - loss: 0.5827 - accuracy: 0.7797 - val_loss: 0.7811 - val_accuracy: 0.7308\n",
      "Epoch 6/20\n",
      "30/30 [==============================] - 2s 52ms/step - loss: 0.5491 - accuracy: 0.7829 - val_loss: 1.1992 - val_accuracy: 0.7308\n",
      "Epoch 7/20\n",
      "30/30 [==============================] - 2s 52ms/step - loss: 0.5397 - accuracy: 0.7925 - val_loss: 1.0675 - val_accuracy: 0.7564\n",
      "Epoch 8/20\n",
      "30/30 [==============================] - 2s 51ms/step - loss: 0.5284 - accuracy: 0.8000 - val_loss: 1.0663 - val_accuracy: 0.7393\n",
      "Epoch 9/20\n",
      "30/30 [==============================] - 2s 51ms/step - loss: 0.5044 - accuracy: 0.7947 - val_loss: 1.1176 - val_accuracy: 0.7350\n",
      "Epoch 10/20\n",
      "30/30 [==============================] - 2s 51ms/step - loss: 0.5163 - accuracy: 0.8171 - val_loss: 1.4432 - val_accuracy: 0.6880\n",
      "Epoch 11/20\n",
      "30/30 [==============================] - 2s 51ms/step - loss: 0.5158 - accuracy: 0.8374 - val_loss: 1.5371 - val_accuracy: 0.6923\n",
      "Epoch 12/20\n",
      "30/30 [==============================] - 2s 51ms/step - loss: 0.4951 - accuracy: 0.8160 - val_loss: 1.4925 - val_accuracy: 0.7137\n",
      "Epoch 13/20\n",
      "30/30 [==============================] - 1s 49ms/step - loss: 0.4161 - accuracy: 0.8289 - val_loss: 1.5026 - val_accuracy: 0.7137\n",
      "Epoch 14/20\n",
      "30/30 [==============================] - 2s 51ms/step - loss: 0.4609 - accuracy: 0.8225 - val_loss: 1.2461 - val_accuracy: 0.7094\n",
      "Epoch 15/20\n",
      "30/30 [==============================] - 1s 49ms/step - loss: 0.4215 - accuracy: 0.8267 - val_loss: 1.3531 - val_accuracy: 0.7137\n",
      "Epoch 16/20\n",
      "30/30 [==============================] - 2s 50ms/step - loss: 0.3991 - accuracy: 0.8364 - val_loss: 1.5970 - val_accuracy: 0.7179\n",
      "Epoch 17/20\n",
      "30/30 [==============================] - 1s 50ms/step - loss: 0.3607 - accuracy: 0.8599 - val_loss: 1.7829 - val_accuracy: 0.6752\n",
      "Epoch 18/20\n",
      "30/30 [==============================] - 2s 51ms/step - loss: 0.3946 - accuracy: 0.8545 - val_loss: 2.0468 - val_accuracy: 0.6795\n",
      "Epoch 19/20\n",
      "30/30 [==============================] - 2s 51ms/step - loss: 0.4112 - accuracy: 0.8535 - val_loss: 2.0873 - val_accuracy: 0.7009\n",
      "Epoch 20/20\n",
      "30/30 [==============================] - 1s 49ms/step - loss: 0.3481 - accuracy: 0.8684 - val_loss: 2.3783 - val_accuracy: 0.7308\n"
     ]
    }
   ],
   "source": [
    "joh = model_output(g4,g41)"
   ]
  },
  {
   "cell_type": "code",
   "execution_count": 20,
   "metadata": {
    "colab": {
     "base_uri": "https://localhost:8080/"
    },
    "id": "z7IaqIEfoBFH",
    "outputId": "a23ef9e7-9f3b-4cc5-c37d-cd8c737fb1db"
   },
   "outputs": [
    {
     "name": "stdout",
     "output_type": "stream",
     "text": [
      "Epoch 1/20\n",
      "33/33 [==============================] - 3s 94ms/step - loss: 1.1700 - accuracy: 0.7318 - val_loss: 0.8892 - val_accuracy: 0.7778\n",
      "Epoch 2/20\n",
      "33/33 [==============================] - 2s 50ms/step - loss: 0.7833 - accuracy: 0.7605 - val_loss: 0.7448 - val_accuracy: 0.7701\n",
      "Epoch 3/20\n",
      "33/33 [==============================] - 2s 51ms/step - loss: 0.7251 - accuracy: 0.7529 - val_loss: 0.6716 - val_accuracy: 0.7893\n",
      "Epoch 4/20\n",
      "33/33 [==============================] - 2s 50ms/step - loss: 0.6596 - accuracy: 0.7874 - val_loss: 0.6705 - val_accuracy: 0.7739\n",
      "Epoch 5/20\n",
      "33/33 [==============================] - 2s 51ms/step - loss: 0.6699 - accuracy: 0.7969 - val_loss: 0.6962 - val_accuracy: 0.7701\n",
      "Epoch 6/20\n",
      "33/33 [==============================] - 2s 49ms/step - loss: 0.5884 - accuracy: 0.7816 - val_loss: 0.6164 - val_accuracy: 0.7816\n",
      "Epoch 7/20\n",
      "33/33 [==============================] - 2s 50ms/step - loss: 0.4835 - accuracy: 0.8027 - val_loss: 0.7094 - val_accuracy: 0.7701\n",
      "Epoch 8/20\n",
      "33/33 [==============================] - 2s 51ms/step - loss: 0.4726 - accuracy: 0.8190 - val_loss: 0.9941 - val_accuracy: 0.7701\n",
      "Epoch 9/20\n",
      "33/33 [==============================] - 2s 52ms/step - loss: 0.4770 - accuracy: 0.8113 - val_loss: 0.6637 - val_accuracy: 0.7739\n",
      "Epoch 10/20\n",
      "33/33 [==============================] - 2s 51ms/step - loss: 0.4521 - accuracy: 0.8276 - val_loss: 0.8176 - val_accuracy: 0.7548\n",
      "Epoch 11/20\n",
      "33/33 [==============================] - 2s 49ms/step - loss: 0.4443 - accuracy: 0.8429 - val_loss: 0.8395 - val_accuracy: 0.7625\n",
      "Epoch 12/20\n",
      "33/33 [==============================] - 2s 50ms/step - loss: 0.4375 - accuracy: 0.8582 - val_loss: 0.9737 - val_accuracy: 0.7739\n",
      "Epoch 13/20\n",
      "33/33 [==============================] - 2s 51ms/step - loss: 0.3722 - accuracy: 0.8669 - val_loss: 1.1990 - val_accuracy: 0.7280\n",
      "Epoch 14/20\n",
      "33/33 [==============================] - 2s 50ms/step - loss: 0.3592 - accuracy: 0.8755 - val_loss: 1.2396 - val_accuracy: 0.7241\n",
      "Epoch 15/20\n",
      "33/33 [==============================] - 2s 51ms/step - loss: 0.3671 - accuracy: 0.8793 - val_loss: 1.4555 - val_accuracy: 0.7165\n",
      "Epoch 16/20\n",
      "33/33 [==============================] - 2s 51ms/step - loss: 0.3644 - accuracy: 0.8956 - val_loss: 2.0086 - val_accuracy: 0.7778\n",
      "Epoch 17/20\n",
      "33/33 [==============================] - 2s 50ms/step - loss: 0.3018 - accuracy: 0.9148 - val_loss: 1.7598 - val_accuracy: 0.7778\n",
      "Epoch 18/20\n",
      "33/33 [==============================] - 2s 51ms/step - loss: 0.3036 - accuracy: 0.9195 - val_loss: 1.8608 - val_accuracy: 0.7126\n",
      "Epoch 19/20\n",
      "33/33 [==============================] - 2s 50ms/step - loss: 0.2451 - accuracy: 0.9291 - val_loss: 1.9479 - val_accuracy: 0.7625\n",
      "Epoch 20/20\n",
      "33/33 [==============================] - 2s 49ms/step - loss: 0.2779 - accuracy: 0.9272 - val_loss: 2.0990 - val_accuracy: 0.7280\n"
     ]
    }
   ],
   "source": [
    "act = model_output(acts,acts1)"
   ]
  },
  {
   "cell_type": "code",
   "execution_count": 21,
   "metadata": {
    "colab": {
     "base_uri": "https://localhost:8080/"
    },
    "id": "bzb4GZ90oBFH",
    "outputId": "4b3d2670-1e7c-4933-f11c-5b4dd4af14ea"
   },
   "outputs": [
    {
     "name": "stdout",
     "output_type": "stream",
     "text": [
      "Epoch 1/20\n",
      "19/19 [==============================] - 3s 145ms/step - loss: 2.0086 - accuracy: 0.6570 - val_loss: 1.7266 - val_accuracy: 0.6667\n",
      "Epoch 2/20\n",
      "19/19 [==============================] - 1s 48ms/step - loss: 1.7952 - accuracy: 0.6587 - val_loss: 1.7976 - val_accuracy: 0.6531\n",
      "Epoch 3/20\n",
      "19/19 [==============================] - 1s 49ms/step - loss: 1.6397 - accuracy: 0.6758 - val_loss: 1.8440 - val_accuracy: 0.6735\n",
      "Epoch 4/20\n",
      "19/19 [==============================] - 1s 50ms/step - loss: 1.2859 - accuracy: 0.6997 - val_loss: 1.1672 - val_accuracy: 0.6463\n",
      "Epoch 5/20\n",
      "19/19 [==============================] - 1s 49ms/step - loss: 0.9302 - accuracy: 0.7355 - val_loss: 1.1022 - val_accuracy: 0.6463\n",
      "Epoch 6/20\n",
      "19/19 [==============================] - 1s 50ms/step - loss: 0.9134 - accuracy: 0.7491 - val_loss: 1.2530 - val_accuracy: 0.6531\n",
      "Epoch 7/20\n",
      "19/19 [==============================] - 1s 50ms/step - loss: 0.7894 - accuracy: 0.7816 - val_loss: 1.1561 - val_accuracy: 0.6259\n",
      "Epoch 8/20\n",
      "19/19 [==============================] - 1s 47ms/step - loss: 0.7458 - accuracy: 0.8038 - val_loss: 1.0880 - val_accuracy: 0.6327\n",
      "Epoch 9/20\n",
      "19/19 [==============================] - 1s 48ms/step - loss: 0.7176 - accuracy: 0.8089 - val_loss: 1.1341 - val_accuracy: 0.6259\n",
      "Epoch 10/20\n",
      "19/19 [==============================] - 1s 52ms/step - loss: 0.6816 - accuracy: 0.8208 - val_loss: 1.4063 - val_accuracy: 0.6395\n",
      "Epoch 11/20\n",
      "19/19 [==============================] - 1s 47ms/step - loss: 0.6532 - accuracy: 0.8430 - val_loss: 1.4158 - val_accuracy: 0.6463\n",
      "Epoch 12/20\n",
      "19/19 [==============================] - 1s 51ms/step - loss: 0.6935 - accuracy: 0.8532 - val_loss: 1.7504 - val_accuracy: 0.6735\n",
      "Epoch 13/20\n",
      "19/19 [==============================] - 1s 49ms/step - loss: 0.6327 - accuracy: 0.8703 - val_loss: 1.9959 - val_accuracy: 0.6190\n",
      "Epoch 14/20\n",
      "19/19 [==============================] - 1s 49ms/step - loss: 0.6249 - accuracy: 0.8993 - val_loss: 1.9898 - val_accuracy: 0.6803\n",
      "Epoch 15/20\n",
      "19/19 [==============================] - 1s 51ms/step - loss: 0.5918 - accuracy: 0.8993 - val_loss: 1.8633 - val_accuracy: 0.7075\n",
      "Epoch 16/20\n",
      "19/19 [==============================] - 1s 48ms/step - loss: 0.5453 - accuracy: 0.9164 - val_loss: 2.0173 - val_accuracy: 0.7211\n",
      "Epoch 17/20\n",
      "19/19 [==============================] - 1s 52ms/step - loss: 0.5494 - accuracy: 0.9215 - val_loss: 1.7744 - val_accuracy: 0.6054\n",
      "Epoch 18/20\n",
      "19/19 [==============================] - 1s 51ms/step - loss: 0.5578 - accuracy: 0.9300 - val_loss: 1.9228 - val_accuracy: 0.6599\n",
      "Epoch 19/20\n",
      "19/19 [==============================] - 1s 49ms/step - loss: 0.6482 - accuracy: 0.9113 - val_loss: 1.8348 - val_accuracy: 0.6735\n",
      "Epoch 20/20\n",
      "19/19 [==============================] - 1s 52ms/step - loss: 0.4159 - accuracy: 0.9488 - val_loss: 2.0972 - val_accuracy: 0.6939\n"
     ]
    }
   ],
   "source": [
    "rom = model_output(rms,rms1)"
   ]
  },
  {
   "cell_type": "code",
   "execution_count": 22,
   "metadata": {
    "colab": {
     "base_uri": "https://localhost:8080/"
    },
    "id": "y2IC_d46oBFH",
    "outputId": "3bbeb077-4e7b-4fd3-feca-632f9bc3bb49"
   },
   "outputs": [
    {
     "name": "stdout",
     "output_type": "stream",
     "text": [
      "Epoch 1/20\n",
      "19/19 [==============================] - 2s 125ms/step - loss: 2.2175 - accuracy: 0.6943 - val_loss: 0.9366 - val_accuracy: 0.7365\n",
      "Epoch 2/20\n",
      "19/19 [==============================] - 1s 47ms/step - loss: 1.1422 - accuracy: 0.7652 - val_loss: 0.7858 - val_accuracy: 0.7703\n",
      "Epoch 3/20\n",
      "19/19 [==============================] - 1s 48ms/step - loss: 0.8851 - accuracy: 0.8041 - val_loss: 0.6331 - val_accuracy: 0.7635\n",
      "Epoch 4/20\n",
      "19/19 [==============================] - 1s 49ms/step - loss: 0.7817 - accuracy: 0.8361 - val_loss: 0.6969 - val_accuracy: 0.7703\n",
      "Epoch 5/20\n",
      "19/19 [==============================] - 1s 47ms/step - loss: 0.6760 - accuracy: 0.8564 - val_loss: 0.7131 - val_accuracy: 0.7703\n",
      "Epoch 6/20\n",
      "19/19 [==============================] - 1s 48ms/step - loss: 0.6064 - accuracy: 0.8851 - val_loss: 1.1503 - val_accuracy: 0.7635\n",
      "Epoch 7/20\n",
      "19/19 [==============================] - 1s 50ms/step - loss: 0.6049 - accuracy: 0.9003 - val_loss: 1.3756 - val_accuracy: 0.7432\n",
      "Epoch 8/20\n",
      "19/19 [==============================] - 1s 47ms/step - loss: 0.5815 - accuracy: 0.9003 - val_loss: 1.3182 - val_accuracy: 0.7297\n",
      "Epoch 9/20\n",
      "19/19 [==============================] - 1s 47ms/step - loss: 0.5536 - accuracy: 0.9257 - val_loss: 1.3517 - val_accuracy: 0.7432\n",
      "Epoch 10/20\n",
      "19/19 [==============================] - 1s 48ms/step - loss: 0.5354 - accuracy: 0.9358 - val_loss: 1.1399 - val_accuracy: 0.7838\n",
      "Epoch 11/20\n",
      "19/19 [==============================] - 1s 48ms/step - loss: 0.5008 - accuracy: 0.9409 - val_loss: 1.5994 - val_accuracy: 0.7095\n",
      "Epoch 12/20\n",
      "19/19 [==============================] - 1s 47ms/step - loss: 0.4765 - accuracy: 0.9476 - val_loss: 2.5004 - val_accuracy: 0.6892\n",
      "Epoch 13/20\n",
      "19/19 [==============================] - 1s 47ms/step - loss: 0.4620 - accuracy: 0.9561 - val_loss: 1.9862 - val_accuracy: 0.7297\n",
      "Epoch 14/20\n",
      "19/19 [==============================] - 1s 47ms/step - loss: 0.4544 - accuracy: 0.9578 - val_loss: 2.6078 - val_accuracy: 0.6892\n",
      "Epoch 15/20\n",
      "19/19 [==============================] - 1s 46ms/step - loss: 0.4168 - accuracy: 0.9696 - val_loss: 2.2234 - val_accuracy: 0.7432\n",
      "Epoch 16/20\n",
      "19/19 [==============================] - 1s 47ms/step - loss: 0.4296 - accuracy: 0.9595 - val_loss: 1.9936 - val_accuracy: 0.7500\n",
      "Epoch 17/20\n",
      "19/19 [==============================] - 1s 47ms/step - loss: 0.4096 - accuracy: 0.9696 - val_loss: 2.6588 - val_accuracy: 0.7095\n",
      "Epoch 18/20\n",
      "19/19 [==============================] - 1s 48ms/step - loss: 0.3740 - accuracy: 0.9747 - val_loss: 1.7656 - val_accuracy: 0.7500\n",
      "Epoch 19/20\n",
      "19/19 [==============================] - 1s 49ms/step - loss: 0.3764 - accuracy: 0.9730 - val_loss: 2.8850 - val_accuracy: 0.7027\n",
      "Epoch 20/20\n",
      "19/19 [==============================] - 1s 49ms/step - loss: 0.3830 - accuracy: 0.9713 - val_loss: 2.0543 - val_accuracy: 0.7230\n"
     ]
    }
   ],
   "source": [
    "fcr = model_output(fcor,fcor1)"
   ]
  },
  {
   "cell_type": "code",
   "execution_count": 23,
   "metadata": {
    "colab": {
     "base_uri": "https://localhost:8080/"
    },
    "id": "O6snr4_poBFI",
    "outputId": "34a11a8a-eec0-4bfd-bf89-1f38bcd393db"
   },
   "outputs": [
    {
     "name": "stdout",
     "output_type": "stream",
     "text": [
      "Epoch 1/20\n",
      "14/14 [==============================] - 2s 150ms/step - loss: 2.4316 - accuracy: 0.7092 - val_loss: 1.6284 - val_accuracy: 0.7500\n",
      "Epoch 2/20\n",
      "14/14 [==============================] - 1s 49ms/step - loss: 1.7504 - accuracy: 0.7987 - val_loss: 1.6140 - val_accuracy: 0.7143\n",
      "Epoch 3/20\n",
      "14/14 [==============================] - 1s 50ms/step - loss: 1.4268 - accuracy: 0.7830 - val_loss: 1.9566 - val_accuracy: 0.8036\n",
      "Epoch 4/20\n",
      "14/14 [==============================] - 1s 48ms/step - loss: 1.2355 - accuracy: 0.8523 - val_loss: 1.6708 - val_accuracy: 0.7768\n",
      "Epoch 5/20\n",
      "14/14 [==============================] - 1s 49ms/step - loss: 1.0963 - accuracy: 0.8814 - val_loss: 1.6623 - val_accuracy: 0.7589\n",
      "Epoch 6/20\n",
      "14/14 [==============================] - 1s 48ms/step - loss: 0.9652 - accuracy: 0.8993 - val_loss: 1.7275 - val_accuracy: 0.7768\n",
      "Epoch 7/20\n",
      "14/14 [==============================] - 1s 48ms/step - loss: 0.9715 - accuracy: 0.9172 - val_loss: 1.8537 - val_accuracy: 0.7768\n",
      "Epoch 8/20\n",
      "14/14 [==============================] - 1s 47ms/step - loss: 0.9638 - accuracy: 0.9083 - val_loss: 1.9963 - val_accuracy: 0.7768\n",
      "Epoch 9/20\n",
      "14/14 [==============================] - 1s 46ms/step - loss: 0.9727 - accuracy: 0.9150 - val_loss: 1.8828 - val_accuracy: 0.7857\n",
      "Epoch 10/20\n",
      "14/14 [==============================] - 1s 49ms/step - loss: 0.8686 - accuracy: 0.9329 - val_loss: 1.8297 - val_accuracy: 0.7232\n",
      "Epoch 11/20\n",
      "14/14 [==============================] - 1s 49ms/step - loss: 0.7535 - accuracy: 0.9485 - val_loss: 1.9975 - val_accuracy: 0.7500\n",
      "Epoch 12/20\n",
      "14/14 [==============================] - 1s 47ms/step - loss: 0.7652 - accuracy: 0.9374 - val_loss: 1.9417 - val_accuracy: 0.7589\n",
      "Epoch 13/20\n",
      "14/14 [==============================] - 1s 49ms/step - loss: 0.7342 - accuracy: 0.9530 - val_loss: 2.0400 - val_accuracy: 0.7411\n",
      "Epoch 14/20\n",
      "14/14 [==============================] - 1s 50ms/step - loss: 0.7048 - accuracy: 0.9508 - val_loss: 1.7387 - val_accuracy: 0.7679\n",
      "Epoch 15/20\n",
      "14/14 [==============================] - 1s 50ms/step - loss: 0.6815 - accuracy: 0.9508 - val_loss: 1.7726 - val_accuracy: 0.7679\n",
      "Epoch 16/20\n",
      "14/14 [==============================] - 1s 49ms/step - loss: 0.5950 - accuracy: 0.9441 - val_loss: 1.5164 - val_accuracy: 0.7411\n",
      "Epoch 17/20\n",
      "14/14 [==============================] - 1s 48ms/step - loss: 0.5953 - accuracy: 0.9553 - val_loss: 1.7016 - val_accuracy: 0.7589\n",
      "Epoch 18/20\n",
      "14/14 [==============================] - 1s 51ms/step - loss: 0.5929 - accuracy: 0.9597 - val_loss: 1.7925 - val_accuracy: 0.7321\n",
      "Epoch 19/20\n",
      "14/14 [==============================] - 1s 49ms/step - loss: 0.5293 - accuracy: 0.9620 - val_loss: 2.3613 - val_accuracy: 0.7054\n",
      "Epoch 20/20\n",
      "14/14 [==============================] - 1s 47ms/step - loss: 0.5776 - accuracy: 0.9553 - val_loss: 1.9996 - val_accuracy: 0.6786\n"
     ]
    }
   ],
   "source": [
    "scr = model_output(scor,scor1)"
   ]
  },
  {
   "cell_type": "code",
   "execution_count": 24,
   "metadata": {
    "colab": {
     "base_uri": "https://localhost:8080/"
    },
    "id": "l1ovp8SOoBFI",
    "outputId": "5ceda4ba-9eae-4525-87ae-c0f353082bdd"
   },
   "outputs": [
    {
     "name": "stdout",
     "output_type": "stream",
     "text": [
      "Epoch 1/20\n",
      "12/12 [==============================] - 2s 165ms/step - loss: 1.8908 - accuracy: 0.7784 - val_loss: 1.9159 - val_accuracy: 0.7363\n",
      "Epoch 2/20\n",
      "12/12 [==============================] - 1s 49ms/step - loss: 1.5505 - accuracy: 0.8421 - val_loss: 1.8363 - val_accuracy: 0.8132\n",
      "Epoch 3/20\n",
      "12/12 [==============================] - 1s 46ms/step - loss: 1.4725 - accuracy: 0.8837 - val_loss: 1.9982 - val_accuracy: 0.8132\n",
      "Epoch 4/20\n",
      "12/12 [==============================] - 1s 50ms/step - loss: 1.5366 - accuracy: 0.8726 - val_loss: 2.1291 - val_accuracy: 0.8132\n",
      "Epoch 5/20\n",
      "12/12 [==============================] - 1s 47ms/step - loss: 1.4389 - accuracy: 0.8975 - val_loss: 2.0082 - val_accuracy: 0.8132\n",
      "Epoch 6/20\n",
      "12/12 [==============================] - 1s 47ms/step - loss: 1.4191 - accuracy: 0.9058 - val_loss: 1.8884 - val_accuracy: 0.8022\n",
      "Epoch 7/20\n",
      "12/12 [==============================] - 1s 49ms/step - loss: 1.4154 - accuracy: 0.9086 - val_loss: 2.1661 - val_accuracy: 0.8132\n",
      "Epoch 8/20\n",
      "12/12 [==============================] - 1s 48ms/step - loss: 1.3786 - accuracy: 0.9086 - val_loss: 1.6432 - val_accuracy: 0.7802\n",
      "Epoch 9/20\n",
      "12/12 [==============================] - 1s 48ms/step - loss: 1.3196 - accuracy: 0.8864 - val_loss: 1.3397 - val_accuracy: 0.8132\n",
      "Epoch 10/20\n",
      "12/12 [==============================] - 1s 47ms/step - loss: 1.2948 - accuracy: 0.9086 - val_loss: 1.3615 - val_accuracy: 0.8352\n",
      "Epoch 11/20\n",
      "12/12 [==============================] - 1s 48ms/step - loss: 1.2814 - accuracy: 0.9169 - val_loss: 1.3682 - val_accuracy: 0.8352\n",
      "Epoch 12/20\n",
      "12/12 [==============================] - 1s 48ms/step - loss: 1.2106 - accuracy: 0.9141 - val_loss: 1.6878 - val_accuracy: 0.8462\n",
      "Epoch 13/20\n",
      "12/12 [==============================] - 1s 50ms/step - loss: 1.2414 - accuracy: 0.9169 - val_loss: 2.1332 - val_accuracy: 0.8352\n",
      "Epoch 14/20\n",
      "12/12 [==============================] - 1s 46ms/step - loss: 1.2118 - accuracy: 0.9169 - val_loss: 2.0285 - val_accuracy: 0.8242\n",
      "Epoch 15/20\n",
      "12/12 [==============================] - 1s 48ms/step - loss: 1.2014 - accuracy: 0.9197 - val_loss: 1.8808 - val_accuracy: 0.8242\n",
      "Epoch 16/20\n",
      "12/12 [==============================] - 1s 48ms/step - loss: 1.1905 - accuracy: 0.9086 - val_loss: 1.8975 - val_accuracy: 0.8132\n",
      "Epoch 17/20\n",
      "12/12 [==============================] - 1s 48ms/step - loss: 1.0111 - accuracy: 0.9280 - val_loss: 1.9144 - val_accuracy: 0.8022\n",
      "Epoch 18/20\n",
      "12/12 [==============================] - 1s 47ms/step - loss: 0.9864 - accuracy: 0.9335 - val_loss: 2.0593 - val_accuracy: 0.7802\n",
      "Epoch 19/20\n",
      "12/12 [==============================] - 1s 45ms/step - loss: 0.9823 - accuracy: 0.9363 - val_loss: 1.7241 - val_accuracy: 0.8132\n",
      "Epoch 20/20\n",
      "12/12 [==============================] - 1s 49ms/step - loss: 0.9851 - accuracy: 0.9363 - val_loss: 1.7128 - val_accuracy: 0.8242\n"
     ]
    }
   ],
   "source": [
    "glt = model_output(gal,gal1)"
   ]
  },
  {
   "cell_type": "code",
   "execution_count": 25,
   "metadata": {
    "colab": {
     "base_uri": "https://localhost:8080/"
    },
    "id": "nmBwK9c-oBFI",
    "outputId": "90cc7b35-58f8-461c-cb25-6035cb68f162"
   },
   "outputs": [
    {
     "name": "stdout",
     "output_type": "stream",
     "text": [
      "Epoch 1/20\n",
      "12/12 [==============================] - 2s 167ms/step - loss: 1.5418 - accuracy: 0.8279 - val_loss: 1.2762 - val_accuracy: 0.8804\n",
      "Epoch 2/20\n",
      "12/12 [==============================] - 1s 48ms/step - loss: 1.1590 - accuracy: 0.8825 - val_loss: 1.4002 - val_accuracy: 0.9022\n",
      "Epoch 3/20\n",
      "12/12 [==============================] - 1s 50ms/step - loss: 1.0879 - accuracy: 0.9098 - val_loss: 1.3835 - val_accuracy: 0.9022\n",
      "Epoch 4/20\n",
      "12/12 [==============================] - 1s 49ms/step - loss: 1.0048 - accuracy: 0.9180 - val_loss: 1.3888 - val_accuracy: 0.9130\n",
      "Epoch 5/20\n",
      "12/12 [==============================] - 1s 47ms/step - loss: 0.9995 - accuracy: 0.9290 - val_loss: 1.9201 - val_accuracy: 0.8370\n",
      "Epoch 6/20\n",
      "12/12 [==============================] - 1s 49ms/step - loss: 1.0635 - accuracy: 0.9071 - val_loss: 1.2545 - val_accuracy: 0.9022\n",
      "Epoch 7/20\n",
      "12/12 [==============================] - 1s 47ms/step - loss: 0.9031 - accuracy: 0.9372 - val_loss: 1.2333 - val_accuracy: 0.8913\n",
      "Epoch 8/20\n",
      "12/12 [==============================] - 1s 48ms/step - loss: 0.8876 - accuracy: 0.9426 - val_loss: 1.2902 - val_accuracy: 0.8587\n",
      "Epoch 9/20\n",
      "12/12 [==============================] - 1s 48ms/step - loss: 0.9128 - accuracy: 0.9317 - val_loss: 1.7627 - val_accuracy: 0.8587\n",
      "Epoch 10/20\n",
      "12/12 [==============================] - 1s 49ms/step - loss: 0.9784 - accuracy: 0.9126 - val_loss: 1.4530 - val_accuracy: 0.8696\n",
      "Epoch 11/20\n",
      "12/12 [==============================] - 1s 48ms/step - loss: 0.9337 - accuracy: 0.9399 - val_loss: 1.4166 - val_accuracy: 0.8804\n",
      "Epoch 12/20\n",
      "12/12 [==============================] - 1s 47ms/step - loss: 0.8915 - accuracy: 0.9399 - val_loss: 1.2567 - val_accuracy: 0.9022\n",
      "Epoch 13/20\n",
      "12/12 [==============================] - 1s 46ms/step - loss: 0.8065 - accuracy: 0.9344 - val_loss: 1.1515 - val_accuracy: 0.8696\n",
      "Epoch 14/20\n",
      "12/12 [==============================] - 1s 46ms/step - loss: 0.6711 - accuracy: 0.9454 - val_loss: 1.1067 - val_accuracy: 0.8804\n",
      "Epoch 15/20\n",
      "12/12 [==============================] - 1s 46ms/step - loss: 0.6350 - accuracy: 0.9590 - val_loss: 1.1063 - val_accuracy: 0.8696\n",
      "Epoch 16/20\n",
      "12/12 [==============================] - 1s 51ms/step - loss: 0.6319 - accuracy: 0.9590 - val_loss: 1.1014 - val_accuracy: 0.8804\n",
      "Epoch 17/20\n",
      "12/12 [==============================] - 1s 47ms/step - loss: 0.6308 - accuracy: 0.9590 - val_loss: 1.1052 - val_accuracy: 0.8804\n",
      "Epoch 18/20\n",
      "12/12 [==============================] - 1s 47ms/step - loss: 0.6308 - accuracy: 0.9590 - val_loss: 1.1005 - val_accuracy: 0.8804\n",
      "Epoch 19/20\n",
      "12/12 [==============================] - 1s 47ms/step - loss: 0.6385 - accuracy: 0.9563 - val_loss: 0.9620 - val_accuracy: 0.8696\n",
      "Epoch 20/20\n",
      "12/12 [==============================] - 1s 48ms/step - loss: 0.5879 - accuracy: 0.9426 - val_loss: 1.0021 - val_accuracy: 0.8696\n"
     ]
    }
   ],
   "source": [
    "ept = model_output(eph,eph1)"
   ]
  },
  {
   "cell_type": "code",
   "execution_count": 26,
   "metadata": {
    "colab": {
     "base_uri": "https://localhost:8080/"
    },
    "id": "_Lk3i6u0oBFJ",
    "outputId": "958dee1b-bed3-4e07-d31d-7a13dbdb8fca"
   },
   "outputs": [
    {
     "name": "stdout",
     "output_type": "stream",
     "text": [
      "Epoch 1/20\n",
      "11/11 [==============================] - 2s 171ms/step - loss: 1.4761 - accuracy: 0.8862 - val_loss: 1.8065 - val_accuracy: 0.8049\n",
      "Epoch 2/20\n",
      "11/11 [==============================] - 1s 46ms/step - loss: 1.2657 - accuracy: 0.8738 - val_loss: 1.5758 - val_accuracy: 0.7927\n",
      "Epoch 3/20\n",
      "11/11 [==============================] - 0s 45ms/step - loss: 1.1283 - accuracy: 0.9138 - val_loss: 1.8212 - val_accuracy: 0.8171\n",
      "Epoch 4/20\n",
      "11/11 [==============================] - 1s 46ms/step - loss: 0.9820 - accuracy: 0.9231 - val_loss: 1.6708 - val_accuracy: 0.8049\n",
      "Epoch 5/20\n",
      "11/11 [==============================] - 0s 45ms/step - loss: 0.8794 - accuracy: 0.9354 - val_loss: 1.4800 - val_accuracy: 0.8415\n",
      "Epoch 6/20\n",
      "11/11 [==============================] - 1s 48ms/step - loss: 0.8625 - accuracy: 0.9415 - val_loss: 1.6336 - val_accuracy: 0.8415\n",
      "Epoch 7/20\n",
      "11/11 [==============================] - 1s 46ms/step - loss: 0.8537 - accuracy: 0.9446 - val_loss: 1.6481 - val_accuracy: 0.8049\n",
      "Epoch 8/20\n",
      "11/11 [==============================] - 1s 49ms/step - loss: 0.8532 - accuracy: 0.9446 - val_loss: 1.6481 - val_accuracy: 0.8049\n",
      "Epoch 9/20\n",
      "11/11 [==============================] - 1s 46ms/step - loss: 0.8532 - accuracy: 0.9446 - val_loss: 1.6481 - val_accuracy: 0.8049\n",
      "Epoch 10/20\n",
      "11/11 [==============================] - 1s 48ms/step - loss: 0.8532 - accuracy: 0.9446 - val_loss: 1.6481 - val_accuracy: 0.8049\n",
      "Epoch 11/20\n",
      "11/11 [==============================] - 1s 49ms/step - loss: 0.8532 - accuracy: 0.9446 - val_loss: 1.6481 - val_accuracy: 0.8049\n",
      "Epoch 12/20\n",
      "11/11 [==============================] - 1s 48ms/step - loss: 0.8532 - accuracy: 0.9446 - val_loss: 1.6481 - val_accuracy: 0.8049\n",
      "Epoch 13/20\n",
      "11/11 [==============================] - 1s 47ms/step - loss: 0.8532 - accuracy: 0.9446 - val_loss: 1.6481 - val_accuracy: 0.8049\n",
      "Epoch 14/20\n",
      "11/11 [==============================] - 1s 48ms/step - loss: 0.8532 - accuracy: 0.9446 - val_loss: 1.6481 - val_accuracy: 0.8049\n",
      "Epoch 15/20\n",
      "11/11 [==============================] - 1s 48ms/step - loss: 0.8532 - accuracy: 0.9446 - val_loss: 1.6481 - val_accuracy: 0.8049\n",
      "Epoch 16/20\n",
      "11/11 [==============================] - 1s 46ms/step - loss: 0.8532 - accuracy: 0.9446 - val_loss: 1.6481 - val_accuracy: 0.8049\n",
      "Epoch 17/20\n",
      "11/11 [==============================] - 1s 49ms/step - loss: 0.8532 - accuracy: 0.9446 - val_loss: 1.6481 - val_accuracy: 0.8049\n",
      "Epoch 18/20\n",
      "11/11 [==============================] - 1s 47ms/step - loss: 0.8532 - accuracy: 0.9446 - val_loss: 1.6481 - val_accuracy: 0.8049\n",
      "Epoch 19/20\n",
      "11/11 [==============================] - 0s 45ms/step - loss: 0.8532 - accuracy: 0.9446 - val_loss: 1.6481 - val_accuracy: 0.8049\n",
      "Epoch 20/20\n",
      "11/11 [==============================] - 1s 47ms/step - loss: 0.8532 - accuracy: 0.9446 - val_loss: 1.6481 - val_accuracy: 0.8049\n"
     ]
    }
   ],
   "source": [
    "plp = model_output(phi,phi1)"
   ]
  },
  {
   "cell_type": "code",
   "execution_count": 27,
   "metadata": {
    "colab": {
     "base_uri": "https://localhost:8080/"
    },
    "id": "APSpxZhJoBFJ",
    "outputId": "b0c9246c-1b96-4e70-ef51-e57d0ddbc608"
   },
   "outputs": [
    {
     "name": "stdout",
     "output_type": "stream",
     "text": [
      "Epoch 1/20\n",
      "10/10 [==============================] - 2s 187ms/step - loss: 1.0184 - accuracy: 0.8836 - val_loss: 1.1424 - val_accuracy: 0.8500\n",
      "Epoch 2/20\n",
      "10/10 [==============================] - 0s 45ms/step - loss: 0.6938 - accuracy: 0.9434 - val_loss: 1.1102 - val_accuracy: 0.8375\n",
      "Epoch 3/20\n",
      "10/10 [==============================] - 0s 50ms/step - loss: 0.6467 - accuracy: 0.9591 - val_loss: 1.1079 - val_accuracy: 0.8500\n",
      "Epoch 4/20\n",
      "10/10 [==============================] - 0s 47ms/step - loss: 0.6358 - accuracy: 0.9560 - val_loss: 1.1081 - val_accuracy: 0.8375\n",
      "Epoch 5/20\n",
      "10/10 [==============================] - 0s 47ms/step - loss: 0.6326 - accuracy: 0.9591 - val_loss: 1.0793 - val_accuracy: 0.8500\n",
      "Epoch 6/20\n",
      "10/10 [==============================] - 0s 46ms/step - loss: 0.6321 - accuracy: 0.9591 - val_loss: 0.9721 - val_accuracy: 0.8500\n",
      "Epoch 7/20\n",
      "10/10 [==============================] - 0s 50ms/step - loss: 0.5634 - accuracy: 0.9591 - val_loss: 0.8406 - val_accuracy: 0.8875\n",
      "Epoch 8/20\n",
      "10/10 [==============================] - 0s 46ms/step - loss: 0.6678 - accuracy: 0.9434 - val_loss: 1.0417 - val_accuracy: 0.8875\n",
      "Epoch 9/20\n",
      "10/10 [==============================] - 0s 49ms/step - loss: 0.5929 - accuracy: 0.9591 - val_loss: 0.8720 - val_accuracy: 0.9000\n",
      "Epoch 10/20\n",
      "10/10 [==============================] - 0s 47ms/step - loss: 0.5817 - accuracy: 0.9623 - val_loss: 0.8582 - val_accuracy: 0.9000\n",
      "Epoch 11/20\n",
      "10/10 [==============================] - 0s 49ms/step - loss: 0.5817 - accuracy: 0.9623 - val_loss: 0.8527 - val_accuracy: 0.9000\n",
      "Epoch 12/20\n",
      "10/10 [==============================] - 0s 46ms/step - loss: 0.5815 - accuracy: 0.9623 - val_loss: 0.8527 - val_accuracy: 0.9000\n",
      "Epoch 13/20\n",
      "10/10 [==============================] - 0s 47ms/step - loss: 0.5815 - accuracy: 0.9623 - val_loss: 0.8527 - val_accuracy: 0.9000\n",
      "Epoch 14/20\n",
      "10/10 [==============================] - 0s 47ms/step - loss: 0.5815 - accuracy: 0.9623 - val_loss: 0.8527 - val_accuracy: 0.9000\n",
      "Epoch 15/20\n",
      "10/10 [==============================] - 0s 46ms/step - loss: 0.5815 - accuracy: 0.9623 - val_loss: 0.8527 - val_accuracy: 0.9000\n",
      "Epoch 16/20\n",
      "10/10 [==============================] - 0s 48ms/step - loss: 0.5815 - accuracy: 0.9623 - val_loss: 0.8527 - val_accuracy: 0.9000\n",
      "Epoch 17/20\n",
      "10/10 [==============================] - 0s 45ms/step - loss: 0.5815 - accuracy: 0.9623 - val_loss: 0.8527 - val_accuracy: 0.9000\n",
      "Epoch 18/20\n",
      "10/10 [==============================] - 0s 48ms/step - loss: 0.5815 - accuracy: 0.9623 - val_loss: 0.8527 - val_accuracy: 0.9000\n",
      "Epoch 19/20\n",
      "10/10 [==============================] - 0s 49ms/step - loss: 0.5815 - accuracy: 0.9623 - val_loss: 0.8527 - val_accuracy: 0.9000\n",
      "Epoch 20/20\n",
      "10/10 [==============================] - 0s 47ms/step - loss: 0.5815 - accuracy: 0.9623 - val_loss: 0.8527 - val_accuracy: 0.9000\n"
     ]
    }
   ],
   "source": [
    "cls = model_output(col,col1)"
   ]
  },
  {
   "cell_type": "code",
   "execution_count": 28,
   "metadata": {
    "colab": {
     "base_uri": "https://localhost:8080/"
    },
    "id": "bpSArNteoBFJ",
    "outputId": "abdaa056-99f9-47c0-939e-00baecd448e9"
   },
   "outputs": [
    {
     "name": "stdout",
     "output_type": "stream",
     "text": [
      "Epoch 1/20\n",
      "10/10 [==============================] - 2s 188ms/step - loss: 0.7234 - accuracy: 0.8946 - val_loss: 0.9111 - val_accuracy: 0.8734\n",
      "Epoch 2/20\n",
      "10/10 [==============================] - 0s 47ms/step - loss: 0.4947 - accuracy: 0.9233 - val_loss: 0.4016 - val_accuracy: 0.8608\n",
      "Epoch 3/20\n",
      "10/10 [==============================] - 0s 49ms/step - loss: 0.4242 - accuracy: 0.9681 - val_loss: 0.5748 - val_accuracy: 0.8734\n",
      "Epoch 4/20\n",
      "10/10 [==============================] - 0s 46ms/step - loss: 0.4117 - accuracy: 0.9681 - val_loss: 0.3486 - val_accuracy: 0.8861\n",
      "Epoch 5/20\n",
      "10/10 [==============================] - 0s 49ms/step - loss: 0.4048 - accuracy: 0.9712 - val_loss: 0.5370 - val_accuracy: 0.9114\n",
      "Epoch 6/20\n",
      "10/10 [==============================] - 0s 46ms/step - loss: 0.4031 - accuracy: 0.9744 - val_loss: 0.3681 - val_accuracy: 0.8987\n",
      "Epoch 7/20\n",
      "10/10 [==============================] - 0s 48ms/step - loss: 0.4017 - accuracy: 0.9712 - val_loss: 0.8351 - val_accuracy: 0.9241\n",
      "Epoch 8/20\n",
      "10/10 [==============================] - 0s 49ms/step - loss: 0.4078 - accuracy: 0.9744 - val_loss: 0.8126 - val_accuracy: 0.9367\n",
      "Epoch 9/20\n",
      "10/10 [==============================] - 0s 47ms/step - loss: 0.4064 - accuracy: 0.9649 - val_loss: 0.4789 - val_accuracy: 0.9241\n",
      "Epoch 10/20\n",
      "10/10 [==============================] - 0s 47ms/step - loss: 0.3941 - accuracy: 0.9744 - val_loss: 0.5436 - val_accuracy: 0.9241\n",
      "Epoch 11/20\n",
      "10/10 [==============================] - 0s 47ms/step - loss: 0.3998 - accuracy: 0.9744 - val_loss: 0.6278 - val_accuracy: 0.9494\n",
      "Epoch 12/20\n",
      "10/10 [==============================] - 0s 49ms/step - loss: 0.3925 - accuracy: 0.9744 - val_loss: 0.6374 - val_accuracy: 0.9494\n",
      "Epoch 13/20\n",
      "10/10 [==============================] - 0s 48ms/step - loss: 0.3931 - accuracy: 0.9744 - val_loss: 0.6373 - val_accuracy: 0.9494\n",
      "Epoch 14/20\n",
      "10/10 [==============================] - 0s 49ms/step - loss: 0.3974 - accuracy: 0.9744 - val_loss: 0.6163 - val_accuracy: 0.9494\n",
      "Epoch 15/20\n",
      "10/10 [==============================] - 0s 46ms/step - loss: 0.4153 - accuracy: 0.9649 - val_loss: 0.6433 - val_accuracy: 0.9494\n",
      "Epoch 16/20\n",
      "10/10 [==============================] - 0s 48ms/step - loss: 0.3651 - accuracy: 0.9712 - val_loss: 0.8553 - val_accuracy: 0.9114\n",
      "Epoch 17/20\n",
      "10/10 [==============================] - 0s 47ms/step - loss: 0.3449 - accuracy: 0.9776 - val_loss: 0.8247 - val_accuracy: 0.9114\n",
      "Epoch 18/20\n",
      "10/10 [==============================] - 1s 51ms/step - loss: 0.3433 - accuracy: 0.9776 - val_loss: 0.8247 - val_accuracy: 0.9114\n",
      "Epoch 19/20\n",
      "10/10 [==============================] - 0s 48ms/step - loss: 0.3433 - accuracy: 0.9776 - val_loss: 0.8247 - val_accuracy: 0.9114\n",
      "Epoch 20/20\n",
      "10/10 [==============================] - 0s 48ms/step - loss: 0.3433 - accuracy: 0.9776 - val_loss: 0.8247 - val_accuracy: 0.9114\n"
     ]
    }
   ],
   "source": [
    "ftl = model_output(fthe,fthe1)"
   ]
  },
  {
   "cell_type": "code",
   "execution_count": 29,
   "metadata": {
    "colab": {
     "base_uri": "https://localhost:8080/"
    },
    "id": "qAzKc0u7oBFJ",
    "outputId": "1b6f06ba-4eb8-4471-8b1f-9ac81a4d7356"
   },
   "outputs": [
    {
     "name": "stdout",
     "output_type": "stream",
     "text": [
      "Epoch 1/20\n",
      "9/9 [==============================] - 2s 202ms/step - loss: 1.1302 - accuracy: 0.8821 - val_loss: 0.6858 - val_accuracy: 0.9429\n",
      "Epoch 2/20\n",
      "9/9 [==============================] - 0s 45ms/step - loss: 0.8207 - accuracy: 0.9250 - val_loss: 0.6754 - val_accuracy: 0.9571\n",
      "Epoch 3/20\n",
      "9/9 [==============================] - 0s 47ms/step - loss: 0.7419 - accuracy: 0.9429 - val_loss: 0.6689 - val_accuracy: 0.9571\n",
      "Epoch 4/20\n",
      "9/9 [==============================] - 0s 47ms/step - loss: 0.7825 - accuracy: 0.9429 - val_loss: 0.6794 - val_accuracy: 0.9429\n",
      "Epoch 5/20\n",
      "9/9 [==============================] - 0s 49ms/step - loss: 0.6822 - accuracy: 0.9464 - val_loss: 0.7126 - val_accuracy: 0.9286\n",
      "Epoch 6/20\n",
      "9/9 [==============================] - 0s 46ms/step - loss: 0.6641 - accuracy: 0.9571 - val_loss: 0.6715 - val_accuracy: 0.9571\n",
      "Epoch 7/20\n",
      "9/9 [==============================] - 0s 45ms/step - loss: 0.6644 - accuracy: 0.9536 - val_loss: 0.6929 - val_accuracy: 0.9429\n",
      "Epoch 8/20\n",
      "9/9 [==============================] - 0s 51ms/step - loss: 0.6592 - accuracy: 0.9571 - val_loss: 0.6924 - val_accuracy: 0.9429\n",
      "Epoch 9/20\n",
      "9/9 [==============================] - 0s 47ms/step - loss: 0.6586 - accuracy: 0.9571 - val_loss: 0.6924 - val_accuracy: 0.9429\n",
      "Epoch 10/20\n",
      "9/9 [==============================] - 0s 45ms/step - loss: 0.6586 - accuracy: 0.9571 - val_loss: 0.6924 - val_accuracy: 0.9429\n",
      "Epoch 11/20\n",
      "9/9 [==============================] - 0s 46ms/step - loss: 0.6586 - accuracy: 0.9571 - val_loss: 0.6924 - val_accuracy: 0.9429\n",
      "Epoch 12/20\n",
      "9/9 [==============================] - 0s 46ms/step - loss: 0.6586 - accuracy: 0.9571 - val_loss: 0.6924 - val_accuracy: 0.9429\n",
      "Epoch 13/20\n",
      "9/9 [==============================] - 0s 45ms/step - loss: 0.6586 - accuracy: 0.9571 - val_loss: 0.6924 - val_accuracy: 0.9429\n",
      "Epoch 14/20\n",
      "9/9 [==============================] - 0s 48ms/step - loss: 0.6586 - accuracy: 0.9571 - val_loss: 0.6924 - val_accuracy: 0.9429\n",
      "Epoch 15/20\n",
      "9/9 [==============================] - 0s 49ms/step - loss: 0.6586 - accuracy: 0.9571 - val_loss: 0.6924 - val_accuracy: 0.9429\n",
      "Epoch 16/20\n",
      "9/9 [==============================] - 0s 47ms/step - loss: 0.6586 - accuracy: 0.9571 - val_loss: 0.6924 - val_accuracy: 0.9429\n",
      "Epoch 17/20\n",
      "9/9 [==============================] - 0s 47ms/step - loss: 0.6586 - accuracy: 0.9571 - val_loss: 0.6924 - val_accuracy: 0.9429\n",
      "Epoch 18/20\n",
      "9/9 [==============================] - 0s 47ms/step - loss: 0.6586 - accuracy: 0.9571 - val_loss: 0.6924 - val_accuracy: 0.9429\n",
      "Epoch 19/20\n",
      "9/9 [==============================] - 0s 45ms/step - loss: 0.6586 - accuracy: 0.9571 - val_loss: 0.6924 - val_accuracy: 0.9429\n",
      "Epoch 20/20\n",
      "9/9 [==============================] - 0s 49ms/step - loss: 0.6586 - accuracy: 0.9571 - val_loss: 0.6924 - val_accuracy: 0.9429\n"
     ]
    }
   ],
   "source": [
    "stl = model_output(sthe,sthe1)"
   ]
  },
  {
   "cell_type": "code",
   "execution_count": 30,
   "metadata": {
    "colab": {
     "base_uri": "https://localhost:8080/"
    },
    "id": "PSKsmAA-oBFK",
    "outputId": "ed6f5528-81ed-4f8e-e10c-8809673e3e29"
   },
   "outputs": [
    {
     "name": "stdout",
     "output_type": "stream",
     "text": [
      "Epoch 1/20\n",
      "11/11 [==============================] - 2s 172ms/step - loss: 2.1510 - accuracy: 0.8163 - val_loss: 1.6084 - val_accuracy: 0.8571\n",
      "Epoch 2/20\n",
      "11/11 [==============================] - 1s 47ms/step - loss: 1.7695 - accuracy: 0.8464 - val_loss: 1.7920 - val_accuracy: 0.8333\n",
      "Epoch 3/20\n",
      "11/11 [==============================] - 1s 47ms/step - loss: 1.6657 - accuracy: 0.8735 - val_loss: 1.7837 - val_accuracy: 0.8095\n",
      "Epoch 4/20\n",
      "11/11 [==============================] - 1s 46ms/step - loss: 1.5949 - accuracy: 0.8886 - val_loss: 1.8286 - val_accuracy: 0.7857\n",
      "Epoch 5/20\n",
      "11/11 [==============================] - 0s 45ms/step - loss: 1.5818 - accuracy: 0.8946 - val_loss: 1.6398 - val_accuracy: 0.7976\n",
      "Epoch 6/20\n",
      "11/11 [==============================] - 1s 49ms/step - loss: 1.5405 - accuracy: 0.8946 - val_loss: 1.6336 - val_accuracy: 0.7976\n",
      "Epoch 7/20\n",
      "11/11 [==============================] - 1s 48ms/step - loss: 1.4744 - accuracy: 0.8916 - val_loss: 2.0410 - val_accuracy: 0.7857\n",
      "Epoch 8/20\n",
      "11/11 [==============================] - 1s 49ms/step - loss: 1.3849 - accuracy: 0.9036 - val_loss: 1.9551 - val_accuracy: 0.8333\n",
      "Epoch 9/20\n",
      "11/11 [==============================] - 0s 45ms/step - loss: 1.2757 - accuracy: 0.9096 - val_loss: 1.9555 - val_accuracy: 0.8214\n",
      "Epoch 10/20\n",
      "11/11 [==============================] - 1s 49ms/step - loss: 1.2617 - accuracy: 0.9187 - val_loss: 1.9484 - val_accuracy: 0.8214\n",
      "Epoch 11/20\n",
      "11/11 [==============================] - 1s 48ms/step - loss: 1.2579 - accuracy: 0.9187 - val_loss: 1.8164 - val_accuracy: 0.8214\n",
      "Epoch 12/20\n",
      "11/11 [==============================] - 1s 48ms/step - loss: 1.2565 - accuracy: 0.9187 - val_loss: 2.0952 - val_accuracy: 0.8095\n",
      "Epoch 13/20\n",
      "11/11 [==============================] - 1s 47ms/step - loss: 1.2553 - accuracy: 0.9187 - val_loss: 1.9462 - val_accuracy: 0.8214\n",
      "Epoch 14/20\n",
      "11/11 [==============================] - 1s 47ms/step - loss: 1.2546 - accuracy: 0.9187 - val_loss: 1.9628 - val_accuracy: 0.8095\n",
      "Epoch 15/20\n",
      "11/11 [==============================] - 1s 50ms/step - loss: 1.2228 - accuracy: 0.9187 - val_loss: 1.9575 - val_accuracy: 0.8214\n",
      "Epoch 16/20\n",
      "11/11 [==============================] - 1s 47ms/step - loss: 1.2232 - accuracy: 0.9157 - val_loss: 2.1604 - val_accuracy: 0.7976\n",
      "Epoch 17/20\n",
      "11/11 [==============================] - 1s 49ms/step - loss: 1.2094 - accuracy: 0.9217 - val_loss: 2.1741 - val_accuracy: 0.7976\n",
      "Epoch 18/20\n",
      "11/11 [==============================] - 1s 46ms/step - loss: 1.2086 - accuracy: 0.9217 - val_loss: 2.4829 - val_accuracy: 0.8095\n",
      "Epoch 19/20\n",
      "11/11 [==============================] - 1s 46ms/step - loss: 1.2076 - accuracy: 0.9217 - val_loss: 2.1598 - val_accuracy: 0.7976\n",
      "Epoch 20/20\n",
      "11/11 [==============================] - 1s 49ms/step - loss: 1.2074 - accuracy: 0.9217 - val_loss: 2.1598 - val_accuracy: 0.7976\n"
     ]
    }
   ],
   "source": [
    "ftm = model_output(ftim,ftim1)"
   ]
  },
  {
   "cell_type": "code",
   "execution_count": 31,
   "metadata": {
    "colab": {
     "base_uri": "https://localhost:8080/"
    },
    "id": "66D8YvCUoBFK",
    "outputId": "942ecb23-efc8-4991-89ae-2e8f746d070b"
   },
   "outputs": [
    {
     "name": "stdout",
     "output_type": "stream",
     "text": [
      "Epoch 1/20\n",
      "10/10 [==============================] - 2s 192ms/step - loss: 1.4310 - accuracy: 0.8701 - val_loss: 2.0104 - val_accuracy: 0.8462\n",
      "Epoch 2/20\n",
      "10/10 [==============================] - 0s 47ms/step - loss: 1.2879 - accuracy: 0.8961 - val_loss: 1.6268 - val_accuracy: 0.8590\n",
      "Epoch 3/20\n",
      "10/10 [==============================] - 0s 48ms/step - loss: 1.2369 - accuracy: 0.9026 - val_loss: 1.6028 - val_accuracy: 0.8846\n",
      "Epoch 4/20\n",
      "10/10 [==============================] - 0s 47ms/step - loss: 1.1688 - accuracy: 0.9188 - val_loss: 1.6013 - val_accuracy: 0.8846\n",
      "Epoch 5/20\n",
      "10/10 [==============================] - 0s 46ms/step - loss: 1.1523 - accuracy: 0.9253 - val_loss: 1.6007 - val_accuracy: 0.8974\n",
      "Epoch 6/20\n",
      "10/10 [==============================] - 0s 49ms/step - loss: 1.1520 - accuracy: 0.9253 - val_loss: 1.4454 - val_accuracy: 0.8974\n",
      "Epoch 7/20\n",
      "10/10 [==============================] - 0s 47ms/step - loss: 1.1528 - accuracy: 0.9253 - val_loss: 1.4442 - val_accuracy: 0.8718\n",
      "Epoch 8/20\n",
      "10/10 [==============================] - 0s 47ms/step - loss: 1.1196 - accuracy: 0.9188 - val_loss: 1.4849 - val_accuracy: 0.8718\n",
      "Epoch 9/20\n",
      "10/10 [==============================] - 0s 48ms/step - loss: 1.0937 - accuracy: 0.9123 - val_loss: 1.6429 - val_accuracy: 0.8718\n",
      "Epoch 10/20\n",
      "10/10 [==============================] - 0s 48ms/step - loss: 1.0372 - accuracy: 0.9221 - val_loss: 1.6801 - val_accuracy: 0.8718\n",
      "Epoch 11/20\n",
      "10/10 [==============================] - 0s 47ms/step - loss: 1.0076 - accuracy: 0.9318 - val_loss: 1.8222 - val_accuracy: 0.8718\n",
      "Epoch 12/20\n",
      "10/10 [==============================] - 0s 48ms/step - loss: 1.0050 - accuracy: 0.9318 - val_loss: 1.8259 - val_accuracy: 0.8718\n",
      "Epoch 13/20\n",
      "10/10 [==============================] - 0s 46ms/step - loss: 1.0059 - accuracy: 0.9351 - val_loss: 1.8236 - val_accuracy: 0.8590\n",
      "Epoch 14/20\n",
      "10/10 [==============================] - 0s 49ms/step - loss: 1.0029 - accuracy: 0.9351 - val_loss: 1.8122 - val_accuracy: 0.8718\n",
      "Epoch 15/20\n",
      "10/10 [==============================] - 0s 45ms/step - loss: 1.0075 - accuracy: 0.9318 - val_loss: 2.2341 - val_accuracy: 0.8077\n",
      "Epoch 16/20\n",
      "10/10 [==============================] - 0s 46ms/step - loss: 0.9784 - accuracy: 0.9253 - val_loss: 2.0425 - val_accuracy: 0.8333\n",
      "Epoch 17/20\n",
      "10/10 [==============================] - 0s 45ms/step - loss: 0.9536 - accuracy: 0.9383 - val_loss: 1.8613 - val_accuracy: 0.8205\n",
      "Epoch 18/20\n",
      "10/10 [==============================] - 0s 49ms/step - loss: 0.9515 - accuracy: 0.9383 - val_loss: 1.8613 - val_accuracy: 0.8205\n",
      "Epoch 19/20\n",
      "10/10 [==============================] - 1s 50ms/step - loss: 0.9515 - accuracy: 0.9383 - val_loss: 1.8613 - val_accuracy: 0.8205\n",
      "Epoch 20/20\n",
      "10/10 [==============================] - 0s 46ms/step - loss: 0.9515 - accuracy: 0.9383 - val_loss: 1.8613 - val_accuracy: 0.8205\n"
     ]
    }
   ],
   "source": [
    "stm = model_output(stim,stim1)"
   ]
  },
  {
   "cell_type": "code",
   "execution_count": 32,
   "metadata": {
    "colab": {
     "base_uri": "https://localhost:8080/"
    },
    "id": "2slmgjUroBFK",
    "outputId": "c1ac2c5f-0e77-4266-a4d2-236e73e0333e"
   },
   "outputs": [
    {
     "name": "stdout",
     "output_type": "stream",
     "text": [
      "Epoch 1/20\n",
      "9/9 [==============================] - 2s 209ms/step - loss: 0.9924 - accuracy: 0.8817 - val_loss: 1.5897 - val_accuracy: 0.8714\n",
      "Epoch 2/20\n",
      "9/9 [==============================] - 0s 50ms/step - loss: 0.8390 - accuracy: 0.9427 - val_loss: 1.5830 - val_accuracy: 0.8714\n",
      "Epoch 3/20\n",
      "9/9 [==============================] - 0s 48ms/step - loss: 0.7872 - accuracy: 0.9462 - val_loss: 1.5864 - val_accuracy: 0.8571\n",
      "Epoch 4/20\n",
      "9/9 [==============================] - 0s 48ms/step - loss: 0.7759 - accuracy: 0.9498 - val_loss: 1.6030 - val_accuracy: 0.8571\n",
      "Epoch 5/20\n",
      "9/9 [==============================] - 0s 48ms/step - loss: 0.7734 - accuracy: 0.9498 - val_loss: 1.6030 - val_accuracy: 0.8571\n",
      "Epoch 6/20\n",
      "9/9 [==============================] - 0s 50ms/step - loss: 0.7734 - accuracy: 0.9498 - val_loss: 1.6030 - val_accuracy: 0.8571\n",
      "Epoch 7/20\n",
      "9/9 [==============================] - 0s 48ms/step - loss: 0.7734 - accuracy: 0.9498 - val_loss: 1.6030 - val_accuracy: 0.8571\n",
      "Epoch 8/20\n",
      "9/9 [==============================] - 0s 48ms/step - loss: 0.7734 - accuracy: 0.9498 - val_loss: 1.6030 - val_accuracy: 0.8571\n",
      "Epoch 9/20\n",
      "9/9 [==============================] - 0s 46ms/step - loss: 0.7734 - accuracy: 0.9498 - val_loss: 1.6030 - val_accuracy: 0.8571\n",
      "Epoch 10/20\n",
      "9/9 [==============================] - 0s 47ms/step - loss: 0.7734 - accuracy: 0.9498 - val_loss: 1.6030 - val_accuracy: 0.8571\n",
      "Epoch 11/20\n",
      "9/9 [==============================] - 0s 50ms/step - loss: 0.7734 - accuracy: 0.9498 - val_loss: 1.6030 - val_accuracy: 0.8571\n",
      "Epoch 12/20\n",
      "9/9 [==============================] - 0s 47ms/step - loss: 0.7734 - accuracy: 0.9498 - val_loss: 1.6030 - val_accuracy: 0.8571\n",
      "Epoch 13/20\n",
      "9/9 [==============================] - 0s 52ms/step - loss: 0.7734 - accuracy: 0.9498 - val_loss: 1.6030 - val_accuracy: 0.8571\n",
      "Epoch 14/20\n",
      "9/9 [==============================] - 0s 46ms/step - loss: 0.7734 - accuracy: 0.9498 - val_loss: 1.6030 - val_accuracy: 0.8571\n",
      "Epoch 15/20\n",
      "9/9 [==============================] - 0s 47ms/step - loss: 0.7734 - accuracy: 0.9498 - val_loss: 1.6030 - val_accuracy: 0.8571\n",
      "Epoch 16/20\n",
      "9/9 [==============================] - 0s 47ms/step - loss: 0.7734 - accuracy: 0.9498 - val_loss: 1.6030 - val_accuracy: 0.8571\n",
      "Epoch 17/20\n",
      "9/9 [==============================] - 0s 49ms/step - loss: 0.7734 - accuracy: 0.9498 - val_loss: 1.6030 - val_accuracy: 0.8571\n",
      "Epoch 18/20\n",
      "9/9 [==============================] - 0s 48ms/step - loss: 0.7734 - accuracy: 0.9498 - val_loss: 1.6030 - val_accuracy: 0.8571\n",
      "Epoch 19/20\n",
      "9/9 [==============================] - 0s 49ms/step - loss: 0.7734 - accuracy: 0.9498 - val_loss: 1.6030 - val_accuracy: 0.8571\n",
      "Epoch 20/20\n",
      "9/9 [==============================] - 0s 48ms/step - loss: 0.7734 - accuracy: 0.9498 - val_loss: 1.6030 - val_accuracy: 0.8571\n"
     ]
    }
   ],
   "source": [
    "tus = model_output(titus,titus1)"
   ]
  },
  {
   "cell_type": "code",
   "execution_count": 33,
   "metadata": {
    "colab": {
     "base_uri": "https://localhost:8080/"
    },
    "id": "bJmVsgjboBFK",
    "outputId": "10dee7b2-5fa8-49ef-81a4-a8395df2963d"
   },
   "outputs": [
    {
     "name": "stdout",
     "output_type": "stream",
     "text": [
      "Epoch 1/20\n",
      "9/9 [==============================] - 2s 208ms/step - loss: 1.0447 - accuracy: 0.9160 - val_loss: 0.0736 - val_accuracy: 0.9697\n",
      "Epoch 2/20\n",
      "9/9 [==============================] - 0s 45ms/step - loss: 0.8492 - accuracy: 0.9351 - val_loss: 0.2734 - val_accuracy: 0.9697\n",
      "Epoch 3/20\n",
      "9/9 [==============================] - 0s 45ms/step - loss: 0.8349 - accuracy: 0.9427 - val_loss: 0.4674 - val_accuracy: 0.9697\n",
      "Epoch 4/20\n",
      "9/9 [==============================] - 0s 48ms/step - loss: 0.7648 - accuracy: 0.9504 - val_loss: 0.4674 - val_accuracy: 0.9697\n",
      "Epoch 5/20\n",
      "9/9 [==============================] - 0s 47ms/step - loss: 0.7640 - accuracy: 0.9504 - val_loss: 0.4674 - val_accuracy: 0.9697\n",
      "Epoch 6/20\n",
      "9/9 [==============================] - 0s 48ms/step - loss: 0.7640 - accuracy: 0.9504 - val_loss: 0.4674 - val_accuracy: 0.9697\n",
      "Epoch 7/20\n",
      "9/9 [==============================] - 0s 46ms/step - loss: 0.7640 - accuracy: 0.9504 - val_loss: 0.4674 - val_accuracy: 0.9697\n",
      "Epoch 8/20\n",
      "9/9 [==============================] - 0s 46ms/step - loss: 0.7640 - accuracy: 0.9504 - val_loss: 0.4674 - val_accuracy: 0.9697\n",
      "Epoch 9/20\n",
      "9/9 [==============================] - 0s 50ms/step - loss: 0.7640 - accuracy: 0.9504 - val_loss: 0.4674 - val_accuracy: 0.9697\n",
      "Epoch 10/20\n",
      "9/9 [==============================] - 0s 48ms/step - loss: 0.7640 - accuracy: 0.9504 - val_loss: 0.4674 - val_accuracy: 0.9697\n",
      "Epoch 11/20\n",
      "9/9 [==============================] - 0s 48ms/step - loss: 0.7640 - accuracy: 0.9504 - val_loss: 0.4674 - val_accuracy: 0.9697\n",
      "Epoch 12/20\n",
      "9/9 [==============================] - 0s 49ms/step - loss: 0.7640 - accuracy: 0.9504 - val_loss: 0.4674 - val_accuracy: 0.9697\n",
      "Epoch 13/20\n",
      "9/9 [==============================] - 0s 46ms/step - loss: 0.7640 - accuracy: 0.9504 - val_loss: 0.4674 - val_accuracy: 0.9697\n",
      "Epoch 14/20\n",
      "9/9 [==============================] - 0s 44ms/step - loss: 0.7640 - accuracy: 0.9504 - val_loss: 0.4674 - val_accuracy: 0.9697\n",
      "Epoch 15/20\n",
      "9/9 [==============================] - 0s 49ms/step - loss: 0.7640 - accuracy: 0.9504 - val_loss: 0.4674 - val_accuracy: 0.9697\n",
      "Epoch 16/20\n",
      "9/9 [==============================] - 0s 45ms/step - loss: 0.7640 - accuracy: 0.9504 - val_loss: 0.4674 - val_accuracy: 0.9697\n",
      "Epoch 17/20\n",
      "9/9 [==============================] - 0s 48ms/step - loss: 0.7640 - accuracy: 0.9504 - val_loss: 0.4674 - val_accuracy: 0.9697\n",
      "Epoch 18/20\n",
      "9/9 [==============================] - 0s 45ms/step - loss: 0.7640 - accuracy: 0.9504 - val_loss: 0.4674 - val_accuracy: 0.9697\n",
      "Epoch 19/20\n",
      "9/9 [==============================] - 0s 44ms/step - loss: 0.7640 - accuracy: 0.9504 - val_loss: 0.4674 - val_accuracy: 0.9697\n",
      "Epoch 20/20\n",
      "9/9 [==============================] - 0s 45ms/step - loss: 0.7640 - accuracy: 0.9504 - val_loss: 0.4674 - val_accuracy: 0.9697\n"
     ]
    }
   ],
   "source": [
    "plm = model_output(philemon,philemon1)"
   ]
  },
  {
   "cell_type": "code",
   "execution_count": 34,
   "metadata": {
    "colab": {
     "base_uri": "https://localhost:8080/"
    },
    "id": "GbjCCzdCoBFK",
    "outputId": "ca13865f-7f11-4a49-ec26-7fc6c713f768"
   },
   "outputs": [
    {
     "name": "stdout",
     "output_type": "stream",
     "text": [
      "Epoch 1/20\n",
      "11/11 [==============================] - 2s 179ms/step - loss: 1.8193 - accuracy: 0.8232 - val_loss: 0.8040 - val_accuracy: 0.9277\n",
      "Epoch 2/20\n",
      "11/11 [==============================] - 0s 45ms/step - loss: 1.7401 - accuracy: 0.8354 - val_loss: 1.0211 - val_accuracy: 0.9036\n",
      "Epoch 3/20\n",
      "11/11 [==============================] - 1s 48ms/step - loss: 1.3956 - accuracy: 0.8841 - val_loss: 1.4907 - val_accuracy: 0.8554\n",
      "Epoch 4/20\n",
      "11/11 [==============================] - 1s 47ms/step - loss: 1.3741 - accuracy: 0.8902 - val_loss: 1.4440 - val_accuracy: 0.8313\n",
      "Epoch 5/20\n",
      "11/11 [==============================] - 1s 46ms/step - loss: 1.2265 - accuracy: 0.9055 - val_loss: 1.2297 - val_accuracy: 0.8795\n",
      "Epoch 6/20\n",
      "11/11 [==============================] - 1s 47ms/step - loss: 1.1252 - accuracy: 0.9146 - val_loss: 2.1255 - val_accuracy: 0.8434\n",
      "Epoch 7/20\n",
      "11/11 [==============================] - 1s 47ms/step - loss: 1.1656 - accuracy: 0.8933 - val_loss: 1.2666 - val_accuracy: 0.8675\n",
      "Epoch 8/20\n",
      "11/11 [==============================] - 1s 47ms/step - loss: 0.9636 - accuracy: 0.9268 - val_loss: 1.0700 - val_accuracy: 0.8795\n",
      "Epoch 9/20\n",
      "11/11 [==============================] - 1s 47ms/step - loss: 0.8362 - accuracy: 0.9329 - val_loss: 0.6907 - val_accuracy: 0.9036\n",
      "Epoch 10/20\n",
      "11/11 [==============================] - 1s 46ms/step - loss: 0.8073 - accuracy: 0.9482 - val_loss: 0.6949 - val_accuracy: 0.8916\n",
      "Epoch 11/20\n",
      "11/11 [==============================] - 1s 48ms/step - loss: 0.8011 - accuracy: 0.9482 - val_loss: 0.5399 - val_accuracy: 0.9036\n",
      "Epoch 12/20\n",
      "11/11 [==============================] - 1s 48ms/step - loss: 0.7991 - accuracy: 0.9482 - val_loss: 0.5413 - val_accuracy: 0.9157\n",
      "Epoch 13/20\n",
      "11/11 [==============================] - 1s 46ms/step - loss: 0.8004 - accuracy: 0.9482 - val_loss: 0.5567 - val_accuracy: 0.8916\n",
      "Epoch 14/20\n",
      "11/11 [==============================] - 1s 47ms/step - loss: 0.7979 - accuracy: 0.9482 - val_loss: 0.5653 - val_accuracy: 0.8675\n",
      "Epoch 15/20\n",
      "11/11 [==============================] - 0s 45ms/step - loss: 0.8018 - accuracy: 0.9482 - val_loss: 0.9542 - val_accuracy: 0.8554\n",
      "Epoch 16/20\n",
      "11/11 [==============================] - 1s 48ms/step - loss: 0.8504 - accuracy: 0.9268 - val_loss: 1.2039 - val_accuracy: 0.8675\n",
      "Epoch 17/20\n",
      "11/11 [==============================] - 1s 49ms/step - loss: 0.8103 - accuracy: 0.9421 - val_loss: 1.1238 - val_accuracy: 0.8795\n",
      "Epoch 18/20\n",
      "11/11 [==============================] - 1s 48ms/step - loss: 0.7987 - accuracy: 0.9482 - val_loss: 1.1019 - val_accuracy: 0.8675\n",
      "Epoch 19/20\n",
      "11/11 [==============================] - 1s 48ms/step - loss: 0.7982 - accuracy: 0.9482 - val_loss: 1.0829 - val_accuracy: 0.8675\n",
      "Epoch 20/20\n",
      "11/11 [==============================] - 1s 48ms/step - loss: 0.7981 - accuracy: 0.9482 - val_loss: 0.8068 - val_accuracy: 0.8193\n"
     ]
    }
   ],
   "source": [
    "jam = model_output(jams,jams1)"
   ]
  },
  {
   "cell_type": "code",
   "execution_count": 35,
   "metadata": {
    "colab": {
     "base_uri": "https://localhost:8080/"
    },
    "id": "7gxq45g6oBFK",
    "outputId": "b11d06a0-8b26-415b-c750-3b19c2c55824"
   },
   "outputs": [
    {
     "name": "stdout",
     "output_type": "stream",
     "text": [
      "Epoch 1/20\n",
      "11/11 [==============================] - 2s 179ms/step - loss: 0.9992 - accuracy: 0.8773 - val_loss: 1.4632 - val_accuracy: 0.8537\n",
      "Epoch 2/20\n",
      "11/11 [==============================] - 1s 50ms/step - loss: 0.7848 - accuracy: 0.9233 - val_loss: 1.3961 - val_accuracy: 0.8780\n",
      "Epoch 3/20\n",
      "11/11 [==============================] - 1s 47ms/step - loss: 0.6827 - accuracy: 0.9540 - val_loss: 1.2247 - val_accuracy: 0.8780\n",
      "Epoch 4/20\n",
      "11/11 [==============================] - 1s 46ms/step - loss: 0.6723 - accuracy: 0.9571 - val_loss: 1.2337 - val_accuracy: 0.8780\n",
      "Epoch 5/20\n",
      "11/11 [==============================] - 1s 48ms/step - loss: 0.6301 - accuracy: 0.9540 - val_loss: 1.2337 - val_accuracy: 0.8780\n",
      "Epoch 6/20\n",
      "11/11 [==============================] - 1s 46ms/step - loss: 0.6209 - accuracy: 0.9601 - val_loss: 1.2465 - val_accuracy: 0.8659\n",
      "Epoch 7/20\n",
      "11/11 [==============================] - 1s 48ms/step - loss: 0.6150 - accuracy: 0.9601 - val_loss: 1.2364 - val_accuracy: 0.8780\n",
      "Epoch 8/20\n",
      "11/11 [==============================] - 1s 46ms/step - loss: 0.6154 - accuracy: 0.9601 - val_loss: 1.2402 - val_accuracy: 0.8537\n",
      "Epoch 9/20\n",
      "11/11 [==============================] - 1s 47ms/step - loss: 0.6117 - accuracy: 0.9479 - val_loss: 1.4222 - val_accuracy: 0.8537\n",
      "Epoch 10/20\n",
      "11/11 [==============================] - 1s 46ms/step - loss: 0.4544 - accuracy: 0.9601 - val_loss: 1.2945 - val_accuracy: 0.8537\n",
      "Epoch 11/20\n",
      "11/11 [==============================] - 1s 47ms/step - loss: 0.3544 - accuracy: 0.9724 - val_loss: 1.1391 - val_accuracy: 0.8659\n",
      "Epoch 12/20\n",
      "11/11 [==============================] - 1s 47ms/step - loss: 0.3615 - accuracy: 0.9632 - val_loss: 1.4187 - val_accuracy: 0.8659\n",
      "Epoch 13/20\n",
      "11/11 [==============================] - 1s 48ms/step - loss: 0.3041 - accuracy: 0.9785 - val_loss: 1.2553 - val_accuracy: 0.8537\n",
      "Epoch 14/20\n",
      "11/11 [==============================] - 1s 48ms/step - loss: 0.2835 - accuracy: 0.9816 - val_loss: 1.4457 - val_accuracy: 0.8537\n",
      "Epoch 15/20\n",
      "11/11 [==============================] - 1s 47ms/step - loss: 0.2828 - accuracy: 0.9816 - val_loss: 1.4457 - val_accuracy: 0.8537\n",
      "Epoch 16/20\n",
      "11/11 [==============================] - 1s 49ms/step - loss: 0.2828 - accuracy: 0.9816 - val_loss: 1.4457 - val_accuracy: 0.8537\n",
      "Epoch 17/20\n",
      "11/11 [==============================] - 1s 47ms/step - loss: 0.2828 - accuracy: 0.9816 - val_loss: 1.4457 - val_accuracy: 0.8537\n",
      "Epoch 18/20\n",
      "11/11 [==============================] - 1s 49ms/step - loss: 0.2828 - accuracy: 0.9816 - val_loss: 1.4457 - val_accuracy: 0.8537\n",
      "Epoch 19/20\n",
      "11/11 [==============================] - 1s 50ms/step - loss: 0.2828 - accuracy: 0.9816 - val_loss: 1.4457 - val_accuracy: 0.8537\n",
      "Epoch 20/20\n",
      "11/11 [==============================] - 1s 47ms/step - loss: 0.2828 - accuracy: 0.9816 - val_loss: 1.4457 - val_accuracy: 0.8537\n"
     ]
    }
   ],
   "source": [
    "fpt = model_output(fpet,fpet1)"
   ]
  },
  {
   "cell_type": "code",
   "execution_count": 36,
   "metadata": {
    "colab": {
     "base_uri": "https://localhost:8080/"
    },
    "id": "OV68X6kkoBFL",
    "outputId": "536fd7b7-9374-4a9f-98a1-8d566828fe79"
   },
   "outputs": [
    {
     "name": "stdout",
     "output_type": "stream",
     "text": [
      "Epoch 1/20\n",
      "10/10 [==============================] - 2s 188ms/step - loss: 1.1754 - accuracy: 0.8763 - val_loss: 0.6562 - val_accuracy: 0.9589\n",
      "Epoch 2/20\n",
      "10/10 [==============================] - 0s 47ms/step - loss: 0.9343 - accuracy: 0.9347 - val_loss: 1.4042 - val_accuracy: 0.8356\n",
      "Epoch 3/20\n",
      "10/10 [==============================] - 0s 46ms/step - loss: 0.7559 - accuracy: 0.9244 - val_loss: 0.4945 - val_accuracy: 0.9315\n",
      "Epoch 4/20\n",
      "10/10 [==============================] - 0s 46ms/step - loss: 0.6926 - accuracy: 0.9553 - val_loss: 0.4840 - val_accuracy: 0.9452\n",
      "Epoch 5/20\n",
      "10/10 [==============================] - 0s 44ms/step - loss: 0.6885 - accuracy: 0.9553 - val_loss: 0.4779 - val_accuracy: 0.9589\n",
      "Epoch 6/20\n",
      "10/10 [==============================] - 0s 47ms/step - loss: 0.6874 - accuracy: 0.9553 - val_loss: 0.4717 - val_accuracy: 0.9589\n",
      "Epoch 7/20\n",
      "10/10 [==============================] - 0s 43ms/step - loss: 0.6874 - accuracy: 0.9553 - val_loss: 0.4730 - val_accuracy: 0.9589\n",
      "Epoch 8/20\n",
      "10/10 [==============================] - 0s 48ms/step - loss: 0.6873 - accuracy: 0.9553 - val_loss: 0.4730 - val_accuracy: 0.9589\n",
      "Epoch 9/20\n",
      "10/10 [==============================] - 0s 46ms/step - loss: 0.6873 - accuracy: 0.9553 - val_loss: 0.4730 - val_accuracy: 0.9589\n",
      "Epoch 10/20\n",
      "10/10 [==============================] - 0s 46ms/step - loss: 0.6873 - accuracy: 0.9553 - val_loss: 0.4730 - val_accuracy: 0.9589\n",
      "Epoch 11/20\n",
      "10/10 [==============================] - 0s 48ms/step - loss: 0.6873 - accuracy: 0.9553 - val_loss: 0.4730 - val_accuracy: 0.9589\n",
      "Epoch 12/20\n",
      "10/10 [==============================] - 0s 46ms/step - loss: 0.6873 - accuracy: 0.9553 - val_loss: 0.4730 - val_accuracy: 0.9589\n",
      "Epoch 13/20\n",
      "10/10 [==============================] - 0s 46ms/step - loss: 0.6873 - accuracy: 0.9553 - val_loss: 0.4730 - val_accuracy: 0.9589\n",
      "Epoch 14/20\n",
      "10/10 [==============================] - 0s 47ms/step - loss: 0.6873 - accuracy: 0.9553 - val_loss: 0.4730 - val_accuracy: 0.9589\n",
      "Epoch 15/20\n",
      "10/10 [==============================] - 0s 46ms/step - loss: 0.6873 - accuracy: 0.9553 - val_loss: 0.4730 - val_accuracy: 0.9589\n",
      "Epoch 16/20\n",
      "10/10 [==============================] - 0s 49ms/step - loss: 0.6873 - accuracy: 0.9553 - val_loss: 0.4730 - val_accuracy: 0.9589\n",
      "Epoch 17/20\n",
      "10/10 [==============================] - 0s 46ms/step - loss: 0.6873 - accuracy: 0.9553 - val_loss: 0.4730 - val_accuracy: 0.9589\n",
      "Epoch 18/20\n",
      "10/10 [==============================] - 0s 46ms/step - loss: 0.6873 - accuracy: 0.9553 - val_loss: 0.4730 - val_accuracy: 0.9589\n",
      "Epoch 19/20\n",
      "10/10 [==============================] - 0s 47ms/step - loss: 0.6873 - accuracy: 0.9553 - val_loss: 0.4730 - val_accuracy: 0.9589\n",
      "Epoch 20/20\n",
      "10/10 [==============================] - 0s 48ms/step - loss: 0.6873 - accuracy: 0.9553 - val_loss: 0.4730 - val_accuracy: 0.9589\n"
     ]
    }
   ],
   "source": [
    "spt = model_output(spet,spet1)"
   ]
  },
  {
   "cell_type": "code",
   "execution_count": 37,
   "metadata": {
    "colab": {
     "base_uri": "https://localhost:8080/"
    },
    "id": "AUvNfXFZoBFL",
    "outputId": "1147702e-19e0-45e0-af7b-2a26f573043d"
   },
   "outputs": [
    {
     "name": "stdout",
     "output_type": "stream",
     "text": [
      "Epoch 1/20\n",
      "11/11 [==============================] - 2s 177ms/step - loss: 4.3193 - accuracy: 0.6288 - val_loss: 4.2568 - val_accuracy: 0.6341\n",
      "Epoch 2/20\n",
      "11/11 [==============================] - 1s 47ms/step - loss: 3.2349 - accuracy: 0.7515 - val_loss: 3.3495 - val_accuracy: 0.7317\n",
      "Epoch 3/20\n",
      "11/11 [==============================] - 1s 48ms/step - loss: 2.5714 - accuracy: 0.7730 - val_loss: 3.1217 - val_accuracy: 0.7439\n",
      "Epoch 4/20\n",
      "11/11 [==============================] - 1s 46ms/step - loss: 2.0280 - accuracy: 0.8129 - val_loss: 3.8385 - val_accuracy: 0.6951\n",
      "Epoch 5/20\n",
      "11/11 [==============================] - 1s 49ms/step - loss: 1.7641 - accuracy: 0.8436 - val_loss: 3.4758 - val_accuracy: 0.7317\n",
      "Epoch 6/20\n",
      "11/11 [==============================] - 1s 48ms/step - loss: 1.5515 - accuracy: 0.8620 - val_loss: 2.7774 - val_accuracy: 0.7561\n",
      "Epoch 7/20\n",
      "11/11 [==============================] - 1s 49ms/step - loss: 1.5674 - accuracy: 0.8834 - val_loss: 2.8757 - val_accuracy: 0.7805\n",
      "Epoch 8/20\n",
      "11/11 [==============================] - 1s 49ms/step - loss: 1.5369 - accuracy: 0.8957 - val_loss: 2.9064 - val_accuracy: 0.7683\n",
      "Epoch 9/20\n",
      "11/11 [==============================] - 1s 46ms/step - loss: 1.4850 - accuracy: 0.9018 - val_loss: 3.0254 - val_accuracy: 0.7195\n",
      "Epoch 10/20\n",
      "11/11 [==============================] - 1s 47ms/step - loss: 1.3633 - accuracy: 0.8896 - val_loss: 2.6404 - val_accuracy: 0.7195\n",
      "Epoch 11/20\n",
      "11/11 [==============================] - 1s 49ms/step - loss: 1.3149 - accuracy: 0.9018 - val_loss: 2.9752 - val_accuracy: 0.7195\n",
      "Epoch 12/20\n",
      "11/11 [==============================] - 1s 48ms/step - loss: 1.2455 - accuracy: 0.9141 - val_loss: 3.1873 - val_accuracy: 0.7317\n",
      "Epoch 13/20\n",
      "11/11 [==============================] - 1s 46ms/step - loss: 1.2035 - accuracy: 0.9110 - val_loss: 3.1516 - val_accuracy: 0.7317\n",
      "Epoch 14/20\n",
      "11/11 [==============================] - 1s 47ms/step - loss: 1.1831 - accuracy: 0.9233 - val_loss: 3.4380 - val_accuracy: 0.7561\n",
      "Epoch 15/20\n",
      "11/11 [==============================] - 1s 48ms/step - loss: 1.1114 - accuracy: 0.9172 - val_loss: 2.6033 - val_accuracy: 0.7317\n",
      "Epoch 16/20\n",
      "11/11 [==============================] - 1s 47ms/step - loss: 1.0749 - accuracy: 0.9233 - val_loss: 2.4641 - val_accuracy: 0.7805\n",
      "Epoch 17/20\n",
      "11/11 [==============================] - 1s 48ms/step - loss: 1.0426 - accuracy: 0.9325 - val_loss: 3.0973 - val_accuracy: 0.7683\n",
      "Epoch 18/20\n",
      "11/11 [==============================] - 1s 47ms/step - loss: 1.0381 - accuracy: 0.9325 - val_loss: 3.2523 - val_accuracy: 0.7561\n",
      "Epoch 19/20\n",
      "11/11 [==============================] - 1s 47ms/step - loss: 1.0404 - accuracy: 0.9325 - val_loss: 2.7990 - val_accuracy: 0.7439\n",
      "Epoch 20/20\n",
      "11/11 [==============================] - 1s 49ms/step - loss: 1.0392 - accuracy: 0.9325 - val_loss: 2.6133 - val_accuracy: 0.7683\n"
     ]
    }
   ],
   "source": [
    "fjn = model_output(fjohn,fjohn1)"
   ]
  },
  {
   "cell_type": "code",
   "execution_count": 38,
   "metadata": {
    "colab": {
     "base_uri": "https://localhost:8080/"
    },
    "id": "plm8yo5KoBFL",
    "outputId": "251658f1-d7e5-44de-8ef6-fbb798a099ff"
   },
   "outputs": [
    {
     "name": "stdout",
     "output_type": "stream",
     "text": [
      "Epoch 1/20\n",
      "8/8 [==============================] - 2s 225ms/step - loss: 0.3875 - accuracy: 0.9643 - val_loss: 0.2587 - val_accuracy: 0.9688\n",
      "Epoch 2/20\n",
      "8/8 [==============================] - 0s 46ms/step - loss: 0.3171 - accuracy: 0.9722 - val_loss: 0.2660 - val_accuracy: 0.9688\n",
      "Epoch 3/20\n",
      "8/8 [==============================] - 0s 48ms/step - loss: 0.3054 - accuracy: 0.9802 - val_loss: 0.2660 - val_accuracy: 0.9688\n",
      "Epoch 4/20\n",
      "8/8 [==============================] - 0s 47ms/step - loss: 0.3054 - accuracy: 0.9802 - val_loss: 0.2660 - val_accuracy: 0.9688\n",
      "Epoch 5/20\n",
      "8/8 [==============================] - 0s 48ms/step - loss: 0.3054 - accuracy: 0.9802 - val_loss: 0.2660 - val_accuracy: 0.9688\n",
      "Epoch 6/20\n",
      "8/8 [==============================] - 0s 44ms/step - loss: 0.3054 - accuracy: 0.9802 - val_loss: 0.2660 - val_accuracy: 0.9688\n",
      "Epoch 7/20\n",
      "8/8 [==============================] - 0s 46ms/step - loss: 0.3054 - accuracy: 0.9802 - val_loss: 0.2660 - val_accuracy: 0.9688\n",
      "Epoch 8/20\n",
      "8/8 [==============================] - 0s 47ms/step - loss: 0.3054 - accuracy: 0.9802 - val_loss: 0.2660 - val_accuracy: 0.9688\n",
      "Epoch 9/20\n",
      "8/8 [==============================] - 0s 47ms/step - loss: 0.3054 - accuracy: 0.9802 - val_loss: 0.2660 - val_accuracy: 0.9688\n",
      "Epoch 10/20\n",
      "8/8 [==============================] - 0s 49ms/step - loss: 0.3054 - accuracy: 0.9802 - val_loss: 0.2660 - val_accuracy: 0.9688\n",
      "Epoch 11/20\n",
      "8/8 [==============================] - 0s 49ms/step - loss: 0.3054 - accuracy: 0.9802 - val_loss: 0.2660 - val_accuracy: 0.9688\n",
      "Epoch 12/20\n",
      "8/8 [==============================] - 0s 45ms/step - loss: 0.3054 - accuracy: 0.9802 - val_loss: 0.2660 - val_accuracy: 0.9688\n",
      "Epoch 13/20\n",
      "8/8 [==============================] - 0s 46ms/step - loss: 0.3054 - accuracy: 0.9802 - val_loss: 0.2660 - val_accuracy: 0.9688\n",
      "Epoch 14/20\n",
      "8/8 [==============================] - 0s 47ms/step - loss: 0.3054 - accuracy: 0.9802 - val_loss: 0.2660 - val_accuracy: 0.9688\n",
      "Epoch 15/20\n",
      "8/8 [==============================] - 0s 48ms/step - loss: 0.3054 - accuracy: 0.9802 - val_loss: 0.2660 - val_accuracy: 0.9688\n",
      "Epoch 16/20\n",
      "8/8 [==============================] - 0s 48ms/step - loss: 0.3054 - accuracy: 0.9802 - val_loss: 0.2660 - val_accuracy: 0.9688\n",
      "Epoch 17/20\n",
      "8/8 [==============================] - 0s 49ms/step - loss: 0.3054 - accuracy: 0.9802 - val_loss: 0.2660 - val_accuracy: 0.9688\n",
      "Epoch 18/20\n",
      "8/8 [==============================] - 0s 48ms/step - loss: 0.3054 - accuracy: 0.9802 - val_loss: 0.2660 - val_accuracy: 0.9688\n",
      "Epoch 19/20\n",
      "8/8 [==============================] - 0s 47ms/step - loss: 0.3054 - accuracy: 0.9802 - val_loss: 0.2660 - val_accuracy: 0.9688\n",
      "Epoch 20/20\n",
      "8/8 [==============================] - 0s 48ms/step - loss: 0.3054 - accuracy: 0.9802 - val_loss: 0.2660 - val_accuracy: 0.9688\n"
     ]
    }
   ],
   "source": [
    "sjn = model_output(sjohn,sjohn1)"
   ]
  },
  {
   "cell_type": "code",
   "execution_count": 39,
   "metadata": {
    "colab": {
     "base_uri": "https://localhost:8080/"
    },
    "id": "tfNflqq4oBFL",
    "outputId": "08af4834-1968-4d45-f204-bae3a64a9ca1"
   },
   "outputs": [
    {
     "name": "stdout",
     "output_type": "stream",
     "text": [
      "Epoch 1/20\n",
      "8/8 [==============================] - 2s 227ms/step - loss: 0.6745 - accuracy: 0.9528 - val_loss: 0.2913 - val_accuracy: 0.9688\n",
      "Epoch 2/20\n",
      "8/8 [==============================] - 0s 46ms/step - loss: 0.6686 - accuracy: 0.9567 - val_loss: 0.2878 - val_accuracy: 0.9531\n",
      "Epoch 3/20\n",
      "8/8 [==============================] - 0s 47ms/step - loss: 0.6673 - accuracy: 0.9567 - val_loss: 0.2878 - val_accuracy: 0.9531\n",
      "Epoch 4/20\n",
      "8/8 [==============================] - 0s 45ms/step - loss: 0.6673 - accuracy: 0.9567 - val_loss: 0.2878 - val_accuracy: 0.9531\n",
      "Epoch 5/20\n",
      "8/8 [==============================] - 0s 48ms/step - loss: 0.6673 - accuracy: 0.9567 - val_loss: 0.2878 - val_accuracy: 0.9531\n",
      "Epoch 6/20\n",
      "8/8 [==============================] - 0s 46ms/step - loss: 0.6673 - accuracy: 0.9567 - val_loss: 0.2878 - val_accuracy: 0.9531\n",
      "Epoch 7/20\n",
      "8/8 [==============================] - 0s 49ms/step - loss: 0.6673 - accuracy: 0.9567 - val_loss: 0.2878 - val_accuracy: 0.9531\n",
      "Epoch 8/20\n",
      "8/8 [==============================] - 0s 46ms/step - loss: 0.6673 - accuracy: 0.9567 - val_loss: 0.2878 - val_accuracy: 0.9531\n",
      "Epoch 9/20\n",
      "8/8 [==============================] - 0s 48ms/step - loss: 0.6673 - accuracy: 0.9567 - val_loss: 0.2878 - val_accuracy: 0.9531\n",
      "Epoch 10/20\n",
      "8/8 [==============================] - 0s 45ms/step - loss: 0.6673 - accuracy: 0.9567 - val_loss: 0.2878 - val_accuracy: 0.9531\n",
      "Epoch 11/20\n",
      "8/8 [==============================] - 0s 47ms/step - loss: 0.6673 - accuracy: 0.9567 - val_loss: 0.2878 - val_accuracy: 0.9531\n",
      "Epoch 12/20\n",
      "8/8 [==============================] - 0s 50ms/step - loss: 0.6673 - accuracy: 0.9567 - val_loss: 0.2878 - val_accuracy: 0.9531\n",
      "Epoch 13/20\n",
      "8/8 [==============================] - 0s 46ms/step - loss: 0.6673 - accuracy: 0.9567 - val_loss: 0.2878 - val_accuracy: 0.9531\n",
      "Epoch 14/20\n",
      "8/8 [==============================] - 0s 51ms/step - loss: 0.6673 - accuracy: 0.9567 - val_loss: 0.2878 - val_accuracy: 0.9531\n",
      "Epoch 15/20\n",
      "8/8 [==============================] - 0s 47ms/step - loss: 0.6673 - accuracy: 0.9567 - val_loss: 0.2878 - val_accuracy: 0.9531\n",
      "Epoch 16/20\n",
      "8/8 [==============================] - 0s 49ms/step - loss: 0.6673 - accuracy: 0.9567 - val_loss: 0.2878 - val_accuracy: 0.9531\n",
      "Epoch 17/20\n",
      "8/8 [==============================] - 0s 46ms/step - loss: 0.6673 - accuracy: 0.9567 - val_loss: 0.2878 - val_accuracy: 0.9531\n",
      "Epoch 18/20\n",
      "8/8 [==============================] - 0s 48ms/step - loss: 0.6673 - accuracy: 0.9567 - val_loss: 0.2878 - val_accuracy: 0.9531\n",
      "Epoch 19/20\n",
      "8/8 [==============================] - 0s 49ms/step - loss: 0.6673 - accuracy: 0.9567 - val_loss: 0.2878 - val_accuracy: 0.9531\n",
      "Epoch 20/20\n",
      "8/8 [==============================] - 0s 48ms/step - loss: 0.6673 - accuracy: 0.9567 - val_loss: 0.2878 - val_accuracy: 0.9531\n"
     ]
    }
   ],
   "source": [
    "tjn = model_output(tjohn,tjohn1)"
   ]
  },
  {
   "cell_type": "code",
   "execution_count": 40,
   "metadata": {
    "colab": {
     "base_uri": "https://localhost:8080/"
    },
    "id": "TvZw6QvfoBFL",
    "outputId": "a0dd6204-84bd-44ae-e1c8-788e7b0a8b38"
   },
   "outputs": [
    {
     "name": "stdout",
     "output_type": "stream",
     "text": [
      "Epoch 1/20\n",
      "9/9 [==============================] - 2s 204ms/step - loss: 0.6647 - accuracy: 0.9504 - val_loss: 1.2359 - val_accuracy: 0.9091\n",
      "Epoch 2/20\n",
      "9/9 [==============================] - 0s 48ms/step - loss: 0.3741 - accuracy: 0.9695 - val_loss: 1.4085 - val_accuracy: 0.9091\n",
      "Epoch 3/20\n",
      "9/9 [==============================] - 0s 48ms/step - loss: 0.2526 - accuracy: 0.9771 - val_loss: 1.0580 - val_accuracy: 0.8788\n",
      "Epoch 4/20\n",
      "9/9 [==============================] - 0s 46ms/step - loss: 0.2453 - accuracy: 0.9809 - val_loss: 1.2259 - val_accuracy: 0.9091\n",
      "Epoch 5/20\n",
      "9/9 [==============================] - 0s 45ms/step - loss: 0.2355 - accuracy: 0.9847 - val_loss: 1.2259 - val_accuracy: 0.9091\n",
      "Epoch 6/20\n",
      "9/9 [==============================] - 0s 47ms/step - loss: 0.2355 - accuracy: 0.9847 - val_loss: 1.2259 - val_accuracy: 0.9091\n",
      "Epoch 7/20\n",
      "9/9 [==============================] - 0s 48ms/step - loss: 0.2355 - accuracy: 0.9847 - val_loss: 1.2259 - val_accuracy: 0.9091\n",
      "Epoch 8/20\n",
      "9/9 [==============================] - 0s 48ms/step - loss: 0.2355 - accuracy: 0.9847 - val_loss: 1.2259 - val_accuracy: 0.9091\n",
      "Epoch 9/20\n",
      "9/9 [==============================] - 0s 47ms/step - loss: 0.2355 - accuracy: 0.9847 - val_loss: 1.2259 - val_accuracy: 0.9091\n",
      "Epoch 10/20\n",
      "9/9 [==============================] - 0s 46ms/step - loss: 0.2355 - accuracy: 0.9847 - val_loss: 1.2259 - val_accuracy: 0.9091\n",
      "Epoch 11/20\n",
      "9/9 [==============================] - 0s 46ms/step - loss: 0.2355 - accuracy: 0.9847 - val_loss: 1.2259 - val_accuracy: 0.9091\n",
      "Epoch 12/20\n",
      "9/9 [==============================] - 0s 47ms/step - loss: 0.2355 - accuracy: 0.9847 - val_loss: 1.2259 - val_accuracy: 0.9091\n",
      "Epoch 13/20\n",
      "9/9 [==============================] - 0s 50ms/step - loss: 0.2355 - accuracy: 0.9847 - val_loss: 1.2259 - val_accuracy: 0.9091\n",
      "Epoch 14/20\n",
      "9/9 [==============================] - 0s 47ms/step - loss: 0.2355 - accuracy: 0.9847 - val_loss: 1.2259 - val_accuracy: 0.9091\n",
      "Epoch 15/20\n",
      "9/9 [==============================] - 0s 46ms/step - loss: 0.2355 - accuracy: 0.9847 - val_loss: 1.2259 - val_accuracy: 0.9091\n",
      "Epoch 16/20\n",
      "9/9 [==============================] - 0s 45ms/step - loss: 0.2355 - accuracy: 0.9847 - val_loss: 1.2259 - val_accuracy: 0.9091\n",
      "Epoch 17/20\n",
      "9/9 [==============================] - 0s 45ms/step - loss: 0.2355 - accuracy: 0.9847 - val_loss: 1.2259 - val_accuracy: 0.9091\n",
      "Epoch 18/20\n",
      "9/9 [==============================] - 0s 45ms/step - loss: 0.2355 - accuracy: 0.9847 - val_loss: 1.2259 - val_accuracy: 0.9091\n",
      "Epoch 19/20\n",
      "9/9 [==============================] - 0s 49ms/step - loss: 0.2355 - accuracy: 0.9847 - val_loss: 1.2259 - val_accuracy: 0.9091\n",
      "Epoch 20/20\n",
      "9/9 [==============================] - 0s 47ms/step - loss: 0.2355 - accuracy: 0.9847 - val_loss: 1.2259 - val_accuracy: 0.9091\n"
     ]
    }
   ],
   "source": [
    "jde = model_output(jud,jud1)"
   ]
  },
  {
   "cell_type": "code",
   "execution_count": 41,
   "metadata": {
    "colab": {
     "base_uri": "https://localhost:8080/"
    },
    "id": "2u8B5N-AoBFL",
    "outputId": "c3653fef-274b-48c0-9bb2-12278903da0d"
   },
   "outputs": [
    {
     "name": "stdout",
     "output_type": "stream",
     "text": [
      "Epoch 1/20\n",
      "18/18 [==============================] - 2s 127ms/step - loss: 1.7587 - accuracy: 0.7951 - val_loss: 1.1916 - val_accuracy: 0.8169\n",
      "Epoch 2/20\n",
      "18/18 [==============================] - 1s 48ms/step - loss: 1.1572 - accuracy: 0.8693 - val_loss: 1.0231 - val_accuracy: 0.8169\n",
      "Epoch 3/20\n",
      "18/18 [==============================] - 1s 50ms/step - loss: 0.8934 - accuracy: 0.8975 - val_loss: 0.7891 - val_accuracy: 0.8310\n",
      "Epoch 4/20\n",
      "18/18 [==============================] - 1s 49ms/step - loss: 0.7772 - accuracy: 0.9382 - val_loss: 0.8319 - val_accuracy: 0.8662\n",
      "Epoch 5/20\n",
      "18/18 [==============================] - 1s 48ms/step - loss: 0.6785 - accuracy: 0.9293 - val_loss: 0.6800 - val_accuracy: 0.9014\n",
      "Epoch 6/20\n",
      "18/18 [==============================] - 1s 49ms/step - loss: 0.5347 - accuracy: 0.9505 - val_loss: 0.7835 - val_accuracy: 0.8873\n",
      "Epoch 7/20\n",
      "18/18 [==============================] - 1s 51ms/step - loss: 0.5083 - accuracy: 0.9629 - val_loss: 0.7880 - val_accuracy: 0.8873\n",
      "Epoch 8/20\n",
      "18/18 [==============================] - 1s 49ms/step - loss: 0.4888 - accuracy: 0.9594 - val_loss: 0.7120 - val_accuracy: 0.8873\n",
      "Epoch 9/20\n",
      "18/18 [==============================] - 1s 51ms/step - loss: 0.4502 - accuracy: 0.9682 - val_loss: 0.6257 - val_accuracy: 0.8732\n",
      "Epoch 10/20\n",
      "18/18 [==============================] - 1s 50ms/step - loss: 0.4443 - accuracy: 0.9717 - val_loss: 0.6199 - val_accuracy: 0.8803\n",
      "Epoch 11/20\n",
      "18/18 [==============================] - 1s 50ms/step - loss: 0.4389 - accuracy: 0.9717 - val_loss: 0.7900 - val_accuracy: 0.8803\n",
      "Epoch 12/20\n",
      "18/18 [==============================] - 1s 52ms/step - loss: 0.4451 - accuracy: 0.9717 - val_loss: 0.8065 - val_accuracy: 0.8732\n",
      "Epoch 13/20\n",
      "18/18 [==============================] - 1s 51ms/step - loss: 0.4560 - accuracy: 0.9611 - val_loss: 0.9251 - val_accuracy: 0.8944\n",
      "Epoch 14/20\n",
      "18/18 [==============================] - 1s 51ms/step - loss: 0.4365 - accuracy: 0.9717 - val_loss: 1.0954 - val_accuracy: 0.8732\n",
      "Epoch 15/20\n",
      "18/18 [==============================] - 1s 51ms/step - loss: 0.4352 - accuracy: 0.9717 - val_loss: 0.9348 - val_accuracy: 0.8521\n",
      "Epoch 16/20\n",
      "18/18 [==============================] - 1s 51ms/step - loss: 0.4659 - accuracy: 0.9682 - val_loss: 0.7246 - val_accuracy: 0.8803\n",
      "Epoch 17/20\n",
      "18/18 [==============================] - 1s 49ms/step - loss: 0.4385 - accuracy: 0.9717 - val_loss: 0.8768 - val_accuracy: 0.8732\n",
      "Epoch 18/20\n",
      "18/18 [==============================] - 1s 52ms/step - loss: 0.4430 - accuracy: 0.9682 - val_loss: 0.8396 - val_accuracy: 0.8380\n",
      "Epoch 19/20\n",
      "18/18 [==============================] - 1s 50ms/step - loss: 0.4462 - accuracy: 0.9700 - val_loss: 0.7983 - val_accuracy: 0.8803\n",
      "Epoch 20/20\n",
      "18/18 [==============================] - 1s 49ms/step - loss: 0.4423 - accuracy: 0.9682 - val_loss: 1.0536 - val_accuracy: 0.8662\n"
     ]
    }
   ],
   "source": [
    "rvl = model_output(rev,rev1)"
   ]
  },
  {
   "cell_type": "code",
   "execution_count": 42,
   "metadata": {
    "id": "GGavl1S-w1Fj"
   },
   "outputs": [],
   "source": [
    "from pandas.core.frame import DataFrame\n",
    "df_loss = {'Matthew':mat.history['loss'],'Mark':mak.history['loss'],'Luke':luk.history['loss'],'John':joh.history['loss'],\n",
    "           'Acts':act.history['loss'],'Romans':rom.history['loss'],'1Cor':fcr.history['loss'],'2Cor':scr.history['loss'],'Gal':glt.history['loss'],\n",
    "           'Eph':ept.history['loss'],'Phl':plp.history['loss'],'Col':cls.history['loss'],'1The':ftl.history['loss'],'2The':stl.history['loss'],\n",
    "           '1Tim':ftm.history['loss'],'2Tim':stm.history['loss'],'Titus':tus.history['loss'],'Phi':plm.history['loss'],'James':jam.history['loss'],\n",
    "           '1Peter':fpt.history['loss'],'2Peter':spt.history['loss'],'1John':fjn.history['loss'],'2John':sjn.history['loss'],'3John':tjn.history['loss'],\n",
    "           'Jude':jde.history['loss'],'Rev':rvl.history['loss']}\n",
    "sbl_loss = DataFrame(df_loss)\n",
    "\n",
    "df_val_loss = {'Matthew':mat.history['val_loss'],'Mark':mak.history['val_loss'],'Luke':luk.history['val_loss'],'John':joh.history['val_loss'],\n",
    "           'Acts':act.history['val_loss'],'Romans':rom.history['val_loss'],'1Cor':fcr.history['val_loss'],'2Cor':scr.history['val_loss'],'Gal':glt.history['val_loss'],\n",
    "           'Eph':ept.history['val_loss'],'Phl':plp.history['val_loss'],'Col':cls.history['val_loss'],'1The':ftl.history['val_loss'],'2The':stl.history['val_loss'],\n",
    "           '1Tim':ftm.history['val_loss'],'2Tim':stm.history['val_loss'],'Titus':tus.history['val_loss'],'Phi':plm.history['val_loss'],'James':jam.history['val_loss'],\n",
    "           '1Peter':fpt.history['val_loss'],'2Peter':spt.history['val_loss'],'1John':fjn.history['val_loss'],'2John':sjn.history['val_loss'],'3John':tjn.history['val_loss'],\n",
    "           'Jude':jde.history['val_loss'],'Rev':rvl.history['val_loss']}\n",
    "sbl_val_loss = DataFrame(df_val_loss)\n",
    "\n",
    "df_accuracy = {'Matthew':mat.history['accuracy'],'Mark':mak.history['accuracy'],'Luke':luk.history['accuracy'],'John':joh.history['accuracy'],\n",
    "           'Acts':act.history['accuracy'],'Romans':rom.history['accuracy'],'1Cor':fcr.history['accuracy'],'2Cor':scr.history['accuracy'],'Gal':glt.history['accuracy'],\n",
    "           'Eph':ept.history['accuracy'],'Phl':plp.history['accuracy'],'Col':cls.history['accuracy'],'1The':ftl.history['accuracy'],'2The':stl.history['accuracy'],\n",
    "           '1Tim':ftm.history['accuracy'],'2Tim':stm.history['accuracy'],'Titus':tus.history['accuracy'],'Phi':plm.history['accuracy'],'James':jam.history['accuracy'],\n",
    "           '1Peter':fpt.history['accuracy'],'2Peter':spt.history['accuracy'],'1John':fjn.history['accuracy'],'2John':sjn.history['accuracy'],'3John':tjn.history['accuracy'],\n",
    "           'Jude':jde.history['accuracy'],'Rev':rvl.history['accuracy']}\n",
    "sbl_accuracy = DataFrame(df_accuracy)\n",
    "\n",
    "df_val_accuracy = {'Matthew':mat.history['val_accuracy'],'Mark':mak.history['val_accuracy'],'Luke':luk.history['val_accuracy'],'John':joh.history['val_accuracy'],\n",
    "           'Acts':act.history['val_accuracy'],'Romans':rom.history['val_accuracy'],'1Cor':fcr.history['val_accuracy'],'2Cor':scr.history['val_accuracy'],'Gal':glt.history['val_accuracy'],\n",
    "           'Eph':ept.history['val_accuracy'],'Phl':plp.history['val_accuracy'],'Col':cls.history['val_accuracy'],'1The':ftl.history['val_accuracy'],'2The':stl.history['val_accuracy'],\n",
    "           '1Tim':ftm.history['val_accuracy'],'2Tim':stm.history['val_accuracy'],'Titus':tus.history['val_accuracy'],'Phi':plm.history['val_accuracy'],'James':jam.history['val_accuracy'],\n",
    "           '1Peter':fpt.history['val_accuracy'],'2Peter':spt.history['val_accuracy'],'1John':fjn.history['val_accuracy'],'2John':sjn.history['val_accuracy'],'3John':tjn.history['val_accuracy'],\n",
    "           'Jude':jde.history['val_accuracy'],'Rev':rvl.history['val_accuracy']}\n",
    "sbl_val_accuracy = DataFrame(df_val_accuracy)"
   ]
  },
  {
   "cell_type": "code",
   "execution_count": 43,
   "metadata": {
    "id": "aVjI8wTVw3cu"
   },
   "outputs": [],
   "source": [
    "sbl_loss.to_excel('spacy SBL LOSS.xlsx',encoding = 'utf-8', index = False)\n",
    "sbl_accuracy.to_excel('spacy SBL ACCURACY.xlsx',encoding = 'utf-8', index = False)  \n",
    "sbl_val_loss.to_excel('spacy SBL VALIDATION LOSS.xlsx',encoding = 'utf-8', index = False)  \n",
    "sbl_val_accuracy.to_excel('spacy SBL VALIDATION ACCURACY.xlsx',encoding = 'utf-8', index = False) "
   ]
  },
  {
   "cell_type": "code",
   "execution_count": 44,
   "metadata": {
    "colab": {
     "base_uri": "https://localhost:8080/",
     "height": 445
    },
    "id": "jRiFI5SQxeHG",
    "outputId": "27388100-6041-444b-b325-d08f73abe4e0"
   },
   "outputs": [
    {
     "data": {
      "image/png": "[encoded data removed]",
      "text/plain": [
       "<Figure size 432x288 with 1 Axes>"
      ]
     },
     "metadata": {
      "needs_background": "light",
      "tags": []
     },
     "output_type": "display_data"
    }
   ],
   "source": [
    "import matplotlib.pyplot as plt\n",
    "\n",
    "matvac = mat.history['val_accuracy']\n",
    "makvac = mak.history['val_accuracy']\n",
    "lukvac = luk.history['val_accuracy']\n",
    "johvac = joh.history['val_accuracy']\n",
    "actvac = act.history['val_accuracy']\n",
    "romvac = rom.history['val_accuracy']\n",
    "fcrvac = fcr.history['val_accuracy']\n",
    "scrvac = scr.history['val_accuracy']\n",
    "gltvac = glt.history['val_accuracy']\n",
    "eptvac = ept.history['val_accuracy']\n",
    "plpvac = plp.history['val_accuracy']\n",
    "clsvac = cls.history['val_accuracy']\n",
    "ftlvac = ftl.history['val_accuracy']\n",
    "stlvac = stl.history['val_accuracy']\n",
    "ftmvac = ftm.history['val_accuracy']\n",
    "stmvac = stm.history['val_accuracy']\n",
    "tusvac = tus.history['val_accuracy']\n",
    "plmvac = plm.history['val_accuracy']\n",
    "jamvac = jam.history['val_accuracy']\n",
    "fptvac = fpt.history['val_accuracy']\n",
    "sptvac = spt.history['val_accuracy']\n",
    "fjnvac = fjn.history['val_accuracy']\n",
    "sjnvac = sjn.history['val_accuracy']\n",
    "tjnvac = tjn.history['val_accuracy']\n",
    "jdevac = jde.history['val_accuracy']\n",
    "rvlvac = rvl.history['val_accuracy']\n",
    "\n",
    "epochs = range(1, len(matvac) + 1)\n",
    "\n",
    "plt.plot(epochs, matvac, 'b', label='matthew')\n",
    "plt.plot(epochs, makvac, 'r', label='mark')\n",
    "plt.plot(epochs, lukvac, 'y', label='luke')\n",
    "plt.plot(epochs, johvac, 'brown', label='john')\n",
    "plt.plot(epochs, actvac, 'coral', label='acts')\n",
    "plt.plot(epochs, romvac, 'darkgray', label='romans')\n",
    "plt.plot(epochs, fcrvac, 'deeppink', label='1Cor')\n",
    "plt.plot(epochs, scrvac, 'gold', label='2Cor')\n",
    "plt.plot(epochs, gltvac, 'green', label='Gal')\n",
    "plt.plot(epochs, eptvac, 'lightblue', label='Eph')\n",
    "plt.plot(epochs, plpvac, 'lightcoral', label='Phl')\n",
    "plt.plot(epochs, clsvac, 'lightgreen', label='Col')\n",
    "plt.plot(epochs, ftlvac, 'lightskyblue', label='1The')\n",
    "plt.plot(epochs, stlvac, 'navy', label='2The')\n",
    "plt.plot(epochs, ftmvac, 'skyblue', label='1Tim')\n",
    "plt.plot(epochs, stmvac, 'yellowgreen', label='2Tim')\n",
    "plt.plot(epochs, tusvac, 'peru', label='Titus')\n",
    "plt.plot(epochs, plmvac, 'orange', label='Phi')\n",
    "plt.plot(epochs, jamvac, 'purple', label='James')\n",
    "plt.plot(epochs, fptvac, 'orchid', label='1Peter')\n",
    "plt.plot(epochs, sptvac, 'ivory', label='2Peter')\n",
    "plt.plot(epochs, fjnvac, 'firebrick', label='1John')\n",
    "plt.plot(epochs, sjnvac, 'lightcyan', label='2John')\n",
    "plt.plot(epochs, tjnvac, 'violet', label='3John')\n",
    "plt.plot(epochs, jdevac, 'darkmagenta', label='Jude')\n",
    "plt.plot(epochs, rvlvac, 'magenta', label='Rev')\n",
    "plt.title('sbl writing style validation accuracy')\n",
    "plt.xlabel('Epochs')\n",
    "plt.ylabel('Loss')\n",
    "plt.legend()\n",
    "\n",
    "plt.show()"
   ]
  },
  {
   "cell_type": "code",
   "execution_count": 45,
   "metadata": {
    "id": "9gf40kI2oBFM"
   },
   "outputs": [],
   "source": [
    "mat_s1 = cosine_text(Matthew)\n",
    "mark_s1 = cosine_text(Mark)\n",
    "luke_s1 = cosine_text(Luke_Book)\n",
    "jam_s1 = cosine_text(James)\n",
    "pet_s1 = cosine_text(Peter_letter)\n",
    "john_s1 = cosine_text(John_Book.dropna())\n",
    "jude_s1 = cosine_text(Jude)\n",
    "pl_s1 = cosine_text(Paul_letters)"
   ]
  },
  {
   "cell_type": "code",
   "execution_count": 46,
   "metadata": {
    "id": "Aftz9CqWoBFM"
   },
   "outputs": [],
   "source": [
    "mat_s11 = text_author(Matthew)\n",
    "mark_s11 = text_author(Mark)\n",
    "luke_s11 = text_author(Luke_Book)\n",
    "jam_s11 = text_author(James)\n",
    "pet_s11 = text_author(Peter_letter)\n",
    "john_s11 = text_author(John_Book.dropna())\n",
    "jude_s11 = text_author(Jude)\n",
    "pl_s11 = text_author(Paul_letters)"
   ]
  },
  {
   "cell_type": "code",
   "execution_count": 47,
   "metadata": {
    "colab": {
     "base_uri": "https://localhost:8080/"
    },
    "id": "PWT2FOuBoBFM",
    "outputId": "29cfdbb5-360c-4318-ddf4-1986effe2b78"
   },
   "outputs": [
    {
     "name": "stdout",
     "output_type": "stream",
     "text": [
      "Epoch 1/20\n",
      "35/35 [==============================] - 3s 92ms/step - loss: 2.0222 - accuracy: 0.8084 - val_loss: 1.5021 - val_accuracy: 0.8182\n",
      "Epoch 2/20\n",
      "35/35 [==============================] - 2s 50ms/step - loss: 1.3673 - accuracy: 0.8622 - val_loss: 1.5965 - val_accuracy: 0.8218\n",
      "Epoch 3/20\n",
      "35/35 [==============================] - 2s 51ms/step - loss: 1.0986 - accuracy: 0.8823 - val_loss: 1.9061 - val_accuracy: 0.8073\n",
      "Epoch 4/20\n",
      "35/35 [==============================] - 2s 50ms/step - loss: 1.0193 - accuracy: 0.9051 - val_loss: 1.5312 - val_accuracy: 0.8327\n",
      "Epoch 5/20\n",
      "35/35 [==============================] - 2s 51ms/step - loss: 0.8916 - accuracy: 0.9042 - val_loss: 1.6058 - val_accuracy: 0.8073\n",
      "Epoch 6/20\n",
      "35/35 [==============================] - 2s 52ms/step - loss: 0.7833 - accuracy: 0.9078 - val_loss: 1.7686 - val_accuracy: 0.7927\n",
      "Epoch 7/20\n",
      "35/35 [==============================] - 2s 51ms/step - loss: 0.6147 - accuracy: 0.9243 - val_loss: 1.4850 - val_accuracy: 0.8145\n",
      "Epoch 8/20\n",
      "35/35 [==============================] - 2s 52ms/step - loss: 0.4635 - accuracy: 0.9462 - val_loss: 1.4637 - val_accuracy: 0.8182\n",
      "Epoch 9/20\n",
      "35/35 [==============================] - 2s 51ms/step - loss: 0.4318 - accuracy: 0.9644 - val_loss: 1.5069 - val_accuracy: 0.8400\n",
      "Epoch 10/20\n",
      "35/35 [==============================] - 2s 52ms/step - loss: 0.4002 - accuracy: 0.9626 - val_loss: 1.4769 - val_accuracy: 0.8182\n",
      "Epoch 11/20\n",
      "35/35 [==============================] - 2s 51ms/step - loss: 0.3720 - accuracy: 0.9662 - val_loss: 1.6828 - val_accuracy: 0.8400\n",
      "Epoch 12/20\n",
      "35/35 [==============================] - 2s 52ms/step - loss: 0.3407 - accuracy: 0.9717 - val_loss: 1.8961 - val_accuracy: 0.8109\n",
      "Epoch 13/20\n",
      "35/35 [==============================] - 2s 52ms/step - loss: 0.3299 - accuracy: 0.9781 - val_loss: 1.9570 - val_accuracy: 0.8255\n",
      "Epoch 14/20\n",
      "35/35 [==============================] - 2s 52ms/step - loss: 0.3355 - accuracy: 0.9763 - val_loss: 1.7094 - val_accuracy: 0.8400\n",
      "Epoch 15/20\n",
      "35/35 [==============================] - 2s 52ms/step - loss: 0.3322 - accuracy: 0.9763 - val_loss: 1.8307 - val_accuracy: 0.8073\n",
      "Epoch 16/20\n",
      "35/35 [==============================] - 2s 52ms/step - loss: 0.3446 - accuracy: 0.9745 - val_loss: 1.8013 - val_accuracy: 0.8364\n",
      "Epoch 17/20\n",
      "35/35 [==============================] - 2s 52ms/step - loss: 0.3477 - accuracy: 0.9726 - val_loss: 2.0569 - val_accuracy: 0.8327\n",
      "Epoch 18/20\n",
      "35/35 [==============================] - 2s 51ms/step - loss: 0.3335 - accuracy: 0.9745 - val_loss: 1.6356 - val_accuracy: 0.8291\n",
      "Epoch 19/20\n",
      "35/35 [==============================] - 2s 51ms/step - loss: 0.3062 - accuracy: 0.9735 - val_loss: 1.7667 - val_accuracy: 0.8073\n",
      "Epoch 20/20\n",
      "35/35 [==============================] - 2s 52ms/step - loss: 0.3000 - accuracy: 0.9790 - val_loss: 1.8966 - val_accuracy: 0.8145\n"
     ]
    }
   ],
   "source": [
    "matthewbook = model_output(mat_s1,mat_s11)"
   ]
  },
  {
   "cell_type": "code",
   "execution_count": 48,
   "metadata": {
    "colab": {
     "base_uri": "https://localhost:8080/"
    },
    "id": "H2eMN-M0oBFM",
    "outputId": "55135800-f7d3-486d-da25-07826d2b5eb0"
   },
   "outputs": [
    {
     "name": "stdout",
     "output_type": "stream",
     "text": [
      "Epoch 1/20\n",
      "25/25 [==============================] - 3s 105ms/step - loss: 1.8986 - accuracy: 0.8167 - val_loss: 1.8119 - val_accuracy: 0.8010\n",
      "Epoch 2/20\n",
      "25/25 [==============================] - 1s 50ms/step - loss: 1.8663 - accuracy: 0.8423 - val_loss: 2.3989 - val_accuracy: 0.7806\n",
      "Epoch 3/20\n",
      "25/25 [==============================] - 1s 51ms/step - loss: 1.6106 - accuracy: 0.8538 - val_loss: 2.2539 - val_accuracy: 0.8010\n",
      "Epoch 4/20\n",
      "25/25 [==============================] - 1s 49ms/step - loss: 1.3987 - accuracy: 0.8821 - val_loss: 2.0599 - val_accuracy: 0.7857\n",
      "Epoch 5/20\n",
      "25/25 [==============================] - 1s 50ms/step - loss: 1.2965 - accuracy: 0.8936 - val_loss: 2.2989 - val_accuracy: 0.7959\n",
      "Epoch 6/20\n",
      "25/25 [==============================] - 1s 50ms/step - loss: 1.2371 - accuracy: 0.9038 - val_loss: 2.0077 - val_accuracy: 0.8112\n",
      "Epoch 7/20\n",
      "25/25 [==============================] - 1s 52ms/step - loss: 1.0944 - accuracy: 0.9077 - val_loss: 2.0518 - val_accuracy: 0.7755\n",
      "Epoch 8/20\n",
      "25/25 [==============================] - 1s 51ms/step - loss: 1.0217 - accuracy: 0.9231 - val_loss: 2.1889 - val_accuracy: 0.7653\n",
      "Epoch 9/20\n",
      "25/25 [==============================] - 1s 51ms/step - loss: 0.9474 - accuracy: 0.9115 - val_loss: 1.9426 - val_accuracy: 0.8010\n",
      "Epoch 10/20\n",
      "25/25 [==============================] - 1s 50ms/step - loss: 0.7933 - accuracy: 0.9154 - val_loss: 1.8744 - val_accuracy: 0.7755\n",
      "Epoch 11/20\n",
      "25/25 [==============================] - 1s 52ms/step - loss: 0.6382 - accuracy: 0.9513 - val_loss: 1.9691 - val_accuracy: 0.7857\n",
      "Epoch 12/20\n",
      "25/25 [==============================] - 1s 51ms/step - loss: 0.6205 - accuracy: 0.9590 - val_loss: 1.9599 - val_accuracy: 0.8112\n",
      "Epoch 13/20\n",
      "25/25 [==============================] - 1s 52ms/step - loss: 0.6081 - accuracy: 0.9564 - val_loss: 1.8664 - val_accuracy: 0.8010\n",
      "Epoch 14/20\n",
      "25/25 [==============================] - 1s 51ms/step - loss: 0.6151 - accuracy: 0.9551 - val_loss: 1.7527 - val_accuracy: 0.7959\n",
      "Epoch 15/20\n",
      "25/25 [==============================] - 1s 51ms/step - loss: 0.5333 - accuracy: 0.9577 - val_loss: 1.8140 - val_accuracy: 0.7908\n",
      "Epoch 16/20\n",
      "25/25 [==============================] - 1s 52ms/step - loss: 0.5117 - accuracy: 0.9667 - val_loss: 1.8280 - val_accuracy: 0.7755\n",
      "Epoch 17/20\n",
      "25/25 [==============================] - 1s 51ms/step - loss: 0.5135 - accuracy: 0.9654 - val_loss: 1.7490 - val_accuracy: 0.7857\n",
      "Epoch 18/20\n",
      "25/25 [==============================] - 1s 52ms/step - loss: 0.5354 - accuracy: 0.9641 - val_loss: 1.6797 - val_accuracy: 0.7959\n",
      "Epoch 19/20\n",
      "25/25 [==============================] - 1s 50ms/step - loss: 0.5006 - accuracy: 0.9577 - val_loss: 2.1362 - val_accuracy: 0.8112\n",
      "Epoch 20/20\n",
      "25/25 [==============================] - 1s 52ms/step - loss: 0.4612 - accuracy: 0.9679 - val_loss: 2.0141 - val_accuracy: 0.8010\n"
     ]
    }
   ],
   "source": [
    "markbook = model_output(mark_s1,mark_s11)"
   ]
  },
  {
   "cell_type": "code",
   "execution_count": 49,
   "metadata": {
    "colab": {
     "base_uri": "https://localhost:8080/"
    },
    "id": "0NYRSQ4roBFM",
    "outputId": "1a9a8824-7ee2-447e-9344-dc8838ce0dac"
   },
   "outputs": [
    {
     "name": "stdout",
     "output_type": "stream",
     "text": [
      "Epoch 1/20\n",
      "62/62 [==============================] - 5s 76ms/step - loss: 0.7587 - accuracy: 0.9139 - val_loss: 1.2963 - val_accuracy: 0.8635\n",
      "Epoch 2/20\n",
      "62/62 [==============================] - 3s 51ms/step - loss: 0.6253 - accuracy: 0.9317 - val_loss: 0.9284 - val_accuracy: 0.8819\n",
      "Epoch 3/20\n",
      "62/62 [==============================] - 3s 52ms/step - loss: 0.5690 - accuracy: 0.9435 - val_loss: 1.0081 - val_accuracy: 0.8859\n",
      "Epoch 4/20\n",
      "62/62 [==============================] - 3s 54ms/step - loss: 0.4813 - accuracy: 0.9577 - val_loss: 1.0551 - val_accuracy: 0.8880\n",
      "Epoch 5/20\n",
      "62/62 [==============================] - 3s 53ms/step - loss: 0.5293 - accuracy: 0.9460 - val_loss: 1.1897 - val_accuracy: 0.8737\n",
      "Epoch 6/20\n",
      "62/62 [==============================] - 3s 53ms/step - loss: 0.4299 - accuracy: 0.9633 - val_loss: 1.2295 - val_accuracy: 0.8819\n",
      "Epoch 7/20\n",
      "62/62 [==============================] - 3s 54ms/step - loss: 0.3957 - accuracy: 0.9643 - val_loss: 0.8713 - val_accuracy: 0.9022\n",
      "Epoch 8/20\n",
      "62/62 [==============================] - 3s 54ms/step - loss: 0.3771 - accuracy: 0.9654 - val_loss: 0.9448 - val_accuracy: 0.8859\n",
      "Epoch 9/20\n",
      "62/62 [==============================] - 3s 55ms/step - loss: 0.3178 - accuracy: 0.9745 - val_loss: 1.0216 - val_accuracy: 0.8961\n",
      "Epoch 10/20\n",
      "62/62 [==============================] - 3s 55ms/step - loss: 0.3007 - accuracy: 0.9761 - val_loss: 1.0962 - val_accuracy: 0.8798\n",
      "Epoch 11/20\n",
      "62/62 [==============================] - 3s 52ms/step - loss: 0.2981 - accuracy: 0.9786 - val_loss: 1.1315 - val_accuracy: 0.8880\n",
      "Epoch 12/20\n",
      "62/62 [==============================] - 3s 52ms/step - loss: 0.2913 - accuracy: 0.9776 - val_loss: 1.0798 - val_accuracy: 0.8819\n",
      "Epoch 13/20\n",
      "62/62 [==============================] - 3s 54ms/step - loss: 0.2718 - accuracy: 0.9806 - val_loss: 1.2828 - val_accuracy: 0.8778\n",
      "Epoch 14/20\n",
      "62/62 [==============================] - 3s 52ms/step - loss: 0.2922 - accuracy: 0.9750 - val_loss: 1.1778 - val_accuracy: 0.8717\n",
      "Epoch 15/20\n",
      "62/62 [==============================] - 3s 53ms/step - loss: 0.2686 - accuracy: 0.9812 - val_loss: 1.1663 - val_accuracy: 0.8839\n",
      "Epoch 16/20\n",
      "62/62 [==============================] - 3s 53ms/step - loss: 0.2787 - accuracy: 0.9806 - val_loss: 1.0419 - val_accuracy: 0.8941\n",
      "Epoch 17/20\n",
      "62/62 [==============================] - 3s 53ms/step - loss: 0.2650 - accuracy: 0.9786 - val_loss: 1.2289 - val_accuracy: 0.8859\n",
      "Epoch 18/20\n",
      "62/62 [==============================] - 3s 54ms/step - loss: 0.2904 - accuracy: 0.9745 - val_loss: 1.2814 - val_accuracy: 0.8758\n",
      "Epoch 19/20\n",
      "62/62 [==============================] - 3s 53ms/step - loss: 0.2604 - accuracy: 0.9781 - val_loss: 1.1052 - val_accuracy: 0.8798\n",
      "Epoch 20/20\n",
      "62/62 [==============================] - 3s 54ms/step - loss: 0.2544 - accuracy: 0.9806 - val_loss: 1.2147 - val_accuracy: 0.8737\n"
     ]
    }
   ],
   "source": [
    "lukebook = model_output(luke_s1,luke_s11)"
   ]
  },
  {
   "cell_type": "code",
   "execution_count": 50,
   "metadata": {
    "colab": {
     "base_uri": "https://localhost:8080/"
    },
    "id": "xbByCJmdoBFM",
    "outputId": "2279a663-5140-4609-8e89-b37bb1035d67"
   },
   "outputs": [
    {
     "name": "stdout",
     "output_type": "stream",
     "text": [
      "Epoch 1/20\n",
      "11/11 [==============================] - 2s 194ms/step - loss: 1.3776 - accuracy: 0.8537 - val_loss: 1.7273 - val_accuracy: 0.8554\n",
      "Epoch 2/20\n",
      "11/11 [==============================] - 1s 55ms/step - loss: 1.0688 - accuracy: 0.9146 - val_loss: 1.7197 - val_accuracy: 0.8675\n",
      "Epoch 3/20\n",
      "11/11 [==============================] - 1s 52ms/step - loss: 1.0342 - accuracy: 0.9329 - val_loss: 1.7235 - val_accuracy: 0.8675\n",
      "Epoch 4/20\n",
      "11/11 [==============================] - 1s 53ms/step - loss: 1.0288 - accuracy: 0.9329 - val_loss: 1.7253 - val_accuracy: 0.8554\n",
      "Epoch 5/20\n",
      "11/11 [==============================] - 1s 52ms/step - loss: 1.0272 - accuracy: 0.9329 - val_loss: 1.7285 - val_accuracy: 0.8554\n",
      "Epoch 6/20\n",
      "11/11 [==============================] - 1s 53ms/step - loss: 0.9624 - accuracy: 0.9299 - val_loss: 1.3866 - val_accuracy: 0.8675\n",
      "Epoch 7/20\n",
      "11/11 [==============================] - 1s 50ms/step - loss: 0.8579 - accuracy: 0.9390 - val_loss: 1.5355 - val_accuracy: 0.8795\n",
      "Epoch 8/20\n",
      "11/11 [==============================] - 1s 49ms/step - loss: 0.8011 - accuracy: 0.9451 - val_loss: 1.7221 - val_accuracy: 0.8795\n",
      "Epoch 9/20\n",
      "11/11 [==============================] - 1s 52ms/step - loss: 0.7999 - accuracy: 0.9482 - val_loss: 1.8873 - val_accuracy: 0.8675\n",
      "Epoch 10/20\n",
      "11/11 [==============================] - 1s 51ms/step - loss: 0.7941 - accuracy: 0.9482 - val_loss: 1.8873 - val_accuracy: 0.8675\n",
      "Epoch 11/20\n",
      "11/11 [==============================] - 1s 53ms/step - loss: 0.7941 - accuracy: 0.9482 - val_loss: 1.8873 - val_accuracy: 0.8675\n",
      "Epoch 12/20\n",
      "11/11 [==============================] - 1s 52ms/step - loss: 0.7941 - accuracy: 0.9482 - val_loss: 1.8873 - val_accuracy: 0.8675\n",
      "Epoch 13/20\n",
      "11/11 [==============================] - 1s 49ms/step - loss: 0.7941 - accuracy: 0.9482 - val_loss: 1.8873 - val_accuracy: 0.8675\n",
      "Epoch 14/20\n",
      "11/11 [==============================] - 1s 51ms/step - loss: 0.7941 - accuracy: 0.9482 - val_loss: 1.8873 - val_accuracy: 0.8675\n",
      "Epoch 15/20\n",
      "11/11 [==============================] - 1s 52ms/step - loss: 0.7941 - accuracy: 0.9482 - val_loss: 1.8873 - val_accuracy: 0.8675\n",
      "Epoch 16/20\n",
      "11/11 [==============================] - 1s 52ms/step - loss: 0.7941 - accuracy: 0.9482 - val_loss: 1.8873 - val_accuracy: 0.8675\n",
      "Epoch 17/20\n",
      "11/11 [==============================] - 1s 54ms/step - loss: 0.7941 - accuracy: 0.9482 - val_loss: 1.8873 - val_accuracy: 0.8675\n",
      "Epoch 18/20\n",
      "11/11 [==============================] - 1s 55ms/step - loss: 0.7941 - accuracy: 0.9482 - val_loss: 1.8873 - val_accuracy: 0.8675\n",
      "Epoch 19/20\n",
      "11/11 [==============================] - 1s 54ms/step - loss: 0.7941 - accuracy: 0.9482 - val_loss: 1.8873 - val_accuracy: 0.8675\n",
      "Epoch 20/20\n",
      "11/11 [==============================] - 1s 51ms/step - loss: 0.7941 - accuracy: 0.9482 - val_loss: 1.8873 - val_accuracy: 0.8675\n"
     ]
    }
   ],
   "source": [
    "jams = model_output(jam_s1,jam_s11)"
   ]
  },
  {
   "cell_type": "code",
   "execution_count": 51,
   "metadata": {
    "colab": {
     "base_uri": "https://localhost:8080/"
    },
    "id": "lQtaYq2xoBFN",
    "outputId": "95bb7ef2-cef2-49ac-d04b-4dbe038180cc"
   },
   "outputs": [
    {
     "name": "stdout",
     "output_type": "stream",
     "text": [
      "Epoch 1/20\n",
      "12/12 [==============================] - 2s 176ms/step - loss: 1.1009 - accuracy: 0.8693 - val_loss: 0.8522 - val_accuracy: 0.9255\n",
      "Epoch 2/20\n",
      "12/12 [==============================] - 1s 52ms/step - loss: 0.8532 - accuracy: 0.9093 - val_loss: 0.8457 - val_accuracy: 0.9362\n",
      "Epoch 3/20\n",
      "12/12 [==============================] - 1s 52ms/step - loss: 0.7898 - accuracy: 0.9493 - val_loss: 0.8405 - val_accuracy: 0.9362\n",
      "Epoch 4/20\n",
      "12/12 [==============================] - 1s 51ms/step - loss: 0.7803 - accuracy: 0.9493 - val_loss: 0.8398 - val_accuracy: 0.9362\n",
      "Epoch 5/20\n",
      "12/12 [==============================] - 1s 51ms/step - loss: 0.7767 - accuracy: 0.9493 - val_loss: 0.8458 - val_accuracy: 0.9362\n",
      "Epoch 6/20\n",
      "12/12 [==============================] - 1s 52ms/step - loss: 0.7754 - accuracy: 0.9493 - val_loss: 0.8458 - val_accuracy: 0.9362\n",
      "Epoch 7/20\n",
      "12/12 [==============================] - 1s 54ms/step - loss: 0.7754 - accuracy: 0.9493 - val_loss: 0.8458 - val_accuracy: 0.9362\n",
      "Epoch 8/20\n",
      "12/12 [==============================] - 1s 52ms/step - loss: 0.7754 - accuracy: 0.9493 - val_loss: 0.8458 - val_accuracy: 0.9362\n",
      "Epoch 9/20\n",
      "12/12 [==============================] - 1s 51ms/step - loss: 0.7754 - accuracy: 0.9493 - val_loss: 0.8458 - val_accuracy: 0.9362\n",
      "Epoch 10/20\n",
      "12/12 [==============================] - 1s 52ms/step - loss: 0.7754 - accuracy: 0.9493 - val_loss: 0.8458 - val_accuracy: 0.9362\n",
      "Epoch 11/20\n",
      "12/12 [==============================] - 1s 54ms/step - loss: 0.7754 - accuracy: 0.9493 - val_loss: 0.8458 - val_accuracy: 0.9362\n",
      "Epoch 12/20\n",
      "12/12 [==============================] - 1s 51ms/step - loss: 0.7754 - accuracy: 0.9493 - val_loss: 0.8458 - val_accuracy: 0.9362\n",
      "Epoch 13/20\n",
      "12/12 [==============================] - 1s 53ms/step - loss: 0.7754 - accuracy: 0.9493 - val_loss: 0.8458 - val_accuracy: 0.9362\n",
      "Epoch 14/20\n",
      "12/12 [==============================] - 1s 52ms/step - loss: 0.7754 - accuracy: 0.9493 - val_loss: 0.8458 - val_accuracy: 0.9362\n",
      "Epoch 15/20\n",
      "12/12 [==============================] - 1s 55ms/step - loss: 0.7754 - accuracy: 0.9493 - val_loss: 0.8458 - val_accuracy: 0.9362\n",
      "Epoch 16/20\n",
      "12/12 [==============================] - 1s 51ms/step - loss: 0.7754 - accuracy: 0.9493 - val_loss: 0.8458 - val_accuracy: 0.9362\n",
      "Epoch 17/20\n",
      "12/12 [==============================] - 1s 49ms/step - loss: 0.7754 - accuracy: 0.9493 - val_loss: 0.8458 - val_accuracy: 0.9362\n",
      "Epoch 18/20\n",
      "12/12 [==============================] - 1s 53ms/step - loss: 0.7754 - accuracy: 0.9493 - val_loss: 0.8458 - val_accuracy: 0.9362\n",
      "Epoch 19/20\n",
      "12/12 [==============================] - 1s 53ms/step - loss: 0.7754 - accuracy: 0.9493 - val_loss: 0.8458 - val_accuracy: 0.9362\n",
      "Epoch 20/20\n",
      "12/12 [==============================] - 1s 50ms/step - loss: 0.7754 - accuracy: 0.9493 - val_loss: 0.8458 - val_accuracy: 0.9362\n"
     ]
    }
   ],
   "source": [
    "peter = model_output(pet_s1,pet_s11)"
   ]
  },
  {
   "cell_type": "code",
   "execution_count": 52,
   "metadata": {
    "colab": {
     "base_uri": "https://localhost:8080/"
    },
    "id": "6hgUhKOsoBFN",
    "outputId": "04784735-d9a5-4a14-c177-247e339125e4"
   },
   "outputs": [
    {
     "name": "stdout",
     "output_type": "stream",
     "text": [
      "Epoch 1/20\n",
      "43/43 [==============================] - 4s 87ms/step - loss: 0.6703 - accuracy: 0.9172 - val_loss: 0.6438 - val_accuracy: 0.9327\n",
      "Epoch 2/20\n",
      "43/43 [==============================] - 2s 52ms/step - loss: 0.5401 - accuracy: 0.9436 - val_loss: 0.5363 - val_accuracy: 0.9298\n",
      "Epoch 3/20\n",
      "43/43 [==============================] - 2s 55ms/step - loss: 0.4137 - accuracy: 0.9568 - val_loss: 0.5600 - val_accuracy: 0.9327\n",
      "Epoch 4/20\n",
      "43/43 [==============================] - 2s 57ms/step - loss: 0.3483 - accuracy: 0.9648 - val_loss: 0.4983 - val_accuracy: 0.9444\n",
      "Epoch 5/20\n",
      "43/43 [==============================] - 2s 57ms/step - loss: 0.2918 - accuracy: 0.9751 - val_loss: 0.5173 - val_accuracy: 0.9269\n",
      "Epoch 6/20\n",
      "43/43 [==============================] - 2s 52ms/step - loss: 0.3036 - accuracy: 0.9707 - val_loss: 0.4684 - val_accuracy: 0.9327\n",
      "Epoch 7/20\n",
      "43/43 [==============================] - 2s 54ms/step - loss: 0.3033 - accuracy: 0.9780 - val_loss: 0.5093 - val_accuracy: 0.9474\n",
      "Epoch 8/20\n",
      "43/43 [==============================] - 2s 56ms/step - loss: 0.2572 - accuracy: 0.9788 - val_loss: 0.4958 - val_accuracy: 0.9444\n",
      "Epoch 9/20\n",
      "43/43 [==============================] - 2s 54ms/step - loss: 0.2437 - accuracy: 0.9802 - val_loss: 0.5796 - val_accuracy: 0.9444\n",
      "Epoch 10/20\n",
      "43/43 [==============================] - 2s 56ms/step - loss: 0.2345 - accuracy: 0.9824 - val_loss: 0.5900 - val_accuracy: 0.9444\n",
      "Epoch 11/20\n",
      "43/43 [==============================] - 2s 53ms/step - loss: 0.2292 - accuracy: 0.9839 - val_loss: 0.5883 - val_accuracy: 0.9357\n",
      "Epoch 12/20\n",
      "43/43 [==============================] - 2s 53ms/step - loss: 0.2387 - accuracy: 0.9839 - val_loss: 0.5569 - val_accuracy: 0.9269\n",
      "Epoch 13/20\n",
      "43/43 [==============================] - 2s 55ms/step - loss: 0.2434 - accuracy: 0.9817 - val_loss: 0.6398 - val_accuracy: 0.9357\n",
      "Epoch 14/20\n",
      "43/43 [==============================] - 2s 54ms/step - loss: 0.2293 - accuracy: 0.9832 - val_loss: 0.7287 - val_accuracy: 0.9240\n",
      "Epoch 15/20\n",
      "43/43 [==============================] - 2s 54ms/step - loss: 0.2193 - accuracy: 0.9839 - val_loss: 0.5383 - val_accuracy: 0.9415\n",
      "Epoch 16/20\n",
      "43/43 [==============================] - 2s 56ms/step - loss: 0.2294 - accuracy: 0.9795 - val_loss: 0.4787 - val_accuracy: 0.9357\n",
      "Epoch 17/20\n",
      "43/43 [==============================] - 2s 54ms/step - loss: 0.2193 - accuracy: 0.9839 - val_loss: 0.5915 - val_accuracy: 0.9327\n",
      "Epoch 18/20\n",
      "43/43 [==============================] - 2s 53ms/step - loss: 0.2053 - accuracy: 0.9846 - val_loss: 0.6839 - val_accuracy: 0.9298\n",
      "Epoch 19/20\n",
      "43/43 [==============================] - 2s 54ms/step - loss: 0.2070 - accuracy: 0.9846 - val_loss: 0.7068 - val_accuracy: 0.9181\n",
      "Epoch 20/20\n",
      "43/43 [==============================] - 2s 55ms/step - loss: 0.1984 - accuracy: 0.9839 - val_loss: 0.6714 - val_accuracy: 0.9386\n"
     ]
    }
   ],
   "source": [
    "johnbook = model_output(john_s1,john_s11)"
   ]
  },
  {
   "cell_type": "code",
   "execution_count": 53,
   "metadata": {
    "colab": {
     "base_uri": "https://localhost:8080/"
    },
    "id": "f2rju0X2oBFN",
    "outputId": "4a10b8f0-be0d-41de-ba72-11da903301a6"
   },
   "outputs": [
    {
     "name": "stdout",
     "output_type": "stream",
     "text": [
      "Epoch 1/20\n",
      "9/9 [==============================] - 2s 214ms/step - loss: 0.8030 - accuracy: 0.9313 - val_loss: 0.7581 - val_accuracy: 0.9242\n",
      "Epoch 2/20\n",
      "9/9 [==============================] - 0s 50ms/step - loss: 0.6084 - accuracy: 0.9466 - val_loss: 0.7542 - val_accuracy: 0.9242\n",
      "Epoch 3/20\n",
      "9/9 [==============================] - 0s 51ms/step - loss: 0.5331 - accuracy: 0.9580 - val_loss: 0.7734 - val_accuracy: 0.9242\n",
      "Epoch 4/20\n",
      "9/9 [==============================] - 0s 47ms/step - loss: 0.5245 - accuracy: 0.9656 - val_loss: 0.7734 - val_accuracy: 0.9242\n",
      "Epoch 5/20\n",
      "9/9 [==============================] - 0s 51ms/step - loss: 0.5245 - accuracy: 0.9656 - val_loss: 0.7734 - val_accuracy: 0.9242\n",
      "Epoch 6/20\n",
      "9/9 [==============================] - 0s 49ms/step - loss: 0.5245 - accuracy: 0.9656 - val_loss: 0.7734 - val_accuracy: 0.9242\n",
      "Epoch 7/20\n",
      "9/9 [==============================] - 0s 49ms/step - loss: 0.5245 - accuracy: 0.9656 - val_loss: 0.7734 - val_accuracy: 0.9242\n",
      "Epoch 8/20\n",
      "9/9 [==============================] - 0s 50ms/step - loss: 0.5245 - accuracy: 0.9656 - val_loss: 0.7734 - val_accuracy: 0.9242\n",
      "Epoch 9/20\n",
      "9/9 [==============================] - 0s 50ms/step - loss: 0.5245 - accuracy: 0.9656 - val_loss: 0.7734 - val_accuracy: 0.9242\n",
      "Epoch 10/20\n",
      "9/9 [==============================] - 0s 48ms/step - loss: 0.5245 - accuracy: 0.9656 - val_loss: 0.7734 - val_accuracy: 0.9242\n",
      "Epoch 11/20\n",
      "9/9 [==============================] - 0s 50ms/step - loss: 0.5245 - accuracy: 0.9656 - val_loss: 0.7734 - val_accuracy: 0.9242\n",
      "Epoch 12/20\n",
      "9/9 [==============================] - 0s 54ms/step - loss: 0.5245 - accuracy: 0.9656 - val_loss: 0.7734 - val_accuracy: 0.9242\n",
      "Epoch 13/20\n",
      "9/9 [==============================] - 0s 47ms/step - loss: 0.5245 - accuracy: 0.9656 - val_loss: 0.7734 - val_accuracy: 0.9242\n",
      "Epoch 14/20\n",
      "9/9 [==============================] - 0s 49ms/step - loss: 0.5245 - accuracy: 0.9656 - val_loss: 0.7734 - val_accuracy: 0.9242\n",
      "Epoch 15/20\n",
      "9/9 [==============================] - 0s 50ms/step - loss: 0.5245 - accuracy: 0.9656 - val_loss: 0.7734 - val_accuracy: 0.9242\n",
      "Epoch 16/20\n",
      "9/9 [==============================] - 0s 50ms/step - loss: 0.5245 - accuracy: 0.9656 - val_loss: 0.7734 - val_accuracy: 0.9242\n",
      "Epoch 17/20\n",
      "9/9 [==============================] - 0s 50ms/step - loss: 0.5245 - accuracy: 0.9656 - val_loss: 0.7734 - val_accuracy: 0.9242\n",
      "Epoch 18/20\n",
      "9/9 [==============================] - 0s 48ms/step - loss: 0.5245 - accuracy: 0.9656 - val_loss: 0.7734 - val_accuracy: 0.9242\n",
      "Epoch 19/20\n",
      "9/9 [==============================] - 0s 48ms/step - loss: 0.5245 - accuracy: 0.9656 - val_loss: 0.7734 - val_accuracy: 0.9242\n",
      "Epoch 20/20\n",
      "9/9 [==============================] - 0s 51ms/step - loss: 0.5245 - accuracy: 0.9656 - val_loss: 0.7734 - val_accuracy: 0.9242\n"
     ]
    }
   ],
   "source": [
    "jude = model_output(jude_s1,jude_s11)"
   ]
  },
  {
   "cell_type": "code",
   "execution_count": 54,
   "metadata": {
    "colab": {
     "base_uri": "https://localhost:8080/"
    },
    "id": "JYlQxMsloBFN",
    "outputId": "d8b739dc-0e11-41a4-ba6b-187583762ef3"
   },
   "outputs": [
    {
     "name": "stdout",
     "output_type": "stream",
     "text": [
      "Epoch 1/20\n",
      "59/59 [==============================] - 5s 81ms/step - loss: 0.8857 - accuracy: 0.9131 - val_loss: 0.4564 - val_accuracy: 0.9593\n",
      "Epoch 2/20\n",
      "59/59 [==============================] - 3s 54ms/step - loss: 0.5505 - accuracy: 0.9464 - val_loss: 0.4683 - val_accuracy: 0.9529\n",
      "Epoch 3/20\n",
      "59/59 [==============================] - 3s 53ms/step - loss: 0.3513 - accuracy: 0.9625 - val_loss: 0.6401 - val_accuracy: 0.9272\n",
      "Epoch 4/20\n",
      "59/59 [==============================] - 3s 53ms/step - loss: 0.3239 - accuracy: 0.9684 - val_loss: 0.4185 - val_accuracy: 0.9550\n",
      "Epoch 5/20\n",
      "59/59 [==============================] - 3s 53ms/step - loss: 0.2798 - accuracy: 0.9737 - val_loss: 0.3804 - val_accuracy: 0.9572\n",
      "Epoch 6/20\n",
      "59/59 [==============================] - 3s 54ms/step - loss: 0.2015 - accuracy: 0.9823 - val_loss: 0.4512 - val_accuracy: 0.9422\n",
      "Epoch 7/20\n",
      "59/59 [==============================] - 3s 53ms/step - loss: 0.1997 - accuracy: 0.9828 - val_loss: 0.6733 - val_accuracy: 0.9379\n",
      "Epoch 8/20\n",
      "59/59 [==============================] - 3s 53ms/step - loss: 0.1870 - accuracy: 0.9855 - val_loss: 0.5668 - val_accuracy: 0.9400\n",
      "Epoch 9/20\n",
      "59/59 [==============================] - 3s 52ms/step - loss: 0.1927 - accuracy: 0.9812 - val_loss: 0.3871 - val_accuracy: 0.9529\n",
      "Epoch 10/20\n",
      "59/59 [==============================] - 3s 51ms/step - loss: 0.1486 - accuracy: 0.9871 - val_loss: 0.4487 - val_accuracy: 0.9486\n",
      "Epoch 11/20\n",
      "59/59 [==============================] - 3s 52ms/step - loss: 0.1705 - accuracy: 0.9845 - val_loss: 0.7888 - val_accuracy: 0.9229\n",
      "Epoch 12/20\n",
      "59/59 [==============================] - 3s 52ms/step - loss: 0.1468 - accuracy: 0.9866 - val_loss: 0.5437 - val_accuracy: 0.9400\n",
      "Epoch 13/20\n",
      "59/59 [==============================] - 3s 52ms/step - loss: 0.1442 - accuracy: 0.9882 - val_loss: 0.7093 - val_accuracy: 0.9293\n",
      "Epoch 14/20\n",
      "59/59 [==============================] - 3s 53ms/step - loss: 0.1470 - accuracy: 0.9871 - val_loss: 0.5671 - val_accuracy: 0.9251\n",
      "Epoch 15/20\n",
      "59/59 [==============================] - 3s 53ms/step - loss: 0.1279 - accuracy: 0.9893 - val_loss: 0.6605 - val_accuracy: 0.9422\n",
      "Epoch 16/20\n",
      "59/59 [==============================] - 3s 53ms/step - loss: 0.1284 - accuracy: 0.9898 - val_loss: 0.5702 - val_accuracy: 0.9465\n",
      "Epoch 17/20\n",
      "59/59 [==============================] - 3s 52ms/step - loss: 0.1039 - accuracy: 0.9909 - val_loss: 0.8377 - val_accuracy: 0.9251\n",
      "Epoch 18/20\n",
      "59/59 [==============================] - 3s 54ms/step - loss: 0.1050 - accuracy: 0.9909 - val_loss: 0.7672 - val_accuracy: 0.9251\n",
      "Epoch 19/20\n",
      "59/59 [==============================] - 3s 55ms/step - loss: 0.1087 - accuracy: 0.9925 - val_loss: 0.6468 - val_accuracy: 0.9272\n",
      "Epoch 20/20\n",
      "59/59 [==============================] - 3s 53ms/step - loss: 0.1112 - accuracy: 0.9909 - val_loss: 0.6747 - val_accuracy: 0.9443\n"
     ]
    }
   ],
   "source": [
    "paul = model_output(pl_s1,pl_s11)"
   ]
  },
  {
   "cell_type": "code",
   "execution_count": 55,
   "metadata": {
    "id": "a7ohAuN4x1uq"
   },
   "outputs": [],
   "source": [
    "au_loss = {'Matthew_book':matthewbook.history['loss'],'Mark_book':markbook.history['loss'],'Luke_book':lukebook.history['loss'],'John_book':johnbook.history['loss'],\n",
    "           'Paul_book':paul.history['loss'],'James_book':jams.history['loss'],'Jude_book':jude.history['loss'],'Peter_book':peter.history['loss']}\n",
    "SBL_loss = DataFrame(au_loss)\n",
    "\n",
    "au_val_loss = {'Matthew_book':matthewbook.history['val_loss'],'Mark_book':markbook.history['val_loss'],'Luke_book':lukebook.history['val_loss'],'John_book':johnbook.history['val_loss'],\n",
    "           'Paul_book':paul.history['val_loss'],'James_book':jams.history['val_loss'],'Jude_book':jude.history['val_loss'],'Peter_book':peter.history['val_loss']}\n",
    "SBL_val_loss = DataFrame(au_val_loss)\n",
    "\n",
    "au_accuracy = {'Matthew_book':matthewbook.history['accuracy'],'Mark_book':markbook.history['accuracy'],'Luke_book':lukebook.history['accuracy'],'John_book':johnbook.history['accuracy'],\n",
    "           'Paul_book':paul.history['accuracy'],'James_book':jams.history['accuracy'],'Jude_book':jude.history['accuracy'],'Peter_book':peter.history['accuracy']}\n",
    "SBL_accuracy = DataFrame(au_accuracy)\n",
    "\n",
    "au_val_accuracy = {'Matthew_book':matthewbook.history['val_accuracy'],'Mark_book':markbook.history['val_accuracy'],'Luke_book':lukebook.history['val_accuracy'],'John_book':johnbook.history['val_accuracy'],\n",
    "           'Paul_book':paul.history['val_accuracy'],'James_book':jams.history['val_accuracy'],'Jude_book':jude.history['val_accuracy'],'Peter_book':peter.history['val_accuracy']}\n",
    "SBL_val_accuracy = DataFrame(au_val_accuracy)"
   ]
  },
  {
   "cell_type": "code",
   "execution_count": 56,
   "metadata": {
    "id": "arYuBI3myLlF"
   },
   "outputs": [],
   "source": [
    "sbl_loss.to_excel('spacy author SBL LOSS.xlsx',encoding = 'utf-8', index = False)\n",
    "sbl_accuracy.to_excel('spacy author SBL ACCURACY.xlsx',encoding = 'utf-8', index = False)  \n",
    "sbl_val_loss.to_excel('spacy author SBL VALIDATION LOSS.xlsx',encoding = 'utf-8', index = False)  \n",
    "sbl_val_accuracy.to_excel('spacy author SBL VALIDATION ACCURACY.xlsx',encoding = 'utf-8', index = False)  "
   ]
  },
  {
   "cell_type": "code",
   "execution_count": 57,
   "metadata": {
    "colab": {
     "base_uri": "https://localhost:8080/",
     "height": 295
    },
    "id": "QBfrDYfxypDB",
    "outputId": "aebe0ee4-72bf-42d7-a8eb-ac89fda355b0"
   },
   "outputs": [
    {
     "data": {
      "image/png": "[encoded data removed]",
      "text/plain": [
       "<Figure size 432x288 with 1 Axes>"
      ]
     },
     "metadata": {
      "needs_background": "light",
      "tags": []
     },
     "output_type": "display_data"
    }
   ],
   "source": [
    "matthewvac = matthewbook.history['val_accuracy']\n",
    "markvac = markbook.history['val_accuracy']\n",
    "lukevac = lukebook.history['val_accuracy']\n",
    "johnvac = johnbook.history['val_accuracy']\n",
    "paulvac = paul.history['val_accuracy']\n",
    "petervac = peter.history['val_accuracy']\n",
    "judevac = jude.history['val_accuracy']\n",
    "jamesvac = jams.history['val_accuracy']\n",
    "\n",
    "epochs = range(1, len(matvac) + 1)\n",
    "\n",
    "plt.plot(epochs, matthewvac, 'b', label='matthew')\n",
    "plt.plot(epochs, markvac, 'r', label='mark')\n",
    "plt.plot(epochs, lukevac, 'y', label='luke')\n",
    "plt.plot(epochs, johnvac, 'g', label='john')\n",
    "plt.plot(epochs, paulvac, 'coral', label='paul')\n",
    "plt.plot(epochs, petervac, 'm', label='peter')\n",
    "plt.plot(epochs, judevac, 'c', label='jude')\n",
    "plt.plot(epochs, jamesvac, 'k', label='james')\n",
    "\n",
    "plt.title('SBL writing style validation accuracy author')\n",
    "plt.xlabel('Epochs')\n",
    "plt.ylabel('Loss')\n",
    "plt.legend()\n",
    "\n",
    "plt.show()"
   ]
  },
  {
   "cell_type": "code",
   "execution_count": null,
   "metadata": {
    "id": "GDHBM2BW41xx"
   },
   "outputs": [],
   "source": []
  },
  {
   "cell_type": "markdown",
   "metadata": {
    "id": "3FW55ioxzWuo"
   },
   "source": [
    "## Tyndale_version"
   ]
  },
  {
   "cell_type": "code",
   "execution_count": null,
   "metadata": {
    "id": "Yi9P7npMzWup"
   },
   "outputs": [],
   "source": [
    "Matthew = df3[df3.BookName == 'Matthew']\n",
    "Matthew['Author'] = 'Matthew'\n",
    "Mark = df3[df3.BookName == 'Mark']\n",
    "Mark['Author'] = 'Mark'\n",
    "Luke = df3[df3.BookName == 'Luke']\n",
    "Luke['Author'] = 'Luke'\n",
    "John = df3[df3.BookName == 'John']\n",
    "John['Author'] = 'John'\n",
    "Acts = df3[df3.BookName == 'Acta']\n",
    "Acts['Author'] = 'Luke'\n",
    "Luke_Book = pd.concat([Luke,Acts],axis = 0)\n",
    "James = df3[df3.BookName == 'Jamss']\n",
    "James['Author'] = 'James'\n",
    "f_Peter = df3[df3.BookName == '1Peter']\n",
    "s_Peter = df3[df3.BookName == '2Peter']\n",
    "f_Peter['Author'] = 'Peter'\n",
    "s_Peter['Author'] = 'Peter'\n",
    "Peter_letter = pd.concat([f_Peter, s_Peter], axis = 0)\n",
    "\n",
    "f_John = df3[df3.BookName == '1John']\n",
    "s_John = df3[df3.BookName == '2John']\n",
    "t_John = df3[df3.BookName == '3John']\n",
    "f_John['Author'] = 'John'\n",
    "s_John['Author'] = 'John'\n",
    "t_John['Author'] = 'John'\n",
    "John_letter = pd.concat([f_John, s_John, t_John], axis = 0)\n",
    "\n",
    "Jude = df3[df3.BookName == 'Jude']\n",
    "Jude['Author'] = 'Jude'\n",
    "Rev = df3[df3.BookName == 'Revelation']\n",
    "Rev['Author'] = 'John'\n",
    "John_Book = pd.concat([John,John_letter,Rev],axis = 0)"
   ]
  },
  {
   "cell_type": "code",
   "execution_count": null,
   "metadata": {
    "id": "4WzC_Q_5zWup"
   },
   "outputs": [],
   "source": [
    "Romans = df3[df3.BookName == 'Romans']\n",
    "Romans['Author'] = 'Paul'\n",
    "f_cor = df3[df3.BookName == '1Corinthians']\n",
    "f_cor['Author'] = 'Paul'\n",
    "s_cor = df3[df3.BookName == '2Corinthians']\n",
    "s_cor['Author'] = 'Paul'\n",
    "Gal = df3[df3.BookName == 'Galatians']\n",
    "Gal['Author'] = 'Paul'\n",
    "Eph = df3[df3.BookName == 'Ephesians']\n",
    "Eph['Author'] = 'Paul'\n",
    "Phi = df3[df3.BookName == 'Philippians']\n",
    "Phi['Author'] = 'Paul'\n",
    "Col = df3[df3.BookName == 'Colossians']\n",
    "Col['Author'] = 'Paul'\n",
    "f_the = df3[df3.BookName == '1Thessalonians']\n",
    "f_the['Author'] = 'Paul'\n",
    "s_the = df3[df3.BookName == '2Thessalonians']\n",
    "s_the['Author'] = 'Paul'\n",
    "f_tim = df3[df3.BookName == '1Timothy']\n",
    "f_tim['Author'] = 'Paul'\n",
    "s_tim = df3[df3.BookName == '2Timothy']\n",
    "s_tim['Author'] = 'Paul'\n",
    "Titus = df3[df3.BookName == 'Titus']\n",
    "Titus['Author'] = 'Paul'\n",
    "Philemon = df3[df3.BookName == 'Philemon']\n",
    "Philemon['Author'] = 'Paul'\n",
    "Paul_letters = pd.concat([Romans,f_cor,s_cor,Gal,Eph,Phi,Col,f_the,s_the,f_tim,s_tim,Titus,Philemon],axis = 0)\n",
    "Heb = df3[df3.BookName == 'Hebrews']\n",
    "Heb['Author'] = 'Paul?'"
   ]
  },
  {
   "cell_type": "code",
   "execution_count": null,
   "metadata": {
    "id": "8LzONZe5zWuq"
   },
   "outputs": [],
   "source": [
    "g1 = cosine_text(Matthew)\n",
    "g2 = cosine_text(Mark)\n",
    "g3 = cosine_text(Luke)\n",
    "g4 = cosine_text(John)\n",
    "acts = cosine_text(Acts)\n",
    "rms = cosine_text(Romans)\n",
    "fcor = cosine_text(f_cor)\n",
    "scor = cosine_text(s_cor)\n",
    "gal = cosine_text(Gal)\n",
    "eph = cosine_text(Eph)\n",
    "phi = cosine_text(Phi)\n",
    "col = cosine_text(Col)\n",
    "fthe = cosine_text(f_the)\n",
    "sthe = cosine_text(s_the)\n",
    "ftim = cosine_text(f_tim)\n",
    "stim = cosine_text(s_tim)\n",
    "titus = cosine_text(Titus)\n",
    "philemon = cosine_text(Philemon)\n",
    "jams = cosine_text(James)\n",
    "fpet = cosine_text(f_Peter)\n",
    "spet = cosine_text(s_Peter)\n",
    "fjohn = cosine_text(f_John)\n",
    "sjohn = cosine_text(s_John)\n",
    "tjohn = cosine_text(t_John.dropna())\n",
    "jud = cosine_text(Jude)\n",
    "rev = cosine_text(Rev)"
   ]
  },
  {
   "cell_type": "code",
   "execution_count": null,
   "metadata": {
    "id": "UlofryOnzWuq"
   },
   "outputs": [],
   "source": [
    "g11 = text_author(Matthew)\n",
    "g21 = text_author(Mark)\n",
    "g31 = text_author(Luke)\n",
    "g41 = text_author(John)\n",
    "acts1 = text_author(Acts)\n",
    "rms1 = text_author(Romans)\n",
    "fcor1 = text_author(f_cor)\n",
    "scor1 = text_author(s_cor)\n",
    "gal1 = text_author(Gal)\n",
    "eph1 = text_author(Eph)\n",
    "phi1 = text_author(Phi)\n",
    "col1 = text_author(Col)\n",
    "fthe1 = text_author(f_the)\n",
    "sthe1 = text_author(s_the)\n",
    "ftim1 = text_author(f_tim)\n",
    "stim1 = text_author(s_tim)\n",
    "titus1 = text_author(Titus)\n",
    "philemon1 = text_author(Philemon)\n",
    "jams1 = text_author(James)\n",
    "fpet1 = text_author(f_Peter)\n",
    "spet1 = text_author(s_Peter)\n",
    "fjohn1 = text_author(f_John)\n",
    "sjohn1 = text_author(s_John)\n",
    "tjohn1 = text_author(t_John.dropna())\n",
    "jud1 = text_author(Jude)\n",
    "rev1 = text_author(Rev)"
   ]
  },
  {
   "cell_type": "code",
   "execution_count": null,
   "metadata": {
    "colab": {
     "base_uri": "https://localhost:8080/"
    },
    "id": "J6Bzhv1BzWuq",
    "outputId": "53237eb9-0ff8-4441-e11d-b7206de1b116"
   },
   "outputs": [
    {
     "name": "stdout",
     "output_type": "stream",
     "text": [
      "Epoch 1/20\n",
      "35/35 [==============================] - 3s 91ms/step - loss: 1.0283 - accuracy: 0.7020 - val_loss: 1.2376 - val_accuracy: 0.7500\n",
      "Epoch 2/20\n",
      "35/35 [==============================] - 2s 50ms/step - loss: 0.5846 - accuracy: 0.7437 - val_loss: 0.5730 - val_accuracy: 0.7500\n",
      "Epoch 3/20\n",
      "35/35 [==============================] - 2s 51ms/step - loss: 0.5815 - accuracy: 0.7645 - val_loss: 0.6228 - val_accuracy: 0.7500\n",
      "Epoch 4/20\n",
      "35/35 [==============================] - 2s 49ms/step - loss: 0.5563 - accuracy: 0.7654 - val_loss: 0.5686 - val_accuracy: 0.7500\n",
      "Epoch 5/20\n",
      "35/35 [==============================] - 2s 50ms/step - loss: 0.5496 - accuracy: 0.7853 - val_loss: 0.5645 - val_accuracy: 0.7500\n",
      "Epoch 6/20\n",
      "35/35 [==============================] - 2s 51ms/step - loss: 0.6044 - accuracy: 0.7862 - val_loss: 0.5629 - val_accuracy: 0.7500\n",
      "Epoch 7/20\n",
      "35/35 [==============================] - 2s 50ms/step - loss: 0.5619 - accuracy: 0.7790 - val_loss: 0.6854 - val_accuracy: 0.7500\n",
      "Epoch 8/20\n",
      "35/35 [==============================] - 2s 49ms/step - loss: 0.5324 - accuracy: 0.7835 - val_loss: 0.5954 - val_accuracy: 0.7500\n",
      "Epoch 9/20\n",
      "35/35 [==============================] - 2s 48ms/step - loss: 0.5709 - accuracy: 0.7835 - val_loss: 0.6067 - val_accuracy: 0.7391\n",
      "Epoch 10/20\n",
      "35/35 [==============================] - 2s 50ms/step - loss: 0.5172 - accuracy: 0.7871 - val_loss: 0.6018 - val_accuracy: 0.7500\n",
      "Epoch 11/20\n",
      "35/35 [==============================] - 2s 48ms/step - loss: 0.5268 - accuracy: 0.7889 - val_loss: 0.6100 - val_accuracy: 0.7355\n",
      "Epoch 12/20\n",
      "35/35 [==============================] - 2s 49ms/step - loss: 0.5284 - accuracy: 0.7862 - val_loss: 0.6495 - val_accuracy: 0.6667\n",
      "Epoch 13/20\n",
      "35/35 [==============================] - 2s 51ms/step - loss: 0.5217 - accuracy: 0.7835 - val_loss: 0.5687 - val_accuracy: 0.7500\n",
      "Epoch 14/20\n",
      "35/35 [==============================] - 2s 51ms/step - loss: 0.5260 - accuracy: 0.7853 - val_loss: 0.5629 - val_accuracy: 0.7536\n",
      "Epoch 15/20\n",
      "35/35 [==============================] - 2s 50ms/step - loss: 0.5421 - accuracy: 0.7871 - val_loss: 0.5662 - val_accuracy: 0.7572\n",
      "Epoch 16/20\n",
      "35/35 [==============================] - 2s 52ms/step - loss: 0.5108 - accuracy: 0.7862 - val_loss: 0.5649 - val_accuracy: 0.7536\n",
      "Epoch 17/20\n",
      "35/35 [==============================] - 2s 52ms/step - loss: 0.5438 - accuracy: 0.7835 - val_loss: 0.5862 - val_accuracy: 0.7355\n",
      "Epoch 18/20\n",
      "35/35 [==============================] - 2s 50ms/step - loss: 0.5408 - accuracy: 0.7853 - val_loss: 0.5683 - val_accuracy: 0.7572\n",
      "Epoch 19/20\n",
      "35/35 [==============================] - 2s 49ms/step - loss: 0.5541 - accuracy: 0.7826 - val_loss: 0.5706 - val_accuracy: 0.7536\n",
      "Epoch 20/20\n",
      "35/35 [==============================] - 2s 50ms/step - loss: 0.5083 - accuracy: 0.7853 - val_loss: 1.0736 - val_accuracy: 0.7500\n"
     ]
    }
   ],
   "source": [
    "mat = model_output(g1,g11)"
   ]
  },
  {
   "cell_type": "code",
   "execution_count": null,
   "metadata": {
    "colab": {
     "base_uri": "https://localhost:8080/"
    },
    "id": "miGxGXJ9zWus",
    "outputId": "4df0383d-e4a8-4349-f474-d01fb4f20c1c"
   },
   "outputs": [
    {
     "name": "stdout",
     "output_type": "stream",
     "text": [
      "Epoch 1/20\n",
      "25/25 [==============================] - 3s 104ms/step - loss: 0.6273 - accuracy: 0.6943 - val_loss: 0.6368 - val_accuracy: 0.6802\n",
      "Epoch 2/20\n",
      "25/25 [==============================] - 1s 49ms/step - loss: 0.6220 - accuracy: 0.6955 - val_loss: 0.6492 - val_accuracy: 0.6751\n",
      "Epoch 3/20\n",
      "25/25 [==============================] - 1s 48ms/step - loss: 0.6057 - accuracy: 0.6917 - val_loss: 0.6347 - val_accuracy: 0.6751\n",
      "Epoch 4/20\n",
      "25/25 [==============================] - 1s 50ms/step - loss: 0.6082 - accuracy: 0.6943 - val_loss: 0.6396 - val_accuracy: 0.6802\n",
      "Epoch 5/20\n",
      "25/25 [==============================] - 1s 49ms/step - loss: 0.6261 - accuracy: 0.6892 - val_loss: 0.6549 - val_accuracy: 0.6701\n",
      "Epoch 6/20\n",
      "25/25 [==============================] - 1s 54ms/step - loss: 0.6108 - accuracy: 0.6917 - val_loss: 0.6346 - val_accuracy: 0.6751\n",
      "Epoch 7/20\n",
      "25/25 [==============================] - 1s 51ms/step - loss: 0.5940 - accuracy: 0.6943 - val_loss: 0.6344 - val_accuracy: 0.6751\n",
      "Epoch 8/20\n",
      "25/25 [==============================] - 1s 51ms/step - loss: 0.5901 - accuracy: 0.6904 - val_loss: 0.6881 - val_accuracy: 0.6701\n",
      "Epoch 9/20\n",
      "25/25 [==============================] - 1s 49ms/step - loss: 0.6061 - accuracy: 0.6968 - val_loss: 0.7022 - val_accuracy: 0.6701\n",
      "Epoch 10/20\n",
      "25/25 [==============================] - 1s 50ms/step - loss: 0.5940 - accuracy: 0.7006 - val_loss: 0.6454 - val_accuracy: 0.6751\n",
      "Epoch 11/20\n",
      "25/25 [==============================] - 1s 49ms/step - loss: 0.5912 - accuracy: 0.7045 - val_loss: 0.6432 - val_accuracy: 0.6701\n",
      "Epoch 12/20\n",
      "25/25 [==============================] - 1s 49ms/step - loss: 0.5898 - accuracy: 0.7172 - val_loss: 0.6539 - val_accuracy: 0.6701\n",
      "Epoch 13/20\n",
      "25/25 [==============================] - 1s 49ms/step - loss: 0.6109 - accuracy: 0.7006 - val_loss: 0.8016 - val_accuracy: 0.6701\n",
      "Epoch 14/20\n",
      "25/25 [==============================] - 1s 49ms/step - loss: 0.5815 - accuracy: 0.7057 - val_loss: 0.6588 - val_accuracy: 0.6345\n",
      "Epoch 15/20\n",
      "25/25 [==============================] - 1s 50ms/step - loss: 0.6145 - accuracy: 0.7070 - val_loss: 0.6599 - val_accuracy: 0.6548\n",
      "Epoch 16/20\n",
      "25/25 [==============================] - 1s 48ms/step - loss: 0.5812 - accuracy: 0.7083 - val_loss: 0.6688 - val_accuracy: 0.5736\n",
      "Epoch 17/20\n",
      "25/25 [==============================] - 1s 51ms/step - loss: 0.5738 - accuracy: 0.7159 - val_loss: 1.0554 - val_accuracy: 0.6650\n",
      "Epoch 18/20\n",
      "25/25 [==============================] - 1s 50ms/step - loss: 0.5937 - accuracy: 0.7108 - val_loss: 0.6670 - val_accuracy: 0.6193\n",
      "Epoch 19/20\n",
      "25/25 [==============================] - 1s 52ms/step - loss: 0.5537 - accuracy: 0.7146 - val_loss: 0.6714 - val_accuracy: 0.6548\n",
      "Epoch 20/20\n",
      "25/25 [==============================] - 1s 49ms/step - loss: 0.5434 - accuracy: 0.7236 - val_loss: 0.8982 - val_accuracy: 0.6447\n"
     ]
    }
   ],
   "source": [
    "mak = model_output(g2,g21)"
   ]
  },
  {
   "cell_type": "code",
   "execution_count": null,
   "metadata": {
    "colab": {
     "base_uri": "https://localhost:8080/"
    },
    "id": "MiRLgfa-zWus",
    "outputId": "1c7c490a-cf33-41ec-cc36-9acd79e2b885"
   },
   "outputs": [
    {
     "name": "stdout",
     "output_type": "stream",
     "text": [
      "Epoch 1/20\n",
      "37/37 [==============================] - 3s 87ms/step - loss: 0.5900 - accuracy: 0.7860 - val_loss: 0.5358 - val_accuracy: 0.7740\n",
      "Epoch 2/20\n",
      "37/37 [==============================] - 2s 50ms/step - loss: 0.5049 - accuracy: 0.7945 - val_loss: 0.5376 - val_accuracy: 0.7705\n",
      "Epoch 3/20\n",
      "37/37 [==============================] - 2s 49ms/step - loss: 0.5015 - accuracy: 0.7962 - val_loss: 0.5374 - val_accuracy: 0.7705\n",
      "Epoch 4/20\n",
      "37/37 [==============================] - 2s 49ms/step - loss: 0.5131 - accuracy: 0.7971 - val_loss: 0.5370 - val_accuracy: 0.7705\n",
      "Epoch 5/20\n",
      "37/37 [==============================] - 2s 51ms/step - loss: 0.4769 - accuracy: 0.7962 - val_loss: 0.6000 - val_accuracy: 0.7705\n",
      "Epoch 6/20\n",
      "37/37 [==============================] - 2s 50ms/step - loss: 0.4934 - accuracy: 0.7979 - val_loss: 0.6191 - val_accuracy: 0.7705\n",
      "Epoch 7/20\n",
      "37/37 [==============================] - 2s 54ms/step - loss: 0.5176 - accuracy: 0.7954 - val_loss: 0.5524 - val_accuracy: 0.7637\n",
      "Epoch 8/20\n",
      "37/37 [==============================] - 2s 50ms/step - loss: 0.5161 - accuracy: 0.7971 - val_loss: 0.5846 - val_accuracy: 0.7637\n",
      "Epoch 9/20\n",
      "37/37 [==============================] - 2s 53ms/step - loss: 0.4869 - accuracy: 0.7962 - val_loss: 0.5974 - val_accuracy: 0.7671\n",
      "Epoch 10/20\n",
      "37/37 [==============================] - 2s 50ms/step - loss: 0.4772 - accuracy: 0.7971 - val_loss: 0.5965 - val_accuracy: 0.7740\n",
      "Epoch 11/20\n",
      "37/37 [==============================] - 2s 50ms/step - loss: 0.5059 - accuracy: 0.8014 - val_loss: 0.8623 - val_accuracy: 0.7705\n",
      "Epoch 12/20\n",
      "37/37 [==============================] - 2s 54ms/step - loss: 0.4817 - accuracy: 0.8048 - val_loss: 0.7564 - val_accuracy: 0.7740\n",
      "Epoch 13/20\n",
      "37/37 [==============================] - 2s 51ms/step - loss: 0.4756 - accuracy: 0.8031 - val_loss: 0.5986 - val_accuracy: 0.7671\n",
      "Epoch 14/20\n",
      "37/37 [==============================] - 2s 51ms/step - loss: 0.4851 - accuracy: 0.8005 - val_loss: 0.6586 - val_accuracy: 0.7603\n",
      "Epoch 15/20\n",
      "37/37 [==============================] - 2s 51ms/step - loss: 0.4759 - accuracy: 0.8065 - val_loss: 0.5946 - val_accuracy: 0.6884\n",
      "Epoch 16/20\n",
      "37/37 [==============================] - 2s 53ms/step - loss: 0.4636 - accuracy: 0.8082 - val_loss: 0.7040 - val_accuracy: 0.7671\n",
      "Epoch 17/20\n",
      "37/37 [==============================] - 2s 50ms/step - loss: 0.5121 - accuracy: 0.8125 - val_loss: 0.8422 - val_accuracy: 0.7534\n",
      "Epoch 18/20\n",
      "37/37 [==============================] - 2s 52ms/step - loss: 0.4659 - accuracy: 0.8159 - val_loss: 0.8842 - val_accuracy: 0.7397\n",
      "Epoch 19/20\n",
      "37/37 [==============================] - 2s 52ms/step - loss: 0.4695 - accuracy: 0.8116 - val_loss: 0.7935 - val_accuracy: 0.7603\n",
      "Epoch 20/20\n",
      "37/37 [==============================] - 2s 51ms/step - loss: 0.4318 - accuracy: 0.8108 - val_loss: 0.9025 - val_accuracy: 0.7500\n"
     ]
    }
   ],
   "source": [
    "luk = model_output(g3,g31)"
   ]
  },
  {
   "cell_type": "code",
   "execution_count": null,
   "metadata": {
    "colab": {
     "base_uri": "https://localhost:8080/"
    },
    "id": "BmYkyM8XzWus",
    "outputId": "0836f60c-1391-4e7b-91d5-fac0e22ef463"
   },
   "outputs": [
    {
     "name": "stdout",
     "output_type": "stream",
     "text": [
      "Epoch 1/20\n",
      "30/30 [==============================] - 3s 110ms/step - loss: 0.6758 - accuracy: 0.7209 - val_loss: 0.6214 - val_accuracy: 0.7468\n",
      "Epoch 2/20\n",
      "30/30 [==============================] - 1s 49ms/step - loss: 0.6149 - accuracy: 0.7421 - val_loss: 0.6918 - val_accuracy: 0.7595\n",
      "Epoch 3/20\n",
      "30/30 [==============================] - 1s 49ms/step - loss: 0.6099 - accuracy: 0.7484 - val_loss: 0.5478 - val_accuracy: 0.7511\n",
      "Epoch 4/20\n",
      "30/30 [==============================] - 2s 51ms/step - loss: 0.5918 - accuracy: 0.7484 - val_loss: 0.5897 - val_accuracy: 0.7595\n",
      "Epoch 5/20\n",
      "30/30 [==============================] - 1s 50ms/step - loss: 0.5706 - accuracy: 0.7463 - val_loss: 0.5879 - val_accuracy: 0.7679\n",
      "Epoch 6/20\n",
      "30/30 [==============================] - 1s 50ms/step - loss: 0.5724 - accuracy: 0.7611 - val_loss: 0.7321 - val_accuracy: 0.7595\n",
      "Epoch 7/20\n",
      "30/30 [==============================] - 1s 49ms/step - loss: 0.5835 - accuracy: 0.7590 - val_loss: 0.6236 - val_accuracy: 0.7342\n",
      "Epoch 8/20\n",
      "30/30 [==============================] - 2s 53ms/step - loss: 0.5521 - accuracy: 0.7526 - val_loss: 0.6563 - val_accuracy: 0.7426\n",
      "Epoch 9/20\n",
      "30/30 [==============================] - 1s 50ms/step - loss: 0.5300 - accuracy: 0.7685 - val_loss: 0.6271 - val_accuracy: 0.7511\n",
      "Epoch 10/20\n",
      "30/30 [==============================] - 2s 51ms/step - loss: 0.5259 - accuracy: 0.7780 - val_loss: 0.7426 - val_accuracy: 0.7173\n",
      "Epoch 11/20\n",
      "30/30 [==============================] - 1s 49ms/step - loss: 0.5194 - accuracy: 0.7653 - val_loss: 0.7609 - val_accuracy: 0.6878\n",
      "Epoch 12/20\n",
      "30/30 [==============================] - 1s 49ms/step - loss: 0.5249 - accuracy: 0.7643 - val_loss: 0.8522 - val_accuracy: 0.7300\n",
      "Epoch 13/20\n",
      "30/30 [==============================] - 2s 50ms/step - loss: 0.4937 - accuracy: 0.7918 - val_loss: 0.7406 - val_accuracy: 0.7173\n",
      "Epoch 14/20\n",
      "30/30 [==============================] - 1s 49ms/step - loss: 0.4832 - accuracy: 0.7844 - val_loss: 0.7357 - val_accuracy: 0.6878\n",
      "Epoch 15/20\n",
      "30/30 [==============================] - 2s 53ms/step - loss: 0.4694 - accuracy: 0.8034 - val_loss: 0.9436 - val_accuracy: 0.7342\n",
      "Epoch 16/20\n",
      "30/30 [==============================] - 1s 49ms/step - loss: 0.4539 - accuracy: 0.8034 - val_loss: 0.8446 - val_accuracy: 0.7046\n",
      "Epoch 17/20\n",
      "30/30 [==============================] - 2s 51ms/step - loss: 0.4279 - accuracy: 0.8214 - val_loss: 0.9547 - val_accuracy: 0.7173\n",
      "Epoch 18/20\n",
      "30/30 [==============================] - 2s 51ms/step - loss: 0.4218 - accuracy: 0.8245 - val_loss: 1.2347 - val_accuracy: 0.6920\n",
      "Epoch 19/20\n",
      "30/30 [==============================] - 2s 50ms/step - loss: 0.4537 - accuracy: 0.8266 - val_loss: 1.2879 - val_accuracy: 0.6751\n",
      "Epoch 20/20\n",
      "30/30 [==============================] - 1s 50ms/step - loss: 0.3989 - accuracy: 0.8182 - val_loss: 0.9961 - val_accuracy: 0.7215\n"
     ]
    }
   ],
   "source": [
    "joh = model_output(g4,g41)"
   ]
  },
  {
   "cell_type": "code",
   "execution_count": null,
   "metadata": {
    "colab": {
     "base_uri": "https://localhost:8080/"
    },
    "id": "mN40J2h4zWus",
    "outputId": "45a3f0e2-261a-4762-af8d-41492851793d"
   },
   "outputs": [
    {
     "name": "stdout",
     "output_type": "stream",
     "text": [
      "Epoch 1/20\n",
      "8/8 [==============================] - 2s 221ms/step - loss: 0.7057 - accuracy: 0.8601 - val_loss: 0.0182 - val_accuracy: 0.9836\n",
      "Epoch 2/20\n",
      "8/8 [==============================] - 0s 48ms/step - loss: 7.3932e-04 - accuracy: 1.0000 - val_loss: 0.0126 - val_accuracy: 1.0000\n",
      "Epoch 3/20\n",
      "8/8 [==============================] - 0s 47ms/step - loss: 0.0000e+00 - accuracy: 1.0000 - val_loss: 0.0126 - val_accuracy: 1.0000\n",
      "Epoch 4/20\n",
      "8/8 [==============================] - 0s 49ms/step - loss: 0.0000e+00 - accuracy: 1.0000 - val_loss: 0.0126 - val_accuracy: 1.0000\n",
      "Epoch 5/20\n",
      "8/8 [==============================] - 0s 48ms/step - loss: 0.0000e+00 - accuracy: 1.0000 - val_loss: 0.0126 - val_accuracy: 1.0000\n",
      "Epoch 6/20\n",
      "8/8 [==============================] - 0s 49ms/step - loss: 0.0000e+00 - accuracy: 1.0000 - val_loss: 0.0126 - val_accuracy: 1.0000\n",
      "Epoch 7/20\n",
      "8/8 [==============================] - 0s 50ms/step - loss: 0.0000e+00 - accuracy: 1.0000 - val_loss: 0.0126 - val_accuracy: 1.0000\n",
      "Epoch 8/20\n",
      "8/8 [==============================] - 0s 47ms/step - loss: 0.0000e+00 - accuracy: 1.0000 - val_loss: 0.0126 - val_accuracy: 1.0000\n",
      "Epoch 9/20\n",
      "8/8 [==============================] - 0s 46ms/step - loss: 0.0000e+00 - accuracy: 1.0000 - val_loss: 0.0126 - val_accuracy: 1.0000\n",
      "Epoch 10/20\n",
      "8/8 [==============================] - 0s 49ms/step - loss: 0.0000e+00 - accuracy: 1.0000 - val_loss: 0.0126 - val_accuracy: 1.0000\n",
      "Epoch 11/20\n",
      "8/8 [==============================] - 0s 49ms/step - loss: 0.0000e+00 - accuracy: 1.0000 - val_loss: 0.0126 - val_accuracy: 1.0000\n",
      "Epoch 12/20\n",
      "8/8 [==============================] - 0s 53ms/step - loss: 0.0000e+00 - accuracy: 1.0000 - val_loss: 0.0126 - val_accuracy: 1.0000\n",
      "Epoch 13/20\n",
      "8/8 [==============================] - 0s 48ms/step - loss: 0.0000e+00 - accuracy: 1.0000 - val_loss: 0.0126 - val_accuracy: 1.0000\n",
      "Epoch 14/20\n",
      "8/8 [==============================] - 0s 49ms/step - loss: 0.0000e+00 - accuracy: 1.0000 - val_loss: 0.0126 - val_accuracy: 1.0000\n",
      "Epoch 15/20\n",
      "8/8 [==============================] - 0s 45ms/step - loss: 0.0000e+00 - accuracy: 1.0000 - val_loss: 0.0126 - val_accuracy: 1.0000\n",
      "Epoch 16/20\n",
      "8/8 [==============================] - 0s 45ms/step - loss: 0.0000e+00 - accuracy: 1.0000 - val_loss: 0.0126 - val_accuracy: 1.0000\n",
      "Epoch 17/20\n",
      "8/8 [==============================] - 0s 44ms/step - loss: 0.0000e+00 - accuracy: 1.0000 - val_loss: 0.0126 - val_accuracy: 1.0000\n",
      "Epoch 18/20\n",
      "8/8 [==============================] - 0s 45ms/step - loss: 0.0000e+00 - accuracy: 1.0000 - val_loss: 0.0126 - val_accuracy: 1.0000\n",
      "Epoch 19/20\n",
      "8/8 [==============================] - 0s 45ms/step - loss: 0.0000e+00 - accuracy: 1.0000 - val_loss: 0.0126 - val_accuracy: 1.0000\n",
      "Epoch 20/20\n",
      "8/8 [==============================] - 0s 48ms/step - loss: 0.0000e+00 - accuracy: 1.0000 - val_loss: 0.0126 - val_accuracy: 1.0000\n"
     ]
    }
   ],
   "source": [
    "act = model_output(acts,acts1)"
   ]
  },
  {
   "cell_type": "code",
   "execution_count": null,
   "metadata": {
    "colab": {
     "base_uri": "https://localhost:8080/"
    },
    "id": "29efwurYzWus",
    "outputId": "076bc6ab-4cc4-448a-fc6b-d0a8e959c343"
   },
   "outputs": [
    {
     "name": "stdout",
     "output_type": "stream",
     "text": [
      "Epoch 1/20\n",
      "19/19 [==============================] - 2s 123ms/step - loss: 3.1279 - accuracy: 0.5219 - val_loss: 0.9666 - val_accuracy: 0.6040\n",
      "Epoch 2/20\n",
      "19/19 [==============================] - 1s 55ms/step - loss: 0.7323 - accuracy: 0.5892 - val_loss: 0.8339 - val_accuracy: 0.6376\n",
      "Epoch 3/20\n",
      "19/19 [==============================] - 1s 47ms/step - loss: 0.8232 - accuracy: 0.6296 - val_loss: 0.9888 - val_accuracy: 0.6443\n",
      "Epoch 4/20\n",
      "19/19 [==============================] - 1s 48ms/step - loss: 0.6595 - accuracy: 0.6178 - val_loss: 0.8046 - val_accuracy: 0.6779\n",
      "Epoch 5/20\n",
      "19/19 [==============================] - 1s 49ms/step - loss: 0.6419 - accuracy: 0.6667 - val_loss: 0.8105 - val_accuracy: 0.6242\n",
      "Epoch 6/20\n",
      "19/19 [==============================] - 1s 49ms/step - loss: 0.6058 - accuracy: 0.6835 - val_loss: 0.9275 - val_accuracy: 0.6443\n",
      "Epoch 7/20\n",
      "19/19 [==============================] - 1s 49ms/step - loss: 0.6078 - accuracy: 0.6970 - val_loss: 1.2814 - val_accuracy: 0.6779\n",
      "Epoch 8/20\n",
      "19/19 [==============================] - 1s 47ms/step - loss: 0.6235 - accuracy: 0.7071 - val_loss: 1.5720 - val_accuracy: 0.6577\n",
      "Epoch 9/20\n",
      "19/19 [==============================] - 1s 48ms/step - loss: 0.7185 - accuracy: 0.7239 - val_loss: 1.7702 - val_accuracy: 0.6510\n",
      "Epoch 10/20\n",
      "19/19 [==============================] - 1s 48ms/step - loss: 0.6568 - accuracy: 0.7323 - val_loss: 1.6569 - val_accuracy: 0.6510\n",
      "Epoch 11/20\n",
      "19/19 [==============================] - 1s 47ms/step - loss: 0.6338 - accuracy: 0.7391 - val_loss: 1.6357 - val_accuracy: 0.6174\n",
      "Epoch 12/20\n",
      "19/19 [==============================] - 1s 50ms/step - loss: 0.5443 - accuracy: 0.7727 - val_loss: 1.5259 - val_accuracy: 0.6376\n",
      "Epoch 13/20\n",
      "19/19 [==============================] - 1s 51ms/step - loss: 0.4656 - accuracy: 0.7727 - val_loss: 1.7756 - val_accuracy: 0.6376\n",
      "Epoch 14/20\n",
      "19/19 [==============================] - 1s 49ms/step - loss: 0.5640 - accuracy: 0.7811 - val_loss: 2.4877 - val_accuracy: 0.5973\n",
      "Epoch 15/20\n",
      "19/19 [==============================] - 1s 49ms/step - loss: 0.4009 - accuracy: 0.8148 - val_loss: 2.2152 - val_accuracy: 0.6107\n",
      "Epoch 16/20\n",
      "19/19 [==============================] - 1s 54ms/step - loss: 0.3386 - accuracy: 0.8165 - val_loss: 2.5127 - val_accuracy: 0.6107\n",
      "Epoch 17/20\n",
      "19/19 [==============================] - 1s 51ms/step - loss: 0.3313 - accuracy: 0.8165 - val_loss: 2.0834 - val_accuracy: 0.6510\n",
      "Epoch 18/20\n",
      "19/19 [==============================] - 1s 47ms/step - loss: 0.4338 - accuracy: 0.8114 - val_loss: 2.1481 - val_accuracy: 0.6174\n",
      "Epoch 19/20\n",
      "19/19 [==============================] - 1s 50ms/step - loss: 0.2962 - accuracy: 0.8451 - val_loss: 2.3151 - val_accuracy: 0.6107\n",
      "Epoch 20/20\n",
      "19/19 [==============================] - 1s 50ms/step - loss: 0.2849 - accuracy: 0.8586 - val_loss: 2.7171 - val_accuracy: 0.6107\n"
     ]
    }
   ],
   "source": [
    "rom = model_output(rms,rms1)"
   ]
  },
  {
   "cell_type": "code",
   "execution_count": null,
   "metadata": {
    "colab": {
     "base_uri": "https://localhost:8080/"
    },
    "id": "nYihnABlzWut",
    "outputId": "256edd56-2e2d-48e3-e65e-3d2788a72755"
   },
   "outputs": [
    {
     "name": "stdout",
     "output_type": "stream",
     "text": [
      "Epoch 1/20\n",
      "19/19 [==============================] - 2s 124ms/step - loss: 1.4500 - accuracy: 0.6795 - val_loss: 1.1002 - val_accuracy: 0.7467\n",
      "Epoch 2/20\n",
      "19/19 [==============================] - 1s 49ms/step - loss: 0.9230 - accuracy: 0.7030 - val_loss: 1.0214 - val_accuracy: 0.6667\n",
      "Epoch 3/20\n",
      "19/19 [==============================] - 1s 49ms/step - loss: 0.7992 - accuracy: 0.7047 - val_loss: 1.1877 - val_accuracy: 0.7333\n",
      "Epoch 4/20\n",
      "19/19 [==============================] - 1s 48ms/step - loss: 0.7721 - accuracy: 0.7148 - val_loss: 1.2866 - val_accuracy: 0.7200\n",
      "Epoch 5/20\n",
      "19/19 [==============================] - 1s 49ms/step - loss: 0.8052 - accuracy: 0.7232 - val_loss: 1.6216 - val_accuracy: 0.6400\n",
      "Epoch 6/20\n",
      "19/19 [==============================] - 1s 50ms/step - loss: 0.8148 - accuracy: 0.7366 - val_loss: 1.4351 - val_accuracy: 0.6467\n",
      "Epoch 7/20\n",
      "19/19 [==============================] - 1s 48ms/step - loss: 0.7772 - accuracy: 0.7617 - val_loss: 1.4925 - val_accuracy: 0.6867\n",
      "Epoch 8/20\n",
      "19/19 [==============================] - 1s 51ms/step - loss: 0.6678 - accuracy: 0.7617 - val_loss: 1.5507 - val_accuracy: 0.6933\n",
      "Epoch 9/20\n",
      "19/19 [==============================] - 1s 50ms/step - loss: 0.6494 - accuracy: 0.7752 - val_loss: 1.5560 - val_accuracy: 0.6933\n",
      "Epoch 10/20\n",
      "19/19 [==============================] - 1s 48ms/step - loss: 0.6368 - accuracy: 0.7752 - val_loss: 1.4388 - val_accuracy: 0.7067\n",
      "Epoch 11/20\n",
      "19/19 [==============================] - 1s 51ms/step - loss: 0.6210 - accuracy: 0.7953 - val_loss: 1.6650 - val_accuracy: 0.7267\n",
      "Epoch 12/20\n",
      "19/19 [==============================] - 1s 49ms/step - loss: 0.5976 - accuracy: 0.7886 - val_loss: 1.6482 - val_accuracy: 0.6800\n",
      "Epoch 13/20\n",
      "19/19 [==============================] - 1s 50ms/step - loss: 0.5684 - accuracy: 0.8138 - val_loss: 1.4319 - val_accuracy: 0.6933\n",
      "Epoch 14/20\n",
      "19/19 [==============================] - 1s 51ms/step - loss: 0.5564 - accuracy: 0.8255 - val_loss: 1.9485 - val_accuracy: 0.6600\n",
      "Epoch 15/20\n",
      "19/19 [==============================] - 1s 55ms/step - loss: 0.5084 - accuracy: 0.8339 - val_loss: 1.7731 - val_accuracy: 0.6467\n",
      "Epoch 16/20\n",
      "19/19 [==============================] - 1s 53ms/step - loss: 0.4496 - accuracy: 0.8859 - val_loss: 1.8827 - val_accuracy: 0.6467\n",
      "Epoch 17/20\n",
      "19/19 [==============================] - 1s 56ms/step - loss: 0.4372 - accuracy: 0.8758 - val_loss: 2.2814 - val_accuracy: 0.6733\n",
      "Epoch 18/20\n",
      "19/19 [==============================] - 1s 50ms/step - loss: 0.4229 - accuracy: 0.8775 - val_loss: 2.0742 - val_accuracy: 0.6600\n",
      "Epoch 19/20\n",
      "19/19 [==============================] - 1s 51ms/step - loss: 0.3984 - accuracy: 0.8926 - val_loss: 2.6388 - val_accuracy: 0.6467\n",
      "Epoch 20/20\n",
      "19/19 [==============================] - 1s 49ms/step - loss: 0.3809 - accuracy: 0.9044 - val_loss: 2.0971 - val_accuracy: 0.6600\n"
     ]
    }
   ],
   "source": [
    "fcr = model_output(fcor,fcor1)"
   ]
  },
  {
   "cell_type": "code",
   "execution_count": null,
   "metadata": {
    "colab": {
     "base_uri": "https://localhost:8080/"
    },
    "id": "lYbxidgzzWut",
    "outputId": "ab092242-e15d-4457-f27d-f8d828164f29"
   },
   "outputs": [
    {
     "name": "stdout",
     "output_type": "stream",
     "text": [
      "Epoch 1/20\n",
      "15/15 [==============================] - 3s 178ms/step - loss: 1.7270 - accuracy: 0.6949 - val_loss: 1.8856 - val_accuracy: 0.7257\n",
      "Epoch 2/20\n",
      "15/15 [==============================] - 1s 48ms/step - loss: 1.2983 - accuracy: 0.7461 - val_loss: 1.5626 - val_accuracy: 0.6991\n",
      "Epoch 3/20\n",
      "15/15 [==============================] - 1s 51ms/step - loss: 1.0332 - accuracy: 0.7706 - val_loss: 1.5368 - val_accuracy: 0.7080\n",
      "Epoch 4/20\n",
      "15/15 [==============================] - 1s 47ms/step - loss: 0.9011 - accuracy: 0.7840 - val_loss: 1.7773 - val_accuracy: 0.7080\n",
      "Epoch 5/20\n",
      "15/15 [==============================] - 1s 48ms/step - loss: 0.8141 - accuracy: 0.8263 - val_loss: 1.4001 - val_accuracy: 0.7080\n",
      "Epoch 6/20\n",
      "15/15 [==============================] - 1s 48ms/step - loss: 0.7124 - accuracy: 0.8597 - val_loss: 1.6447 - val_accuracy: 0.7257\n",
      "Epoch 7/20\n",
      "15/15 [==============================] - 1s 46ms/step - loss: 0.6865 - accuracy: 0.8708 - val_loss: 2.5870 - val_accuracy: 0.6283\n",
      "Epoch 8/20\n",
      "15/15 [==============================] - 1s 48ms/step - loss: 0.7500 - accuracy: 0.8664 - val_loss: 1.7432 - val_accuracy: 0.7257\n",
      "Epoch 9/20\n",
      "15/15 [==============================] - 1s 77ms/step - loss: 0.6231 - accuracy: 0.9154 - val_loss: 2.0426 - val_accuracy: 0.6637\n",
      "Epoch 10/20\n",
      "15/15 [==============================] - 1s 89ms/step - loss: 0.5617 - accuracy: 0.9154 - val_loss: 1.9100 - val_accuracy: 0.6814\n",
      "Epoch 11/20\n",
      "15/15 [==============================] - 1s 93ms/step - loss: 0.6075 - accuracy: 0.9109 - val_loss: 2.2328 - val_accuracy: 0.6991\n",
      "Epoch 12/20\n",
      "15/15 [==============================] - 1s 88ms/step - loss: 0.4948 - accuracy: 0.9399 - val_loss: 2.0247 - val_accuracy: 0.7257\n",
      "Epoch 13/20\n",
      "15/15 [==============================] - 1s 90ms/step - loss: 0.5163 - accuracy: 0.9443 - val_loss: 2.2941 - val_accuracy: 0.7345\n",
      "Epoch 14/20\n",
      "15/15 [==============================] - 1s 89ms/step - loss: 0.4915 - accuracy: 0.9465 - val_loss: 2.4360 - val_accuracy: 0.7168\n",
      "Epoch 15/20\n",
      "15/15 [==============================] - 1s 92ms/step - loss: 0.4619 - accuracy: 0.9532 - val_loss: 2.5639 - val_accuracy: 0.6726\n",
      "Epoch 16/20\n",
      "15/15 [==============================] - 1s 93ms/step - loss: 0.4374 - accuracy: 0.9666 - val_loss: 3.1917 - val_accuracy: 0.6195\n",
      "Epoch 17/20\n",
      "15/15 [==============================] - 1s 71ms/step - loss: 0.4861 - accuracy: 0.9555 - val_loss: 2.7840 - val_accuracy: 0.6726\n",
      "Epoch 18/20\n",
      "15/15 [==============================] - 1s 52ms/step - loss: 0.3787 - accuracy: 0.9688 - val_loss: 2.6030 - val_accuracy: 0.6460\n",
      "Epoch 19/20\n",
      "15/15 [==============================] - 1s 54ms/step - loss: 0.3756 - accuracy: 0.9755 - val_loss: 2.7797 - val_accuracy: 0.6637\n",
      "Epoch 20/20\n",
      "15/15 [==============================] - 1s 45ms/step - loss: 0.3538 - accuracy: 0.9777 - val_loss: 2.5347 - val_accuracy: 0.6726\n"
     ]
    }
   ],
   "source": [
    "scr = model_output(scor,scor1)"
   ]
  },
  {
   "cell_type": "code",
   "execution_count": null,
   "metadata": {
    "colab": {
     "base_uri": "https://localhost:8080/"
    },
    "id": "9vXGBprzzWut",
    "outputId": "b4e80c17-8d4b-4a43-a85c-78f68cae5b27"
   },
   "outputs": [
    {
     "name": "stdout",
     "output_type": "stream",
     "text": [
      "Epoch 1/20\n",
      "12/12 [==============================] - 2s 165ms/step - loss: 2.9694 - accuracy: 0.6915 - val_loss: 2.2714 - val_accuracy: 0.7363\n",
      "Epoch 2/20\n",
      "12/12 [==============================] - 1s 45ms/step - loss: 2.1601 - accuracy: 0.7383 - val_loss: 2.0107 - val_accuracy: 0.7253\n",
      "Epoch 3/20\n",
      "12/12 [==============================] - 1s 48ms/step - loss: 1.7930 - accuracy: 0.7879 - val_loss: 1.8702 - val_accuracy: 0.7253\n",
      "Epoch 4/20\n",
      "12/12 [==============================] - 1s 47ms/step - loss: 1.6889 - accuracy: 0.8264 - val_loss: 2.1652 - val_accuracy: 0.7253\n",
      "Epoch 5/20\n",
      "12/12 [==============================] - 1s 46ms/step - loss: 2.2598 - accuracy: 0.8017 - val_loss: 2.5969 - val_accuracy: 0.7253\n",
      "Epoch 6/20\n",
      "12/12 [==============================] - 1s 49ms/step - loss: 2.1157 - accuracy: 0.7631 - val_loss: 2.9519 - val_accuracy: 0.7143\n",
      "Epoch 7/20\n",
      "12/12 [==============================] - 1s 47ms/step - loss: 1.8910 - accuracy: 0.7989 - val_loss: 2.5111 - val_accuracy: 0.7143\n",
      "Epoch 8/20\n",
      "12/12 [==============================] - 1s 48ms/step - loss: 1.7207 - accuracy: 0.8264 - val_loss: 2.5389 - val_accuracy: 0.7143\n",
      "Epoch 9/20\n",
      "12/12 [==============================] - 1s 47ms/step - loss: 1.4570 - accuracy: 0.8485 - val_loss: 2.1637 - val_accuracy: 0.7143\n",
      "Epoch 10/20\n",
      "12/12 [==============================] - 1s 46ms/step - loss: 1.3055 - accuracy: 0.8760 - val_loss: 2.2022 - val_accuracy: 0.7143\n",
      "Epoch 11/20\n",
      "12/12 [==============================] - 1s 51ms/step - loss: 1.3720 - accuracy: 0.8595 - val_loss: 2.4424 - val_accuracy: 0.6593\n",
      "Epoch 12/20\n",
      "12/12 [==============================] - 1s 48ms/step - loss: 1.1593 - accuracy: 0.8871 - val_loss: 2.7498 - val_accuracy: 0.6154\n",
      "Epoch 13/20\n",
      "12/12 [==============================] - 1s 49ms/step - loss: 1.0729 - accuracy: 0.9063 - val_loss: 2.3322 - val_accuracy: 0.7363\n",
      "Epoch 14/20\n",
      "12/12 [==============================] - 1s 47ms/step - loss: 1.0584 - accuracy: 0.9063 - val_loss: 2.5758 - val_accuracy: 0.6813\n",
      "Epoch 15/20\n",
      "12/12 [==============================] - 1s 49ms/step - loss: 0.9884 - accuracy: 0.9201 - val_loss: 2.7639 - val_accuracy: 0.7253\n",
      "Epoch 16/20\n",
      "12/12 [==============================] - 1s 47ms/step - loss: 0.9789 - accuracy: 0.9284 - val_loss: 2.5645 - val_accuracy: 0.7582\n",
      "Epoch 17/20\n",
      "12/12 [==============================] - 1s 47ms/step - loss: 1.0295 - accuracy: 0.9201 - val_loss: 2.7752 - val_accuracy: 0.7363\n",
      "Epoch 18/20\n",
      "12/12 [==============================] - 1s 47ms/step - loss: 1.0583 - accuracy: 0.9091 - val_loss: 2.4909 - val_accuracy: 0.6923\n",
      "Epoch 19/20\n",
      "12/12 [==============================] - 1s 45ms/step - loss: 0.8427 - accuracy: 0.9091 - val_loss: 2.2924 - val_accuracy: 0.7363\n",
      "Epoch 20/20\n",
      "12/12 [==============================] - 1s 48ms/step - loss: 0.7956 - accuracy: 0.9477 - val_loss: 2.3691 - val_accuracy: 0.6923\n"
     ]
    }
   ],
   "source": [
    "glt = model_output(gal,gal1)"
   ]
  },
  {
   "cell_type": "code",
   "execution_count": null,
   "metadata": {
    "colab": {
     "base_uri": "https://localhost:8080/"
    },
    "id": "sQLDlcwbzWut",
    "outputId": "9422c962-fdea-46cb-9223-98f0a5c3bacb"
   },
   "outputs": [
    {
     "name": "stdout",
     "output_type": "stream",
     "text": [
      "Epoch 1/20\n",
      "12/12 [==============================] - 2s 163ms/step - loss: 2.6803 - accuracy: 0.7112 - val_loss: 2.8916 - val_accuracy: 0.6739\n",
      "Epoch 2/20\n",
      "12/12 [==============================] - 1s 46ms/step - loss: 2.1346 - accuracy: 0.7384 - val_loss: 1.8209 - val_accuracy: 0.6957\n",
      "Epoch 3/20\n",
      "12/12 [==============================] - 1s 46ms/step - loss: 1.4487 - accuracy: 0.7875 - val_loss: 1.8246 - val_accuracy: 0.7174\n",
      "Epoch 4/20\n",
      "12/12 [==============================] - 1s 48ms/step - loss: 1.2730 - accuracy: 0.8256 - val_loss: 1.9876 - val_accuracy: 0.7174\n",
      "Epoch 5/20\n",
      "12/12 [==============================] - 1s 54ms/step - loss: 1.1110 - accuracy: 0.8583 - val_loss: 1.4662 - val_accuracy: 0.7283\n",
      "Epoch 6/20\n",
      "12/12 [==============================] - 1s 46ms/step - loss: 1.0723 - accuracy: 0.8856 - val_loss: 1.9670 - val_accuracy: 0.7500\n",
      "Epoch 7/20\n",
      "12/12 [==============================] - 1s 48ms/step - loss: 1.0365 - accuracy: 0.8965 - val_loss: 2.1426 - val_accuracy: 0.7283\n",
      "Epoch 8/20\n",
      "12/12 [==============================] - 1s 48ms/step - loss: 1.0327 - accuracy: 0.9019 - val_loss: 2.3882 - val_accuracy: 0.7500\n",
      "Epoch 9/20\n",
      "12/12 [==============================] - 1s 45ms/step - loss: 0.9808 - accuracy: 0.8910 - val_loss: 2.2123 - val_accuracy: 0.7391\n",
      "Epoch 10/20\n",
      "12/12 [==============================] - 1s 46ms/step - loss: 0.8719 - accuracy: 0.9101 - val_loss: 2.0850 - val_accuracy: 0.7500\n",
      "Epoch 11/20\n",
      "12/12 [==============================] - 1s 49ms/step - loss: 0.8479 - accuracy: 0.9346 - val_loss: 1.9398 - val_accuracy: 0.7609\n",
      "Epoch 12/20\n",
      "12/12 [==============================] - 1s 48ms/step - loss: 0.8243 - accuracy: 0.9292 - val_loss: 2.4922 - val_accuracy: 0.6739\n",
      "Epoch 13/20\n",
      "12/12 [==============================] - 1s 47ms/step - loss: 0.8923 - accuracy: 0.9046 - val_loss: 2.1420 - val_accuracy: 0.7065\n",
      "Epoch 14/20\n",
      "12/12 [==============================] - 1s 46ms/step - loss: 0.8318 - accuracy: 0.9373 - val_loss: 2.1398 - val_accuracy: 0.7283\n",
      "Epoch 15/20\n",
      "12/12 [==============================] - 1s 49ms/step - loss: 0.7855 - accuracy: 0.9401 - val_loss: 1.8357 - val_accuracy: 0.7283\n",
      "Epoch 16/20\n",
      "12/12 [==============================] - 1s 53ms/step - loss: 0.7710 - accuracy: 0.9482 - val_loss: 1.9601 - val_accuracy: 0.7391\n",
      "Epoch 17/20\n",
      "12/12 [==============================] - 1s 46ms/step - loss: 0.7688 - accuracy: 0.9455 - val_loss: 2.4935 - val_accuracy: 0.7174\n",
      "Epoch 18/20\n",
      "12/12 [==============================] - 1s 45ms/step - loss: 0.7650 - accuracy: 0.9482 - val_loss: 2.4417 - val_accuracy: 0.7174\n",
      "Epoch 19/20\n",
      "12/12 [==============================] - 1s 47ms/step - loss: 0.8299 - accuracy: 0.9346 - val_loss: 2.4526 - val_accuracy: 0.7391\n",
      "Epoch 20/20\n",
      "12/12 [==============================] - 1s 48ms/step - loss: 0.7780 - accuracy: 0.9428 - val_loss: 2.4750 - val_accuracy: 0.6957\n"
     ]
    }
   ],
   "source": [
    "ept = model_output(eph,eph1)"
   ]
  },
  {
   "cell_type": "code",
   "execution_count": null,
   "metadata": {
    "colab": {
     "base_uri": "https://localhost:8080/"
    },
    "id": "9d5Ur921zWut",
    "outputId": "2b044a95-bfe3-414e-e7d6-075bf294e479"
   },
   "outputs": [
    {
     "name": "stdout",
     "output_type": "stream",
     "text": [
      "Epoch 1/20\n",
      "11/11 [==============================] - 2s 173ms/step - loss: 2.5836 - accuracy: 0.7676 - val_loss: 1.8510 - val_accuracy: 0.8171\n",
      "Epoch 2/20\n",
      "11/11 [==============================] - 1s 47ms/step - loss: 2.1798 - accuracy: 0.8165 - val_loss: 1.8459 - val_accuracy: 0.8049\n",
      "Epoch 3/20\n",
      "11/11 [==============================] - 1s 50ms/step - loss: 2.0640 - accuracy: 0.8318 - val_loss: 1.8294 - val_accuracy: 0.7927\n",
      "Epoch 4/20\n",
      "11/11 [==============================] - 1s 46ms/step - loss: 1.8485 - accuracy: 0.8349 - val_loss: 2.2116 - val_accuracy: 0.7805\n",
      "Epoch 5/20\n",
      "11/11 [==============================] - 1s 46ms/step - loss: 1.6044 - accuracy: 0.8532 - val_loss: 1.4684 - val_accuracy: 0.8537\n",
      "Epoch 6/20\n",
      "11/11 [==============================] - 1s 48ms/step - loss: 1.3837 - accuracy: 0.8716 - val_loss: 1.4912 - val_accuracy: 0.8293\n",
      "Epoch 7/20\n",
      "11/11 [==============================] - 1s 47ms/step - loss: 1.3447 - accuracy: 0.8899 - val_loss: 1.4901 - val_accuracy: 0.8415\n",
      "Epoch 8/20\n",
      "11/11 [==============================] - 1s 47ms/step - loss: 1.3229 - accuracy: 0.8991 - val_loss: 1.5124 - val_accuracy: 0.8049\n",
      "Epoch 9/20\n",
      "11/11 [==============================] - 1s 46ms/step - loss: 1.3037 - accuracy: 0.9083 - val_loss: 1.4987 - val_accuracy: 0.8049\n",
      "Epoch 10/20\n",
      "11/11 [==============================] - 0s 45ms/step - loss: 1.2489 - accuracy: 0.9083 - val_loss: 2.8142 - val_accuracy: 0.7195\n",
      "Epoch 11/20\n",
      "11/11 [==============================] - 1s 48ms/step - loss: 1.2687 - accuracy: 0.9021 - val_loss: 1.9693 - val_accuracy: 0.7561\n",
      "Epoch 12/20\n",
      "11/11 [==============================] - 1s 46ms/step - loss: 1.2316 - accuracy: 0.9205 - val_loss: 1.9410 - val_accuracy: 0.7683\n",
      "Epoch 13/20\n",
      "11/11 [==============================] - 1s 49ms/step - loss: 1.1910 - accuracy: 0.9174 - val_loss: 1.8365 - val_accuracy: 0.7561\n",
      "Epoch 14/20\n",
      "11/11 [==============================] - 1s 50ms/step - loss: 1.2206 - accuracy: 0.9083 - val_loss: 1.9391 - val_accuracy: 0.7439\n",
      "Epoch 15/20\n",
      "11/11 [==============================] - 1s 49ms/step - loss: 1.1434 - accuracy: 0.9235 - val_loss: 2.1033 - val_accuracy: 0.7439\n",
      "Epoch 16/20\n",
      "11/11 [==============================] - 1s 47ms/step - loss: 1.1348 - accuracy: 0.9235 - val_loss: 2.1574 - val_accuracy: 0.7805\n",
      "Epoch 17/20\n",
      "11/11 [==============================] - 1s 48ms/step - loss: 1.1402 - accuracy: 0.9235 - val_loss: 2.0856 - val_accuracy: 0.7317\n",
      "Epoch 18/20\n",
      "11/11 [==============================] - 1s 46ms/step - loss: 1.1365 - accuracy: 0.9235 - val_loss: 2.2871 - val_accuracy: 0.7683\n",
      "Epoch 19/20\n",
      "11/11 [==============================] - 1s 47ms/step - loss: 1.1432 - accuracy: 0.9266 - val_loss: 1.9428 - val_accuracy: 0.7805\n",
      "Epoch 20/20\n",
      "11/11 [==============================] - 1s 51ms/step - loss: 1.0973 - accuracy: 0.9235 - val_loss: 2.8657 - val_accuracy: 0.7317\n"
     ]
    }
   ],
   "source": [
    "plp = model_output(phi,phi1)"
   ]
  },
  {
   "cell_type": "code",
   "execution_count": null,
   "metadata": {
    "colab": {
     "base_uri": "https://localhost:8080/"
    },
    "id": "tpMZYrjBzWut",
    "outputId": "8f7bf9b1-584a-4f3d-c3f4-249971021d5e"
   },
   "outputs": [
    {
     "name": "stdout",
     "output_type": "stream",
     "text": [
      "Epoch 1/20\n",
      "10/10 [==============================] - 2s 186ms/step - loss: 2.4057 - accuracy: 0.7555 - val_loss: 1.9387 - val_accuracy: 0.7875\n",
      "Epoch 2/20\n",
      "10/10 [==============================] - 0s 49ms/step - loss: 1.5108 - accuracy: 0.8182 - val_loss: 1.9199 - val_accuracy: 0.7250\n",
      "Epoch 3/20\n",
      "10/10 [==============================] - 0s 47ms/step - loss: 1.7255 - accuracy: 0.8056 - val_loss: 2.2087 - val_accuracy: 0.7125\n",
      "Epoch 4/20\n",
      "10/10 [==============================] - 1s 52ms/step - loss: 1.6943 - accuracy: 0.8119 - val_loss: 1.8587 - val_accuracy: 0.7250\n",
      "Epoch 5/20\n",
      "10/10 [==============================] - 0s 49ms/step - loss: 1.5554 - accuracy: 0.8464 - val_loss: 1.8656 - val_accuracy: 0.7500\n",
      "Epoch 6/20\n",
      "10/10 [==============================] - 0s 49ms/step - loss: 1.4150 - accuracy: 0.8621 - val_loss: 1.4693 - val_accuracy: 0.8000\n",
      "Epoch 7/20\n",
      "10/10 [==============================] - 0s 47ms/step - loss: 1.3034 - accuracy: 0.8683 - val_loss: 1.5216 - val_accuracy: 0.8000\n",
      "Epoch 8/20\n",
      "10/10 [==============================] - 1s 56ms/step - loss: 1.2185 - accuracy: 0.8997 - val_loss: 1.5354 - val_accuracy: 0.8000\n",
      "Epoch 9/20\n",
      "10/10 [==============================] - 0s 49ms/step - loss: 1.1935 - accuracy: 0.9185 - val_loss: 1.5548 - val_accuracy: 0.8250\n",
      "Epoch 10/20\n",
      "10/10 [==============================] - 0s 48ms/step - loss: 1.1836 - accuracy: 0.9185 - val_loss: 1.6639 - val_accuracy: 0.8250\n",
      "Epoch 11/20\n",
      "10/10 [==============================] - 0s 48ms/step - loss: 1.1756 - accuracy: 0.9216 - val_loss: 1.7047 - val_accuracy: 0.8250\n",
      "Epoch 12/20\n",
      "10/10 [==============================] - 0s 50ms/step - loss: 1.1702 - accuracy: 0.9248 - val_loss: 1.6786 - val_accuracy: 0.8375\n",
      "Epoch 13/20\n",
      "10/10 [==============================] - 0s 48ms/step - loss: 0.9778 - accuracy: 0.9091 - val_loss: 2.0089 - val_accuracy: 0.7750\n",
      "Epoch 14/20\n",
      "10/10 [==============================] - 0s 49ms/step - loss: 1.0347 - accuracy: 0.9248 - val_loss: 2.0632 - val_accuracy: 0.8250\n",
      "Epoch 15/20\n",
      "10/10 [==============================] - 0s 50ms/step - loss: 0.9707 - accuracy: 0.9342 - val_loss: 1.9624 - val_accuracy: 0.7625\n",
      "Epoch 16/20\n",
      "10/10 [==============================] - 0s 47ms/step - loss: 0.9297 - accuracy: 0.9154 - val_loss: 2.1275 - val_accuracy: 0.8125\n",
      "Epoch 17/20\n",
      "10/10 [==============================] - 0s 48ms/step - loss: 0.8784 - accuracy: 0.9404 - val_loss: 2.2814 - val_accuracy: 0.7625\n",
      "Epoch 18/20\n",
      "10/10 [==============================] - 0s 49ms/step - loss: 0.8672 - accuracy: 0.9436 - val_loss: 2.4136 - val_accuracy: 0.8000\n",
      "Epoch 19/20\n",
      "10/10 [==============================] - 0s 47ms/step - loss: 0.8668 - accuracy: 0.9436 - val_loss: 2.2483 - val_accuracy: 0.8000\n",
      "Epoch 20/20\n",
      "10/10 [==============================] - 0s 46ms/step - loss: 0.8410 - accuracy: 0.9373 - val_loss: 2.6531 - val_accuracy: 0.7625\n"
     ]
    }
   ],
   "source": [
    "cls = model_output(col,col1)"
   ]
  },
  {
   "cell_type": "code",
   "execution_count": null,
   "metadata": {
    "colab": {
     "base_uri": "https://localhost:8080/"
    },
    "id": "JZLfB-PIzWuu",
    "outputId": "b56dbd71-fb8c-4a87-e369-cfefa3627f58"
   },
   "outputs": [
    {
     "name": "stdout",
     "output_type": "stream",
     "text": [
      "Epoch 1/20\n",
      "10/10 [==============================] - 2s 192ms/step - loss: 2.0581 - accuracy: 0.8000 - val_loss: 1.3363 - val_accuracy: 0.8608\n",
      "Epoch 2/20\n",
      "10/10 [==============================] - 0s 48ms/step - loss: 1.7043 - accuracy: 0.8603 - val_loss: 1.2379 - val_accuracy: 0.8861\n",
      "Epoch 3/20\n",
      "10/10 [==============================] - 0s 44ms/step - loss: 1.5218 - accuracy: 0.8730 - val_loss: 1.3056 - val_accuracy: 0.8861\n",
      "Epoch 4/20\n",
      "10/10 [==============================] - 1s 50ms/step - loss: 1.2603 - accuracy: 0.9016 - val_loss: 1.3012 - val_accuracy: 0.8734\n",
      "Epoch 5/20\n",
      "10/10 [==============================] - 0s 47ms/step - loss: 1.1123 - accuracy: 0.9206 - val_loss: 1.2498 - val_accuracy: 0.8608\n",
      "Epoch 6/20\n",
      "10/10 [==============================] - 0s 49ms/step - loss: 1.0529 - accuracy: 0.9238 - val_loss: 1.4906 - val_accuracy: 0.8354\n",
      "Epoch 7/20\n",
      "10/10 [==============================] - 0s 47ms/step - loss: 1.0430 - accuracy: 0.9270 - val_loss: 1.2932 - val_accuracy: 0.8481\n",
      "Epoch 8/20\n",
      "10/10 [==============================] - 0s 49ms/step - loss: 1.0301 - accuracy: 0.9333 - val_loss: 1.2759 - val_accuracy: 0.8354\n",
      "Epoch 9/20\n",
      "10/10 [==============================] - 1s 55ms/step - loss: 1.0280 - accuracy: 0.9333 - val_loss: 1.2791 - val_accuracy: 0.8481\n",
      "Epoch 10/20\n",
      "10/10 [==============================] - 0s 49ms/step - loss: 1.0395 - accuracy: 0.9302 - val_loss: 1.4808 - val_accuracy: 0.8228\n",
      "Epoch 11/20\n",
      "10/10 [==============================] - 0s 47ms/step - loss: 1.0362 - accuracy: 0.9333 - val_loss: 1.8136 - val_accuracy: 0.8608\n",
      "Epoch 12/20\n",
      "10/10 [==============================] - 0s 49ms/step - loss: 1.0302 - accuracy: 0.9333 - val_loss: 1.6386 - val_accuracy: 0.8608\n",
      "Epoch 13/20\n",
      "10/10 [==============================] - 0s 46ms/step - loss: 1.0282 - accuracy: 0.9333 - val_loss: 1.6381 - val_accuracy: 0.8608\n",
      "Epoch 14/20\n",
      "10/10 [==============================] - 0s 49ms/step - loss: 0.9980 - accuracy: 0.9302 - val_loss: 1.4776 - val_accuracy: 0.8608\n",
      "Epoch 15/20\n",
      "10/10 [==============================] - 0s 48ms/step - loss: 0.7850 - accuracy: 0.9333 - val_loss: 1.7516 - val_accuracy: 0.7975\n",
      "Epoch 16/20\n",
      "10/10 [==============================] - 1s 50ms/step - loss: 0.8150 - accuracy: 0.9429 - val_loss: 1.7914 - val_accuracy: 0.8861\n",
      "Epoch 17/20\n",
      "10/10 [==============================] - 1s 51ms/step - loss: 0.6484 - accuracy: 0.9524 - val_loss: 1.6314 - val_accuracy: 0.8734\n",
      "Epoch 18/20\n",
      "10/10 [==============================] - 0s 46ms/step - loss: 0.6409 - accuracy: 0.9587 - val_loss: 1.8128 - val_accuracy: 0.8608\n",
      "Epoch 19/20\n",
      "10/10 [==============================] - 0s 49ms/step - loss: 0.6384 - accuracy: 0.9587 - val_loss: 1.6551 - val_accuracy: 0.8608\n",
      "Epoch 20/20\n",
      "10/10 [==============================] - 0s 47ms/step - loss: 0.6407 - accuracy: 0.9587 - val_loss: 1.6249 - val_accuracy: 0.8734\n"
     ]
    }
   ],
   "source": [
    "ftl = model_output(fthe,fthe1)"
   ]
  },
  {
   "cell_type": "code",
   "execution_count": null,
   "metadata": {
    "colab": {
     "base_uri": "https://localhost:8080/"
    },
    "id": "OjuDj1CRzWuu",
    "outputId": "3fd22985-17bb-45b1-8c33-85d42f93257e"
   },
   "outputs": [
    {
     "name": "stdout",
     "output_type": "stream",
     "text": [
      "Epoch 1/20\n",
      "9/9 [==============================] - 3s 290ms/step - loss: 1.0614 - accuracy: 0.8929 - val_loss: 1.5766 - val_accuracy: 0.8732\n",
      "Epoch 2/20\n",
      "9/9 [==============================] - 0s 46ms/step - loss: 0.7964 - accuracy: 0.9357 - val_loss: 1.5691 - val_accuracy: 0.8732\n",
      "Epoch 3/20\n",
      "9/9 [==============================] - 0s 48ms/step - loss: 0.7024 - accuracy: 0.9464 - val_loss: 1.8990 - val_accuracy: 0.8028\n",
      "Epoch 4/20\n",
      "9/9 [==============================] - 0s 49ms/step - loss: 0.7743 - accuracy: 0.9286 - val_loss: 1.5661 - val_accuracy: 0.8873\n",
      "Epoch 5/20\n",
      "9/9 [==============================] - 0s 47ms/step - loss: 0.5582 - accuracy: 0.9607 - val_loss: 1.7652 - val_accuracy: 0.8732\n",
      "Epoch 6/20\n",
      "9/9 [==============================] - 0s 46ms/step - loss: 0.5491 - accuracy: 0.9643 - val_loss: 1.7653 - val_accuracy: 0.8732\n",
      "Epoch 7/20\n",
      "9/9 [==============================] - 0s 49ms/step - loss: 0.5490 - accuracy: 0.9643 - val_loss: 1.7653 - val_accuracy: 0.8732\n",
      "Epoch 8/20\n",
      "9/9 [==============================] - 0s 51ms/step - loss: 0.5490 - accuracy: 0.9643 - val_loss: 1.7653 - val_accuracy: 0.8732\n",
      "Epoch 9/20\n",
      "9/9 [==============================] - 0s 52ms/step - loss: 0.5490 - accuracy: 0.9643 - val_loss: 1.7653 - val_accuracy: 0.8732\n",
      "Epoch 10/20\n",
      "9/9 [==============================] - 0s 49ms/step - loss: 0.5490 - accuracy: 0.9643 - val_loss: 1.7653 - val_accuracy: 0.8732\n",
      "Epoch 11/20\n",
      "9/9 [==============================] - 0s 48ms/step - loss: 0.5490 - accuracy: 0.9643 - val_loss: 1.7653 - val_accuracy: 0.8732\n",
      "Epoch 12/20\n",
      "9/9 [==============================] - 0s 48ms/step - loss: 0.5490 - accuracy: 0.9643 - val_loss: 1.7653 - val_accuracy: 0.8732\n",
      "Epoch 13/20\n",
      "9/9 [==============================] - 0s 50ms/step - loss: 0.5490 - accuracy: 0.9643 - val_loss: 1.7653 - val_accuracy: 0.8732\n",
      "Epoch 14/20\n",
      "9/9 [==============================] - 0s 49ms/step - loss: 0.5490 - accuracy: 0.9643 - val_loss: 1.7653 - val_accuracy: 0.8732\n",
      "Epoch 15/20\n",
      "9/9 [==============================] - 0s 51ms/step - loss: 0.5490 - accuracy: 0.9643 - val_loss: 1.7653 - val_accuracy: 0.8732\n",
      "Epoch 16/20\n",
      "9/9 [==============================] - 0s 49ms/step - loss: 0.5490 - accuracy: 0.9643 - val_loss: 1.7653 - val_accuracy: 0.8732\n",
      "Epoch 17/20\n",
      "9/9 [==============================] - 0s 51ms/step - loss: 0.5490 - accuracy: 0.9643 - val_loss: 1.7653 - val_accuracy: 0.8732\n",
      "Epoch 18/20\n",
      "9/9 [==============================] - 0s 51ms/step - loss: 0.5490 - accuracy: 0.9643 - val_loss: 1.7653 - val_accuracy: 0.8732\n",
      "Epoch 19/20\n",
      "9/9 [==============================] - 0s 50ms/step - loss: 0.5490 - accuracy: 0.9643 - val_loss: 1.7653 - val_accuracy: 0.8732\n",
      "Epoch 20/20\n",
      "9/9 [==============================] - 0s 49ms/step - loss: 0.5490 - accuracy: 0.9643 - val_loss: 1.7653 - val_accuracy: 0.8732\n"
     ]
    }
   ],
   "source": [
    "stl = model_output(sthe,sthe1)"
   ]
  },
  {
   "cell_type": "code",
   "execution_count": null,
   "metadata": {
    "colab": {
     "base_uri": "https://localhost:8080/"
    },
    "id": "tAPCnCTNzWuu",
    "outputId": "084e4411-8858-4724-8f58-7d30403fc9ec"
   },
   "outputs": [
    {
     "name": "stdout",
     "output_type": "stream",
     "text": [
      "Epoch 1/20\n",
      "11/11 [==============================] - 2s 175ms/step - loss: 1.5307 - accuracy: 0.8418 - val_loss: 3.1217 - val_accuracy: 0.7143\n",
      "Epoch 2/20\n",
      "11/11 [==============================] - 1s 47ms/step - loss: 1.2606 - accuracy: 0.8687 - val_loss: 3.2415 - val_accuracy: 0.7262\n",
      "Epoch 3/20\n",
      "11/11 [==============================] - 1s 47ms/step - loss: 1.1264 - accuracy: 0.8955 - val_loss: 3.1432 - val_accuracy: 0.6905\n",
      "Epoch 4/20\n",
      "11/11 [==============================] - 1s 48ms/step - loss: 1.0709 - accuracy: 0.9045 - val_loss: 2.9347 - val_accuracy: 0.7143\n",
      "Epoch 5/20\n",
      "11/11 [==============================] - 1s 47ms/step - loss: 1.0347 - accuracy: 0.9284 - val_loss: 2.6079 - val_accuracy: 0.7024\n",
      "Epoch 6/20\n",
      "11/11 [==============================] - 1s 48ms/step - loss: 1.1195 - accuracy: 0.9134 - val_loss: 2.8000 - val_accuracy: 0.6905\n",
      "Epoch 7/20\n",
      "11/11 [==============================] - 1s 49ms/step - loss: 0.9532 - accuracy: 0.9254 - val_loss: 2.6134 - val_accuracy: 0.7381\n",
      "Epoch 8/20\n",
      "11/11 [==============================] - 1s 47ms/step - loss: 0.9382 - accuracy: 0.9343 - val_loss: 2.6485 - val_accuracy: 0.7262\n",
      "Epoch 9/20\n",
      "11/11 [==============================] - 1s 50ms/step - loss: 0.9325 - accuracy: 0.9343 - val_loss: 2.7467 - val_accuracy: 0.7500\n",
      "Epoch 10/20\n",
      "11/11 [==============================] - 1s 47ms/step - loss: 0.8845 - accuracy: 0.9403 - val_loss: 2.9414 - val_accuracy: 0.7262\n",
      "Epoch 11/20\n",
      "11/11 [==============================] - 1s 48ms/step - loss: 0.9007 - accuracy: 0.9313 - val_loss: 2.6118 - val_accuracy: 0.7262\n",
      "Epoch 12/20\n",
      "11/11 [==============================] - 0s 45ms/step - loss: 0.8789 - accuracy: 0.9433 - val_loss: 2.9400 - val_accuracy: 0.7262\n",
      "Epoch 13/20\n",
      "11/11 [==============================] - 1s 48ms/step - loss: 0.8764 - accuracy: 0.9433 - val_loss: 2.7982 - val_accuracy: 0.7381\n",
      "Epoch 14/20\n",
      "11/11 [==============================] - 1s 50ms/step - loss: 0.8784 - accuracy: 0.9403 - val_loss: 2.9089 - val_accuracy: 0.7619\n",
      "Epoch 15/20\n",
      "11/11 [==============================] - 1s 46ms/step - loss: 0.8788 - accuracy: 0.9403 - val_loss: 2.7638 - val_accuracy: 0.7381\n",
      "Epoch 16/20\n",
      "11/11 [==============================] - 1s 49ms/step - loss: 0.8802 - accuracy: 0.9433 - val_loss: 3.0983 - val_accuracy: 0.7500\n",
      "Epoch 17/20\n",
      "11/11 [==============================] - 1s 47ms/step - loss: 0.8814 - accuracy: 0.9433 - val_loss: 3.4889 - val_accuracy: 0.6786\n",
      "Epoch 18/20\n",
      "11/11 [==============================] - 1s 48ms/step - loss: 0.8405 - accuracy: 0.9463 - val_loss: 3.6776 - val_accuracy: 0.6905\n",
      "Epoch 19/20\n",
      "11/11 [==============================] - 1s 48ms/step - loss: 0.8325 - accuracy: 0.9463 - val_loss: 3.4248 - val_accuracy: 0.7262\n",
      "Epoch 20/20\n",
      "11/11 [==============================] - 1s 51ms/step - loss: 0.8305 - accuracy: 0.9463 - val_loss: 3.6768 - val_accuracy: 0.6786\n"
     ]
    }
   ],
   "source": [
    "ftm = model_output(ftim,ftim1)"
   ]
  },
  {
   "cell_type": "code",
   "execution_count": null,
   "metadata": {
    "colab": {
     "base_uri": "https://localhost:8080/"
    },
    "id": "PGcWNLBpzWuu",
    "outputId": "3e2a91e4-3a18-47d8-e09f-9b98ffe827a3"
   },
   "outputs": [
    {
     "name": "stdout",
     "output_type": "stream",
     "text": [
      "Epoch 1/20\n",
      "10/10 [==============================] - 2s 189ms/step - loss: 2.4521 - accuracy: 0.7806 - val_loss: 2.1111 - val_accuracy: 0.8077\n",
      "Epoch 2/20\n",
      "10/10 [==============================] - 1s 51ms/step - loss: 2.1107 - accuracy: 0.8323 - val_loss: 2.0760 - val_accuracy: 0.8205\n",
      "Epoch 3/20\n",
      "10/10 [==============================] - 0s 48ms/step - loss: 2.0189 - accuracy: 0.8419 - val_loss: 2.2562 - val_accuracy: 0.8205\n",
      "Epoch 4/20\n",
      "10/10 [==============================] - 1s 51ms/step - loss: 1.7282 - accuracy: 0.8710 - val_loss: 1.8969 - val_accuracy: 0.8205\n",
      "Epoch 5/20\n",
      "10/10 [==============================] - 0s 48ms/step - loss: 1.7002 - accuracy: 0.8903 - val_loss: 1.9087 - val_accuracy: 0.8205\n",
      "Epoch 6/20\n",
      "10/10 [==============================] - 0s 45ms/step - loss: 1.6913 - accuracy: 0.8903 - val_loss: 1.8976 - val_accuracy: 0.8333\n",
      "Epoch 7/20\n",
      "10/10 [==============================] - 0s 49ms/step - loss: 1.6905 - accuracy: 0.8903 - val_loss: 2.0885 - val_accuracy: 0.8205\n",
      "Epoch 8/20\n",
      "10/10 [==============================] - 0s 47ms/step - loss: 1.6909 - accuracy: 0.8903 - val_loss: 2.0809 - val_accuracy: 0.8333\n",
      "Epoch 9/20\n",
      "10/10 [==============================] - 0s 49ms/step - loss: 1.6894 - accuracy: 0.8903 - val_loss: 2.0705 - val_accuracy: 0.8077\n",
      "Epoch 10/20\n",
      "10/10 [==============================] - 0s 49ms/step - loss: 1.6943 - accuracy: 0.8903 - val_loss: 2.1018 - val_accuracy: 0.8205\n",
      "Epoch 11/20\n",
      "10/10 [==============================] - 0s 49ms/step - loss: 1.7616 - accuracy: 0.8710 - val_loss: 2.2226 - val_accuracy: 0.8333\n",
      "Epoch 12/20\n",
      "10/10 [==============================] - 0s 46ms/step - loss: 1.7611 - accuracy: 0.8742 - val_loss: 1.9068 - val_accuracy: 0.8205\n",
      "Epoch 13/20\n",
      "10/10 [==============================] - 0s 48ms/step - loss: 1.6041 - accuracy: 0.8903 - val_loss: 2.0226 - val_accuracy: 0.8462\n",
      "Epoch 14/20\n",
      "10/10 [==============================] - 0s 48ms/step - loss: 1.5896 - accuracy: 0.8968 - val_loss: 2.0100 - val_accuracy: 0.8462\n",
      "Epoch 15/20\n",
      "10/10 [==============================] - 0s 49ms/step - loss: 1.5529 - accuracy: 0.8935 - val_loss: 1.8597 - val_accuracy: 0.8333\n",
      "Epoch 16/20\n",
      "10/10 [==============================] - 0s 48ms/step - loss: 1.5038 - accuracy: 0.8968 - val_loss: 1.9101 - val_accuracy: 0.8077\n",
      "Epoch 17/20\n",
      "10/10 [==============================] - 1s 52ms/step - loss: 1.4702 - accuracy: 0.8968 - val_loss: 1.7861 - val_accuracy: 0.8333\n",
      "Epoch 18/20\n",
      "10/10 [==============================] - 0s 48ms/step - loss: 1.3984 - accuracy: 0.9032 - val_loss: 2.0592 - val_accuracy: 0.8462\n",
      "Epoch 19/20\n",
      "10/10 [==============================] - 0s 48ms/step - loss: 1.3915 - accuracy: 0.9097 - val_loss: 2.2118 - val_accuracy: 0.8333\n",
      "Epoch 20/20\n",
      "10/10 [==============================] - 0s 47ms/step - loss: 1.3910 - accuracy: 0.9097 - val_loss: 2.2118 - val_accuracy: 0.8333\n"
     ]
    }
   ],
   "source": [
    "stm = model_output(stim,stim1)"
   ]
  },
  {
   "cell_type": "code",
   "execution_count": null,
   "metadata": {
    "colab": {
     "base_uri": "https://localhost:8080/"
    },
    "id": "FviHh7A9zWuu",
    "outputId": "c9aeb44c-d9c8-4c60-f82c-0c3923f032ef"
   },
   "outputs": [
    {
     "name": "stdout",
     "output_type": "stream",
     "text": [
      "Epoch 1/20\n",
      "9/9 [==============================] - 2s 216ms/step - loss: 1.8653 - accuracy: 0.8286 - val_loss: 1.4747 - val_accuracy: 0.8169\n",
      "Epoch 2/20\n",
      "9/9 [==============================] - 0s 52ms/step - loss: 1.2267 - accuracy: 0.8857 - val_loss: 1.6310 - val_accuracy: 0.8310\n",
      "Epoch 3/20\n",
      "9/9 [==============================] - 0s 52ms/step - loss: 1.1296 - accuracy: 0.9179 - val_loss: 1.6225 - val_accuracy: 0.8451\n",
      "Epoch 4/20\n",
      "9/9 [==============================] - 0s 50ms/step - loss: 1.0552 - accuracy: 0.9286 - val_loss: 1.6229 - val_accuracy: 0.8592\n",
      "Epoch 5/20\n",
      "9/9 [==============================] - 0s 53ms/step - loss: 1.0486 - accuracy: 0.9321 - val_loss: 1.6188 - val_accuracy: 0.8592\n",
      "Epoch 6/20\n",
      "9/9 [==============================] - 0s 49ms/step - loss: 1.0472 - accuracy: 0.9321 - val_loss: 1.6160 - val_accuracy: 0.8592\n",
      "Epoch 7/20\n",
      "9/9 [==============================] - 0s 53ms/step - loss: 1.0462 - accuracy: 0.9321 - val_loss: 1.6162 - val_accuracy: 0.8451\n",
      "Epoch 8/20\n",
      "9/9 [==============================] - 0s 49ms/step - loss: 1.0461 - accuracy: 0.9321 - val_loss: 1.6162 - val_accuracy: 0.8451\n",
      "Epoch 9/20\n",
      "9/9 [==============================] - 0s 50ms/step - loss: 1.0461 - accuracy: 0.9321 - val_loss: 1.6162 - val_accuracy: 0.8451\n",
      "Epoch 10/20\n",
      "9/9 [==============================] - 0s 48ms/step - loss: 1.0461 - accuracy: 0.9321 - val_loss: 1.6162 - val_accuracy: 0.8451\n",
      "Epoch 11/20\n",
      "9/9 [==============================] - 1s 60ms/step - loss: 1.0461 - accuracy: 0.9321 - val_loss: 1.6162 - val_accuracy: 0.8451\n",
      "Epoch 12/20\n",
      "9/9 [==============================] - 0s 48ms/step - loss: 1.0461 - accuracy: 0.9321 - val_loss: 1.6162 - val_accuracy: 0.8451\n",
      "Epoch 13/20\n",
      "9/9 [==============================] - 0s 48ms/step - loss: 1.0461 - accuracy: 0.9321 - val_loss: 1.6162 - val_accuracy: 0.8451\n",
      "Epoch 14/20\n",
      "9/9 [==============================] - 0s 46ms/step - loss: 1.0461 - accuracy: 0.9321 - val_loss: 1.6162 - val_accuracy: 0.8451\n",
      "Epoch 15/20\n",
      "9/9 [==============================] - 0s 47ms/step - loss: 1.0461 - accuracy: 0.9321 - val_loss: 1.6162 - val_accuracy: 0.8451\n",
      "Epoch 16/20\n",
      "9/9 [==============================] - 0s 47ms/step - loss: 1.0461 - accuracy: 0.9321 - val_loss: 1.6162 - val_accuracy: 0.8451\n",
      "Epoch 17/20\n",
      "9/9 [==============================] - 0s 51ms/step - loss: 1.0461 - accuracy: 0.9321 - val_loss: 1.6162 - val_accuracy: 0.8451\n",
      "Epoch 18/20\n",
      "9/9 [==============================] - 0s 47ms/step - loss: 1.0461 - accuracy: 0.9321 - val_loss: 1.6162 - val_accuracy: 0.8451\n",
      "Epoch 19/20\n",
      "9/9 [==============================] - 0s 48ms/step - loss: 1.0461 - accuracy: 0.9321 - val_loss: 1.6162 - val_accuracy: 0.8451\n",
      "Epoch 20/20\n",
      "9/9 [==============================] - 0s 55ms/step - loss: 1.0461 - accuracy: 0.9321 - val_loss: 1.6162 - val_accuracy: 0.8451\n"
     ]
    }
   ],
   "source": [
    "tus = model_output(titus,titus1)"
   ]
  },
  {
   "cell_type": "code",
   "execution_count": null,
   "metadata": {
    "colab": {
     "base_uri": "https://localhost:8080/"
    },
    "id": "VBMyo33tzWuu",
    "outputId": "40ad9b56-74bc-4421-edc8-191a74fc1085"
   },
   "outputs": [
    {
     "name": "stdout",
     "output_type": "stream",
     "text": [
      "Epoch 1/20\n",
      "9/9 [==============================] - 2s 202ms/step - loss: 0.4492 - accuracy: 0.9582 - val_loss: 0.7525 - val_accuracy: 0.9242\n",
      "Epoch 2/20\n",
      "9/9 [==============================] - 0s 45ms/step - loss: 0.4867 - accuracy: 0.9620 - val_loss: 0.8190 - val_accuracy: 0.9091\n",
      "Epoch 3/20\n",
      "9/9 [==============================] - 0s 45ms/step - loss: 0.4738 - accuracy: 0.9658 - val_loss: 0.9761 - val_accuracy: 0.9091\n",
      "Epoch 4/20\n",
      "9/9 [==============================] - 0s 45ms/step - loss: 0.4692 - accuracy: 0.9696 - val_loss: 0.9761 - val_accuracy: 0.9091\n",
      "Epoch 5/20\n",
      "9/9 [==============================] - 0s 48ms/step - loss: 0.4692 - accuracy: 0.9696 - val_loss: 0.9761 - val_accuracy: 0.9091\n",
      "Epoch 6/20\n",
      "9/9 [==============================] - 0s 45ms/step - loss: 0.4692 - accuracy: 0.9696 - val_loss: 0.9761 - val_accuracy: 0.9091\n",
      "Epoch 7/20\n",
      "9/9 [==============================] - 0s 50ms/step - loss: 0.4692 - accuracy: 0.9696 - val_loss: 0.9761 - val_accuracy: 0.9091\n",
      "Epoch 8/20\n",
      "9/9 [==============================] - 0s 45ms/step - loss: 0.4692 - accuracy: 0.9696 - val_loss: 0.9761 - val_accuracy: 0.9091\n",
      "Epoch 9/20\n",
      "9/9 [==============================] - 0s 46ms/step - loss: 0.4692 - accuracy: 0.9696 - val_loss: 0.9761 - val_accuracy: 0.9091\n",
      "Epoch 10/20\n",
      "9/9 [==============================] - 0s 47ms/step - loss: 0.4692 - accuracy: 0.9696 - val_loss: 0.9761 - val_accuracy: 0.9091\n",
      "Epoch 11/20\n",
      "9/9 [==============================] - 0s 47ms/step - loss: 0.4692 - accuracy: 0.9696 - val_loss: 0.9761 - val_accuracy: 0.9091\n",
      "Epoch 12/20\n",
      "9/9 [==============================] - 0s 44ms/step - loss: 0.4692 - accuracy: 0.9696 - val_loss: 0.9761 - val_accuracy: 0.9091\n",
      "Epoch 13/20\n",
      "9/9 [==============================] - 0s 47ms/step - loss: 0.4692 - accuracy: 0.9696 - val_loss: 0.9761 - val_accuracy: 0.9091\n",
      "Epoch 14/20\n",
      "9/9 [==============================] - 0s 47ms/step - loss: 0.4692 - accuracy: 0.9696 - val_loss: 0.9761 - val_accuracy: 0.9091\n",
      "Epoch 15/20\n",
      "9/9 [==============================] - 0s 53ms/step - loss: 0.4692 - accuracy: 0.9696 - val_loss: 0.9761 - val_accuracy: 0.9091\n",
      "Epoch 16/20\n",
      "9/9 [==============================] - 0s 47ms/step - loss: 0.4692 - accuracy: 0.9696 - val_loss: 0.9761 - val_accuracy: 0.9091\n",
      "Epoch 17/20\n",
      "9/9 [==============================] - 0s 45ms/step - loss: 0.4692 - accuracy: 0.9696 - val_loss: 0.9761 - val_accuracy: 0.9091\n",
      "Epoch 18/20\n",
      "9/9 [==============================] - 0s 44ms/step - loss: 0.4692 - accuracy: 0.9696 - val_loss: 0.9761 - val_accuracy: 0.9091\n",
      "Epoch 19/20\n",
      "9/9 [==============================] - 0s 47ms/step - loss: 0.4692 - accuracy: 0.9696 - val_loss: 0.9761 - val_accuracy: 0.9091\n",
      "Epoch 20/20\n",
      "9/9 [==============================] - 0s 47ms/step - loss: 0.4692 - accuracy: 0.9696 - val_loss: 0.9761 - val_accuracy: 0.9091\n"
     ]
    }
   ],
   "source": [
    "plm = model_output(philemon,philemon1)"
   ]
  },
  {
   "cell_type": "code",
   "execution_count": null,
   "metadata": {
    "colab": {
     "base_uri": "https://localhost:8080/"
    },
    "id": "Gqx_MIqjzWuu",
    "outputId": "7e1da0d0-bfef-4949-9d1b-6a7983fc58c9"
   },
   "outputs": [
    {
     "name": "stdout",
     "output_type": "stream",
     "text": [
      "Epoch 1/20\n",
      "8/8 [==============================] - 2s 226ms/step - loss: 0.0065 - accuracy: 1.0000 - val_loss: 0.0000e+00 - val_accuracy: 1.0000\n",
      "Epoch 2/20\n",
      "8/8 [==============================] - 0s 45ms/step - loss: 0.0000e+00 - accuracy: 1.0000 - val_loss: 0.0000e+00 - val_accuracy: 1.0000\n",
      "Epoch 3/20\n",
      "8/8 [==============================] - 0s 46ms/step - loss: 0.0000e+00 - accuracy: 1.0000 - val_loss: 0.0000e+00 - val_accuracy: 1.0000\n",
      "Epoch 4/20\n",
      "8/8 [==============================] - 0s 45ms/step - loss: 0.0000e+00 - accuracy: 1.0000 - val_loss: 0.0000e+00 - val_accuracy: 1.0000\n",
      "Epoch 5/20\n",
      "8/8 [==============================] - 0s 45ms/step - loss: 0.0000e+00 - accuracy: 1.0000 - val_loss: 0.0000e+00 - val_accuracy: 1.0000\n",
      "Epoch 6/20\n",
      "8/8 [==============================] - 0s 45ms/step - loss: 0.0000e+00 - accuracy: 1.0000 - val_loss: 0.0000e+00 - val_accuracy: 1.0000\n",
      "Epoch 7/20\n",
      "8/8 [==============================] - 0s 45ms/step - loss: 0.0000e+00 - accuracy: 1.0000 - val_loss: 0.0000e+00 - val_accuracy: 1.0000\n",
      "Epoch 8/20\n",
      "8/8 [==============================] - 0s 46ms/step - loss: 0.0000e+00 - accuracy: 1.0000 - val_loss: 0.0000e+00 - val_accuracy: 1.0000\n",
      "Epoch 9/20\n",
      "8/8 [==============================] - 0s 45ms/step - loss: 0.0000e+00 - accuracy: 1.0000 - val_loss: 0.0000e+00 - val_accuracy: 1.0000\n",
      "Epoch 10/20\n",
      "8/8 [==============================] - 0s 44ms/step - loss: 0.0000e+00 - accuracy: 1.0000 - val_loss: 0.0000e+00 - val_accuracy: 1.0000\n",
      "Epoch 11/20\n",
      "8/8 [==============================] - 0s 45ms/step - loss: 0.0000e+00 - accuracy: 1.0000 - val_loss: 0.0000e+00 - val_accuracy: 1.0000\n",
      "Epoch 12/20\n",
      "8/8 [==============================] - 0s 48ms/step - loss: 0.0000e+00 - accuracy: 1.0000 - val_loss: 0.0000e+00 - val_accuracy: 1.0000\n",
      "Epoch 13/20\n",
      "8/8 [==============================] - 0s 45ms/step - loss: 0.0000e+00 - accuracy: 1.0000 - val_loss: 0.0000e+00 - val_accuracy: 1.0000\n",
      "Epoch 14/20\n",
      "8/8 [==============================] - 0s 45ms/step - loss: 0.0000e+00 - accuracy: 1.0000 - val_loss: 0.0000e+00 - val_accuracy: 1.0000\n",
      "Epoch 15/20\n",
      "8/8 [==============================] - 0s 50ms/step - loss: 0.0000e+00 - accuracy: 1.0000 - val_loss: 0.0000e+00 - val_accuracy: 1.0000\n",
      "Epoch 16/20\n",
      "8/8 [==============================] - 0s 47ms/step - loss: 0.0000e+00 - accuracy: 1.0000 - val_loss: 0.0000e+00 - val_accuracy: 1.0000\n",
      "Epoch 17/20\n",
      "8/8 [==============================] - 0s 48ms/step - loss: 0.0000e+00 - accuracy: 1.0000 - val_loss: 0.0000e+00 - val_accuracy: 1.0000\n",
      "Epoch 18/20\n",
      "8/8 [==============================] - 0s 49ms/step - loss: 0.0000e+00 - accuracy: 1.0000 - val_loss: 0.0000e+00 - val_accuracy: 1.0000\n",
      "Epoch 19/20\n",
      "8/8 [==============================] - 0s 47ms/step - loss: 0.0000e+00 - accuracy: 1.0000 - val_loss: 0.0000e+00 - val_accuracy: 1.0000\n",
      "Epoch 20/20\n",
      "8/8 [==============================] - 0s 47ms/step - loss: 0.0000e+00 - accuracy: 1.0000 - val_loss: 0.0000e+00 - val_accuracy: 1.0000\n"
     ]
    }
   ],
   "source": [
    "jam = model_output(jams,jams1)"
   ]
  },
  {
   "cell_type": "code",
   "execution_count": null,
   "metadata": {
    "colab": {
     "base_uri": "https://localhost:8080/"
    },
    "id": "tc31e-UrzWuu",
    "outputId": "eb96a934-b460-47b2-b7aa-171060a694f7"
   },
   "outputs": [
    {
     "name": "stdout",
     "output_type": "stream",
     "text": [
      "Epoch 1/20\n",
      "11/11 [==============================] - 2s 173ms/step - loss: 3.3735 - accuracy: 0.7622 - val_loss: 2.3321 - val_accuracy: 0.8049\n",
      "Epoch 2/20\n",
      "11/11 [==============================] - 1s 48ms/step - loss: 2.4087 - accuracy: 0.7896 - val_loss: 2.1612 - val_accuracy: 0.8415\n",
      "Epoch 3/20\n",
      "11/11 [==============================] - 1s 46ms/step - loss: 1.8042 - accuracy: 0.8384 - val_loss: 1.6318 - val_accuracy: 0.8537\n",
      "Epoch 4/20\n",
      "11/11 [==============================] - 1s 46ms/step - loss: 1.4816 - accuracy: 0.8659 - val_loss: 1.5066 - val_accuracy: 0.8171\n",
      "Epoch 5/20\n",
      "11/11 [==============================] - 1s 50ms/step - loss: 1.3540 - accuracy: 0.8841 - val_loss: 1.5366 - val_accuracy: 0.8049\n",
      "Epoch 6/20\n",
      "11/11 [==============================] - 1s 48ms/step - loss: 1.3203 - accuracy: 0.8902 - val_loss: 1.5073 - val_accuracy: 0.8293\n",
      "Epoch 7/20\n",
      "11/11 [==============================] - 1s 47ms/step - loss: 1.3087 - accuracy: 0.8963 - val_loss: 1.2179 - val_accuracy: 0.8171\n",
      "Epoch 8/20\n",
      "11/11 [==============================] - 1s 48ms/step - loss: 1.2963 - accuracy: 0.9146 - val_loss: 1.5227 - val_accuracy: 0.8049\n",
      "Epoch 9/20\n",
      "11/11 [==============================] - 1s 46ms/step - loss: 1.2873 - accuracy: 0.9177 - val_loss: 1.4995 - val_accuracy: 0.8171\n",
      "Epoch 10/20\n",
      "11/11 [==============================] - 1s 47ms/step - loss: 1.2805 - accuracy: 0.9146 - val_loss: 1.8416 - val_accuracy: 0.8415\n",
      "Epoch 11/20\n",
      "11/11 [==============================] - 1s 48ms/step - loss: 1.2795 - accuracy: 0.9177 - val_loss: 1.5450 - val_accuracy: 0.8171\n",
      "Epoch 12/20\n",
      "11/11 [==============================] - 1s 48ms/step - loss: 1.1214 - accuracy: 0.9177 - val_loss: 2.0209 - val_accuracy: 0.8049\n",
      "Epoch 13/20\n",
      "11/11 [==============================] - 1s 49ms/step - loss: 1.0906 - accuracy: 0.9299 - val_loss: 1.4835 - val_accuracy: 0.8293\n",
      "Epoch 14/20\n",
      "11/11 [==============================] - 1s 46ms/step - loss: 1.0858 - accuracy: 0.9299 - val_loss: 1.3100 - val_accuracy: 0.8293\n",
      "Epoch 15/20\n",
      "11/11 [==============================] - 1s 48ms/step - loss: 1.1512 - accuracy: 0.9177 - val_loss: 1.3158 - val_accuracy: 0.7927\n",
      "Epoch 16/20\n",
      "11/11 [==============================] - 1s 48ms/step - loss: 1.1652 - accuracy: 0.9146 - val_loss: 1.8330 - val_accuracy: 0.8293\n",
      "Epoch 17/20\n",
      "11/11 [==============================] - 1s 49ms/step - loss: 1.0467 - accuracy: 0.9299 - val_loss: 2.3130 - val_accuracy: 0.8171\n",
      "Epoch 18/20\n",
      "11/11 [==============================] - 1s 48ms/step - loss: 1.0350 - accuracy: 0.9329 - val_loss: 2.3219 - val_accuracy: 0.8171\n",
      "Epoch 19/20\n",
      "11/11 [==============================] - 1s 48ms/step - loss: 1.0343 - accuracy: 0.9329 - val_loss: 2.3252 - val_accuracy: 0.8171\n",
      "Epoch 20/20\n",
      "11/11 [==============================] - 1s 46ms/step - loss: 1.0342 - accuracy: 0.9329 - val_loss: 2.3983 - val_accuracy: 0.7683\n"
     ]
    }
   ],
   "source": [
    "fpt = model_output(fpet,fpet1)"
   ]
  },
  {
   "cell_type": "code",
   "execution_count": null,
   "metadata": {
    "colab": {
     "base_uri": "https://localhost:8080/"
    },
    "id": "JgQmPc7izWuv",
    "outputId": "6ccec65f-0fe0-45a3-fa58-003fc75154aa"
   },
   "outputs": [
    {
     "name": "stdout",
     "output_type": "stream",
     "text": [
      "Epoch 1/20\n",
      "10/10 [==============================] - 2s 185ms/step - loss: 1.2697 - accuracy: 0.8664 - val_loss: 2.1304 - val_accuracy: 0.8493\n",
      "Epoch 2/20\n",
      "10/10 [==============================] - 0s 47ms/step - loss: 0.9437 - accuracy: 0.9144 - val_loss: 2.1257 - val_accuracy: 0.8493\n",
      "Epoch 3/20\n",
      "10/10 [==============================] - 0s 45ms/step - loss: 0.8576 - accuracy: 0.9418 - val_loss: 2.1228 - val_accuracy: 0.8493\n",
      "Epoch 4/20\n",
      "10/10 [==============================] - 0s 47ms/step - loss: 0.8466 - accuracy: 0.9452 - val_loss: 1.9256 - val_accuracy: 0.8630\n",
      "Epoch 5/20\n",
      "10/10 [==============================] - 0s 45ms/step - loss: 0.7553 - accuracy: 0.9486 - val_loss: 1.9185 - val_accuracy: 0.8630\n",
      "Epoch 6/20\n",
      "10/10 [==============================] - 0s 47ms/step - loss: 0.6211 - accuracy: 0.9349 - val_loss: 1.9358 - val_accuracy: 0.8630\n",
      "Epoch 7/20\n",
      "10/10 [==============================] - 0s 47ms/step - loss: 0.5914 - accuracy: 0.9589 - val_loss: 1.7343 - val_accuracy: 0.8630\n",
      "Epoch 8/20\n",
      "10/10 [==============================] - 0s 45ms/step - loss: 0.5815 - accuracy: 0.9623 - val_loss: 1.7146 - val_accuracy: 0.8767\n",
      "Epoch 9/20\n",
      "10/10 [==============================] - 0s 45ms/step - loss: 0.5384 - accuracy: 0.9623 - val_loss: 1.7156 - val_accuracy: 0.8767\n",
      "Epoch 10/20\n",
      "10/10 [==============================] - 0s 48ms/step - loss: 0.5282 - accuracy: 0.9658 - val_loss: 1.7255 - val_accuracy: 0.8767\n",
      "Epoch 11/20\n",
      "10/10 [==============================] - 0s 48ms/step - loss: 0.5277 - accuracy: 0.9658 - val_loss: 1.5459 - val_accuracy: 0.8767\n",
      "Epoch 12/20\n",
      "10/10 [==============================] - 1s 51ms/step - loss: 0.5276 - accuracy: 0.9658 - val_loss: 1.5459 - val_accuracy: 0.8767\n",
      "Epoch 13/20\n",
      "10/10 [==============================] - 0s 44ms/step - loss: 0.5276 - accuracy: 0.9658 - val_loss: 1.5459 - val_accuracy: 0.8767\n",
      "Epoch 14/20\n",
      "10/10 [==============================] - 0s 48ms/step - loss: 0.5276 - accuracy: 0.9658 - val_loss: 1.5459 - val_accuracy: 0.8767\n",
      "Epoch 15/20\n",
      "10/10 [==============================] - 0s 47ms/step - loss: 0.5276 - accuracy: 0.9658 - val_loss: 1.5459 - val_accuracy: 0.8767\n",
      "Epoch 16/20\n",
      "10/10 [==============================] - 0s 49ms/step - loss: 0.5276 - accuracy: 0.9658 - val_loss: 1.5459 - val_accuracy: 0.8767\n",
      "Epoch 17/20\n",
      "10/10 [==============================] - 0s 45ms/step - loss: 0.5276 - accuracy: 0.9658 - val_loss: 1.5459 - val_accuracy: 0.8767\n",
      "Epoch 18/20\n",
      "10/10 [==============================] - 0s 46ms/step - loss: 0.5276 - accuracy: 0.9658 - val_loss: 1.5459 - val_accuracy: 0.8767\n",
      "Epoch 19/20\n",
      "10/10 [==============================] - 0s 44ms/step - loss: 0.5276 - accuracy: 0.9658 - val_loss: 1.5459 - val_accuracy: 0.8767\n",
      "Epoch 20/20\n",
      "10/10 [==============================] - 1s 51ms/step - loss: 0.5276 - accuracy: 0.9658 - val_loss: 1.5459 - val_accuracy: 0.8767\n"
     ]
    }
   ],
   "source": [
    "spt = model_output(spet,spet1)"
   ]
  },
  {
   "cell_type": "code",
   "execution_count": null,
   "metadata": {
    "colab": {
     "base_uri": "https://localhost:8080/"
    },
    "id": "1wWSkHMBzWuv",
    "outputId": "e4216c6a-4547-43cc-c6a1-ab7825c1f927"
   },
   "outputs": [
    {
     "name": "stdout",
     "output_type": "stream",
     "text": [
      "Epoch 1/20\n",
      "11/11 [==============================] - 2s 179ms/step - loss: 1.2899 - accuracy: 0.8537 - val_loss: 1.8451 - val_accuracy: 0.8293\n",
      "Epoch 2/20\n",
      "11/11 [==============================] - 1s 49ms/step - loss: 0.9331 - accuracy: 0.9177 - val_loss: 1.7883 - val_accuracy: 0.8293\n",
      "Epoch 3/20\n",
      "11/11 [==============================] - 1s 47ms/step - loss: 0.7312 - accuracy: 0.9299 - val_loss: 2.1226 - val_accuracy: 0.8415\n",
      "Epoch 4/20\n",
      "11/11 [==============================] - 1s 49ms/step - loss: 0.6346 - accuracy: 0.9573 - val_loss: 2.1352 - val_accuracy: 0.8293\n",
      "Epoch 5/20\n",
      "11/11 [==============================] - 1s 51ms/step - loss: 0.6204 - accuracy: 0.9604 - val_loss: 2.1286 - val_accuracy: 0.8293\n",
      "Epoch 6/20\n",
      "11/11 [==============================] - 1s 52ms/step - loss: 0.6124 - accuracy: 0.9604 - val_loss: 2.1333 - val_accuracy: 0.8171\n",
      "Epoch 7/20\n",
      "11/11 [==============================] - 1s 52ms/step - loss: 0.6107 - accuracy: 0.9604 - val_loss: 2.1342 - val_accuracy: 0.8171\n",
      "Epoch 8/20\n",
      "11/11 [==============================] - 1s 47ms/step - loss: 0.6103 - accuracy: 0.9604 - val_loss: 2.1342 - val_accuracy: 0.8171\n",
      "Epoch 9/20\n",
      "11/11 [==============================] - 1s 49ms/step - loss: 0.6103 - accuracy: 0.9604 - val_loss: 2.1342 - val_accuracy: 0.8171\n",
      "Epoch 10/20\n",
      "11/11 [==============================] - 1s 48ms/step - loss: 0.6103 - accuracy: 0.9604 - val_loss: 2.1342 - val_accuracy: 0.8171\n",
      "Epoch 11/20\n",
      "11/11 [==============================] - 1s 51ms/step - loss: 0.6103 - accuracy: 0.9604 - val_loss: 2.1342 - val_accuracy: 0.8171\n",
      "Epoch 12/20\n",
      "11/11 [==============================] - 1s 50ms/step - loss: 0.6103 - accuracy: 0.9604 - val_loss: 2.1342 - val_accuracy: 0.8171\n",
      "Epoch 13/20\n",
      "11/11 [==============================] - 1s 49ms/step - loss: 0.6103 - accuracy: 0.9604 - val_loss: 2.1342 - val_accuracy: 0.8171\n",
      "Epoch 14/20\n",
      "11/11 [==============================] - 1s 52ms/step - loss: 0.6103 - accuracy: 0.9604 - val_loss: 2.1342 - val_accuracy: 0.8171\n",
      "Epoch 15/20\n",
      "11/11 [==============================] - 1s 50ms/step - loss: 0.6103 - accuracy: 0.9604 - val_loss: 2.1342 - val_accuracy: 0.8171\n",
      "Epoch 16/20\n",
      "11/11 [==============================] - 1s 51ms/step - loss: 0.6103 - accuracy: 0.9604 - val_loss: 2.1342 - val_accuracy: 0.8171\n",
      "Epoch 17/20\n",
      "11/11 [==============================] - 1s 51ms/step - loss: 0.6103 - accuracy: 0.9604 - val_loss: 2.1342 - val_accuracy: 0.8171\n",
      "Epoch 18/20\n",
      "11/11 [==============================] - 1s 48ms/step - loss: 0.6103 - accuracy: 0.9604 - val_loss: 2.1342 - val_accuracy: 0.8171\n",
      "Epoch 19/20\n",
      "11/11 [==============================] - 1s 51ms/step - loss: 0.6103 - accuracy: 0.9604 - val_loss: 2.1342 - val_accuracy: 0.8171\n",
      "Epoch 20/20\n",
      "11/11 [==============================] - 1s 52ms/step - loss: 0.6103 - accuracy: 0.9604 - val_loss: 2.1342 - val_accuracy: 0.8171\n"
     ]
    }
   ],
   "source": [
    "fjn = model_output(fjohn,fjohn1)"
   ]
  },
  {
   "cell_type": "code",
   "execution_count": null,
   "metadata": {
    "colab": {
     "base_uri": "https://localhost:8080/"
    },
    "id": "qDarMC-azWuv",
    "outputId": "fd42d70c-f513-49e3-bf5e-28f138ecc463"
   },
   "outputs": [
    {
     "name": "stdout",
     "output_type": "stream",
     "text": [
      "Epoch 1/20\n",
      "8/8 [==============================] - 2s 226ms/step - loss: 0.6757 - accuracy: 0.9209 - val_loss: 0.4915 - val_accuracy: 0.9688\n",
      "Epoch 2/20\n",
      "8/8 [==============================] - 0s 47ms/step - loss: 0.4315 - accuracy: 0.9684 - val_loss: 0.4878 - val_accuracy: 0.9688\n",
      "Epoch 3/20\n",
      "8/8 [==============================] - 0s 49ms/step - loss: 0.3127 - accuracy: 0.9723 - val_loss: 0.4820 - val_accuracy: 0.9688\n",
      "Epoch 4/20\n",
      "8/8 [==============================] - 0s 46ms/step - loss: 0.3048 - accuracy: 0.9802 - val_loss: 0.4820 - val_accuracy: 0.9688\n",
      "Epoch 5/20\n",
      "8/8 [==============================] - 0s 48ms/step - loss: 0.3041 - accuracy: 0.9802 - val_loss: 0.4820 - val_accuracy: 0.9688\n",
      "Epoch 6/20\n",
      "8/8 [==============================] - 0s 46ms/step - loss: 0.3041 - accuracy: 0.9802 - val_loss: 0.4820 - val_accuracy: 0.9688\n",
      "Epoch 7/20\n",
      "8/8 [==============================] - 0s 46ms/step - loss: 0.3041 - accuracy: 0.9802 - val_loss: 0.4820 - val_accuracy: 0.9688\n",
      "Epoch 8/20\n",
      "8/8 [==============================] - 0s 49ms/step - loss: 0.3041 - accuracy: 0.9802 - val_loss: 0.4820 - val_accuracy: 0.9688\n",
      "Epoch 9/20\n",
      "8/8 [==============================] - 0s 46ms/step - loss: 0.3041 - accuracy: 0.9802 - val_loss: 0.4820 - val_accuracy: 0.9688\n",
      "Epoch 10/20\n",
      "8/8 [==============================] - 0s 49ms/step - loss: 0.3041 - accuracy: 0.9802 - val_loss: 0.4820 - val_accuracy: 0.9688\n",
      "Epoch 11/20\n",
      "8/8 [==============================] - 0s 46ms/step - loss: 0.3041 - accuracy: 0.9802 - val_loss: 0.4820 - val_accuracy: 0.9688\n",
      "Epoch 12/20\n",
      "8/8 [==============================] - 0s 47ms/step - loss: 0.3041 - accuracy: 0.9802 - val_loss: 0.4820 - val_accuracy: 0.9688\n",
      "Epoch 13/20\n",
      "8/8 [==============================] - 0s 49ms/step - loss: 0.3041 - accuracy: 0.9802 - val_loss: 0.4820 - val_accuracy: 0.9688\n",
      "Epoch 14/20\n",
      "8/8 [==============================] - 0s 48ms/step - loss: 0.3041 - accuracy: 0.9802 - val_loss: 0.4820 - val_accuracy: 0.9688\n",
      "Epoch 15/20\n",
      "8/8 [==============================] - 0s 47ms/step - loss: 0.3041 - accuracy: 0.9802 - val_loss: 0.4820 - val_accuracy: 0.9688\n",
      "Epoch 16/20\n",
      "8/8 [==============================] - 0s 50ms/step - loss: 0.3041 - accuracy: 0.9802 - val_loss: 0.4820 - val_accuracy: 0.9688\n",
      "Epoch 17/20\n",
      "8/8 [==============================] - 0s 49ms/step - loss: 0.3041 - accuracy: 0.9802 - val_loss: 0.4820 - val_accuracy: 0.9688\n",
      "Epoch 18/20\n",
      "8/8 [==============================] - 0s 45ms/step - loss: 0.3041 - accuracy: 0.9802 - val_loss: 0.4820 - val_accuracy: 0.9688\n",
      "Epoch 19/20\n",
      "8/8 [==============================] - 0s 49ms/step - loss: 0.3041 - accuracy: 0.9802 - val_loss: 0.4820 - val_accuracy: 0.9688\n",
      "Epoch 20/20\n",
      "8/8 [==============================] - 0s 48ms/step - loss: 0.3041 - accuracy: 0.9802 - val_loss: 0.4820 - val_accuracy: 0.9688\n"
     ]
    }
   ],
   "source": [
    "sjn = model_output(sjohn,sjohn1)"
   ]
  },
  {
   "cell_type": "code",
   "execution_count": null,
   "metadata": {
    "colab": {
     "base_uri": "https://localhost:8080/"
    },
    "id": "nlqwf9xqzWuv",
    "outputId": "4b629723-906c-4a10-b26c-3c458d8b23ba"
   },
   "outputs": [
    {
     "name": "stdout",
     "output_type": "stream",
     "text": [
      "Epoch 1/20\n",
      "8/8 [==============================] - 2s 227ms/step - loss: 0.6346 - accuracy: 0.9490 - val_loss: 0.2596 - val_accuracy: 0.9688\n",
      "Epoch 2/20\n",
      "8/8 [==============================] - 0s 50ms/step - loss: 0.5508 - accuracy: 0.9608 - val_loss: 0.2472 - val_accuracy: 0.9844\n",
      "Epoch 3/20\n",
      "8/8 [==============================] - 0s 49ms/step - loss: 0.5444 - accuracy: 0.9647 - val_loss: 0.2472 - val_accuracy: 0.9844\n",
      "Epoch 4/20\n",
      "8/8 [==============================] - 0s 46ms/step - loss: 0.5444 - accuracy: 0.9647 - val_loss: 0.2472 - val_accuracy: 0.9844\n",
      "Epoch 5/20\n",
      "8/8 [==============================] - 0s 49ms/step - loss: 0.5444 - accuracy: 0.9647 - val_loss: 0.2472 - val_accuracy: 0.9844\n",
      "Epoch 6/20\n",
      "8/8 [==============================] - 0s 46ms/step - loss: 0.5444 - accuracy: 0.9647 - val_loss: 0.2472 - val_accuracy: 0.9844\n",
      "Epoch 7/20\n",
      "8/8 [==============================] - 0s 48ms/step - loss: 0.5444 - accuracy: 0.9647 - val_loss: 0.2472 - val_accuracy: 0.9844\n",
      "Epoch 8/20\n",
      "8/8 [==============================] - 0s 47ms/step - loss: 0.5444 - accuracy: 0.9647 - val_loss: 0.2472 - val_accuracy: 0.9844\n",
      "Epoch 9/20\n",
      "8/8 [==============================] - 0s 46ms/step - loss: 0.5444 - accuracy: 0.9647 - val_loss: 0.2472 - val_accuracy: 0.9844\n",
      "Epoch 10/20\n",
      "8/8 [==============================] - 0s 49ms/step - loss: 0.5444 - accuracy: 0.9647 - val_loss: 0.2472 - val_accuracy: 0.9844\n",
      "Epoch 11/20\n",
      "8/8 [==============================] - 0s 48ms/step - loss: 0.5444 - accuracy: 0.9647 - val_loss: 0.2472 - val_accuracy: 0.9844\n",
      "Epoch 12/20\n",
      "8/8 [==============================] - 0s 48ms/step - loss: 0.5444 - accuracy: 0.9647 - val_loss: 0.2472 - val_accuracy: 0.9844\n",
      "Epoch 13/20\n",
      "8/8 [==============================] - 0s 45ms/step - loss: 0.5444 - accuracy: 0.9647 - val_loss: 0.2472 - val_accuracy: 0.9844\n",
      "Epoch 14/20\n",
      "8/8 [==============================] - 0s 45ms/step - loss: 0.5444 - accuracy: 0.9647 - val_loss: 0.2472 - val_accuracy: 0.9844\n",
      "Epoch 15/20\n",
      "8/8 [==============================] - 0s 50ms/step - loss: 0.5444 - accuracy: 0.9647 - val_loss: 0.2472 - val_accuracy: 0.9844\n",
      "Epoch 16/20\n",
      "8/8 [==============================] - 0s 52ms/step - loss: 0.5444 - accuracy: 0.9647 - val_loss: 0.2472 - val_accuracy: 0.9844\n",
      "Epoch 17/20\n",
      "8/8 [==============================] - 0s 47ms/step - loss: 0.5444 - accuracy: 0.9647 - val_loss: 0.2472 - val_accuracy: 0.9844\n",
      "Epoch 18/20\n",
      "8/8 [==============================] - 0s 47ms/step - loss: 0.5444 - accuracy: 0.9647 - val_loss: 0.2472 - val_accuracy: 0.9844\n",
      "Epoch 19/20\n",
      "8/8 [==============================] - 0s 48ms/step - loss: 0.5444 - accuracy: 0.9647 - val_loss: 0.2472 - val_accuracy: 0.9844\n",
      "Epoch 20/20\n",
      "8/8 [==============================] - 0s 48ms/step - loss: 0.5444 - accuracy: 0.9647 - val_loss: 0.2472 - val_accuracy: 0.9844\n"
     ]
    }
   ],
   "source": [
    "tjn = model_output(tjohn,tjohn1)"
   ]
  },
  {
   "cell_type": "code",
   "execution_count": null,
   "metadata": {
    "colab": {
     "base_uri": "https://localhost:8080/"
    },
    "id": "OlSi8gPbzWuv",
    "outputId": "c869ac68-f8e4-43d1-e018-f644caa99c1a"
   },
   "outputs": [
    {
     "name": "stdout",
     "output_type": "stream",
     "text": [
      "Epoch 1/20\n",
      "9/9 [==============================] - 2s 206ms/step - loss: 0.7849 - accuracy: 0.9354 - val_loss: 0.5310 - val_accuracy: 0.9545\n",
      "Epoch 2/20\n",
      "9/9 [==============================] - 0s 51ms/step - loss: 0.7221 - accuracy: 0.9430 - val_loss: 0.7183 - val_accuracy: 0.9545\n",
      "Epoch 3/20\n",
      "9/9 [==============================] - 0s 46ms/step - loss: 0.6479 - accuracy: 0.9582 - val_loss: 0.5435 - val_accuracy: 0.9545\n",
      "Epoch 4/20\n",
      "9/9 [==============================] - 0s 49ms/step - loss: 0.6445 - accuracy: 0.9582 - val_loss: 0.5435 - val_accuracy: 0.9545\n",
      "Epoch 5/20\n",
      "9/9 [==============================] - 0s 47ms/step - loss: 0.6445 - accuracy: 0.9582 - val_loss: 0.5435 - val_accuracy: 0.9545\n",
      "Epoch 6/20\n",
      "9/9 [==============================] - 0s 48ms/step - loss: 0.6445 - accuracy: 0.9582 - val_loss: 0.5435 - val_accuracy: 0.9545\n",
      "Epoch 7/20\n",
      "9/9 [==============================] - 0s 45ms/step - loss: 0.6445 - accuracy: 0.9582 - val_loss: 0.5435 - val_accuracy: 0.9545\n",
      "Epoch 8/20\n",
      "9/9 [==============================] - 0s 48ms/step - loss: 0.6445 - accuracy: 0.9582 - val_loss: 0.5435 - val_accuracy: 0.9545\n",
      "Epoch 9/20\n",
      "9/9 [==============================] - 0s 45ms/step - loss: 0.6445 - accuracy: 0.9582 - val_loss: 0.5435 - val_accuracy: 0.9545\n",
      "Epoch 10/20\n",
      "9/9 [==============================] - 0s 49ms/step - loss: 0.6445 - accuracy: 0.9582 - val_loss: 0.5435 - val_accuracy: 0.9545\n",
      "Epoch 11/20\n",
      "9/9 [==============================] - 0s 48ms/step - loss: 0.6445 - accuracy: 0.9582 - val_loss: 0.5435 - val_accuracy: 0.9545\n",
      "Epoch 12/20\n",
      "9/9 [==============================] - 0s 48ms/step - loss: 0.6445 - accuracy: 0.9582 - val_loss: 0.5435 - val_accuracy: 0.9545\n",
      "Epoch 13/20\n",
      "9/9 [==============================] - 0s 47ms/step - loss: 0.6445 - accuracy: 0.9582 - val_loss: 0.5435 - val_accuracy: 0.9545\n",
      "Epoch 14/20\n",
      "9/9 [==============================] - 0s 48ms/step - loss: 0.6445 - accuracy: 0.9582 - val_loss: 0.5435 - val_accuracy: 0.9545\n",
      "Epoch 15/20\n",
      "9/9 [==============================] - 0s 46ms/step - loss: 0.6445 - accuracy: 0.9582 - val_loss: 0.5435 - val_accuracy: 0.9545\n",
      "Epoch 16/20\n",
      "9/9 [==============================] - 0s 46ms/step - loss: 0.6445 - accuracy: 0.9582 - val_loss: 0.5435 - val_accuracy: 0.9545\n",
      "Epoch 17/20\n",
      "9/9 [==============================] - 0s 47ms/step - loss: 0.6445 - accuracy: 0.9582 - val_loss: 0.5435 - val_accuracy: 0.9545\n",
      "Epoch 18/20\n",
      "9/9 [==============================] - 0s 46ms/step - loss: 0.6445 - accuracy: 0.9582 - val_loss: 0.5435 - val_accuracy: 0.9545\n",
      "Epoch 19/20\n",
      "9/9 [==============================] - 0s 49ms/step - loss: 0.6445 - accuracy: 0.9582 - val_loss: 0.5435 - val_accuracy: 0.9545\n",
      "Epoch 20/20\n",
      "9/9 [==============================] - 0s 47ms/step - loss: 0.6445 - accuracy: 0.9582 - val_loss: 0.5435 - val_accuracy: 0.9545\n"
     ]
    }
   ],
   "source": [
    "jde = model_output(jud,jud1)"
   ]
  },
  {
   "cell_type": "code",
   "execution_count": null,
   "metadata": {
    "colab": {
     "base_uri": "https://localhost:8080/"
    },
    "id": "25w6mLxmzWuv",
    "outputId": "18177bd8-e2c4-40d5-a4bb-295b040db28a"
   },
   "outputs": [
    {
     "name": "stdout",
     "output_type": "stream",
     "text": [
      "Epoch 1/20\n",
      "18/18 [==============================] - 2s 130ms/step - loss: 3.6735 - accuracy: 0.6678 - val_loss: 3.6474 - val_accuracy: 0.6014\n",
      "Epoch 2/20\n",
      "18/18 [==============================] - 1s 53ms/step - loss: 3.1469 - accuracy: 0.7241 - val_loss: 4.2475 - val_accuracy: 0.6084\n",
      "Epoch 3/20\n",
      "18/18 [==============================] - 1s 52ms/step - loss: 2.8790 - accuracy: 0.7311 - val_loss: 4.4188 - val_accuracy: 0.5874\n",
      "Epoch 4/20\n",
      "18/18 [==============================] - 1s 53ms/step - loss: 2.7397 - accuracy: 0.7241 - val_loss: 4.4127 - val_accuracy: 0.5594\n",
      "Epoch 5/20\n",
      "18/18 [==============================] - 1s 53ms/step - loss: 2.3980 - accuracy: 0.7540 - val_loss: 4.5279 - val_accuracy: 0.5524\n",
      "Epoch 6/20\n",
      "18/18 [==============================] - 1s 51ms/step - loss: 2.1300 - accuracy: 0.7821 - val_loss: 4.3874 - val_accuracy: 0.6014\n",
      "Epoch 7/20\n",
      "18/18 [==============================] - 1s 51ms/step - loss: 1.9305 - accuracy: 0.7856 - val_loss: 4.7124 - val_accuracy: 0.5734\n",
      "Epoch 8/20\n",
      "18/18 [==============================] - 1s 51ms/step - loss: 1.7883 - accuracy: 0.7979 - val_loss: 4.4519 - val_accuracy: 0.5874\n",
      "Epoch 9/20\n",
      "18/18 [==============================] - 1s 51ms/step - loss: 1.6844 - accuracy: 0.8295 - val_loss: 4.6002 - val_accuracy: 0.6014\n",
      "Epoch 10/20\n",
      "18/18 [==============================] - 1s 51ms/step - loss: 1.6033 - accuracy: 0.8383 - val_loss: 4.1598 - val_accuracy: 0.6154\n",
      "Epoch 11/20\n",
      "18/18 [==============================] - 1s 53ms/step - loss: 1.6012 - accuracy: 0.8506 - val_loss: 3.8763 - val_accuracy: 0.6014\n",
      "Epoch 12/20\n",
      "18/18 [==============================] - 1s 48ms/step - loss: 1.4542 - accuracy: 0.8612 - val_loss: 3.8279 - val_accuracy: 0.6154\n",
      "Epoch 13/20\n",
      "18/18 [==============================] - 1s 54ms/step - loss: 1.4099 - accuracy: 0.8946 - val_loss: 3.6253 - val_accuracy: 0.6294\n",
      "Epoch 14/20\n",
      "18/18 [==============================] - 1s 53ms/step - loss: 1.3727 - accuracy: 0.8840 - val_loss: 3.8272 - val_accuracy: 0.6154\n",
      "Epoch 15/20\n",
      "18/18 [==============================] - 1s 50ms/step - loss: 1.3647 - accuracy: 0.8770 - val_loss: 3.5109 - val_accuracy: 0.6503\n",
      "Epoch 16/20\n",
      "18/18 [==============================] - 1s 50ms/step - loss: 1.2518 - accuracy: 0.8998 - val_loss: 3.9117 - val_accuracy: 0.6434\n",
      "Epoch 17/20\n",
      "18/18 [==============================] - 1s 55ms/step - loss: 1.2365 - accuracy: 0.8981 - val_loss: 3.6742 - val_accuracy: 0.5804\n",
      "Epoch 18/20\n",
      "18/18 [==============================] - 1s 49ms/step - loss: 1.2017 - accuracy: 0.9174 - val_loss: 3.5140 - val_accuracy: 0.6224\n",
      "Epoch 19/20\n",
      "18/18 [==============================] - 1s 51ms/step - loss: 1.0763 - accuracy: 0.9209 - val_loss: 3.4858 - val_accuracy: 0.6503\n",
      "Epoch 20/20\n",
      "18/18 [==============================] - 1s 51ms/step - loss: 1.0475 - accuracy: 0.9279 - val_loss: 3.0784 - val_accuracy: 0.6364\n"
     ]
    }
   ],
   "source": [
    "rvl = model_output(rev,rev1)"
   ]
  },
  {
   "cell_type": "code",
   "execution_count": null,
   "metadata": {
    "id": "thFlXgjpzWuv"
   },
   "outputs": [],
   "source": [
    "from pandas.core.frame import DataFrame\n",
    "df_loss = {'Matthew':mat.history['loss'],'Mark':mak.history['loss'],'Luke':luk.history['loss'],'John':joh.history['loss'],\n",
    "           'Acts':act.history['loss'],'Romans':rom.history['loss'],'1Cor':fcr.history['loss'],'2Cor':scr.history['loss'],'Gal':glt.history['loss'],\n",
    "           'Eph':ept.history['loss'],'Phl':plp.history['loss'],'Col':cls.history['loss'],'1The':ftl.history['loss'],'2The':stl.history['loss'],\n",
    "           '1Tim':ftm.history['loss'],'2Tim':stm.history['loss'],'Titus':tus.history['loss'],'Phi':plm.history['loss'],'James':jam.history['loss'],\n",
    "           '1Peter':fpt.history['loss'],'2Peter':spt.history['loss'],'1John':fjn.history['loss'],'2John':sjn.history['loss'],'3John':tjn.history['loss'],\n",
    "           'Jude':jde.history['loss'],'Rev':rvl.history['loss']}\n",
    "tyn_loss = DataFrame(df_loss)\n",
    "\n",
    "df_val_loss = {'Matthew':mat.history['val_loss'],'Mark':mak.history['val_loss'],'Luke':luk.history['val_loss'],'John':joh.history['val_loss'],\n",
    "           'Acts':act.history['val_loss'],'Romans':rom.history['val_loss'],'1Cor':fcr.history['val_loss'],'2Cor':scr.history['val_loss'],'Gal':glt.history['val_loss'],\n",
    "           'Eph':ept.history['val_loss'],'Phl':plp.history['val_loss'],'Col':cls.history['val_loss'],'1The':ftl.history['val_loss'],'2The':stl.history['val_loss'],\n",
    "           '1Tim':ftm.history['val_loss'],'2Tim':stm.history['val_loss'],'Titus':tus.history['val_loss'],'Phi':plm.history['val_loss'],'James':jam.history['val_loss'],\n",
    "           '1Peter':fpt.history['val_loss'],'2Peter':spt.history['val_loss'],'1John':fjn.history['val_loss'],'2John':sjn.history['val_loss'],'3John':tjn.history['val_loss'],\n",
    "           'Jude':jde.history['val_loss'],'Rev':rvl.history['val_loss']}\n",
    "tyn_val_loss = DataFrame(df_val_loss)\n",
    "\n",
    "df_accuracy = {'Matthew':mat.history['accuracy'],'Mark':mak.history['accuracy'],'Luke':luk.history['accuracy'],'John':joh.history['accuracy'],\n",
    "           'Acts':act.history['accuracy'],'Romans':rom.history['accuracy'],'1Cor':fcr.history['accuracy'],'2Cor':scr.history['accuracy'],'Gal':glt.history['accuracy'],\n",
    "           'Eph':ept.history['accuracy'],'Phl':plp.history['accuracy'],'Col':cls.history['accuracy'],'1The':ftl.history['accuracy'],'2The':stl.history['accuracy'],\n",
    "           '1Tim':ftm.history['accuracy'],'2Tim':stm.history['accuracy'],'Titus':tus.history['accuracy'],'Phi':plm.history['accuracy'],'James':jam.history['accuracy'],\n",
    "           '1Peter':fpt.history['accuracy'],'2Peter':spt.history['accuracy'],'1John':fjn.history['accuracy'],'2John':sjn.history['accuracy'],'3John':tjn.history['accuracy'],\n",
    "           'Jude':jde.history['accuracy'],'Rev':rvl.history['accuracy']}\n",
    "tyn_accuracy = DataFrame(df_accuracy)\n",
    "\n",
    "df_val_accuracy = {'Matthew':mat.history['val_accuracy'],'Mark':mak.history['val_accuracy'],'Luke':luk.history['val_accuracy'],'John':joh.history['val_accuracy'],\n",
    "           'Acts':act.history['val_accuracy'],'Romans':rom.history['val_accuracy'],'1Cor':fcr.history['val_accuracy'],'2Cor':scr.history['val_accuracy'],'Gal':glt.history['val_accuracy'],\n",
    "           'Eph':ept.history['val_accuracy'],'Phl':plp.history['val_accuracy'],'Col':cls.history['val_accuracy'],'1The':ftl.history['val_accuracy'],'2The':stl.history['val_accuracy'],\n",
    "           '1Tim':ftm.history['val_accuracy'],'2Tim':stm.history['val_accuracy'],'Titus':tus.history['val_accuracy'],'Phi':plm.history['val_accuracy'],'James':jam.history['val_accuracy'],\n",
    "           '1Peter':fpt.history['val_accuracy'],'2Peter':spt.history['val_accuracy'],'1John':fjn.history['val_accuracy'],'2John':sjn.history['val_accuracy'],'3John':tjn.history['val_accuracy'],\n",
    "           'Jude':jde.history['val_accuracy'],'Rev':rvl.history['val_accuracy']}\n",
    "tyn_val_accuracy = DataFrame(df_val_accuracy)"
   ]
  },
  {
   "cell_type": "code",
   "execution_count": null,
   "metadata": {
    "id": "-WKoX24JzWuv"
   },
   "outputs": [],
   "source": [
    "tyn_loss.to_excel('spacy Tyndale LOSS.xlsx',encoding = 'utf-8', index = False)\n",
    "tyn_accuracy.to_excel('spacy Tyndale ACCURACY.xlsx',encoding = 'utf-8', index = False)  \n",
    "tyn_val_loss.to_excel('spacy Tyndale VALIDATION LOSS.xlsx',encoding = 'utf-8', index = False)  \n",
    "tyn_val_accuracy.to_excel('spacy Tyndale VALIDATION ACCURACY.xlsx',encoding = 'utf-8', index = False) "
   ]
  },
  {
   "cell_type": "code",
   "execution_count": null,
   "metadata": {
    "colab": {
     "base_uri": "https://localhost:8080/",
     "height": 445
    },
    "id": "t1X4xAbkzWuv",
    "outputId": "b8898a0c-0767-4dfc-8cff-7888492cbbbf"
   },
   "outputs": [
    {
     "data": {
      "image/png": "[encoded data removed]",
      "text/plain": [
       "<Figure size 432x288 with 1 Axes>"
      ]
     },
     "metadata": {
      "needs_background": "light",
      "tags": []
     },
     "output_type": "display_data"
    }
   ],
   "source": [
    "import matplotlib.pyplot as plt\n",
    "\n",
    "matvac = mat.history['val_accuracy']\n",
    "makvac = mak.history['val_accuracy']\n",
    "lukvac = luk.history['val_accuracy']\n",
    "johvac = joh.history['val_accuracy']\n",
    "actvac = act.history['val_accuracy']\n",
    "romvac = rom.history['val_accuracy']\n",
    "fcrvac = fcr.history['val_accuracy']\n",
    "scrvac = scr.history['val_accuracy']\n",
    "gltvac = glt.history['val_accuracy']\n",
    "eptvac = ept.history['val_accuracy']\n",
    "plpvac = plp.history['val_accuracy']\n",
    "clsvac = cls.history['val_accuracy']\n",
    "ftlvac = ftl.history['val_accuracy']\n",
    "stlvac = stl.history['val_accuracy']\n",
    "ftmvac = ftm.history['val_accuracy']\n",
    "stmvac = stm.history['val_accuracy']\n",
    "tusvac = tus.history['val_accuracy']\n",
    "plmvac = plm.history['val_accuracy']\n",
    "jamvac = jam.history['val_accuracy']\n",
    "fptvac = fpt.history['val_accuracy']\n",
    "sptvac = spt.history['val_accuracy']\n",
    "fjnvac = fjn.history['val_accuracy']\n",
    "sjnvac = sjn.history['val_accuracy']\n",
    "tjnvac = tjn.history['val_accuracy']\n",
    "jdevac = jde.history['val_accuracy']\n",
    "rvlvac = rvl.history['val_accuracy']\n",
    "\n",
    "epochs = range(1, len(matvac) + 1)\n",
    "\n",
    "plt.plot(epochs, matvac, 'b', label='matthew')\n",
    "plt.plot(epochs, makvac, 'r', label='mark')\n",
    "plt.plot(epochs, lukvac, 'y', label='luke')\n",
    "plt.plot(epochs, johvac, 'brown', label='john')\n",
    "plt.plot(epochs, actvac, 'coral', label='acts')\n",
    "plt.plot(epochs, romvac, 'darkgray', label='romans')\n",
    "plt.plot(epochs, fcrvac, 'deeppink', label='1Cor')\n",
    "plt.plot(epochs, scrvac, 'gold', label='2Cor')\n",
    "plt.plot(epochs, gltvac, 'green', label='Gal')\n",
    "plt.plot(epochs, eptvac, 'lightblue', label='Eph')\n",
    "plt.plot(epochs, plpvac, 'lightcoral', label='Phl')\n",
    "plt.plot(epochs, clsvac, 'lightgreen', label='Col')\n",
    "plt.plot(epochs, ftlvac, 'lightskyblue', label='1The')\n",
    "plt.plot(epochs, stlvac, 'navy', label='2The')\n",
    "plt.plot(epochs, ftmvac, 'skyblue', label='1Tim')\n",
    "plt.plot(epochs, stmvac, 'yellowgreen', label='2Tim')\n",
    "plt.plot(epochs, tusvac, 'peru', label='Titus')\n",
    "plt.plot(epochs, plmvac, 'orange', label='Phi')\n",
    "plt.plot(epochs, jamvac, 'purple', label='James')\n",
    "plt.plot(epochs, fptvac, 'orchid', label='1Peter')\n",
    "plt.plot(epochs, sptvac, 'ivory', label='2Peter')\n",
    "plt.plot(epochs, fjnvac, 'firebrick', label='1John')\n",
    "plt.plot(epochs, sjnvac, 'lightcyan', label='2John')\n",
    "plt.plot(epochs, tjnvac, 'violet', label='3John')\n",
    "plt.plot(epochs, jdevac, 'darkmagenta', label='Jude')\n",
    "plt.plot(epochs, rvlvac, 'magenta', label='Rev')\n",
    "plt.title('tyndale writing style validation accuracy')\n",
    "plt.xlabel('Epochs')\n",
    "plt.ylabel('Loss')\n",
    "plt.legend()\n",
    "\n",
    "plt.show()"
   ]
  },
  {
   "cell_type": "code",
   "execution_count": null,
   "metadata": {
    "id": "UDKmyYR4zWuv"
   },
   "outputs": [],
   "source": [
    "mat_s1 = cosine_text(Matthew)\n",
    "mark_s1 = cosine_text(Mark)\n",
    "luke_s1 = cosine_text(Luke_Book)\n",
    "jam_s1 = cosine_text(James)\n",
    "pet_s1 = cosine_text(Peter_letter)\n",
    "john_s1 = cosine_text(John_Book.dropna())\n",
    "jude_s1 = cosine_text(Jude)\n",
    "pl_s1 = cosine_text(Paul_letters)"
   ]
  },
  {
   "cell_type": "code",
   "execution_count": null,
   "metadata": {
    "id": "05soi136zWuw"
   },
   "outputs": [],
   "source": [
    "mat_s11 = text_author(Matthew)\n",
    "mark_s11 = text_author(Mark)\n",
    "luke_s11 = text_author(Luke_Book)\n",
    "jam_s11 = text_author(James)\n",
    "pet_s11 = text_author(Peter_letter)\n",
    "john_s11 = text_author(John_Book.dropna())\n",
    "jude_s11 = text_author(Jude)\n",
    "pl_s11 = text_author(Paul_letters)"
   ]
  },
  {
   "cell_type": "code",
   "execution_count": null,
   "metadata": {
    "colab": {
     "base_uri": "https://localhost:8080/"
    },
    "id": "VngmM77azWuw",
    "outputId": "5cbdc597-a9a4-450e-afb8-da78850ec2c6"
   },
   "outputs": [
    {
     "name": "stdout",
     "output_type": "stream",
     "text": [
      "Epoch 1/20\n",
      "35/35 [==============================] - 3s 93ms/step - loss: 2.8803 - accuracy: 0.6975 - val_loss: 2.0307 - val_accuracy: 0.7645\n",
      "Epoch 2/20\n",
      "35/35 [==============================] - 2s 51ms/step - loss: 1.9711 - accuracy: 0.7880 - val_loss: 2.1008 - val_accuracy: 0.7681\n",
      "Epoch 3/20\n",
      "35/35 [==============================] - 2s 51ms/step - loss: 1.8253 - accuracy: 0.8062 - val_loss: 2.0139 - val_accuracy: 0.7645\n",
      "Epoch 4/20\n",
      "35/35 [==============================] - 2s 52ms/step - loss: 1.5059 - accuracy: 0.8252 - val_loss: 2.4443 - val_accuracy: 0.7645\n",
      "Epoch 5/20\n",
      "35/35 [==============================] - 2s 51ms/step - loss: 1.3695 - accuracy: 0.8514 - val_loss: 2.1936 - val_accuracy: 0.7790\n",
      "Epoch 6/20\n",
      "35/35 [==============================] - 2s 51ms/step - loss: 1.1927 - accuracy: 0.8705 - val_loss: 1.8976 - val_accuracy: 0.7754\n",
      "Epoch 7/20\n",
      "35/35 [==============================] - 2s 54ms/step - loss: 1.1420 - accuracy: 0.9022 - val_loss: 1.5734 - val_accuracy: 0.7717\n",
      "Epoch 8/20\n",
      "35/35 [==============================] - 2s 51ms/step - loss: 1.0706 - accuracy: 0.8995 - val_loss: 1.8052 - val_accuracy: 0.7681\n",
      "Epoch 9/20\n",
      "35/35 [==============================] - 2s 51ms/step - loss: 1.0121 - accuracy: 0.9085 - val_loss: 2.0232 - val_accuracy: 0.7609\n",
      "Epoch 10/20\n",
      "35/35 [==============================] - 2s 52ms/step - loss: 0.9733 - accuracy: 0.9239 - val_loss: 1.7846 - val_accuracy: 0.7862\n",
      "Epoch 11/20\n",
      "35/35 [==============================] - 2s 50ms/step - loss: 0.9153 - accuracy: 0.9248 - val_loss: 1.7465 - val_accuracy: 0.8116\n",
      "Epoch 12/20\n",
      "35/35 [==============================] - 2s 53ms/step - loss: 0.8251 - accuracy: 0.9321 - val_loss: 1.7625 - val_accuracy: 0.7754\n",
      "Epoch 13/20\n",
      "35/35 [==============================] - 2s 52ms/step - loss: 0.7959 - accuracy: 0.9393 - val_loss: 1.7719 - val_accuracy: 0.7754\n",
      "Epoch 14/20\n",
      "35/35 [==============================] - 2s 51ms/step - loss: 0.7702 - accuracy: 0.9411 - val_loss: 2.1163 - val_accuracy: 0.7681\n",
      "Epoch 15/20\n",
      "35/35 [==============================] - 2s 51ms/step - loss: 0.7499 - accuracy: 0.9457 - val_loss: 1.8829 - val_accuracy: 0.7790\n",
      "Epoch 16/20\n",
      "35/35 [==============================] - 2s 51ms/step - loss: 0.7367 - accuracy: 0.9466 - val_loss: 1.8901 - val_accuracy: 0.8007\n",
      "Epoch 17/20\n",
      "35/35 [==============================] - 2s 51ms/step - loss: 0.7181 - accuracy: 0.9502 - val_loss: 1.9339 - val_accuracy: 0.7572\n",
      "Epoch 18/20\n",
      "35/35 [==============================] - 2s 51ms/step - loss: 0.7780 - accuracy: 0.9429 - val_loss: 2.3057 - val_accuracy: 0.7645\n",
      "Epoch 19/20\n",
      "35/35 [==============================] - 2s 52ms/step - loss: 0.6898 - accuracy: 0.9511 - val_loss: 1.8275 - val_accuracy: 0.7717\n",
      "Epoch 20/20\n",
      "35/35 [==============================] - 2s 52ms/step - loss: 0.6707 - accuracy: 0.9547 - val_loss: 1.8668 - val_accuracy: 0.8080\n"
     ]
    }
   ],
   "source": [
    "matthewbook = model_output(mat_s1,mat_s11)"
   ]
  },
  {
   "cell_type": "code",
   "execution_count": null,
   "metadata": {
    "colab": {
     "base_uri": "https://localhost:8080/"
    },
    "id": "QlhCTEWOzWuw",
    "outputId": "33a2e8e6-d316-45c2-a941-7270cc82650e"
   },
   "outputs": [
    {
     "name": "stdout",
     "output_type": "stream",
     "text": [
      "Epoch 1/20\n",
      "25/25 [==============================] - 3s 108ms/step - loss: 2.7175 - accuracy: 0.7350 - val_loss: 2.9551 - val_accuracy: 0.7310\n",
      "Epoch 2/20\n",
      "25/25 [==============================] - 1s 51ms/step - loss: 2.2971 - accuracy: 0.7834 - val_loss: 2.9431 - val_accuracy: 0.7208\n",
      "Epoch 3/20\n",
      "25/25 [==============================] - 1s 50ms/step - loss: 2.0679 - accuracy: 0.7885 - val_loss: 2.9799 - val_accuracy: 0.7360\n",
      "Epoch 4/20\n",
      "25/25 [==============================] - 1s 50ms/step - loss: 1.9821 - accuracy: 0.8242 - val_loss: 2.8285 - val_accuracy: 0.7259\n",
      "Epoch 5/20\n",
      "25/25 [==============================] - 1s 50ms/step - loss: 1.8142 - accuracy: 0.8331 - val_loss: 2.8323 - val_accuracy: 0.7310\n",
      "Epoch 6/20\n",
      "25/25 [==============================] - 1s 51ms/step - loss: 1.7291 - accuracy: 0.8459 - val_loss: 2.7854 - val_accuracy: 0.7259\n",
      "Epoch 7/20\n",
      "25/25 [==============================] - 1s 48ms/step - loss: 1.6179 - accuracy: 0.8535 - val_loss: 3.0353 - val_accuracy: 0.6650\n",
      "Epoch 8/20\n",
      "25/25 [==============================] - 1s 55ms/step - loss: 1.4652 - accuracy: 0.8497 - val_loss: 2.6778 - val_accuracy: 0.7208\n",
      "Epoch 9/20\n",
      "25/25 [==============================] - 1s 50ms/step - loss: 1.3334 - accuracy: 0.8828 - val_loss: 2.9885 - val_accuracy: 0.7107\n",
      "Epoch 10/20\n",
      "25/25 [==============================] - 1s 51ms/step - loss: 1.3123 - accuracy: 0.8777 - val_loss: 2.7438 - val_accuracy: 0.6853\n",
      "Epoch 11/20\n",
      "25/25 [==============================] - 1s 51ms/step - loss: 1.2393 - accuracy: 0.8892 - val_loss: 2.9113 - val_accuracy: 0.7259\n",
      "Epoch 12/20\n",
      "25/25 [==============================] - 1s 51ms/step - loss: 1.0709 - accuracy: 0.9134 - val_loss: 2.7079 - val_accuracy: 0.7157\n",
      "Epoch 13/20\n",
      "25/25 [==============================] - 1s 52ms/step - loss: 0.9959 - accuracy: 0.9261 - val_loss: 2.7883 - val_accuracy: 0.6954\n",
      "Epoch 14/20\n",
      "25/25 [==============================] - 1s 50ms/step - loss: 0.9650 - accuracy: 0.9185 - val_loss: 2.7285 - val_accuracy: 0.7259\n",
      "Epoch 15/20\n",
      "25/25 [==============================] - 1s 51ms/step - loss: 0.9043 - accuracy: 0.9223 - val_loss: 2.6569 - val_accuracy: 0.7208\n",
      "Epoch 16/20\n",
      "25/25 [==============================] - 1s 50ms/step - loss: 0.8372 - accuracy: 0.9414 - val_loss: 2.8891 - val_accuracy: 0.7005\n",
      "Epoch 17/20\n",
      "25/25 [==============================] - 1s 51ms/step - loss: 0.8339 - accuracy: 0.9427 - val_loss: 2.6687 - val_accuracy: 0.7208\n",
      "Epoch 18/20\n",
      "25/25 [==============================] - 1s 51ms/step - loss: 0.8397 - accuracy: 0.9389 - val_loss: 3.1570 - val_accuracy: 0.7208\n",
      "Epoch 19/20\n",
      "25/25 [==============================] - 1s 52ms/step - loss: 0.7982 - accuracy: 0.9414 - val_loss: 3.0142 - val_accuracy: 0.6701\n",
      "Epoch 20/20\n",
      "25/25 [==============================] - 1s 50ms/step - loss: 0.8137 - accuracy: 0.9427 - val_loss: 2.8476 - val_accuracy: 0.6802\n"
     ]
    }
   ],
   "source": [
    "markbook = model_output(mark_s1,mark_s11)"
   ]
  },
  {
   "cell_type": "code",
   "execution_count": null,
   "metadata": {
    "colab": {
     "base_uri": "https://localhost:8080/"
    },
    "id": "eEGoNaLazWuw",
    "outputId": "5d0b9cc4-e2ba-4af0-e5a9-2ad17b4f7c2f"
   },
   "outputs": [
    {
     "name": "stdout",
     "output_type": "stream",
     "text": [
      "Epoch 1/20\n",
      "37/37 [==============================] - 5s 128ms/step - loss: 2.2029 - accuracy: 0.7774 - val_loss: 2.0602 - val_accuracy: 0.8048\n",
      "Epoch 2/20\n",
      "37/37 [==============================] - 2s 51ms/step - loss: 1.9405 - accuracy: 0.8339 - val_loss: 2.1580 - val_accuracy: 0.8014\n",
      "Epoch 3/20\n",
      "37/37 [==============================] - 2s 51ms/step - loss: 1.8322 - accuracy: 0.8373 - val_loss: 1.9166 - val_accuracy: 0.8116\n",
      "Epoch 4/20\n",
      "37/37 [==============================] - 2s 51ms/step - loss: 1.7639 - accuracy: 0.8142 - val_loss: 2.0173 - val_accuracy: 0.7979\n",
      "Epoch 5/20\n",
      "37/37 [==============================] - 2s 52ms/step - loss: 1.4127 - accuracy: 0.8493 - val_loss: 1.8831 - val_accuracy: 0.8082\n",
      "Epoch 6/20\n",
      "37/37 [==============================] - 2s 52ms/step - loss: 1.3096 - accuracy: 0.8801 - val_loss: 1.6951 - val_accuracy: 0.8151\n",
      "Epoch 7/20\n",
      "37/37 [==============================] - 2s 53ms/step - loss: 1.2178 - accuracy: 0.8878 - val_loss: 1.6318 - val_accuracy: 0.8356\n",
      "Epoch 8/20\n",
      "37/37 [==============================] - 2s 55ms/step - loss: 1.1006 - accuracy: 0.8930 - val_loss: 1.8493 - val_accuracy: 0.7877\n",
      "Epoch 9/20\n",
      "37/37 [==============================] - 2s 54ms/step - loss: 1.1298 - accuracy: 0.8861 - val_loss: 1.5570 - val_accuracy: 0.8219\n",
      "Epoch 10/20\n",
      "37/37 [==============================] - 2s 52ms/step - loss: 0.9707 - accuracy: 0.9212 - val_loss: 1.6636 - val_accuracy: 0.7979\n",
      "Epoch 11/20\n",
      "37/37 [==============================] - 2s 52ms/step - loss: 0.9756 - accuracy: 0.9255 - val_loss: 1.8630 - val_accuracy: 0.8116\n",
      "Epoch 12/20\n",
      "37/37 [==============================] - 2s 52ms/step - loss: 0.9176 - accuracy: 0.9332 - val_loss: 1.7010 - val_accuracy: 0.8116\n",
      "Epoch 13/20\n",
      "37/37 [==============================] - 2s 52ms/step - loss: 0.9006 - accuracy: 0.9358 - val_loss: 1.5720 - val_accuracy: 0.8116\n",
      "Epoch 14/20\n",
      "37/37 [==============================] - 2s 52ms/step - loss: 0.8701 - accuracy: 0.9392 - val_loss: 1.8985 - val_accuracy: 0.7945\n",
      "Epoch 15/20\n",
      "37/37 [==============================] - 2s 54ms/step - loss: 0.8198 - accuracy: 0.9358 - val_loss: 2.0087 - val_accuracy: 0.8116\n",
      "Epoch 16/20\n",
      "37/37 [==============================] - 2s 52ms/step - loss: 0.7932 - accuracy: 0.9409 - val_loss: 1.8668 - val_accuracy: 0.8082\n",
      "Epoch 17/20\n",
      "37/37 [==============================] - 2s 50ms/step - loss: 0.7961 - accuracy: 0.9409 - val_loss: 1.7594 - val_accuracy: 0.7945\n",
      "Epoch 18/20\n",
      "37/37 [==============================] - 2s 52ms/step - loss: 0.7722 - accuracy: 0.9461 - val_loss: 1.8676 - val_accuracy: 0.8116\n",
      "Epoch 19/20\n",
      "37/37 [==============================] - 2s 54ms/step - loss: 0.7370 - accuracy: 0.9503 - val_loss: 1.8950 - val_accuracy: 0.8048\n",
      "Epoch 20/20\n",
      "37/37 [==============================] - 2s 53ms/step - loss: 0.7275 - accuracy: 0.9512 - val_loss: 1.5902 - val_accuracy: 0.8082\n"
     ]
    }
   ],
   "source": [
    "lukebook = model_output(luke_s1,luke_s11)"
   ]
  },
  {
   "cell_type": "code",
   "execution_count": null,
   "metadata": {
    "colab": {
     "base_uri": "https://localhost:8080/"
    },
    "id": "5w3Rurb5zWuw",
    "outputId": "fe0a0852-33a7-4b83-dece-bdcd3e13c9e3"
   },
   "outputs": [
    {
     "name": "stdout",
     "output_type": "stream",
     "text": [
      "Epoch 1/20\n",
      "8/8 [==============================] - 2s 226ms/step - loss: 1.6055 - accuracy: 0.8519 - val_loss: 0.5334 - val_accuracy: 0.9508\n",
      "Epoch 2/20\n",
      "8/8 [==============================] - 0s 46ms/step - loss: 0.5900 - accuracy: 0.9424 - val_loss: 0.3049 - val_accuracy: 0.9508\n",
      "Epoch 3/20\n",
      "8/8 [==============================] - 0s 50ms/step - loss: 0.5648 - accuracy: 0.9630 - val_loss: 0.3049 - val_accuracy: 0.9508\n",
      "Epoch 4/20\n",
      "8/8 [==============================] - 0s 50ms/step - loss: 0.5648 - accuracy: 0.9630 - val_loss: 0.3049 - val_accuracy: 0.9508\n",
      "Epoch 5/20\n",
      "8/8 [==============================] - 0s 48ms/step - loss: 0.5648 - accuracy: 0.9630 - val_loss: 0.3049 - val_accuracy: 0.9508\n",
      "Epoch 6/20\n",
      "8/8 [==============================] - 0s 52ms/step - loss: 0.5648 - accuracy: 0.9630 - val_loss: 0.3049 - val_accuracy: 0.9508\n",
      "Epoch 7/20\n",
      "8/8 [==============================] - 0s 47ms/step - loss: 0.5648 - accuracy: 0.9630 - val_loss: 0.3049 - val_accuracy: 0.9508\n",
      "Epoch 8/20\n",
      "8/8 [==============================] - 0s 47ms/step - loss: 0.5648 - accuracy: 0.9630 - val_loss: 0.3049 - val_accuracy: 0.9508\n",
      "Epoch 9/20\n",
      "8/8 [==============================] - 0s 47ms/step - loss: 0.5648 - accuracy: 0.9630 - val_loss: 0.3049 - val_accuracy: 0.9508\n",
      "Epoch 10/20\n",
      "8/8 [==============================] - 0s 47ms/step - loss: 0.5648 - accuracy: 0.9630 - val_loss: 0.3049 - val_accuracy: 0.9508\n",
      "Epoch 11/20\n",
      "8/8 [==============================] - 0s 49ms/step - loss: 0.5648 - accuracy: 0.9630 - val_loss: 0.3049 - val_accuracy: 0.9508\n",
      "Epoch 12/20\n",
      "8/8 [==============================] - 0s 47ms/step - loss: 0.5648 - accuracy: 0.9630 - val_loss: 0.3049 - val_accuracy: 0.9508\n",
      "Epoch 13/20\n",
      "8/8 [==============================] - 0s 48ms/step - loss: 0.5648 - accuracy: 0.9630 - val_loss: 0.3049 - val_accuracy: 0.9508\n",
      "Epoch 14/20\n",
      "8/8 [==============================] - 0s 46ms/step - loss: 0.5648 - accuracy: 0.9630 - val_loss: 0.3049 - val_accuracy: 0.9508\n",
      "Epoch 15/20\n",
      "8/8 [==============================] - 0s 47ms/step - loss: 0.5648 - accuracy: 0.9630 - val_loss: 0.3049 - val_accuracy: 0.9508\n",
      "Epoch 16/20\n",
      "8/8 [==============================] - 0s 48ms/step - loss: 0.5648 - accuracy: 0.9630 - val_loss: 0.3049 - val_accuracy: 0.9508\n",
      "Epoch 17/20\n",
      "8/8 [==============================] - 0s 47ms/step - loss: 0.5648 - accuracy: 0.9630 - val_loss: 0.3049 - val_accuracy: 0.9508\n",
      "Epoch 18/20\n",
      "8/8 [==============================] - 0s 49ms/step - loss: 0.5648 - accuracy: 0.9630 - val_loss: 0.3049 - val_accuracy: 0.9508\n",
      "Epoch 19/20\n",
      "8/8 [==============================] - 0s 49ms/step - loss: 0.5648 - accuracy: 0.9630 - val_loss: 0.3049 - val_accuracy: 0.9508\n",
      "Epoch 20/20\n",
      "8/8 [==============================] - 0s 50ms/step - loss: 0.5648 - accuracy: 0.9630 - val_loss: 0.3049 - val_accuracy: 0.9508\n"
     ]
    }
   ],
   "source": [
    "jams = model_output(jam_s1,jam_s11)"
   ]
  },
  {
   "cell_type": "code",
   "execution_count": null,
   "metadata": {
    "colab": {
     "base_uri": "https://localhost:8080/"
    },
    "id": "IAm0YmWXzWuw",
    "outputId": "8054e6fe-26d3-4be4-f38b-408f7423f1a8"
   },
   "outputs": [
    {
     "name": "stdout",
     "output_type": "stream",
     "text": [
      "Epoch 1/20\n",
      "12/12 [==============================] - 2s 173ms/step - loss: 2.2090 - accuracy: 0.7793 - val_loss: 1.8382 - val_accuracy: 0.8632\n",
      "Epoch 2/20\n",
      "12/12 [==============================] - 1s 51ms/step - loss: 1.6907 - accuracy: 0.8537 - val_loss: 1.4431 - val_accuracy: 0.8105\n",
      "Epoch 3/20\n",
      "12/12 [==============================] - 1s 49ms/step - loss: 1.5300 - accuracy: 0.8457 - val_loss: 1.0431 - val_accuracy: 0.8211\n",
      "Epoch 4/20\n",
      "12/12 [==============================] - 1s 49ms/step - loss: 1.3582 - accuracy: 0.8936 - val_loss: 1.1428 - val_accuracy: 0.8421\n",
      "Epoch 5/20\n",
      "12/12 [==============================] - 1s 49ms/step - loss: 1.2743 - accuracy: 0.9043 - val_loss: 1.4295 - val_accuracy: 0.8316\n",
      "Epoch 6/20\n",
      "12/12 [==============================] - 1s 50ms/step - loss: 1.1510 - accuracy: 0.9096 - val_loss: 1.1663 - val_accuracy: 0.8316\n",
      "Epoch 7/20\n",
      "12/12 [==============================] - 1s 50ms/step - loss: 1.0478 - accuracy: 0.9255 - val_loss: 1.7561 - val_accuracy: 0.8316\n",
      "Epoch 8/20\n",
      "12/12 [==============================] - 1s 48ms/step - loss: 0.9858 - accuracy: 0.9202 - val_loss: 1.4864 - val_accuracy: 0.8526\n",
      "Epoch 9/20\n",
      "12/12 [==============================] - 1s 49ms/step - loss: 0.9535 - accuracy: 0.9309 - val_loss: 1.3608 - val_accuracy: 0.8421\n",
      "Epoch 10/20\n",
      "12/12 [==============================] - 1s 49ms/step - loss: 0.9167 - accuracy: 0.9335 - val_loss: 1.3723 - val_accuracy: 0.8105\n",
      "Epoch 11/20\n",
      "12/12 [==============================] - 1s 51ms/step - loss: 0.8739 - accuracy: 0.9362 - val_loss: 1.1558 - val_accuracy: 0.8211\n",
      "Epoch 12/20\n",
      "12/12 [==============================] - 1s 52ms/step - loss: 0.8558 - accuracy: 0.9441 - val_loss: 1.1542 - val_accuracy: 0.8421\n",
      "Epoch 13/20\n",
      "12/12 [==============================] - 1s 53ms/step - loss: 0.9040 - accuracy: 0.9202 - val_loss: 1.4051 - val_accuracy: 0.8526\n",
      "Epoch 14/20\n",
      "12/12 [==============================] - 1s 50ms/step - loss: 0.8609 - accuracy: 0.9415 - val_loss: 1.5474 - val_accuracy: 0.8421\n",
      "Epoch 15/20\n",
      "12/12 [==============================] - 1s 49ms/step - loss: 0.8560 - accuracy: 0.9441 - val_loss: 1.5491 - val_accuracy: 0.8632\n",
      "Epoch 16/20\n",
      "12/12 [==============================] - 1s 52ms/step - loss: 0.8560 - accuracy: 0.9441 - val_loss: 1.4367 - val_accuracy: 0.8421\n",
      "Epoch 17/20\n",
      "12/12 [==============================] - 1s 48ms/step - loss: 0.8563 - accuracy: 0.9441 - val_loss: 1.0712 - val_accuracy: 0.8421\n",
      "Epoch 18/20\n",
      "12/12 [==============================] - 1s 51ms/step - loss: 0.8590 - accuracy: 0.9441 - val_loss: 1.4125 - val_accuracy: 0.8632\n",
      "Epoch 19/20\n",
      "12/12 [==============================] - 1s 50ms/step - loss: 0.8958 - accuracy: 0.9309 - val_loss: 1.2635 - val_accuracy: 0.8421\n",
      "Epoch 20/20\n",
      "12/12 [==============================] - 1s 51ms/step - loss: 0.7816 - accuracy: 0.9441 - val_loss: 1.4205 - val_accuracy: 0.8526\n"
     ]
    }
   ],
   "source": [
    "peter = model_output(pet_s1,pet_s11)"
   ]
  },
  {
   "cell_type": "code",
   "execution_count": null,
   "metadata": {
    "colab": {
     "base_uri": "https://localhost:8080/"
    },
    "id": "V2Bs_G9HzWuw",
    "outputId": "244bfd5e-66ae-4aa7-a370-59354695058e"
   },
   "outputs": [
    {
     "name": "stdout",
     "output_type": "stream",
     "text": [
      "Epoch 1/20\n",
      "44/44 [==============================] - 4s 84ms/step - loss: 1.5948 - accuracy: 0.8138 - val_loss: 1.6423 - val_accuracy: 0.8377\n",
      "Epoch 2/20\n",
      "44/44 [==============================] - 2s 51ms/step - loss: 1.2288 - accuracy: 0.8674 - val_loss: 1.6547 - val_accuracy: 0.8464\n",
      "Epoch 3/20\n",
      "44/44 [==============================] - 2s 51ms/step - loss: 1.1248 - accuracy: 0.8783 - val_loss: 1.6091 - val_accuracy: 0.8203\n",
      "Epoch 4/20\n",
      "44/44 [==============================] - 2s 51ms/step - loss: 0.9766 - accuracy: 0.8993 - val_loss: 1.4839 - val_accuracy: 0.8493\n",
      "Epoch 5/20\n",
      "44/44 [==============================] - 2s 51ms/step - loss: 0.8951 - accuracy: 0.8993 - val_loss: 1.6271 - val_accuracy: 0.8435\n",
      "Epoch 6/20\n",
      "44/44 [==============================] - 2s 50ms/step - loss: 0.7860 - accuracy: 0.9087 - val_loss: 1.4917 - val_accuracy: 0.8145\n",
      "Epoch 7/20\n",
      "44/44 [==============================] - 2s 52ms/step - loss: 0.6633 - accuracy: 0.9333 - val_loss: 1.4111 - val_accuracy: 0.8319\n",
      "Epoch 8/20\n",
      "44/44 [==============================] - 2s 53ms/step - loss: 0.6622 - accuracy: 0.9362 - val_loss: 1.4284 - val_accuracy: 0.8319\n",
      "Epoch 9/20\n",
      "44/44 [==============================] - 2s 52ms/step - loss: 0.5953 - accuracy: 0.9507 - val_loss: 1.6248 - val_accuracy: 0.8464\n",
      "Epoch 10/20\n",
      "44/44 [==============================] - 2s 53ms/step - loss: 0.5638 - accuracy: 0.9558 - val_loss: 1.6274 - val_accuracy: 0.8406\n",
      "Epoch 11/20\n",
      "44/44 [==============================] - 2s 51ms/step - loss: 0.5116 - accuracy: 0.9565 - val_loss: 1.8075 - val_accuracy: 0.8377\n",
      "Epoch 12/20\n",
      "44/44 [==============================] - 2s 51ms/step - loss: 0.4715 - accuracy: 0.9645 - val_loss: 1.5769 - val_accuracy: 0.8406\n",
      "Epoch 13/20\n",
      "44/44 [==============================] - 2s 53ms/step - loss: 0.4608 - accuracy: 0.9645 - val_loss: 1.7111 - val_accuracy: 0.8319\n",
      "Epoch 14/20\n",
      "44/44 [==============================] - 2s 52ms/step - loss: 0.4416 - accuracy: 0.9696 - val_loss: 1.7006 - val_accuracy: 0.8290\n",
      "Epoch 15/20\n",
      "44/44 [==============================] - 2s 52ms/step - loss: 0.4411 - accuracy: 0.9688 - val_loss: 1.8186 - val_accuracy: 0.8232\n",
      "Epoch 16/20\n",
      "44/44 [==============================] - 2s 52ms/step - loss: 0.4473 - accuracy: 0.9652 - val_loss: 1.8515 - val_accuracy: 0.8203\n",
      "Epoch 17/20\n",
      "44/44 [==============================] - 2s 54ms/step - loss: 0.4401 - accuracy: 0.9674 - val_loss: 1.8759 - val_accuracy: 0.8290\n",
      "Epoch 18/20\n",
      "44/44 [==============================] - 2s 52ms/step - loss: 0.4379 - accuracy: 0.9703 - val_loss: 2.0232 - val_accuracy: 0.8116\n",
      "Epoch 19/20\n",
      "44/44 [==============================] - 2s 51ms/step - loss: 0.4254 - accuracy: 0.9725 - val_loss: 2.1872 - val_accuracy: 0.8029\n",
      "Epoch 20/20\n",
      "44/44 [==============================] - 2s 52ms/step - loss: 0.4141 - accuracy: 0.9725 - val_loss: 2.1644 - val_accuracy: 0.8087\n"
     ]
    }
   ],
   "source": [
    "johnbook = model_output(john_s1,john_s11)"
   ]
  },
  {
   "cell_type": "code",
   "execution_count": null,
   "metadata": {
    "colab": {
     "base_uri": "https://localhost:8080/"
    },
    "id": "8U4ZdhkMzWuw",
    "outputId": "e358b57f-6478-4a8b-e38c-bc9f852221ea"
   },
   "outputs": [
    {
     "name": "stdout",
     "output_type": "stream",
     "text": [
      "Epoch 1/20\n",
      "9/9 [==============================] - 2s 214ms/step - loss: 2.1323 - accuracy: 0.7909 - val_loss: 2.4050 - val_accuracy: 0.7879\n",
      "Epoch 2/20\n",
      "9/9 [==============================] - 0s 51ms/step - loss: 1.8110 - accuracy: 0.8821 - val_loss: 2.4024 - val_accuracy: 0.7879\n",
      "Epoch 3/20\n",
      "9/9 [==============================] - 0s 47ms/step - loss: 1.8049 - accuracy: 0.8821 - val_loss: 2.4070 - val_accuracy: 0.7879\n",
      "Epoch 4/20\n",
      "9/9 [==============================] - 0s 48ms/step - loss: 1.7551 - accuracy: 0.8821 - val_loss: 2.1987 - val_accuracy: 0.8182\n",
      "Epoch 5/20\n",
      "9/9 [==============================] - 0s 50ms/step - loss: 1.6570 - accuracy: 0.8821 - val_loss: 2.4159 - val_accuracy: 0.8182\n",
      "Epoch 6/20\n",
      "9/9 [==============================] - 0s 48ms/step - loss: 1.2329 - accuracy: 0.8973 - val_loss: 2.1947 - val_accuracy: 0.8333\n",
      "Epoch 7/20\n",
      "9/9 [==============================] - 0s 47ms/step - loss: 1.0091 - accuracy: 0.9240 - val_loss: 2.1755 - val_accuracy: 0.8485\n",
      "Epoch 8/20\n",
      "9/9 [==============================] - 0s 52ms/step - loss: 1.0001 - accuracy: 0.9278 - val_loss: 2.1634 - val_accuracy: 0.8485\n",
      "Epoch 9/20\n",
      "9/9 [==============================] - 0s 47ms/step - loss: 0.9950 - accuracy: 0.9354 - val_loss: 2.1581 - val_accuracy: 0.8485\n",
      "Epoch 10/20\n",
      "9/9 [==============================] - 0s 47ms/step - loss: 0.9914 - accuracy: 0.9354 - val_loss: 2.1547 - val_accuracy: 0.8485\n",
      "Epoch 11/20\n",
      "9/9 [==============================] - 0s 46ms/step - loss: 0.9387 - accuracy: 0.9354 - val_loss: 2.1528 - val_accuracy: 0.8485\n",
      "Epoch 12/20\n",
      "9/9 [==============================] - 0s 46ms/step - loss: 0.8841 - accuracy: 0.9392 - val_loss: 2.1389 - val_accuracy: 0.8485\n",
      "Epoch 13/20\n",
      "9/9 [==============================] - 0s 49ms/step - loss: 0.8717 - accuracy: 0.9430 - val_loss: 1.9448 - val_accuracy: 0.8485\n",
      "Epoch 14/20\n",
      "9/9 [==============================] - 0s 48ms/step - loss: 0.8706 - accuracy: 0.9430 - val_loss: 2.1276 - val_accuracy: 0.8485\n",
      "Epoch 15/20\n",
      "9/9 [==============================] - 0s 49ms/step - loss: 0.8704 - accuracy: 0.9430 - val_loss: 2.1276 - val_accuracy: 0.8485\n",
      "Epoch 16/20\n",
      "9/9 [==============================] - 0s 47ms/step - loss: 0.8704 - accuracy: 0.9430 - val_loss: 2.1276 - val_accuracy: 0.8485\n",
      "Epoch 17/20\n",
      "9/9 [==============================] - 0s 52ms/step - loss: 0.8704 - accuracy: 0.9430 - val_loss: 2.1276 - val_accuracy: 0.8485\n",
      "Epoch 18/20\n",
      "9/9 [==============================] - 0s 47ms/step - loss: 0.8704 - accuracy: 0.9430 - val_loss: 2.1276 - val_accuracy: 0.8485\n",
      "Epoch 19/20\n",
      "9/9 [==============================] - 0s 47ms/step - loss: 0.8704 - accuracy: 0.9430 - val_loss: 2.1276 - val_accuracy: 0.8485\n",
      "Epoch 20/20\n",
      "9/9 [==============================] - 0s 49ms/step - loss: 0.8704 - accuracy: 0.9430 - val_loss: 2.1276 - val_accuracy: 0.8485\n"
     ]
    }
   ],
   "source": [
    "jude = model_output(jude_s1,jude_s11)"
   ]
  },
  {
   "cell_type": "code",
   "execution_count": null,
   "metadata": {
    "colab": {
     "base_uri": "https://localhost:8080/"
    },
    "id": "A3QLrcnTzWuw",
    "outputId": "44cc76f2-e025-4e1e-fde4-c32443cdc285"
   },
   "outputs": [
    {
     "name": "stdout",
     "output_type": "stream",
     "text": [
      "Epoch 1/20\n",
      "59/59 [==============================] - 5s 78ms/step - loss: 1.1208 - accuracy: 0.8800 - val_loss: 0.9162 - val_accuracy: 0.9110\n",
      "Epoch 2/20\n",
      "59/59 [==============================] - 3s 52ms/step - loss: 0.6893 - accuracy: 0.9193 - val_loss: 0.9386 - val_accuracy: 0.8983\n",
      "Epoch 3/20\n",
      "59/59 [==============================] - 3s 54ms/step - loss: 0.6316 - accuracy: 0.9321 - val_loss: 0.8110 - val_accuracy: 0.8941\n",
      "Epoch 4/20\n",
      "59/59 [==============================] - 3s 54ms/step - loss: 0.4885 - accuracy: 0.9528 - val_loss: 1.1377 - val_accuracy: 0.8941\n",
      "Epoch 5/20\n",
      "59/59 [==============================] - 3s 54ms/step - loss: 0.4846 - accuracy: 0.9554 - val_loss: 0.9209 - val_accuracy: 0.9068\n",
      "Epoch 6/20\n",
      "59/59 [==============================] - 3s 53ms/step - loss: 0.4452 - accuracy: 0.9644 - val_loss: 0.8306 - val_accuracy: 0.8898\n",
      "Epoch 7/20\n",
      "59/59 [==============================] - 3s 52ms/step - loss: 0.4075 - accuracy: 0.9692 - val_loss: 0.8884 - val_accuracy: 0.8919\n",
      "Epoch 8/20\n",
      "59/59 [==============================] - 3s 52ms/step - loss: 0.3883 - accuracy: 0.9628 - val_loss: 0.9897 - val_accuracy: 0.8941\n",
      "Epoch 9/20\n",
      "59/59 [==============================] - 3s 52ms/step - loss: 0.3307 - accuracy: 0.9745 - val_loss: 0.9577 - val_accuracy: 0.9025\n",
      "Epoch 10/20\n",
      "59/59 [==============================] - 3s 52ms/step - loss: 0.3089 - accuracy: 0.9772 - val_loss: 0.8968 - val_accuracy: 0.9089\n",
      "Epoch 11/20\n",
      "59/59 [==============================] - 3s 52ms/step - loss: 0.3069 - accuracy: 0.9782 - val_loss: 0.7965 - val_accuracy: 0.9089\n",
      "Epoch 12/20\n",
      "59/59 [==============================] - 3s 54ms/step - loss: 0.3188 - accuracy: 0.9761 - val_loss: 1.1738 - val_accuracy: 0.8983\n",
      "Epoch 13/20\n",
      "59/59 [==============================] - 3s 53ms/step - loss: 0.3149 - accuracy: 0.9782 - val_loss: 0.9299 - val_accuracy: 0.8983\n",
      "Epoch 14/20\n",
      "59/59 [==============================] - 3s 54ms/step - loss: 0.3037 - accuracy: 0.9788 - val_loss: 1.1178 - val_accuracy: 0.8983\n",
      "Epoch 15/20\n",
      "59/59 [==============================] - 3s 52ms/step - loss: 0.3052 - accuracy: 0.9772 - val_loss: 1.0736 - val_accuracy: 0.8856\n",
      "Epoch 16/20\n",
      "59/59 [==============================] - 3s 51ms/step - loss: 0.2974 - accuracy: 0.9777 - val_loss: 1.4130 - val_accuracy: 0.8771\n",
      "Epoch 17/20\n",
      "59/59 [==============================] - 3s 53ms/step - loss: 0.2913 - accuracy: 0.9788 - val_loss: 1.0580 - val_accuracy: 0.8941\n",
      "Epoch 18/20\n",
      "59/59 [==============================] - 3s 53ms/step - loss: 0.2743 - accuracy: 0.9804 - val_loss: 1.1570 - val_accuracy: 0.8856\n",
      "Epoch 19/20\n",
      "59/59 [==============================] - 3s 53ms/step - loss: 0.2815 - accuracy: 0.9798 - val_loss: 1.2790 - val_accuracy: 0.8814\n",
      "Epoch 20/20\n",
      "59/59 [==============================] - 3s 53ms/step - loss: 0.2738 - accuracy: 0.9798 - val_loss: 1.0858 - val_accuracy: 0.9025\n"
     ]
    }
   ],
   "source": [
    "paul = model_output(pl_s1,pl_s11)"
   ]
  },
  {
   "cell_type": "code",
   "execution_count": null,
   "metadata": {
    "id": "wKeSVBQLzWuw"
   },
   "outputs": [],
   "source": [
    "au_loss = {'Matthew_book':matthewbook.history['loss'],'Mark_book':markbook.history['loss'],'Luke_book':lukebook.history['loss'],'John_book':johnbook.history['loss'],\n",
    "           'Paul_book':paul.history['loss'],'James_book':jams.history['loss'],'Jude_book':jude.history['loss'],'Peter_book':peter.history['loss']}\n",
    "tyndale_loss = DataFrame(au_loss)\n",
    "\n",
    "au_val_loss = {'Matthew_book':matthewbook.history['val_loss'],'Mark_book':markbook.history['val_loss'],'Luke_book':lukebook.history['val_loss'],'John_book':johnbook.history['val_loss'],\n",
    "           'Paul_book':paul.history['val_loss'],'James_book':jams.history['val_loss'],'Jude_book':jude.history['val_loss'],'Peter_book':peter.history['val_loss']}\n",
    "tyndale_val_loss = DataFrame(au_val_loss)\n",
    "\n",
    "au_accuracy = {'Matthew_book':matthewbook.history['accuracy'],'Mark_book':markbook.history['accuracy'],'Luke_book':lukebook.history['accuracy'],'John_book':johnbook.history['accuracy'],\n",
    "           'Paul_book':paul.history['accuracy'],'James_book':jams.history['accuracy'],'Jude_book':jude.history['accuracy'],'Peter_book':peter.history['accuracy']}\n",
    "tyndale_accuracy = DataFrame(au_accuracy)\n",
    "\n",
    "au_val_accuracy = {'Matthew_book':matthewbook.history['val_accuracy'],'Mark_book':markbook.history['val_accuracy'],'Luke_book':lukebook.history['val_accuracy'],'John_book':johnbook.history['val_accuracy'],\n",
    "           'Paul_book':paul.history['val_accuracy'],'James_book':jams.history['val_accuracy'],'Jude_book':jude.history['val_accuracy'],'Peter_book':peter.history['val_accuracy']}\n",
    "tyndale_val_accuracy = DataFrame(au_val_accuracy)"
   ]
  },
  {
   "cell_type": "code",
   "execution_count": null,
   "metadata": {
    "id": "1jhcNkLBzWuw"
   },
   "outputs": [],
   "source": [
    "tyndale_loss.to_excel('spacy author tyndale LOSS.xlsx',encoding = 'utf-8', index = False)\n",
    "tyndale_accuracy.to_excel('spacy author tyndale ACCURACY.xlsx',encoding = 'utf-8', index = False)  \n",
    "tyndale_val_loss.to_excel('spacy author tyndale VALIDATION LOSS.xlsx',encoding = 'utf-8', index = False)  \n",
    "tyndale_val_accuracy.to_excel('spacy author tyndale VALIDATION ACCURACY.xlsx',encoding = 'utf-8', index = False)  "
   ]
  },
  {
   "cell_type": "code",
   "execution_count": null,
   "metadata": {
    "colab": {
     "base_uri": "https://localhost:8080/",
     "height": 295
    },
    "id": "-sOhaXvEzWuw",
    "outputId": "cb805310-0fd6-4dec-cac6-97e3b6b8ef63"
   },
   "outputs": [
    {
     "data": {
      "image/png": "[encoded data removed]",
      "text/plain": [
       "<Figure size 432x288 with 1 Axes>"
      ]
     },
     "metadata": {
      "needs_background": "light",
      "tags": []
     },
     "output_type": "display_data"
    }
   ],
   "source": [
    "matthewvac = matthewbook.history['val_accuracy']\n",
    "markvac = markbook.history['val_accuracy']\n",
    "lukevac = lukebook.history['val_accuracy']\n",
    "johnvac = johnbook.history['val_accuracy']\n",
    "paulvac = paul.history['val_accuracy']\n",
    "petervac = peter.history['val_accuracy']\n",
    "judevac = jude.history['val_accuracy']\n",
    "jamesvac = jams.history['val_accuracy']\n",
    "\n",
    "epochs = range(1, len(matvac) + 1)\n",
    "\n",
    "plt.plot(epochs, matthewvac, 'b', label='matthew')\n",
    "plt.plot(epochs, markvac, 'r', label='mark')\n",
    "plt.plot(epochs, lukevac, 'y', label='luke')\n",
    "plt.plot(epochs, johnvac, 'g', label='john')\n",
    "plt.plot(epochs, paulvac, 'coral', label='paul')\n",
    "plt.plot(epochs, petervac, 'm', label='peter')\n",
    "plt.plot(epochs, judevac, 'c', label='jude')\n",
    "plt.plot(epochs, jamesvac, 'k', label='james')\n",
    "\n",
    "plt.title('tyndale writing style validation accuracy author')\n",
    "plt.xlabel('Epochs')\n",
    "plt.ylabel('Loss')\n",
    "plt.legend()\n",
    "\n",
    "plt.show()"
   ]
  }
 ],
 "metadata": {
  "colab": {
   "name": "SpacyRNN.ipynb",
   "provenance": []
  },
  "kernelspec": {
   "display_name": "Python 3",
   "language": "python",
   "name": "python3"
  },
  "language_info": {
   "codemirror_mode": {
    "name": "ipython",
    "version": 3
   },
   "file_extension": ".py",
   "mimetype": "text/x-python",
   "name": "python",
   "nbconvert_exporter": "python",
   "pygments_lexer": "ipython3",
   "version": "3.7.3"
  }
 },
 "nbformat": 4,
 "nbformat_minor": 1
}
