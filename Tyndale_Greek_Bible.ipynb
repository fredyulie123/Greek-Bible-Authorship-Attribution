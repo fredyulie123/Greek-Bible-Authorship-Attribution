{
 "cells": [
  {
   "cell_type": "code",
   "execution_count": 1,
   "metadata": {},
   "outputs": [],
   "source": [
    "from selenium import webdriver\n",
    "from selenium.webdriver.chrome.options import Options\n",
    "import random\n",
    "import re\n",
    "import requests\n",
    "from selenium import webdriver\n",
    "from bs4 import BeautifulSoup\n",
    "from selenium.webdriver import Chrome\n",
    "import time\n",
    "import json\n",
    "from selenium.webdriver.common.by import By\n",
    "from selenium.webdriver.support.ui import Select\n",
    "from selenium.webdriver.common.action_chains import ActionChains\n",
    "from selenium.common.exceptions import NoSuchElementException\n",
    "from selenium.webdriver.support import expected_conditions\n",
    "from selenium.webdriver.support.wait import WebDriverWait\n",
    "from selenium.webdriver.common.keys import Keys\n",
    "from selenium.webdriver.common.desired_capabilities import DesiredCapabilities\n",
    "import pytest\n",
    "import os\n",
    "import pandas as pd\n"
   ]
  },
  {
   "cell_type": "code",
   "execution_count": 2,
   "metadata": {},
   "outputs": [],
   "source": [
    "Bookname = ['Matthew','Mark','Luke','John','Acts','Romans','1+Corinthians','2+Corinthians','Galatians','Ephesians','Philippians','Colossians','1+Thessalonians','2+Thessalonians','1+Timothy','2+Timothy','Titus','Philemon','Hebrews','James','1+Peter','2+Peter','1+John','2+John','3+John','Jude','Revelation']\n",
    "Booknum = [28,16,24,21,28,16,16,13,6,6,4,4,5,3,6,4,3,1,13,5,5,3,5,1,1,1,22]"
   ]
  },
  {
   "cell_type": "code",
   "execution_count": 3,
   "metadata": {},
   "outputs": [],
   "source": [
    "l = list(range(0,100))\n",
    "l1 = list(str(x) for x in l)"
   ]
  },
  {
   "cell_type": "code",
   "execution_count": 4,
   "metadata": {},
   "outputs": [],
   "source": [
    "NT = []\n",
    "k = 1\n",
    "driver = Chrome(\"C:\\Program Files\\Google\\Chrome\\Application\\chromedriver.exe\")\n",
    "\n",
    "driver.get('https://www.esv.org/Matthew+1/')\n",
    "driver.set_window_size(1368, 872)\n",
    "driver.find_element(By.CSS_SELECTOR, \"body > div.tour > div > button.tour-button-close > a\").click()\n",
    "time.sleep(0.2)\n",
    "driver.find_element(By.CSS_SELECTOR, \".library-container:nth-child(8) > .library-cover:nth-child(1)\").click()\n",
    "time.sleep(0.2)\n",
    "dropdown = driver.find_element(By.ID, \"language\")\n",
    "dropdown.find_element(By.XPATH, \"//option[. = 'Original Language']\").click()\n",
    "driver.find_element(By.ID, \"language\").click()\n",
    "time.sleep(0.2)\n",
    "driver.find_element(By.ID, \"column-layout-button\").click()\n",
    "time.sleep(0.2)\n",
    "driver.find_element(By.CSS_SELECTOR, \".columns-icon-single\").click() \n",
    "time.sleep(0.2)\n",
    "driver.find_element(By.CSS_SELECTOR, \".bible-column\").click()\n",
    "time.sleep(0.2)\n",
    "\n",
    "while k <= 260:\n",
    "    time.sleep(.2)\n",
    "    soup = BeautifulSoup(driver.page_source, 'lxml')\n",
    "    time.sleep(.2)\n",
    "    contents = soup.find('div',{'class':re.compile('esv greek lang-grc ltr passage structures text thgnt thgnt-greek-only tokens verses')})\n",
    "    time.sleep(.2)\n",
    "    header = soup.find('header',{'id':re.compile('bible-header')})\n",
    "    time.sleep(.2)\n",
    "    title = header.text.strip()\n",
    "    alltexts = contents.text.strip()\n",
    "    texts = alltexts.split('\\n')\n",
    "    newlist = []\n",
    "    for text in texts:\n",
    "        try:\n",
    "            verse = text.split('\\xa0')\n",
    "            newlist.append(verse)\n",
    "        except:\n",
    "            newlist.append(text)\n",
    "    newlist1 = []\n",
    "    for factor in newlist:\n",
    "        for char in factor:\n",
    "            if len(char) > 2:\n",
    "                newlist1.append(char)\n",
    "\n",
    "    for index in range(1,len(newlist1)):\n",
    "        last_word = newlist1[index].split()[-1]\n",
    "        if last_word in l1:\n",
    "            ch1 = newlist1[index].strip(last_word)\n",
    "            NT.append([title,ch1])\n",
    "        else:\n",
    "            NT.append([title,newlist1[index]])\n",
    "    try:\n",
    "        move = driver.find_element(By.CSS_SELECTOR, \"#bible-content\")\n",
    "        action = ActionChains(driver)\n",
    "        action.move_to_element(move)\n",
    "        time.sleep(0.5)\n",
    "        targetElem = driver.find_element(By.CSS_SELECTOR, \"#bible-content > nav > ul > li.next-chapter\")\n",
    "        driver.execute_script(\"arguments[0].scrollIntoView();\", targetElem)\n",
    "        time.sleep(.5)\n",
    "        driver.find_element(By.CSS_SELECTOR, \"#bible-content > nav > ul > li.next-chapter\").click()\n",
    "        time.sleep(3)\n",
    "        k += 1\n",
    "    except:\n",
    "        break"
   ]
  },
  {
   "cell_type": "code",
   "execution_count": 5,
   "metadata": {},
   "outputs": [
    {
     "data": {
      "text/plain": [
       "['22\\xa0Καὶ ἔδειξέν μοι ποταμὸν ὕδατος ζωῆς, λαμπρὸν ὡς κρύσταλλον, ἐκπορευόμενον ἐκ τοῦ θρόνου τοῦ θεοῦ καὶ τοῦ ἀρνίου. 2\\xa0ἐν μέσῳ τῆς πλατείας αὐτῆς καὶ τοῦ ποταμοῦ, ἐντεῦθεν καὶ ἐκεῖθεν, ξύλον ζωῆς ποιοῦν καρποὺς δώδεκα, κατὰ μῆνα ἕκαστον ἀποδιδοὺς τὸν καρπὸν αὐτοῦ, καὶ τὰ φύλλα τοῦ ξύλου εἰς θεραπείαν τῶν ἐθνῶν. 3\\xa0καὶ πᾶν κατάθεμα οὐκ ἔσται ἔτι, καὶ ὁ θρόνος τοῦ θεοῦ καὶ τοῦ ἀρνίου ἐν αὐτῇ ἔσται, καὶ οἱ δοῦλοι αὐτοῦ λατρεύσουσιν αὐτῷ 4\\xa0καὶ ὄψονται τὸ πρόσωπον αὐτοῦ, καὶ τὸ ὄνομα αὐτοῦ ἐπὶ τῶν μετώπων αὐτῶν. 5\\xa0καὶ νὺξ οὐκ ἔσται ἔτι, καὶ οὐκ ἔχουσιν χρείαν φωτὸς λύχνου καὶ φωτὸς ἡλίου ὅτι κύριος ὁ θεὸς φωτίσει ἐπ᾽ αὐτούς. καὶ βασιλεύσουσιν εἰς τοὺς αἰῶνας τῶν αἰώνων.',\n",
       " '6\\xa0Καὶ εἶπέν μοι· οὗτοι οἱ λόγοι πιστοὶ καὶ ἀληθινοί, καὶ ὁ κύριος ὁ θεὸς τῶν πνευμάτων τῶν προφητῶν ἀπέστειλεν τὸν ἄγγελον αὐτοῦ δεῖξαι τοῖς δούλοις αὐτοῦ ἃ δεῖ γενέσθαι ἐν τάχει. 7\\xa0καὶ ἰδοὺ ἔρχομαι ταχύ. μακάριος ὁ τηρῶν τοὺς λόγους τῆς προφητείας τοῦ βιβλίου τούτου. 8\\xa0κἀγὼ Ἰωάννης ὁ ἀκούων καὶ βλέπων ταῦτα· καὶ ὅτε ἤκουσα καὶ ἔβλεψα, ἔπεσα προσκυνῆσαι ἔμπροσθεν τῶν ποδῶν τοῦ ἀγγέλου τοῦ δεικνύοντός μοι ταῦτα. 9\\xa0καὶ λέγει μοι· ὅρα μή, σύνδουλός σου εἰμὶ καὶ τῶν ἀδελφῶν σου τῶν προφητῶν καὶ τῶν τηρούντων τοὺς λόγους τοῦ βιβλίου τούτου· τῷ θεῷ προσκύνησον.',\n",
       " '10\\xa0Καὶ λέγει μοι· μὴ σφραγίσῃς τοὺς λόγους τῆς προφητείας τοῦ βιβλίου τούτου, ὁ καιρὸς γὰρ ἐγγύς ἐστιν. 11\\xa0ὁ ἀδικῶν ἀδικησάτω ἔτι, καὶ ὁ ῥυπαρὸς ῥυπανθήτω ἔτι, καὶ ὁ δίκαιος δικαιοσύνην ποιησάτω ἔτι· καὶ ὁ ἅγιος ἁγιασθήτω ἔτι. 12\\xa0ἰδοὺ ἔρχομαι ταχύ, καὶ ὁ μισθός μου μετ᾽ ἐμοῦ ἀποδοῦναι ἑκάστῳ ὡς τὸ ἔργον ἐστὶν αὐτοῦ. 13\\xa0ἐγὼ τὸ ἄλφα καὶ τὸ ὦ, ὁ πρῶτος καὶ ὁ ἔσχατος, ἡ ἀρχὴ καὶ τὸ τέλος.',\n",
       " '14\\xa0Μακάριοι οἱ πλύνοντες τὰς στολὰς αὐτῶν, ἵνα ἔσται ἡ ἐξουσία αὐτῶν ἐπὶ τὸ ξύλον τῆς ζωῆς, καὶ τοῖς πυλῶσιν εἰσέλθωσιν εἰς τὴν πόλιν.',\n",
       " '15\\xa0Ἔξω οἱ κύνες καὶ οἱ φάρμακοι καὶ οἱ πόρνοι καὶ οἱ φονεῖς καὶ οἱ εἰδωλολάτραι καὶ πᾶς φιλῶν καὶ ποιῶν ψεῦδος.',\n",
       " '16\\xa0Ἐγὼ Ἰησοῦς ἔπεμψα τὸν ἄγγελόν μου μαρτυρῆσαι ὑμῖν ταῦτα ἐπὶ ταῖς ἐκκλησίαις. ἐγώ εἰμι ἡ ῥίζα καὶ τὸ γένος Δαυίδ, ὁ ἀστὴρ ὁ λαμπρὸς ὁ πρωϊνός. 17\\xa0καὶ τὸ πνεῦμα καὶ ἡ νύμφη λέγουσιν· ἔρχου. καὶ ὁ ἀκούων εἰπάτω· ἔρχου. καὶ ὁ διψῶν ἐρχέσθω, ὁ θέλων λαβέτω ὕδωρ ζωῆς δωρεάν.',\n",
       " '18\\xa0Μαρτυρῶ ἐγὼ παντὶ τῷ ἀκούοντι τοὺς λόγους τῆς προφητείας τοῦ βιβλίου τούτου· ἐάν τις ἐπιθῇ ἐπ᾽ αὐτά, ἐπιθήσει ἐπ᾽ αὐτὸν ὁ θεὸς τὰς πληγὰς τὰς γεγραμμένας ἐν τῷ βιβλίῳ τούτῳ. 19\\xa0καὶ ἐάν τις ἀφέλῃ ἀπὸ τῶν λόγων τοῦ βιβλίου τῆς προφητείας ταύτης, ἀφελεῖ ὁ θεὸς τὸ μέρος αὐτοῦ ἀπὸ τοῦ ξύλου τῆς ζωῆς καὶ ἐκ τῆς πόλεως τῆς ἁγίας, τῶν γεγραμμένων ἐν τῷ βιβλίῳ τούτῳ.',\n",
       " '20\\xa0Λέγει ὁ μαρτυρῶν ταῦτα· ναὶ ἔρχομαι ταχύ· ἀμήν. ἔρχου, κύριε Ἰησοῦ.',\n",
       " '21\\xa0Ἡ χάρις τοῦ κυρίου Ἰησοῦ μετὰ τῶν ἁγίων. ἀμήν.']"
      ]
     },
     "execution_count": 5,
     "metadata": {},
     "output_type": "execute_result"
    }
   ],
   "source": [
    "texts"
   ]
  },
  {
   "cell_type": "code",
   "execution_count": 6,
   "metadata": {},
   "outputs": [
    {
     "name": "stdout",
     "output_type": "stream",
     "text": [
      "7762\n"
     ]
    }
   ],
   "source": [
    "print(len(NT))"
   ]
  },
  {
   "cell_type": "code",
   "execution_count": 7,
   "metadata": {},
   "outputs": [],
   "source": [
    "with open ('Tyndale_Greek_1.csv', mode='w', encoding='utf-16') as f:\n",
    "    for text in NT:\n",
    "        f.write(text[0] + '\\t' + text[1] + '\\n')"
   ]
  },
  {
   "cell_type": "code",
   "execution_count": null,
   "metadata": {},
   "outputs": [],
   "source": []
  },
  {
   "cell_type": "code",
   "execution_count": null,
   "metadata": {},
   "outputs": [],
   "source": []
  },
  {
   "cell_type": "code",
   "execution_count": null,
   "metadata": {},
   "outputs": [],
   "source": []
  },
  {
   "cell_type": "code",
   "execution_count": null,
   "metadata": {},
   "outputs": [],
   "source": []
  },
  {
   "cell_type": "code",
   "execution_count": null,
   "metadata": {},
   "outputs": [],
   "source": []
  }
 ],
 "metadata": {
  "kernelspec": {
   "display_name": "Python 3",
   "language": "python",
   "name": "python3"
  },
  "language_info": {
   "codemirror_mode": {
    "name": "ipython",
    "version": 3
   },
   "file_extension": ".py",
   "mimetype": "text/x-python",
   "name": "python",
   "nbconvert_exporter": "python",
   "pygments_lexer": "ipython3",
   "version": "3.7.3"
  }
 },
 "nbformat": 4,
 "nbformat_minor": 2
}
